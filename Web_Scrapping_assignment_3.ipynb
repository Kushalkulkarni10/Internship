{
 "cells": [
  {
   "cell_type": "markdown",
   "id": "8ac3bbec",
   "metadata": {},
   "source": [
    "# Web_Scrapping_assignment_3"
   ]
  },
  {
   "cell_type": "markdown",
   "id": "475e5d07",
   "metadata": {},
   "source": [
    "Q1) Write a python program which searches all the product under a particular product from www.amazon.in. The\n",
    "product to be searched will be taken as input from user. For e.g. If user input is ‘guitar’. Then search for\n",
    "guitars. "
   ]
  },
  {
   "cell_type": "code",
   "execution_count": 1,
   "id": "e0d48bd2",
   "metadata": {},
   "outputs": [],
   "source": [
    "from bs4 import BeautifulSoup\n",
    "import selenium\n",
    "from selenium import webdriver\n",
    "import pandas as pd\n",
    "import warnings\n",
    "warnings.filterwarnings('ignore')\n",
    "from selenium.webdriver.common.by import By\n",
    "import time\n",
    "from selenium.common.exceptions import NoSuchElementException"
   ]
  },
  {
   "cell_type": "code",
   "execution_count": 2,
   "id": "07c40599",
   "metadata": {},
   "outputs": [],
   "source": [
    "driver = webdriver.Chrome(r'C:\\Users\\Kushal Kulkarni\\Downloads\\chromedriver.exe')"
   ]
  },
  {
   "cell_type": "code",
   "execution_count": 3,
   "id": "e04c72f5",
   "metadata": {},
   "outputs": [],
   "source": [
    "driver.get('https://www.amazon.com/')"
   ]
  },
  {
   "cell_type": "code",
   "execution_count": 4,
   "id": "a7bee1b5",
   "metadata": {},
   "outputs": [
    {
     "name": "stdout",
     "output_type": "stream",
     "text": [
      "Enter any product nameCricket Ball\n"
     ]
    }
   ],
   "source": [
    "search_option = driver.find_element(By.XPATH,'/html/body/div[1]/div[1]/div/div[2]/form/div/div/input')\n",
    "search_option.send_keys(input('Enter any product name'))"
   ]
  },
  {
   "cell_type": "code",
   "execution_count": 5,
   "id": "00f29bc8",
   "metadata": {},
   "outputs": [],
   "source": [
    "search_button = driver.find_element(By.XPATH,'/html/body/div[1]/div[1]/div/div[2]/form/input')\n",
    "search_button.click()"
   ]
  },
  {
   "cell_type": "markdown",
   "id": "0fd7a4ad",
   "metadata": {},
   "source": [
    "Q2) In the above question, now scrape the following details of each product listed in first 3 pages of your search\n",
    "results and save it in a data frame and csv. In case if any product has less than 3 pages in search results then\n",
    "scrape all the products available under that product name. Details to be scraped are: \"Brand\n",
    "Name\", \"Name of the Product\", \"Price\", \"Return/Exchange\", \"Expected Delivery\", \"Availability\" and\n",
    "“Product URL”. In case, if any of the details are missing for any of the product then replace it by “-“."
   ]
  },
  {
   "cell_type": "code",
   "execution_count": 6,
   "id": "3dec985c",
   "metadata": {},
   "outputs": [],
   "source": [
    "Brand_name = []\n",
    "Price = []\n",
    "Return = []\n",
    "Availability = []\n",
    "Url = []\n",
    "\n",
    "start = 0\n",
    "end = 3\n",
    "\n",
    "for page in range(start,end):\n",
    "    url = driver.find_elements(By.XPATH,'//a[@class=\"a-link-normal s-underline-text s-underline-link-text s-link-style a-text-normal\"]')\n",
    "    for i in url[0:10]:\n",
    "        Url.append(i.get_attribute('href'))\n",
    "    next_button = driver.find_elements(By.XPATH,'//span[@class=\"s-pagination-item s-pagination-previous s-pagination-disabled \"]')"
   ]
  },
  {
   "cell_type": "code",
   "execution_count": 7,
   "id": "98f5f5e7",
   "metadata": {},
   "outputs": [
    {
     "data": {
      "text/plain": [
       "30"
      ]
     },
     "execution_count": 7,
     "metadata": {},
     "output_type": "execute_result"
    }
   ],
   "source": [
    "len(Url)"
   ]
  },
  {
   "cell_type": "code",
   "execution_count": 8,
   "id": "86343cd4",
   "metadata": {},
   "outputs": [],
   "source": [
    "for i in Url:\n",
    "    driver.get(i)\n",
    "    time.sleep(5)\n",
    "    try:\n",
    "        B = driver.find_element(By.XPATH,'/html/body/div[1]/div[2]/div[9]/div[3]/div[4]/div[36]/div/table/tbody/tr[1]/td[2]/span')\n",
    "        Brand_name.append(B.text)\n",
    "    except NoSuchElementException:\n",
    "        Brand_name.append('Not Present')\n",
    "        \n",
    "for i in Url:\n",
    "    driver.get(i)\n",
    "    time.sleep(5)\n",
    "    try:\n",
    "        P = driver.find_element(By.XPATH,'/html/body/div[1]/div[2]/div[9]/div[3]/div[4]/div[11]/div[3]/div[1]/span[1]/span[1]')\n",
    "        Price.append(P.text)\n",
    "    except NoSuchElementException:\n",
    "        Price.append('Not Present')\n",
    "\n",
    "for i in Url:\n",
    "    driver.get(i)\n",
    "    time.sleep(5)\n",
    "    try:\n",
    "        R = driver.find_element(By.XPATH,'/html/body/div[1]/div[2]/div[9]/div[3]/div[1]/div[5]/div/div[1]/div/div/div/form/div/div/div/div/div[3]/div/div[16]/div[1]/div[1]/div[8]/span')\n",
    "        Return.append(R.text)\n",
    "    except NoSuchElementException:\n",
    "        Return.append('Not Present')\n",
    "        \n",
    "for i in Url:\n",
    "    driver.get(i)\n",
    "    time.sleep(5)\n",
    "    try:\n",
    "        A = driver.find_element(By.XPATH,'/html/body/div[1]/div[2]/div[9]/div[3]/div[1]/div[5]/div/div[1]/div/div/div/form/div/div/div/div/div[3]/div/div[4]/div/div[1]')\n",
    "        Availability.append(A.text)\n",
    "    except NoSuchElementException:\n",
    "        Availability.append('Not Present')"
   ]
  },
  {
   "cell_type": "code",
   "execution_count": 9,
   "id": "629ffb79",
   "metadata": {},
   "outputs": [
    {
     "data": {
      "text/plain": [
       "(30, 30, 30, 30)"
      ]
     },
     "execution_count": 9,
     "metadata": {},
     "output_type": "execute_result"
    }
   ],
   "source": [
    "len(Brand_name),len(Price),len(Return),len(Availability)"
   ]
  },
  {
   "cell_type": "code",
   "execution_count": 10,
   "id": "0c6327fb",
   "metadata": {},
   "outputs": [
    {
     "data": {
      "text/plain": [
       "['Cricnix',\n",
       " 'Mozi Sports',\n",
       " 'NIVIA',\n",
       " 'NIVIA',\n",
       " 'AnNafi',\n",
       " 'NIVIA',\n",
       " 'Mozi Sports',\n",
       " 'NIVIA',\n",
       " 'Cricnix',\n",
       " 'Generic',\n",
       " 'Cricnix',\n",
       " 'Mozi Sports',\n",
       " 'NIVIA',\n",
       " 'NIVIA',\n",
       " 'AnNafi',\n",
       " 'NIVIA',\n",
       " 'Mozi Sports',\n",
       " 'NIVIA',\n",
       " 'Cricnix',\n",
       " 'Generic',\n",
       " 'Cricnix',\n",
       " 'Mozi Sports',\n",
       " 'NIVIA',\n",
       " 'NIVIA',\n",
       " 'AnNafi',\n",
       " 'NIVIA',\n",
       " 'Mozi Sports',\n",
       " 'NIVIA',\n",
       " 'Cricnix',\n",
       " 'Generic']"
      ]
     },
     "execution_count": 10,
     "metadata": {},
     "output_type": "execute_result"
    }
   ],
   "source": [
    "Brand_name"
   ]
  },
  {
   "cell_type": "code",
   "execution_count": 11,
   "id": "ed8e98ec",
   "metadata": {},
   "outputs": [
    {
     "data": {
      "text/plain": [
       "['Eligible for Return, Refund or Replacement within 30 days of receipt',\n",
       " 'Eligible for Return, Refund or Replacement within 30 days of receipt',\n",
       " 'Not Present',\n",
       " 'Eligible for Return, Refund or Replacement within 30 days of receipt',\n",
       " 'Eligible for Return, Refund or Replacement within 30 days of receipt',\n",
       " 'Not Present',\n",
       " 'Eligible for Return, Refund or Replacement within 30 days of receipt',\n",
       " 'Eligible for Return, Refund or Replacement within 30 days of receipt',\n",
       " 'Not Present',\n",
       " 'Eligible for Return, Refund or Replacement within 30 days of receipt',\n",
       " 'Eligible for Return, Refund or Replacement within 30 days of receipt',\n",
       " 'Eligible for Return, Refund or Replacement within 30 days of receipt',\n",
       " 'Not Present',\n",
       " 'Eligible for Return, Refund or Replacement within 30 days of receipt',\n",
       " 'Eligible for Return, Refund or Replacement within 30 days of receipt',\n",
       " 'Not Present',\n",
       " 'Eligible for Return, Refund or Replacement within 30 days of receipt',\n",
       " 'Eligible for Return, Refund or Replacement within 30 days of receipt',\n",
       " 'Not Present',\n",
       " 'Eligible for Return, Refund or Replacement within 30 days of receipt',\n",
       " 'Eligible for Return, Refund or Replacement within 30 days of receipt',\n",
       " 'Eligible for Return, Refund or Replacement within 30 days of receipt',\n",
       " 'Not Present',\n",
       " 'Eligible for Return, Refund or Replacement within 30 days of receipt',\n",
       " 'Eligible for Return, Refund or Replacement within 30 days of receipt',\n",
       " 'Not Present',\n",
       " 'Eligible for Return, Refund or Replacement within 30 days of receipt',\n",
       " 'Eligible for Return, Refund or Replacement within 30 days of receipt',\n",
       " 'Not Present',\n",
       " 'Eligible for Return, Refund or Replacement within 30 days of receipt']"
      ]
     },
     "execution_count": 11,
     "metadata": {},
     "output_type": "execute_result"
    }
   ],
   "source": [
    "Return"
   ]
  },
  {
   "cell_type": "code",
   "execution_count": 12,
   "id": "b10daa66",
   "metadata": {},
   "outputs": [
    {
     "data": {
      "text/plain": [
       "(30, 30, 30, 30)"
      ]
     },
     "execution_count": 12,
     "metadata": {},
     "output_type": "execute_result"
    }
   ],
   "source": [
    "len(Brand_name),len(Price),len(Return),len(Availability)"
   ]
  },
  {
   "cell_type": "code",
   "execution_count": 13,
   "id": "afdc0d6e",
   "metadata": {},
   "outputs": [
    {
     "data": {
      "text/html": [
       "<div>\n",
       "<style scoped>\n",
       "    .dataframe tbody tr th:only-of-type {\n",
       "        vertical-align: middle;\n",
       "    }\n",
       "\n",
       "    .dataframe tbody tr th {\n",
       "        vertical-align: top;\n",
       "    }\n",
       "\n",
       "    .dataframe thead th {\n",
       "        text-align: right;\n",
       "    }\n",
       "</style>\n",
       "<table border=\"1\" class=\"dataframe\">\n",
       "  <thead>\n",
       "    <tr style=\"text-align: right;\">\n",
       "      <th></th>\n",
       "      <th>Brand_name</th>\n",
       "      <th>Price</th>\n",
       "      <th>Return</th>\n",
       "      <th>Availability</th>\n",
       "    </tr>\n",
       "  </thead>\n",
       "  <tbody>\n",
       "    <tr>\n",
       "      <th>0</th>\n",
       "      <td>Cricnix</td>\n",
       "      <td></td>\n",
       "      <td>Eligible for Return, Refund or Replacement wit...</td>\n",
       "      <td>Temporarily out of stock.\\nWe are working hard...</td>\n",
       "    </tr>\n",
       "    <tr>\n",
       "      <th>1</th>\n",
       "      <td>Mozi Sports</td>\n",
       "      <td></td>\n",
       "      <td>Eligible for Return, Refund or Replacement wit...</td>\n",
       "      <td>In Stock</td>\n",
       "    </tr>\n",
       "    <tr>\n",
       "      <th>2</th>\n",
       "      <td>NIVIA</td>\n",
       "      <td>Not Present</td>\n",
       "      <td>Not Present</td>\n",
       "      <td>Not Present</td>\n",
       "    </tr>\n",
       "    <tr>\n",
       "      <th>3</th>\n",
       "      <td>NIVIA</td>\n",
       "      <td>Not Present</td>\n",
       "      <td>Eligible for Return, Refund or Replacement wit...</td>\n",
       "      <td>In Stock</td>\n",
       "    </tr>\n",
       "    <tr>\n",
       "      <th>4</th>\n",
       "      <td>AnNafi</td>\n",
       "      <td></td>\n",
       "      <td>Eligible for Return, Refund or Replacement wit...</td>\n",
       "      <td></td>\n",
       "    </tr>\n",
       "    <tr>\n",
       "      <th>5</th>\n",
       "      <td>NIVIA</td>\n",
       "      <td>Not Present</td>\n",
       "      <td>Not Present</td>\n",
       "      <td>Not Present</td>\n",
       "    </tr>\n",
       "    <tr>\n",
       "      <th>6</th>\n",
       "      <td>Mozi Sports</td>\n",
       "      <td></td>\n",
       "      <td>Eligible for Return, Refund or Replacement wit...</td>\n",
       "      <td>In Stock</td>\n",
       "    </tr>\n",
       "    <tr>\n",
       "      <th>7</th>\n",
       "      <td>NIVIA</td>\n",
       "      <td>Not Present</td>\n",
       "      <td>Eligible for Return, Refund or Replacement wit...</td>\n",
       "      <td>In Stock</td>\n",
       "    </tr>\n",
       "    <tr>\n",
       "      <th>8</th>\n",
       "      <td>Cricnix</td>\n",
       "      <td>Not Present</td>\n",
       "      <td>Not Present</td>\n",
       "      <td>Not Present</td>\n",
       "    </tr>\n",
       "    <tr>\n",
       "      <th>9</th>\n",
       "      <td>Generic</td>\n",
       "      <td></td>\n",
       "      <td>Eligible for Return, Refund or Replacement wit...</td>\n",
       "      <td>In Stock</td>\n",
       "    </tr>\n",
       "    <tr>\n",
       "      <th>10</th>\n",
       "      <td>Cricnix</td>\n",
       "      <td></td>\n",
       "      <td>Eligible for Return, Refund or Replacement wit...</td>\n",
       "      <td>Temporarily out of stock.\\nWe are working hard...</td>\n",
       "    </tr>\n",
       "    <tr>\n",
       "      <th>11</th>\n",
       "      <td>Mozi Sports</td>\n",
       "      <td></td>\n",
       "      <td>Eligible for Return, Refund or Replacement wit...</td>\n",
       "      <td>In Stock</td>\n",
       "    </tr>\n",
       "    <tr>\n",
       "      <th>12</th>\n",
       "      <td>NIVIA</td>\n",
       "      <td>Not Present</td>\n",
       "      <td>Not Present</td>\n",
       "      <td>Not Present</td>\n",
       "    </tr>\n",
       "    <tr>\n",
       "      <th>13</th>\n",
       "      <td>NIVIA</td>\n",
       "      <td>Not Present</td>\n",
       "      <td>Eligible for Return, Refund or Replacement wit...</td>\n",
       "      <td>In Stock</td>\n",
       "    </tr>\n",
       "    <tr>\n",
       "      <th>14</th>\n",
       "      <td>AnNafi</td>\n",
       "      <td></td>\n",
       "      <td>Eligible for Return, Refund or Replacement wit...</td>\n",
       "      <td></td>\n",
       "    </tr>\n",
       "    <tr>\n",
       "      <th>15</th>\n",
       "      <td>NIVIA</td>\n",
       "      <td>Not Present</td>\n",
       "      <td>Not Present</td>\n",
       "      <td>Not Present</td>\n",
       "    </tr>\n",
       "    <tr>\n",
       "      <th>16</th>\n",
       "      <td>Mozi Sports</td>\n",
       "      <td></td>\n",
       "      <td>Eligible for Return, Refund or Replacement wit...</td>\n",
       "      <td>In Stock</td>\n",
       "    </tr>\n",
       "    <tr>\n",
       "      <th>17</th>\n",
       "      <td>NIVIA</td>\n",
       "      <td>Not Present</td>\n",
       "      <td>Eligible for Return, Refund or Replacement wit...</td>\n",
       "      <td>In Stock</td>\n",
       "    </tr>\n",
       "    <tr>\n",
       "      <th>18</th>\n",
       "      <td>Cricnix</td>\n",
       "      <td>Not Present</td>\n",
       "      <td>Not Present</td>\n",
       "      <td>Not Present</td>\n",
       "    </tr>\n",
       "    <tr>\n",
       "      <th>19</th>\n",
       "      <td>Generic</td>\n",
       "      <td></td>\n",
       "      <td>Eligible for Return, Refund or Replacement wit...</td>\n",
       "      <td>In Stock</td>\n",
       "    </tr>\n",
       "    <tr>\n",
       "      <th>20</th>\n",
       "      <td>Cricnix</td>\n",
       "      <td></td>\n",
       "      <td>Eligible for Return, Refund or Replacement wit...</td>\n",
       "      <td>Temporarily out of stock.\\nWe are working hard...</td>\n",
       "    </tr>\n",
       "    <tr>\n",
       "      <th>21</th>\n",
       "      <td>Mozi Sports</td>\n",
       "      <td></td>\n",
       "      <td>Eligible for Return, Refund or Replacement wit...</td>\n",
       "      <td>In Stock</td>\n",
       "    </tr>\n",
       "    <tr>\n",
       "      <th>22</th>\n",
       "      <td>NIVIA</td>\n",
       "      <td>Not Present</td>\n",
       "      <td>Not Present</td>\n",
       "      <td>Not Present</td>\n",
       "    </tr>\n",
       "    <tr>\n",
       "      <th>23</th>\n",
       "      <td>NIVIA</td>\n",
       "      <td>Not Present</td>\n",
       "      <td>Eligible for Return, Refund or Replacement wit...</td>\n",
       "      <td>In Stock</td>\n",
       "    </tr>\n",
       "    <tr>\n",
       "      <th>24</th>\n",
       "      <td>AnNafi</td>\n",
       "      <td></td>\n",
       "      <td>Eligible for Return, Refund or Replacement wit...</td>\n",
       "      <td></td>\n",
       "    </tr>\n",
       "    <tr>\n",
       "      <th>25</th>\n",
       "      <td>NIVIA</td>\n",
       "      <td>Not Present</td>\n",
       "      <td>Not Present</td>\n",
       "      <td>Not Present</td>\n",
       "    </tr>\n",
       "    <tr>\n",
       "      <th>26</th>\n",
       "      <td>Mozi Sports</td>\n",
       "      <td></td>\n",
       "      <td>Eligible for Return, Refund or Replacement wit...</td>\n",
       "      <td>In Stock</td>\n",
       "    </tr>\n",
       "    <tr>\n",
       "      <th>27</th>\n",
       "      <td>NIVIA</td>\n",
       "      <td>Not Present</td>\n",
       "      <td>Eligible for Return, Refund or Replacement wit...</td>\n",
       "      <td>In Stock</td>\n",
       "    </tr>\n",
       "    <tr>\n",
       "      <th>28</th>\n",
       "      <td>Cricnix</td>\n",
       "      <td>Not Present</td>\n",
       "      <td>Not Present</td>\n",
       "      <td>Not Present</td>\n",
       "    </tr>\n",
       "    <tr>\n",
       "      <th>29</th>\n",
       "      <td>Generic</td>\n",
       "      <td></td>\n",
       "      <td>Eligible for Return, Refund or Replacement wit...</td>\n",
       "      <td>In Stock</td>\n",
       "    </tr>\n",
       "  </tbody>\n",
       "</table>\n",
       "</div>"
      ],
      "text/plain": [
       "     Brand_name        Price  \\\n",
       "0       Cricnix                \n",
       "1   Mozi Sports                \n",
       "2         NIVIA  Not Present   \n",
       "3         NIVIA  Not Present   \n",
       "4        AnNafi                \n",
       "5         NIVIA  Not Present   \n",
       "6   Mozi Sports                \n",
       "7         NIVIA  Not Present   \n",
       "8       Cricnix  Not Present   \n",
       "9       Generic                \n",
       "10      Cricnix                \n",
       "11  Mozi Sports                \n",
       "12        NIVIA  Not Present   \n",
       "13        NIVIA  Not Present   \n",
       "14       AnNafi                \n",
       "15        NIVIA  Not Present   \n",
       "16  Mozi Sports                \n",
       "17        NIVIA  Not Present   \n",
       "18      Cricnix  Not Present   \n",
       "19      Generic                \n",
       "20      Cricnix                \n",
       "21  Mozi Sports                \n",
       "22        NIVIA  Not Present   \n",
       "23        NIVIA  Not Present   \n",
       "24       AnNafi                \n",
       "25        NIVIA  Not Present   \n",
       "26  Mozi Sports                \n",
       "27        NIVIA  Not Present   \n",
       "28      Cricnix  Not Present   \n",
       "29      Generic                \n",
       "\n",
       "                                               Return  \\\n",
       "0   Eligible for Return, Refund or Replacement wit...   \n",
       "1   Eligible for Return, Refund or Replacement wit...   \n",
       "2                                         Not Present   \n",
       "3   Eligible for Return, Refund or Replacement wit...   \n",
       "4   Eligible for Return, Refund or Replacement wit...   \n",
       "5                                         Not Present   \n",
       "6   Eligible for Return, Refund or Replacement wit...   \n",
       "7   Eligible for Return, Refund or Replacement wit...   \n",
       "8                                         Not Present   \n",
       "9   Eligible for Return, Refund or Replacement wit...   \n",
       "10  Eligible for Return, Refund or Replacement wit...   \n",
       "11  Eligible for Return, Refund or Replacement wit...   \n",
       "12                                        Not Present   \n",
       "13  Eligible for Return, Refund or Replacement wit...   \n",
       "14  Eligible for Return, Refund or Replacement wit...   \n",
       "15                                        Not Present   \n",
       "16  Eligible for Return, Refund or Replacement wit...   \n",
       "17  Eligible for Return, Refund or Replacement wit...   \n",
       "18                                        Not Present   \n",
       "19  Eligible for Return, Refund or Replacement wit...   \n",
       "20  Eligible for Return, Refund or Replacement wit...   \n",
       "21  Eligible for Return, Refund or Replacement wit...   \n",
       "22                                        Not Present   \n",
       "23  Eligible for Return, Refund or Replacement wit...   \n",
       "24  Eligible for Return, Refund or Replacement wit...   \n",
       "25                                        Not Present   \n",
       "26  Eligible for Return, Refund or Replacement wit...   \n",
       "27  Eligible for Return, Refund or Replacement wit...   \n",
       "28                                        Not Present   \n",
       "29  Eligible for Return, Refund or Replacement wit...   \n",
       "\n",
       "                                         Availability  \n",
       "0   Temporarily out of stock.\\nWe are working hard...  \n",
       "1                                            In Stock  \n",
       "2                                         Not Present  \n",
       "3                                            In Stock  \n",
       "4                                                      \n",
       "5                                         Not Present  \n",
       "6                                            In Stock  \n",
       "7                                            In Stock  \n",
       "8                                         Not Present  \n",
       "9                                            In Stock  \n",
       "10  Temporarily out of stock.\\nWe are working hard...  \n",
       "11                                           In Stock  \n",
       "12                                        Not Present  \n",
       "13                                           In Stock  \n",
       "14                                                     \n",
       "15                                        Not Present  \n",
       "16                                           In Stock  \n",
       "17                                           In Stock  \n",
       "18                                        Not Present  \n",
       "19                                           In Stock  \n",
       "20  Temporarily out of stock.\\nWe are working hard...  \n",
       "21                                           In Stock  \n",
       "22                                        Not Present  \n",
       "23                                           In Stock  \n",
       "24                                                     \n",
       "25                                        Not Present  \n",
       "26                                           In Stock  \n",
       "27                                           In Stock  \n",
       "28                                        Not Present  \n",
       "29                                           In Stock  "
      ]
     },
     "execution_count": 13,
     "metadata": {},
     "output_type": "execute_result"
    }
   ],
   "source": [
    "Cricket_balls = pd.DataFrame({'Brand_name': Brand_name, 'Price': Price, 'Return': Return, 'Availability':Availability})\n",
    "Cricket_balls"
   ]
  },
  {
   "cell_type": "code",
   "execution_count": 20,
   "id": "e0e6f930",
   "metadata": {},
   "outputs": [],
   "source": [
    "Price.clear()"
   ]
  },
  {
   "cell_type": "code",
   "execution_count": 21,
   "id": "f93858cb",
   "metadata": {},
   "outputs": [
    {
     "data": {
      "text/plain": [
       "[]"
      ]
     },
     "execution_count": 21,
     "metadata": {},
     "output_type": "execute_result"
    }
   ],
   "source": [
    "Price"
   ]
  },
  {
   "cell_type": "code",
   "execution_count": 25,
   "id": "2293e089",
   "metadata": {},
   "outputs": [],
   "source": [
    "for i in Url:\n",
    "    driver.get(i)\n",
    "    time.sleep(3)\n",
    "    try:\n",
    "        p = driver.find_element(By.XPATH,'/html/body/div[1]/div[2]/div[9]/div[3]/div[4]/div[11]/div[3]/div[1]/span[1]/span[2]')\n",
    "        Price.append(p.text)\n",
    "    except NoSuchElementException:\n",
    "        Price.append('Not Present')"
   ]
  },
  {
   "cell_type": "code",
   "execution_count": 26,
   "id": "7a4afe37",
   "metadata": {},
   "outputs": [
    {
     "data": {
      "text/plain": [
       "['$23\\n00',\n",
       " '$14\\n99',\n",
       " 'Not Present',\n",
       " 'Not Present',\n",
       " '$14\\n99',\n",
       " 'Not Present',\n",
       " '$14\\n99',\n",
       " 'Not Present',\n",
       " 'Not Present',\n",
       " '$17\\n99',\n",
       " '$23\\n00',\n",
       " '$14\\n99',\n",
       " 'Not Present',\n",
       " 'Not Present',\n",
       " '$14\\n99',\n",
       " 'Not Present',\n",
       " '$14\\n99',\n",
       " 'Not Present',\n",
       " 'Not Present',\n",
       " '$17\\n99',\n",
       " '$23\\n00',\n",
       " '$14\\n99',\n",
       " 'Not Present',\n",
       " 'Not Present',\n",
       " '$14\\n99',\n",
       " 'Not Present',\n",
       " '$14\\n99',\n",
       " 'Not Present',\n",
       " 'Not Present',\n",
       " '$17\\n99']"
      ]
     },
     "execution_count": 26,
     "metadata": {},
     "output_type": "execute_result"
    }
   ],
   "source": [
    "Price"
   ]
  },
  {
   "cell_type": "code",
   "execution_count": 24,
   "id": "c9cf74b6",
   "metadata": {},
   "outputs": [],
   "source": [
    "Price.clear()"
   ]
  },
  {
   "cell_type": "code",
   "execution_count": 29,
   "id": "bf3193c9",
   "metadata": {},
   "outputs": [
    {
     "data": {
      "text/html": [
       "<div>\n",
       "<style scoped>\n",
       "    .dataframe tbody tr th:only-of-type {\n",
       "        vertical-align: middle;\n",
       "    }\n",
       "\n",
       "    .dataframe tbody tr th {\n",
       "        vertical-align: top;\n",
       "    }\n",
       "\n",
       "    .dataframe thead th {\n",
       "        text-align: right;\n",
       "    }\n",
       "</style>\n",
       "<table border=\"1\" class=\"dataframe\">\n",
       "  <thead>\n",
       "    <tr style=\"text-align: right;\">\n",
       "      <th></th>\n",
       "      <th>Brand_name</th>\n",
       "      <th>Price</th>\n",
       "      <th>Return</th>\n",
       "      <th>Availability</th>\n",
       "    </tr>\n",
       "  </thead>\n",
       "  <tbody>\n",
       "    <tr>\n",
       "      <th>0</th>\n",
       "      <td>Cricnix</td>\n",
       "      <td>$23\\n00</td>\n",
       "      <td>Eligible for Return, Refund or Replacement wit...</td>\n",
       "      <td>Temporarily out of stock.\\nWe are working hard...</td>\n",
       "    </tr>\n",
       "    <tr>\n",
       "      <th>1</th>\n",
       "      <td>Mozi Sports</td>\n",
       "      <td>$14\\n99</td>\n",
       "      <td>Eligible for Return, Refund or Replacement wit...</td>\n",
       "      <td>In Stock</td>\n",
       "    </tr>\n",
       "    <tr>\n",
       "      <th>2</th>\n",
       "      <td>NIVIA</td>\n",
       "      <td>Not Present</td>\n",
       "      <td>Not Present</td>\n",
       "      <td>Not Present</td>\n",
       "    </tr>\n",
       "    <tr>\n",
       "      <th>3</th>\n",
       "      <td>NIVIA</td>\n",
       "      <td>Not Present</td>\n",
       "      <td>Eligible for Return, Refund or Replacement wit...</td>\n",
       "      <td>In Stock</td>\n",
       "    </tr>\n",
       "    <tr>\n",
       "      <th>4</th>\n",
       "      <td>AnNafi</td>\n",
       "      <td>$14\\n99</td>\n",
       "      <td>Eligible for Return, Refund or Replacement wit...</td>\n",
       "      <td></td>\n",
       "    </tr>\n",
       "    <tr>\n",
       "      <th>5</th>\n",
       "      <td>NIVIA</td>\n",
       "      <td>Not Present</td>\n",
       "      <td>Not Present</td>\n",
       "      <td>Not Present</td>\n",
       "    </tr>\n",
       "    <tr>\n",
       "      <th>6</th>\n",
       "      <td>Mozi Sports</td>\n",
       "      <td>$14\\n99</td>\n",
       "      <td>Eligible for Return, Refund or Replacement wit...</td>\n",
       "      <td>In Stock</td>\n",
       "    </tr>\n",
       "    <tr>\n",
       "      <th>7</th>\n",
       "      <td>NIVIA</td>\n",
       "      <td>Not Present</td>\n",
       "      <td>Eligible for Return, Refund or Replacement wit...</td>\n",
       "      <td>In Stock</td>\n",
       "    </tr>\n",
       "    <tr>\n",
       "      <th>8</th>\n",
       "      <td>Cricnix</td>\n",
       "      <td>Not Present</td>\n",
       "      <td>Not Present</td>\n",
       "      <td>Not Present</td>\n",
       "    </tr>\n",
       "    <tr>\n",
       "      <th>9</th>\n",
       "      <td>Generic</td>\n",
       "      <td>$17\\n99</td>\n",
       "      <td>Eligible for Return, Refund or Replacement wit...</td>\n",
       "      <td>In Stock</td>\n",
       "    </tr>\n",
       "    <tr>\n",
       "      <th>10</th>\n",
       "      <td>Cricnix</td>\n",
       "      <td>$23\\n00</td>\n",
       "      <td>Eligible for Return, Refund or Replacement wit...</td>\n",
       "      <td>Temporarily out of stock.\\nWe are working hard...</td>\n",
       "    </tr>\n",
       "    <tr>\n",
       "      <th>11</th>\n",
       "      <td>Mozi Sports</td>\n",
       "      <td>$14\\n99</td>\n",
       "      <td>Eligible for Return, Refund or Replacement wit...</td>\n",
       "      <td>In Stock</td>\n",
       "    </tr>\n",
       "    <tr>\n",
       "      <th>12</th>\n",
       "      <td>NIVIA</td>\n",
       "      <td>Not Present</td>\n",
       "      <td>Not Present</td>\n",
       "      <td>Not Present</td>\n",
       "    </tr>\n",
       "    <tr>\n",
       "      <th>13</th>\n",
       "      <td>NIVIA</td>\n",
       "      <td>Not Present</td>\n",
       "      <td>Eligible for Return, Refund or Replacement wit...</td>\n",
       "      <td>In Stock</td>\n",
       "    </tr>\n",
       "    <tr>\n",
       "      <th>14</th>\n",
       "      <td>AnNafi</td>\n",
       "      <td>$14\\n99</td>\n",
       "      <td>Eligible for Return, Refund or Replacement wit...</td>\n",
       "      <td></td>\n",
       "    </tr>\n",
       "    <tr>\n",
       "      <th>15</th>\n",
       "      <td>NIVIA</td>\n",
       "      <td>Not Present</td>\n",
       "      <td>Not Present</td>\n",
       "      <td>Not Present</td>\n",
       "    </tr>\n",
       "    <tr>\n",
       "      <th>16</th>\n",
       "      <td>Mozi Sports</td>\n",
       "      <td>$14\\n99</td>\n",
       "      <td>Eligible for Return, Refund or Replacement wit...</td>\n",
       "      <td>In Stock</td>\n",
       "    </tr>\n",
       "    <tr>\n",
       "      <th>17</th>\n",
       "      <td>NIVIA</td>\n",
       "      <td>Not Present</td>\n",
       "      <td>Eligible for Return, Refund or Replacement wit...</td>\n",
       "      <td>In Stock</td>\n",
       "    </tr>\n",
       "    <tr>\n",
       "      <th>18</th>\n",
       "      <td>Cricnix</td>\n",
       "      <td>Not Present</td>\n",
       "      <td>Not Present</td>\n",
       "      <td>Not Present</td>\n",
       "    </tr>\n",
       "    <tr>\n",
       "      <th>19</th>\n",
       "      <td>Generic</td>\n",
       "      <td>$17\\n99</td>\n",
       "      <td>Eligible for Return, Refund or Replacement wit...</td>\n",
       "      <td>In Stock</td>\n",
       "    </tr>\n",
       "    <tr>\n",
       "      <th>20</th>\n",
       "      <td>Cricnix</td>\n",
       "      <td>$23\\n00</td>\n",
       "      <td>Eligible for Return, Refund or Replacement wit...</td>\n",
       "      <td>Temporarily out of stock.\\nWe are working hard...</td>\n",
       "    </tr>\n",
       "    <tr>\n",
       "      <th>21</th>\n",
       "      <td>Mozi Sports</td>\n",
       "      <td>$14\\n99</td>\n",
       "      <td>Eligible for Return, Refund or Replacement wit...</td>\n",
       "      <td>In Stock</td>\n",
       "    </tr>\n",
       "    <tr>\n",
       "      <th>22</th>\n",
       "      <td>NIVIA</td>\n",
       "      <td>Not Present</td>\n",
       "      <td>Not Present</td>\n",
       "      <td>Not Present</td>\n",
       "    </tr>\n",
       "    <tr>\n",
       "      <th>23</th>\n",
       "      <td>NIVIA</td>\n",
       "      <td>Not Present</td>\n",
       "      <td>Eligible for Return, Refund or Replacement wit...</td>\n",
       "      <td>In Stock</td>\n",
       "    </tr>\n",
       "    <tr>\n",
       "      <th>24</th>\n",
       "      <td>AnNafi</td>\n",
       "      <td>$14\\n99</td>\n",
       "      <td>Eligible for Return, Refund or Replacement wit...</td>\n",
       "      <td></td>\n",
       "    </tr>\n",
       "    <tr>\n",
       "      <th>25</th>\n",
       "      <td>NIVIA</td>\n",
       "      <td>Not Present</td>\n",
       "      <td>Not Present</td>\n",
       "      <td>Not Present</td>\n",
       "    </tr>\n",
       "    <tr>\n",
       "      <th>26</th>\n",
       "      <td>Mozi Sports</td>\n",
       "      <td>$14\\n99</td>\n",
       "      <td>Eligible for Return, Refund or Replacement wit...</td>\n",
       "      <td>In Stock</td>\n",
       "    </tr>\n",
       "    <tr>\n",
       "      <th>27</th>\n",
       "      <td>NIVIA</td>\n",
       "      <td>Not Present</td>\n",
       "      <td>Eligible for Return, Refund or Replacement wit...</td>\n",
       "      <td>In Stock</td>\n",
       "    </tr>\n",
       "    <tr>\n",
       "      <th>28</th>\n",
       "      <td>Cricnix</td>\n",
       "      <td>Not Present</td>\n",
       "      <td>Not Present</td>\n",
       "      <td>Not Present</td>\n",
       "    </tr>\n",
       "    <tr>\n",
       "      <th>29</th>\n",
       "      <td>Generic</td>\n",
       "      <td>$17\\n99</td>\n",
       "      <td>Eligible for Return, Refund or Replacement wit...</td>\n",
       "      <td>In Stock</td>\n",
       "    </tr>\n",
       "  </tbody>\n",
       "</table>\n",
       "</div>"
      ],
      "text/plain": [
       "     Brand_name        Price  \\\n",
       "0       Cricnix      $23\\n00   \n",
       "1   Mozi Sports      $14\\n99   \n",
       "2         NIVIA  Not Present   \n",
       "3         NIVIA  Not Present   \n",
       "4        AnNafi      $14\\n99   \n",
       "5         NIVIA  Not Present   \n",
       "6   Mozi Sports      $14\\n99   \n",
       "7         NIVIA  Not Present   \n",
       "8       Cricnix  Not Present   \n",
       "9       Generic      $17\\n99   \n",
       "10      Cricnix      $23\\n00   \n",
       "11  Mozi Sports      $14\\n99   \n",
       "12        NIVIA  Not Present   \n",
       "13        NIVIA  Not Present   \n",
       "14       AnNafi      $14\\n99   \n",
       "15        NIVIA  Not Present   \n",
       "16  Mozi Sports      $14\\n99   \n",
       "17        NIVIA  Not Present   \n",
       "18      Cricnix  Not Present   \n",
       "19      Generic      $17\\n99   \n",
       "20      Cricnix      $23\\n00   \n",
       "21  Mozi Sports      $14\\n99   \n",
       "22        NIVIA  Not Present   \n",
       "23        NIVIA  Not Present   \n",
       "24       AnNafi      $14\\n99   \n",
       "25        NIVIA  Not Present   \n",
       "26  Mozi Sports      $14\\n99   \n",
       "27        NIVIA  Not Present   \n",
       "28      Cricnix  Not Present   \n",
       "29      Generic      $17\\n99   \n",
       "\n",
       "                                               Return  \\\n",
       "0   Eligible for Return, Refund or Replacement wit...   \n",
       "1   Eligible for Return, Refund or Replacement wit...   \n",
       "2                                         Not Present   \n",
       "3   Eligible for Return, Refund or Replacement wit...   \n",
       "4   Eligible for Return, Refund or Replacement wit...   \n",
       "5                                         Not Present   \n",
       "6   Eligible for Return, Refund or Replacement wit...   \n",
       "7   Eligible for Return, Refund or Replacement wit...   \n",
       "8                                         Not Present   \n",
       "9   Eligible for Return, Refund or Replacement wit...   \n",
       "10  Eligible for Return, Refund or Replacement wit...   \n",
       "11  Eligible for Return, Refund or Replacement wit...   \n",
       "12                                        Not Present   \n",
       "13  Eligible for Return, Refund or Replacement wit...   \n",
       "14  Eligible for Return, Refund or Replacement wit...   \n",
       "15                                        Not Present   \n",
       "16  Eligible for Return, Refund or Replacement wit...   \n",
       "17  Eligible for Return, Refund or Replacement wit...   \n",
       "18                                        Not Present   \n",
       "19  Eligible for Return, Refund or Replacement wit...   \n",
       "20  Eligible for Return, Refund or Replacement wit...   \n",
       "21  Eligible for Return, Refund or Replacement wit...   \n",
       "22                                        Not Present   \n",
       "23  Eligible for Return, Refund or Replacement wit...   \n",
       "24  Eligible for Return, Refund or Replacement wit...   \n",
       "25                                        Not Present   \n",
       "26  Eligible for Return, Refund or Replacement wit...   \n",
       "27  Eligible for Return, Refund or Replacement wit...   \n",
       "28                                        Not Present   \n",
       "29  Eligible for Return, Refund or Replacement wit...   \n",
       "\n",
       "                                         Availability  \n",
       "0   Temporarily out of stock.\\nWe are working hard...  \n",
       "1                                            In Stock  \n",
       "2                                         Not Present  \n",
       "3                                            In Stock  \n",
       "4                                                      \n",
       "5                                         Not Present  \n",
       "6                                            In Stock  \n",
       "7                                            In Stock  \n",
       "8                                         Not Present  \n",
       "9                                            In Stock  \n",
       "10  Temporarily out of stock.\\nWe are working hard...  \n",
       "11                                           In Stock  \n",
       "12                                        Not Present  \n",
       "13                                           In Stock  \n",
       "14                                                     \n",
       "15                                        Not Present  \n",
       "16                                           In Stock  \n",
       "17                                           In Stock  \n",
       "18                                        Not Present  \n",
       "19                                           In Stock  \n",
       "20  Temporarily out of stock.\\nWe are working hard...  \n",
       "21                                           In Stock  \n",
       "22                                        Not Present  \n",
       "23                                           In Stock  \n",
       "24                                                     \n",
       "25                                        Not Present  \n",
       "26                                           In Stock  \n",
       "27                                           In Stock  \n",
       "28                                        Not Present  \n",
       "29                                           In Stock  "
      ]
     },
     "execution_count": 29,
     "metadata": {},
     "output_type": "execute_result"
    }
   ],
   "source": [
    "Cricket_balls = pd.DataFrame({'Brand_name': Brand_name, 'Price': Price, 'Return': Return, 'Availability':Availability})\n",
    "Cricket_balls"
   ]
  },
  {
   "cell_type": "markdown",
   "id": "871538fb",
   "metadata": {},
   "source": [
    "Q3) Write a python program to access the search bar and search button on images.google.com and scrape 10 \n",
    "images each for keywords ‘fruits’, ‘cars’ and ‘Machine Learning’, ‘Guitar’, ‘Cakes’."
   ]
  },
  {
   "cell_type": "code",
   "execution_count": 1,
   "id": "a8125809",
   "metadata": {},
   "outputs": [],
   "source": [
    "from bs4 import BeautifulSoup\n",
    "import selenium\n",
    "from selenium import webdriver\n",
    "import pandas as pd\n",
    "import warnings\n",
    "warnings.filterwarnings('ignore')\n",
    "from selenium.webdriver.common.by import By\n",
    "import time\n",
    "from selenium.common.exceptions import NoSuchElementException\n",
    "import requests"
   ]
  },
  {
   "cell_type": "code",
   "execution_count": 24,
   "id": "7d6d33cf",
   "metadata": {},
   "outputs": [],
   "source": [
    "driver = webdriver.Chrome(r'C:\\Users\\Kushal Kulkarni\\Downloads\\chromedriver_exe')"
   ]
  },
  {
   "cell_type": "code",
   "execution_count": 25,
   "id": "1bc51fda",
   "metadata": {},
   "outputs": [],
   "source": [
    "s = driver.get('https://images.google.com')"
   ]
  },
  {
   "cell_type": "code",
   "execution_count": 26,
   "id": "cef9e278",
   "metadata": {},
   "outputs": [],
   "source": [
    "search = driver.find_element(By.XPATH,'/html/body/div[1]/div[3]/form/div[1]/div[1]/div[1]/div/div[2]/textarea')\n",
    "search.send_keys('fruits images')"
   ]
  },
  {
   "cell_type": "code",
   "execution_count": 28,
   "id": "3e818c7b",
   "metadata": {},
   "outputs": [],
   "source": [
    "search_button = driver.find_element(By.XPATH,'/html/body/div[1]/div[3]/form/div[1]/div[1]/div[1]/button/div/span')\n",
    "search_button.click()"
   ]
  },
  {
   "cell_type": "code",
   "execution_count": 11,
   "id": "72966cca",
   "metadata": {},
   "outputs": [],
   "source": [
    "S = requests.get('https://www.google.com/search?q=fruits&tbm=isch&source=hp&biw=1036&bih=666&ei=rDiBZNn7HdbZseMP7ry22AQ&iflsig=AOEireoAAAAAZIFGvJuc8jk92ewnkwUvJ8fxI_Plmf9o&ved=0ahUKEwjZgZiYzLL_AhXWbGwGHW6eDUsQ4dUDCAc&oq=fruits&gs_lcp=CgNpbWcQDDIICAAQgAQQsQMyCAgAEIAEELEDMggIABCABBCxAzIICAAQgAQQsQMyCAgAEIAEELEDMggIABCABBCxAzIICAAQgAQQsQMyCwgAEIAEELEDEIMBMggIABCABBCxAzIICAAQgAQQsQNQ08EKWPHBCmDxsw5oAHAAeAGAAdQEiAHuEZIBAzUtNJgBAKABAaoBC2d3cy13aXotaW1nsAEA&sclient=img')"
   ]
  },
  {
   "cell_type": "code",
   "execution_count": 12,
   "id": "49d337fd",
   "metadata": {},
   "outputs": [
    {
     "data": {
      "text/plain": [
       "<Response [200]>"
      ]
     },
     "execution_count": 12,
     "metadata": {},
     "output_type": "execute_result"
    }
   ],
   "source": [
    "S"
   ]
  },
  {
   "cell_type": "code",
   "execution_count": 13,
   "id": "28e1df0a",
   "metadata": {},
   "outputs": [],
   "source": [
    "soup = BeautifulSoup(S.content)"
   ]
  },
  {
   "cell_type": "code",
   "execution_count": 14,
   "id": "447a3935",
   "metadata": {
    "collapsed": true
   },
   "outputs": [
    {
     "data": {
      "text/plain": [
       "<!DOCTYPE html PUBLIC \"-//WAPFORUM//DTD XHTML Mobile 1.0//EN\" \"http://www.wapforum.org/DTD/xhtml-mobile10.dtd\">\n",
       "<html lang=\"en-IN\" xmlns=\"http://www.w3.org/1999/xhtml\"><head><meta content=\"application/xhtml+xml; charset=utf-8\" http-equiv=\"Content-Type\"/><meta content=\"no-cache\" name=\"Cache-Control\"/><title>fruits - Google Search</title><style>a{text-decoration:none;color:inherit}a:hover{text-decoration:underline}a img{border:0}body{font-family:arial,sans-serif;padding:8px;margin:0 auto;max-width:700px;min-width:240px;}.FbhRzb{border-left:thin solid #dadce0;border-right:thin solid #dadce0;border-top:thin solid #dadce0;height:40px;overflow:hidden}.n692Zd{margin-bottom:10px}.cvifge{height:40px;border-spacing:0}.QvGUP{height:40px;padding:0 8px 0 8px;vertical-align:top}.O4cRJf{height:40px;width:100%;padding:0;padding-right:16px}.O1ePr{height:40px;padding:0;vertical-align:top}.kgJEQe{height:36px;width:98px;vertical-align:top;margin-top:4px}.lXLRf{vertical-align:top}.MhzMZd{border:0;vertical-align:middle;font-size:14px;height:40px;padding:0;width:100%;padding-left:16px}.xB0fq{height:40px;border:none;font-size:14px;background-color:#1a73e8;color:#fff;padding:0 16px;margin:0;vertical-align:top;cursor:pointer}.xB0fq:focus{border:1px solid #1a73e8}.M7pB2{border:thin solid #dadce0;margin:0 0 3px 0;font-size:13px;font-weight:500;height:40px}.euZec{width:100%;height:40px;text-align:center;border-spacing:0}table.euZec td{padding:0;width:25%}.QIqI7{display:inline-block;padding-top:4px;font-weight:bold;color:#4285f4}.EY24We{border-bottom:2px solid #4285f4}.CsQyDc{display:inline-block;color:#70757a}.TuS8Ad{font-size:14px}.HddGcc{padding:8px;color:#70757a}.dzp8ae{font-weight:bold;color:#3c4043}.rEM8G{color:#70757a}.bookcf{table-layout:fixed;width:100%;border-spacing:0}.InWNIe{text-align:center}.uZgmoc{border:thin solid #dadce0;color:#70757a;font-size:14px;text-align:center;table-layout:fixed;width:100%}.frGj1b{display:block;padding:12px 0 12px 0;width:100%}.BnJWBc{text-align:center;padding:6px 0 13px 0;height:35px}.e3goi{vertical-align:top;padding:0;height:180px}.GpQGbf{margin:auto;border-collapse:collapse;border-spacing:0;width:100%}</style></head><body><style>.X6ZCif{color:#202124;font-size:11px;line-height:16px;display:inline-block;padding-top:2px;overflow:hidden;padding-bottom:4px;width:100%}.TwVfHd{border-radius:16px;border:thin solid #dadce0;display:inline-block;padding:8px 8px;margin-right:8px;margin-bottom:4px}.yekiAe{background-color:#dadce0}.mnTahd{width:100%}.ezO2md{border:thin solid #dadce0;padding:12px 16px 12px 16px;margin-bottom:10px;font-family:arial,sans-serif}.lIMUZd{font-family:arial,sans-serif}.IkMU6e{border-spacing:0}.SjCsie{width:100%}.EnarA{text-align:center}.NZWO1b{width:162px;height:140px;line-height:140px;overflow:'hidden';text-align:center}.yWs4tf{text-align:center;margin:auto;vertical-align:middle;max-width:162px;max-height:140px}.jB2rPd{padding-top:2px;padding-bottom:8px;}.fYyStc{word-break:break-word}.ynsChf{display:block;white-space:nowrap;overflow:hidden;text-overflow:ellipsis}.Fj3V3b{color:#1967d2;font-size:14px;line-height:20px}.FrIlee{color:#202124;font-size:11px;line-height:16px}.F9iS2e{color:#70757a;font-size:11px;line-height:16px}.WMQ2Le{color:#70757a;font-size:12px;line-height:16px}.x3G5ab{color:#202124;font-size:12px;line-height:16px}.fuLhoc{color:#1967d2;font-size:16px;line-height:20px}.epoveb{font-size:24px;line-height:28px;font-weight:400;color:#202124}.dXDvrc{color:#0d652d;font-size:14px;line-height:20px;word-wrap:break-word}.dloBPe{font-weight:bold}.YVIcad{color:#70757a}.JkVVdd{color:#ea4335}.oXZRFd{color:#ea4335}.MQHtg{color:#fbbc04}.pyMRrb{color:#1e8e3e}.EtTZid{color:#1e8e3e}.M3vVJe{color:#1967d2}.qXLe6d{display:block}.NHQNef{font-style:italic}.Cb8Z7c{white-space:pre}a.ZWRArf{text-decoration:none}a .CVA68e:hover{text-decoration:underline}</style><div class=\"n692Zd\"><div class=\"BnJWBc\"><a class=\"lXLRf\" href=\"/?biw=1036&amp;bih=666&amp;output=images&amp;ie=UTF-8&amp;tbm=isch&amp;sa=X&amp;ved=0ahUKEwj0j6DtlbT_AhVZXWwGHekrA7AQPAgC\"><img alt=\"Google\" class=\"kgJEQe\" src=\"/images/branding/searchlogo/1x/googlelogo_desk_heirloom_color_150x55dp.gif\"/></a></div><div class=\"FbhRzb\"><form action=\"/search\"><input name=\"biw\" type=\"hidden\" value=\"1036\"/><input name=\"bih\" type=\"hidden\" value=\"666\"/><input name=\"ie\" type=\"hidden\" value=\"ISO-8859-1\"/><input name=\"tbm\" type=\"hidden\" value=\"isch\"/><input name=\"oq\" type=\"hidden\"/><input name=\"aqs\" type=\"hidden\"/><table class=\"cvifge\"><tr><td class=\"O4cRJf\"><input class=\"MhzMZd\" name=\"q\" type=\"text\" value=\"fruits\"/></td><td class=\"O1ePr\"><input class=\"xB0fq\" type=\"submit\" value=\"Search\"/></td></tr></table></form></div><div class=\"M7pB2\"><table class=\"euZec\"><tbody><tr><td><a class=\"CsQyDc\" href=\"/search?q=fruits&amp;biw=1036&amp;bih=666&amp;ie=UTF-8&amp;source=lnms&amp;sa=X&amp;ved=0ahUKEwj0j6DtlbT_AhVZXWwGHekrA7AQ_AUIBCgA\">ALL</a></td><td class=\"EY24We\"><span class=\"QIqI7\">IMAGES</span></td><td><a class=\"CsQyDc\" href=\"/search?q=fruits&amp;biw=1036&amp;bih=666&amp;ie=UTF-8&amp;tbm=nws&amp;source=lnms&amp;sa=X&amp;ved=0ahUKEwj0j6DtlbT_AhVZXWwGHekrA7AQ_AUIBigC\">NEWS</a></td><td><a class=\"CsQyDc\" href=\"/search?q=fruits&amp;biw=1036&amp;bih=666&amp;ie=UTF-8&amp;tbm=vid&amp;source=lnms&amp;sa=X&amp;ved=0ahUKEwj0j6DtlbT_AhVZXWwGHekrA7AQ_AUIBygD\">VIDEOS</a></td></tr></tbody></table></div></div><div class=\"X6ZCif\"><a class=\"TwVfHd\" href=\"/search?biw=1036&amp;bih=666&amp;ie=UTF-8&amp;tbm=isch&amp;q=fruits&amp;chips=q:fruits,g_1:drawing&amp;sa=X&amp;ved=0ahUKEwj0j6DtlbT_AhVZXWwGHekrA7AQ4lYICygA\">drawing</a><a class=\"TwVfHd\" href=\"/search?biw=1036&amp;bih=666&amp;ie=UTF-8&amp;tbm=isch&amp;q=fruits&amp;chips=q:fruits,g_1:orange&amp;sa=X&amp;ved=0ahUKEwj0j6DtlbT_AhVZXWwGHekrA7AQ4lYIDCgB\">orange</a><a class=\"TwVfHd\" href=\"/search?biw=1036&amp;bih=666&amp;ie=UTF-8&amp;tbm=isch&amp;q=fruits&amp;chips=q:fruits,g_1:clipart&amp;sa=X&amp;ved=0ahUKEwj0j6DtlbT_AhVZXWwGHekrA7AQ4lYIDSgC\">clipart</a><a class=\"TwVfHd\" href=\"/search?biw=1036&amp;bih=666&amp;ie=UTF-8&amp;tbm=isch&amp;q=fruits&amp;chips=q:fruits,g_1:apple&amp;sa=X&amp;ved=0ahUKEwj0j6DtlbT_AhVZXWwGHekrA7AQ4lYIDigD\">apple</a><a class=\"TwVfHd\" href=\"/search?biw=1036&amp;bih=666&amp;ie=UTF-8&amp;tbm=isch&amp;q=fruits&amp;chips=q:fruits,g_1:mango&amp;sa=X&amp;ved=0ahUKEwj0j6DtlbT_AhVZXWwGHekrA7AQ4lYIDygE\">mango</a><a class=\"TwVfHd\" href=\"/search?biw=1036&amp;bih=666&amp;ie=UTF-8&amp;tbm=isch&amp;q=fruits&amp;chips=q:fruits,g_1:single&amp;sa=X&amp;ved=0ahUKEwj0j6DtlbT_AhVZXWwGHekrA7AQ4lYIECgF\">single</a><a class=\"TwVfHd\" href=\"/search?biw=1036&amp;bih=666&amp;ie=UTF-8&amp;tbm=isch&amp;q=fruits&amp;chips=q:fruits,g_1:banana&amp;sa=X&amp;ved=0ahUKEwj0j6DtlbT_AhVZXWwGHekrA7AQ4lYIESgG\">banana</a><a class=\"TwVfHd\" href=\"/search?biw=1036&amp;bih=666&amp;ie=UTF-8&amp;tbm=isch&amp;q=fruits&amp;chips=q:fruits,g_1:vegetable&amp;sa=X&amp;ved=0ahUKEwj0j6DtlbT_AhVZXWwGHekrA7AQ4lYIEigH\">vegetable</a><a class=\"TwVfHd\" href=\"/search?biw=1036&amp;bih=666&amp;ie=UTF-8&amp;tbm=isch&amp;q=fruits&amp;chips=q:fruits,g_1:wallpaper&amp;sa=X&amp;ved=0ahUKEwj0j6DtlbT_AhVZXWwGHekrA7AQ4lYIEygI\">wallpaper</a><a class=\"TwVfHd\" href=\"/search?biw=1036&amp;bih=666&amp;ie=UTF-8&amp;tbm=isch&amp;q=fruits&amp;chips=q:fruits,g_1:watermelon&amp;sa=X&amp;ved=0ahUKEwj0j6DtlbT_AhVZXWwGHekrA7AQ4lYIFCgJ\">watermelon</a></div><div><table class=\"GpQGbf\"><tr><td align=\"center\" class=\"e3goi\"><div class=\"mnTahd\"> <div> <div class=\"lIMUZd\"><div><table class=\"IkMU6e\"><tr><td><a href=\"/url?q=https://www.goodhousekeeping.com/health/diet-nutrition/g28511617/healthiest-fruits/&amp;sa=U&amp;ved=2ahUKEwj0j6DtlbT_AhVZXWwGHekrA7AQqoUBegQICBAB&amp;usg=AOvVaw225BqhmaGNz-6s5O1TgI9j\"><div class=\"NZWO1b\"><img alt=\"\" class=\"yWs4tf\" src=\"https://encrypted-tbn0.gstatic.com/images?q=tbn:ANd9GcTbCJK_VQ2ll-4mVqHswz2dgRa_p6kKz0scIHSY_KQvoqGxJb534yJUk_BDgZ0&amp;s\"/></div></a></td></tr><tr><td><a href=\"/url?q=https://www.goodhousekeeping.com/health/diet-nutrition/g28511617/healthiest-fruits/&amp;sa=U&amp;ved=2ahUKEwj0j6DtlbT_AhVZXWwGHekrA7AQr4kDegQICBAC&amp;usg=AOvVaw23ViLVNQfv-E70Q6my9xOq\"><div class=\"jB2rPd\"> <span class=\"qXLe6d x3G5ab\"> <span class=\"fYyStc\">25 Healthiest Fruits You...</span> </span> <span class=\"qXLe6d F9iS2e\"> <span class=\"fYyStc\">www.goodhousekeeping.com</span> </span> </div></a></td></tr></table></div></div> </div> </div></td><td align=\"center\" class=\"e3goi\"><div class=\"mnTahd\"> <div> <div class=\"lIMUZd\"><div><table class=\"IkMU6e\"><tr><td><a href=\"/url?q=https://www.healthline.com/nutrition/exotic-nutritious-fruits&amp;sa=U&amp;ved=2ahUKEwj0j6DtlbT_AhVZXWwGHekrA7AQqoUBegQIExAB&amp;usg=AOvVaw2y-rEQrLqzpsl-xsMUnUTp\"><div class=\"NZWO1b\"><img alt=\"\" class=\"yWs4tf\" src=\"https://encrypted-tbn0.gstatic.com/images?q=tbn:ANd9GcS-aPKdUnEGyI63pWwo35RoVJ1iemyS5YwcwBbl9THrWq8k-Nw5d3JTNYGDzA&amp;s\"/></div></a></td></tr><tr><td><a href=\"/url?q=https://www.healthline.com/nutrition/exotic-nutritious-fruits&amp;sa=U&amp;ved=2ahUKEwj0j6DtlbT_AhVZXWwGHekrA7AQr4kDegQIExAC&amp;usg=AOvVaw0okFfo7_6v5m0n8noL9J1O\"><div class=\"jB2rPd\"> <span class=\"qXLe6d x3G5ab\"> <span class=\"fYyStc\">9 Unique Fruits from Around...</span> </span> <span class=\"qXLe6d F9iS2e\"> <span class=\"fYyStc\">www.healthline.com</span> </span> </div></a></td></tr></table></div></div> </div> </div></td><td align=\"center\" class=\"e3goi\"><div class=\"mnTahd\"> <div> <div class=\"lIMUZd\"><div><table class=\"IkMU6e\"><tr><td><a href=\"/url?q=https://englishgrammarhere.com/vocabulary/fruits-names-list-definition-and-examples/&amp;sa=U&amp;ved=2ahUKEwj0j6DtlbT_AhVZXWwGHekrA7AQqoUBegQIEhAB&amp;usg=AOvVaw2941tSoKx-nwz58ZT-5eTv\"><div class=\"NZWO1b\"><img alt=\"\" class=\"yWs4tf\" src=\"https://encrypted-tbn0.gstatic.com/images?q=tbn:ANd9GcQF0IKCRPcaDP2Bcqb5K2xNM_5e3JkYdAQOJVXHSGgeoAECwFctx0jvjV14ub4&amp;s\"/></div></a></td></tr><tr><td><a href=\"/url?q=https://englishgrammarhere.com/vocabulary/fruits-names-list-definition-and-examples/&amp;sa=U&amp;ved=2ahUKEwj0j6DtlbT_AhVZXWwGHekrA7AQr4kDegQIEhAC&amp;usg=AOvVaw2VVG516asf2-3KPNpqDTwr\"><div class=\"jB2rPd\"> <span class=\"qXLe6d x3G5ab\"> <span class=\"fYyStc\">Fruits Names List,...</span> </span> <span class=\"qXLe6d F9iS2e\"> <span class=\"fYyStc\">englishgrammarhere.com</span> </span> </div></a></td></tr></table></div></div> </div> </div></td><td align=\"center\" class=\"e3goi\"><div class=\"mnTahd\"> <div> <div class=\"lIMUZd\"><div><table class=\"IkMU6e\"><tr><td><a href=\"/url?q=https://www.healthyeating.org/nutrition-topics/general/food-groups/fruits&amp;sa=U&amp;ved=2ahUKEwj0j6DtlbT_AhVZXWwGHekrA7AQqoUBegQIDhAB&amp;usg=AOvVaw1ZQt12APTMBBAEN0sfzjKM\"><div class=\"NZWO1b\"><img alt=\"\" class=\"yWs4tf\" src=\"https://encrypted-tbn0.gstatic.com/images?q=tbn:ANd9GcQ86pCpQFnZQzJlSUCJ-i04qECrYBku6HdYZj-wObv4baRAki2NSYnimmzNpw&amp;s\"/></div></a></td></tr><tr><td><a href=\"/url?q=https://www.healthyeating.org/nutrition-topics/general/food-groups/fruits&amp;sa=U&amp;ved=2ahUKEwj0j6DtlbT_AhVZXWwGHekrA7AQr4kDegQIDhAC&amp;usg=AOvVaw26F0doT9Xc-y1Wb9ciToxe\"><div class=\"jB2rPd\"> <span class=\"qXLe6d x3G5ab\"> <span class=\"fYyStc\">Fruits</span> </span> <span class=\"qXLe6d F9iS2e\"> <span class=\"fYyStc\">www.healthyeating.org</span> </span> </div></a></td></tr></table></div></div> </div> </div></td></tr><tr><td align=\"center\" class=\"e3goi\"><div class=\"mnTahd\"> <div> <div class=\"lIMUZd\"><div><table class=\"IkMU6e\"><tr><td><a href=\"/url?q=https://www.vecteezy.com/vector-art/6521988-colorful-simple-fruit-drawing-perfect-for-children-s-illustration-and-teaching&amp;sa=U&amp;ved=2ahUKEwj0j6DtlbT_AhVZXWwGHekrA7AQqoUBegQIDxAB&amp;usg=AOvVaw2YNePphPsUfSF1ZOBQ--lQ\"><div class=\"NZWO1b\"><img alt=\"\" class=\"yWs4tf\" src=\"https://encrypted-tbn0.gstatic.com/images?q=tbn:ANd9GcTTifgqC7e4QA3srbe0ZIbjQ7N52i8GGxDHtjtBNzjZoMlbk1PxY-uYTaAYMA&amp;s\"/></div></a></td></tr><tr><td><a href=\"/url?q=https://www.vecteezy.com/vector-art/6521988-colorful-simple-fruit-drawing-perfect-for-children-s-illustration-and-teaching&amp;sa=U&amp;ved=2ahUKEwj0j6DtlbT_AhVZXWwGHekrA7AQr4kDegQIDxAC&amp;usg=AOvVaw3P2JS_pttODuXwohKbFl6N\"><div class=\"jB2rPd\"> <span class=\"qXLe6d x3G5ab\"> <span class=\"fYyStc\">Colorful simple fruit...</span> </span> <span class=\"qXLe6d F9iS2e\"> <span class=\"fYyStc\">www.vecteezy.com</span> </span> </div></a></td></tr></table></div></div> </div> </div></td><td align=\"center\" class=\"e3goi\"><div class=\"mnTahd\"> <div> <div class=\"lIMUZd\"><div><table class=\"IkMU6e\"><tr><td><a href=\"/url?q=https://byjus.com/english/fruits-names/&amp;sa=U&amp;ved=2ahUKEwj0j6DtlbT_AhVZXWwGHekrA7AQqoUBegQIERAB&amp;usg=AOvVaw1bYbNI9uVYSe0EN5orzcHM\"><div class=\"NZWO1b\"><img alt=\"\" class=\"yWs4tf\" src=\"https://encrypted-tbn0.gstatic.com/images?q=tbn:ANd9GcTOmBaVSRKnhVrbqiHUJItPswgMFuUrnbiOABjoI8WOWnFHzi1d-wlvuMORAm0&amp;s\"/></div></a></td></tr><tr><td><a href=\"/url?q=https://byjus.com/english/fruits-names/&amp;sa=U&amp;ved=2ahUKEwj0j6DtlbT_AhVZXWwGHekrA7AQr4kDegQIERAC&amp;usg=AOvVaw28Bb9lusQhg285VTpn9FpZ\"><div class=\"jB2rPd\"> <span class=\"qXLe6d x3G5ab\"> <span class=\"fYyStc\">Fruit Names in English -...</span> </span> <span class=\"qXLe6d F9iS2e\"> <span class=\"fYyStc\">byjus.com</span> </span> </div></a></td></tr></table></div></div> </div> </div></td><td align=\"center\" class=\"e3goi\"><div class=\"mnTahd\"> <div> <div class=\"lIMUZd\"><div><table class=\"IkMU6e\"><tr><td><a href=\"/url?q=https://www.realsimple.com/healthiest-fruits-7371785&amp;sa=U&amp;ved=2ahUKEwj0j6DtlbT_AhVZXWwGHekrA7AQqoUBegQIEBAB&amp;usg=AOvVaw16kcc7iqoBe2D2qvLmz3Ul\"><div class=\"NZWO1b\"><img alt=\"\" class=\"yWs4tf\" src=\"https://encrypted-tbn0.gstatic.com/images?q=tbn:ANd9GcTkgObASKVV6PPuU4H7NZ4tiYHkU2n-A9hk4Gl-a7LbL_mSfpSpFYRquBJiyjo&amp;s\"/></div></a></td></tr><tr><td><a href=\"/url?q=https://www.realsimple.com/healthiest-fruits-7371785&amp;sa=U&amp;ved=2ahUKEwj0j6DtlbT_AhVZXWwGHekrA7AQr4kDegQIEBAC&amp;usg=AOvVaw1uN0crERJdGNlWinqe9ngc\"><div class=\"jB2rPd\"> <span class=\"qXLe6d x3G5ab\"> <span class=\"fYyStc\">The Healthiest Fruits To...</span> </span> <span class=\"qXLe6d F9iS2e\"> <span class=\"fYyStc\">www.realsimple.com</span> </span> </div></a></td></tr></table></div></div> </div> </div></td><td align=\"center\" class=\"e3goi\"><div class=\"mnTahd\"> <div> <div class=\"lIMUZd\"><div><table class=\"IkMU6e\"><tr><td><a href=\"/url?q=https://onlymyenglish.com/fruits-name-english/&amp;sa=U&amp;ved=2ahUKEwj0j6DtlbT_AhVZXWwGHekrA7AQqoUBegQIDBAB&amp;usg=AOvVaw215t8aMHsur12iEBihUMDb\"><div class=\"NZWO1b\"><img alt=\"\" class=\"yWs4tf\" src=\"https://encrypted-tbn0.gstatic.com/images?q=tbn:ANd9GcSAPRMJNugD2opEJjbKgi1_zT4e2KqeyOD0EkuhYBlGrFFUargNKmMz4dwL4n0&amp;s\"/></div></a></td></tr><tr><td><a href=\"/url?q=https://onlymyenglish.com/fruits-name-english/&amp;sa=U&amp;ved=2ahUKEwj0j6DtlbT_AhVZXWwGHekrA7AQr4kDegQIDBAC&amp;usg=AOvVaw06CgXWlEORitj2b0hd2xYb\"><div class=\"jB2rPd\"> <span class=\"qXLe6d x3G5ab\"> <span class=\"fYyStc\">50+ List of All Fruits Name...</span> </span> <span class=\"qXLe6d F9iS2e\"> <span class=\"fYyStc\">onlymyenglish.com</span> </span> </div></a></td></tr></table></div></div> </div> </div></td></tr><tr><td align=\"center\" class=\"e3goi\"><div class=\"mnTahd\"> <div> <div class=\"lIMUZd\"><div><table class=\"IkMU6e\"><tr><td><a href=\"/url?q=https://onlymyenglish.com/tropical-fruits/&amp;sa=U&amp;ved=2ahUKEwj0j6DtlbT_AhVZXWwGHekrA7AQqoUBegQICxAB&amp;usg=AOvVaw1IH2ElA2OD5_lim7gNfKdw\"><div class=\"NZWO1b\"><img alt=\"\" class=\"yWs4tf\" src=\"https://encrypted-tbn0.gstatic.com/images?q=tbn:ANd9GcQuAT50bfVOiskc4K5b4w3FkKq883yfA6tV9aixaUjm4wRpXjnr6pkv1nN5b9E&amp;s\"/></div></a></td></tr><tr><td><a href=\"/url?q=https://onlymyenglish.com/tropical-fruits/&amp;sa=U&amp;ved=2ahUKEwj0j6DtlbT_AhVZXWwGHekrA7AQr4kDegQICxAC&amp;usg=AOvVaw16QfBuJeevSfZpBKEYjWIe\"><div class=\"jB2rPd\"> <span class=\"qXLe6d x3G5ab\"> <span class=\"fYyStc\">40+ List of Tropical Fruits...</span> </span> <span class=\"qXLe6d F9iS2e\"> <span class=\"fYyStc\">onlymyenglish.com</span> </span> </div></a></td></tr></table></div></div> </div> </div></td><td align=\"center\" class=\"e3goi\"><div class=\"mnTahd\"> <div> <div class=\"lIMUZd\"><div><table class=\"IkMU6e\"><tr><td><a href=\"/url?q=https://www.healthline.com/nutrition/healthy-fruit&amp;sa=U&amp;ved=2ahUKEwj0j6DtlbT_AhVZXWwGHekrA7AQqoUBegQIDRAB&amp;usg=AOvVaw076NefBWB91InkyL0plVbs\"><div class=\"NZWO1b\"><img alt=\"\" class=\"yWs4tf\" src=\"https://encrypted-tbn0.gstatic.com/images?q=tbn:ANd9GcQBOHm3h3WfCioESVl-rzz5npd88JIrgTX4j5tZqrJ_G1Sto2KHFhfvfVZdPF0&amp;s\"/></div></a></td></tr><tr><td><a href=\"/url?q=https://www.healthline.com/nutrition/healthy-fruit&amp;sa=U&amp;ved=2ahUKEwj0j6DtlbT_AhVZXWwGHekrA7AQr4kDegQIDRAC&amp;usg=AOvVaw0wWozZf2g3voxs4sZQgNkD\"><div class=\"jB2rPd\"> <span class=\"qXLe6d x3G5ab\"> <span class=\"fYyStc\">20 Tasty Fruits with Health...</span> </span> <span class=\"qXLe6d F9iS2e\"> <span class=\"fYyStc\">www.healthline.com</span> </span> </div></a></td></tr></table></div></div> </div> </div></td><td align=\"center\" class=\"e3goi\"><div class=\"mnTahd\"> <div> <div class=\"lIMUZd\"><div><table class=\"IkMU6e\"><tr><td><a href=\"/url?q=https://www.researchgate.net/figure/Exotic-fruits-covered-by-the-review_fig1_225766656&amp;sa=U&amp;ved=2ahUKEwj0j6DtlbT_AhVZXWwGHekrA7AQqoUBegQICRAB&amp;usg=AOvVaw2K6WBEZeWQQUp1_jpcBFih\"><div class=\"NZWO1b\"><img alt=\"\" class=\"yWs4tf\" src=\"https://encrypted-tbn0.gstatic.com/images?q=tbn:ANd9GcQ8VLg_dIsviDrgnp4bTXbCTwNEYzRg9YbKyjDAoy97_coJkXFpqtcF7NBKWxU&amp;s\"/></div></a></td></tr><tr><td><a href=\"/url?q=https://www.researchgate.net/figure/Exotic-fruits-covered-by-the-review_fig1_225766656&amp;sa=U&amp;ved=2ahUKEwj0j6DtlbT_AhVZXWwGHekrA7AQr4kDegQICRAC&amp;usg=AOvVaw3GBCfy7cUY3HNl1JidF4vd\"><div class=\"jB2rPd\"> <span class=\"qXLe6d x3G5ab\"> <span class=\"fYyStc\">Exotic fruits covered by...</span> </span> <span class=\"qXLe6d F9iS2e\"> <span class=\"fYyStc\">www.researchgate.net</span> </span> </div></a></td></tr></table></div></div> </div> </div></td><td align=\"center\" class=\"e3goi\"><div class=\"mnTahd\"> <div> <div class=\"lIMUZd\"><div><table class=\"IkMU6e\"><tr><td><a href=\"/url?q=https://fruitguys.com/almanac/infographics/field-guide-fruit-colors/&amp;sa=U&amp;ved=2ahUKEwj0j6DtlbT_AhVZXWwGHekrA7AQqoUBegQIChAB&amp;usg=AOvVaw3Mn3tA8mwLBrjXkyMKYJYt\"><div class=\"NZWO1b\"><img alt=\"\" class=\"yWs4tf\" src=\"https://encrypted-tbn0.gstatic.com/images?q=tbn:ANd9GcTc-ENM2M04ubHxexTMM0Ud14IKXLOUS_kJBQhowbwxBf5SOTDJXB7gGTXzh8s&amp;s\"/></div></a></td></tr><tr><td><a href=\"/url?q=https://fruitguys.com/almanac/infographics/field-guide-fruit-colors/&amp;sa=U&amp;ved=2ahUKEwj0j6DtlbT_AhVZXWwGHekrA7AQr4kDegQIChAC&amp;usg=AOvVaw0jTJz-0UYKqH7oxZoO4o34\"><div class=\"jB2rPd\"> <span class=\"qXLe6d x3G5ab\"> <span class=\"fYyStc\">Field Guide to Fruit Colors...</span> </span> <span class=\"qXLe6d F9iS2e\"> <span class=\"fYyStc\">fruitguys.com</span> </span> </div></a></td></tr></table></div></div> </div> </div></td></tr><tr><td align=\"center\" class=\"e3goi\"><div class=\"mnTahd\"> <div> <div class=\"lIMUZd\"><div><table class=\"IkMU6e\"><tr><td><a href=\"/url?q=https://www.freepik.com/free-photos-vectors/fruits&amp;sa=U&amp;ved=2ahUKEwj0j6DtlbT_AhVZXWwGHekrA7AQqoUBegQIBRAB&amp;usg=AOvVaw1BITEsv9fA3ea73KqExG_6\"><div class=\"NZWO1b\"><img alt=\"\" class=\"yWs4tf\" src=\"https://encrypted-tbn0.gstatic.com/images?q=tbn:ANd9GcQ_LMd3guBxdN4SbXvzgcl3gTWjscP9ZthESjKt3Zt5-kx6-gcx9Q48tmNzE3o&amp;s\"/></div></a></td></tr><tr><td><a href=\"/url?q=https://www.freepik.com/free-photos-vectors/fruits&amp;sa=U&amp;ved=2ahUKEwj0j6DtlbT_AhVZXWwGHekrA7AQr4kDegQIBRAC&amp;usg=AOvVaw27mt3jxJiTvTkk9a923wqL\"><div class=\"jB2rPd\"> <span class=\"qXLe6d x3G5ab\"> <span class=\"fYyStc\">Fruits Images - Free...</span> </span> <span class=\"qXLe6d F9iS2e\"> <span class=\"fYyStc\">www.freepik.com</span> </span> </div></a></td></tr></table></div></div> </div> </div></td><td align=\"center\" class=\"e3goi\"><div class=\"mnTahd\"> <div> <div class=\"lIMUZd\"><div><table class=\"IkMU6e\"><tr><td><a href=\"/url?q=https://www.facebook.com/vocabularypointofficial/photos/a.116049283959137/187187356845329/%3Ftype%3D3&amp;sa=U&amp;ved=2ahUKEwj0j6DtlbT_AhVZXWwGHekrA7AQqoUBegQIBBAB&amp;usg=AOvVaw11s4PSevn7g9H7mLXbyAHf\"><div class=\"NZWO1b\"><img alt=\"\" class=\"yWs4tf\" src=\"https://encrypted-tbn0.gstatic.com/images?q=tbn:ANd9GcQSkMRlDkksZ3FpFFAkdAh-hWbCJ8iU4-ueAxaQEE9vEq6J9_6VGtRjLWbcWok&amp;s\"/></div></a></td></tr><tr><td><a href=\"/url?q=https://www.facebook.com/vocabularypointofficial/photos/a.116049283959137/187187356845329/%3Ftype%3D3&amp;sa=U&amp;ved=2ahUKEwj0j6DtlbT_AhVZXWwGHekrA7AQr4kDegQIBBAC&amp;usg=AOvVaw2m3qCKEMAdgzGrMnn637jA\"><div class=\"jB2rPd\"> <span class=\"qXLe6d x3G5ab\"> <span class=\"fYyStc\">Vocabularypoint - 48 fruits...</span> </span> <span class=\"qXLe6d F9iS2e\"> <span class=\"fYyStc\">www.facebook.com</span> </span> </div></a></td></tr></table></div></div> </div> </div></td><td align=\"center\" class=\"e3goi\"><div class=\"mnTahd\"> <div> <div class=\"lIMUZd\"><div><table class=\"IkMU6e\"><tr><td><a href=\"/url?q=https://www.diagnosisdiet.com/full-article/fruit&amp;sa=U&amp;ved=2ahUKEwj0j6DtlbT_AhVZXWwGHekrA7AQqoUBegQIAhAB&amp;usg=AOvVaw1JI8C5bZQjn4Z-OshckWj5\"><div class=\"NZWO1b\"><img alt=\"\" class=\"yWs4tf\" src=\"https://encrypted-tbn0.gstatic.com/images?q=tbn:ANd9GcRNLoCANWLkkPOc1MOIJUqlva4DbxxmUiFwZuqtP5UPuqg2NoEFELYhZkg6eQ&amp;s\"/></div></a></td></tr><tr><td><a href=\"/url?q=https://www.diagnosisdiet.com/full-article/fruit&amp;sa=U&amp;ved=2ahUKEwj0j6DtlbT_AhVZXWwGHekrA7AQr4kDegQIAhAC&amp;usg=AOvVaw0LZXdTAVS7icyxpwvG6OHJ\"><div class=\"jB2rPd\"> <span class=\"qXLe6d x3G5ab\"> <span class=\"fYyStc\">Do We Need Fruit...</span> </span> <span class=\"qXLe6d F9iS2e\"> <span class=\"fYyStc\">www.diagnosisdiet.com</span> </span> </div></a></td></tr></table></div></div> </div> </div></td><td align=\"center\" class=\"e3goi\"><div class=\"mnTahd\"> <div> <div class=\"lIMUZd\"><div><table class=\"IkMU6e\"><tr><td><a href=\"/url?q=https://www.bbcgoodfood.com/howto/guide/top-20-healthiest-fruits&amp;sa=U&amp;ved=2ahUKEwj0j6DtlbT_AhVZXWwGHekrA7AQqoUBegQIBxAB&amp;usg=AOvVaw27RxNk7TUc1DSiSmdxpuEH\"><div class=\"NZWO1b\"><img alt=\"\" class=\"yWs4tf\" src=\"https://encrypted-tbn0.gstatic.com/images?q=tbn:ANd9GcS1aV-LHmfzpzg2pe0OvmkK6Bp5DMCWKNsUaa9SPQffBepZUK-zEPib8ZB3gg&amp;s\"/></div></a></td></tr><tr><td><a href=\"/url?q=https://www.bbcgoodfood.com/howto/guide/top-20-healthiest-fruits&amp;sa=U&amp;ved=2ahUKEwj0j6DtlbT_AhVZXWwGHekrA7AQr4kDegQIBxAC&amp;usg=AOvVaw0QGdth1W7sowmWk50pN6_n\"><div class=\"jB2rPd\"> <span class=\"qXLe6d x3G5ab\"> <span class=\"fYyStc\">Top 20 healthiest fruits |...</span> </span> <span class=\"qXLe6d F9iS2e\"> <span class=\"fYyStc\">www.bbcgoodfood.com</span> </span> </div></a></td></tr></table></div></div> </div> </div></td></tr><tr><td align=\"center\" class=\"e3goi\"><div class=\"mnTahd\"> <div> <div class=\"lIMUZd\"><div><table class=\"IkMU6e\"><tr><td><a href=\"/url?q=https://www.cntraveler.com/galleries/2014-11-17/11-unusual-fruits-you-should-try-on-your-next-trip&amp;sa=U&amp;ved=2ahUKEwj0j6DtlbT_AhVZXWwGHekrA7AQqoUBegQIARAB&amp;usg=AOvVaw1Jc67FeTg1GF5jXPd9n1nm\"><div class=\"NZWO1b\"><img alt=\"\" class=\"yWs4tf\" src=\"https://encrypted-tbn0.gstatic.com/images?q=tbn:ANd9GcRv9utcgW4qH5gGtW5OOmNM30ScnXKmh-LTCjs-oZTHSnDxZ9MdkqRZo6NehVQ&amp;s\"/></div></a></td></tr><tr><td><a href=\"/url?q=https://www.cntraveler.com/galleries/2014-11-17/11-unusual-fruits-you-should-try-on-your-next-trip&amp;sa=U&amp;ved=2ahUKEwj0j6DtlbT_AhVZXWwGHekrA7AQr4kDegQIARAC&amp;usg=AOvVaw0riMUjOFp7fGzdJdgAVGdz\"><div class=\"jB2rPd\"> <span class=\"qXLe6d x3G5ab\"> <span class=\"fYyStc\">11 Rare and Unusual Fruits...</span> </span> <span class=\"qXLe6d F9iS2e\"> <span class=\"fYyStc\">www.cntraveler.com</span> </span> </div></a></td></tr></table></div></div> </div> </div></td><td align=\"center\" class=\"e3goi\"><div class=\"mnTahd\"> <div> <div class=\"lIMUZd\"><div><table class=\"IkMU6e\"><tr><td><a href=\"/url?q=https://www.123rf.com/photo_14632776_35-fruits-icons.html&amp;sa=U&amp;ved=2ahUKEwj0j6DtlbT_AhVZXWwGHekrA7AQqoUBegQIBhAB&amp;usg=AOvVaw1YzumlvYfOCGvMAOWCgFnE\"><div class=\"NZWO1b\"><img alt=\"\" class=\"yWs4tf\" src=\"https://encrypted-tbn0.gstatic.com/images?q=tbn:ANd9GcQLiJ28Ll6tOy_5iABCm2sIMgaTGW5_hRqSoTcHPd3gMWHWcZHjmgPBpNKPeQ&amp;s\"/></div></a></td></tr><tr><td><a href=\"/url?q=https://www.123rf.com/photo_14632776_35-fruits-icons.html&amp;sa=U&amp;ved=2ahUKEwj0j6DtlbT_AhVZXWwGHekrA7AQr4kDegQIBhAC&amp;usg=AOvVaw35pRfDfuYsgwuU538B6jwB\"><div class=\"jB2rPd\"> <span class=\"qXLe6d x3G5ab\"> <span class=\"fYyStc\">35 Fruits Icons Royalty...</span> </span> <span class=\"qXLe6d F9iS2e\"> <span class=\"fYyStc\">www.123rf.com</span> </span> </div></a></td></tr></table></div></div> </div> </div></td><td align=\"center\" class=\"e3goi\"><div class=\"mnTahd\"> <div> <div class=\"lIMUZd\"><div><table class=\"IkMU6e\"><tr><td><a href=\"/url?q=https://www.freepik.com/vectors/fruit&amp;sa=U&amp;ved=2ahUKEwj0j6DtlbT_AhVZXWwGHekrA7AQqoUBegQIABAB&amp;usg=AOvVaw3GGH4Vo3Bo1C7mBsJ3h3wS\"><div class=\"NZWO1b\"><img alt=\"\" class=\"yWs4tf\" src=\"https://encrypted-tbn0.gstatic.com/images?q=tbn:ANd9GcSPcqGAEFqWSaL393Ns6brpIC38D8Z0uKVXv0im3T59NzoqyD_zt7sfCgnyg6M&amp;s\"/></div></a></td></tr><tr><td><a href=\"/url?q=https://www.freepik.com/vectors/fruit&amp;sa=U&amp;ved=2ahUKEwj0j6DtlbT_AhVZXWwGHekrA7AQr4kDegQIABAC&amp;usg=AOvVaw3ywGJ35YEyu8H4fWG3KKkA\"><div class=\"jB2rPd\"> <span class=\"qXLe6d x3G5ab\"> <span class=\"fYyStc\">Fruit Vectors &amp;...</span> </span> <span class=\"qXLe6d F9iS2e\"> <span class=\"fYyStc\">www.freepik.com</span> </span> </div></a></td></tr></table></div></div> </div> </div></td><td align=\"center\" class=\"e3goi\"><div class=\"mnTahd\"> <div> <div class=\"lIMUZd\"><div><table class=\"IkMU6e\"><tr><td><a href=\"/url?q=https://engdic.org/5-fruits-names-with-pictures/&amp;sa=U&amp;ved=2ahUKEwj0j6DtlbT_AhVZXWwGHekrA7AQqoUBegQIAxAB&amp;usg=AOvVaw3weTZYskmXLxPyKV04pjgh\"><div class=\"NZWO1b\"><img alt=\"\" class=\"yWs4tf\" src=\"https://encrypted-tbn0.gstatic.com/images?q=tbn:ANd9GcSjN3_e3M7W7ZOi7W0JDBvgVdm8Jh-gLrBfUOUOU_IbkI25J5MQ-8u9_glW8w&amp;s\"/></div></a></td></tr><tr><td><a href=\"/url?q=https://engdic.org/5-fruits-names-with-pictures/&amp;sa=U&amp;ved=2ahUKEwj0j6DtlbT_AhVZXWwGHekrA7AQr4kDegQIAxAC&amp;usg=AOvVaw2agt_4-i6SPGu0wMBAexzY\"><div class=\"jB2rPd\"> <span class=\"qXLe6d x3G5ab\"> <span class=\"fYyStc\">5 Fruits Names with...</span> </span> <span class=\"qXLe6d F9iS2e\"> <span class=\"fYyStc\">engdic.org</span> </span> </div></a></td></tr></table></div></div> </div> </div></td></tr></table></div><table class=\"uZgmoc\"><tbody><td><a class=\"frGj1b\" href=\"/search?q=fruits&amp;biw=1036&amp;bih=666&amp;ie=UTF-8&amp;tbm=isch&amp;ei=IgyCZPT2GNm6seMP6deMgAs&amp;start=20&amp;sa=N\">Next &gt;</a></td></tbody></table><br/><div class=\"TuS8Ad\" data-ved=\"0ahUKEwj0j6DtlbT_AhVZXWwGHekrA7AQpyoIUg\"><style>.VYM29{font-weight:bold}</style><div align=\"center\" class=\"HddGcc\"><span class=\"VYM29\">Ahmedabad, Gujarat</span><span> - </span><span>From your IP address</span><span> - </span><a href=\"/url?q=https://support.google.com/websearch%3Fp%3Dws_settings_location%26hl%3Den-IN&amp;sa=U&amp;ved=0ahUKEwj0j6DtlbT_AhVZXWwGHekrA7AQty4IUw&amp;usg=AOvVaw3mM0gpcGk-e1c7VzroWBND\">Learn more</a></div><div align=\"center\"><a class=\"rEM8G\" href=\"/url?q=https://accounts.google.com/ServiceLogin%3Fcontinue%3Dhttps://www.google.com/search%253Fq%253Dfruits%2526tbm%253Disch%2526source%253Dhp%2526biw%253D1036%2526bih%253D666%2526ei%253DrDiBZNn7HdbZseMP7ry22AQ%2526iflsig%253DAOEireoAAAAAZIFGvJuc8jk92ewnkwUvJ8fxI_Plmf9o%2526ved%253D0ahUKEwjZgZiYzLL_AhXWbGwGHW6eDUsQ4dUDCAc%2526oq%253Dfruits%2526gs_lcp%253DCgNpbWcQDDIICAAQgAQQsQMyCAgAEIAEELEDMggIABCABBCxAzIICAAQgAQQsQMyCAgAEIAEELEDMggIABCABBCxAzIICAAQgAQQsQMyCwgAEIAEELEDEIMBMggIABCABBCxAzIICAAQgAQQsQNQ08EKWPHBCmDxsw5oAHAAeAGAAdQEiAHuEZIBAzUtNJgBAKABAaoBC2d3cy13aXotaW1nsAEA%2526sclient%253Dimg%26hl%3Den&amp;sa=U&amp;ved=0ahUKEwj0j6DtlbT_AhVZXWwGHekrA7AQxs8CCFQ&amp;usg=AOvVaw1T8FpviAldUTShHKcUfUk3\">Sign in</a></div><div><table class=\"bookcf\"><tbody class=\"InWNIe\"><tr><td><a class=\"rEM8G\" href=\"https://www.google.com/preferences?hl=en&amp;sa=X&amp;ved=0ahUKEwj0j6DtlbT_AhVZXWwGHekrA7AQv5YECFU\">Settings</a></td><td><a class=\"rEM8G\" href=\"https://www.google.com/intl/en_in/policies/privacy/\">Privacy</a></td><td><a class=\"rEM8G\" href=\"https://www.google.com/intl/en_in/policies/terms/\">Terms</a></td></tr></tbody></table></div></div><div> </div></body></html>"
      ]
     },
     "execution_count": 14,
     "metadata": {},
     "output_type": "execute_result"
    }
   ],
   "source": [
    "soup"
   ]
  },
  {
   "cell_type": "code",
   "execution_count": 7,
   "id": "75b1331e",
   "metadata": {},
   "outputs": [],
   "source": [
    "fruit_images = []"
   ]
  },
  {
   "cell_type": "code",
   "execution_count": 30,
   "id": "b033a38e",
   "metadata": {},
   "outputs": [],
   "source": [
    "i = driver.find_elements(By.XPATH,'//img[@class=\"rg_i Q4LuWd\"]')\n",
    "for k in i[0:10]:\n",
    "    fruit_images.append(k.get_attribute('data-src'))"
   ]
  },
  {
   "cell_type": "code",
   "execution_count": 31,
   "id": "9938f92a",
   "metadata": {},
   "outputs": [
    {
     "data": {
      "text/plain": [
       "[None, None, None, None, None, None, None, None, None, None]"
      ]
     },
     "execution_count": 31,
     "metadata": {},
     "output_type": "execute_result"
    }
   ],
   "source": [
    "fruit_images"
   ]
  },
  {
   "cell_type": "code",
   "execution_count": null,
   "id": "21f9eee2",
   "metadata": {},
   "outputs": [],
   "source": []
  },
  {
   "cell_type": "markdown",
   "id": "20c2799a",
   "metadata": {},
   "source": [
    "Q4) Write a python program to search for a smartphone(e.g.: Oneplus Nord, pixel 4A, etc.) on www.flipkart.com\n",
    "and scrape following details for all the search results displayed on 1st page. Details to be scraped: “Brand \n",
    "Name”, “Smartphone name”, “Colour”, “RAM”, “Storage(ROM)”, “Primary Camera”, \n",
    "“Secondary Camera”, “Display Size”, “Battery Capacity”, “Price”, “Product URL”. Incase if any of the \n",
    "details is missing then replace it by “- “. Save your results in a dataframe and CSV."
   ]
  },
  {
   "cell_type": "code",
   "execution_count": 1,
   "id": "5e77d6b6",
   "metadata": {},
   "outputs": [],
   "source": [
    "from bs4 import BeautifulSoup\n",
    "import selenium\n",
    "from selenium import webdriver\n",
    "import pandas as pd\n",
    "import warnings\n",
    "warnings.filterwarnings('ignore')\n",
    "from selenium.webdriver.common.by import By\n",
    "import time\n",
    "from selenium.common.exceptions import NoSuchElementException\n",
    "import requests"
   ]
  },
  {
   "cell_type": "code",
   "execution_count": 2,
   "id": "a871b5ec",
   "metadata": {},
   "outputs": [],
   "source": [
    "driver = webdriver.Chrome(r'C:\\Users\\Kushal Kulkarni\\Downloads\\chromedriver_exe')"
   ]
  },
  {
   "cell_type": "code",
   "execution_count": 3,
   "id": "c2cab986",
   "metadata": {},
   "outputs": [],
   "source": [
    "F = driver.get('https://www.flipkart.com')"
   ]
  },
  {
   "cell_type": "code",
   "execution_count": 4,
   "id": "f0402995",
   "metadata": {},
   "outputs": [],
   "source": [
    "mobile = driver.find_element(By.XPATH,'/html/body/div[1]/div/div[1]/div[1]/div[2]/div[2]/form/div/div/input')\n",
    "mobile.send_keys('Samsung Galaxy mobile')"
   ]
  },
  {
   "cell_type": "code",
   "execution_count": 5,
   "id": "2d03e777",
   "metadata": {},
   "outputs": [],
   "source": [
    "search_button = driver.find_element(By.XPATH,'/html/body/div[1]/div/div[1]/div[1]/div[2]/div[2]/form/div/button')\n",
    "search_button.click()"
   ]
  },
  {
   "cell_type": "code",
   "execution_count": 6,
   "id": "53900c58",
   "metadata": {},
   "outputs": [],
   "source": [
    "url = []\n",
    "u = driver.find_elements(By.XPATH,'//a[@class=\"_1fQZEK\"]')\n",
    "for i in u:\n",
    "    url.append(i.get_attribute('href'))"
   ]
  },
  {
   "cell_type": "code",
   "execution_count": 7,
   "id": "ec462c69",
   "metadata": {},
   "outputs": [
    {
     "data": {
      "text/plain": [
       "24"
      ]
     },
     "execution_count": 7,
     "metadata": {},
     "output_type": "execute_result"
    }
   ],
   "source": [
    "len(url)"
   ]
  },
  {
   "cell_type": "code",
   "execution_count": 8,
   "id": "58787a03",
   "metadata": {},
   "outputs": [],
   "source": [
    "phone_name = []\n",
    "colour = []\n",
    "ram = []\n",
    "storage = []\n",
    "primary_camera = []\n",
    "secondary_camera = []\n",
    "display_size = []\n",
    "battery = []\n",
    "price = []"
   ]
  },
  {
   "cell_type": "code",
   "execution_count": 12,
   "id": "018d7898",
   "metadata": {},
   "outputs": [],
   "source": [
    "for i in url:\n",
    "    driver.get(i)\n",
    "    time.sleep(3)\n",
    "    try:\n",
    "        p = driver.find_element(By.XPATH,'/html/body/div[1]/div/div[3]/div[1]/div[2]/div[9]/div[5]/div/div[2]/div[1]/div[1]/table/tbody/tr[3]/td[2]/ul/li')\n",
    "        phone_name.append(p.text)\n",
    "    except NoSuchElementException:\n",
    "        phone_name.append('-')"
   ]
  },
  {
   "cell_type": "code",
   "execution_count": 13,
   "id": "08fd8ec9",
   "metadata": {},
   "outputs": [
    {
     "data": {
      "text/plain": [
       "['Galaxy F04',\n",
       " 'Galaxy F13',\n",
       " 'Galaxy F04',\n",
       " 'Galaxy F13',\n",
       " 'Galaxy F13',\n",
       " 'Galaxy F13',\n",
       " 'Galaxy F23 5G',\n",
       " 'Galaxy F23 5G',\n",
       " '-',\n",
       " 'Galaxy F14 5G',\n",
       " 'Galaxy F14 5G',\n",
       " 'Galaxy F14 5G',\n",
       " 'Galaxy F14 5G',\n",
       " 'Galaxy F14 5G',\n",
       " 'Galaxy F14 5G',\n",
       " '-',\n",
       " 'Galaxy F13',\n",
       " '-',\n",
       " '-',\n",
       " 'Galaxy F23 5G',\n",
       " 'Galaxy F23 5G',\n",
       " 'Galaxy F13',\n",
       " '-',\n",
       " '-']"
      ]
     },
     "execution_count": 13,
     "metadata": {},
     "output_type": "execute_result"
    }
   ],
   "source": [
    "phone_name"
   ]
  },
  {
   "cell_type": "code",
   "execution_count": 14,
   "id": "cfc16529",
   "metadata": {},
   "outputs": [],
   "source": [
    "for i in url:\n",
    "    driver.get(i)\n",
    "    time.sleep(3)\n",
    "    try:\n",
    "        c = driver.find_element(By.XPATH,'/html/body/div[1]/div/div[3]/div[1]/div[2]/div[9]/div[5]/div/div[2]/div[1]/div[1]/table/tbody/tr[4]/td[2]/ul/li')\n",
    "        colour.append(c.text)\n",
    "    except NoSuchElementException:\n",
    "        colour.append('-')"
   ]
  },
  {
   "cell_type": "code",
   "execution_count": 15,
   "id": "899f24c7",
   "metadata": {},
   "outputs": [
    {
     "data": {
      "text/plain": [
       "['Opal Green',\n",
       " 'Waterfall Blue',\n",
       " 'Jade Purple',\n",
       " 'Waterfall Blue',\n",
       " 'Nightsky Green',\n",
       " 'Nightsky Green',\n",
       " 'Aqua Blue',\n",
       " 'Forest Green',\n",
       " 'Copper Blush',\n",
       " 'GOAT Green',\n",
       " 'B.A.E. Purple',\n",
       " 'GOAT Green',\n",
       " 'B.A.E. Purple',\n",
       " 'OMG Black',\n",
       " 'OMG Black',\n",
       " '-',\n",
       " 'Sunrise Copper',\n",
       " '-',\n",
       " '-',\n",
       " 'Aqua Blue',\n",
       " 'Forest Green',\n",
       " 'Sunrise Copper',\n",
       " '-',\n",
       " '-']"
      ]
     },
     "execution_count": 15,
     "metadata": {},
     "output_type": "execute_result"
    }
   ],
   "source": [
    "colour"
   ]
  },
  {
   "cell_type": "code",
   "execution_count": 27,
   "id": "75259857",
   "metadata": {},
   "outputs": [],
   "source": [
    "from selenium.webdriver.support.ui import WebDriverWait\n",
    "from selenium.webdriver.support import expected_conditions as EC\n",
    "from selenium.common.exceptions import TimeoutException"
   ]
  },
  {
   "cell_type": "code",
   "execution_count": 30,
   "id": "7c37627e",
   "metadata": {},
   "outputs": [
    {
     "ename": "TypeError",
     "evalue": "presence_of_element_located() takes 1 positional argument but 2 were given",
     "output_type": "error",
     "traceback": [
      "\u001b[1;31m---------------------------------------------------------------------------\u001b[0m",
      "\u001b[1;31mTypeError\u001b[0m                                 Traceback (most recent call last)",
      "\u001b[1;32m~\\AppData\\Local\\Temp\\ipykernel_16228\\3918743375.py\u001b[0m in \u001b[0;36m<module>\u001b[1;34m\u001b[0m\n\u001b[0;32m      3\u001b[0m     \u001b[0mdelay\u001b[0m \u001b[1;33m=\u001b[0m \u001b[1;36m5\u001b[0m\u001b[1;33m\u001b[0m\u001b[1;33m\u001b[0m\u001b[0m\n\u001b[0;32m      4\u001b[0m     \u001b[1;32mtry\u001b[0m\u001b[1;33m:\u001b[0m\u001b[1;33m\u001b[0m\u001b[1;33m\u001b[0m\u001b[0m\n\u001b[1;32m----> 5\u001b[1;33m         \u001b[0mWebDriverWait\u001b[0m\u001b[1;33m(\u001b[0m\u001b[0mdriver\u001b[0m\u001b[1;33m,\u001b[0m\u001b[0mdelay\u001b[0m\u001b[1;33m)\u001b[0m\u001b[1;33m.\u001b[0m\u001b[0muntil\u001b[0m\u001b[1;33m(\u001b[0m\u001b[0mEC\u001b[0m\u001b[1;33m.\u001b[0m\u001b[0mpresence_of_element_located\u001b[0m\u001b[1;33m(\u001b[0m\u001b[0mBy\u001b[0m\u001b[1;33m.\u001b[0m\u001b[0mXPATH\u001b[0m\u001b[1;33m,\u001b[0m\u001b[1;34m'/html/body/div[1]/div/div[3]/div[1]/div[2]/div[9]/div[5]/div/div[2]/div[1]/div[4]/table/tbody/tr[2]/td[2]'\u001b[0m\u001b[1;33m)\u001b[0m\u001b[1;33m)\u001b[0m\u001b[1;33m\u001b[0m\u001b[1;33m\u001b[0m\u001b[0m\n\u001b[0m\u001b[0;32m      6\u001b[0m         \u001b[0mr\u001b[0m \u001b[1;33m=\u001b[0m \u001b[0mdriver\u001b[0m\u001b[1;33m.\u001b[0m\u001b[0mfind_element\u001b[0m\u001b[1;33m(\u001b[0m\u001b[0mBy\u001b[0m\u001b[1;33m.\u001b[0m\u001b[0mXPATH\u001b[0m\u001b[1;33m,\u001b[0m\u001b[1;34m'/html/body/div[1]/div/div[3]/div[1]/div[2]/div[9]/div[5]/div/div[2]/div[1]/div[4]/table/tbody/tr[2]/td[2]'\u001b[0m\u001b[1;33m)\u001b[0m\u001b[1;33m\u001b[0m\u001b[1;33m\u001b[0m\u001b[0m\n\u001b[0;32m      7\u001b[0m         \u001b[0mram\u001b[0m\u001b[1;33m.\u001b[0m\u001b[0mappend\u001b[0m\u001b[1;33m(\u001b[0m\u001b[0mr\u001b[0m\u001b[1;33m.\u001b[0m\u001b[0mtext\u001b[0m\u001b[1;33m)\u001b[0m\u001b[1;33m\u001b[0m\u001b[1;33m\u001b[0m\u001b[0m\n",
      "\u001b[1;31mTypeError\u001b[0m: presence_of_element_located() takes 1 positional argument but 2 were given"
     ]
    }
   ],
   "source": [
    "for i in url:\n",
    "    driver.get(i)\n",
    "    delay = 5\n",
    "    try:\n",
    "        WebDriverWait(driver,delay).until(EC.presence_of_element_located(By.XPATH,'/html/body/div[1]/div/div[3]/div[1]/div[2]/div[9]/div[5]/div/div[2]/div[1]/div[4]/table/tbody/tr[2]/td[2]'))\n",
    "        r = driver.find_element(By.XPATH,'/html/body/div[1]/div/div[3]/div[1]/div[2]/div[9]/div[5]/div/div[2]/div[1]/div[4]/table/tbody/tr[2]/td[2]')\n",
    "        ram.append(r.text)\n",
    "    except NoSuchElementException:\n",
    "        ram.append('-')"
   ]
  },
  {
   "cell_type": "code",
   "execution_count": 24,
   "id": "633e8ba0",
   "metadata": {},
   "outputs": [
    {
     "data": {
      "text/plain": [
       "['',\n",
       " '',\n",
       " '',\n",
       " '',\n",
       " '',\n",
       " '',\n",
       " '',\n",
       " '',\n",
       " '',\n",
       " '',\n",
       " '',\n",
       " '',\n",
       " '',\n",
       " '',\n",
       " '',\n",
       " '-',\n",
       " '',\n",
       " '-',\n",
       " '-',\n",
       " '',\n",
       " '',\n",
       " '',\n",
       " '-',\n",
       " '-']"
      ]
     },
     "execution_count": 24,
     "metadata": {},
     "output_type": "execute_result"
    }
   ],
   "source": [
    "ram"
   ]
  },
  {
   "cell_type": "code",
   "execution_count": 33,
   "id": "9c987e16",
   "metadata": {},
   "outputs": [],
   "source": [
    "ram.clear()"
   ]
  },
  {
   "cell_type": "code",
   "execution_count": 31,
   "id": "05d78cdf",
   "metadata": {},
   "outputs": [],
   "source": [
    "for i in url:\n",
    "    driver.get(i)\n",
    "    time.sleep(10)\n",
    "    try:\n",
    "        s = driver.find_element(By.XPATH,'/html/body/div[1]/div/div[3]/div[1]/div[2]/div[10]/div[5]/div/div[2]/div[1]/div[4]/table/tbody/tr[1]/td[2]/ul/li')\n",
    "        storage.append(s.text)\n",
    "    except NoSuchElementException:\n",
    "        storage.append('-')"
   ]
  },
  {
   "cell_type": "code",
   "execution_count": 32,
   "id": "435dcde2",
   "metadata": {},
   "outputs": [
    {
     "data": {
      "text/plain": [
       "['-',\n",
       " '-',\n",
       " '-',\n",
       " '-',\n",
       " '-',\n",
       " '-',\n",
       " '-',\n",
       " '-',\n",
       " '-',\n",
       " '-',\n",
       " '-',\n",
       " '-',\n",
       " '-',\n",
       " '-',\n",
       " '-',\n",
       " '-',\n",
       " '-',\n",
       " '-',\n",
       " '-',\n",
       " '-',\n",
       " '-',\n",
       " '-',\n",
       " '-',\n",
       " '-']"
      ]
     },
     "execution_count": 32,
     "metadata": {},
     "output_type": "execute_result"
    }
   ],
   "source": [
    "storage"
   ]
  },
  {
   "cell_type": "code",
   "execution_count": 34,
   "id": "a5500c6a",
   "metadata": {},
   "outputs": [],
   "source": [
    "storage.clear()"
   ]
  },
  {
   "cell_type": "code",
   "execution_count": 35,
   "id": "425c7d53",
   "metadata": {},
   "outputs": [],
   "source": [
    "phones = requests.get('https://www.flipkart.com/mobiles/samsung~brand/pr?sid=tyy,4io&marketplace=FLIPKART&otracker=product_breadCrumbs_SAMSUNG+Mobiles')"
   ]
  },
  {
   "cell_type": "code",
   "execution_count": 36,
   "id": "cda1387c",
   "metadata": {},
   "outputs": [
    {
     "data": {
      "text/plain": [
       "<Response [200]>"
      ]
     },
     "execution_count": 36,
     "metadata": {},
     "output_type": "execute_result"
    }
   ],
   "source": [
    "phones"
   ]
  },
  {
   "cell_type": "code",
   "execution_count": 37,
   "id": "3b73ace5",
   "metadata": {},
   "outputs": [],
   "source": [
    "ph = BeautifulSoup(phones.content)"
   ]
  },
  {
   "cell_type": "code",
   "execution_count": null,
   "id": "1a55602e",
   "metadata": {},
   "outputs": [],
   "source": [
    "for i in url:\n",
    "    driver.get(i)\n",
    "    time.sleep(10)\n",
    "    try:\n",
    "        pc = driver.find_element(By.XPATH,'/html/body/div[1]/div/div[3]/div[1]/div[2]/div[10]/div[5]/div/div[2]/div[1]/div[5]/table/tbody/tr[2]/td[2]/ul/li')\n",
    "        primary_camera.append(pc.text)\n",
    "    except NoSuchElementException:\n",
    "        primary_camera.append('-')"
   ]
  },
  {
   "cell_type": "code",
   "execution_count": null,
   "id": "ce8dfd8a",
   "metadata": {},
   "outputs": [],
   "source": [
    "for i in url:\n",
    "    driver.get(i)\n",
    "    time.sleep(10)\n",
    "    try:\n",
    "        sc = driver.find_element(By.XPATH,'/html/body/div[1]/div/div[3]/div[1]/div[2]/div[10]/div[5]/div/div[2]/div[1]/div[5]/table/tbody/tr[6]/td[2]/ul/li')\n",
    "        secondary_camera.append(sc.text)\n",
    "    except:\n",
    "        secondary_camera.append('-')"
   ]
  },
  {
   "cell_type": "markdown",
   "id": "f9a7f561",
   "metadata": {},
   "source": [
    "Q5) Write a program to scrap geospatial coordinates (latitude, longitude) of a city searched on google maps. "
   ]
  },
  {
   "cell_type": "code",
   "execution_count": 77,
   "id": "4cc33808",
   "metadata": {},
   "outputs": [],
   "source": [
    "driver = webdriver.Chrome(r'C:\\Users\\Kushal Kulkarni\\Downloads\\chromedriver_exe')"
   ]
  },
  {
   "cell_type": "code",
   "execution_count": 78,
   "id": "2a5e1293",
   "metadata": {},
   "outputs": [],
   "source": [
    "search = driver.get('https://www.google.com')"
   ]
  },
  {
   "cell_type": "code",
   "execution_count": 79,
   "id": "cc6fd5c3",
   "metadata": {},
   "outputs": [],
   "source": [
    "city = driver.find_element(By.XPATH,'/html/body/div[1]/div[3]/form/div[1]/div[1]/div[1]/div/div[2]/textarea')\n",
    "city.send_keys('latitude and longitude of Dwarka city')"
   ]
  },
  {
   "cell_type": "code",
   "execution_count": 81,
   "id": "99211af0",
   "metadata": {},
   "outputs": [],
   "source": [
    "search_button = driver.find_element(By.XPATH,'/html/body/div[1]/div[3]/form/div[1]/div[1]/div[4]/center/input[1]')\n",
    "search_button.click()"
   ]
  },
  {
   "cell_type": "code",
   "execution_count": 82,
   "id": "4c9b8ad8",
   "metadata": {},
   "outputs": [],
   "source": [
    "lat_long =[]\n",
    "for i in driver.find_elements(By.XPATH,'/html/body/div[6]/div/div[11]/div[1]/div[2]/div[2]/div/div/div[1]/div/block-component/div/div[1]/div[1]/div/div/div[1]/div/div/div[2]/div/div/div/div[1]'):\n",
    "    lat_long.append(i.text)"
   ]
  },
  {
   "cell_type": "code",
   "execution_count": 83,
   "id": "78649d2a",
   "metadata": {},
   "outputs": [
    {
     "data": {
      "text/plain": [
       "['22.2442° N, 68.9685° E']"
      ]
     },
     "execution_count": 83,
     "metadata": {},
     "output_type": "execute_result"
    }
   ],
   "source": [
    "lat_long"
   ]
  },
  {
   "cell_type": "code",
   "execution_count": 85,
   "id": "67305dad",
   "metadata": {},
   "outputs": [
    {
     "name": "stdout",
     "output_type": "stream",
     "text": [
      "The Latitude and Longitude of Dwarka City In India is ['22.2442° N, 68.9685° E']\n"
     ]
    }
   ],
   "source": [
    "print('The Latitude and Longitude of Dwarka City In India is',lat_long)"
   ]
  },
  {
   "cell_type": "markdown",
   "id": "235122c1",
   "metadata": {},
   "source": [
    "Q6) Write a program to scrap all the available details of best gaming laptops from digit.in. "
   ]
  },
  {
   "cell_type": "code",
   "execution_count": 87,
   "id": "1a87292e",
   "metadata": {},
   "outputs": [],
   "source": [
    "driver = webdriver.Chrome(r'C:\\Users\\Kushal Kulkarni\\Downloads\\chromedriver_exe')"
   ]
  },
  {
   "cell_type": "code",
   "execution_count": 88,
   "id": "8ebab38d",
   "metadata": {},
   "outputs": [],
   "source": [
    "search = driver.get('https://digit.in')"
   ]
  },
  {
   "cell_type": "code",
   "execution_count": 89,
   "id": "ff28af32",
   "metadata": {},
   "outputs": [],
   "source": [
    "s1 = driver.find_element(By.XPATH,'/html/body/div[1]/div/div[3]/div[2]')\n",
    "s1.click()"
   ]
  },
  {
   "cell_type": "code",
   "execution_count": 90,
   "id": "80f8b8a5",
   "metadata": {},
   "outputs": [],
   "source": [
    "s2 = driver.find_element(By.XPATH,'/html/body/div[1]/div/div[3]/div[3]/div/div/input')\n",
    "s2.send_keys('Gaming Laptops')\n",
    "s2.click()"
   ]
  },
  {
   "cell_type": "code",
   "execution_count": 105,
   "id": "3a5d82c6",
   "metadata": {},
   "outputs": [],
   "source": [
    "url = []\n",
    "u = driver.find_elements(By.XPATH,'/html/body/div[7]/div[2]/div[2]/div/a')\n",
    "for i in u:\n",
    "    url.append(i.get_attribute('href'))"
   ]
  },
  {
   "cell_type": "code",
   "execution_count": 106,
   "id": "73991554",
   "metadata": {},
   "outputs": [
    {
     "data": {
      "text/plain": [
       "10"
      ]
     },
     "execution_count": 106,
     "metadata": {},
     "output_type": "execute_result"
    }
   ],
   "source": [
    "len(url)"
   ]
  },
  {
   "cell_type": "code",
   "execution_count": 107,
   "id": "2f9bae6f",
   "metadata": {},
   "outputs": [
    {
     "data": {
      "text/plain": [
       "['https://www.digit.in/laptops/lenovo-ideapad-gaming-3-15iah7-price-341574.html',\n",
       " 'https://www.digit.in/laptops/asus-g53j-a-3d-gamer-s-delight-but-we-want-more-price-3465.html',\n",
       " 'https://www.digit.in/laptops/hp-envy-15-k006tx-price-4429.html',\n",
       " 'https://www.digit.in/laptops/alienware-x14-gaming-laptop-price-318804.html',\n",
       " 'https://www.digit.in/laptops/dell-15-2021-i5-10200h-price-287917.html',\n",
       " 'https://www.digit.in/laptops/lenovo-ideapad-y570-price-2979.html',\n",
       " 'https://www.digit.in/laptops/lenovo-ideapad-gaming-3i-price-319434.html',\n",
       " 'https://www.digit.in/audio-video/asus-rog-cetra-price-213419.html',\n",
       " 'https://www.digit.in/laptops/hp-pavilion-g6-multimedia-and-gaming-on-a-budget-price-3088.html',\n",
       " 'https://www.digit.in/laptops/asus-g750jx-cv069p-price-4426.html']"
      ]
     },
     "execution_count": 107,
     "metadata": {},
     "output_type": "execute_result"
    }
   ],
   "source": [
    "url"
   ]
  },
  {
   "cell_type": "code",
   "execution_count": 109,
   "id": "2833fdc7",
   "metadata": {},
   "outputs": [],
   "source": [
    "Name = []\n",
    "\n",
    "for i in url:\n",
    "    driver.get(i)\n",
    "    time.sleep(5)\n",
    "    try:\n",
    "        n = driver.find_element(By.XPATH,'/html/body/div[7]/div[2]/div[2]/h1')\n",
    "        Name.append(n.text)\n",
    "    except NoSuchElementException:\n",
    "        Name.append('--')"
   ]
  },
  {
   "cell_type": "code",
   "execution_count": 110,
   "id": "cab03a3a",
   "metadata": {},
   "outputs": [
    {
     "data": {
      "text/plain": [
       "['Lenovo IdeaPad Gaming 3 15IAH7',\n",
       " \"ASUS G53J - A 3D gamer's delight but we want more\",\n",
       " 'HP Envy 15-k006tx',\n",
       " 'Alienware x14 Gaming Laptop',\n",
       " 'Dell 15 (2021) i5-10200H',\n",
       " 'Lenovo IdeaPad Y570',\n",
       " 'Lenovo IdeaPad Gaming 3i',\n",
       " 'ASUS ROG Cetra',\n",
       " 'HP Pavilion g6 - Multimedia and gaming on a budget',\n",
       " 'Asus G750JX-CV069P']"
      ]
     },
     "execution_count": 110,
     "metadata": {},
     "output_type": "execute_result"
    }
   ],
   "source": [
    "Name"
   ]
  },
  {
   "cell_type": "code",
   "execution_count": 139,
   "id": "e689eb28",
   "metadata": {},
   "outputs": [],
   "source": [
    "price = []\n",
    "for i in url:\n",
    "    driver.get(i)\n",
    "    time.sleep(3)\n",
    "    try:\n",
    "        p = driver.find_element(By.XPATH,'/html/body/div[7]/div[2]/div[3]/div[2]/div[4]/div/h2/strong')\n",
    "        price.append(p.text)\n",
    "    except NoSuchElementException:\n",
    "        price.append('--')"
   ]
  },
  {
   "cell_type": "code",
   "execution_count": 140,
   "id": "b599f4a6",
   "metadata": {},
   "outputs": [
    {
     "data": {
      "text/plain": [
       "10"
      ]
     },
     "execution_count": 140,
     "metadata": {},
     "output_type": "execute_result"
    }
   ],
   "source": [
    "len(price)"
   ]
  },
  {
   "cell_type": "code",
   "execution_count": 121,
   "id": "6016abfb",
   "metadata": {},
   "outputs": [],
   "source": [
    "price.clear()"
   ]
  },
  {
   "cell_type": "code",
   "execution_count": 141,
   "id": "c9cebf00",
   "metadata": {},
   "outputs": [
    {
     "data": {
      "text/plain": [
       "(10, 10)"
      ]
     },
     "execution_count": 141,
     "metadata": {},
     "output_type": "execute_result"
    }
   ],
   "source": [
    "len(Name),len(price)"
   ]
  },
  {
   "cell_type": "code",
   "execution_count": 143,
   "id": "d5e347b7",
   "metadata": {},
   "outputs": [],
   "source": [
    "import pandas as pd"
   ]
  },
  {
   "cell_type": "code",
   "execution_count": 144,
   "id": "5b0519bc",
   "metadata": {},
   "outputs": [],
   "source": [
    "Gaming_laptops = pd.DataFrame({'Name': Name, 'Price': price})"
   ]
  },
  {
   "cell_type": "code",
   "execution_count": 145,
   "id": "427fa981",
   "metadata": {},
   "outputs": [
    {
     "data": {
      "text/html": [
       "<div>\n",
       "<style scoped>\n",
       "    .dataframe tbody tr th:only-of-type {\n",
       "        vertical-align: middle;\n",
       "    }\n",
       "\n",
       "    .dataframe tbody tr th {\n",
       "        vertical-align: top;\n",
       "    }\n",
       "\n",
       "    .dataframe thead th {\n",
       "        text-align: right;\n",
       "    }\n",
       "</style>\n",
       "<table border=\"1\" class=\"dataframe\">\n",
       "  <thead>\n",
       "    <tr style=\"text-align: right;\">\n",
       "      <th></th>\n",
       "      <th>Name</th>\n",
       "      <th>Price</th>\n",
       "    </tr>\n",
       "  </thead>\n",
       "  <tbody>\n",
       "    <tr>\n",
       "      <th>0</th>\n",
       "      <td>Lenovo IdeaPad Gaming 3 15IAH7</td>\n",
       "      <td>₹ 79,831</td>\n",
       "    </tr>\n",
       "    <tr>\n",
       "      <th>1</th>\n",
       "      <td>ASUS G53J - A 3D gamer's delight but we want more</td>\n",
       "      <td>₹ 112,499</td>\n",
       "    </tr>\n",
       "    <tr>\n",
       "      <th>2</th>\n",
       "      <td>HP Envy 15-k006tx</td>\n",
       "      <td>₹ 80,510</td>\n",
       "    </tr>\n",
       "    <tr>\n",
       "      <th>3</th>\n",
       "      <td>Alienware x14 Gaming Laptop</td>\n",
       "      <td>₹ 174,990</td>\n",
       "    </tr>\n",
       "    <tr>\n",
       "      <th>4</th>\n",
       "      <td>Dell 15 (2021) i5-10200H</td>\n",
       "      <td>₹ 89,990</td>\n",
       "    </tr>\n",
       "    <tr>\n",
       "      <th>5</th>\n",
       "      <td>Lenovo IdeaPad Y570</td>\n",
       "      <td>₹ 49,900</td>\n",
       "    </tr>\n",
       "    <tr>\n",
       "      <th>6</th>\n",
       "      <td>Lenovo IdeaPad Gaming 3i</td>\n",
       "      <td>₹ 117,342</td>\n",
       "    </tr>\n",
       "    <tr>\n",
       "      <th>7</th>\n",
       "      <td>ASUS ROG Cetra</td>\n",
       "      <td>₹ 7,699</td>\n",
       "    </tr>\n",
       "    <tr>\n",
       "      <th>8</th>\n",
       "      <td>HP Pavilion g6 - Multimedia and gaming on a bu...</td>\n",
       "      <td>₹ 45,000</td>\n",
       "    </tr>\n",
       "    <tr>\n",
       "      <th>9</th>\n",
       "      <td>Asus G750JX-CV069P</td>\n",
       "      <td>₹ 149,999</td>\n",
       "    </tr>\n",
       "  </tbody>\n",
       "</table>\n",
       "</div>"
      ],
      "text/plain": [
       "                                                Name      Price\n",
       "0                     Lenovo IdeaPad Gaming 3 15IAH7   ₹ 79,831\n",
       "1  ASUS G53J - A 3D gamer's delight but we want more  ₹ 112,499\n",
       "2                                  HP Envy 15-k006tx   ₹ 80,510\n",
       "3                        Alienware x14 Gaming Laptop  ₹ 174,990\n",
       "4                           Dell 15 (2021) i5-10200H   ₹ 89,990\n",
       "5                                Lenovo IdeaPad Y570   ₹ 49,900\n",
       "6                           Lenovo IdeaPad Gaming 3i  ₹ 117,342\n",
       "7                                     ASUS ROG Cetra    ₹ 7,699\n",
       "8  HP Pavilion g6 - Multimedia and gaming on a bu...   ₹ 45,000\n",
       "9                                 Asus G750JX-CV069P  ₹ 149,999"
      ]
     },
     "execution_count": 145,
     "metadata": {},
     "output_type": "execute_result"
    }
   ],
   "source": [
    "Gaming_laptops"
   ]
  },
  {
   "cell_type": "markdown",
   "id": "ddcb00f7",
   "metadata": {},
   "source": [
    "Q7) Write a python program to scrape the details for all billionaires from www.forbes.com. Details to be scrapped: \n",
    "“Rank”, “Name”, “Net worth”, “Age”, “Citizenship”, “Source”, “Industry”. "
   ]
  },
  {
   "cell_type": "code",
   "execution_count": 153,
   "id": "cb9496bf",
   "metadata": {},
   "outputs": [],
   "source": [
    "driver = webdriver.Chrome(r'C:\\Users\\Kushal Kulkarni\\Downloads\\chromedriver_exe')"
   ]
  },
  {
   "cell_type": "code",
   "execution_count": 154,
   "id": "ec244439",
   "metadata": {},
   "outputs": [],
   "source": [
    "s = driver.get('https://www.forbes.com')"
   ]
  },
  {
   "cell_type": "code",
   "execution_count": 156,
   "id": "85c8e873",
   "metadata": {},
   "outputs": [],
   "source": [
    "s4 = driver.find_element(By.XPATH,'/html/body/div[1]/header/nav/div[1]/div[1]/div/div')\n",
    "s4.click()"
   ]
  },
  {
   "cell_type": "code",
   "execution_count": 157,
   "id": "a39aa19b",
   "metadata": {},
   "outputs": [],
   "source": [
    "b1 = driver.find_element(By.XPATH,'/html/body/div[1]/header/nav/div[1]/div[1]/div/div[2]/ul/li[2]/div[1]')\n",
    "b1.click()"
   ]
  },
  {
   "cell_type": "code",
   "execution_count": 158,
   "id": "36d66f65",
   "metadata": {},
   "outputs": [],
   "source": [
    "b2 = driver.find_element(By.XPATH,'/html/body/div[1]/header/nav/div[1]/div[1]/div/div[2]/ul/li[2]/div[2]/div[3]/ul/li[1]')\n",
    "b2.click()"
   ]
  },
  {
   "cell_type": "code",
   "execution_count": 159,
   "id": "4b541c79",
   "metadata": {},
   "outputs": [],
   "source": [
    "Rank = []\n",
    "\n",
    "for i in driver.find_elements(By.XPATH,'//div[@class=\"Table_rank___YBhk Table_dataCell__2QCve\"]'):\n",
    "    Rank.append(i.text)"
   ]
  },
  {
   "cell_type": "code",
   "execution_count": 166,
   "id": "1cc61991",
   "metadata": {},
   "outputs": [
    {
     "data": {
      "text/plain": [
       "200"
      ]
     },
     "execution_count": 166,
     "metadata": {},
     "output_type": "execute_result"
    }
   ],
   "source": [
    "len(Rank)"
   ]
  },
  {
   "cell_type": "code",
   "execution_count": 191,
   "id": "1df21337",
   "metadata": {},
   "outputs": [
    {
     "ename": "IndexError",
     "evalue": "list index out of range",
     "output_type": "error",
     "traceback": [
      "\u001b[1;31m---------------------------------------------------------------------------\u001b[0m",
      "\u001b[1;31mIndexError\u001b[0m                                Traceback (most recent call last)",
      "\u001b[1;32m~\\AppData\\Local\\Temp\\ipykernel_16228\\3645757266.py\u001b[0m in \u001b[0;36m<module>\u001b[1;34m\u001b[0m\n\u001b[0;32m      1\u001b[0m \u001b[0mName\u001b[0m \u001b[1;33m=\u001b[0m \u001b[1;33m[\u001b[0m\u001b[1;33m]\u001b[0m\u001b[1;33m\u001b[0m\u001b[1;33m\u001b[0m\u001b[0m\n\u001b[0;32m      2\u001b[0m \u001b[1;32mfor\u001b[0m \u001b[0mi\u001b[0m \u001b[1;32min\u001b[0m \u001b[0mdriver\u001b[0m\u001b[1;33m.\u001b[0m\u001b[0mfind_elements\u001b[0m\u001b[1;33m(\u001b[0m\u001b[0mBy\u001b[0m\u001b[1;33m.\u001b[0m\u001b[0mXPATH\u001b[0m\u001b[1;33m,\u001b[0m\u001b[1;34m'//div[@class=\"Table_dataCell__2QCve\"]'\u001b[0m\u001b[1;33m)\u001b[0m\u001b[1;33m:\u001b[0m\u001b[1;33m\u001b[0m\u001b[1;33m\u001b[0m\u001b[0m\n\u001b[1;32m----> 3\u001b[1;33m     \u001b[0mName\u001b[0m\u001b[1;33m.\u001b[0m\u001b[0mappend\u001b[0m\u001b[1;33m(\u001b[0m\u001b[0mi\u001b[0m\u001b[1;33m.\u001b[0m\u001b[0mtext\u001b[0m\u001b[1;33m.\u001b[0m\u001b[0msplit\u001b[0m\u001b[1;33m(\u001b[0m\u001b[1;34m','\u001b[0m\u001b[1;33m)\u001b[0m\u001b[1;33m[\u001b[0m\u001b[1;36m1\u001b[0m\u001b[1;33m]\u001b[0m\u001b[1;33m)\u001b[0m\u001b[1;33m\u001b[0m\u001b[1;33m\u001b[0m\u001b[0m\n\u001b[0m",
      "\u001b[1;31mIndexError\u001b[0m: list index out of range"
     ]
    }
   ],
   "source": [
    "Name = []\n",
    "for i in driver.find_elements(By.XPATH,'//div[@class=\"Table_dataCell__2QCve\"]'):\n",
    "    Name.append(i.text.split(',')[1])"
   ]
  },
  {
   "cell_type": "code",
   "execution_count": null,
   "id": "b81277ce",
   "metadata": {},
   "outputs": [],
   "source": []
  },
  {
   "cell_type": "code",
   "execution_count": null,
   "id": "74137a66",
   "metadata": {},
   "outputs": [],
   "source": []
  },
  {
   "cell_type": "code",
   "execution_count": 189,
   "id": "2d9b4957",
   "metadata": {},
   "outputs": [
    {
     "data": {
      "text/plain": [
       "0"
      ]
     },
     "execution_count": 189,
     "metadata": {},
     "output_type": "execute_result"
    }
   ],
   "source": [
    "len(Name)"
   ]
  },
  {
   "cell_type": "code",
   "execution_count": null,
   "id": "3ea5c95d",
   "metadata": {},
   "outputs": [],
   "source": []
  },
  {
   "cell_type": "code",
   "execution_count": 181,
   "id": "7c6cb1a7",
   "metadata": {},
   "outputs": [],
   "source": [
    "del Name[201:800]"
   ]
  },
  {
   "cell_type": "code",
   "execution_count": 182,
   "id": "a170846c",
   "metadata": {},
   "outputs": [
    {
     "data": {
      "text/plain": [
       "201"
      ]
     },
     "execution_count": 182,
     "metadata": {},
     "output_type": "execute_result"
    }
   ],
   "source": [
    "len(Name)"
   ]
  },
  {
   "cell_type": "code",
   "execution_count": 183,
   "id": "6bc11020",
   "metadata": {},
   "outputs": [],
   "source": [
    "del Name[200]"
   ]
  },
  {
   "cell_type": "code",
   "execution_count": 184,
   "id": "ff2bc687",
   "metadata": {},
   "outputs": [
    {
     "data": {
      "text/plain": [
       "200"
      ]
     },
     "execution_count": 184,
     "metadata": {},
     "output_type": "execute_result"
    }
   ],
   "source": [
    "len(Name)"
   ]
  },
  {
   "cell_type": "code",
   "execution_count": 185,
   "id": "1bf7d344",
   "metadata": {},
   "outputs": [
    {
     "data": {
      "text/plain": [
       "['Bernard Arnault & family',\n",
       " '74',\n",
       " 'LVMH',\n",
       " '',\n",
       " 'Elon Musk',\n",
       " '51',\n",
       " 'Tesla, SpaceX',\n",
       " '',\n",
       " 'Jeff Bezos',\n",
       " '59',\n",
       " 'Amazon',\n",
       " '',\n",
       " 'Larry Ellison',\n",
       " '78',\n",
       " 'Oracle',\n",
       " '',\n",
       " 'Warren Buffett',\n",
       " '92',\n",
       " 'Berkshire Hathaway',\n",
       " '',\n",
       " 'Bill Gates',\n",
       " '67',\n",
       " 'Microsoft',\n",
       " '',\n",
       " 'Michael Bloomberg',\n",
       " '81',\n",
       " 'Bloomberg LP',\n",
       " '',\n",
       " 'Carlos Slim Helu & family',\n",
       " '83',\n",
       " 'Telecom',\n",
       " '',\n",
       " 'Mukesh Ambani',\n",
       " '65',\n",
       " 'Diversified',\n",
       " '',\n",
       " 'Steve Ballmer',\n",
       " '67',\n",
       " 'Microsoft',\n",
       " '',\n",
       " 'Francoise Bettencourt Meyers & family',\n",
       " '69',\n",
       " \"L'Oréal\",\n",
       " '',\n",
       " 'Larry Page',\n",
       " '50',\n",
       " 'Google',\n",
       " '',\n",
       " 'Amancio Ortega',\n",
       " '87',\n",
       " 'Zara',\n",
       " '',\n",
       " 'Sergey Brin',\n",
       " '49',\n",
       " 'Google',\n",
       " '',\n",
       " 'Zhong Shanshan',\n",
       " '68',\n",
       " 'Beverages, pharmaceuticals',\n",
       " '',\n",
       " 'Mark Zuckerberg',\n",
       " '38',\n",
       " 'Facebook',\n",
       " '',\n",
       " 'Charles Koch',\n",
       " '87',\n",
       " 'Koch Industries',\n",
       " '',\n",
       " 'Julia Koch & family',\n",
       " '60',\n",
       " 'Koch Industries',\n",
       " '',\n",
       " 'Jim Walton',\n",
       " '74',\n",
       " 'Walmart',\n",
       " '',\n",
       " 'Rob Walton',\n",
       " '78',\n",
       " 'Walmart',\n",
       " '',\n",
       " 'Alice Walton',\n",
       " '73',\n",
       " 'Walmart',\n",
       " '',\n",
       " 'David Thomson & family',\n",
       " '65',\n",
       " 'Media',\n",
       " '',\n",
       " 'Michael Dell',\n",
       " '58',\n",
       " 'Dell Technologies',\n",
       " '',\n",
       " 'Gautam Adani',\n",
       " '60',\n",
       " 'Infrastructure, commodities',\n",
       " '',\n",
       " 'Phil Knight & family',\n",
       " '85',\n",
       " 'Nike',\n",
       " '',\n",
       " 'Zhang Yiming',\n",
       " '39',\n",
       " 'TikTok',\n",
       " '',\n",
       " 'Dieter Schwarz',\n",
       " '83',\n",
       " 'Retail',\n",
       " '',\n",
       " 'François Pinault & family',\n",
       " '86',\n",
       " 'Luxury goods',\n",
       " '',\n",
       " 'Klaus-Michael Kuehne',\n",
       " '85',\n",
       " 'Shipping',\n",
       " '',\n",
       " 'Giovanni Ferrero',\n",
       " '58',\n",
       " 'Nutella, chocolates',\n",
       " '',\n",
       " 'Jacqueline Mars',\n",
       " '83',\n",
       " 'Candy, pet food',\n",
       " '',\n",
       " 'John Mars',\n",
       " '87',\n",
       " 'Candy, pet food',\n",
       " '',\n",
       " 'Li Ka-shing',\n",
       " '94',\n",
       " 'Diversified',\n",
       " '',\n",
       " 'Ma Huateng',\n",
       " '51',\n",
       " 'Internet media',\n",
       " '',\n",
       " 'Miriam Adelson & family',\n",
       " '77',\n",
       " 'Casinos',\n",
       " '',\n",
       " 'Ken Griffin',\n",
       " '54',\n",
       " 'Hedge funds',\n",
       " '',\n",
       " 'Mark Mateschitz',\n",
       " '30',\n",
       " 'Red Bull',\n",
       " '',\n",
       " 'Robin Zeng',\n",
       " '54',\n",
       " 'Batteries',\n",
       " '',\n",
       " 'Tadashi Yanai & family',\n",
       " '74',\n",
       " 'Fashion retail',\n",
       " '',\n",
       " 'Len Blavatnik',\n",
       " '65',\n",
       " 'Music, chemicals',\n",
       " '',\n",
       " 'Alain Wertheimer',\n",
       " '74',\n",
       " 'Chanel',\n",
       " '',\n",
       " 'Gerard Wertheimer',\n",
       " '72',\n",
       " 'Chanel',\n",
       " '',\n",
       " 'Gianluigi Aponte',\n",
       " '82',\n",
       " 'Shipping',\n",
       " '',\n",
       " 'Rafaela Aponte-Diamant',\n",
       " '78',\n",
       " 'Shipping',\n",
       " '',\n",
       " 'Colin Zheng Huang',\n",
       " '43',\n",
       " 'E-commerce',\n",
       " '',\n",
       " 'Reinhold Wuerth & family',\n",
       " '87',\n",
       " 'Fasteners',\n",
       " '',\n",
       " 'Lee Shau Kee',\n",
       " '95',\n",
       " 'Real estate',\n",
       " '',\n",
       " 'Jeff Yass',\n",
       " '64',\n",
       " 'Trading, investments',\n",
       " '',\n",
       " 'Jim Simons',\n",
       " '84',\n",
       " 'Hedge funds',\n",
       " '',\n",
       " 'Stephen Schwarzman',\n",
       " '76',\n",
       " 'Investments',\n",
       " '']"
      ]
     },
     "execution_count": 185,
     "metadata": {},
     "output_type": "execute_result"
    }
   ],
   "source": [
    "Name"
   ]
  },
  {
   "cell_type": "code",
   "execution_count": 186,
   "id": "01f1ccfa",
   "metadata": {},
   "outputs": [],
   "source": [
    "Name.clear()"
   ]
  },
  {
   "cell_type": "markdown",
   "id": "c281ea1e",
   "metadata": {},
   "source": [
    "Q8) Write a program to extract at least 500 Comments, Comment upvote and time when comment was posted \n",
    "from any YouTube Video. "
   ]
  },
  {
   "cell_type": "code",
   "execution_count": 1,
   "id": "9f9dcd42",
   "metadata": {},
   "outputs": [],
   "source": [
    "from bs4 import BeautifulSoup\n",
    "import selenium\n",
    "from selenium import webdriver\n",
    "import pandas as pd\n",
    "import warnings\n",
    "warnings.filterwarnings('ignore')\n",
    "from selenium.webdriver.common.by import By\n",
    "import time\n",
    "from selenium.common.exceptions import NoSuchElementException\n",
    "import requests"
   ]
  },
  {
   "cell_type": "code",
   "execution_count": 2,
   "id": "bcf00232",
   "metadata": {},
   "outputs": [],
   "source": [
    "driver = webdriver.Chrome(r'C:\\Users\\Kushal Kulkarni\\Downloads\\chromedriver_exe')"
   ]
  },
  {
   "cell_type": "code",
   "execution_count": 3,
   "id": "3aef977d",
   "metadata": {},
   "outputs": [],
   "source": [
    "search = driver.get('https://Youtube.com')"
   ]
  },
  {
   "cell_type": "code",
   "execution_count": 4,
   "id": "af6506aa",
   "metadata": {},
   "outputs": [],
   "source": [
    "s1 = driver.find_element(By.XPATH,'/html/body/ytd-app/div[1]/div/ytd-masthead/div[4]/div[2]/ytd-searchbox/form/div[1]/div[1]/input')\n",
    "s1.send_keys('Adipurush Trailer')"
   ]
  },
  {
   "cell_type": "code",
   "execution_count": 5,
   "id": "ff3e1cc3",
   "metadata": {},
   "outputs": [],
   "source": [
    "s2 = driver.find_element(By.XPATH,'/html/body/ytd-app/div[1]/div/ytd-masthead/div[4]/div[2]/ytd-searchbox/button/yt-icon/yt-icon-shape/icon-shape/div')\n",
    "s2.click()"
   ]
  },
  {
   "cell_type": "code",
   "execution_count": 6,
   "id": "a49277db",
   "metadata": {},
   "outputs": [],
   "source": [
    "s3 = driver.find_element(By.XPATH,'/html/body/ytd-app/div[1]/ytd-page-manager/ytd-search/div[1]/ytd-two-column-search-results-renderer/div/ytd-section-list-renderer/div[2]/ytd-item-section-renderer/div[3]/ytd-video-renderer[1]/div[1]/div/div[1]/div/h3/a/yt-formatted-string')\n",
    "s3.click()"
   ]
  },
  {
   "cell_type": "code",
   "execution_count": 7,
   "id": "08396618",
   "metadata": {},
   "outputs": [],
   "source": [
    "from selenium.webdriver.support.ui import WebDriverWait\n",
    "from selenium.webdriver.support import expected_conditions as EC"
   ]
  },
  {
   "cell_type": "code",
   "execution_count": 20,
   "id": "b7611d1f",
   "metadata": {},
   "outputs": [],
   "source": [
    "comments = []\n",
    "\n",
    "for i in driver.find_elements(By.XPATH,'//div[@class=\"style-scope ytd-comment-renderer\"]'):\n",
    "    comments.append(i.text)"
   ]
  },
  {
   "cell_type": "code",
   "execution_count": 21,
   "id": "f8d7f1c4",
   "metadata": {},
   "outputs": [
    {
     "data": {
      "text/plain": [
       "220"
      ]
     },
     "execution_count": 21,
     "metadata": {},
     "output_type": "execute_result"
    }
   ],
   "source": [
    "len(comments)"
   ]
  },
  {
   "cell_type": "code",
   "execution_count": 23,
   "id": "862bc2b9",
   "metadata": {},
   "outputs": [],
   "source": [
    "comments.clear()"
   ]
  },
  {
   "cell_type": "code",
   "execution_count": 25,
   "id": "6901b800",
   "metadata": {},
   "outputs": [],
   "source": [
    "url = []\n",
    "\n",
    "\n",
    "URL = driver.find_elements(By.XPATH,'//a[@class=\"yt-simple-endpoint style-scope ytd-comment-inline-thumbnail-renderer\"]')\n",
    "for i in URL:\n",
    "    url.append(i.get_attribute('href'))"
   ]
  },
  {
   "cell_type": "code",
   "execution_count": 26,
   "id": "c69a51eb",
   "metadata": {},
   "outputs": [
    {
     "data": {
      "text/plain": [
       "20"
      ]
     },
     "execution_count": 26,
     "metadata": {},
     "output_type": "execute_result"
    }
   ],
   "source": [
    "len(url)"
   ]
  },
  {
   "cell_type": "code",
   "execution_count": 27,
   "id": "007b4699",
   "metadata": {},
   "outputs": [
    {
     "data": {
      "text/plain": [
       "[None,\n",
       " None,\n",
       " None,\n",
       " None,\n",
       " None,\n",
       " None,\n",
       " None,\n",
       " None,\n",
       " None,\n",
       " None,\n",
       " None,\n",
       " None,\n",
       " None,\n",
       " None,\n",
       " None,\n",
       " None,\n",
       " None,\n",
       " None,\n",
       " None,\n",
       " None]"
      ]
     },
     "execution_count": 27,
     "metadata": {},
     "output_type": "execute_result"
    }
   ],
   "source": [
    "url"
   ]
  },
  {
   "cell_type": "markdown",
   "id": "6e39fbc8",
   "metadata": {},
   "source": [
    "Q9) Write a python program to scrape a data for all available Hostels from https://www.hostelworld.com/ in \n",
    "“London” location. You have to scrape hostel name, distance from city centre, ratings, total reviews, overall \n",
    "reviews, privates from price, dorms from price, facilities and property description."
   ]
  },
  {
   "cell_type": "code",
   "execution_count": 1,
   "id": "2914660c",
   "metadata": {},
   "outputs": [],
   "source": [
    "from bs4 import BeautifulSoup\n",
    "import selenium\n",
    "from selenium import webdriver\n",
    "import pandas as pd\n",
    "import warnings\n",
    "warnings.filterwarnings('ignore')\n",
    "from selenium.webdriver.common.by import By\n",
    "import time\n",
    "from selenium.common.exceptions import NoSuchElementException\n",
    "import requests"
   ]
  },
  {
   "cell_type": "code",
   "execution_count": 2,
   "id": "59bf4340",
   "metadata": {},
   "outputs": [],
   "source": [
    "driver = webdriver.Chrome(r'C:\\Users\\Kushal Kulkarni\\Downloads\\chromedriver_exe')"
   ]
  },
  {
   "cell_type": "code",
   "execution_count": 3,
   "id": "253ec9f1",
   "metadata": {},
   "outputs": [],
   "source": [
    "search = driver.get('https://www.hostelworld.com/')"
   ]
  },
  {
   "cell_type": "code",
   "execution_count": 6,
   "id": "984e22f3",
   "metadata": {},
   "outputs": [],
   "source": [
    "s1= driver.find_element(By.XPATH,'/html/body/div[3]/div/div/div[2]/div[2]/div/div/div[4]/div/div[2]/div/div[1]/div/div/div/input')\n",
    "s1.send_keys('London')"
   ]
  },
  {
   "cell_type": "code",
   "execution_count": 7,
   "id": "ddc29e4c",
   "metadata": {},
   "outputs": [],
   "source": [
    "s2 = driver.find_element(By.XPATH,'/html/body/div[3]/div/div/div[2]/div[2]/div/div/div[4]/div/div[2]/div/div[1]/div/div/ul/li[2]')\n",
    "s2.click()"
   ]
  },
  {
   "cell_type": "code",
   "execution_count": 8,
   "id": "b9879cfc",
   "metadata": {},
   "outputs": [],
   "source": [
    "s3 = driver.find_element(By.XPATH,'/html/body/div[3]/div/div/div[2]/div[2]/div/div/div[4]/div/div[2]/div/div[6]/button')\n",
    "s3.click()"
   ]
  },
  {
   "cell_type": "code",
   "execution_count": 9,
   "id": "8fe027b5",
   "metadata": {},
   "outputs": [],
   "source": [
    "url = []\n",
    "\n",
    "URL = driver.find_elements(By.XPATH,'/html/body/div[3]/div/div/div[2]/div[4]/div/div/div/div[3]/div[1]/h2/a')\n",
    "for i in URL[0:10]:\n",
    "    url.append(i.get_attribute('href'))"
   ]
  },
  {
   "cell_type": "code",
   "execution_count": 10,
   "id": "4a576a4e",
   "metadata": {},
   "outputs": [
    {
     "data": {
      "text/plain": [
       "10"
      ]
     },
     "execution_count": 10,
     "metadata": {},
     "output_type": "execute_result"
    }
   ],
   "source": [
    "len(url)"
   ]
  },
  {
   "cell_type": "code",
   "execution_count": 11,
   "id": "f142673e",
   "metadata": {},
   "outputs": [
    {
     "data": {
      "text/plain": [
       "['https://www.hostelworld.com/pwa/hosteldetails.php/International-Students-House/London/515?from=2023-06-18&to=2023-06-21&guests=2',\n",
       " 'https://www.hostelworld.com/pwa/hosteldetails.php/London-Backpackers/London/527?from=2023-06-18&to=2023-06-21&guests=2',\n",
       " 'https://www.hostelworld.com/pwa/hosteldetails.php/NX-London-Hostel/London/15204?from=2023-06-18&to=2023-06-21&guests=2',\n",
       " 'https://www.hostelworld.com/pwa/hosteldetails.php/No-8-Willesden-Hostel-London/London/18420?from=2023-06-18&to=2023-06-21&guests=2',\n",
       " 'https://www.hostelworld.com/pwa/hosteldetails.php/The-Backpackshack/London/63112?from=2023-06-18&to=2023-06-21&guests=2',\n",
       " 'https://www.hostelworld.com/pwa/hosteldetails.php/Onefam-Notting-Hill-by-Hostel-One/London/291433?from=2023-06-18&to=2023-06-21&guests=2',\n",
       " 'https://www.hostelworld.com/pwa/hosteldetails.php/Urbany-Hostel-London/London/303427?from=2023-06-18&to=2023-06-21&guests=2',\n",
       " 'https://www.hostelworld.com/pwa/hosteldetails.php/Phoenix-Hostel/London/48221?from=2023-06-18&to=2023-06-21&guests=2',\n",
       " 'https://www.hostelworld.com/pwa/hosteldetails.php/Queen-Elizabeth-Chelsea/London/50443?from=2023-06-18&to=2023-06-21&guests=2',\n",
       " 'https://www.hostelworld.com/pwa/hosteldetails.php/PubLove-The-Crown-Battersea/London/60336?from=2023-06-18&to=2023-06-21&guests=2']"
      ]
     },
     "execution_count": 11,
     "metadata": {},
     "output_type": "execute_result"
    }
   ],
   "source": [
    "url"
   ]
  },
  {
   "cell_type": "code",
   "execution_count": 12,
   "id": "3b9c3683",
   "metadata": {},
   "outputs": [],
   "source": [
    "h_name = []\n",
    "\n",
    "for i in url:\n",
    "    driver.get(i)\n",
    "    time.sleep(3)\n",
    "    try:\n",
    "        h = driver.find_element(By.XPATH,'/html/body/div[3]/div/div/div[2]/section/div[4]/div/div[1]/h1/div')\n",
    "        h_name.append(h.text)\n",
    "    except NoSuchElementException:\n",
    "        h_name.append('--')"
   ]
  },
  {
   "cell_type": "code",
   "execution_count": 13,
   "id": "d512d847",
   "metadata": {},
   "outputs": [
    {
     "data": {
      "text/plain": [
       "['International Students House',\n",
       " 'London Backpackers',\n",
       " 'NX London Hostel',\n",
       " 'No.8 Willesden Hostel London',\n",
       " 'The Backpackshack',\n",
       " 'Onefam Notting Hill by Hostel One',\n",
       " 'Urbany Hostel London',\n",
       " 'Phoenix Hostel',\n",
       " 'Queen Elizabeth Chelsea',\n",
       " 'PubLove @ The Crown, Battersea']"
      ]
     },
     "execution_count": 13,
     "metadata": {},
     "output_type": "execute_result"
    }
   ],
   "source": [
    "h_name"
   ]
  },
  {
   "cell_type": "code",
   "execution_count": 14,
   "id": "285b2d0b",
   "metadata": {},
   "outputs": [],
   "source": [
    "cc_distance = []\n",
    "\n",
    "c = driver.find_elements(By.XPATH,'//span[@class=\"description\"]')\n",
    "for i in c[0:10]:\n",
    "    cc_distance.append(i.text)"
   ]
  },
  {
   "cell_type": "code",
   "execution_count": 15,
   "id": "a64ada3b",
   "metadata": {},
   "outputs": [
    {
     "data": {
      "text/plain": [
       "10"
      ]
     },
     "execution_count": 15,
     "metadata": {},
     "output_type": "execute_result"
    }
   ],
   "source": [
    "len(cc_distance)"
   ]
  },
  {
   "cell_type": "code",
   "execution_count": 16,
   "id": "134bc75d",
   "metadata": {},
   "outputs": [
    {
     "data": {
      "text/plain": [
       "['Hostel - 3.3km from city centre',\n",
       " 'Hostel - 11.9km from city centre',\n",
       " 'Hostel - 6.1km from city centre',\n",
       " 'Hostel - 10km from city centre',\n",
       " 'Hostel - 10.9km from city centre',\n",
       " 'Hostel - 5.5km from city centre',\n",
       " 'Hostel - 5.4km from city centre',\n",
       " 'Hostel - 4.2km from city centre',\n",
       " 'Hostel - 5.7km from city centre',\n",
       " 'Hostel - 4.7km from city centre']"
      ]
     },
     "execution_count": 16,
     "metadata": {},
     "output_type": "execute_result"
    }
   ],
   "source": [
    "cc_distance"
   ]
  },
  {
   "cell_type": "code",
   "execution_count": 17,
   "id": "fe985dd0",
   "metadata": {},
   "outputs": [],
   "source": [
    "ratings = []\n",
    "\n",
    "r = driver.find_elements(By.XPATH,'//div[@class=\"score orange big\"]')\n",
    "for i in r[0:10]:\n",
    "    ratings.append(i.text)"
   ]
  },
  {
   "cell_type": "code",
   "execution_count": 18,
   "id": "e18ba827",
   "metadata": {},
   "outputs": [
    {
     "data": {
      "text/plain": [
       "['9.3', '7.9', '8.3', '6.5', '9.0', '9.6', '9.4', '7.6', '7.4', '7.6']"
      ]
     },
     "execution_count": 18,
     "metadata": {},
     "output_type": "execute_result"
    }
   ],
   "source": [
    "ratings"
   ]
  },
  {
   "cell_type": "code",
   "execution_count": 19,
   "id": "e4b6372b",
   "metadata": {},
   "outputs": [],
   "source": [
    "tr = []\n",
    "\n",
    "t = driver.find_elements(By.XPATH,'//div[@class=\"reviews\"]')\n",
    "for i in t[0:10]:\n",
    "    tr.append(i.text)"
   ]
  },
  {
   "cell_type": "code",
   "execution_count": 20,
   "id": "80f94b9d",
   "metadata": {},
   "outputs": [
    {
     "data": {
      "text/plain": [
       "['1035 Total Reviews',\n",
       " '4468 Total Reviews',\n",
       " '1884 Total Reviews',\n",
       " '5013 Total Reviews',\n",
       " '763 Total Reviews',\n",
       " '2053 Total Reviews',\n",
       " '778 Total Reviews',\n",
       " '4125 Total Reviews',\n",
       " '3480 Total Reviews',\n",
       " '300 Total Reviews']"
      ]
     },
     "execution_count": 20,
     "metadata": {},
     "output_type": "execute_result"
    }
   ],
   "source": [
    "tr"
   ]
  },
  {
   "cell_type": "code",
   "execution_count": 21,
   "id": "3ba9d39e",
   "metadata": {},
   "outputs": [],
   "source": [
    "ovr = []\n",
    "\n",
    "o = driver.find_elements(By.XPATH,'//div[@class=\"keyword\"]')\n",
    "for i in o[0:10]:\n",
    "    ovr.append(i.text)"
   ]
  },
  {
   "cell_type": "code",
   "execution_count": 22,
   "id": "95698b0a",
   "metadata": {},
   "outputs": [
    {
     "data": {
      "text/plain": [
       "['Very Good',\n",
       " 'Superb',\n",
       " 'Very Good',\n",
       " 'Fabulous',\n",
       " 'Good',\n",
       " 'Superb',\n",
       " 'Superb',\n",
       " 'Superb',\n",
       " 'Very Good',\n",
       " 'Very Good']"
      ]
     },
     "execution_count": 22,
     "metadata": {},
     "output_type": "execute_result"
    }
   ],
   "source": [
    "ovr"
   ]
  },
  {
   "cell_type": "code",
   "execution_count": 23,
   "id": "af79946d",
   "metadata": {},
   "outputs": [],
   "source": [
    "privates = []\n",
    "\n",
    "pr = driver.find_elements(By.XPATH,'/html/body/div[3]/div/div/div[2]/div[4]/div/div/div/div[4]/a[1]/div[1]')\n",
    "for i in pr[0:10]:\n",
    "    try:\n",
    "        privates.append(i.text)\n",
    "    except NoSuchElementException:\n",
    "        privates.append('--')"
   ]
  },
  {
   "cell_type": "code",
   "execution_count": 24,
   "id": "e4c34bd5",
   "metadata": {},
   "outputs": [
    {
     "data": {
      "text/plain": [
       "['Privates From\\nRs12697',\n",
       " 'Privates From\\nRs5780',\n",
       " 'No Privates Available',\n",
       " 'No Privates Available',\n",
       " 'Privates From\\nRs9444',\n",
       " 'Privates From\\nRs12569',\n",
       " 'Privates From\\nRs14300',\n",
       " 'No Privates Available',\n",
       " 'No Privates Available',\n",
       " 'No Privates Available']"
      ]
     },
     "execution_count": 24,
     "metadata": {},
     "output_type": "execute_result"
    }
   ],
   "source": [
    "privates"
   ]
  },
  {
   "cell_type": "code",
   "execution_count": 25,
   "id": "99b6619e",
   "metadata": {},
   "outputs": [],
   "source": [
    "dorms = []\n",
    "\n",
    "do = driver.find_elements(By.XPATH,'/html/body/div[3]/div/div/div[2]/div[4]/div/div/div/div[4]/a[1]/div[2]')\n",
    "for i in do[0:10]:\n",
    "    try:\n",
    "        dorms.append(i.text)\n",
    "    except NoSuchElementException:\n",
    "        dorms.append('--')"
   ]
  },
  {
   "cell_type": "code",
   "execution_count": 26,
   "id": "64fe2709",
   "metadata": {},
   "outputs": [
    {
     "data": {
      "text/plain": [
       "['No Dorms Available',\n",
       " 'Dorms From\\nRs1920',\n",
       " 'Dorms From\\nRs6100.9 Rs4926',\n",
       " 'Dorms From\\nRs1272',\n",
       " 'No Dorms Available',\n",
       " 'No Dorms Available',\n",
       " 'Dorms From\\nRs6327',\n",
       " 'Dorms From\\nRs2884.14 Rs2740',\n",
       " 'Dorms From\\nRs1933',\n",
       " 'Dorms From\\nRs3218']"
      ]
     },
     "execution_count": 26,
     "metadata": {},
     "output_type": "execute_result"
    }
   ],
   "source": [
    "dorms"
   ]
  },
  {
   "cell_type": "code",
   "execution_count": 27,
   "id": "07d81b8a",
   "metadata": {},
   "outputs": [],
   "source": [
    "facility = []\n",
    "\n",
    "for i in url:\n",
    "    driver.get(i)\n",
    "    time.sleep(3)\n",
    "    try:\n",
    "        f = driver.find_element(By.XPATH,'//div[@class=\"facilities-container\"]')\n",
    "        facility.append(f.text)\n",
    "    except NoSuchElementException :\n",
    "        facility.append('--')"
   ]
  },
  {
   "cell_type": "code",
   "execution_count": 28,
   "id": "84900e9c",
   "metadata": {},
   "outputs": [
    {
     "data": {
      "text/plain": [
       "10"
      ]
     },
     "execution_count": 28,
     "metadata": {},
     "output_type": "execute_result"
    }
   ],
   "source": [
    "len(facility)"
   ]
  },
  {
   "cell_type": "code",
   "execution_count": 29,
   "id": "4851755e",
   "metadata": {},
   "outputs": [
    {
     "data": {
      "text/plain": [
       "['Facilities\\nFree\\nLinen Included Free City Maps Towels Included Free WiFi Free Internet Access\\nGeneral\\nSecurity Lockers Key Card Access Elevator Breakfast Not Included Meeting Rooms Adaptors Hot Showers Fridge/Freezer Hair Dryers For Hire Microwave Card Phones Washing Machine Follows Covid-19 sanitation guidance\\nServices\\nInternet access Laundry Facilities Luggage Storage 24 Hour Reception ATM 24 Hour Security Housekeeping Reception (limited hours)\\nFood & Drink\\nRestaurant Bar Meals Available Vending Machines Cafe\\nEntertainment\\nWi-Fi',\n",
       " 'Facilities\\nFree\\nLinen Included Free City Maps Free WiFi Free Internet Access\\nGeneral\\nSecurity Lockers Key Card Access Common Room Breakfast Not Included Adaptors Book Exchange Hot Showers Self-Catering Facilities Cooker Fridge/Freezer Utensils Dryer Cable TV Reading Light Hair Dryers For Hire Hair Dryers Iron / Ironing Board Safe Deposit Box Microwave Washing Machine Towels Not Included Flexible NRR Follows Covid-19 sanitation guidance\\nServices\\nInternet access Laundry Facilities Towels for hire Luggage Storage Tours/Travel Desk Postal Service 24 Hour Security Housekeeping Reception (limited hours)\\nFood & Drink\\nTea & Coffee Making Facilities\\nEntertainment\\nBoard Games Games Room Pool Table Wi-Fi',\n",
       " 'Facilities\\nFree\\nFree Breakfast Linen Included Towels Included Free WiFi\\nGeneral\\nSecurity Lockers Common Room Hot Showers Self-Catering Facilities Fridge/Freezer Utensils Hair Dryers For Hire Hair Dryers Microwave Washing Machine\\nServices\\nInternet access Laundry Facilities Towels for hire Housekeeping Express check-in / out Reception (limited hours)\\nFood & Drink\\nMeals Available Tea & Coffee Making Facilities\\nEntertainment\\nWi-Fi',\n",
       " 'Facilities\\nFree\\nLinen Included Free WiFi\\nGeneral\\nSecurity Lockers Key Card Access Common Room Breakfast Not Included Adaptors Hot Showers Self-Catering Facilities Cooker Fridge/Freezer Utensils Cable TV Outdoor Terrace Iron / Ironing Board Microwave Towels Not Included Follows Covid-19 sanitation guidance\\nServices\\nLuggage Storage 24 Hour Security Housekeeping Reception (limited hours)\\nFood & Drink\\nBar Tea & Coffee Making Facilities\\nEntertainment\\nGames Room Pool Table Wi-Fi',\n",
       " 'Facilities\\nFree\\nLinen Included Free Parking Towels Included Free WiFi Free Internet Access\\nGeneral\\nBreakfast Not Included Adaptors Hot Showers Self-Catering Facilities Parking Hair Dryers\\nServices\\nInternet access Luggage Storage Postal Service 24 Hour Security\\nFood & Drink\\nBar Tea & Coffee Making Facilities\\nEntertainment\\nGames Room Pool Table',\n",
       " 'Facilities\\nFree\\nLinen Included Free WiFi Free Internet Access\\nGeneral\\nBreakfast Not Included Hot Showers Self-Catering Facilities Flexible NRR\\nServices\\nLuggage Storage\\nFood & Drink\\nTea & Coffee Making Facilities',\n",
       " 'Facilities\\nFree\\nLinen Included Free WiFi\\nGeneral\\nSecurity Lockers Microwave Follows Covid-19 sanitation guidance\\nServices\\nLuggage Storage 24 Hour Reception\\nFood & Drink\\nTea & Coffee Making Facilities\\nEntertainment\\nWi-Fi',\n",
       " \"Facilities\\nFree\\nLinen Included Free City Maps Free WiFi Free Internet Access\\nGeneral\\nSecurity Lockers Key Card Access Common Room Breakfast Not Included Adaptors Hot Showers Fridge/Freezer Utensils Hair Dryers Microwave Towels Not Included Follows Covid-19 sanitation guidance\\nServices\\nInternet access Luggage Storage 24 Hour Reception Housekeeping Reception (limited hours)\\nFood & Drink\\nBar\\nEntertainment\\nDVD's Board Games Wi-Fi\",\n",
       " 'Facilities\\nFree\\nLinen Included Free City Maps Free WiFi Free Internet Access\\nGeneral\\nSecurity Lockers Common Room Breakfast Not Included Adaptors Book Exchange Hot Showers Hair Dryers For Hire Hair Dryers Flexible NRR\\nServices\\nInternet access Luggage Storage 24 Hour Reception Tours/Travel Desk 24 Hour Security Housekeeping\\nFood & Drink\\nBar\\nEntertainment\\nBoard Games',\n",
       " 'Facilities\\nFree\\nLinen Included Free City Maps Free WiFi\\nGeneral\\nSecurity Lockers Adaptors Hot Showers Utensils Outdoor Terrace Iron / Ironing Board Towels Not Included Flexible NRR\\nServices\\nLuggage Storage 24 Hour Reception 24 Hour Security Housekeeping Late check-out\\nFood & Drink\\nRestaurant Bar Meals Available Cafe\\nEntertainment\\nBoard Games Wi-Fi']"
      ]
     },
     "execution_count": 29,
     "metadata": {},
     "output_type": "execute_result"
    }
   ],
   "source": [
    "facility"
   ]
  },
  {
   "cell_type": "code",
   "execution_count": 34,
   "id": "ec5086f7",
   "metadata": {},
   "outputs": [],
   "source": [
    "description = []\n",
    "\n",
    "for i in url:\n",
    "    driver.get(i)\n",
    "    time.sleep(3)\n",
    "    try:\n",
    "        d = driver.find_element(By.XPATH,'//div[@class=\"content collapse-content\"]')\n",
    "        description.append(d.text)\n",
    "    except NoSuchElementException :\n",
    "        description.append('--')"
   ]
  },
  {
   "cell_type": "code",
   "execution_count": 35,
   "id": "dd3f6dc7",
   "metadata": {},
   "outputs": [
    {
     "data": {
      "text/plain": [
       "10"
      ]
     },
     "execution_count": 35,
     "metadata": {},
     "output_type": "execute_result"
    }
   ],
   "source": [
    "len(description)"
   ]
  },
  {
   "cell_type": "code",
   "execution_count": 36,
   "id": "e8316294",
   "metadata": {},
   "outputs": [
    {
     "data": {
      "text/plain": [
       "[\"International Students House provides affordable and friendly accommodation in Central London. There are a range of room types from shared dorm rooms to private doubles. Wi-fi is free and accessible throughout the building. Live music and shows are hosted at our venues - more information can be found at 229.london\\n\\nInternational Students House is a charity dedicated to British and International Students in London. We provide a vibrant student centre based in zone one that is used by thousands of students that attend one of the many universities that are part of our International Partnership Scheme and over 200 residents that are housed in the affordable accommodation we offer. \\n\\nISH Bar provides a fun and friendly environment, serving food and drink at affordable prices. Breakfast, lunch and dinner can all be bought by guests if they're feeling hungry. There are also regular free events, such as karaoke and club nights.\\n\\nInternational Students House is located in Central London - zone 1, within walking distance from Regent's Park and Oxford Circus. Regent's Park is one of the Royal Parks of London. It contains the London Zoo. Oxford Circus is the busy intersection of Oxford Street and Regent Street in the West End of London. Oxford Street offers an unrivalled shopping experience thanks to its exciting mix of high-street fashion and international brands.\\n\\nPlease keep in mind that as this is a student accommodation and music venue, there may be noise especially on the weekends\",\n",
       " \"IMPORTANT NOTICE: \\n\\nThis hostel is for 18 - 35-year olds ONLY. \\nCheck In is from 3 pm and Checkout is Before 10 am. Passport, Identity Card or Driver License is Required from all Guests. We accept cash in British Pounds and most cards. Please, note the reception is opened between 8am and 1am only. \\n\\n'Your home away from home' \\n\\nLooking for a great central London Hostel? Your search can come to rest to at London Backpackers Youth Hostel in Hendon. \\nWe are moment from Hendon Central Underground station, minutes from the heart of London and easy access to nearby airports (detailed instructions of how to find the Hostel will be emailed to you once your Booking is made).\\n\\nWe take pride of providing excellent hostel facilities for your stay, whether for a single night or several.\\nFor Group Bookings please contact the Hostel Directly.\\nIf you are looking for long term accommodation, email us for rooms and prices available for quarantining and long stay. \\n\\nOur rates are truly inexpensive, but our hostel is jam-packed with amenities tailored for young, and young at heart, people looking for a comfort at a modest price with a friendly atmosphere.\\n\\nBookings made on this or any website are Not Valid for Existing Guests. If you are and Existing Guest and make an Online Booking, your Booking will be honored but you will be charged the Full Nightly Rate.\\nIn the event of a NO SHOW or LATE CANCELLATION, Guests will be charged a Cancellation Fee Equal to the First Night of the Booking.\\n\\nWHAT YOU CAN EXPECT:\\n\\nOur facilities supply free linen, blankets, private rooms with towels, internet access, TV, literature, City Maps and UK Sim Cards, and a fully fitted kitchen for cooking (with Fridge/Freezers, Oven, Stoves, Microwave, Toaster and Kettle). You will not find another cheap London Youth Hostel that provide clean showers and toilets, plus hot water guaranteed 24h a day. For your convenience we also provide a laundry room with washer and dryer. Bunk Beds with Privacy Curtain, USB Charging Ports, Power Sockets, Reading Light and Locker. (Bring a Padlock or purchase from Reception). Sports Equipment for the nearby Hendon Park, just up the road with a large football field, tennis courts, basketball courts and it is a great place to get active during the day or to chill out with friends in the evening.\\n\\nYou can also enjoy a Pool game in our brand-new basement, equipped with seats and TV for more comfort!\\n\\nWe want your stay to be carefree and we ensure that by offering lockers and luggage room for your use in securing your property during your stay. The Hostel is covered by CCTV and there is 24hr Key Card Access with No Curfew.\\n\\nMoreover, you can find plenty of coffee shops and restaurants around the hostel and for every taste! \\n\\nFor your convenience you will find Tesco, Sainsbury's, and other international shops 2 min walk from the hostel. They are all opened until late at night, even on the Sunday. \\n\\nWe are a 10-minute walk away from Middlesex University as well as Brent Cross shopping centre. The Royal Air Force museum is right by the next underground station!\\n\\nNOTE: you must confirm your booking 24 hours prior to arrival by email to let us know you still want it.\",\n",
       " 'Welcome to NX London Hostel!\\n\\nPLEASE READ INFORMATION BELOW IN FULL\\n\\nNX London offers Budget accommodation close to a station and a 24hrs service bus stop. We\\'re among the cheapest hostels in London that offer you FREE linen, FREE Wi-fi and FREE breakfast. We strive to offer value for money but LET\\'S BE REAL, don\\'t come to us with expectations of a boutique Hostel or an affordable/luxury Hotel. \\n\\nWe\\'re located close to New Cross Gate or New Cross Tube/ Train lines with easy access to London Bridge or connection to the Jubilee Line. We are also a short bus ride (15 minutes) away to the O2, if you are coming to London for a concert or event.\\n\\nWe offer a variety of rooms, including small dormitory rooms and private rooms for Individuals and small/medium groups. Children under 6 years of age are not allowed under any circumstances.\\n\\nFACILITIES Inc. :-\\nReception is open 4:00pm to 1:00am (please DO NOT try to arrive prior to this hours unless arranged in advance)\\nSelf Catering Kitchens.\\nCommon Room with Digital TV.\\nFree Wi-Fi \\nSecure Lockers (Chargeable £2/day)\\nFree ear plugs (For light sleepers)\\nComplimentary continental breakfast\\nEarly check-in (subject to availability) starts at 1:00pm and needs to be arranged and paid in advance with surcharge of £10 per person\\nLate check-in (1:00am-3:00am) needs to be arranged and paid in advance with surcharge of £10 per reservation\\nLate check-out (subject to availability) up to 3:00pm and needs to be arranged and paid in advance with surcharge of £15 per person or a full night stay if not pre-arranged the night before. \\n\\nAll of our reservations are NON-REFUNDABLE regardless of circumstances. This includes, but is not limited to, cancellations made by the guest, changes in travel plans, bonafide errors, medical emergencies, bereavement or any other reasons for not being able to stay at the property. By making a reservation, you agreed to this NON-REFUNDABLE policy and acknowledged that you shall not be entitled to receive a refund for any reason. We kindly ask all of our guests to consider this policy before making a booking and ensure that their travel plans align with the hostel\\'s terms and conditions.\\n\\nHowever, if you need to cancel before your arrival day, you can request a partial courtesy voucher to use in the future at the Manager\\'s discretion.\\n\\nThe Pub next door to the hostel often features live music / DJs. The bar has a pool table and shows all major sports events live. Please note that, since this is a well known live music venue, things can get noisy on the Hostel\\'s lower levels. If that\\'s a concern please request ear plugs (provided free or charge) or an upper floor room upon reserving (subject to availability).\\n\\nWhether you are coming to London to visit the sights, study or work, we look forward to welcoming you to the NX London Hostel.\\n\\nFree \\'On Street\\' Parking is available in close proximity to the Hostel. \\n \\nADDITIONAL INFORMATION\\n*We do not accept customers under 18 years old and over 65 years old unless they are part of a group staying in a private room. Children under the age of 6 are not allowed under any circumstances. We reserve the right to refuse your accommodation at any stage according to the manager discretion. *\\n\\n*KEEP YOUR EXPECTATIONS REALISTIC! Our Standards are in line with the accommodation type we offer (BUDGET HOSTEL). The NX London is not a Hotel, the shared nature of our dormitory rooms might occasionally result into clutter. Bathrooms are located in the hallways and partaken with other guests. In order to maintain our prices low, we kept \"on location amenities\" to a minimum: There are no toiletries, air conditioning and/or a mini-bar in the rooms. We feature a mix of long term and leisure guests, this gives the ambience a uniquely quirky character, as a consequence it would be impossible to meet everybody\\'s taste. Discriminatory comments or behaviour won\\'t be tolerated.\\n* Our 10 bed dorm can host up to 10 guests! If you\\'re not comfortable sharing the space with that many people (and their belongings) please consider booking a different dorm. \\n* The hostel is primarily designed for adults and we expect our guests to act in a responsible and respectful manner at all times.\\n* Upon reserving, you agree and acknowledge that our staff is trained to enforce our policies and procedures in a firm and assertive manner, holding everybody to a high standard of behaviour and with zero-tolerance policy for any breaches. If they instruct you to follow a particular rule or procedure, we kindly request that you comply with their directions. We ask that guests understand that repeated breaches of policy can put a strain on our staff. \\n* Being uncomfortable with a high level of enforcement or the manner in which our staff members communicate shall not constitute grounds for a complain.\\n\\n*Reception is ONLY open 4:00pm to 1:00am. \\n*Property is not wheelchair accessible*\\n*All reservations must be PREPAID the day of booking and are NON REFUNDABLE. \\n*Unpaid reservations WILL BE SUBJECT TO AVAILABILITY AND MIGHT INCUR A 20%-40% SURCHARGE if they\\'re not fully paid upon reserving. \\n*Groups of 9 guests or more need to send group request. \\n*The check-in time is from 4:00pm-1:00am. Guests arriving between 1:00am-3:00am need to email at least 24hrs in advance to confirm their reservation, process late check in payment and fill up check in form online to receive code, otherwise will be considered a no show and subject to availability and no show fees. If you fail to pre-arrange late check in or arrive by 3:00am the reservation will be considered a no show with applicable charges.\\n\\nNo-Shows and Early check-outs will always result into a full (100%) charge and shall never constitute basis for a monetary refund regardless of circumstances. A transferable courtesy credit voucher, to be redeemed at our property might be offered at the Manager\\'s discretion.\\n\\nWe DO require a valid ID for all arrivals including UK/EU residents. Expired ones or without a clear or damaged photo are not valid to check-in.\\nA refundable £10.00 Key Deposit shall be required upon arrival.\\nShould loss of any key reasonably require a locksmith to be called and/or locksmith services to be carried out, guests shall be liable for any locksmith\\'s fees.\\nUpon departure guests should use the express check-out box located by the entrance to drop their key sets, where the corresponding deposit would be refunded directly to the payment method on file for the booking. Those whom wish to check-out early, or retrieve their key deposit in cash, are invited to report to Reception before 1:00 AM the night prior to leaving.',\n",
       " 'At No.8 we take pride in our Customer Service and ensure that all of our Guests get everything they want from their time in London. We cater for the Young & Young at Heart Backpacker 18-38 only, Photo IDs will be required on Check In. We have Live Entertainment on Weekends within our Traditional English Pub, along with the usual range of pub entertainment and banter!\\n\\n- Free High-Speed WiFi\\n- Full Facility Kitchen, Dining Space & Outdoor Deck\\n- Secure Storage Facilities & 24 Hr Key Card Access\\n- Large Lounge - Pool Table, Chess Table, Couches, Satellite TV & Darts Board etc. \\n- Traditional English Pub & Beer Garden\\n- Young & Young at Heart Backpackers 18-45 only. ID on Check-In Required.\\n- Payment by Cash only on Check in (Cards not accepted)\\n- £20 Key Deposit (Fully Refunded On Check-Out)\\n- No refunds are made following Check-In\\n- Reception is open from 9:30am-11:00pm.\\n\\n\\nCheck in: 12pm - 11pm\\nPLEASE NOTE that Check In will NOT be possible outside these hours. If you are running late or will be arriving slightly outside our check in hours, please contact us to see if there is a possibility of us accommodating your arrival outside of check in hours.\\n\\nWhether it is your first time in London or you are a seasoned traveller, No.8 has everything you need (and a few extras) to ensure that your stay in London is definitely Enjoyable & Comfortable!',\n",
       " 'Our hostel is located inside a traditional English pub where you can find friendly locals and travellers alike. Perhaps enjoy a beer, game of pool or chill out listening to music...\\n\\nUpstairs we have 10 bedrooms accommodating 20 people in double rooms, twin rooms and 3 or 4 bed shared rooms.\\n\\nFree WIFI is available and feel free to use our recently refurbished (April 2011) kitchen. A supermarket is close by to stock up on provisions. \\n\\nWe also offer refurbished (February 2012) bathrooms on each floor with hot water naturally. \\n\\n\\nPlease note : \\n\\nCancellation policy : \\nCheck in : 09:00 to 24:00\\nIf arriving on a late flight then please make sure you can be here by 2am at the latest.\\n\\nCheck out : 11.00\\nCredit cards not accepted for the time being\\nBreakfast not included\\nMinimum Age : 18\\nTaxes included',\n",
       " \"The perfect place for solo travelers to connect, explore and party! Join the H1 Family and let us show you the beautiful city of London!\\n\\nWhat really makes our hostel unique and what has helped us win HostelWorld awards year after year, are our amazing team and incredibly social atmosphere.\\nOur staff are travelers just like you, but we are not just here to party. We will cook you dinner, take you on daytime adventures, and share our expert knowledge of the city.\\n\\nIf you still need more convincing, Onefam Notting Hill is located in the absolute heart of Notting Hill (surely you have seen the film), one of London's most beautiful neighborhoods. We are walking distance from many major tourist attractions, such as Portobello Market, Hyde Park & Kensington Palace!\\n\\n- WHY US? \\nSocial but responsible.\\nDay and night, we do free activities with our H1 family. At Onefam you arrive as a solo traveler and you leave with a family.\\n\\n- OUR FACILITIES\\nSleep well, feel well & make friends.\\n\\n. Fully equipped kitchen 24/7 access.\\n. Terrace area.\\n. Common areas all designed for different moods. To relax, to work or to party.\\n. Laundry facilities to keep you smelling fresh.\\n. Personal lockers, outlets and light in all rooms.\\n. No curfew, so you can come and go 24 hours per day as you please.\\n\\nWe are currently following all procedural advice from local governments and taking every necessary measure to ensure your safety, comfort and happiness.\\n. We are up to speed with local government guidelines, advice from WHO and the CDC.\\n. Deep cleaning throughout our hostels has been increased.\\n. We offer sanitization in all common areas and public spaces.\\n\\n- CANCELLATION POLICY \\nThis property has a 2 day cancellation policy. Failure to cancel within this time will result in a cancellation charge equal to the first night of your stay.\\n\\nNon-refundable rates: If your booking is non-refundable. If you choose to cancel your booking, or in the case of a no-show, you will still be charged the full cost of your booking.\\n\\n- POLICIES & CONDITIONS\\nCheck-in from 3 PM to 11 PM. For late check-in, please email the hostel in advance. \\nCheck-out until 11 AM \\n\\nAge Limit \\nWe have an age limit of 18 - 36 years old. If you are outside of this age range upon arrival to the hostel, we have the right to cancel your booking without refund of your deposit, as well as charging the applicable cancellation fee.\\n\\nWe look forward to greeting you in London!\",\n",
       " \"Welcome to Urbany Hostel London, our first international adventure! We offer you a perfect spot to explore the city, we are a social youth backpacker hostel, a place where you can make friends & feel at home.\\n\\nWe are located in Notting Hill, a cosmopolitan and multicultural neighbourhood, in a typical Victorian terraced house built in the 1800s. From Urbany Hostel, you can easily walk to Portobello Market and Hyde Park, two of the most popular sites in London.\\n\\nOur staff members are just like our guests, friendly, sociable, international and incredibly helpful - They will make sure you know your way around the city.\\n\\n-Temporarily our reception hours have varied; to ensure someone will be here to welcome you, please ensure your arrival time is between 8 AM - 11 PM. Alternatively please let us know if you will be arriving outside these hours. \\n\\n-Check in to rooms is from 3 PM - 11 PM\\n-Check out before 11 AM\\n\\nFEEL THE URBANY VIBE:\\n\\nWe have a variety of shared mixed dormitories, whilst also offering private rooms for those who prefer not to share.\\n\\nALL guests must be between 18 - 40 YEARS. If you are outside of this age range upon arrival to the hostel, we have the right to cancel your booking without refund of your deposit, as well as charging the applicable cancellation fee.\\n\\nA physical VALID government issued ID (Passport, Driving license, and National identity cards ) is required to stay with us.\\n\\nFree high-speed Wi-Fi is available everywhere, even in your room.\\n\\nLuggage storage is also available for free if you arrive before check-in or are leaving after check-out (only for the day).\\n\\nWe offer: towel rental (2 GBP) and basic laundry service wash/dry (7 GBP).\\n\\n24/7 CCTV throughout the whole building for added security.\\n\\nWe do require a £10 CASH key deposit (which you will receive back upon return). Ours key's have 24/7 access so there is no curfew - you can get in and out as much as you like.\\n\\nIt's also important to note that there are 4 floors in our hostel and there is no elevator.\\n\\nWe can't wait to welcome you to our wonderful home and enjoy this amazing city!\",\n",
       " 'The Phoenix Bar & Hostel, housed in a homely English-style pub located between Hyde park and Regents park, the Phoenix is perfect located and walking distance to all main attractions, train stations, tubes being only 100+ yards away. \\n\\nWe are an award winning backpackers hostel. Operating for 13 years we take all of our guests safety and security seriously but we also know how to party! Enjoying a mixed entertainments program down at the bar, Comedy Night, Karaoke, Quiz nights... Lounge area to relax watch TV or a movie. \\n\\nCome and join us on your next trip to London! \\n\\nAt the Phoenix Hostel we understand the health and safety concerns of travellers and can assure all guests we are doing everything possible to make your experience safe and enjoyable. A must: Government approved ID on check in for all members of your group!\\n\\nThe health and safety of our guests and staff are our number one priority, therefore we have updated our current standards and conditions to reflect this. \\n\\n*Please note we are operating on LIMITED reception working hours*\\n\\nAt the Phoenix Hostel we understand the health and safety concerns of travellers and can assure all guests we are doing everything possible to make your experience safe and enjoyable. A must: Government approved ID on check in for all members of your group!\\n\\nThe health and safety of our guests and staff are our number one priority, therefore we have updated our current standards and conditions to reflect this. \\n\\n£10 key deposit required upon check-in. cash. Refunded on check out.\\n\\nHostel reception open hours:\\n***We have 24 Hours Reception*** \\n\\nGuests can check-in from 2pm on day of arrival (If arriving earlier, guests may leave their luggage in our holding room until check-in)\\n\\nCheck-out of rooms by 10AM\\n\\nForms of ID accepted:\\nUK/ROI Driving Licence\\nEU/EEA Identity Card \\nInternational Passport\\nIf you do not have these forms of ID, and wish to stay here, please contact us. \\n\\nGuests can cancel their reservation up to 2 days before Check in date. After this date the full amount will be charged. \\nPayment is taken in full upon arrival, and is non-refundable should the guest wish to alter their booking after check in.',\n",
       " \"PLEASE NOTE WE ONLY ACCEPT GUESTS FROM THE AGE OF 18-40 with GOVERNMENT ISSUED PHOTO ID, such as driving licence, passport, national ID card. \\nStudent cards and proof of age cards are not accepted. \\n\\nThe Queen Elizabeth Youth Hostel is located above a historic pub in the posh borough of Hammersmith and Fulham. Located conveniently between the Imperial Wharf Overground and the Fulham Broadway Tube Station, we are just a quick train ride away from London's hottest tourist attractions.\\n\\nLocated less than 5 minutes from the River Thames and 10 minutes to Chelsea FC's home stadium, Stamford Bridge. This is a prime location for those looking for a peaceful and enjoyable stay. Not far you will find green spaces, great shopping and easy transport connections to Central London. We are also located just off King's Road, one of the most fashionable streets in the world.\\n\\nFacilities:\\nCheap, vegan-friendly breakfast buffet\\nLinen Included \\nFree WiFi Internet\\nNo Lock Out\\nNo Curfew \\nBar with cheap drinks for guests\\n24/Hour Check-in/Check-out\\nSecure Locker Storage\\nTwo-Week Maximum Stay\\n\\n-------------------------------------------------------------------------\\n\\n\\n\\nCheck-in is from 15:00 to 00:00 -- if you arrive before 15:00 you can store your bag for FREE in our secure luggage room.\\nAny check-in between 00:01 to 11:00 will be charged a £4 fee.\\n\\nCheck-out is at 11:00 -- Luggage storage is available upon departure for a nominal fee.\\n\\nDue to UK alcohol licensing laws, you are not allowed to bring or consume outside alcohol on the premises. \\n\\nWi-Fi is available in nearly all of our rooms, depending on your Wi-Fi device. It is specifically not available in our 17-bed dorm. All of our rooms do have electrical points, enabling you to charge your electronic devices. \\n\\nWe can't wait to see you here at Queen Elizabeth!\",\n",
       " 'Do London like a local.\\nStay just outside the hustle of the city in a leafy London suburb at our neighbourhood Hostel-Pub, The Crown. Hang out with the friendliest locals in town and enjoy the banter over live sports on our big screens, watch the world go by on the terrace, or get comfortable with new friends in our courtyard garden.\\nPerfect for travellers looking to experience real London with real Londoners.\\n\\nLegendary London adventures start at PubLove.\\nAll our Hostel-Pubs are welcoming, small and social - the perfect places to get to know your fellow travellers. The best thing about staying with us? Your common room is the great British pub! We have 24hr bars specialising in craft beer & gin. Get social with the locals or swap stories over a drink with your fellow backpackers.\\n\\nOur dorms are modern, cool and spotlessly clean. Our bunks have hygiene/privacy screens, dedicated power sockets, great free Wi-Fi and crisp white linen. Our top-class washrooms are private and offer shampoo, shower gel and plenty of hot water.\\n\\nEvery Hostel-Pub has an award-winning Burger Craft kitchen serving up burgers, loaded fries and brunch, with vegetarian and vegan options. They open daily from 12pm until 10pm.\\n\\nBOOK NOW to start your own London adventure.']"
      ]
     },
     "execution_count": 36,
     "metadata": {},
     "output_type": "execute_result"
    }
   ],
   "source": [
    "description"
   ]
  },
  {
   "cell_type": "code",
   "execution_count": 37,
   "id": "9b553940",
   "metadata": {},
   "outputs": [],
   "source": [
    "London_hostels = pd.DataFrame({'Hostel': h_name, 'Distance form City Centre': cc_distance, 'Ratings': ratings, 'Total Reviews': tr,'Overall Rating': ovr, 'Private Rooms':privates, 'Dorms': dorms, 'Facilities': facility, 'Description': description})"
   ]
  },
  {
   "cell_type": "code",
   "execution_count": 38,
   "id": "99d65b41",
   "metadata": {},
   "outputs": [
    {
     "data": {
      "text/html": [
       "<div>\n",
       "<style scoped>\n",
       "    .dataframe tbody tr th:only-of-type {\n",
       "        vertical-align: middle;\n",
       "    }\n",
       "\n",
       "    .dataframe tbody tr th {\n",
       "        vertical-align: top;\n",
       "    }\n",
       "\n",
       "    .dataframe thead th {\n",
       "        text-align: right;\n",
       "    }\n",
       "</style>\n",
       "<table border=\"1\" class=\"dataframe\">\n",
       "  <thead>\n",
       "    <tr style=\"text-align: right;\">\n",
       "      <th></th>\n",
       "      <th>Hostel</th>\n",
       "      <th>Distance form City Centre</th>\n",
       "      <th>Ratings</th>\n",
       "      <th>Total Reviews</th>\n",
       "      <th>Overall Rating</th>\n",
       "      <th>Private Rooms</th>\n",
       "      <th>Dorms</th>\n",
       "      <th>Facilities</th>\n",
       "      <th>Description</th>\n",
       "    </tr>\n",
       "  </thead>\n",
       "  <tbody>\n",
       "    <tr>\n",
       "      <th>0</th>\n",
       "      <td>International Students House</td>\n",
       "      <td>Hostel - 3.3km from city centre</td>\n",
       "      <td>9.3</td>\n",
       "      <td>1035 Total Reviews</td>\n",
       "      <td>Very Good</td>\n",
       "      <td>Privates From\\nRs12697</td>\n",
       "      <td>No Dorms Available</td>\n",
       "      <td>Facilities\\nFree\\nLinen Included Free City Map...</td>\n",
       "      <td>International Students House provides affordab...</td>\n",
       "    </tr>\n",
       "    <tr>\n",
       "      <th>1</th>\n",
       "      <td>London Backpackers</td>\n",
       "      <td>Hostel - 11.9km from city centre</td>\n",
       "      <td>7.9</td>\n",
       "      <td>4468 Total Reviews</td>\n",
       "      <td>Superb</td>\n",
       "      <td>Privates From\\nRs5780</td>\n",
       "      <td>Dorms From\\nRs1920</td>\n",
       "      <td>Facilities\\nFree\\nLinen Included Free City Map...</td>\n",
       "      <td>IMPORTANT NOTICE: \\n\\nThis hostel is for 18 - ...</td>\n",
       "    </tr>\n",
       "    <tr>\n",
       "      <th>2</th>\n",
       "      <td>NX London Hostel</td>\n",
       "      <td>Hostel - 6.1km from city centre</td>\n",
       "      <td>8.3</td>\n",
       "      <td>1884 Total Reviews</td>\n",
       "      <td>Very Good</td>\n",
       "      <td>No Privates Available</td>\n",
       "      <td>Dorms From\\nRs6100.9 Rs4926</td>\n",
       "      <td>Facilities\\nFree\\nFree Breakfast Linen Include...</td>\n",
       "      <td>Welcome to NX London Hostel!\\n\\nPLEASE READ IN...</td>\n",
       "    </tr>\n",
       "    <tr>\n",
       "      <th>3</th>\n",
       "      <td>No.8 Willesden Hostel London</td>\n",
       "      <td>Hostel - 10km from city centre</td>\n",
       "      <td>6.5</td>\n",
       "      <td>5013 Total Reviews</td>\n",
       "      <td>Fabulous</td>\n",
       "      <td>No Privates Available</td>\n",
       "      <td>Dorms From\\nRs1272</td>\n",
       "      <td>Facilities\\nFree\\nLinen Included Free WiFi\\nGe...</td>\n",
       "      <td>At No.8 we take pride in our Customer Service ...</td>\n",
       "    </tr>\n",
       "    <tr>\n",
       "      <th>4</th>\n",
       "      <td>The Backpackshack</td>\n",
       "      <td>Hostel - 10.9km from city centre</td>\n",
       "      <td>9.0</td>\n",
       "      <td>763 Total Reviews</td>\n",
       "      <td>Good</td>\n",
       "      <td>Privates From\\nRs9444</td>\n",
       "      <td>No Dorms Available</td>\n",
       "      <td>Facilities\\nFree\\nLinen Included Free Parking ...</td>\n",
       "      <td>Our hostel is located inside a traditional Eng...</td>\n",
       "    </tr>\n",
       "    <tr>\n",
       "      <th>5</th>\n",
       "      <td>Onefam Notting Hill by Hostel One</td>\n",
       "      <td>Hostel - 5.5km from city centre</td>\n",
       "      <td>9.6</td>\n",
       "      <td>2053 Total Reviews</td>\n",
       "      <td>Superb</td>\n",
       "      <td>Privates From\\nRs12569</td>\n",
       "      <td>No Dorms Available</td>\n",
       "      <td>Facilities\\nFree\\nLinen Included Free WiFi Fre...</td>\n",
       "      <td>The perfect place for solo travelers to connec...</td>\n",
       "    </tr>\n",
       "    <tr>\n",
       "      <th>6</th>\n",
       "      <td>Urbany Hostel London</td>\n",
       "      <td>Hostel - 5.4km from city centre</td>\n",
       "      <td>9.4</td>\n",
       "      <td>778 Total Reviews</td>\n",
       "      <td>Superb</td>\n",
       "      <td>Privates From\\nRs14300</td>\n",
       "      <td>Dorms From\\nRs6327</td>\n",
       "      <td>Facilities\\nFree\\nLinen Included Free WiFi\\nGe...</td>\n",
       "      <td>Welcome to Urbany Hostel London, our first int...</td>\n",
       "    </tr>\n",
       "    <tr>\n",
       "      <th>7</th>\n",
       "      <td>Phoenix Hostel</td>\n",
       "      <td>Hostel - 4.2km from city centre</td>\n",
       "      <td>7.6</td>\n",
       "      <td>4125 Total Reviews</td>\n",
       "      <td>Superb</td>\n",
       "      <td>No Privates Available</td>\n",
       "      <td>Dorms From\\nRs2884.14 Rs2740</td>\n",
       "      <td>Facilities\\nFree\\nLinen Included Free City Map...</td>\n",
       "      <td>The Phoenix Bar &amp; Hostel, housed in a homely E...</td>\n",
       "    </tr>\n",
       "    <tr>\n",
       "      <th>8</th>\n",
       "      <td>Queen Elizabeth Chelsea</td>\n",
       "      <td>Hostel - 5.7km from city centre</td>\n",
       "      <td>7.4</td>\n",
       "      <td>3480 Total Reviews</td>\n",
       "      <td>Very Good</td>\n",
       "      <td>No Privates Available</td>\n",
       "      <td>Dorms From\\nRs1933</td>\n",
       "      <td>Facilities\\nFree\\nLinen Included Free City Map...</td>\n",
       "      <td>PLEASE NOTE WE ONLY ACCEPT GUESTS FROM THE AGE...</td>\n",
       "    </tr>\n",
       "    <tr>\n",
       "      <th>9</th>\n",
       "      <td>PubLove @ The Crown, Battersea</td>\n",
       "      <td>Hostel - 4.7km from city centre</td>\n",
       "      <td>7.6</td>\n",
       "      <td>300 Total Reviews</td>\n",
       "      <td>Very Good</td>\n",
       "      <td>No Privates Available</td>\n",
       "      <td>Dorms From\\nRs3218</td>\n",
       "      <td>Facilities\\nFree\\nLinen Included Free City Map...</td>\n",
       "      <td>Do London like a local.\\nStay just outside the...</td>\n",
       "    </tr>\n",
       "  </tbody>\n",
       "</table>\n",
       "</div>"
      ],
      "text/plain": [
       "                              Hostel         Distance form City Centre  \\\n",
       "0       International Students House   Hostel - 3.3km from city centre   \n",
       "1                 London Backpackers  Hostel - 11.9km from city centre   \n",
       "2                   NX London Hostel   Hostel - 6.1km from city centre   \n",
       "3       No.8 Willesden Hostel London    Hostel - 10km from city centre   \n",
       "4                  The Backpackshack  Hostel - 10.9km from city centre   \n",
       "5  Onefam Notting Hill by Hostel One   Hostel - 5.5km from city centre   \n",
       "6               Urbany Hostel London   Hostel - 5.4km from city centre   \n",
       "7                     Phoenix Hostel   Hostel - 4.2km from city centre   \n",
       "8            Queen Elizabeth Chelsea   Hostel - 5.7km from city centre   \n",
       "9     PubLove @ The Crown, Battersea   Hostel - 4.7km from city centre   \n",
       "\n",
       "  Ratings       Total Reviews Overall Rating           Private Rooms  \\\n",
       "0     9.3  1035 Total Reviews      Very Good  Privates From\\nRs12697   \n",
       "1     7.9  4468 Total Reviews         Superb   Privates From\\nRs5780   \n",
       "2     8.3  1884 Total Reviews      Very Good   No Privates Available   \n",
       "3     6.5  5013 Total Reviews       Fabulous   No Privates Available   \n",
       "4     9.0   763 Total Reviews           Good   Privates From\\nRs9444   \n",
       "5     9.6  2053 Total Reviews         Superb  Privates From\\nRs12569   \n",
       "6     9.4   778 Total Reviews         Superb  Privates From\\nRs14300   \n",
       "7     7.6  4125 Total Reviews         Superb   No Privates Available   \n",
       "8     7.4  3480 Total Reviews      Very Good   No Privates Available   \n",
       "9     7.6   300 Total Reviews      Very Good   No Privates Available   \n",
       "\n",
       "                          Dorms  \\\n",
       "0            No Dorms Available   \n",
       "1            Dorms From\\nRs1920   \n",
       "2   Dorms From\\nRs6100.9 Rs4926   \n",
       "3            Dorms From\\nRs1272   \n",
       "4            No Dorms Available   \n",
       "5            No Dorms Available   \n",
       "6            Dorms From\\nRs6327   \n",
       "7  Dorms From\\nRs2884.14 Rs2740   \n",
       "8            Dorms From\\nRs1933   \n",
       "9            Dorms From\\nRs3218   \n",
       "\n",
       "                                          Facilities  \\\n",
       "0  Facilities\\nFree\\nLinen Included Free City Map...   \n",
       "1  Facilities\\nFree\\nLinen Included Free City Map...   \n",
       "2  Facilities\\nFree\\nFree Breakfast Linen Include...   \n",
       "3  Facilities\\nFree\\nLinen Included Free WiFi\\nGe...   \n",
       "4  Facilities\\nFree\\nLinen Included Free Parking ...   \n",
       "5  Facilities\\nFree\\nLinen Included Free WiFi Fre...   \n",
       "6  Facilities\\nFree\\nLinen Included Free WiFi\\nGe...   \n",
       "7  Facilities\\nFree\\nLinen Included Free City Map...   \n",
       "8  Facilities\\nFree\\nLinen Included Free City Map...   \n",
       "9  Facilities\\nFree\\nLinen Included Free City Map...   \n",
       "\n",
       "                                         Description  \n",
       "0  International Students House provides affordab...  \n",
       "1  IMPORTANT NOTICE: \\n\\nThis hostel is for 18 - ...  \n",
       "2  Welcome to NX London Hostel!\\n\\nPLEASE READ IN...  \n",
       "3  At No.8 we take pride in our Customer Service ...  \n",
       "4  Our hostel is located inside a traditional Eng...  \n",
       "5  The perfect place for solo travelers to connec...  \n",
       "6  Welcome to Urbany Hostel London, our first int...  \n",
       "7  The Phoenix Bar & Hostel, housed in a homely E...  \n",
       "8  PLEASE NOTE WE ONLY ACCEPT GUESTS FROM THE AGE...  \n",
       "9  Do London like a local.\\nStay just outside the...  "
      ]
     },
     "execution_count": 38,
     "metadata": {},
     "output_type": "execute_result"
    }
   ],
   "source": [
    "London_hostels"
   ]
  },
  {
   "cell_type": "code",
   "execution_count": null,
   "id": "4d755cd9",
   "metadata": {},
   "outputs": [],
   "source": []
  },
  {
   "cell_type": "code",
   "execution_count": null,
   "id": "0bfbb6f1",
   "metadata": {},
   "outputs": [],
   "source": []
  },
  {
   "cell_type": "code",
   "execution_count": null,
   "id": "7028b190",
   "metadata": {},
   "outputs": [],
   "source": []
  },
  {
   "cell_type": "code",
   "execution_count": null,
   "id": "874a1680",
   "metadata": {},
   "outputs": [],
   "source": []
  },
  {
   "cell_type": "code",
   "execution_count": null,
   "id": "ccaa2529",
   "metadata": {},
   "outputs": [],
   "source": []
  },
  {
   "cell_type": "code",
   "execution_count": null,
   "id": "15c66e3b",
   "metadata": {},
   "outputs": [],
   "source": []
  },
  {
   "cell_type": "code",
   "execution_count": null,
   "id": "4d6d81c3",
   "metadata": {},
   "outputs": [],
   "source": []
  },
  {
   "cell_type": "code",
   "execution_count": null,
   "id": "e35a6c0b",
   "metadata": {},
   "outputs": [],
   "source": []
  },
  {
   "cell_type": "code",
   "execution_count": null,
   "id": "c9dd9c19",
   "metadata": {},
   "outputs": [],
   "source": []
  },
  {
   "cell_type": "code",
   "execution_count": null,
   "id": "f85aed6a",
   "metadata": {},
   "outputs": [],
   "source": []
  },
  {
   "cell_type": "code",
   "execution_count": null,
   "id": "6d358125",
   "metadata": {},
   "outputs": [],
   "source": []
  },
  {
   "cell_type": "code",
   "execution_count": null,
   "id": "59eaaeac",
   "metadata": {},
   "outputs": [],
   "source": []
  },
  {
   "cell_type": "code",
   "execution_count": null,
   "id": "f4c66360",
   "metadata": {},
   "outputs": [],
   "source": []
  },
  {
   "cell_type": "code",
   "execution_count": null,
   "id": "5980cf47",
   "metadata": {},
   "outputs": [],
   "source": []
  },
  {
   "cell_type": "code",
   "execution_count": null,
   "id": "ec9e9965",
   "metadata": {},
   "outputs": [],
   "source": []
  },
  {
   "cell_type": "code",
   "execution_count": null,
   "id": "8ff68715",
   "metadata": {},
   "outputs": [],
   "source": []
  },
  {
   "cell_type": "code",
   "execution_count": null,
   "id": "a8d45d56",
   "metadata": {},
   "outputs": [],
   "source": []
  },
  {
   "cell_type": "code",
   "execution_count": null,
   "id": "288076f4",
   "metadata": {},
   "outputs": [],
   "source": []
  },
  {
   "cell_type": "code",
   "execution_count": null,
   "id": "535edbaa",
   "metadata": {},
   "outputs": [],
   "source": []
  },
  {
   "cell_type": "code",
   "execution_count": null,
   "id": "13c7963d",
   "metadata": {},
   "outputs": [],
   "source": []
  },
  {
   "cell_type": "code",
   "execution_count": null,
   "id": "8a681065",
   "metadata": {},
   "outputs": [],
   "source": []
  },
  {
   "cell_type": "code",
   "execution_count": null,
   "id": "4328f797",
   "metadata": {},
   "outputs": [],
   "source": []
  },
  {
   "cell_type": "code",
   "execution_count": null,
   "id": "03fa80d9",
   "metadata": {},
   "outputs": [],
   "source": []
  },
  {
   "cell_type": "code",
   "execution_count": null,
   "id": "0c58ab17",
   "metadata": {},
   "outputs": [],
   "source": []
  },
  {
   "cell_type": "code",
   "execution_count": null,
   "id": "f8ac7a46",
   "metadata": {},
   "outputs": [],
   "source": []
  },
  {
   "cell_type": "code",
   "execution_count": null,
   "id": "c3e9ce49",
   "metadata": {},
   "outputs": [],
   "source": []
  },
  {
   "cell_type": "code",
   "execution_count": null,
   "id": "364a1e72",
   "metadata": {},
   "outputs": [],
   "source": []
  },
  {
   "cell_type": "code",
   "execution_count": null,
   "id": "ec8734d1",
   "metadata": {},
   "outputs": [],
   "source": []
  },
  {
   "cell_type": "code",
   "execution_count": null,
   "id": "6578f8cd",
   "metadata": {},
   "outputs": [],
   "source": []
  },
  {
   "cell_type": "code",
   "execution_count": null,
   "id": "166bed75",
   "metadata": {},
   "outputs": [],
   "source": []
  },
  {
   "cell_type": "code",
   "execution_count": null,
   "id": "d64f2077",
   "metadata": {},
   "outputs": [],
   "source": []
  },
  {
   "cell_type": "code",
   "execution_count": null,
   "id": "accb6a5f",
   "metadata": {},
   "outputs": [],
   "source": []
  },
  {
   "cell_type": "code",
   "execution_count": null,
   "id": "db682a36",
   "metadata": {},
   "outputs": [],
   "source": []
  },
  {
   "cell_type": "code",
   "execution_count": null,
   "id": "60c25d0d",
   "metadata": {},
   "outputs": [],
   "source": []
  },
  {
   "cell_type": "code",
   "execution_count": null,
   "id": "a37c6867",
   "metadata": {},
   "outputs": [],
   "source": []
  },
  {
   "cell_type": "code",
   "execution_count": null,
   "id": "1a6b8f2d",
   "metadata": {},
   "outputs": [],
   "source": []
  },
  {
   "cell_type": "code",
   "execution_count": null,
   "id": "1369ad03",
   "metadata": {},
   "outputs": [],
   "source": []
  },
  {
   "cell_type": "code",
   "execution_count": null,
   "id": "206bc41f",
   "metadata": {},
   "outputs": [],
   "source": []
  },
  {
   "cell_type": "code",
   "execution_count": null,
   "id": "71d4cc05",
   "metadata": {},
   "outputs": [],
   "source": []
  },
  {
   "cell_type": "code",
   "execution_count": null,
   "id": "1c8bc2f0",
   "metadata": {},
   "outputs": [],
   "source": []
  },
  {
   "cell_type": "code",
   "execution_count": null,
   "id": "293e41fb",
   "metadata": {},
   "outputs": [],
   "source": []
  },
  {
   "cell_type": "code",
   "execution_count": null,
   "id": "ec41a3c6",
   "metadata": {},
   "outputs": [],
   "source": []
  },
  {
   "cell_type": "code",
   "execution_count": null,
   "id": "a7fc0504",
   "metadata": {},
   "outputs": [],
   "source": []
  },
  {
   "cell_type": "code",
   "execution_count": null,
   "id": "63829779",
   "metadata": {},
   "outputs": [],
   "source": []
  },
  {
   "cell_type": "code",
   "execution_count": null,
   "id": "6f56bae4",
   "metadata": {},
   "outputs": [],
   "source": []
  },
  {
   "cell_type": "code",
   "execution_count": null,
   "id": "c1994c32",
   "metadata": {},
   "outputs": [],
   "source": []
  },
  {
   "cell_type": "code",
   "execution_count": null,
   "id": "6f558ee6",
   "metadata": {},
   "outputs": [],
   "source": []
  },
  {
   "cell_type": "code",
   "execution_count": null,
   "id": "6c93be38",
   "metadata": {},
   "outputs": [],
   "source": []
  },
  {
   "cell_type": "code",
   "execution_count": null,
   "id": "8c2c16aa",
   "metadata": {},
   "outputs": [],
   "source": []
  },
  {
   "cell_type": "code",
   "execution_count": null,
   "id": "6ec4ca80",
   "metadata": {},
   "outputs": [],
   "source": []
  },
  {
   "cell_type": "code",
   "execution_count": null,
   "id": "bef23e2b",
   "metadata": {},
   "outputs": [],
   "source": []
  },
  {
   "cell_type": "code",
   "execution_count": null,
   "id": "2350ea68",
   "metadata": {},
   "outputs": [],
   "source": []
  },
  {
   "cell_type": "code",
   "execution_count": null,
   "id": "b46c8f8d",
   "metadata": {},
   "outputs": [],
   "source": []
  },
  {
   "cell_type": "code",
   "execution_count": null,
   "id": "990c7cbc",
   "metadata": {},
   "outputs": [],
   "source": []
  },
  {
   "cell_type": "code",
   "execution_count": null,
   "id": "7a8345c3",
   "metadata": {},
   "outputs": [],
   "source": []
  },
  {
   "cell_type": "code",
   "execution_count": null,
   "id": "c72d67f7",
   "metadata": {},
   "outputs": [],
   "source": []
  },
  {
   "cell_type": "code",
   "execution_count": null,
   "id": "45c077eb",
   "metadata": {},
   "outputs": [],
   "source": []
  },
  {
   "cell_type": "code",
   "execution_count": null,
   "id": "160b7f08",
   "metadata": {},
   "outputs": [],
   "source": []
  },
  {
   "cell_type": "code",
   "execution_count": null,
   "id": "a48b5795",
   "metadata": {},
   "outputs": [],
   "source": []
  },
  {
   "cell_type": "code",
   "execution_count": null,
   "id": "f15a1f73",
   "metadata": {},
   "outputs": [],
   "source": []
  },
  {
   "cell_type": "code",
   "execution_count": null,
   "id": "8bf98be8",
   "metadata": {},
   "outputs": [],
   "source": [
    "    "
   ]
  },
  {
   "cell_type": "code",
   "execution_count": null,
   "id": "beef4610",
   "metadata": {},
   "outputs": [],
   "source": []
  },
  {
   "cell_type": "code",
   "execution_count": null,
   "id": "74b0c7f0",
   "metadata": {},
   "outputs": [],
   "source": []
  },
  {
   "cell_type": "code",
   "execution_count": null,
   "id": "1c5ee5c2",
   "metadata": {},
   "outputs": [],
   "source": []
  },
  {
   "cell_type": "code",
   "execution_count": null,
   "id": "4a7423f1",
   "metadata": {},
   "outputs": [],
   "source": []
  },
  {
   "cell_type": "code",
   "execution_count": null,
   "id": "e4403bdd",
   "metadata": {},
   "outputs": [],
   "source": []
  },
  {
   "cell_type": "code",
   "execution_count": null,
   "id": "229c2004",
   "metadata": {},
   "outputs": [],
   "source": []
  },
  {
   "cell_type": "code",
   "execution_count": null,
   "id": "fd81056c",
   "metadata": {},
   "outputs": [],
   "source": []
  },
  {
   "cell_type": "code",
   "execution_count": null,
   "id": "a27525f4",
   "metadata": {},
   "outputs": [],
   "source": []
  },
  {
   "cell_type": "code",
   "execution_count": null,
   "id": "60b46019",
   "metadata": {},
   "outputs": [],
   "source": []
  },
  {
   "cell_type": "code",
   "execution_count": null,
   "id": "7f7340b7",
   "metadata": {},
   "outputs": [],
   "source": []
  },
  {
   "cell_type": "code",
   "execution_count": null,
   "id": "a0175e07",
   "metadata": {},
   "outputs": [],
   "source": []
  },
  {
   "cell_type": "code",
   "execution_count": null,
   "id": "2ef65d88",
   "metadata": {},
   "outputs": [],
   "source": []
  },
  {
   "cell_type": "code",
   "execution_count": null,
   "id": "959f532c",
   "metadata": {},
   "outputs": [],
   "source": []
  },
  {
   "cell_type": "code",
   "execution_count": null,
   "id": "cce1d23f",
   "metadata": {},
   "outputs": [],
   "source": []
  },
  {
   "cell_type": "code",
   "execution_count": null,
   "id": "8bf13fa1",
   "metadata": {},
   "outputs": [],
   "source": []
  },
  {
   "cell_type": "code",
   "execution_count": null,
   "id": "f4bb521d",
   "metadata": {},
   "outputs": [],
   "source": []
  },
  {
   "cell_type": "code",
   "execution_count": null,
   "id": "9f91a9d6",
   "metadata": {},
   "outputs": [],
   "source": []
  },
  {
   "cell_type": "code",
   "execution_count": null,
   "id": "5e6ce3f8",
   "metadata": {},
   "outputs": [],
   "source": []
  },
  {
   "cell_type": "code",
   "execution_count": null,
   "id": "c0d15163",
   "metadata": {},
   "outputs": [],
   "source": []
  },
  {
   "cell_type": "code",
   "execution_count": null,
   "id": "a6367812",
   "metadata": {},
   "outputs": [],
   "source": []
  },
  {
   "cell_type": "code",
   "execution_count": null,
   "id": "3763a2fa",
   "metadata": {},
   "outputs": [],
   "source": []
  },
  {
   "cell_type": "code",
   "execution_count": null,
   "id": "b7767cde",
   "metadata": {},
   "outputs": [],
   "source": [
    "    "
   ]
  },
  {
   "cell_type": "code",
   "execution_count": null,
   "id": "63d5752d",
   "metadata": {},
   "outputs": [],
   "source": []
  },
  {
   "cell_type": "code",
   "execution_count": null,
   "id": "44103753",
   "metadata": {},
   "outputs": [],
   "source": []
  },
  {
   "cell_type": "code",
   "execution_count": null,
   "id": "e62bcb26",
   "metadata": {},
   "outputs": [],
   "source": []
  },
  {
   "cell_type": "code",
   "execution_count": null,
   "id": "368f4630",
   "metadata": {},
   "outputs": [],
   "source": []
  },
  {
   "cell_type": "code",
   "execution_count": null,
   "id": "ff0af7db",
   "metadata": {},
   "outputs": [],
   "source": []
  }
 ],
 "metadata": {
  "kernelspec": {
   "display_name": "Python 3 (ipykernel)",
   "language": "python",
   "name": "python3"
  },
  "language_info": {
   "codemirror_mode": {
    "name": "ipython",
    "version": 3
   },
   "file_extension": ".py",
   "mimetype": "text/x-python",
   "name": "python",
   "nbconvert_exporter": "python",
   "pygments_lexer": "ipython3",
   "version": "3.9.13"
  }
 },
 "nbformat": 4,
 "nbformat_minor": 5
}
