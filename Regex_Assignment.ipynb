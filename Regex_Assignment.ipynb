{
 "cells": [
  {
   "cell_type": "markdown",
   "id": "01730568",
   "metadata": {},
   "source": [
    "## Regular Expressions"
   ]
  },
  {
   "cell_type": "markdown",
   "id": "621a54a2",
   "metadata": {},
   "source": [
    "Question 1- Write a Python program to check that a string contains only a certain set of characters (in this case a-z, A-Z and 0-9)."
   ]
  },
  {
   "cell_type": "code",
   "execution_count": 1,
   "id": "301e45fd",
   "metadata": {},
   "outputs": [],
   "source": [
    "import re"
   ]
  },
  {
   "cell_type": "code",
   "execution_count": 4,
   "id": "bbbd306f",
   "metadata": {},
   "outputs": [
    {
     "name": "stdout",
     "output_type": "stream",
     "text": [
      "Enter any string valueIndia is currently 4 largest economy in the world\n",
      "String contains only characters defined in pattern\n"
     ]
    }
   ],
   "source": [
    "string = input('Enter any string value')\n",
    "\n",
    "pattern = r'[a-zA-Z0-9]+'\n",
    "\n",
    "if re.match(pattern,string):\n",
    "    print('String contains only characters defined in pattern')\n",
    "else:\n",
    "    print('String contains other characters')"
   ]
  },
  {
   "cell_type": "markdown",
   "id": "34b13471",
   "metadata": {},
   "source": [
    "Question 2- Create a function in python that matches a string that has an a followed by zero or more b's"
   ]
  },
  {
   "cell_type": "code",
   "execution_count": 5,
   "id": "6526f7d6",
   "metadata": {},
   "outputs": [
    {
     "name": "stdout",
     "output_type": "stream",
     "text": [
      "Enter any string valueab = AB\n",
      "String contains only characters defined in pattern\n"
     ]
    }
   ],
   "source": [
    "string = input('Enter any string value')\n",
    "\n",
    "pattern = r'a+b*'\n",
    "\n",
    "if re.match(pattern,string):\n",
    "    print('String contains only characters defined in pattern')\n",
    "else:\n",
    "    print('String contains other characters')"
   ]
  },
  {
   "cell_type": "markdown",
   "id": "1e0c4fb4",
   "metadata": {},
   "source": [
    "Question 3-  Create a function in python that matches a string that has an a followed by one or more b's"
   ]
  },
  {
   "cell_type": "code",
   "execution_count": 11,
   "id": "056611a6",
   "metadata": {},
   "outputs": [
    {
     "name": "stdout",
     "output_type": "stream",
     "text": [
      "Enter any string ValueAB =ab\n",
      "String contains only characters defined in pattern\n"
     ]
    }
   ],
   "source": [
    "string = input ('Enter any string Value')\n",
    "\n",
    "pattern = r'[a-bA-B]+'\n",
    "\n",
    "if re.match(pattern,string):\n",
    "    print('String contains only characters defined in pattern')\n",
    "else:\n",
    "    print('String contains other characters')"
   ]
  },
  {
   "cell_type": "markdown",
   "id": "c46fbe34",
   "metadata": {},
   "source": [
    "Question 4- Create a function in Python and use RegEx that matches a string that has an a followed by zero or one 'b'."
   ]
  },
  {
   "cell_type": "code",
   "execution_count": 28,
   "id": "097aa9d7",
   "metadata": {},
   "outputs": [
    {
     "name": "stdout",
     "output_type": "stream",
     "text": [
      "Enter any string Valuethe flow of english alphabets starts with ab\n",
      "String contains only characters defined in pattern\n"
     ]
    }
   ],
   "source": [
    "string = input('Enter any string Value')\n",
    "\n",
    "pattern = '[^ab?$]'\n",
    "\n",
    "if re.match(pattern,string):\n",
    "    print('String contains only characters defined in pattern')\n",
    "else:\n",
    "    print('String contains other Characters')"
   ]
  },
  {
   "cell_type": "markdown",
   "id": "8760ac59",
   "metadata": {},
   "source": [
    "Question 5- Write a Python program that matches a string that has an a followed by three 'b'."
   ]
  },
  {
   "cell_type": "code",
   "execution_count": 27,
   "id": "6d075b6d",
   "metadata": {},
   "outputs": [
    {
     "name": "stdout",
     "output_type": "stream",
     "text": [
      "Enter any string valueAB = ab but does not equals to abbb\n",
      "String contains characters defined in pattern\n"
     ]
    }
   ],
   "source": [
    "string = input('Enter any string value')\n",
    "\n",
    "pattern = '[^abbb$]'\n",
    "\n",
    "if re.match(pattern,string):\n",
    "    print('String contains characters defined in pattern')\n",
    "else:\n",
    "    print('string contains other characters')"
   ]
  },
  {
   "cell_type": "markdown",
   "id": "81c5955c",
   "metadata": {},
   "source": [
    "Question 6- Write a regular expression in Python to split a string into uppercase letters."
   ]
  },
  {
   "cell_type": "code",
   "execution_count": 10,
   "id": "d18d37bd",
   "metadata": {},
   "outputs": [
    {
     "name": "stdout",
     "output_type": "stream",
     "text": [
      "Enter any string valueDelhiIsCapitalOfIndia\n",
      "['', 'Delhi', 'Is', 'Capital', 'Of', 'India']\n"
     ]
    }
   ],
   "source": [
    "string = input('Enter any string value')\n",
    "\n",
    "pattern = r'(?=[A-Z0-9])'\n",
    "\n",
    "result = re.split(pattern,string)\n",
    "print(result)"
   ]
  },
  {
   "cell_type": "markdown",
   "id": "869b6d09",
   "metadata": {},
   "source": [
    "Question 7- Write a Python program that matches a string that has an a followed by two to three 'b'."
   ]
  },
  {
   "cell_type": "code",
   "execution_count": 37,
   "id": "6dd8273d",
   "metadata": {},
   "outputs": [
    {
     "name": "stdout",
     "output_type": "stream",
     "text": [
      "Enter any string valueI have abb in my sentence\n",
      "Match Found\n"
     ]
    }
   ],
   "source": [
    "string = input('Enter any string value')\n",
    "\n",
    "pattern = r'[^a(b{2,3})$]'\n",
    "\n",
    "if re.match(pattern,string):\n",
    "    print('Match Found')\n",
    "else :\n",
    "    print('Match Not Found')"
   ]
  },
  {
   "cell_type": "markdown",
   "id": "33c6e97b",
   "metadata": {},
   "source": [
    "Question 8- Write a Python program to find sequences of lowercase letters joined with a underscore."
   ]
  },
  {
   "cell_type": "code",
   "execution_count": 5,
   "id": "c7bd5d9e",
   "metadata": {},
   "outputs": [
    {
     "name": "stdout",
     "output_type": "stream",
     "text": [
      "Enter a string valueDelhi_is_capital_of_India\n",
      "Match Found\n"
     ]
    }
   ],
   "source": [
    "string = input('Enter a string value')\n",
    "\n",
    "pattern = r'[a-zA-Z]+(?:_[a-zA-Z]+)+'\n",
    "\n",
    "if re.match(pattern,string):\n",
    "    print('Match Found')\n",
    "else :\n",
    "    print('Match not Found')"
   ]
  },
  {
   "cell_type": "markdown",
   "id": "a4fc6569",
   "metadata": {},
   "source": [
    "Question 9- Write a Python program that matches a string that has an 'a' followed by anything, ending in 'b'."
   ]
  },
  {
   "cell_type": "code",
   "execution_count": 6,
   "id": "b8f8f3f1",
   "metadata": {},
   "outputs": [
    {
     "name": "stdout",
     "output_type": "stream",
     "text": [
      "Enter any string valuea then b\n",
      "Match found\n"
     ]
    }
   ],
   "source": [
    "string = input('Enter any string value')\n",
    "\n",
    "pattern = r'a.*b$'\n",
    "\n",
    "if re.match(pattern,string):\n",
    "    print('Match found')\n",
    "else:\n",
    "    print('Match not found')"
   ]
  },
  {
   "cell_type": "markdown",
   "id": "aa6702dc",
   "metadata": {},
   "source": [
    "Question 10- Write a Python program that matches a word at the beginning of a string."
   ]
  },
  {
   "cell_type": "code",
   "execution_count": 10,
   "id": "0615f774",
   "metadata": {},
   "outputs": [
    {
     "name": "stdout",
     "output_type": "stream",
     "text": [
      "Enter any string valueapple a day keeps dr. away\n",
      "Enter any wordapple\n",
      "Match Found\n"
     ]
    }
   ],
   "source": [
    "string = input('Enter any string value')\n",
    "a = input('Enter any word')\n",
    "pattern = r'^'+ a\n",
    "\n",
    "if re.match(pattern,string):\n",
    "    print('Match Found')\n",
    "else:\n",
    "    print('Match not Found')"
   ]
  },
  {
   "cell_type": "markdown",
   "id": "1f3d7147",
   "metadata": {},
   "source": [
    "Question 11- Write a Python program to match a string that contains only upper and lowercase letters, numbers, and underscores."
   ]
  },
  {
   "cell_type": "code",
   "execution_count": 18,
   "id": "a2fd5c42",
   "metadata": {},
   "outputs": [
    {
     "name": "stdout",
     "output_type": "stream",
     "text": [
      "Enter any string valueThis_is_1_sample_string\n",
      "Match found\n"
     ]
    }
   ],
   "source": [
    "string = input('Enter any string value')\n",
    "\n",
    "pattern = r'^[a-zA-Z0-9_]+$'\n",
    "\n",
    "if re.match(pattern,string):\n",
    "    print('Match found')\n",
    "else:\n",
    "    print('Match not found')"
   ]
  },
  {
   "cell_type": "markdown",
   "id": "cfaedb96",
   "metadata": {},
   "source": [
    "Question 12- Write a Python program where a string will start with a specific number."
   ]
  },
  {
   "cell_type": "code",
   "execution_count": 19,
   "id": "74203739",
   "metadata": {},
   "outputs": [
    {
     "name": "stdout",
     "output_type": "stream",
     "text": [
      "Enter any string value1 is the first number\n",
      "Enter any Number1\n",
      "Match Found\n"
     ]
    }
   ],
   "source": [
    "string = input('Enter any string value')\n",
    "number = input ('Enter any Number')\n",
    "pattern = r'^'+ number\n",
    "\n",
    "if re.match(pattern,string):\n",
    "    print('Match Found')\n",
    "else:\n",
    "    print('Match not Found')"
   ]
  },
  {
   "cell_type": "markdown",
   "id": "ebb8d367",
   "metadata": {},
   "source": [
    "Question 13- Write a Python program to remove leading zeros from an IP address"
   ]
  },
  {
   "cell_type": "code",
   "execution_count": 20,
   "id": "cb6f6a43",
   "metadata": {},
   "outputs": [
    {
     "name": "stdout",
     "output_type": "stream",
     "text": [
      "Enter any string value for IP address01.02.03.04\n"
     ]
    }
   ],
   "source": [
    "Ip_address = input('Enter any string value for IP address')\n",
    "\n",
    "pattern = r'\\b0+(\\d)'\n",
    "replacement = re.sub(pattern,r'\\1',Ip_address)"
   ]
  },
  {
   "cell_type": "code",
   "execution_count": 21,
   "id": "e039b4a8",
   "metadata": {},
   "outputs": [
    {
     "data": {
      "text/plain": [
       "'1.2.3.4'"
      ]
     },
     "execution_count": 21,
     "metadata": {},
     "output_type": "execute_result"
    }
   ],
   "source": [
    "replacement"
   ]
  },
  {
   "cell_type": "markdown",
   "id": "6168c59b",
   "metadata": {},
   "source": [
    "Question 14- Write a regular expression in python to match a date string in the form of Month name followed by day number and year stored in a text file.\n",
    "Sample text : ' On August 15th 1947 that India was declared independent from British colonialism, and the reins of control were handed over to the leaders of the Country’.\n",
    "Output- August 15th 1947\n",
    "\n",
    "Hint- Use re.match() method here\n"
   ]
  },
  {
   "cell_type": "code",
   "execution_count": 8,
   "id": "fe5fb931",
   "metadata": {},
   "outputs": [
    {
     "name": "stdout",
     "output_type": "stream",
     "text": [
      "Enter any string valueJanuary 26th 2023 will be next republic day\n",
      "January 26th 2023\n"
     ]
    }
   ],
   "source": [
    "text = input('Enter any string value')\n",
    "pattern = r\"\\b([A-Z][a-z]+ \\d{1,2}(?:st|nd|rd|th)? \\d{4})\\b\"\n",
    "\n",
    "match = re.match(pattern, text)\n",
    "if match:\n",
    "    date_string = match.group(1)\n",
    "    print(date_string)"
   ]
  },
  {
   "cell_type": "markdown",
   "id": "a4a5b52d",
   "metadata": {},
   "source": [
    "Question 15- Write a Python program to search some literals strings in a string. Go to the editor\n",
    "Sample text : 'The quick brown fox jumps over the lazy dog.'\n",
    "Searched words : 'fox', 'dog', 'horse'"
   ]
  },
  {
   "cell_type": "code",
   "execution_count": 20,
   "id": "78822cd4",
   "metadata": {},
   "outputs": [
    {
     "name": "stdout",
     "output_type": "stream",
     "text": [
      "Enter a string ValueAn apple a day keeps doctor away\n",
      "Enter words to searchapple\n",
      "Enter a word to searchdoctor\n",
      "Enter a word to searchaway\n",
      "Found 'apple'in the text\n",
      "Found 'doctor'in the text\n",
      "Found 'away'in the text\n"
     ]
    }
   ],
   "source": [
    "Text = input('Enter a string Value')\n",
    "Words = [input('Enter words to search'),input('Enter a word to search'), input('Enter a word to search')]\n",
    "for word in Words:\n",
    "    pattern = re.escape(word)\n",
    "    if re.search(pattern,Text):\n",
    "        print(f\"Found '{word}'in the text\")\n",
    "    else:\n",
    "        print(f\" '{word}' not found in the text\")"
   ]
  },
  {
   "cell_type": "markdown",
   "id": "adbbbef0",
   "metadata": {},
   "source": [
    "Question 16- Write a Python program to search a literals string in a string and also find the location within the original string where the pattern occurs\n",
    "Sample text : 'The quick brown fox jumps over the lazy dog.'\n",
    "Searched words : 'fox'"
   ]
  },
  {
   "cell_type": "code",
   "execution_count": 22,
   "id": "02bc335f",
   "metadata": {},
   "outputs": [
    {
     "name": "stdout",
     "output_type": "stream",
     "text": [
      "Enter a value for the stringAn apple a day keeps Doctor away.\n",
      "Enter a word to be searchedDoctor\n",
      "'Doctor'found at the position 21-27.\n"
     ]
    }
   ],
   "source": [
    "string = input('Enter a value for the string')\n",
    "word = input('Enter a word to be searched')\n",
    "pattern = re.escape(word)\n",
    "matches = re.finditer(pattern,string)\n",
    "\n",
    "for match in matches :\n",
    "    start = match.start()\n",
    "    end = match.end()\n",
    "    print(f\"'{word}'found at the position {start}-{end}.\")"
   ]
  },
  {
   "cell_type": "markdown",
   "id": "b558de53",
   "metadata": {},
   "source": [
    "Question 17- Write a Python program to find the substrings within a string.\n",
    "Sample text : 'Python exercises, PHP exercises, C# exercises'\n",
    "Pattern : 'exercises'."
   ]
  },
  {
   "cell_type": "code",
   "execution_count": 3,
   "id": "03c3992f",
   "metadata": {},
   "outputs": [
    {
     "name": "stdout",
     "output_type": "stream",
     "text": [
      "Enter a value for stringHello, how are you ?\n",
      "Enter a value for patternHello\n",
      "Match found\n"
     ]
    }
   ],
   "source": [
    "string = input('Enter a value for string')\n",
    "st = input('Enter a value for pattern')\n",
    "pattern = re.escape(st)\n",
    "\n",
    "if re.match(pattern,string):\n",
    "    print('Match found')\n",
    "else:\n",
    "    print('Match not found')"
   ]
  },
  {
   "cell_type": "markdown",
   "id": "55235253",
   "metadata": {},
   "source": [
    "Question 18- Write a Python program to find the occurrence and position of the substrings within a string."
   ]
  },
  {
   "cell_type": "code",
   "execution_count": 10,
   "id": "f1fcc7e6",
   "metadata": {},
   "outputs": [
    {
     "name": "stdout",
     "output_type": "stream",
     "text": [
      "found 'capital' at the position 9-16.\n",
      "found 'capital' at the position 27-34.\n"
     ]
    }
   ],
   "source": [
    "text = 'Delhi is capital of india, capital is also known as rajdhani'\n",
    "pattern = 'capital'\n",
    "\n",
    "for match in re.finditer(pattern,text):\n",
    "    start = match.start()\n",
    "    end = match.end()\n",
    "    print(f\"found '{pattern}' at the position {start}-{end}.\")"
   ]
  },
  {
   "cell_type": "markdown",
   "id": "f406a250",
   "metadata": {},
   "source": [
    "Question 19- Write a Python program to convert a date of yyyy-mm-dd format to dd-mm-yyyy format."
   ]
  },
  {
   "cell_type": "code",
   "execution_count": 2,
   "id": "6322b23d",
   "metadata": {},
   "outputs": [],
   "source": [
    "def convert_date(date_string):\n",
    "    pattern = r\"(\\d{4})-(\\d{2})-(\\d{2})\"\n",
    "    match = re.match(pattern, date_string)\n",
    "    \n",
    "    if match:\n",
    "        year = match.group(1)\n",
    "        month = match.group(2)\n",
    "        day = match.group(3)\n",
    "        \n",
    "        new_date_string = f\"{day}-{month}-{year}\"\n",
    "        return new_date_string\n",
    "    else:\n",
    "        return \"Invalid date format\""
   ]
  },
  {
   "cell_type": "code",
   "execution_count": 4,
   "id": "d297a2cc",
   "metadata": {},
   "outputs": [
    {
     "name": "stdout",
     "output_type": "stream",
     "text": [
      "Enter a date in yyyy-mm-dd format: 2023-07-13\n",
      "Converted date: 13-07-2023\n"
     ]
    }
   ],
   "source": [
    "date = input(\"Enter a date in yyyy-mm-dd format: \")\n",
    "converted_date = convert_date(date)\n",
    "print(\"Converted date:\", converted_date)"
   ]
  },
  {
   "cell_type": "markdown",
   "id": "9052c023",
   "metadata": {},
   "source": [
    "Question 20- Write a Python program to find all words starting with 'a' or 'e' in a given string."
   ]
  },
  {
   "cell_type": "code",
   "execution_count": 5,
   "id": "b1bc2f5e",
   "metadata": {},
   "outputs": [
    {
     "name": "stdout",
     "output_type": "stream",
     "text": [
      "Enter a value for stringa for apple, e for elephant\n",
      "Words found with a or e  ['apple', 'elephant']\n",
      "Words found with a or e  ['apple', 'elephant']\n"
     ]
    }
   ],
   "source": [
    "string = input('Enter a value for string')\n",
    "\n",
    "pattern = r\"\\b[aAeE]\\w+\\b\"\n",
    "\n",
    "matches = re.findall(pattern,string)\n",
    "for i in matches:\n",
    "    print('Words found with a or e ',matches)"
   ]
  },
  {
   "cell_type": "markdown",
   "id": "0ea26f45",
   "metadata": {},
   "source": [
    "Question 21- Write a Python program to separate and print the numbers and their position of a given string."
   ]
  },
  {
   "cell_type": "code",
   "execution_count": 11,
   "id": "569f53c3",
   "metadata": {},
   "outputs": [
    {
     "name": "stdout",
     "output_type": "stream",
     "text": [
      "Enter any value for stringone 1 two 2 three 3\n",
      "Number: 1, Position: 4\n",
      "Number: 2, Position: 10\n",
      "Number: 3, Position: 18\n"
     ]
    }
   ],
   "source": [
    "string = input('Enter any value for string')\n",
    "\n",
    "pattern = r\"\\b(\\d+)\\b\"\n",
    "\n",
    "matches = re.finditer(pattern,string)\n",
    "\n",
    "for match in matches:\n",
    "    number = match.group(1)\n",
    "    position = match.start()\n",
    "    print(f\"Number: {number}, Position: {position}\")"
   ]
  },
  {
   "cell_type": "markdown",
   "id": "5b1868f6",
   "metadata": {},
   "source": [
    "Question 22- Write a regular expression in python program to extract maximum numeric value from a string"
   ]
  },
  {
   "cell_type": "code",
   "execution_count": 12,
   "id": "99b9710b",
   "metadata": {},
   "outputs": [],
   "source": [
    "def extract_max_numeric_value(string):\n",
    "    pattern = r\"\\b(\\d+)\\b\"\n",
    "    matches = re.findall(pattern, string)\n",
    "    if matches:\n",
    "        max_value = max(map(int, matches))\n",
    "        return max_value\n",
    "    else:\n",
    "        return None"
   ]
  },
  {
   "cell_type": "code",
   "execution_count": 13,
   "id": "0b2ae95e",
   "metadata": {},
   "outputs": [
    {
     "name": "stdout",
     "output_type": "stream",
     "text": [
      "Enter a string: what would be maximum no. between 99 and 99\n",
      "Maximum numeric value: 99\n"
     ]
    }
   ],
   "source": [
    "string = input(\"Enter a string: \")\n",
    "max_numeric_value = extract_max_numeric_value(string)\n",
    "if max_numeric_value is not None:\n",
    "    print(\"Maximum numeric value:\", max_numeric_value)\n",
    "else:\n",
    "    print(\"No numeric values found in the string.\")"
   ]
  },
  {
   "cell_type": "markdown",
   "id": "e7f1a43c",
   "metadata": {},
   "source": [
    "Question 23- Write a Regex in Python to put spaces between words starting with capital letters"
   ]
  },
  {
   "cell_type": "code",
   "execution_count": 14,
   "id": "8129c202",
   "metadata": {},
   "outputs": [],
   "source": [
    "def add_spaces_between_capital_words(string):\n",
    "    pattern = r\"(?<!^)(?=[A-Z])\"\n",
    "    updated_string = re.sub(pattern, \" \", string)\n",
    "    return updated_string"
   ]
  },
  {
   "cell_type": "code",
   "execution_count": 15,
   "id": "ccd7c3c5",
   "metadata": {},
   "outputs": [
    {
     "name": "stdout",
     "output_type": "stream",
     "text": [
      "Enter a string: ABC and then DEF\n",
      "Updated string: A B C and then  D E F\n"
     ]
    }
   ],
   "source": [
    "string = input(\"Enter a string: \")\n",
    "updated_string = add_spaces_between_capital_words(string)\n",
    "print(\"Updated string:\", updated_string)"
   ]
  },
  {
   "cell_type": "markdown",
   "id": "2ed52977",
   "metadata": {},
   "source": [
    "Question 24- Python regex to find sequences of one upper case letter followed by lower case letters"
   ]
  },
  {
   "cell_type": "code",
   "execution_count": 16,
   "id": "5a1cc32e",
   "metadata": {},
   "outputs": [],
   "source": [
    "def find_uppercase_followed_by_lowercase(string):\n",
    "    pattern = r\"[A-Z][a-z]+\"\n",
    "    matches = re.findall(pattern, string)\n",
    "    return matches"
   ]
  },
  {
   "cell_type": "code",
   "execution_count": 17,
   "id": "eaadec1c",
   "metadata": {},
   "outputs": [
    {
     "name": "stdout",
     "output_type": "stream",
     "text": [
      "Enter a string: AbCdefGhi\n",
      "Sequences of one uppercase letter followed by lowercase letters:\n",
      "Ab\n",
      "Cdef\n",
      "Ghi\n"
     ]
    }
   ],
   "source": [
    "string = input(\"Enter a string: \")\n",
    "sequences = find_uppercase_followed_by_lowercase(string)\n",
    "print(\"Sequences of one uppercase letter followed by lowercase letters:\")\n",
    "for seq in sequences:\n",
    "    print(seq)"
   ]
  },
  {
   "cell_type": "markdown",
   "id": "c0f09173",
   "metadata": {},
   "source": [
    "Question 25- Write a Python program to remove duplicate words from Sentence using Regular Expression"
   ]
  },
  {
   "cell_type": "code",
   "execution_count": 19,
   "id": "2d043cf6",
   "metadata": {},
   "outputs": [],
   "source": [
    "def remove_duplicate_words(sentence):\n",
    "    pattern = r'\\b(\\w+)\\b\\s+(?=.*\\b\\1\\b)'\n",
    "    unique_sentence = re.sub(pattern, '', sentence)\n",
    "    return unique_sentence"
   ]
  },
  {
   "cell_type": "code",
   "execution_count": 20,
   "id": "5b231221",
   "metadata": {},
   "outputs": [
    {
     "name": "stdout",
     "output_type": "stream",
     "text": [
      "Enter a sentence: Hello Hello India India\n",
      "Sentence with duplicate words removed: Hello India\n"
     ]
    }
   ],
   "source": [
    "sentence = input(\"Enter a sentence: \")\n",
    "unique_sentence = remove_duplicate_words(sentence)\n",
    "print(\"Sentence with duplicate words removed:\", unique_sentence)"
   ]
  },
  {
   "cell_type": "markdown",
   "id": "1e7bab55",
   "metadata": {},
   "source": [
    "Question 26-  Write a python program using RegEx to accept string ending with alphanumeric character."
   ]
  },
  {
   "cell_type": "code",
   "execution_count": 22,
   "id": "f74be0d1",
   "metadata": {},
   "outputs": [],
   "source": [
    "def accept_string_ending_with_alphanumeric(string):\n",
    "    pattern = r\".*[a-zA-Z0-9]$\"\n",
    "    match = re.match(pattern, string)\n",
    "    if match:\n",
    "        return True\n",
    "    else:\n",
    "        return False"
   ]
  },
  {
   "cell_type": "code",
   "execution_count": 23,
   "id": "4abf47cc",
   "metadata": {},
   "outputs": [
    {
     "name": "stdout",
     "output_type": "stream",
     "text": [
      "Enter a string: alphanumeric charchter is ab12\n",
      "String accepted.\n"
     ]
    }
   ],
   "source": [
    "string = input(\"Enter a string: \")\n",
    "if accept_string_ending_with_alphanumeric(string):\n",
    "    print(\"String accepted.\")\n",
    "else:\n",
    "    print(\"String not accepted.\")"
   ]
  },
  {
   "cell_type": "markdown",
   "id": "13728852",
   "metadata": {},
   "source": [
    "Question 27-Write a python program using RegEx to extract the hashtags."
   ]
  },
  {
   "cell_type": "code",
   "execution_count": 24,
   "id": "89349381",
   "metadata": {},
   "outputs": [],
   "source": [
    "def extract_hashtags(string):\n",
    "    pattern = r\"#\\w+\"\n",
    "    hashtags = re.findall(pattern, string)\n",
    "    return hashtags"
   ]
  },
  {
   "cell_type": "code",
   "execution_count": 25,
   "id": "80771098",
   "metadata": {},
   "outputs": [
    {
     "name": "stdout",
     "output_type": "stream",
     "text": [
      "Enter a string: #India is country with #population of #140cr\n",
      "Extracted hashtags: ['#India', '#population', '#140cr']\n"
     ]
    }
   ],
   "source": [
    "string = input(\"Enter a string: \")\n",
    "hashtags = extract_hashtags(string)\n",
    "print(\"Extracted hashtags:\", hashtags)"
   ]
  },
  {
   "cell_type": "markdown",
   "id": "b02981ab",
   "metadata": {},
   "source": [
    "Question 28- Write a python program using RegEx to remove <U+..> like symbols"
   ]
  },
  {
   "cell_type": "code",
   "execution_count": 26,
   "id": "451c4a9f",
   "metadata": {},
   "outputs": [],
   "source": [
    "def remove_unicode_symbols(string):\n",
    "    pattern = r\"<U\\+[\\w]+>\"\n",
    "    updated_string = re.sub(pattern, '', string)\n",
    "    return updated_string"
   ]
  },
  {
   "cell_type": "code",
   "execution_count": 28,
   "id": "5899e3b3",
   "metadata": {},
   "outputs": [
    {
     "name": "stdout",
     "output_type": "stream",
     "text": [
      "Enter a string: <U+000>India<U+000>India\n",
      "String with Unicode symbols removed: IndiaIndia\n"
     ]
    }
   ],
   "source": [
    "string = input(\"Enter a string: \")\n",
    "cleaned_string = remove_unicode_symbols(string)\n",
    "print(\"String with Unicode symbols removed:\", cleaned_string)"
   ]
  },
  {
   "cell_type": "markdown",
   "id": "9073b87a",
   "metadata": {},
   "source": [
    "Question 29- Write a python program to extract dates from the text stored in the text file."
   ]
  },
  {
   "cell_type": "code",
   "execution_count": 35,
   "id": "654a0ef0",
   "metadata": {},
   "outputs": [],
   "source": [
    "def extract_dates_from_text(text):\n",
    "    pattern = r\"\\d{4}-\\d{2}-\\d{2}\"\n",
    "    dates = re.findall(pattern, text)\n",
    "    return dates"
   ]
  },
  {
   "cell_type": "code",
   "execution_count": 37,
   "id": "35ad0c97",
   "metadata": {
    "scrolled": true
   },
   "outputs": [
    {
     "name": "stdout",
     "output_type": "stream",
     "text": [
      "Enter text: 1947-08-15 was 1st independence day\n",
      "Extracted dates: ['1947-08-15']\n"
     ]
    }
   ],
   "source": [
    "text = input(\"Enter text: \")\n",
    "extracted_dates = extract_dates_from_text(text)\n",
    "print(\"Extracted dates:\", extracted_dates)"
   ]
  },
  {
   "cell_type": "markdown",
   "id": "2c833354",
   "metadata": {},
   "source": [
    "Question 30- Write a Python program to replace all occurrences of a space, comma, or dot with a colon."
   ]
  },
  {
   "cell_type": "code",
   "execution_count": 38,
   "id": "cf90267d",
   "metadata": {},
   "outputs": [],
   "source": [
    "def replace_space_comma_dot_with_colon(string):\n",
    "    pattern = r\"[ ,.]\"\n",
    "    replaced_string = re.sub(pattern, \":\", string)\n",
    "    return replaced_string"
   ]
  },
  {
   "cell_type": "code",
   "execution_count": 39,
   "id": "9cc623d7",
   "metadata": {},
   "outputs": [
    {
     "name": "stdout",
     "output_type": "stream",
     "text": [
      "Enter a string: India, Australia, England\n",
      "Updated string: India::Australia::England\n"
     ]
    }
   ],
   "source": [
    "string = input(\"Enter a string: \")\n",
    "updated_string = replace_space_comma_dot_with_colon(string)\n",
    "print(\"Updated string:\", updated_string)"
   ]
  },
  {
   "cell_type": "code",
   "execution_count": null,
   "id": "125f611a",
   "metadata": {},
   "outputs": [],
   "source": []
  },
  {
   "cell_type": "code",
   "execution_count": null,
   "id": "5a0e19f2",
   "metadata": {},
   "outputs": [],
   "source": []
  },
  {
   "cell_type": "code",
   "execution_count": null,
   "id": "b94a6828",
   "metadata": {},
   "outputs": [],
   "source": []
  },
  {
   "cell_type": "code",
   "execution_count": null,
   "id": "d0372514",
   "metadata": {},
   "outputs": [],
   "source": []
  },
  {
   "cell_type": "code",
   "execution_count": null,
   "id": "12bcb2b4",
   "metadata": {},
   "outputs": [],
   "source": []
  },
  {
   "cell_type": "code",
   "execution_count": null,
   "id": "01a6c8c2",
   "metadata": {},
   "outputs": [],
   "source": []
  },
  {
   "cell_type": "code",
   "execution_count": null,
   "id": "77432a5c",
   "metadata": {},
   "outputs": [],
   "source": []
  },
  {
   "cell_type": "code",
   "execution_count": null,
   "id": "3dcd6c7b",
   "metadata": {},
   "outputs": [],
   "source": []
  },
  {
   "cell_type": "code",
   "execution_count": null,
   "id": "7d08796a",
   "metadata": {},
   "outputs": [],
   "source": []
  },
  {
   "cell_type": "code",
   "execution_count": null,
   "id": "76737821",
   "metadata": {},
   "outputs": [],
   "source": []
  },
  {
   "cell_type": "code",
   "execution_count": null,
   "id": "da45be80",
   "metadata": {},
   "outputs": [],
   "source": []
  },
  {
   "cell_type": "code",
   "execution_count": null,
   "id": "862e4fab",
   "metadata": {},
   "outputs": [],
   "source": []
  },
  {
   "cell_type": "code",
   "execution_count": null,
   "id": "65f37374",
   "metadata": {},
   "outputs": [],
   "source": []
  },
  {
   "cell_type": "code",
   "execution_count": null,
   "id": "d3f90030",
   "metadata": {},
   "outputs": [],
   "source": []
  },
  {
   "cell_type": "code",
   "execution_count": null,
   "id": "cefac622",
   "metadata": {},
   "outputs": [],
   "source": []
  },
  {
   "cell_type": "code",
   "execution_count": null,
   "id": "bcac3ca3",
   "metadata": {},
   "outputs": [],
   "source": []
  },
  {
   "cell_type": "code",
   "execution_count": null,
   "id": "69146c4a",
   "metadata": {},
   "outputs": [],
   "source": []
  },
  {
   "cell_type": "code",
   "execution_count": null,
   "id": "59fbb5cc",
   "metadata": {},
   "outputs": [],
   "source": []
  },
  {
   "cell_type": "code",
   "execution_count": null,
   "id": "486db954",
   "metadata": {},
   "outputs": [],
   "source": []
  },
  {
   "cell_type": "code",
   "execution_count": null,
   "id": "ec3230c0",
   "metadata": {},
   "outputs": [],
   "source": []
  },
  {
   "cell_type": "code",
   "execution_count": null,
   "id": "aec44ab9",
   "metadata": {},
   "outputs": [],
   "source": []
  },
  {
   "cell_type": "code",
   "execution_count": null,
   "id": "1a38b8c9",
   "metadata": {},
   "outputs": [],
   "source": []
  },
  {
   "cell_type": "code",
   "execution_count": null,
   "id": "0af2a97d",
   "metadata": {},
   "outputs": [],
   "source": []
  },
  {
   "cell_type": "code",
   "execution_count": null,
   "id": "641d1437",
   "metadata": {},
   "outputs": [],
   "source": []
  },
  {
   "cell_type": "code",
   "execution_count": null,
   "id": "cbb2fe7d",
   "metadata": {},
   "outputs": [],
   "source": []
  },
  {
   "cell_type": "code",
   "execution_count": null,
   "id": "2c6ece7d",
   "metadata": {},
   "outputs": [],
   "source": []
  },
  {
   "cell_type": "code",
   "execution_count": null,
   "id": "161350c8",
   "metadata": {},
   "outputs": [],
   "source": []
  },
  {
   "cell_type": "code",
   "execution_count": null,
   "id": "77c90fce",
   "metadata": {},
   "outputs": [],
   "source": []
  },
  {
   "cell_type": "code",
   "execution_count": null,
   "id": "4e736d25",
   "metadata": {},
   "outputs": [],
   "source": []
  },
  {
   "cell_type": "code",
   "execution_count": null,
   "id": "2fc2ce6e",
   "metadata": {},
   "outputs": [],
   "source": []
  },
  {
   "cell_type": "code",
   "execution_count": null,
   "id": "14cfe68f",
   "metadata": {},
   "outputs": [],
   "source": []
  },
  {
   "cell_type": "code",
   "execution_count": null,
   "id": "49fb81f4",
   "metadata": {},
   "outputs": [],
   "source": []
  },
  {
   "cell_type": "code",
   "execution_count": null,
   "id": "5fe41609",
   "metadata": {},
   "outputs": [],
   "source": []
  },
  {
   "cell_type": "code",
   "execution_count": null,
   "id": "6f288753",
   "metadata": {},
   "outputs": [],
   "source": []
  },
  {
   "cell_type": "code",
   "execution_count": null,
   "id": "c721fbc3",
   "metadata": {},
   "outputs": [],
   "source": []
  },
  {
   "cell_type": "code",
   "execution_count": null,
   "id": "347b19aa",
   "metadata": {},
   "outputs": [],
   "source": []
  },
  {
   "cell_type": "code",
   "execution_count": null,
   "id": "4012a2d0",
   "metadata": {},
   "outputs": [],
   "source": []
  },
  {
   "cell_type": "code",
   "execution_count": null,
   "id": "45f63572",
   "metadata": {},
   "outputs": [],
   "source": []
  },
  {
   "cell_type": "code",
   "execution_count": null,
   "id": "b806b60d",
   "metadata": {},
   "outputs": [],
   "source": []
  },
  {
   "cell_type": "code",
   "execution_count": null,
   "id": "1fd26dd7",
   "metadata": {},
   "outputs": [],
   "source": []
  },
  {
   "cell_type": "code",
   "execution_count": null,
   "id": "f8d62de7",
   "metadata": {},
   "outputs": [],
   "source": []
  },
  {
   "cell_type": "code",
   "execution_count": null,
   "id": "b2ce8281",
   "metadata": {},
   "outputs": [],
   "source": []
  },
  {
   "cell_type": "code",
   "execution_count": null,
   "id": "b4d1e098",
   "metadata": {},
   "outputs": [],
   "source": []
  },
  {
   "cell_type": "code",
   "execution_count": null,
   "id": "212d630b",
   "metadata": {},
   "outputs": [],
   "source": []
  },
  {
   "cell_type": "code",
   "execution_count": null,
   "id": "86960a8d",
   "metadata": {},
   "outputs": [],
   "source": []
  },
  {
   "cell_type": "code",
   "execution_count": null,
   "id": "724e6de2",
   "metadata": {},
   "outputs": [],
   "source": []
  },
  {
   "cell_type": "code",
   "execution_count": null,
   "id": "7505eb6d",
   "metadata": {},
   "outputs": [],
   "source": []
  },
  {
   "cell_type": "code",
   "execution_count": null,
   "id": "446b0eeb",
   "metadata": {},
   "outputs": [],
   "source": []
  },
  {
   "cell_type": "code",
   "execution_count": null,
   "id": "c99067f5",
   "metadata": {},
   "outputs": [],
   "source": []
  },
  {
   "cell_type": "code",
   "execution_count": null,
   "id": "ae3ea105",
   "metadata": {},
   "outputs": [],
   "source": []
  },
  {
   "cell_type": "code",
   "execution_count": null,
   "id": "0478d615",
   "metadata": {},
   "outputs": [],
   "source": []
  },
  {
   "cell_type": "code",
   "execution_count": null,
   "id": "de10c504",
   "metadata": {},
   "outputs": [],
   "source": []
  },
  {
   "cell_type": "code",
   "execution_count": null,
   "id": "895ea48f",
   "metadata": {},
   "outputs": [],
   "source": []
  },
  {
   "cell_type": "code",
   "execution_count": null,
   "id": "549e3165",
   "metadata": {},
   "outputs": [],
   "source": []
  },
  {
   "cell_type": "code",
   "execution_count": null,
   "id": "29d7146c",
   "metadata": {},
   "outputs": [],
   "source": []
  },
  {
   "cell_type": "code",
   "execution_count": null,
   "id": "34f9ab84",
   "metadata": {},
   "outputs": [],
   "source": []
  },
  {
   "cell_type": "code",
   "execution_count": null,
   "id": "1f4b61c5",
   "metadata": {},
   "outputs": [],
   "source": []
  },
  {
   "cell_type": "code",
   "execution_count": null,
   "id": "6195306b",
   "metadata": {},
   "outputs": [],
   "source": []
  },
  {
   "cell_type": "code",
   "execution_count": null,
   "id": "f48ebb1b",
   "metadata": {},
   "outputs": [],
   "source": []
  },
  {
   "cell_type": "code",
   "execution_count": null,
   "id": "a26614fa",
   "metadata": {},
   "outputs": [],
   "source": []
  },
  {
   "cell_type": "code",
   "execution_count": null,
   "id": "22c2e231",
   "metadata": {},
   "outputs": [],
   "source": []
  },
  {
   "cell_type": "code",
   "execution_count": null,
   "id": "90ffe0c9",
   "metadata": {},
   "outputs": [],
   "source": []
  },
  {
   "cell_type": "code",
   "execution_count": null,
   "id": "b64b5203",
   "metadata": {},
   "outputs": [],
   "source": []
  },
  {
   "cell_type": "code",
   "execution_count": null,
   "id": "ddbad298",
   "metadata": {},
   "outputs": [],
   "source": []
  },
  {
   "cell_type": "code",
   "execution_count": null,
   "id": "6b7799e9",
   "metadata": {},
   "outputs": [],
   "source": []
  },
  {
   "cell_type": "code",
   "execution_count": null,
   "id": "dcbe3bbc",
   "metadata": {},
   "outputs": [],
   "source": []
  },
  {
   "cell_type": "code",
   "execution_count": null,
   "id": "a40b0447",
   "metadata": {},
   "outputs": [],
   "source": []
  },
  {
   "cell_type": "code",
   "execution_count": null,
   "id": "6b7f1d87",
   "metadata": {},
   "outputs": [],
   "source": []
  },
  {
   "cell_type": "code",
   "execution_count": null,
   "id": "176446fc",
   "metadata": {},
   "outputs": [],
   "source": []
  },
  {
   "cell_type": "code",
   "execution_count": null,
   "id": "f456a441",
   "metadata": {},
   "outputs": [],
   "source": []
  },
  {
   "cell_type": "code",
   "execution_count": null,
   "id": "9380203b",
   "metadata": {},
   "outputs": [],
   "source": []
  },
  {
   "cell_type": "code",
   "execution_count": null,
   "id": "e6e75600",
   "metadata": {},
   "outputs": [],
   "source": []
  },
  {
   "cell_type": "code",
   "execution_count": null,
   "id": "f47b42f2",
   "metadata": {},
   "outputs": [],
   "source": []
  },
  {
   "cell_type": "code",
   "execution_count": null,
   "id": "64b7015d",
   "metadata": {},
   "outputs": [],
   "source": []
  },
  {
   "cell_type": "code",
   "execution_count": null,
   "id": "bbebc712",
   "metadata": {},
   "outputs": [],
   "source": []
  },
  {
   "cell_type": "code",
   "execution_count": null,
   "id": "01cd3c57",
   "metadata": {},
   "outputs": [],
   "source": []
  },
  {
   "cell_type": "code",
   "execution_count": null,
   "id": "ff875955",
   "metadata": {},
   "outputs": [],
   "source": []
  },
  {
   "cell_type": "code",
   "execution_count": null,
   "id": "8674651c",
   "metadata": {},
   "outputs": [],
   "source": []
  },
  {
   "cell_type": "code",
   "execution_count": null,
   "id": "3557f2bc",
   "metadata": {},
   "outputs": [],
   "source": []
  },
  {
   "cell_type": "code",
   "execution_count": null,
   "id": "ba00a501",
   "metadata": {},
   "outputs": [],
   "source": []
  },
  {
   "cell_type": "code",
   "execution_count": null,
   "id": "eb6b29a8",
   "metadata": {},
   "outputs": [],
   "source": []
  },
  {
   "cell_type": "code",
   "execution_count": null,
   "id": "897f535d",
   "metadata": {},
   "outputs": [],
   "source": []
  },
  {
   "cell_type": "code",
   "execution_count": null,
   "id": "944d326f",
   "metadata": {},
   "outputs": [],
   "source": []
  },
  {
   "cell_type": "code",
   "execution_count": null,
   "id": "00ff9ee8",
   "metadata": {},
   "outputs": [],
   "source": []
  },
  {
   "cell_type": "code",
   "execution_count": null,
   "id": "2a25548d",
   "metadata": {},
   "outputs": [],
   "source": []
  },
  {
   "cell_type": "code",
   "execution_count": null,
   "id": "98f720ee",
   "metadata": {},
   "outputs": [],
   "source": []
  },
  {
   "cell_type": "code",
   "execution_count": null,
   "id": "783e4988",
   "metadata": {},
   "outputs": [],
   "source": []
  },
  {
   "cell_type": "code",
   "execution_count": null,
   "id": "cda45b50",
   "metadata": {},
   "outputs": [],
   "source": []
  },
  {
   "cell_type": "code",
   "execution_count": null,
   "id": "afa35dc2",
   "metadata": {},
   "outputs": [],
   "source": []
  },
  {
   "cell_type": "code",
   "execution_count": null,
   "id": "77e55fc5",
   "metadata": {},
   "outputs": [],
   "source": []
  },
  {
   "cell_type": "code",
   "execution_count": null,
   "id": "35c9fba9",
   "metadata": {},
   "outputs": [],
   "source": []
  },
  {
   "cell_type": "code",
   "execution_count": null,
   "id": "71d1f36c",
   "metadata": {},
   "outputs": [],
   "source": []
  },
  {
   "cell_type": "code",
   "execution_count": null,
   "id": "00c26fb6",
   "metadata": {},
   "outputs": [],
   "source": []
  },
  {
   "cell_type": "code",
   "execution_count": null,
   "id": "4fac64c8",
   "metadata": {},
   "outputs": [],
   "source": []
  },
  {
   "cell_type": "code",
   "execution_count": null,
   "id": "864b349e",
   "metadata": {},
   "outputs": [],
   "source": []
  },
  {
   "cell_type": "code",
   "execution_count": null,
   "id": "7408d195",
   "metadata": {},
   "outputs": [],
   "source": []
  },
  {
   "cell_type": "code",
   "execution_count": null,
   "id": "fde0d4ef",
   "metadata": {},
   "outputs": [],
   "source": []
  },
  {
   "cell_type": "code",
   "execution_count": null,
   "id": "6bda5bb8",
   "metadata": {},
   "outputs": [],
   "source": []
  },
  {
   "cell_type": "code",
   "execution_count": null,
   "id": "4e8513d4",
   "metadata": {},
   "outputs": [],
   "source": []
  },
  {
   "cell_type": "code",
   "execution_count": null,
   "id": "e041ada4",
   "metadata": {},
   "outputs": [],
   "source": []
  },
  {
   "cell_type": "code",
   "execution_count": null,
   "id": "c431b569",
   "metadata": {},
   "outputs": [],
   "source": []
  },
  {
   "cell_type": "code",
   "execution_count": null,
   "id": "bdb9a48c",
   "metadata": {},
   "outputs": [],
   "source": []
  },
  {
   "cell_type": "code",
   "execution_count": null,
   "id": "96c5c519",
   "metadata": {},
   "outputs": [],
   "source": []
  },
  {
   "cell_type": "code",
   "execution_count": null,
   "id": "af41369c",
   "metadata": {},
   "outputs": [],
   "source": []
  },
  {
   "cell_type": "code",
   "execution_count": null,
   "id": "e2439b40",
   "metadata": {},
   "outputs": [],
   "source": []
  },
  {
   "cell_type": "code",
   "execution_count": null,
   "id": "e4f28624",
   "metadata": {},
   "outputs": [],
   "source": []
  },
  {
   "cell_type": "code",
   "execution_count": null,
   "id": "b13de091",
   "metadata": {},
   "outputs": [],
   "source": []
  },
  {
   "cell_type": "code",
   "execution_count": null,
   "id": "f5e18781",
   "metadata": {},
   "outputs": [],
   "source": []
  },
  {
   "cell_type": "code",
   "execution_count": null,
   "id": "c0aa2755",
   "metadata": {},
   "outputs": [],
   "source": []
  },
  {
   "cell_type": "code",
   "execution_count": null,
   "id": "3604eaf6",
   "metadata": {},
   "outputs": [],
   "source": []
  },
  {
   "cell_type": "code",
   "execution_count": null,
   "id": "cc39c5d5",
   "metadata": {},
   "outputs": [],
   "source": []
  },
  {
   "cell_type": "code",
   "execution_count": null,
   "id": "62e0aef5",
   "metadata": {},
   "outputs": [],
   "source": []
  },
  {
   "cell_type": "code",
   "execution_count": null,
   "id": "c704c2b2",
   "metadata": {},
   "outputs": [],
   "source": []
  },
  {
   "cell_type": "code",
   "execution_count": null,
   "id": "9e6d347a",
   "metadata": {},
   "outputs": [],
   "source": []
  },
  {
   "cell_type": "code",
   "execution_count": null,
   "id": "5c095b8a",
   "metadata": {},
   "outputs": [],
   "source": []
  },
  {
   "cell_type": "code",
   "execution_count": null,
   "id": "48d86c0a",
   "metadata": {},
   "outputs": [],
   "source": []
  },
  {
   "cell_type": "code",
   "execution_count": null,
   "id": "e7a982be",
   "metadata": {},
   "outputs": [],
   "source": []
  },
  {
   "cell_type": "code",
   "execution_count": null,
   "id": "4061479a",
   "metadata": {},
   "outputs": [],
   "source": []
  },
  {
   "cell_type": "code",
   "execution_count": null,
   "id": "682eb87d",
   "metadata": {},
   "outputs": [],
   "source": []
  },
  {
   "cell_type": "code",
   "execution_count": null,
   "id": "2db5174b",
   "metadata": {},
   "outputs": [],
   "source": []
  },
  {
   "cell_type": "code",
   "execution_count": null,
   "id": "1cb2b6fa",
   "metadata": {},
   "outputs": [],
   "source": []
  },
  {
   "cell_type": "code",
   "execution_count": null,
   "id": "46f0d73d",
   "metadata": {},
   "outputs": [],
   "source": []
  },
  {
   "cell_type": "code",
   "execution_count": null,
   "id": "8dbb2afe",
   "metadata": {},
   "outputs": [],
   "source": []
  },
  {
   "cell_type": "code",
   "execution_count": null,
   "id": "2df2d227",
   "metadata": {},
   "outputs": [],
   "source": []
  }
 ],
 "metadata": {
  "kernelspec": {
   "display_name": "Python 3 (ipykernel)",
   "language": "python",
   "name": "python3"
  },
  "language_info": {
   "codemirror_mode": {
    "name": "ipython",
    "version": 3
   },
   "file_extension": ".py",
   "mimetype": "text/x-python",
   "name": "python",
   "nbconvert_exporter": "python",
   "pygments_lexer": "ipython3",
   "version": "3.9.13"
  }
 },
 "nbformat": 4,
 "nbformat_minor": 5
}
