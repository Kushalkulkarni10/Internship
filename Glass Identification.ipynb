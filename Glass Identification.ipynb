{
 "cells": [
  {
   "cell_type": "markdown",
   "id": "a339450b",
   "metadata": {},
   "source": [
    "## Glass Idendification"
   ]
  },
  {
   "cell_type": "code",
   "execution_count": 1,
   "id": "79e02614",
   "metadata": {},
   "outputs": [],
   "source": [
    "import pandas as pd\n",
    "import numpy as np\n",
    "import matplotlib.pyplot as plt\n",
    "import seaborn as sns"
   ]
  },
  {
   "cell_type": "code",
   "execution_count": 2,
   "id": "740fd211",
   "metadata": {},
   "outputs": [],
   "source": [
    "gi = pd.read_csv('https://raw.githubusercontent.com/dsrscientist/dataset3/main/glass.csv')"
   ]
  },
  {
   "cell_type": "code",
   "execution_count": 3,
   "id": "3d8c8794",
   "metadata": {},
   "outputs": [
    {
     "data": {
      "text/html": [
       "<div>\n",
       "<style scoped>\n",
       "    .dataframe tbody tr th:only-of-type {\n",
       "        vertical-align: middle;\n",
       "    }\n",
       "\n",
       "    .dataframe tbody tr th {\n",
       "        vertical-align: top;\n",
       "    }\n",
       "\n",
       "    .dataframe thead th {\n",
       "        text-align: right;\n",
       "    }\n",
       "</style>\n",
       "<table border=\"1\" class=\"dataframe\">\n",
       "  <thead>\n",
       "    <tr style=\"text-align: right;\">\n",
       "      <th></th>\n",
       "      <th>1</th>\n",
       "      <th>1.52101</th>\n",
       "      <th>13.64</th>\n",
       "      <th>4.49</th>\n",
       "      <th>1.10</th>\n",
       "      <th>71.78</th>\n",
       "      <th>0.06</th>\n",
       "      <th>8.75</th>\n",
       "      <th>0.00</th>\n",
       "      <th>0.00.1</th>\n",
       "      <th>1.1</th>\n",
       "    </tr>\n",
       "  </thead>\n",
       "  <tbody>\n",
       "    <tr>\n",
       "      <th>0</th>\n",
       "      <td>2</td>\n",
       "      <td>1.51761</td>\n",
       "      <td>13.89</td>\n",
       "      <td>3.60</td>\n",
       "      <td>1.36</td>\n",
       "      <td>72.73</td>\n",
       "      <td>0.48</td>\n",
       "      <td>7.83</td>\n",
       "      <td>0.00</td>\n",
       "      <td>0.00</td>\n",
       "      <td>1</td>\n",
       "    </tr>\n",
       "    <tr>\n",
       "      <th>1</th>\n",
       "      <td>3</td>\n",
       "      <td>1.51618</td>\n",
       "      <td>13.53</td>\n",
       "      <td>3.55</td>\n",
       "      <td>1.54</td>\n",
       "      <td>72.99</td>\n",
       "      <td>0.39</td>\n",
       "      <td>7.78</td>\n",
       "      <td>0.00</td>\n",
       "      <td>0.00</td>\n",
       "      <td>1</td>\n",
       "    </tr>\n",
       "    <tr>\n",
       "      <th>2</th>\n",
       "      <td>4</td>\n",
       "      <td>1.51766</td>\n",
       "      <td>13.21</td>\n",
       "      <td>3.69</td>\n",
       "      <td>1.29</td>\n",
       "      <td>72.61</td>\n",
       "      <td>0.57</td>\n",
       "      <td>8.22</td>\n",
       "      <td>0.00</td>\n",
       "      <td>0.00</td>\n",
       "      <td>1</td>\n",
       "    </tr>\n",
       "    <tr>\n",
       "      <th>3</th>\n",
       "      <td>5</td>\n",
       "      <td>1.51742</td>\n",
       "      <td>13.27</td>\n",
       "      <td>3.62</td>\n",
       "      <td>1.24</td>\n",
       "      <td>73.08</td>\n",
       "      <td>0.55</td>\n",
       "      <td>8.07</td>\n",
       "      <td>0.00</td>\n",
       "      <td>0.00</td>\n",
       "      <td>1</td>\n",
       "    </tr>\n",
       "    <tr>\n",
       "      <th>4</th>\n",
       "      <td>6</td>\n",
       "      <td>1.51596</td>\n",
       "      <td>12.79</td>\n",
       "      <td>3.61</td>\n",
       "      <td>1.62</td>\n",
       "      <td>72.97</td>\n",
       "      <td>0.64</td>\n",
       "      <td>8.07</td>\n",
       "      <td>0.00</td>\n",
       "      <td>0.26</td>\n",
       "      <td>1</td>\n",
       "    </tr>\n",
       "    <tr>\n",
       "      <th>...</th>\n",
       "      <td>...</td>\n",
       "      <td>...</td>\n",
       "      <td>...</td>\n",
       "      <td>...</td>\n",
       "      <td>...</td>\n",
       "      <td>...</td>\n",
       "      <td>...</td>\n",
       "      <td>...</td>\n",
       "      <td>...</td>\n",
       "      <td>...</td>\n",
       "      <td>...</td>\n",
       "    </tr>\n",
       "    <tr>\n",
       "      <th>208</th>\n",
       "      <td>210</td>\n",
       "      <td>1.51623</td>\n",
       "      <td>14.14</td>\n",
       "      <td>0.00</td>\n",
       "      <td>2.88</td>\n",
       "      <td>72.61</td>\n",
       "      <td>0.08</td>\n",
       "      <td>9.18</td>\n",
       "      <td>1.06</td>\n",
       "      <td>0.00</td>\n",
       "      <td>7</td>\n",
       "    </tr>\n",
       "    <tr>\n",
       "      <th>209</th>\n",
       "      <td>211</td>\n",
       "      <td>1.51685</td>\n",
       "      <td>14.92</td>\n",
       "      <td>0.00</td>\n",
       "      <td>1.99</td>\n",
       "      <td>73.06</td>\n",
       "      <td>0.00</td>\n",
       "      <td>8.40</td>\n",
       "      <td>1.59</td>\n",
       "      <td>0.00</td>\n",
       "      <td>7</td>\n",
       "    </tr>\n",
       "    <tr>\n",
       "      <th>210</th>\n",
       "      <td>212</td>\n",
       "      <td>1.52065</td>\n",
       "      <td>14.36</td>\n",
       "      <td>0.00</td>\n",
       "      <td>2.02</td>\n",
       "      <td>73.42</td>\n",
       "      <td>0.00</td>\n",
       "      <td>8.44</td>\n",
       "      <td>1.64</td>\n",
       "      <td>0.00</td>\n",
       "      <td>7</td>\n",
       "    </tr>\n",
       "    <tr>\n",
       "      <th>211</th>\n",
       "      <td>213</td>\n",
       "      <td>1.51651</td>\n",
       "      <td>14.38</td>\n",
       "      <td>0.00</td>\n",
       "      <td>1.94</td>\n",
       "      <td>73.61</td>\n",
       "      <td>0.00</td>\n",
       "      <td>8.48</td>\n",
       "      <td>1.57</td>\n",
       "      <td>0.00</td>\n",
       "      <td>7</td>\n",
       "    </tr>\n",
       "    <tr>\n",
       "      <th>212</th>\n",
       "      <td>214</td>\n",
       "      <td>1.51711</td>\n",
       "      <td>14.23</td>\n",
       "      <td>0.00</td>\n",
       "      <td>2.08</td>\n",
       "      <td>73.36</td>\n",
       "      <td>0.00</td>\n",
       "      <td>8.62</td>\n",
       "      <td>1.67</td>\n",
       "      <td>0.00</td>\n",
       "      <td>7</td>\n",
       "    </tr>\n",
       "  </tbody>\n",
       "</table>\n",
       "<p>213 rows × 11 columns</p>\n",
       "</div>"
      ],
      "text/plain": [
       "       1  1.52101  13.64  4.49  1.10  71.78  0.06  8.75  0.00  0.00.1  1.1\n",
       "0      2  1.51761  13.89  3.60  1.36  72.73  0.48  7.83  0.00    0.00    1\n",
       "1      3  1.51618  13.53  3.55  1.54  72.99  0.39  7.78  0.00    0.00    1\n",
       "2      4  1.51766  13.21  3.69  1.29  72.61  0.57  8.22  0.00    0.00    1\n",
       "3      5  1.51742  13.27  3.62  1.24  73.08  0.55  8.07  0.00    0.00    1\n",
       "4      6  1.51596  12.79  3.61  1.62  72.97  0.64  8.07  0.00    0.26    1\n",
       "..   ...      ...    ...   ...   ...    ...   ...   ...   ...     ...  ...\n",
       "208  210  1.51623  14.14  0.00  2.88  72.61  0.08  9.18  1.06    0.00    7\n",
       "209  211  1.51685  14.92  0.00  1.99  73.06  0.00  8.40  1.59    0.00    7\n",
       "210  212  1.52065  14.36  0.00  2.02  73.42  0.00  8.44  1.64    0.00    7\n",
       "211  213  1.51651  14.38  0.00  1.94  73.61  0.00  8.48  1.57    0.00    7\n",
       "212  214  1.51711  14.23  0.00  2.08  73.36  0.00  8.62  1.67    0.00    7\n",
       "\n",
       "[213 rows x 11 columns]"
      ]
     },
     "execution_count": 3,
     "metadata": {},
     "output_type": "execute_result"
    }
   ],
   "source": [
    "gi"
   ]
  },
  {
   "cell_type": "markdown",
   "id": "ded163e7",
   "metadata": {},
   "source": [
    "Observations:\n",
    "\n",
    "1) As we can see that the column names are not present in the data set hence we will have to rename the columns first as provided by team."
   ]
  },
  {
   "cell_type": "code",
   "execution_count": 4,
   "id": "2219935b",
   "metadata": {},
   "outputs": [
    {
     "name": "stdout",
     "output_type": "stream",
     "text": [
      "<class 'pandas.core.frame.DataFrame'>\n",
      "RangeIndex: 213 entries, 0 to 212\n",
      "Data columns (total 11 columns):\n",
      " #   Column   Non-Null Count  Dtype  \n",
      "---  ------   --------------  -----  \n",
      " 0   1        213 non-null    int64  \n",
      " 1   1.52101  213 non-null    float64\n",
      " 2   13.64    213 non-null    float64\n",
      " 3   4.49     213 non-null    float64\n",
      " 4   1.10     213 non-null    float64\n",
      " 5   71.78    213 non-null    float64\n",
      " 6   0.06     213 non-null    float64\n",
      " 7   8.75     213 non-null    float64\n",
      " 8   0.00     213 non-null    float64\n",
      " 9   0.00.1   213 non-null    float64\n",
      " 10  1.1      213 non-null    int64  \n",
      "dtypes: float64(9), int64(2)\n",
      "memory usage: 18.4 KB\n"
     ]
    }
   ],
   "source": [
    "gi.info()"
   ]
  },
  {
   "cell_type": "code",
   "execution_count": 5,
   "id": "1daefb9b",
   "metadata": {},
   "outputs": [],
   "source": [
    "gi.columns = ['Id number', 'RI: refractive index', 'Na: Sodium', 'Mg: Magnesium', 'Al: Aluminum', 'Si: Silicon', 'K: Potassium',\n",
    "             'Ca: Calcium','Ba: Barium','Fe: Iron','Type of glass']"
   ]
  },
  {
   "cell_type": "code",
   "execution_count": 6,
   "id": "520d5103",
   "metadata": {},
   "outputs": [
    {
     "data": {
      "text/html": [
       "<div>\n",
       "<style scoped>\n",
       "    .dataframe tbody tr th:only-of-type {\n",
       "        vertical-align: middle;\n",
       "    }\n",
       "\n",
       "    .dataframe tbody tr th {\n",
       "        vertical-align: top;\n",
       "    }\n",
       "\n",
       "    .dataframe thead th {\n",
       "        text-align: right;\n",
       "    }\n",
       "</style>\n",
       "<table border=\"1\" class=\"dataframe\">\n",
       "  <thead>\n",
       "    <tr style=\"text-align: right;\">\n",
       "      <th></th>\n",
       "      <th>Id number</th>\n",
       "      <th>RI: refractive index</th>\n",
       "      <th>Na: Sodium</th>\n",
       "      <th>Mg: Magnesium</th>\n",
       "      <th>Al: Aluminum</th>\n",
       "      <th>Si: Silicon</th>\n",
       "      <th>K: Potassium</th>\n",
       "      <th>Ca: Calcium</th>\n",
       "      <th>Ba: Barium</th>\n",
       "      <th>Fe: Iron</th>\n",
       "      <th>Type of glass</th>\n",
       "    </tr>\n",
       "  </thead>\n",
       "  <tbody>\n",
       "    <tr>\n",
       "      <th>0</th>\n",
       "      <td>2</td>\n",
       "      <td>1.51761</td>\n",
       "      <td>13.89</td>\n",
       "      <td>3.60</td>\n",
       "      <td>1.36</td>\n",
       "      <td>72.73</td>\n",
       "      <td>0.48</td>\n",
       "      <td>7.83</td>\n",
       "      <td>0.00</td>\n",
       "      <td>0.00</td>\n",
       "      <td>1</td>\n",
       "    </tr>\n",
       "    <tr>\n",
       "      <th>1</th>\n",
       "      <td>3</td>\n",
       "      <td>1.51618</td>\n",
       "      <td>13.53</td>\n",
       "      <td>3.55</td>\n",
       "      <td>1.54</td>\n",
       "      <td>72.99</td>\n",
       "      <td>0.39</td>\n",
       "      <td>7.78</td>\n",
       "      <td>0.00</td>\n",
       "      <td>0.00</td>\n",
       "      <td>1</td>\n",
       "    </tr>\n",
       "    <tr>\n",
       "      <th>2</th>\n",
       "      <td>4</td>\n",
       "      <td>1.51766</td>\n",
       "      <td>13.21</td>\n",
       "      <td>3.69</td>\n",
       "      <td>1.29</td>\n",
       "      <td>72.61</td>\n",
       "      <td>0.57</td>\n",
       "      <td>8.22</td>\n",
       "      <td>0.00</td>\n",
       "      <td>0.00</td>\n",
       "      <td>1</td>\n",
       "    </tr>\n",
       "    <tr>\n",
       "      <th>3</th>\n",
       "      <td>5</td>\n",
       "      <td>1.51742</td>\n",
       "      <td>13.27</td>\n",
       "      <td>3.62</td>\n",
       "      <td>1.24</td>\n",
       "      <td>73.08</td>\n",
       "      <td>0.55</td>\n",
       "      <td>8.07</td>\n",
       "      <td>0.00</td>\n",
       "      <td>0.00</td>\n",
       "      <td>1</td>\n",
       "    </tr>\n",
       "    <tr>\n",
       "      <th>4</th>\n",
       "      <td>6</td>\n",
       "      <td>1.51596</td>\n",
       "      <td>12.79</td>\n",
       "      <td>3.61</td>\n",
       "      <td>1.62</td>\n",
       "      <td>72.97</td>\n",
       "      <td>0.64</td>\n",
       "      <td>8.07</td>\n",
       "      <td>0.00</td>\n",
       "      <td>0.26</td>\n",
       "      <td>1</td>\n",
       "    </tr>\n",
       "    <tr>\n",
       "      <th>...</th>\n",
       "      <td>...</td>\n",
       "      <td>...</td>\n",
       "      <td>...</td>\n",
       "      <td>...</td>\n",
       "      <td>...</td>\n",
       "      <td>...</td>\n",
       "      <td>...</td>\n",
       "      <td>...</td>\n",
       "      <td>...</td>\n",
       "      <td>...</td>\n",
       "      <td>...</td>\n",
       "    </tr>\n",
       "    <tr>\n",
       "      <th>208</th>\n",
       "      <td>210</td>\n",
       "      <td>1.51623</td>\n",
       "      <td>14.14</td>\n",
       "      <td>0.00</td>\n",
       "      <td>2.88</td>\n",
       "      <td>72.61</td>\n",
       "      <td>0.08</td>\n",
       "      <td>9.18</td>\n",
       "      <td>1.06</td>\n",
       "      <td>0.00</td>\n",
       "      <td>7</td>\n",
       "    </tr>\n",
       "    <tr>\n",
       "      <th>209</th>\n",
       "      <td>211</td>\n",
       "      <td>1.51685</td>\n",
       "      <td>14.92</td>\n",
       "      <td>0.00</td>\n",
       "      <td>1.99</td>\n",
       "      <td>73.06</td>\n",
       "      <td>0.00</td>\n",
       "      <td>8.40</td>\n",
       "      <td>1.59</td>\n",
       "      <td>0.00</td>\n",
       "      <td>7</td>\n",
       "    </tr>\n",
       "    <tr>\n",
       "      <th>210</th>\n",
       "      <td>212</td>\n",
       "      <td>1.52065</td>\n",
       "      <td>14.36</td>\n",
       "      <td>0.00</td>\n",
       "      <td>2.02</td>\n",
       "      <td>73.42</td>\n",
       "      <td>0.00</td>\n",
       "      <td>8.44</td>\n",
       "      <td>1.64</td>\n",
       "      <td>0.00</td>\n",
       "      <td>7</td>\n",
       "    </tr>\n",
       "    <tr>\n",
       "      <th>211</th>\n",
       "      <td>213</td>\n",
       "      <td>1.51651</td>\n",
       "      <td>14.38</td>\n",
       "      <td>0.00</td>\n",
       "      <td>1.94</td>\n",
       "      <td>73.61</td>\n",
       "      <td>0.00</td>\n",
       "      <td>8.48</td>\n",
       "      <td>1.57</td>\n",
       "      <td>0.00</td>\n",
       "      <td>7</td>\n",
       "    </tr>\n",
       "    <tr>\n",
       "      <th>212</th>\n",
       "      <td>214</td>\n",
       "      <td>1.51711</td>\n",
       "      <td>14.23</td>\n",
       "      <td>0.00</td>\n",
       "      <td>2.08</td>\n",
       "      <td>73.36</td>\n",
       "      <td>0.00</td>\n",
       "      <td>8.62</td>\n",
       "      <td>1.67</td>\n",
       "      <td>0.00</td>\n",
       "      <td>7</td>\n",
       "    </tr>\n",
       "  </tbody>\n",
       "</table>\n",
       "<p>213 rows × 11 columns</p>\n",
       "</div>"
      ],
      "text/plain": [
       "     Id number  RI: refractive index  Na: Sodium  Mg: Magnesium  Al: Aluminum  \\\n",
       "0            2               1.51761       13.89           3.60          1.36   \n",
       "1            3               1.51618       13.53           3.55          1.54   \n",
       "2            4               1.51766       13.21           3.69          1.29   \n",
       "3            5               1.51742       13.27           3.62          1.24   \n",
       "4            6               1.51596       12.79           3.61          1.62   \n",
       "..         ...                   ...         ...            ...           ...   \n",
       "208        210               1.51623       14.14           0.00          2.88   \n",
       "209        211               1.51685       14.92           0.00          1.99   \n",
       "210        212               1.52065       14.36           0.00          2.02   \n",
       "211        213               1.51651       14.38           0.00          1.94   \n",
       "212        214               1.51711       14.23           0.00          2.08   \n",
       "\n",
       "     Si: Silicon  K: Potassium  Ca: Calcium  Ba: Barium  Fe: Iron  \\\n",
       "0          72.73          0.48         7.83        0.00      0.00   \n",
       "1          72.99          0.39         7.78        0.00      0.00   \n",
       "2          72.61          0.57         8.22        0.00      0.00   \n",
       "3          73.08          0.55         8.07        0.00      0.00   \n",
       "4          72.97          0.64         8.07        0.00      0.26   \n",
       "..           ...           ...          ...         ...       ...   \n",
       "208        72.61          0.08         9.18        1.06      0.00   \n",
       "209        73.06          0.00         8.40        1.59      0.00   \n",
       "210        73.42          0.00         8.44        1.64      0.00   \n",
       "211        73.61          0.00         8.48        1.57      0.00   \n",
       "212        73.36          0.00         8.62        1.67      0.00   \n",
       "\n",
       "     Type of glass  \n",
       "0                1  \n",
       "1                1  \n",
       "2                1  \n",
       "3                1  \n",
       "4                1  \n",
       "..             ...  \n",
       "208              7  \n",
       "209              7  \n",
       "210              7  \n",
       "211              7  \n",
       "212              7  \n",
       "\n",
       "[213 rows x 11 columns]"
      ]
     },
     "execution_count": 6,
     "metadata": {},
     "output_type": "execute_result"
    }
   ],
   "source": [
    "gi"
   ]
  },
  {
   "cell_type": "markdown",
   "id": "65f9a38c",
   "metadata": {},
   "source": [
    "We hvae changed the column names but we can see that the row which was on no.1 is now missing as it got replaced by the new columnn names so we will ad it manually."
   ]
  },
  {
   "cell_type": "code",
   "execution_count": 7,
   "id": "b34a4a67",
   "metadata": {},
   "outputs": [
    {
     "name": "stdout",
     "output_type": "stream",
     "text": [
      "<class 'pandas.core.frame.DataFrame'>\n",
      "RangeIndex: 213 entries, 0 to 212\n",
      "Data columns (total 11 columns):\n",
      " #   Column                Non-Null Count  Dtype  \n",
      "---  ------                --------------  -----  \n",
      " 0   Id number             213 non-null    int64  \n",
      " 1   RI: refractive index  213 non-null    float64\n",
      " 2   Na: Sodium            213 non-null    float64\n",
      " 3   Mg: Magnesium         213 non-null    float64\n",
      " 4   Al: Aluminum          213 non-null    float64\n",
      " 5   Si: Silicon           213 non-null    float64\n",
      " 6   K: Potassium          213 non-null    float64\n",
      " 7   Ca: Calcium           213 non-null    float64\n",
      " 8   Ba: Barium            213 non-null    float64\n",
      " 9   Fe: Iron              213 non-null    float64\n",
      " 10  Type of glass         213 non-null    int64  \n",
      "dtypes: float64(9), int64(2)\n",
      "memory usage: 18.4 KB\n"
     ]
    }
   ],
   "source": [
    "gi.info()"
   ]
  },
  {
   "cell_type": "code",
   "execution_count": 8,
   "id": "ed3e2985",
   "metadata": {},
   "outputs": [],
   "source": [
    "missed_row = {'Id number': 1, 'RI: refractive index': 1.52101, 'Na: Sodium': 13.64, 'Mg: Magnesium': 4.49, 'Al: Aluminum': 1.10,\n",
    "             'Si: Silicon':71.78, 'K: Potassium':0.06, 'Ca: Calcium': 8.75, 'Ba: Barium': 0.00, 'Fe: Iron':0.00, 'Type of glass':1}\n",
    "gi.loc[-1] = missed_row\n",
    "gi.index = gi.index + 1\n",
    "gi.sort_index(inplace = True)"
   ]
  },
  {
   "cell_type": "code",
   "execution_count": 9,
   "id": "e5332f19",
   "metadata": {},
   "outputs": [
    {
     "data": {
      "text/html": [
       "<div>\n",
       "<style scoped>\n",
       "    .dataframe tbody tr th:only-of-type {\n",
       "        vertical-align: middle;\n",
       "    }\n",
       "\n",
       "    .dataframe tbody tr th {\n",
       "        vertical-align: top;\n",
       "    }\n",
       "\n",
       "    .dataframe thead th {\n",
       "        text-align: right;\n",
       "    }\n",
       "</style>\n",
       "<table border=\"1\" class=\"dataframe\">\n",
       "  <thead>\n",
       "    <tr style=\"text-align: right;\">\n",
       "      <th></th>\n",
       "      <th>Id number</th>\n",
       "      <th>RI: refractive index</th>\n",
       "      <th>Na: Sodium</th>\n",
       "      <th>Mg: Magnesium</th>\n",
       "      <th>Al: Aluminum</th>\n",
       "      <th>Si: Silicon</th>\n",
       "      <th>K: Potassium</th>\n",
       "      <th>Ca: Calcium</th>\n",
       "      <th>Ba: Barium</th>\n",
       "      <th>Fe: Iron</th>\n",
       "      <th>Type of glass</th>\n",
       "    </tr>\n",
       "  </thead>\n",
       "  <tbody>\n",
       "    <tr>\n",
       "      <th>0</th>\n",
       "      <td>1</td>\n",
       "      <td>1.52101</td>\n",
       "      <td>13.64</td>\n",
       "      <td>4.49</td>\n",
       "      <td>1.10</td>\n",
       "      <td>71.78</td>\n",
       "      <td>0.06</td>\n",
       "      <td>8.75</td>\n",
       "      <td>0.00</td>\n",
       "      <td>0.0</td>\n",
       "      <td>1</td>\n",
       "    </tr>\n",
       "    <tr>\n",
       "      <th>1</th>\n",
       "      <td>2</td>\n",
       "      <td>1.51761</td>\n",
       "      <td>13.89</td>\n",
       "      <td>3.60</td>\n",
       "      <td>1.36</td>\n",
       "      <td>72.73</td>\n",
       "      <td>0.48</td>\n",
       "      <td>7.83</td>\n",
       "      <td>0.00</td>\n",
       "      <td>0.0</td>\n",
       "      <td>1</td>\n",
       "    </tr>\n",
       "    <tr>\n",
       "      <th>2</th>\n",
       "      <td>3</td>\n",
       "      <td>1.51618</td>\n",
       "      <td>13.53</td>\n",
       "      <td>3.55</td>\n",
       "      <td>1.54</td>\n",
       "      <td>72.99</td>\n",
       "      <td>0.39</td>\n",
       "      <td>7.78</td>\n",
       "      <td>0.00</td>\n",
       "      <td>0.0</td>\n",
       "      <td>1</td>\n",
       "    </tr>\n",
       "    <tr>\n",
       "      <th>3</th>\n",
       "      <td>4</td>\n",
       "      <td>1.51766</td>\n",
       "      <td>13.21</td>\n",
       "      <td>3.69</td>\n",
       "      <td>1.29</td>\n",
       "      <td>72.61</td>\n",
       "      <td>0.57</td>\n",
       "      <td>8.22</td>\n",
       "      <td>0.00</td>\n",
       "      <td>0.0</td>\n",
       "      <td>1</td>\n",
       "    </tr>\n",
       "    <tr>\n",
       "      <th>4</th>\n",
       "      <td>5</td>\n",
       "      <td>1.51742</td>\n",
       "      <td>13.27</td>\n",
       "      <td>3.62</td>\n",
       "      <td>1.24</td>\n",
       "      <td>73.08</td>\n",
       "      <td>0.55</td>\n",
       "      <td>8.07</td>\n",
       "      <td>0.00</td>\n",
       "      <td>0.0</td>\n",
       "      <td>1</td>\n",
       "    </tr>\n",
       "    <tr>\n",
       "      <th>...</th>\n",
       "      <td>...</td>\n",
       "      <td>...</td>\n",
       "      <td>...</td>\n",
       "      <td>...</td>\n",
       "      <td>...</td>\n",
       "      <td>...</td>\n",
       "      <td>...</td>\n",
       "      <td>...</td>\n",
       "      <td>...</td>\n",
       "      <td>...</td>\n",
       "      <td>...</td>\n",
       "    </tr>\n",
       "    <tr>\n",
       "      <th>209</th>\n",
       "      <td>210</td>\n",
       "      <td>1.51623</td>\n",
       "      <td>14.14</td>\n",
       "      <td>0.00</td>\n",
       "      <td>2.88</td>\n",
       "      <td>72.61</td>\n",
       "      <td>0.08</td>\n",
       "      <td>9.18</td>\n",
       "      <td>1.06</td>\n",
       "      <td>0.0</td>\n",
       "      <td>7</td>\n",
       "    </tr>\n",
       "    <tr>\n",
       "      <th>210</th>\n",
       "      <td>211</td>\n",
       "      <td>1.51685</td>\n",
       "      <td>14.92</td>\n",
       "      <td>0.00</td>\n",
       "      <td>1.99</td>\n",
       "      <td>73.06</td>\n",
       "      <td>0.00</td>\n",
       "      <td>8.40</td>\n",
       "      <td>1.59</td>\n",
       "      <td>0.0</td>\n",
       "      <td>7</td>\n",
       "    </tr>\n",
       "    <tr>\n",
       "      <th>211</th>\n",
       "      <td>212</td>\n",
       "      <td>1.52065</td>\n",
       "      <td>14.36</td>\n",
       "      <td>0.00</td>\n",
       "      <td>2.02</td>\n",
       "      <td>73.42</td>\n",
       "      <td>0.00</td>\n",
       "      <td>8.44</td>\n",
       "      <td>1.64</td>\n",
       "      <td>0.0</td>\n",
       "      <td>7</td>\n",
       "    </tr>\n",
       "    <tr>\n",
       "      <th>212</th>\n",
       "      <td>213</td>\n",
       "      <td>1.51651</td>\n",
       "      <td>14.38</td>\n",
       "      <td>0.00</td>\n",
       "      <td>1.94</td>\n",
       "      <td>73.61</td>\n",
       "      <td>0.00</td>\n",
       "      <td>8.48</td>\n",
       "      <td>1.57</td>\n",
       "      <td>0.0</td>\n",
       "      <td>7</td>\n",
       "    </tr>\n",
       "    <tr>\n",
       "      <th>213</th>\n",
       "      <td>214</td>\n",
       "      <td>1.51711</td>\n",
       "      <td>14.23</td>\n",
       "      <td>0.00</td>\n",
       "      <td>2.08</td>\n",
       "      <td>73.36</td>\n",
       "      <td>0.00</td>\n",
       "      <td>8.62</td>\n",
       "      <td>1.67</td>\n",
       "      <td>0.0</td>\n",
       "      <td>7</td>\n",
       "    </tr>\n",
       "  </tbody>\n",
       "</table>\n",
       "<p>214 rows × 11 columns</p>\n",
       "</div>"
      ],
      "text/plain": [
       "     Id number  RI: refractive index  Na: Sodium  Mg: Magnesium  Al: Aluminum  \\\n",
       "0            1               1.52101       13.64           4.49          1.10   \n",
       "1            2               1.51761       13.89           3.60          1.36   \n",
       "2            3               1.51618       13.53           3.55          1.54   \n",
       "3            4               1.51766       13.21           3.69          1.29   \n",
       "4            5               1.51742       13.27           3.62          1.24   \n",
       "..         ...                   ...         ...            ...           ...   \n",
       "209        210               1.51623       14.14           0.00          2.88   \n",
       "210        211               1.51685       14.92           0.00          1.99   \n",
       "211        212               1.52065       14.36           0.00          2.02   \n",
       "212        213               1.51651       14.38           0.00          1.94   \n",
       "213        214               1.51711       14.23           0.00          2.08   \n",
       "\n",
       "     Si: Silicon  K: Potassium  Ca: Calcium  Ba: Barium  Fe: Iron  \\\n",
       "0          71.78          0.06         8.75        0.00       0.0   \n",
       "1          72.73          0.48         7.83        0.00       0.0   \n",
       "2          72.99          0.39         7.78        0.00       0.0   \n",
       "3          72.61          0.57         8.22        0.00       0.0   \n",
       "4          73.08          0.55         8.07        0.00       0.0   \n",
       "..           ...           ...          ...         ...       ...   \n",
       "209        72.61          0.08         9.18        1.06       0.0   \n",
       "210        73.06          0.00         8.40        1.59       0.0   \n",
       "211        73.42          0.00         8.44        1.64       0.0   \n",
       "212        73.61          0.00         8.48        1.57       0.0   \n",
       "213        73.36          0.00         8.62        1.67       0.0   \n",
       "\n",
       "     Type of glass  \n",
       "0                1  \n",
       "1                1  \n",
       "2                1  \n",
       "3                1  \n",
       "4                1  \n",
       "..             ...  \n",
       "209              7  \n",
       "210              7  \n",
       "211              7  \n",
       "212              7  \n",
       "213              7  \n",
       "\n",
       "[214 rows x 11 columns]"
      ]
     },
     "execution_count": 9,
     "metadata": {},
     "output_type": "execute_result"
    }
   ],
   "source": [
    "gi"
   ]
  },
  {
   "cell_type": "markdown",
   "id": "da4625dd",
   "metadata": {},
   "source": [
    "Observation:\n",
    "\n",
    "1) So We have renamed the columns as per the attributes and also have added the column which was missed because of renaming. Now we can move ahead for further analysis.\n",
    "\n",
    "2) In this data we are having total 11 number of columns in which one column: 'Id number' is an index column and column: 'Type of glass' is our target variable so it is a dependent varaiable and rest of the columns are independent variables.\n",
    "        \n",
    "3) We can also see that there are 2 types of datatypes in column 'Int' and 'float'.\n",
    "\n",
    "4) As we have to predict the category of the glass this data set will be for classification purpose."
   ]
  },
  {
   "cell_type": "code",
   "execution_count": 10,
   "id": "80309a41",
   "metadata": {},
   "outputs": [
    {
     "name": "stdout",
     "output_type": "stream",
     "text": [
      "<class 'pandas.core.frame.DataFrame'>\n",
      "Int64Index: 214 entries, 0 to 213\n",
      "Data columns (total 11 columns):\n",
      " #   Column                Non-Null Count  Dtype  \n",
      "---  ------                --------------  -----  \n",
      " 0   Id number             214 non-null    int64  \n",
      " 1   RI: refractive index  214 non-null    float64\n",
      " 2   Na: Sodium            214 non-null    float64\n",
      " 3   Mg: Magnesium         214 non-null    float64\n",
      " 4   Al: Aluminum          214 non-null    float64\n",
      " 5   Si: Silicon           214 non-null    float64\n",
      " 6   K: Potassium          214 non-null    float64\n",
      " 7   Ca: Calcium           214 non-null    float64\n",
      " 8   Ba: Barium            214 non-null    float64\n",
      " 9   Fe: Iron              214 non-null    float64\n",
      " 10  Type of glass         214 non-null    int64  \n",
      "dtypes: float64(9), int64(2)\n",
      "memory usage: 20.1 KB\n"
     ]
    }
   ],
   "source": [
    "gi.info()"
   ]
  },
  {
   "cell_type": "markdown",
   "id": "67799311",
   "metadata": {},
   "source": [
    "It can be seen that there are no null values in the data set, as all the 214 values of all columns are non-null."
   ]
  },
  {
   "cell_type": "markdown",
   "id": "158e7e2b",
   "metadata": {},
   "source": [
    "As the column 'Id number' is representing the index of row will change the column to index of the dataset itself."
   ]
  },
  {
   "cell_type": "code",
   "execution_count": 11,
   "id": "471d789a",
   "metadata": {},
   "outputs": [],
   "source": [
    "gi.set_index('Id number', inplace = True)"
   ]
  },
  {
   "cell_type": "code",
   "execution_count": 12,
   "id": "1e46d374",
   "metadata": {},
   "outputs": [
    {
     "data": {
      "text/html": [
       "<div>\n",
       "<style scoped>\n",
       "    .dataframe tbody tr th:only-of-type {\n",
       "        vertical-align: middle;\n",
       "    }\n",
       "\n",
       "    .dataframe tbody tr th {\n",
       "        vertical-align: top;\n",
       "    }\n",
       "\n",
       "    .dataframe thead th {\n",
       "        text-align: right;\n",
       "    }\n",
       "</style>\n",
       "<table border=\"1\" class=\"dataframe\">\n",
       "  <thead>\n",
       "    <tr style=\"text-align: right;\">\n",
       "      <th></th>\n",
       "      <th>RI: refractive index</th>\n",
       "      <th>Na: Sodium</th>\n",
       "      <th>Mg: Magnesium</th>\n",
       "      <th>Al: Aluminum</th>\n",
       "      <th>Si: Silicon</th>\n",
       "      <th>K: Potassium</th>\n",
       "      <th>Ca: Calcium</th>\n",
       "      <th>Ba: Barium</th>\n",
       "      <th>Fe: Iron</th>\n",
       "      <th>Type of glass</th>\n",
       "    </tr>\n",
       "    <tr>\n",
       "      <th>Id number</th>\n",
       "      <th></th>\n",
       "      <th></th>\n",
       "      <th></th>\n",
       "      <th></th>\n",
       "      <th></th>\n",
       "      <th></th>\n",
       "      <th></th>\n",
       "      <th></th>\n",
       "      <th></th>\n",
       "      <th></th>\n",
       "    </tr>\n",
       "  </thead>\n",
       "  <tbody>\n",
       "    <tr>\n",
       "      <th>1</th>\n",
       "      <td>1.52101</td>\n",
       "      <td>13.64</td>\n",
       "      <td>4.49</td>\n",
       "      <td>1.10</td>\n",
       "      <td>71.78</td>\n",
       "      <td>0.06</td>\n",
       "      <td>8.75</td>\n",
       "      <td>0.00</td>\n",
       "      <td>0.0</td>\n",
       "      <td>1</td>\n",
       "    </tr>\n",
       "    <tr>\n",
       "      <th>2</th>\n",
       "      <td>1.51761</td>\n",
       "      <td>13.89</td>\n",
       "      <td>3.60</td>\n",
       "      <td>1.36</td>\n",
       "      <td>72.73</td>\n",
       "      <td>0.48</td>\n",
       "      <td>7.83</td>\n",
       "      <td>0.00</td>\n",
       "      <td>0.0</td>\n",
       "      <td>1</td>\n",
       "    </tr>\n",
       "    <tr>\n",
       "      <th>3</th>\n",
       "      <td>1.51618</td>\n",
       "      <td>13.53</td>\n",
       "      <td>3.55</td>\n",
       "      <td>1.54</td>\n",
       "      <td>72.99</td>\n",
       "      <td>0.39</td>\n",
       "      <td>7.78</td>\n",
       "      <td>0.00</td>\n",
       "      <td>0.0</td>\n",
       "      <td>1</td>\n",
       "    </tr>\n",
       "    <tr>\n",
       "      <th>4</th>\n",
       "      <td>1.51766</td>\n",
       "      <td>13.21</td>\n",
       "      <td>3.69</td>\n",
       "      <td>1.29</td>\n",
       "      <td>72.61</td>\n",
       "      <td>0.57</td>\n",
       "      <td>8.22</td>\n",
       "      <td>0.00</td>\n",
       "      <td>0.0</td>\n",
       "      <td>1</td>\n",
       "    </tr>\n",
       "    <tr>\n",
       "      <th>5</th>\n",
       "      <td>1.51742</td>\n",
       "      <td>13.27</td>\n",
       "      <td>3.62</td>\n",
       "      <td>1.24</td>\n",
       "      <td>73.08</td>\n",
       "      <td>0.55</td>\n",
       "      <td>8.07</td>\n",
       "      <td>0.00</td>\n",
       "      <td>0.0</td>\n",
       "      <td>1</td>\n",
       "    </tr>\n",
       "    <tr>\n",
       "      <th>...</th>\n",
       "      <td>...</td>\n",
       "      <td>...</td>\n",
       "      <td>...</td>\n",
       "      <td>...</td>\n",
       "      <td>...</td>\n",
       "      <td>...</td>\n",
       "      <td>...</td>\n",
       "      <td>...</td>\n",
       "      <td>...</td>\n",
       "      <td>...</td>\n",
       "    </tr>\n",
       "    <tr>\n",
       "      <th>210</th>\n",
       "      <td>1.51623</td>\n",
       "      <td>14.14</td>\n",
       "      <td>0.00</td>\n",
       "      <td>2.88</td>\n",
       "      <td>72.61</td>\n",
       "      <td>0.08</td>\n",
       "      <td>9.18</td>\n",
       "      <td>1.06</td>\n",
       "      <td>0.0</td>\n",
       "      <td>7</td>\n",
       "    </tr>\n",
       "    <tr>\n",
       "      <th>211</th>\n",
       "      <td>1.51685</td>\n",
       "      <td>14.92</td>\n",
       "      <td>0.00</td>\n",
       "      <td>1.99</td>\n",
       "      <td>73.06</td>\n",
       "      <td>0.00</td>\n",
       "      <td>8.40</td>\n",
       "      <td>1.59</td>\n",
       "      <td>0.0</td>\n",
       "      <td>7</td>\n",
       "    </tr>\n",
       "    <tr>\n",
       "      <th>212</th>\n",
       "      <td>1.52065</td>\n",
       "      <td>14.36</td>\n",
       "      <td>0.00</td>\n",
       "      <td>2.02</td>\n",
       "      <td>73.42</td>\n",
       "      <td>0.00</td>\n",
       "      <td>8.44</td>\n",
       "      <td>1.64</td>\n",
       "      <td>0.0</td>\n",
       "      <td>7</td>\n",
       "    </tr>\n",
       "    <tr>\n",
       "      <th>213</th>\n",
       "      <td>1.51651</td>\n",
       "      <td>14.38</td>\n",
       "      <td>0.00</td>\n",
       "      <td>1.94</td>\n",
       "      <td>73.61</td>\n",
       "      <td>0.00</td>\n",
       "      <td>8.48</td>\n",
       "      <td>1.57</td>\n",
       "      <td>0.0</td>\n",
       "      <td>7</td>\n",
       "    </tr>\n",
       "    <tr>\n",
       "      <th>214</th>\n",
       "      <td>1.51711</td>\n",
       "      <td>14.23</td>\n",
       "      <td>0.00</td>\n",
       "      <td>2.08</td>\n",
       "      <td>73.36</td>\n",
       "      <td>0.00</td>\n",
       "      <td>8.62</td>\n",
       "      <td>1.67</td>\n",
       "      <td>0.0</td>\n",
       "      <td>7</td>\n",
       "    </tr>\n",
       "  </tbody>\n",
       "</table>\n",
       "<p>214 rows × 10 columns</p>\n",
       "</div>"
      ],
      "text/plain": [
       "           RI: refractive index  Na: Sodium  Mg: Magnesium  Al: Aluminum  \\\n",
       "Id number                                                                  \n",
       "1                       1.52101       13.64           4.49          1.10   \n",
       "2                       1.51761       13.89           3.60          1.36   \n",
       "3                       1.51618       13.53           3.55          1.54   \n",
       "4                       1.51766       13.21           3.69          1.29   \n",
       "5                       1.51742       13.27           3.62          1.24   \n",
       "...                         ...         ...            ...           ...   \n",
       "210                     1.51623       14.14           0.00          2.88   \n",
       "211                     1.51685       14.92           0.00          1.99   \n",
       "212                     1.52065       14.36           0.00          2.02   \n",
       "213                     1.51651       14.38           0.00          1.94   \n",
       "214                     1.51711       14.23           0.00          2.08   \n",
       "\n",
       "           Si: Silicon  K: Potassium  Ca: Calcium  Ba: Barium  Fe: Iron  \\\n",
       "Id number                                                                 \n",
       "1                71.78          0.06         8.75        0.00       0.0   \n",
       "2                72.73          0.48         7.83        0.00       0.0   \n",
       "3                72.99          0.39         7.78        0.00       0.0   \n",
       "4                72.61          0.57         8.22        0.00       0.0   \n",
       "5                73.08          0.55         8.07        0.00       0.0   \n",
       "...                ...           ...          ...         ...       ...   \n",
       "210              72.61          0.08         9.18        1.06       0.0   \n",
       "211              73.06          0.00         8.40        1.59       0.0   \n",
       "212              73.42          0.00         8.44        1.64       0.0   \n",
       "213              73.61          0.00         8.48        1.57       0.0   \n",
       "214              73.36          0.00         8.62        1.67       0.0   \n",
       "\n",
       "           Type of glass  \n",
       "Id number                 \n",
       "1                      1  \n",
       "2                      1  \n",
       "3                      1  \n",
       "4                      1  \n",
       "5                      1  \n",
       "...                  ...  \n",
       "210                    7  \n",
       "211                    7  \n",
       "212                    7  \n",
       "213                    7  \n",
       "214                    7  \n",
       "\n",
       "[214 rows x 10 columns]"
      ]
     },
     "execution_count": 12,
     "metadata": {},
     "output_type": "execute_result"
    }
   ],
   "source": [
    "gi"
   ]
  },
  {
   "cell_type": "markdown",
   "id": "0ef5993c",
   "metadata": {},
   "source": [
    "Now, as we have checked the null values, changed index columns, renamed the column we will move ahead and do numerical analysis."
   ]
  },
  {
   "cell_type": "code",
   "execution_count": 13,
   "id": "6ca7a8af",
   "metadata": {},
   "outputs": [
    {
     "data": {
      "text/html": [
       "<div>\n",
       "<style scoped>\n",
       "    .dataframe tbody tr th:only-of-type {\n",
       "        vertical-align: middle;\n",
       "    }\n",
       "\n",
       "    .dataframe tbody tr th {\n",
       "        vertical-align: top;\n",
       "    }\n",
       "\n",
       "    .dataframe thead th {\n",
       "        text-align: right;\n",
       "    }\n",
       "</style>\n",
       "<table border=\"1\" class=\"dataframe\">\n",
       "  <thead>\n",
       "    <tr style=\"text-align: right;\">\n",
       "      <th></th>\n",
       "      <th>RI: refractive index</th>\n",
       "      <th>Na: Sodium</th>\n",
       "      <th>Mg: Magnesium</th>\n",
       "      <th>Al: Aluminum</th>\n",
       "      <th>Si: Silicon</th>\n",
       "      <th>K: Potassium</th>\n",
       "      <th>Ca: Calcium</th>\n",
       "      <th>Ba: Barium</th>\n",
       "      <th>Fe: Iron</th>\n",
       "      <th>Type of glass</th>\n",
       "    </tr>\n",
       "  </thead>\n",
       "  <tbody>\n",
       "    <tr>\n",
       "      <th>count</th>\n",
       "      <td>214.000000</td>\n",
       "      <td>214.000000</td>\n",
       "      <td>214.000000</td>\n",
       "      <td>214.000000</td>\n",
       "      <td>214.000000</td>\n",
       "      <td>214.000000</td>\n",
       "      <td>214.000000</td>\n",
       "      <td>214.000000</td>\n",
       "      <td>214.000000</td>\n",
       "      <td>214.000000</td>\n",
       "    </tr>\n",
       "    <tr>\n",
       "      <th>mean</th>\n",
       "      <td>1.518365</td>\n",
       "      <td>13.407850</td>\n",
       "      <td>2.684533</td>\n",
       "      <td>1.444907</td>\n",
       "      <td>72.650935</td>\n",
       "      <td>0.497056</td>\n",
       "      <td>8.956963</td>\n",
       "      <td>0.175047</td>\n",
       "      <td>0.057009</td>\n",
       "      <td>2.780374</td>\n",
       "    </tr>\n",
       "    <tr>\n",
       "      <th>std</th>\n",
       "      <td>0.003037</td>\n",
       "      <td>0.816604</td>\n",
       "      <td>1.442408</td>\n",
       "      <td>0.499270</td>\n",
       "      <td>0.774546</td>\n",
       "      <td>0.652192</td>\n",
       "      <td>1.423153</td>\n",
       "      <td>0.497219</td>\n",
       "      <td>0.097439</td>\n",
       "      <td>2.103739</td>\n",
       "    </tr>\n",
       "    <tr>\n",
       "      <th>min</th>\n",
       "      <td>1.511150</td>\n",
       "      <td>10.730000</td>\n",
       "      <td>0.000000</td>\n",
       "      <td>0.290000</td>\n",
       "      <td>69.810000</td>\n",
       "      <td>0.000000</td>\n",
       "      <td>5.430000</td>\n",
       "      <td>0.000000</td>\n",
       "      <td>0.000000</td>\n",
       "      <td>1.000000</td>\n",
       "    </tr>\n",
       "    <tr>\n",
       "      <th>25%</th>\n",
       "      <td>1.516522</td>\n",
       "      <td>12.907500</td>\n",
       "      <td>2.115000</td>\n",
       "      <td>1.190000</td>\n",
       "      <td>72.280000</td>\n",
       "      <td>0.122500</td>\n",
       "      <td>8.240000</td>\n",
       "      <td>0.000000</td>\n",
       "      <td>0.000000</td>\n",
       "      <td>1.000000</td>\n",
       "    </tr>\n",
       "    <tr>\n",
       "      <th>50%</th>\n",
       "      <td>1.517680</td>\n",
       "      <td>13.300000</td>\n",
       "      <td>3.480000</td>\n",
       "      <td>1.360000</td>\n",
       "      <td>72.790000</td>\n",
       "      <td>0.555000</td>\n",
       "      <td>8.600000</td>\n",
       "      <td>0.000000</td>\n",
       "      <td>0.000000</td>\n",
       "      <td>2.000000</td>\n",
       "    </tr>\n",
       "    <tr>\n",
       "      <th>75%</th>\n",
       "      <td>1.519157</td>\n",
       "      <td>13.825000</td>\n",
       "      <td>3.600000</td>\n",
       "      <td>1.630000</td>\n",
       "      <td>73.087500</td>\n",
       "      <td>0.610000</td>\n",
       "      <td>9.172500</td>\n",
       "      <td>0.000000</td>\n",
       "      <td>0.100000</td>\n",
       "      <td>3.000000</td>\n",
       "    </tr>\n",
       "    <tr>\n",
       "      <th>max</th>\n",
       "      <td>1.533930</td>\n",
       "      <td>17.380000</td>\n",
       "      <td>4.490000</td>\n",
       "      <td>3.500000</td>\n",
       "      <td>75.410000</td>\n",
       "      <td>6.210000</td>\n",
       "      <td>16.190000</td>\n",
       "      <td>3.150000</td>\n",
       "      <td>0.510000</td>\n",
       "      <td>7.000000</td>\n",
       "    </tr>\n",
       "  </tbody>\n",
       "</table>\n",
       "</div>"
      ],
      "text/plain": [
       "       RI: refractive index  Na: Sodium  Mg: Magnesium  Al: Aluminum  \\\n",
       "count            214.000000  214.000000     214.000000    214.000000   \n",
       "mean               1.518365   13.407850       2.684533      1.444907   \n",
       "std                0.003037    0.816604       1.442408      0.499270   \n",
       "min                1.511150   10.730000       0.000000      0.290000   \n",
       "25%                1.516522   12.907500       2.115000      1.190000   \n",
       "50%                1.517680   13.300000       3.480000      1.360000   \n",
       "75%                1.519157   13.825000       3.600000      1.630000   \n",
       "max                1.533930   17.380000       4.490000      3.500000   \n",
       "\n",
       "       Si: Silicon  K: Potassium  Ca: Calcium  Ba: Barium    Fe: Iron  \\\n",
       "count   214.000000    214.000000   214.000000  214.000000  214.000000   \n",
       "mean     72.650935      0.497056     8.956963    0.175047    0.057009   \n",
       "std       0.774546      0.652192     1.423153    0.497219    0.097439   \n",
       "min      69.810000      0.000000     5.430000    0.000000    0.000000   \n",
       "25%      72.280000      0.122500     8.240000    0.000000    0.000000   \n",
       "50%      72.790000      0.555000     8.600000    0.000000    0.000000   \n",
       "75%      73.087500      0.610000     9.172500    0.000000    0.100000   \n",
       "max      75.410000      6.210000    16.190000    3.150000    0.510000   \n",
       "\n",
       "       Type of glass  \n",
       "count     214.000000  \n",
       "mean        2.780374  \n",
       "std         2.103739  \n",
       "min         1.000000  \n",
       "25%         1.000000  \n",
       "50%         2.000000  \n",
       "75%         3.000000  \n",
       "max         7.000000  "
      ]
     },
     "execution_count": 13,
     "metadata": {},
     "output_type": "execute_result"
    }
   ],
   "source": [
    "gi.describe()"
   ]
  },
  {
   "cell_type": "markdown",
   "id": "fbb66bbe",
   "metadata": {},
   "source": [
    "Observations:\n",
    "    \n",
    "1) In the column 'Magnasium' the mean is lower then the median which is suggesting the skewness in the column.\n",
    "\n",
    "2) In the column 'Pattassium' there is huge difference between the 75% percentile and the maximum value which suggests the outliers in the column.\n",
    "\n",
    "3) In column 'Calcium', 'Barium' as well the differerence between the maximum value and 75% is high which is suggesting the outliers in this coulumn as well.\n",
    "\n",
    "4) There are no-negative values and no null values is the column which is a good sign for a data set."
   ]
  },
  {
   "cell_type": "markdown",
   "id": "9051f37c",
   "metadata": {},
   "source": [
    "We will move forward and check the skewness of columns in the data set"
   ]
  },
  {
   "cell_type": "code",
   "execution_count": 14,
   "id": "835eacbc",
   "metadata": {},
   "outputs": [
    {
     "data": {
      "text/plain": [
       "RI: refractive index    1.625431\n",
       "Na: Sodium              0.454181\n",
       "Mg: Magnesium          -1.152559\n",
       "Al: Aluminum            0.907290\n",
       "Si: Silicon            -0.730447\n",
       "K: Potassium            6.551648\n",
       "Ca: Calcium             2.047054\n",
       "Ba: Barium              3.416425\n",
       "Fe: Iron                1.754327\n",
       "Type of glass           1.114915\n",
       "dtype: float64"
      ]
     },
     "execution_count": 14,
     "metadata": {},
     "output_type": "execute_result"
    }
   ],
   "source": [
    "gi.skew()"
   ]
  },
  {
   "cell_type": "code",
   "execution_count": 15,
   "id": "66e1bc31",
   "metadata": {},
   "outputs": [
    {
     "data": {
      "text/plain": [
       "<AxesSubplot:ylabel='Frequency'>"
      ]
     },
     "execution_count": 15,
     "metadata": {},
     "output_type": "execute_result"
    },
    {
     "data": {
      "image/png": "[encoded data removed]",
      "text/plain": [
       "<Figure size 640x480 with 1 Axes>"
      ]
     },
     "metadata": {},
     "output_type": "display_data"
    }
   ],
   "source": [
    "gi['RI: refractive index'].plot.hist()"
   ]
  },
  {
   "cell_type": "markdown",
   "id": "739eddce",
   "metadata": {},
   "source": [
    "So, a skewness can be seen in this columnn. We will try to remove the skewness."
   ]
  },
  {
   "cell_type": "code",
   "execution_count": 16,
   "id": "47267477",
   "metadata": {},
   "outputs": [],
   "source": [
    "from scipy.stats import boxcox"
   ]
  },
  {
   "cell_type": "code",
   "execution_count": 17,
   "id": "d236aedf",
   "metadata": {},
   "outputs": [
    {
     "data": {
      "text/plain": [
       "RI: refractive index    1.625431\n",
       "Na: Sodium              0.454181\n",
       "Mg: Magnesium          -1.152559\n",
       "Al: Aluminum            0.907290\n",
       "Si: Silicon            -0.730447\n",
       "K: Potassium            6.551648\n",
       "Ca: Calcium             2.047054\n",
       "Ba: Barium              3.416425\n",
       "Fe: Iron                1.754327\n",
       "Type of glass           1.114915\n",
       "dtype: float64"
      ]
     },
     "execution_count": 17,
     "metadata": {},
     "output_type": "execute_result"
    }
   ],
   "source": [
    "gi.skew()"
   ]
  },
  {
   "cell_type": "code",
   "execution_count": 18,
   "id": "a7e33ef3",
   "metadata": {},
   "outputs": [
    {
     "data": {
      "text/plain": [
       "<AxesSubplot:ylabel='Frequency'>"
      ]
     },
     "execution_count": 18,
     "metadata": {},
     "output_type": "execute_result"
    },
    {
     "data": {
      "image/png": "[encoded data removed]",
      "text/plain": [
       "<Figure size 640x480 with 1 Axes>"
      ]
     },
     "metadata": {},
     "output_type": "display_data"
    }
   ],
   "source": [
    "gi['Mg: Magnesium'].plot.hist()"
   ]
  },
  {
   "cell_type": "code",
   "execution_count": 19,
   "id": "70147be2",
   "metadata": {},
   "outputs": [],
   "source": [
    "gi['Mg: Magnesium'] = boxcox(gi['Mg: Magnesium'],2)"
   ]
  },
  {
   "cell_type": "code",
   "execution_count": 20,
   "id": "45e87851",
   "metadata": {},
   "outputs": [
    {
     "data": {
      "text/plain": [
       "-0.824619744524108"
      ]
     },
     "execution_count": 20,
     "metadata": {},
     "output_type": "execute_result"
    }
   ],
   "source": [
    "gi['Mg: Magnesium'].skew()"
   ]
  },
  {
   "cell_type": "code",
   "execution_count": 21,
   "id": "3cd70510",
   "metadata": {},
   "outputs": [
    {
     "data": {
      "text/plain": [
       "<AxesSubplot:ylabel='Frequency'>"
      ]
     },
     "execution_count": 21,
     "metadata": {},
     "output_type": "execute_result"
    },
    {
     "data": {
      "image/png": "[encoded data removed]",
      "text/plain": [
       "<Figure size 640x480 with 1 Axes>"
      ]
     },
     "metadata": {},
     "output_type": "display_data"
    }
   ],
   "source": [
    "gi['Mg: Magnesium'].plot.hist()"
   ]
  },
  {
   "cell_type": "markdown",
   "id": "5271eff3",
   "metadata": {},
   "source": [
    "So we have removed the skewness for this column."
   ]
  },
  {
   "cell_type": "code",
   "execution_count": 22,
   "id": "dd6fdf36",
   "metadata": {},
   "outputs": [
    {
     "data": {
      "text/plain": [
       "RI: refractive index    1.625431\n",
       "Na: Sodium              0.454181\n",
       "Mg: Magnesium          -0.824620\n",
       "Al: Aluminum            0.907290\n",
       "Si: Silicon            -0.730447\n",
       "K: Potassium            6.551648\n",
       "Ca: Calcium             2.047054\n",
       "Ba: Barium              3.416425\n",
       "Fe: Iron                1.754327\n",
       "Type of glass           1.114915\n",
       "dtype: float64"
      ]
     },
     "execution_count": 22,
     "metadata": {},
     "output_type": "execute_result"
    }
   ],
   "source": [
    "gi.skew()"
   ]
  },
  {
   "cell_type": "code",
   "execution_count": 23,
   "id": "9e327b3e",
   "metadata": {},
   "outputs": [],
   "source": [
    "gi['RI: refractive index'] = np.log(gi['RI: refractive index'])"
   ]
  },
  {
   "cell_type": "code",
   "execution_count": 24,
   "id": "b034ef59",
   "metadata": {},
   "outputs": [
    {
     "data": {
      "text/plain": [
       "1.6128653403512834"
      ]
     },
     "execution_count": 24,
     "metadata": {},
     "output_type": "execute_result"
    }
   ],
   "source": [
    "gi['RI: refractive index'].skew()"
   ]
  },
  {
   "cell_type": "markdown",
   "id": "7520e35c",
   "metadata": {},
   "source": [
    "It seems that any method of reducing the skewness is not working on this column, hence we will not manipulate data in this column and will undo the changes done by applying various method for removing skewness."
   ]
  },
  {
   "cell_type": "code",
   "execution_count": 25,
   "id": "924c6443",
   "metadata": {},
   "outputs": [
    {
     "data": {
      "text/plain": [
       "0.00    30\n",
       "0.57    12\n",
       "0.56    11\n",
       "0.60    11\n",
       "0.58    10\n",
       "        ..\n",
       "0.44     1\n",
       "0.07     1\n",
       "0.73     1\n",
       "0.70     1\n",
       "1.41     1\n",
       "Name: K: Potassium, Length: 65, dtype: int64"
      ]
     },
     "execution_count": 25,
     "metadata": {},
     "output_type": "execute_result"
    }
   ],
   "source": [
    "gi['K: Potassium'].value_counts()"
   ]
  },
  {
   "cell_type": "code",
   "execution_count": 26,
   "id": "feecfc5a",
   "metadata": {},
   "outputs": [
    {
     "data": {
      "text/plain": [
       "<AxesSubplot:ylabel='Frequency'>"
      ]
     },
     "execution_count": 26,
     "metadata": {},
     "output_type": "execute_result"
    },
    {
     "data": {
      "image/png": "[encoded data removed]",
      "text/plain": [
       "<Figure size 640x480 with 1 Axes>"
      ]
     },
     "metadata": {},
     "output_type": "display_data"
    }
   ],
   "source": [
    "gi['K: Potassium'].plot.hist()"
   ]
  },
  {
   "cell_type": "markdown",
   "id": "02e0b346",
   "metadata": {},
   "source": [
    "Skewness can be seen in this column"
   ]
  },
  {
   "cell_type": "code",
   "execution_count": 27,
   "id": "540f9ec4",
   "metadata": {},
   "outputs": [],
   "source": [
    "gi['K: Potassium'] = np.cbrt(gi['K: Potassium'])"
   ]
  },
  {
   "cell_type": "code",
   "execution_count": 28,
   "id": "c9b743f1",
   "metadata": {},
   "outputs": [
    {
     "data": {
      "text/plain": [
       "-0.5918959870178336"
      ]
     },
     "execution_count": 28,
     "metadata": {},
     "output_type": "execute_result"
    }
   ],
   "source": [
    "gi['K: Potassium'].skew()"
   ]
  },
  {
   "cell_type": "code",
   "execution_count": 29,
   "id": "d167e926",
   "metadata": {},
   "outputs": [
    {
     "data": {
      "text/plain": [
       "<AxesSubplot:ylabel='Frequency'>"
      ]
     },
     "execution_count": 29,
     "metadata": {},
     "output_type": "execute_result"
    },
    {
     "data": {
      "image/png": "[encoded data removed]",
      "text/plain": [
       "<Figure size 640x480 with 1 Axes>"
      ]
     },
     "metadata": {},
     "output_type": "display_data"
    }
   ],
   "source": [
    "gi['K: Potassium'].plot.hist()"
   ]
  },
  {
   "cell_type": "markdown",
   "id": "2329bc35",
   "metadata": {},
   "source": [
    "The skewness for the column has been removed."
   ]
  },
  {
   "cell_type": "code",
   "execution_count": 30,
   "id": "146d9914",
   "metadata": {},
   "outputs": [
    {
     "data": {
      "text/plain": [
       "RI: refractive index    1.612865\n",
       "Na: Sodium              0.454181\n",
       "Mg: Magnesium          -0.824620\n",
       "Al: Aluminum            0.907290\n",
       "Si: Silicon            -0.730447\n",
       "K: Potassium           -0.591896\n",
       "Ca: Calcium             2.047054\n",
       "Ba: Barium              3.416425\n",
       "Fe: Iron                1.754327\n",
       "Type of glass           1.114915\n",
       "dtype: float64"
      ]
     },
     "execution_count": 30,
     "metadata": {},
     "output_type": "execute_result"
    }
   ],
   "source": [
    "gi.skew()"
   ]
  },
  {
   "cell_type": "code",
   "execution_count": 31,
   "id": "b2b7d586",
   "metadata": {},
   "outputs": [
    {
     "data": {
      "text/plain": [
       "8.03    5\n",
       "8.43    5\n",
       "9.57    4\n",
       "8.79    4\n",
       "8.44    4\n",
       "       ..\n",
       "9.23    1\n",
       "8.90    1\n",
       "9.13    1\n",
       "8.09    1\n",
       "8.62    1\n",
       "Name: Ca: Calcium, Length: 143, dtype: int64"
      ]
     },
     "execution_count": 31,
     "metadata": {},
     "output_type": "execute_result"
    }
   ],
   "source": [
    "gi['Ca: Calcium'].value_counts()"
   ]
  },
  {
   "cell_type": "code",
   "execution_count": 32,
   "id": "7587f660",
   "metadata": {},
   "outputs": [
    {
     "data": {
      "text/plain": [
       "<AxesSubplot:ylabel='Frequency'>"
      ]
     },
     "execution_count": 32,
     "metadata": {},
     "output_type": "execute_result"
    },
    {
     "data": {
      "image/png": "[encoded data removed]",
      "text/plain": [
       "<Figure size 640x480 with 1 Axes>"
      ]
     },
     "metadata": {},
     "output_type": "display_data"
    }
   ],
   "source": [
    "gi['Ca: Calcium'].plot.hist()"
   ]
  },
  {
   "cell_type": "code",
   "execution_count": 33,
   "id": "965ee445",
   "metadata": {},
   "outputs": [],
   "source": [
    "gi['Ca: Calcium'] = np.log(gi['Ca: Calcium'])"
   ]
  },
  {
   "cell_type": "code",
   "execution_count": 34,
   "id": "6ba8a6a3",
   "metadata": {},
   "outputs": [
    {
     "data": {
      "text/plain": [
       "1.0663634752110298"
      ]
     },
     "execution_count": 34,
     "metadata": {},
     "output_type": "execute_result"
    }
   ],
   "source": [
    "gi['Ca: Calcium'].skew()"
   ]
  },
  {
   "cell_type": "code",
   "execution_count": 35,
   "id": "fa51f931",
   "metadata": {},
   "outputs": [
    {
     "data": {
      "text/plain": [
       "<AxesSubplot:ylabel='Frequency'>"
      ]
     },
     "execution_count": 35,
     "metadata": {},
     "output_type": "execute_result"
    },
    {
     "data": {
      "image/png": "[encoded data removed]",
      "text/plain": [
       "<Figure size 640x480 with 1 Axes>"
      ]
     },
     "metadata": {},
     "output_type": "display_data"
    }
   ],
   "source": [
    "gi['Ca: Calcium'].plot.hist()"
   ]
  },
  {
   "cell_type": "markdown",
   "id": "afde97e6",
   "metadata": {},
   "source": [
    "So after implenting many skewness removal methods the method np.log is working properly on this column and is removing skewness better then other methods."
   ]
  },
  {
   "cell_type": "code",
   "execution_count": 36,
   "id": "99f0921e",
   "metadata": {},
   "outputs": [
    {
     "data": {
      "text/plain": [
       "RI: refractive index    1.612865\n",
       "Na: Sodium              0.454181\n",
       "Mg: Magnesium          -0.824620\n",
       "Al: Aluminum            0.907290\n",
       "Si: Silicon            -0.730447\n",
       "K: Potassium           -0.591896\n",
       "Ca: Calcium             1.066363\n",
       "Ba: Barium              3.416425\n",
       "Fe: Iron                1.754327\n",
       "Type of glass           1.114915\n",
       "dtype: float64"
      ]
     },
     "execution_count": 36,
     "metadata": {},
     "output_type": "execute_result"
    }
   ],
   "source": [
    "gi.skew()"
   ]
  },
  {
   "cell_type": "code",
   "execution_count": 37,
   "id": "350aee6d",
   "metadata": {},
   "outputs": [
    {
     "data": {
      "text/plain": [
       "<AxesSubplot:ylabel='Frequency'>"
      ]
     },
     "execution_count": 37,
     "metadata": {},
     "output_type": "execute_result"
    },
    {
     "data": {
      "image/png": "[encoded data removed]",
      "text/plain": [
       "<Figure size 640x480 with 1 Axes>"
      ]
     },
     "metadata": {},
     "output_type": "display_data"
    }
   ],
   "source": [
    "gi['Ba: Barium'].plot.hist()"
   ]
  },
  {
   "cell_type": "code",
   "execution_count": 38,
   "id": "bea0eedb",
   "metadata": {},
   "outputs": [
    {
     "data": {
      "text/plain": [
       "0.00    176\n",
       "0.64      2\n",
       "1.57      2\n",
       "0.09      2\n",
       "1.59      2\n",
       "0.11      2\n",
       "3.15      1\n",
       "0.81      1\n",
       "1.64      1\n",
       "1.06      1\n",
       "0.54      1\n",
       "2.88      1\n",
       "1.38      1\n",
       "1.55      1\n",
       "0.67      1\n",
       "1.71      1\n",
       "0.56      1\n",
       "0.63      1\n",
       "0.53      1\n",
       "0.66      1\n",
       "0.61      1\n",
       "0.27      1\n",
       "0.69      1\n",
       "0.40      1\n",
       "0.14      1\n",
       "0.76      1\n",
       "1.68      1\n",
       "1.63      1\n",
       "1.19      1\n",
       "0.24      1\n",
       "2.20      1\n",
       "0.15      1\n",
       "0.06      1\n",
       "1.67      1\n",
       "Name: Ba: Barium, dtype: int64"
      ]
     },
     "execution_count": 38,
     "metadata": {},
     "output_type": "execute_result"
    }
   ],
   "source": [
    "gi['Ba: Barium'].value_counts()"
   ]
  },
  {
   "cell_type": "markdown",
   "id": "b332e19c",
   "metadata": {},
   "source": [
    "So, in this column it can be seen that the most of the columns are filled with 0 hence we will not try to remove skewness of this column."
   ]
  },
  {
   "cell_type": "code",
   "execution_count": 39,
   "id": "0dbe8c65",
   "metadata": {},
   "outputs": [
    {
     "data": {
      "text/plain": [
       "0.00    144\n",
       "0.24      7\n",
       "0.17      7\n",
       "0.09      6\n",
       "0.10      5\n",
       "0.11      4\n",
       "0.16      3\n",
       "0.28      3\n",
       "0.12      3\n",
       "0.22      3\n",
       "0.14      3\n",
       "0.07      3\n",
       "0.19      2\n",
       "0.15      2\n",
       "0.08      2\n",
       "0.06      1\n",
       "0.21      1\n",
       "0.05      1\n",
       "0.51      1\n",
       "0.37      1\n",
       "0.35      1\n",
       "0.25      1\n",
       "0.18      1\n",
       "0.34      1\n",
       "0.29      1\n",
       "0.30      1\n",
       "0.20      1\n",
       "0.32      1\n",
       "0.26      1\n",
       "0.03      1\n",
       "0.31      1\n",
       "0.01      1\n",
       "Name: Fe: Iron, dtype: int64"
      ]
     },
     "execution_count": 39,
     "metadata": {},
     "output_type": "execute_result"
    }
   ],
   "source": [
    "gi['Fe: Iron'].value_counts()"
   ]
  },
  {
   "cell_type": "markdown",
   "id": "bafc7cff",
   "metadata": {},
   "source": [
    "In this column as well we can see that highest no. of columns are filled with zero hence no skewness reduction is possible in this column as well."
   ]
  },
  {
   "cell_type": "code",
   "execution_count": 40,
   "id": "443c6f5b",
   "metadata": {},
   "outputs": [
    {
     "data": {
      "text/plain": [
       "RI: refractive index    1.612865\n",
       "Na: Sodium              0.454181\n",
       "Mg: Magnesium          -0.824620\n",
       "Al: Aluminum            0.907290\n",
       "Si: Silicon            -0.730447\n",
       "K: Potassium           -0.591896\n",
       "Ca: Calcium             1.066363\n",
       "Ba: Barium              3.416425\n",
       "Fe: Iron                1.754327\n",
       "Type of glass           1.114915\n",
       "dtype: float64"
      ]
     },
     "execution_count": 40,
     "metadata": {},
     "output_type": "execute_result"
    }
   ],
   "source": [
    "gi.skew()"
   ]
  },
  {
   "cell_type": "markdown",
   "id": "c69044be",
   "metadata": {},
   "source": [
    "We will check if any data has been dropped while removing skewness of columns."
   ]
  },
  {
   "cell_type": "code",
   "execution_count": 41,
   "id": "859d52e0",
   "metadata": {},
   "outputs": [
    {
     "name": "stdout",
     "output_type": "stream",
     "text": [
      "<class 'pandas.core.frame.DataFrame'>\n",
      "Int64Index: 214 entries, 1 to 214\n",
      "Data columns (total 10 columns):\n",
      " #   Column                Non-Null Count  Dtype  \n",
      "---  ------                --------------  -----  \n",
      " 0   RI: refractive index  214 non-null    float64\n",
      " 1   Na: Sodium            214 non-null    float64\n",
      " 2   Mg: Magnesium         214 non-null    float64\n",
      " 3   Al: Aluminum          214 non-null    float64\n",
      " 4   Si: Silicon           214 non-null    float64\n",
      " 5   K: Potassium          214 non-null    float64\n",
      " 6   Ca: Calcium           214 non-null    float64\n",
      " 7   Ba: Barium            214 non-null    float64\n",
      " 8   Fe: Iron              214 non-null    float64\n",
      " 9   Type of glass         214 non-null    int64  \n",
      "dtypes: float64(9), int64(1)\n",
      "memory usage: 18.4 KB\n"
     ]
    }
   ],
   "source": [
    "gi.info()"
   ]
  },
  {
   "cell_type": "markdown",
   "id": "a7e582cc",
   "metadata": {},
   "source": [
    "So, no data has been dropped while removing skewness of columns."
   ]
  },
  {
   "cell_type": "markdown",
   "id": "c2bb03e4",
   "metadata": {},
   "source": [
    "We will now check for outliers in the columns."
   ]
  },
  {
   "cell_type": "code",
   "execution_count": 42,
   "id": "46cd161e",
   "metadata": {},
   "outputs": [
    {
     "data": {
      "text/plain": [
       "Index(['RI: refractive index', 'Na: Sodium', 'Mg: Magnesium', 'Al: Aluminum',\n",
       "       'Si: Silicon', 'K: Potassium', 'Ca: Calcium', 'Ba: Barium', 'Fe: Iron',\n",
       "       'Type of glass'],\n",
       "      dtype='object')"
      ]
     },
     "execution_count": 42,
     "metadata": {},
     "output_type": "execute_result"
    }
   ],
   "source": [
    "gi.columns"
   ]
  },
  {
   "cell_type": "code",
   "execution_count": 43,
   "id": "7fff219a",
   "metadata": {},
   "outputs": [
    {
     "data": {
      "text/plain": [
       "<AxesSubplot:>"
      ]
     },
     "execution_count": 43,
     "metadata": {},
     "output_type": "execute_result"
    },
    {
     "data": {
      "image/png": "[encoded data removed]",
      "text/plain": [
       "<Figure size 640x480 with 1 Axes>"
      ]
     },
     "metadata": {},
     "output_type": "display_data"
    }
   ],
   "source": [
    "gi['RI: refractive index'].plot.box()"
   ]
  },
  {
   "cell_type": "code",
   "execution_count": 44,
   "id": "61c39fde",
   "metadata": {},
   "outputs": [
    {
     "data": {
      "text/plain": [
       "<AxesSubplot:>"
      ]
     },
     "execution_count": 44,
     "metadata": {},
     "output_type": "execute_result"
    },
    {
     "data": {
      "image/png": "[encoded data removed]",
      "text/plain": [
       "<Figure size 640x480 with 1 Axes>"
      ]
     },
     "metadata": {},
     "output_type": "display_data"
    }
   ],
   "source": [
    "gi['Na: Sodium'].plot.box()"
   ]
  },
  {
   "cell_type": "code",
   "execution_count": 45,
   "id": "2e731213",
   "metadata": {},
   "outputs": [
    {
     "data": {
      "text/plain": [
       "Index(['RI: refractive index', 'Na: Sodium', 'Mg: Magnesium', 'Al: Aluminum',\n",
       "       'Si: Silicon', 'K: Potassium', 'Ca: Calcium', 'Ba: Barium', 'Fe: Iron',\n",
       "       'Type of glass'],\n",
       "      dtype='object')"
      ]
     },
     "execution_count": 45,
     "metadata": {},
     "output_type": "execute_result"
    }
   ],
   "source": [
    "gi.columns"
   ]
  },
  {
   "cell_type": "code",
   "execution_count": 46,
   "id": "237b1f22",
   "metadata": {},
   "outputs": [
    {
     "data": {
      "text/plain": [
       "<AxesSubplot:>"
      ]
     },
     "execution_count": 46,
     "metadata": {},
     "output_type": "execute_result"
    },
    {
     "data": {
      "image/png": "[encoded data removed]",
      "text/plain": [
       "<Figure size 640x480 with 1 Axes>"
      ]
     },
     "metadata": {},
     "output_type": "display_data"
    }
   ],
   "source": [
    "gi['Mg: Magnesium'].plot.box()"
   ]
  },
  {
   "cell_type": "code",
   "execution_count": 47,
   "id": "e9a1f5f1",
   "metadata": {},
   "outputs": [
    {
     "data": {
      "text/plain": [
       "<AxesSubplot:>"
      ]
     },
     "execution_count": 47,
     "metadata": {},
     "output_type": "execute_result"
    },
    {
     "data": {
      "image/png": "[encoded data removed]",
      "text/plain": [
       "<Figure size 640x480 with 1 Axes>"
      ]
     },
     "metadata": {},
     "output_type": "display_data"
    }
   ],
   "source": [
    "gi['Al: Aluminum'].plot.box()"
   ]
  },
  {
   "cell_type": "code",
   "execution_count": 48,
   "id": "a6a452d7",
   "metadata": {},
   "outputs": [
    {
     "data": {
      "text/plain": [
       "<AxesSubplot:>"
      ]
     },
     "execution_count": 48,
     "metadata": {},
     "output_type": "execute_result"
    },
    {
     "data": {
      "image/png": "[encoded data removed]",
      "text/plain": [
       "<Figure size 640x480 with 1 Axes>"
      ]
     },
     "metadata": {},
     "output_type": "display_data"
    }
   ],
   "source": [
    "gi['Si: Silicon'].plot.box()"
   ]
  },
  {
   "cell_type": "code",
   "execution_count": 49,
   "id": "88544c6c",
   "metadata": {},
   "outputs": [
    {
     "data": {
      "text/plain": [
       "Index(['RI: refractive index', 'Na: Sodium', 'Mg: Magnesium', 'Al: Aluminum',\n",
       "       'Si: Silicon', 'K: Potassium', 'Ca: Calcium', 'Ba: Barium', 'Fe: Iron',\n",
       "       'Type of glass'],\n",
       "      dtype='object')"
      ]
     },
     "execution_count": 49,
     "metadata": {},
     "output_type": "execute_result"
    }
   ],
   "source": [
    "gi.columns"
   ]
  },
  {
   "cell_type": "code",
   "execution_count": 50,
   "id": "80b35178",
   "metadata": {},
   "outputs": [
    {
     "data": {
      "text/plain": [
       "<AxesSubplot:>"
      ]
     },
     "execution_count": 50,
     "metadata": {},
     "output_type": "execute_result"
    },
    {
     "data": {
      "image/png": "[encoded data removed]",
      "text/plain": [
       "<Figure size 640x480 with 1 Axes>"
      ]
     },
     "metadata": {},
     "output_type": "display_data"
    }
   ],
   "source": [
    "gi['K: Potassium'].plot.box()"
   ]
  },
  {
   "cell_type": "code",
   "execution_count": 51,
   "id": "2ac77250",
   "metadata": {},
   "outputs": [
    {
     "data": {
      "text/plain": [
       "<AxesSubplot:>"
      ]
     },
     "execution_count": 51,
     "metadata": {},
     "output_type": "execute_result"
    },
    {
     "data": {
      "image/png": "[encoded data removed]",
      "text/plain": [
       "<Figure size 640x480 with 1 Axes>"
      ]
     },
     "metadata": {},
     "output_type": "display_data"
    }
   ],
   "source": [
    "gi['Ca: Calcium'].plot.box()"
   ]
  },
  {
   "cell_type": "code",
   "execution_count": 52,
   "id": "ff075aca",
   "metadata": {},
   "outputs": [
    {
     "data": {
      "text/plain": [
       "<AxesSubplot:>"
      ]
     },
     "execution_count": 52,
     "metadata": {},
     "output_type": "execute_result"
    },
    {
     "data": {
      "image/png": "[encoded data removed]",
      "text/plain": [
       "<Figure size 640x480 with 1 Axes>"
      ]
     },
     "metadata": {},
     "output_type": "display_data"
    }
   ],
   "source": [
    "gi['Ba: Barium'].plot.box()"
   ]
  },
  {
   "cell_type": "code",
   "execution_count": 53,
   "id": "aa799bb4",
   "metadata": {},
   "outputs": [
    {
     "data": {
      "text/plain": [
       "0.00    176\n",
       "0.64      2\n",
       "1.57      2\n",
       "0.09      2\n",
       "1.59      2\n",
       "0.11      2\n",
       "3.15      1\n",
       "0.81      1\n",
       "1.64      1\n",
       "1.06      1\n",
       "0.54      1\n",
       "2.88      1\n",
       "1.38      1\n",
       "1.55      1\n",
       "0.67      1\n",
       "1.71      1\n",
       "0.56      1\n",
       "0.63      1\n",
       "0.53      1\n",
       "0.66      1\n",
       "0.61      1\n",
       "0.27      1\n",
       "0.69      1\n",
       "0.40      1\n",
       "0.14      1\n",
       "0.76      1\n",
       "1.68      1\n",
       "1.63      1\n",
       "1.19      1\n",
       "0.24      1\n",
       "2.20      1\n",
       "0.15      1\n",
       "0.06      1\n",
       "1.67      1\n",
       "Name: Ba: Barium, dtype: int64"
      ]
     },
     "execution_count": 53,
     "metadata": {},
     "output_type": "execute_result"
    }
   ],
   "source": [
    "gi['Ba: Barium'].value_counts()"
   ]
  },
  {
   "cell_type": "code",
   "execution_count": 54,
   "id": "aa90d4b3",
   "metadata": {},
   "outputs": [
    {
     "data": {
      "text/plain": [
       "<AxesSubplot:>"
      ]
     },
     "execution_count": 54,
     "metadata": {},
     "output_type": "execute_result"
    },
    {
     "data": {
      "image/png": "[encoded data removed]",
      "text/plain": [
       "<Figure size 640x480 with 1 Axes>"
      ]
     },
     "metadata": {},
     "output_type": "display_data"
    }
   ],
   "source": [
    "gi['Fe: Iron'].plot.box()"
   ]
  },
  {
   "cell_type": "markdown",
   "id": "c4549600",
   "metadata": {},
   "source": [
    "So, from boxplots of columns it can be seen that outliers are mostly present in all columns of data set hence we will remove them. But before that we will check the correlation of columns with tatget variable."
   ]
  },
  {
   "cell_type": "code",
   "execution_count": 55,
   "id": "ea89d03e",
   "metadata": {},
   "outputs": [
    {
     "data": {
      "text/plain": [
       "<AxesSubplot:>"
      ]
     },
     "execution_count": 55,
     "metadata": {},
     "output_type": "execute_result"
    },
    {
     "data": {
      "image/png": "[encoded data removed]",
      "text/plain": [
       "<Figure size 640x480 with 2 Axes>"
      ]
     },
     "metadata": {},
     "output_type": "display_data"
    }
   ],
   "source": [
    "sns.heatmap(gi.corr(), annot = True)"
   ]
  },
  {
   "cell_type": "markdown",
   "id": "585fc993",
   "metadata": {},
   "source": [
    "So, from above heatmap it can be seen that 2 columns Magnesium & Potasium are having highly negative relation with target variable."
   ]
  },
  {
   "cell_type": "code",
   "execution_count": 56,
   "id": "69d1b8a6",
   "metadata": {},
   "outputs": [],
   "source": [
    "from scipy.stats import zscore"
   ]
  },
  {
   "cell_type": "code",
   "execution_count": 57,
   "id": "57951d2f",
   "metadata": {},
   "outputs": [
    {
     "data": {
      "text/html": [
       "<div>\n",
       "<style scoped>\n",
       "    .dataframe tbody tr th:only-of-type {\n",
       "        vertical-align: middle;\n",
       "    }\n",
       "\n",
       "    .dataframe tbody tr th {\n",
       "        vertical-align: top;\n",
       "    }\n",
       "\n",
       "    .dataframe thead th {\n",
       "        text-align: right;\n",
       "    }\n",
       "</style>\n",
       "<table border=\"1\" class=\"dataframe\">\n",
       "  <thead>\n",
       "    <tr style=\"text-align: right;\">\n",
       "      <th></th>\n",
       "      <th>RI: refractive index</th>\n",
       "      <th>Na: Sodium</th>\n",
       "      <th>Mg: Magnesium</th>\n",
       "      <th>Al: Aluminum</th>\n",
       "      <th>Si: Silicon</th>\n",
       "      <th>K: Potassium</th>\n",
       "      <th>Ca: Calcium</th>\n",
       "      <th>Ba: Barium</th>\n",
       "      <th>Fe: Iron</th>\n",
       "      <th>Type of glass</th>\n",
       "    </tr>\n",
       "    <tr>\n",
       "      <th>Id number</th>\n",
       "      <th></th>\n",
       "      <th></th>\n",
       "      <th></th>\n",
       "      <th></th>\n",
       "      <th></th>\n",
       "      <th></th>\n",
       "      <th></th>\n",
       "      <th></th>\n",
       "      <th></th>\n",
       "      <th></th>\n",
       "    </tr>\n",
       "  </thead>\n",
       "  <tbody>\n",
       "    <tr>\n",
       "      <th>1</th>\n",
       "      <td>0.874501</td>\n",
       "      <td>0.284953</td>\n",
       "      <td>1.993157</td>\n",
       "      <td>0.692442</td>\n",
       "      <td>1.127082</td>\n",
       "      <td>0.835901</td>\n",
       "      <td>0.086615</td>\n",
       "      <td>0.352877</td>\n",
       "      <td>0.586451</td>\n",
       "      <td>0.848275</td>\n",
       "    </tr>\n",
       "    <tr>\n",
       "      <th>2</th>\n",
       "      <td>0.248798</td>\n",
       "      <td>0.591817</td>\n",
       "      <td>0.674449</td>\n",
       "      <td>0.170460</td>\n",
       "      <td>0.102319</td>\n",
       "      <td>0.346205</td>\n",
       "      <td>0.859448</td>\n",
       "      <td>0.352877</td>\n",
       "      <td>0.586451</td>\n",
       "      <td>0.848275</td>\n",
       "    </tr>\n",
       "    <tr>\n",
       "      <th>3</th>\n",
       "      <td>0.721996</td>\n",
       "      <td>0.149933</td>\n",
       "      <td>0.608972</td>\n",
       "      <td>0.190912</td>\n",
       "      <td>0.438787</td>\n",
       "      <td>0.188105</td>\n",
       "      <td>0.904014</td>\n",
       "      <td>0.352877</td>\n",
       "      <td>0.586451</td>\n",
       "      <td>0.848275</td>\n",
       "    </tr>\n",
       "    <tr>\n",
       "      <th>4</th>\n",
       "      <td>0.232260</td>\n",
       "      <td>0.242853</td>\n",
       "      <td>0.794614</td>\n",
       "      <td>0.310994</td>\n",
       "      <td>0.052974</td>\n",
       "      <td>0.485589</td>\n",
       "      <td>0.521297</td>\n",
       "      <td>0.352877</td>\n",
       "      <td>0.586451</td>\n",
       "      <td>0.848275</td>\n",
       "    </tr>\n",
       "    <tr>\n",
       "      <th>5</th>\n",
       "      <td>0.311644</td>\n",
       "      <td>0.169205</td>\n",
       "      <td>0.700896</td>\n",
       "      <td>0.411375</td>\n",
       "      <td>0.555256</td>\n",
       "      <td>0.455958</td>\n",
       "      <td>0.649417</td>\n",
       "      <td>0.352877</td>\n",
       "      <td>0.586451</td>\n",
       "      <td>0.848275</td>\n",
       "    </tr>\n",
       "    <tr>\n",
       "      <th>...</th>\n",
       "      <td>...</td>\n",
       "      <td>...</td>\n",
       "      <td>...</td>\n",
       "      <td>...</td>\n",
       "      <td>...</td>\n",
       "      <td>...</td>\n",
       "      <td>...</td>\n",
       "      <td>...</td>\n",
       "      <td>...</td>\n",
       "      <td>...</td>\n",
       "    </tr>\n",
       "    <tr>\n",
       "      <th>210</th>\n",
       "      <td>0.705443</td>\n",
       "      <td>0.898681</td>\n",
       "      <td>1.699193</td>\n",
       "      <td>2.881125</td>\n",
       "      <td>0.052974</td>\n",
       "      <td>0.716931</td>\n",
       "      <td>0.247124</td>\n",
       "      <td>1.783978</td>\n",
       "      <td>0.586451</td>\n",
       "      <td>2.010478</td>\n",
       "    </tr>\n",
       "    <tr>\n",
       "      <th>211</th>\n",
       "      <td>0.500232</td>\n",
       "      <td>1.856097</td>\n",
       "      <td>1.699193</td>\n",
       "      <td>1.094342</td>\n",
       "      <td>0.529374</td>\n",
       "      <td>2.018006</td>\n",
       "      <td>0.370604</td>\n",
       "      <td>2.852405</td>\n",
       "      <td>0.586451</td>\n",
       "      <td>2.010478</td>\n",
       "    </tr>\n",
       "    <tr>\n",
       "      <th>212</th>\n",
       "      <td>0.755683</td>\n",
       "      <td>1.168721</td>\n",
       "      <td>1.699193</td>\n",
       "      <td>1.154570</td>\n",
       "      <td>0.995252</td>\n",
       "      <td>2.018006</td>\n",
       "      <td>0.337555</td>\n",
       "      <td>2.953200</td>\n",
       "      <td>0.586451</td>\n",
       "      <td>2.010478</td>\n",
       "    </tr>\n",
       "    <tr>\n",
       "      <th>213</th>\n",
       "      <td>0.612757</td>\n",
       "      <td>1.193270</td>\n",
       "      <td>1.699193</td>\n",
       "      <td>0.993960</td>\n",
       "      <td>1.241133</td>\n",
       "      <td>2.018006</td>\n",
       "      <td>0.304662</td>\n",
       "      <td>2.812087</td>\n",
       "      <td>0.586451</td>\n",
       "      <td>2.010478</td>\n",
       "    </tr>\n",
       "    <tr>\n",
       "      <th>214</th>\n",
       "      <td>0.414201</td>\n",
       "      <td>1.009152</td>\n",
       "      <td>1.699193</td>\n",
       "      <td>1.275028</td>\n",
       "      <td>0.917606</td>\n",
       "      <td>2.018006</td>\n",
       "      <td>0.190748</td>\n",
       "      <td>3.013677</td>\n",
       "      <td>0.586451</td>\n",
       "      <td>2.010478</td>\n",
       "    </tr>\n",
       "  </tbody>\n",
       "</table>\n",
       "<p>214 rows × 10 columns</p>\n",
       "</div>"
      ],
      "text/plain": [
       "           RI: refractive index  Na: Sodium  Mg: Magnesium  Al: Aluminum  \\\n",
       "Id number                                                                  \n",
       "1                      0.874501    0.284953       1.993157      0.692442   \n",
       "2                      0.248798    0.591817       0.674449      0.170460   \n",
       "3                      0.721996    0.149933       0.608972      0.190912   \n",
       "4                      0.232260    0.242853       0.794614      0.310994   \n",
       "5                      0.311644    0.169205       0.700896      0.411375   \n",
       "...                         ...         ...            ...           ...   \n",
       "210                    0.705443    0.898681       1.699193      2.881125   \n",
       "211                    0.500232    1.856097       1.699193      1.094342   \n",
       "212                    0.755683    1.168721       1.699193      1.154570   \n",
       "213                    0.612757    1.193270       1.699193      0.993960   \n",
       "214                    0.414201    1.009152       1.699193      1.275028   \n",
       "\n",
       "           Si: Silicon  K: Potassium  Ca: Calcium  Ba: Barium  Fe: Iron  \\\n",
       "Id number                                                                 \n",
       "1             1.127082      0.835901     0.086615    0.352877  0.586451   \n",
       "2             0.102319      0.346205     0.859448    0.352877  0.586451   \n",
       "3             0.438787      0.188105     0.904014    0.352877  0.586451   \n",
       "4             0.052974      0.485589     0.521297    0.352877  0.586451   \n",
       "5             0.555256      0.455958     0.649417    0.352877  0.586451   \n",
       "...                ...           ...          ...         ...       ...   \n",
       "210           0.052974      0.716931     0.247124    1.783978  0.586451   \n",
       "211           0.529374      2.018006     0.370604    2.852405  0.586451   \n",
       "212           0.995252      2.018006     0.337555    2.953200  0.586451   \n",
       "213           1.241133      2.018006     0.304662    2.812087  0.586451   \n",
       "214           0.917606      2.018006     0.190748    3.013677  0.586451   \n",
       "\n",
       "           Type of glass  \n",
       "Id number                 \n",
       "1               0.848275  \n",
       "2               0.848275  \n",
       "3               0.848275  \n",
       "4               0.848275  \n",
       "5               0.848275  \n",
       "...                  ...  \n",
       "210             2.010478  \n",
       "211             2.010478  \n",
       "212             2.010478  \n",
       "213             2.010478  \n",
       "214             2.010478  \n",
       "\n",
       "[214 rows x 10 columns]"
      ]
     },
     "execution_count": 57,
     "metadata": {},
     "output_type": "execute_result"
    }
   ],
   "source": [
    "Z = np.abs(zscore(gi))\n",
    "Z"
   ]
  },
  {
   "cell_type": "code",
   "execution_count": 58,
   "id": "378be690",
   "metadata": {},
   "outputs": [
    {
     "name": "stdout",
     "output_type": "stream",
     "text": [
      "(array([106, 106, 106, 106, 107, 107, 107, 110, 111, 112, 112, 145, 162,\n",
      "       163, 163, 163, 171, 171, 172, 172, 174, 184, 184, 185, 188, 189,\n",
      "       201, 203, 207, 213], dtype=int64), array([0, 1, 4, 7, 0, 4, 6, 6, 6, 0, 6, 8, 8, 3, 4, 7, 3, 5, 3, 5, 8, 1,\n",
      "       4, 6, 4, 7, 4, 7, 7, 7], dtype=int64))\n"
     ]
    }
   ],
   "source": [
    "threshold = 3\n",
    "print(np.where(Z>3))"
   ]
  },
  {
   "cell_type": "code",
   "execution_count": 59,
   "id": "d2b7c2cf",
   "metadata": {},
   "outputs": [],
   "source": [
    "gi1 = gi[(Z<3).all(axis = 1)]"
   ]
  },
  {
   "cell_type": "code",
   "execution_count": 60,
   "id": "f14cb6e1",
   "metadata": {},
   "outputs": [
    {
     "data": {
      "text/html": [
       "<div>\n",
       "<style scoped>\n",
       "    .dataframe tbody tr th:only-of-type {\n",
       "        vertical-align: middle;\n",
       "    }\n",
       "\n",
       "    .dataframe tbody tr th {\n",
       "        vertical-align: top;\n",
       "    }\n",
       "\n",
       "    .dataframe thead th {\n",
       "        text-align: right;\n",
       "    }\n",
       "</style>\n",
       "<table border=\"1\" class=\"dataframe\">\n",
       "  <thead>\n",
       "    <tr style=\"text-align: right;\">\n",
       "      <th></th>\n",
       "      <th>RI: refractive index</th>\n",
       "      <th>Na: Sodium</th>\n",
       "      <th>Mg: Magnesium</th>\n",
       "      <th>Al: Aluminum</th>\n",
       "      <th>Si: Silicon</th>\n",
       "      <th>K: Potassium</th>\n",
       "      <th>Ca: Calcium</th>\n",
       "      <th>Ba: Barium</th>\n",
       "      <th>Fe: Iron</th>\n",
       "      <th>Type of glass</th>\n",
       "    </tr>\n",
       "    <tr>\n",
       "      <th>Id number</th>\n",
       "      <th></th>\n",
       "      <th></th>\n",
       "      <th></th>\n",
       "      <th></th>\n",
       "      <th></th>\n",
       "      <th></th>\n",
       "      <th></th>\n",
       "      <th></th>\n",
       "      <th></th>\n",
       "      <th></th>\n",
       "    </tr>\n",
       "  </thead>\n",
       "  <tbody>\n",
       "    <tr>\n",
       "      <th>1</th>\n",
       "      <td>0.419375</td>\n",
       "      <td>13.64</td>\n",
       "      <td>9.58005</td>\n",
       "      <td>1.10</td>\n",
       "      <td>71.78</td>\n",
       "      <td>0.391487</td>\n",
       "      <td>2.169054</td>\n",
       "      <td>0.00</td>\n",
       "      <td>0.0</td>\n",
       "      <td>1</td>\n",
       "    </tr>\n",
       "    <tr>\n",
       "      <th>2</th>\n",
       "      <td>0.417137</td>\n",
       "      <td>13.89</td>\n",
       "      <td>5.98000</td>\n",
       "      <td>1.36</td>\n",
       "      <td>72.73</td>\n",
       "      <td>0.782974</td>\n",
       "      <td>2.057963</td>\n",
       "      <td>0.00</td>\n",
       "      <td>0.0</td>\n",
       "      <td>1</td>\n",
       "    </tr>\n",
       "    <tr>\n",
       "      <th>3</th>\n",
       "      <td>0.416194</td>\n",
       "      <td>13.53</td>\n",
       "      <td>5.80125</td>\n",
       "      <td>1.54</td>\n",
       "      <td>72.99</td>\n",
       "      <td>0.730614</td>\n",
       "      <td>2.051556</td>\n",
       "      <td>0.00</td>\n",
       "      <td>0.0</td>\n",
       "      <td>1</td>\n",
       "    </tr>\n",
       "    <tr>\n",
       "      <th>4</th>\n",
       "      <td>0.417170</td>\n",
       "      <td>13.21</td>\n",
       "      <td>6.30805</td>\n",
       "      <td>1.29</td>\n",
       "      <td>72.61</td>\n",
       "      <td>0.829134</td>\n",
       "      <td>2.106570</td>\n",
       "      <td>0.00</td>\n",
       "      <td>0.0</td>\n",
       "      <td>1</td>\n",
       "    </tr>\n",
       "    <tr>\n",
       "      <th>5</th>\n",
       "      <td>0.417012</td>\n",
       "      <td>13.27</td>\n",
       "      <td>6.05220</td>\n",
       "      <td>1.24</td>\n",
       "      <td>73.08</td>\n",
       "      <td>0.819321</td>\n",
       "      <td>2.088153</td>\n",
       "      <td>0.00</td>\n",
       "      <td>0.0</td>\n",
       "      <td>1</td>\n",
       "    </tr>\n",
       "    <tr>\n",
       "      <th>...</th>\n",
       "      <td>...</td>\n",
       "      <td>...</td>\n",
       "      <td>...</td>\n",
       "      <td>...</td>\n",
       "      <td>...</td>\n",
       "      <td>...</td>\n",
       "      <td>...</td>\n",
       "      <td>...</td>\n",
       "      <td>...</td>\n",
       "      <td>...</td>\n",
       "    </tr>\n",
       "    <tr>\n",
       "      <th>209</th>\n",
       "      <td>0.416339</td>\n",
       "      <td>14.37</td>\n",
       "      <td>-0.50000</td>\n",
       "      <td>2.74</td>\n",
       "      <td>72.85</td>\n",
       "      <td>0.000000</td>\n",
       "      <td>2.246015</td>\n",
       "      <td>0.54</td>\n",
       "      <td>0.0</td>\n",
       "      <td>7</td>\n",
       "    </tr>\n",
       "    <tr>\n",
       "      <th>210</th>\n",
       "      <td>0.416227</td>\n",
       "      <td>14.14</td>\n",
       "      <td>-0.50000</td>\n",
       "      <td>2.88</td>\n",
       "      <td>72.61</td>\n",
       "      <td>0.430887</td>\n",
       "      <td>2.217027</td>\n",
       "      <td>1.06</td>\n",
       "      <td>0.0</td>\n",
       "      <td>7</td>\n",
       "    </tr>\n",
       "    <tr>\n",
       "      <th>211</th>\n",
       "      <td>0.416636</td>\n",
       "      <td>14.92</td>\n",
       "      <td>-0.50000</td>\n",
       "      <td>1.99</td>\n",
       "      <td>73.06</td>\n",
       "      <td>0.000000</td>\n",
       "      <td>2.128232</td>\n",
       "      <td>1.59</td>\n",
       "      <td>0.0</td>\n",
       "      <td>7</td>\n",
       "    </tr>\n",
       "    <tr>\n",
       "      <th>212</th>\n",
       "      <td>0.419138</td>\n",
       "      <td>14.36</td>\n",
       "      <td>-0.50000</td>\n",
       "      <td>2.02</td>\n",
       "      <td>73.42</td>\n",
       "      <td>0.000000</td>\n",
       "      <td>2.132982</td>\n",
       "      <td>1.64</td>\n",
       "      <td>0.0</td>\n",
       "      <td>7</td>\n",
       "    </tr>\n",
       "    <tr>\n",
       "      <th>213</th>\n",
       "      <td>0.416412</td>\n",
       "      <td>14.38</td>\n",
       "      <td>-0.50000</td>\n",
       "      <td>1.94</td>\n",
       "      <td>73.61</td>\n",
       "      <td>0.000000</td>\n",
       "      <td>2.137710</td>\n",
       "      <td>1.57</td>\n",
       "      <td>0.0</td>\n",
       "      <td>7</td>\n",
       "    </tr>\n",
       "  </tbody>\n",
       "</table>\n",
       "<p>195 rows × 10 columns</p>\n",
       "</div>"
      ],
      "text/plain": [
       "           RI: refractive index  Na: Sodium  Mg: Magnesium  Al: Aluminum  \\\n",
       "Id number                                                                  \n",
       "1                      0.419375       13.64        9.58005          1.10   \n",
       "2                      0.417137       13.89        5.98000          1.36   \n",
       "3                      0.416194       13.53        5.80125          1.54   \n",
       "4                      0.417170       13.21        6.30805          1.29   \n",
       "5                      0.417012       13.27        6.05220          1.24   \n",
       "...                         ...         ...            ...           ...   \n",
       "209                    0.416339       14.37       -0.50000          2.74   \n",
       "210                    0.416227       14.14       -0.50000          2.88   \n",
       "211                    0.416636       14.92       -0.50000          1.99   \n",
       "212                    0.419138       14.36       -0.50000          2.02   \n",
       "213                    0.416412       14.38       -0.50000          1.94   \n",
       "\n",
       "           Si: Silicon  K: Potassium  Ca: Calcium  Ba: Barium  Fe: Iron  \\\n",
       "Id number                                                                 \n",
       "1                71.78      0.391487     2.169054        0.00       0.0   \n",
       "2                72.73      0.782974     2.057963        0.00       0.0   \n",
       "3                72.99      0.730614     2.051556        0.00       0.0   \n",
       "4                72.61      0.829134     2.106570        0.00       0.0   \n",
       "5                73.08      0.819321     2.088153        0.00       0.0   \n",
       "...                ...           ...          ...         ...       ...   \n",
       "209              72.85      0.000000     2.246015        0.54       0.0   \n",
       "210              72.61      0.430887     2.217027        1.06       0.0   \n",
       "211              73.06      0.000000     2.128232        1.59       0.0   \n",
       "212              73.42      0.000000     2.132982        1.64       0.0   \n",
       "213              73.61      0.000000     2.137710        1.57       0.0   \n",
       "\n",
       "           Type of glass  \n",
       "Id number                 \n",
       "1                      1  \n",
       "2                      1  \n",
       "3                      1  \n",
       "4                      1  \n",
       "5                      1  \n",
       "...                  ...  \n",
       "209                    7  \n",
       "210                    7  \n",
       "211                    7  \n",
       "212                    7  \n",
       "213                    7  \n",
       "\n",
       "[195 rows x 10 columns]"
      ]
     },
     "execution_count": 60,
     "metadata": {},
     "output_type": "execute_result"
    }
   ],
   "source": [
    "gi1"
   ]
  },
  {
   "cell_type": "code",
   "execution_count": 61,
   "id": "7fd3212a",
   "metadata": {},
   "outputs": [
    {
     "data": {
      "text/plain": [
       "(214, 10)"
      ]
     },
     "execution_count": 61,
     "metadata": {},
     "output_type": "execute_result"
    }
   ],
   "source": [
    "gi.shape"
   ]
  },
  {
   "cell_type": "code",
   "execution_count": 62,
   "id": "754b6a9d",
   "metadata": {},
   "outputs": [
    {
     "data": {
      "text/plain": [
       "(195, 10)"
      ]
     },
     "execution_count": 62,
     "metadata": {},
     "output_type": "execute_result"
    }
   ],
   "source": [
    "gi1.shape"
   ]
  },
  {
   "cell_type": "markdown",
   "id": "b77e3fcd",
   "metadata": {},
   "source": [
    "So, after removing outliers from data set it can be seen total 19 no. columns are been removed."
   ]
  },
  {
   "cell_type": "code",
   "execution_count": 63,
   "id": "7c144ebc",
   "metadata": {},
   "outputs": [
    {
     "data": {
      "text/plain": [
       "Index(['RI: refractive index', 'Na: Sodium', 'Mg: Magnesium', 'Al: Aluminum',\n",
       "       'Si: Silicon', 'K: Potassium', 'Ca: Calcium', 'Ba: Barium', 'Fe: Iron',\n",
       "       'Type of glass'],\n",
       "      dtype='object')"
      ]
     },
     "execution_count": 63,
     "metadata": {},
     "output_type": "execute_result"
    }
   ],
   "source": [
    "gi1.columns"
   ]
  },
  {
   "cell_type": "code",
   "execution_count": 64,
   "id": "ae2ebe31",
   "metadata": {},
   "outputs": [
    {
     "data": {
      "image/png": "[encoded data removed]",
      "text/plain": [
       "<Figure size 500x500 with 1 Axes>"
      ]
     },
     "metadata": {},
     "output_type": "display_data"
    }
   ],
   "source": [
    "sns.lmplot(x = 'Type of glass', y = 'Na: Sodium', data = gi1)\n",
    "plt.xlabel('Type of glass')\n",
    "plt.ylabel('Na: Sodium')\n",
    "plt.show()"
   ]
  },
  {
   "cell_type": "markdown",
   "id": "b86d2e60",
   "metadata": {},
   "source": [
    "So, a positive corelation between these 2 columns can be seen."
   ]
  },
  {
   "cell_type": "code",
   "execution_count": 65,
   "id": "5ea97d7b",
   "metadata": {},
   "outputs": [
    {
     "data": {
      "image/png": "[encoded data removed]",
      "text/plain": [
       "<Figure size 500x500 with 1 Axes>"
      ]
     },
     "metadata": {},
     "output_type": "display_data"
    }
   ],
   "source": [
    "sns.lmplot(x = 'Type of glass', y = 'RI: refractive index', data = gi1)\n",
    "plt.show()"
   ]
  },
  {
   "cell_type": "markdown",
   "id": "e9452815",
   "metadata": {},
   "source": [
    "So, a little bit of negative correlation can be seen."
   ]
  },
  {
   "cell_type": "code",
   "execution_count": 66,
   "id": "07a85c24",
   "metadata": {},
   "outputs": [
    {
     "data": {
      "text/plain": [
       "Index(['RI: refractive index', 'Na: Sodium', 'Mg: Magnesium', 'Al: Aluminum',\n",
       "       'Si: Silicon', 'K: Potassium', 'Ca: Calcium', 'Ba: Barium', 'Fe: Iron',\n",
       "       'Type of glass'],\n",
       "      dtype='object')"
      ]
     },
     "execution_count": 66,
     "metadata": {},
     "output_type": "execute_result"
    }
   ],
   "source": [
    "gi1.columns"
   ]
  },
  {
   "cell_type": "code",
   "execution_count": 67,
   "id": "b2526547",
   "metadata": {},
   "outputs": [
    {
     "data": {
      "image/png": "[encoded data removed]",
      "text/plain": [
       "<Figure size 500x500 with 1 Axes>"
      ]
     },
     "metadata": {},
     "output_type": "display_data"
    }
   ],
   "source": [
    "sns.lmplot(x = 'Type of glass', y = 'Mg: Magnesium', data = gi1)\n",
    "plt.show()"
   ]
  },
  {
   "cell_type": "markdown",
   "id": "0e7c6774",
   "metadata": {},
   "source": [
    "A highly negative correlation can be seen in this which was suggested in heatmap as well."
   ]
  },
  {
   "cell_type": "code",
   "execution_count": 68,
   "id": "2b5b5cd8",
   "metadata": {},
   "outputs": [
    {
     "data": {
      "image/png": "[encoded data removed]",
      "text/plain": [
       "<Figure size 500x500 with 1 Axes>"
      ]
     },
     "metadata": {},
     "output_type": "display_data"
    }
   ],
   "source": [
    "sns.lmplot(x = 'Type of glass', y = 'Al: Aluminum', data = gi1)\n",
    "plt.show()"
   ]
  },
  {
   "cell_type": "markdown",
   "id": "aa1c5023",
   "metadata": {},
   "source": [
    "A positive correlation can be seen in this columns."
   ]
  },
  {
   "cell_type": "code",
   "execution_count": 69,
   "id": "4337ca74",
   "metadata": {},
   "outputs": [
    {
     "data": {
      "text/plain": [
       "Index(['RI: refractive index', 'Na: Sodium', 'Mg: Magnesium', 'Al: Aluminum',\n",
       "       'Si: Silicon', 'K: Potassium', 'Ca: Calcium', 'Ba: Barium', 'Fe: Iron',\n",
       "       'Type of glass'],\n",
       "      dtype='object')"
      ]
     },
     "execution_count": 69,
     "metadata": {},
     "output_type": "execute_result"
    }
   ],
   "source": [
    "gi1.columns"
   ]
  },
  {
   "cell_type": "code",
   "execution_count": 70,
   "id": "28a21132",
   "metadata": {},
   "outputs": [
    {
     "data": {
      "image/png": "[encoded data removed]",
      "text/plain": [
       "<Figure size 500x500 with 1 Axes>"
      ]
     },
     "metadata": {},
     "output_type": "display_data"
    }
   ],
   "source": [
    "sns.lmplot(x = 'Type of glass', y = 'Si: Silicon', data = gi1)\n",
    "plt.show()"
   ]
  },
  {
   "cell_type": "markdown",
   "id": "cebd9d29",
   "metadata": {},
   "source": [
    "So, a not a positive as well as not a negative correlation can be seen."
   ]
  },
  {
   "cell_type": "code",
   "execution_count": 71,
   "id": "02957150",
   "metadata": {},
   "outputs": [
    {
     "data": {
      "image/png": "[encoded data removed]",
      "text/plain": [
       "<Figure size 500x500 with 1 Axes>"
      ]
     },
     "metadata": {},
     "output_type": "display_data"
    }
   ],
   "source": [
    "sns.lmplot(x = 'Type of glass', y = 'K: Potassium', data = gi1)\n",
    "plt.show()"
   ]
  },
  {
   "cell_type": "markdown",
   "id": "9e1c1698",
   "metadata": {},
   "source": [
    "A highly negative correlation can be seen which was suggested in heatmap as well."
   ]
  },
  {
   "cell_type": "code",
   "execution_count": 72,
   "id": "d5a6f74c",
   "metadata": {},
   "outputs": [
    {
     "data": {
      "image/png": "[encoded data removed]",
      "text/plain": [
       "<Figure size 500x500 with 1 Axes>"
      ]
     },
     "metadata": {},
     "output_type": "display_data"
    }
   ],
   "source": [
    "sns.lmplot(x = 'Type of glass', y = 'Ca: Calcium', data = gi1)\n",
    "plt.show()"
   ]
  },
  {
   "cell_type": "markdown",
   "id": "7c7caef3",
   "metadata": {},
   "source": [
    "Negative or positive relation cannot be seen in above graph."
   ]
  },
  {
   "cell_type": "code",
   "execution_count": 73,
   "id": "eb037d73",
   "metadata": {},
   "outputs": [
    {
     "data": {
      "text/plain": [
       "Index(['RI: refractive index', 'Na: Sodium', 'Mg: Magnesium', 'Al: Aluminum',\n",
       "       'Si: Silicon', 'K: Potassium', 'Ca: Calcium', 'Ba: Barium', 'Fe: Iron',\n",
       "       'Type of glass'],\n",
       "      dtype='object')"
      ]
     },
     "execution_count": 73,
     "metadata": {},
     "output_type": "execute_result"
    }
   ],
   "source": [
    "gi1.columns"
   ]
  },
  {
   "cell_type": "code",
   "execution_count": 74,
   "id": "14ebe9cd",
   "metadata": {},
   "outputs": [
    {
     "data": {
      "text/plain": [
       "<seaborn.axisgrid.FacetGrid at 0x1bbce474160>"
      ]
     },
     "execution_count": 74,
     "metadata": {},
     "output_type": "execute_result"
    },
    {
     "data": {
      "image/png": "[encoded data removed]",
      "text/plain": [
       "<Figure size 500x500 with 1 Axes>"
      ]
     },
     "metadata": {},
     "output_type": "display_data"
    }
   ],
   "source": [
    "sns.lmplot(x='Type of glass', y = 'Ba: Barium', data = gi1)"
   ]
  },
  {
   "cell_type": "markdown",
   "id": "a04f2f9c",
   "metadata": {},
   "source": [
    "A highly positive correlation can be seen."
   ]
  },
  {
   "cell_type": "code",
   "execution_count": 75,
   "id": "2b0bdbfe",
   "metadata": {},
   "outputs": [
    {
     "data": {
      "text/plain": [
       "<seaborn.axisgrid.FacetGrid at 0x1bbcf571760>"
      ]
     },
     "execution_count": 75,
     "metadata": {},
     "output_type": "execute_result"
    },
    {
     "data": {
      "image/png": "[encoded data removed]",
      "text/plain": [
       "<Figure size 500x500 with 1 Axes>"
      ]
     },
     "metadata": {},
     "output_type": "display_data"
    }
   ],
   "source": [
    "sns.lmplot(x='Type of glass', y = 'Fe: Iron', data = gi1)"
   ]
  },
  {
   "cell_type": "markdown",
   "id": "28cf4120",
   "metadata": {},
   "source": [
    "A negative correlation can be seen for this column."
   ]
  },
  {
   "cell_type": "code",
   "execution_count": 76,
   "id": "d7edbd37",
   "metadata": {},
   "outputs": [
    {
     "data": {
      "text/html": [
       "<div>\n",
       "<style scoped>\n",
       "    .dataframe tbody tr th:only-of-type {\n",
       "        vertical-align: middle;\n",
       "    }\n",
       "\n",
       "    .dataframe tbody tr th {\n",
       "        vertical-align: top;\n",
       "    }\n",
       "\n",
       "    .dataframe thead th {\n",
       "        text-align: right;\n",
       "    }\n",
       "</style>\n",
       "<table border=\"1\" class=\"dataframe\">\n",
       "  <thead>\n",
       "    <tr style=\"text-align: right;\">\n",
       "      <th></th>\n",
       "      <th>RI: refractive index</th>\n",
       "      <th>Na: Sodium</th>\n",
       "      <th>Mg: Magnesium</th>\n",
       "      <th>Al: Aluminum</th>\n",
       "      <th>Si: Silicon</th>\n",
       "      <th>K: Potassium</th>\n",
       "      <th>Ca: Calcium</th>\n",
       "      <th>Ba: Barium</th>\n",
       "      <th>Fe: Iron</th>\n",
       "      <th>Type of glass</th>\n",
       "    </tr>\n",
       "    <tr>\n",
       "      <th>Id number</th>\n",
       "      <th></th>\n",
       "      <th></th>\n",
       "      <th></th>\n",
       "      <th></th>\n",
       "      <th></th>\n",
       "      <th></th>\n",
       "      <th></th>\n",
       "      <th></th>\n",
       "      <th></th>\n",
       "      <th></th>\n",
       "    </tr>\n",
       "  </thead>\n",
       "  <tbody>\n",
       "    <tr>\n",
       "      <th>1</th>\n",
       "      <td>0.419375</td>\n",
       "      <td>13.64</td>\n",
       "      <td>9.58005</td>\n",
       "      <td>1.10</td>\n",
       "      <td>71.78</td>\n",
       "      <td>0.391487</td>\n",
       "      <td>2.169054</td>\n",
       "      <td>0.00</td>\n",
       "      <td>0.0</td>\n",
       "      <td>1</td>\n",
       "    </tr>\n",
       "    <tr>\n",
       "      <th>2</th>\n",
       "      <td>0.417137</td>\n",
       "      <td>13.89</td>\n",
       "      <td>5.98000</td>\n",
       "      <td>1.36</td>\n",
       "      <td>72.73</td>\n",
       "      <td>0.782974</td>\n",
       "      <td>2.057963</td>\n",
       "      <td>0.00</td>\n",
       "      <td>0.0</td>\n",
       "      <td>1</td>\n",
       "    </tr>\n",
       "    <tr>\n",
       "      <th>3</th>\n",
       "      <td>0.416194</td>\n",
       "      <td>13.53</td>\n",
       "      <td>5.80125</td>\n",
       "      <td>1.54</td>\n",
       "      <td>72.99</td>\n",
       "      <td>0.730614</td>\n",
       "      <td>2.051556</td>\n",
       "      <td>0.00</td>\n",
       "      <td>0.0</td>\n",
       "      <td>1</td>\n",
       "    </tr>\n",
       "    <tr>\n",
       "      <th>4</th>\n",
       "      <td>0.417170</td>\n",
       "      <td>13.21</td>\n",
       "      <td>6.30805</td>\n",
       "      <td>1.29</td>\n",
       "      <td>72.61</td>\n",
       "      <td>0.829134</td>\n",
       "      <td>2.106570</td>\n",
       "      <td>0.00</td>\n",
       "      <td>0.0</td>\n",
       "      <td>1</td>\n",
       "    </tr>\n",
       "    <tr>\n",
       "      <th>5</th>\n",
       "      <td>0.417012</td>\n",
       "      <td>13.27</td>\n",
       "      <td>6.05220</td>\n",
       "      <td>1.24</td>\n",
       "      <td>73.08</td>\n",
       "      <td>0.819321</td>\n",
       "      <td>2.088153</td>\n",
       "      <td>0.00</td>\n",
       "      <td>0.0</td>\n",
       "      <td>1</td>\n",
       "    </tr>\n",
       "    <tr>\n",
       "      <th>...</th>\n",
       "      <td>...</td>\n",
       "      <td>...</td>\n",
       "      <td>...</td>\n",
       "      <td>...</td>\n",
       "      <td>...</td>\n",
       "      <td>...</td>\n",
       "      <td>...</td>\n",
       "      <td>...</td>\n",
       "      <td>...</td>\n",
       "      <td>...</td>\n",
       "    </tr>\n",
       "    <tr>\n",
       "      <th>209</th>\n",
       "      <td>0.416339</td>\n",
       "      <td>14.37</td>\n",
       "      <td>-0.50000</td>\n",
       "      <td>2.74</td>\n",
       "      <td>72.85</td>\n",
       "      <td>0.000000</td>\n",
       "      <td>2.246015</td>\n",
       "      <td>0.54</td>\n",
       "      <td>0.0</td>\n",
       "      <td>7</td>\n",
       "    </tr>\n",
       "    <tr>\n",
       "      <th>210</th>\n",
       "      <td>0.416227</td>\n",
       "      <td>14.14</td>\n",
       "      <td>-0.50000</td>\n",
       "      <td>2.88</td>\n",
       "      <td>72.61</td>\n",
       "      <td>0.430887</td>\n",
       "      <td>2.217027</td>\n",
       "      <td>1.06</td>\n",
       "      <td>0.0</td>\n",
       "      <td>7</td>\n",
       "    </tr>\n",
       "    <tr>\n",
       "      <th>211</th>\n",
       "      <td>0.416636</td>\n",
       "      <td>14.92</td>\n",
       "      <td>-0.50000</td>\n",
       "      <td>1.99</td>\n",
       "      <td>73.06</td>\n",
       "      <td>0.000000</td>\n",
       "      <td>2.128232</td>\n",
       "      <td>1.59</td>\n",
       "      <td>0.0</td>\n",
       "      <td>7</td>\n",
       "    </tr>\n",
       "    <tr>\n",
       "      <th>212</th>\n",
       "      <td>0.419138</td>\n",
       "      <td>14.36</td>\n",
       "      <td>-0.50000</td>\n",
       "      <td>2.02</td>\n",
       "      <td>73.42</td>\n",
       "      <td>0.000000</td>\n",
       "      <td>2.132982</td>\n",
       "      <td>1.64</td>\n",
       "      <td>0.0</td>\n",
       "      <td>7</td>\n",
       "    </tr>\n",
       "    <tr>\n",
       "      <th>213</th>\n",
       "      <td>0.416412</td>\n",
       "      <td>14.38</td>\n",
       "      <td>-0.50000</td>\n",
       "      <td>1.94</td>\n",
       "      <td>73.61</td>\n",
       "      <td>0.000000</td>\n",
       "      <td>2.137710</td>\n",
       "      <td>1.57</td>\n",
       "      <td>0.0</td>\n",
       "      <td>7</td>\n",
       "    </tr>\n",
       "  </tbody>\n",
       "</table>\n",
       "<p>195 rows × 10 columns</p>\n",
       "</div>"
      ],
      "text/plain": [
       "           RI: refractive index  Na: Sodium  Mg: Magnesium  Al: Aluminum  \\\n",
       "Id number                                                                  \n",
       "1                      0.419375       13.64        9.58005          1.10   \n",
       "2                      0.417137       13.89        5.98000          1.36   \n",
       "3                      0.416194       13.53        5.80125          1.54   \n",
       "4                      0.417170       13.21        6.30805          1.29   \n",
       "5                      0.417012       13.27        6.05220          1.24   \n",
       "...                         ...         ...            ...           ...   \n",
       "209                    0.416339       14.37       -0.50000          2.74   \n",
       "210                    0.416227       14.14       -0.50000          2.88   \n",
       "211                    0.416636       14.92       -0.50000          1.99   \n",
       "212                    0.419138       14.36       -0.50000          2.02   \n",
       "213                    0.416412       14.38       -0.50000          1.94   \n",
       "\n",
       "           Si: Silicon  K: Potassium  Ca: Calcium  Ba: Barium  Fe: Iron  \\\n",
       "Id number                                                                 \n",
       "1                71.78      0.391487     2.169054        0.00       0.0   \n",
       "2                72.73      0.782974     2.057963        0.00       0.0   \n",
       "3                72.99      0.730614     2.051556        0.00       0.0   \n",
       "4                72.61      0.829134     2.106570        0.00       0.0   \n",
       "5                73.08      0.819321     2.088153        0.00       0.0   \n",
       "...                ...           ...          ...         ...       ...   \n",
       "209              72.85      0.000000     2.246015        0.54       0.0   \n",
       "210              72.61      0.430887     2.217027        1.06       0.0   \n",
       "211              73.06      0.000000     2.128232        1.59       0.0   \n",
       "212              73.42      0.000000     2.132982        1.64       0.0   \n",
       "213              73.61      0.000000     2.137710        1.57       0.0   \n",
       "\n",
       "           Type of glass  \n",
       "Id number                 \n",
       "1                      1  \n",
       "2                      1  \n",
       "3                      1  \n",
       "4                      1  \n",
       "5                      1  \n",
       "...                  ...  \n",
       "209                    7  \n",
       "210                    7  \n",
       "211                    7  \n",
       "212                    7  \n",
       "213                    7  \n",
       "\n",
       "[195 rows x 10 columns]"
      ]
     },
     "execution_count": 76,
     "metadata": {},
     "output_type": "execute_result"
    }
   ],
   "source": [
    "gi1"
   ]
  },
  {
   "cell_type": "code",
   "execution_count": 77,
   "id": "65eaa372",
   "metadata": {},
   "outputs": [
    {
     "data": {
      "text/plain": [
       "1    70\n",
       "2    70\n",
       "7    22\n",
       "3    16\n",
       "5     9\n",
       "6     8\n",
       "Name: Type of glass, dtype: int64"
      ]
     },
     "execution_count": 77,
     "metadata": {},
     "output_type": "execute_result"
    }
   ],
   "source": [
    "gi1['Type of glass'].value_counts()"
   ]
  },
  {
   "cell_type": "code",
   "execution_count": 78,
   "id": "a1e7b0ae",
   "metadata": {},
   "outputs": [
    {
     "name": "stderr",
     "output_type": "stream",
     "text": [
      "C:\\Users\\Kushal Kulkarni\\anaconda3new\\lib\\site-packages\\seaborn\\_decorators.py:36: FutureWarning: Pass the following variable as a keyword arg: x. From version 0.12, the only valid positional argument will be `data`, and passing other arguments without an explicit keyword will result in an error or misinterpretation.\n",
      "  warnings.warn(\n"
     ]
    },
    {
     "data": {
      "text/plain": [
       "<AxesSubplot:xlabel='Type of glass', ylabel='count'>"
      ]
     },
     "execution_count": 78,
     "metadata": {},
     "output_type": "execute_result"
    },
    {
     "data": {
      "image/png": "[encoded data removed]",
      "text/plain": [
       "<Figure size 640x480 with 1 Axes>"
      ]
     },
     "metadata": {},
     "output_type": "display_data"
    }
   ],
   "source": [
    "sns.countplot(gi1['Type of glass'])"
   ]
  },
  {
   "cell_type": "markdown",
   "id": "1162b371",
   "metadata": {},
   "source": [
    "Here we can see that is huge difference between the all values of results as type of glass, which may lead our model not learn properly and mislead it. So we will resample our data and try to make our data equal."
   ]
  },
  {
   "cell_type": "code",
   "execution_count": 79,
   "id": "386d582d",
   "metadata": {},
   "outputs": [],
   "source": [
    "from imblearn.over_sampling import SMOTE"
   ]
  },
  {
   "cell_type": "code",
   "execution_count": 80,
   "id": "d4d8a78d",
   "metadata": {},
   "outputs": [],
   "source": [
    "sm = SMOTE(random_state = 42)"
   ]
  },
  {
   "cell_type": "code",
   "execution_count": 81,
   "id": "988e27ad",
   "metadata": {},
   "outputs": [],
   "source": [
    "x = gi1.iloc[:,:-1]\n",
    "y = gi1.iloc[:,-1]"
   ]
  },
  {
   "cell_type": "code",
   "execution_count": 82,
   "id": "477c0545",
   "metadata": {},
   "outputs": [
    {
     "data": {
      "text/html": [
       "<div>\n",
       "<style scoped>\n",
       "    .dataframe tbody tr th:only-of-type {\n",
       "        vertical-align: middle;\n",
       "    }\n",
       "\n",
       "    .dataframe tbody tr th {\n",
       "        vertical-align: top;\n",
       "    }\n",
       "\n",
       "    .dataframe thead th {\n",
       "        text-align: right;\n",
       "    }\n",
       "</style>\n",
       "<table border=\"1\" class=\"dataframe\">\n",
       "  <thead>\n",
       "    <tr style=\"text-align: right;\">\n",
       "      <th></th>\n",
       "      <th>RI: refractive index</th>\n",
       "      <th>Na: Sodium</th>\n",
       "      <th>Mg: Magnesium</th>\n",
       "      <th>Al: Aluminum</th>\n",
       "      <th>Si: Silicon</th>\n",
       "      <th>K: Potassium</th>\n",
       "      <th>Ca: Calcium</th>\n",
       "      <th>Ba: Barium</th>\n",
       "      <th>Fe: Iron</th>\n",
       "    </tr>\n",
       "    <tr>\n",
       "      <th>Id number</th>\n",
       "      <th></th>\n",
       "      <th></th>\n",
       "      <th></th>\n",
       "      <th></th>\n",
       "      <th></th>\n",
       "      <th></th>\n",
       "      <th></th>\n",
       "      <th></th>\n",
       "      <th></th>\n",
       "    </tr>\n",
       "  </thead>\n",
       "  <tbody>\n",
       "    <tr>\n",
       "      <th>1</th>\n",
       "      <td>0.419375</td>\n",
       "      <td>13.64</td>\n",
       "      <td>9.58005</td>\n",
       "      <td>1.10</td>\n",
       "      <td>71.78</td>\n",
       "      <td>0.391487</td>\n",
       "      <td>2.169054</td>\n",
       "      <td>0.00</td>\n",
       "      <td>0.0</td>\n",
       "    </tr>\n",
       "    <tr>\n",
       "      <th>2</th>\n",
       "      <td>0.417137</td>\n",
       "      <td>13.89</td>\n",
       "      <td>5.98000</td>\n",
       "      <td>1.36</td>\n",
       "      <td>72.73</td>\n",
       "      <td>0.782974</td>\n",
       "      <td>2.057963</td>\n",
       "      <td>0.00</td>\n",
       "      <td>0.0</td>\n",
       "    </tr>\n",
       "    <tr>\n",
       "      <th>3</th>\n",
       "      <td>0.416194</td>\n",
       "      <td>13.53</td>\n",
       "      <td>5.80125</td>\n",
       "      <td>1.54</td>\n",
       "      <td>72.99</td>\n",
       "      <td>0.730614</td>\n",
       "      <td>2.051556</td>\n",
       "      <td>0.00</td>\n",
       "      <td>0.0</td>\n",
       "    </tr>\n",
       "    <tr>\n",
       "      <th>4</th>\n",
       "      <td>0.417170</td>\n",
       "      <td>13.21</td>\n",
       "      <td>6.30805</td>\n",
       "      <td>1.29</td>\n",
       "      <td>72.61</td>\n",
       "      <td>0.829134</td>\n",
       "      <td>2.106570</td>\n",
       "      <td>0.00</td>\n",
       "      <td>0.0</td>\n",
       "    </tr>\n",
       "    <tr>\n",
       "      <th>5</th>\n",
       "      <td>0.417012</td>\n",
       "      <td>13.27</td>\n",
       "      <td>6.05220</td>\n",
       "      <td>1.24</td>\n",
       "      <td>73.08</td>\n",
       "      <td>0.819321</td>\n",
       "      <td>2.088153</td>\n",
       "      <td>0.00</td>\n",
       "      <td>0.0</td>\n",
       "    </tr>\n",
       "    <tr>\n",
       "      <th>...</th>\n",
       "      <td>...</td>\n",
       "      <td>...</td>\n",
       "      <td>...</td>\n",
       "      <td>...</td>\n",
       "      <td>...</td>\n",
       "      <td>...</td>\n",
       "      <td>...</td>\n",
       "      <td>...</td>\n",
       "      <td>...</td>\n",
       "    </tr>\n",
       "    <tr>\n",
       "      <th>209</th>\n",
       "      <td>0.416339</td>\n",
       "      <td>14.37</td>\n",
       "      <td>-0.50000</td>\n",
       "      <td>2.74</td>\n",
       "      <td>72.85</td>\n",
       "      <td>0.000000</td>\n",
       "      <td>2.246015</td>\n",
       "      <td>0.54</td>\n",
       "      <td>0.0</td>\n",
       "    </tr>\n",
       "    <tr>\n",
       "      <th>210</th>\n",
       "      <td>0.416227</td>\n",
       "      <td>14.14</td>\n",
       "      <td>-0.50000</td>\n",
       "      <td>2.88</td>\n",
       "      <td>72.61</td>\n",
       "      <td>0.430887</td>\n",
       "      <td>2.217027</td>\n",
       "      <td>1.06</td>\n",
       "      <td>0.0</td>\n",
       "    </tr>\n",
       "    <tr>\n",
       "      <th>211</th>\n",
       "      <td>0.416636</td>\n",
       "      <td>14.92</td>\n",
       "      <td>-0.50000</td>\n",
       "      <td>1.99</td>\n",
       "      <td>73.06</td>\n",
       "      <td>0.000000</td>\n",
       "      <td>2.128232</td>\n",
       "      <td>1.59</td>\n",
       "      <td>0.0</td>\n",
       "    </tr>\n",
       "    <tr>\n",
       "      <th>212</th>\n",
       "      <td>0.419138</td>\n",
       "      <td>14.36</td>\n",
       "      <td>-0.50000</td>\n",
       "      <td>2.02</td>\n",
       "      <td>73.42</td>\n",
       "      <td>0.000000</td>\n",
       "      <td>2.132982</td>\n",
       "      <td>1.64</td>\n",
       "      <td>0.0</td>\n",
       "    </tr>\n",
       "    <tr>\n",
       "      <th>213</th>\n",
       "      <td>0.416412</td>\n",
       "      <td>14.38</td>\n",
       "      <td>-0.50000</td>\n",
       "      <td>1.94</td>\n",
       "      <td>73.61</td>\n",
       "      <td>0.000000</td>\n",
       "      <td>2.137710</td>\n",
       "      <td>1.57</td>\n",
       "      <td>0.0</td>\n",
       "    </tr>\n",
       "  </tbody>\n",
       "</table>\n",
       "<p>195 rows × 9 columns</p>\n",
       "</div>"
      ],
      "text/plain": [
       "           RI: refractive index  Na: Sodium  Mg: Magnesium  Al: Aluminum  \\\n",
       "Id number                                                                  \n",
       "1                      0.419375       13.64        9.58005          1.10   \n",
       "2                      0.417137       13.89        5.98000          1.36   \n",
       "3                      0.416194       13.53        5.80125          1.54   \n",
       "4                      0.417170       13.21        6.30805          1.29   \n",
       "5                      0.417012       13.27        6.05220          1.24   \n",
       "...                         ...         ...            ...           ...   \n",
       "209                    0.416339       14.37       -0.50000          2.74   \n",
       "210                    0.416227       14.14       -0.50000          2.88   \n",
       "211                    0.416636       14.92       -0.50000          1.99   \n",
       "212                    0.419138       14.36       -0.50000          2.02   \n",
       "213                    0.416412       14.38       -0.50000          1.94   \n",
       "\n",
       "           Si: Silicon  K: Potassium  Ca: Calcium  Ba: Barium  Fe: Iron  \n",
       "Id number                                                                \n",
       "1                71.78      0.391487     2.169054        0.00       0.0  \n",
       "2                72.73      0.782974     2.057963        0.00       0.0  \n",
       "3                72.99      0.730614     2.051556        0.00       0.0  \n",
       "4                72.61      0.829134     2.106570        0.00       0.0  \n",
       "5                73.08      0.819321     2.088153        0.00       0.0  \n",
       "...                ...           ...          ...         ...       ...  \n",
       "209              72.85      0.000000     2.246015        0.54       0.0  \n",
       "210              72.61      0.430887     2.217027        1.06       0.0  \n",
       "211              73.06      0.000000     2.128232        1.59       0.0  \n",
       "212              73.42      0.000000     2.132982        1.64       0.0  \n",
       "213              73.61      0.000000     2.137710        1.57       0.0  \n",
       "\n",
       "[195 rows x 9 columns]"
      ]
     },
     "execution_count": 82,
     "metadata": {},
     "output_type": "execute_result"
    }
   ],
   "source": [
    "x"
   ]
  },
  {
   "cell_type": "code",
   "execution_count": 83,
   "id": "fe4cf03d",
   "metadata": {},
   "outputs": [
    {
     "data": {
      "text/plain": [
       "Id number\n",
       "1      1\n",
       "2      1\n",
       "3      1\n",
       "4      1\n",
       "5      1\n",
       "      ..\n",
       "209    7\n",
       "210    7\n",
       "211    7\n",
       "212    7\n",
       "213    7\n",
       "Name: Type of glass, Length: 195, dtype: int64"
      ]
     },
     "execution_count": 83,
     "metadata": {},
     "output_type": "execute_result"
    }
   ],
   "source": [
    "y"
   ]
  },
  {
   "cell_type": "code",
   "execution_count": 84,
   "id": "85361b75",
   "metadata": {},
   "outputs": [],
   "source": [
    "x_resam, y_resam = sm.fit_resample(x,y)"
   ]
  },
  {
   "cell_type": "code",
   "execution_count": 85,
   "id": "95b02f4d",
   "metadata": {},
   "outputs": [],
   "source": [
    "gi_resam = pd.DataFrame(x_resam, columns = x.columns)"
   ]
  },
  {
   "cell_type": "code",
   "execution_count": 86,
   "id": "dc906940",
   "metadata": {},
   "outputs": [],
   "source": [
    "gi_resam['Type of glass'] = y_resam"
   ]
  },
  {
   "cell_type": "code",
   "execution_count": 87,
   "id": "6b1bab3b",
   "metadata": {},
   "outputs": [
    {
     "data": {
      "text/html": [
       "<div>\n",
       "<style scoped>\n",
       "    .dataframe tbody tr th:only-of-type {\n",
       "        vertical-align: middle;\n",
       "    }\n",
       "\n",
       "    .dataframe tbody tr th {\n",
       "        vertical-align: top;\n",
       "    }\n",
       "\n",
       "    .dataframe thead th {\n",
       "        text-align: right;\n",
       "    }\n",
       "</style>\n",
       "<table border=\"1\" class=\"dataframe\">\n",
       "  <thead>\n",
       "    <tr style=\"text-align: right;\">\n",
       "      <th></th>\n",
       "      <th>RI: refractive index</th>\n",
       "      <th>Na: Sodium</th>\n",
       "      <th>Mg: Magnesium</th>\n",
       "      <th>Al: Aluminum</th>\n",
       "      <th>Si: Silicon</th>\n",
       "      <th>K: Potassium</th>\n",
       "      <th>Ca: Calcium</th>\n",
       "      <th>Ba: Barium</th>\n",
       "      <th>Fe: Iron</th>\n",
       "      <th>Type of glass</th>\n",
       "    </tr>\n",
       "  </thead>\n",
       "  <tbody>\n",
       "    <tr>\n",
       "      <th>0</th>\n",
       "      <td>0.419375</td>\n",
       "      <td>13.640000</td>\n",
       "      <td>9.58005</td>\n",
       "      <td>1.100000</td>\n",
       "      <td>71.780000</td>\n",
       "      <td>0.391487</td>\n",
       "      <td>2.169054</td>\n",
       "      <td>0.000000</td>\n",
       "      <td>0.000000</td>\n",
       "      <td>1</td>\n",
       "    </tr>\n",
       "    <tr>\n",
       "      <th>1</th>\n",
       "      <td>0.417137</td>\n",
       "      <td>13.890000</td>\n",
       "      <td>5.98000</td>\n",
       "      <td>1.360000</td>\n",
       "      <td>72.730000</td>\n",
       "      <td>0.782974</td>\n",
       "      <td>2.057963</td>\n",
       "      <td>0.000000</td>\n",
       "      <td>0.000000</td>\n",
       "      <td>1</td>\n",
       "    </tr>\n",
       "    <tr>\n",
       "      <th>2</th>\n",
       "      <td>0.416194</td>\n",
       "      <td>13.530000</td>\n",
       "      <td>5.80125</td>\n",
       "      <td>1.540000</td>\n",
       "      <td>72.990000</td>\n",
       "      <td>0.730614</td>\n",
       "      <td>2.051556</td>\n",
       "      <td>0.000000</td>\n",
       "      <td>0.000000</td>\n",
       "      <td>1</td>\n",
       "    </tr>\n",
       "    <tr>\n",
       "      <th>3</th>\n",
       "      <td>0.417170</td>\n",
       "      <td>13.210000</td>\n",
       "      <td>6.30805</td>\n",
       "      <td>1.290000</td>\n",
       "      <td>72.610000</td>\n",
       "      <td>0.829134</td>\n",
       "      <td>2.106570</td>\n",
       "      <td>0.000000</td>\n",
       "      <td>0.000000</td>\n",
       "      <td>1</td>\n",
       "    </tr>\n",
       "    <tr>\n",
       "      <th>4</th>\n",
       "      <td>0.417012</td>\n",
       "      <td>13.270000</td>\n",
       "      <td>6.05220</td>\n",
       "      <td>1.240000</td>\n",
       "      <td>73.080000</td>\n",
       "      <td>0.819321</td>\n",
       "      <td>2.088153</td>\n",
       "      <td>0.000000</td>\n",
       "      <td>0.000000</td>\n",
       "      <td>1</td>\n",
       "    </tr>\n",
       "    <tr>\n",
       "      <th>...</th>\n",
       "      <td>...</td>\n",
       "      <td>...</td>\n",
       "      <td>...</td>\n",
       "      <td>...</td>\n",
       "      <td>...</td>\n",
       "      <td>...</td>\n",
       "      <td>...</td>\n",
       "      <td>...</td>\n",
       "      <td>...</td>\n",
       "      <td>...</td>\n",
       "    </tr>\n",
       "    <tr>\n",
       "      <th>415</th>\n",
       "      <td>0.415731</td>\n",
       "      <td>15.022980</td>\n",
       "      <td>-0.50000</td>\n",
       "      <td>2.305042</td>\n",
       "      <td>73.406852</td>\n",
       "      <td>0.000000</td>\n",
       "      <td>2.141866</td>\n",
       "      <td>0.634234</td>\n",
       "      <td>0.038106</td>\n",
       "      <td>7</td>\n",
       "    </tr>\n",
       "    <tr>\n",
       "      <th>416</th>\n",
       "      <td>0.415713</td>\n",
       "      <td>15.031536</td>\n",
       "      <td>-0.50000</td>\n",
       "      <td>2.301335</td>\n",
       "      <td>73.413126</td>\n",
       "      <td>0.000000</td>\n",
       "      <td>2.140465</td>\n",
       "      <td>0.633949</td>\n",
       "      <td>0.035539</td>\n",
       "      <td>7</td>\n",
       "    </tr>\n",
       "    <tr>\n",
       "      <th>417</th>\n",
       "      <td>0.416700</td>\n",
       "      <td>14.773372</td>\n",
       "      <td>-0.50000</td>\n",
       "      <td>2.319456</td>\n",
       "      <td>73.285870</td>\n",
       "      <td>0.000000</td>\n",
       "      <td>2.183676</td>\n",
       "      <td>0.662935</td>\n",
       "      <td>0.000000</td>\n",
       "      <td>7</td>\n",
       "    </tr>\n",
       "    <tr>\n",
       "      <th>418</th>\n",
       "      <td>0.415477</td>\n",
       "      <td>15.145776</td>\n",
       "      <td>-0.50000</td>\n",
       "      <td>2.251830</td>\n",
       "      <td>73.496902</td>\n",
       "      <td>0.000000</td>\n",
       "      <td>2.121755</td>\n",
       "      <td>0.630141</td>\n",
       "      <td>0.001267</td>\n",
       "      <td>7</td>\n",
       "    </tr>\n",
       "    <tr>\n",
       "      <th>419</th>\n",
       "      <td>0.415638</td>\n",
       "      <td>14.332278</td>\n",
       "      <td>-0.50000</td>\n",
       "      <td>2.663977</td>\n",
       "      <td>73.157664</td>\n",
       "      <td>0.359671</td>\n",
       "      <td>2.205855</td>\n",
       "      <td>0.634035</td>\n",
       "      <td>0.009942</td>\n",
       "      <td>7</td>\n",
       "    </tr>\n",
       "  </tbody>\n",
       "</table>\n",
       "<p>420 rows × 10 columns</p>\n",
       "</div>"
      ],
      "text/plain": [
       "     RI: refractive index  Na: Sodium  Mg: Magnesium  Al: Aluminum  \\\n",
       "0                0.419375   13.640000        9.58005      1.100000   \n",
       "1                0.417137   13.890000        5.98000      1.360000   \n",
       "2                0.416194   13.530000        5.80125      1.540000   \n",
       "3                0.417170   13.210000        6.30805      1.290000   \n",
       "4                0.417012   13.270000        6.05220      1.240000   \n",
       "..                    ...         ...            ...           ...   \n",
       "415              0.415731   15.022980       -0.50000      2.305042   \n",
       "416              0.415713   15.031536       -0.50000      2.301335   \n",
       "417              0.416700   14.773372       -0.50000      2.319456   \n",
       "418              0.415477   15.145776       -0.50000      2.251830   \n",
       "419              0.415638   14.332278       -0.50000      2.663977   \n",
       "\n",
       "     Si: Silicon  K: Potassium  Ca: Calcium  Ba: Barium  Fe: Iron  \\\n",
       "0      71.780000      0.391487     2.169054    0.000000  0.000000   \n",
       "1      72.730000      0.782974     2.057963    0.000000  0.000000   \n",
       "2      72.990000      0.730614     2.051556    0.000000  0.000000   \n",
       "3      72.610000      0.829134     2.106570    0.000000  0.000000   \n",
       "4      73.080000      0.819321     2.088153    0.000000  0.000000   \n",
       "..           ...           ...          ...         ...       ...   \n",
       "415    73.406852      0.000000     2.141866    0.634234  0.038106   \n",
       "416    73.413126      0.000000     2.140465    0.633949  0.035539   \n",
       "417    73.285870      0.000000     2.183676    0.662935  0.000000   \n",
       "418    73.496902      0.000000     2.121755    0.630141  0.001267   \n",
       "419    73.157664      0.359671     2.205855    0.634035  0.009942   \n",
       "\n",
       "     Type of glass  \n",
       "0                1  \n",
       "1                1  \n",
       "2                1  \n",
       "3                1  \n",
       "4                1  \n",
       "..             ...  \n",
       "415              7  \n",
       "416              7  \n",
       "417              7  \n",
       "418              7  \n",
       "419              7  \n",
       "\n",
       "[420 rows x 10 columns]"
      ]
     },
     "execution_count": 87,
     "metadata": {},
     "output_type": "execute_result"
    }
   ],
   "source": [
    "gi_resam"
   ]
  },
  {
   "cell_type": "markdown",
   "id": "d44668d3",
   "metadata": {},
   "source": [
    "So we can see that the row numbers in the data has increased."
   ]
  },
  {
   "cell_type": "code",
   "execution_count": 88,
   "id": "9cd80265",
   "metadata": {},
   "outputs": [
    {
     "data": {
      "text/plain": [
       "1    70\n",
       "2    70\n",
       "3    70\n",
       "5    70\n",
       "6    70\n",
       "7    70\n",
       "Name: Type of glass, dtype: int64"
      ]
     },
     "execution_count": 88,
     "metadata": {},
     "output_type": "execute_result"
    }
   ],
   "source": [
    "gi_resam['Type of glass'].value_counts()"
   ]
  },
  {
   "cell_type": "code",
   "execution_count": 89,
   "id": "7ebf7216",
   "metadata": {},
   "outputs": [
    {
     "name": "stderr",
     "output_type": "stream",
     "text": [
      "C:\\Users\\Kushal Kulkarni\\anaconda3new\\lib\\site-packages\\seaborn\\_decorators.py:36: FutureWarning: Pass the following variable as a keyword arg: x. From version 0.12, the only valid positional argument will be `data`, and passing other arguments without an explicit keyword will result in an error or misinterpretation.\n",
      "  warnings.warn(\n"
     ]
    },
    {
     "data": {
      "text/plain": [
       "<AxesSubplot:xlabel='Type of glass', ylabel='count'>"
      ]
     },
     "execution_count": 89,
     "metadata": {},
     "output_type": "execute_result"
    },
    {
     "data": {
      "image/png": "[encoded data removed]",
      "text/plain": [
       "<Figure size 640x480 with 1 Axes>"
      ]
     },
     "metadata": {},
     "output_type": "display_data"
    }
   ],
   "source": [
    "sns.countplot(gi_resam['Type of glass'])"
   ]
  },
  {
   "cell_type": "markdown",
   "id": "ac5809b1",
   "metadata": {},
   "source": [
    "So, we have resampled our data with equal number of values in our target variable."
   ]
  },
  {
   "cell_type": "markdown",
   "id": "f9eec0a7",
   "metadata": {},
   "source": [
    "As instructed, the glass has to be defined in 2 parts (1-4) is window glass and (5-7) is a non- window glass. So in y1 we will change the values first and then encode it again so the prediction done by the model will be only for 2 classes."
   ]
  },
  {
   "cell_type": "code",
   "execution_count": 90,
   "id": "70e4266e",
   "metadata": {},
   "outputs": [],
   "source": [
    "def map_values(i):\n",
    "    if i >=1 and i <=4:\n",
    "        return 'Window Glass'\n",
    "    else:\n",
    "        return 'Non Window Glass'"
   ]
  },
  {
   "cell_type": "code",
   "execution_count": 91,
   "id": "ebd430e4",
   "metadata": {},
   "outputs": [],
   "source": [
    "gi_resam['Type of glass'] = gi_resam['Type of glass'].apply(map_values)"
   ]
  },
  {
   "cell_type": "markdown",
   "id": "78220f6c",
   "metadata": {},
   "source": [
    "Now we will again seprate our independent variables and target variable in x and y."
   ]
  },
  {
   "cell_type": "code",
   "execution_count": 92,
   "id": "7e8f496b",
   "metadata": {},
   "outputs": [
    {
     "data": {
      "text/html": [
       "<div>\n",
       "<style scoped>\n",
       "    .dataframe tbody tr th:only-of-type {\n",
       "        vertical-align: middle;\n",
       "    }\n",
       "\n",
       "    .dataframe tbody tr th {\n",
       "        vertical-align: top;\n",
       "    }\n",
       "\n",
       "    .dataframe thead th {\n",
       "        text-align: right;\n",
       "    }\n",
       "</style>\n",
       "<table border=\"1\" class=\"dataframe\">\n",
       "  <thead>\n",
       "    <tr style=\"text-align: right;\">\n",
       "      <th></th>\n",
       "      <th>RI: refractive index</th>\n",
       "      <th>Na: Sodium</th>\n",
       "      <th>Mg: Magnesium</th>\n",
       "      <th>Al: Aluminum</th>\n",
       "      <th>Si: Silicon</th>\n",
       "      <th>K: Potassium</th>\n",
       "      <th>Ca: Calcium</th>\n",
       "      <th>Ba: Barium</th>\n",
       "      <th>Fe: Iron</th>\n",
       "      <th>Type of glass</th>\n",
       "    </tr>\n",
       "  </thead>\n",
       "  <tbody>\n",
       "    <tr>\n",
       "      <th>0</th>\n",
       "      <td>0.419375</td>\n",
       "      <td>13.640000</td>\n",
       "      <td>9.58005</td>\n",
       "      <td>1.100000</td>\n",
       "      <td>71.780000</td>\n",
       "      <td>0.391487</td>\n",
       "      <td>2.169054</td>\n",
       "      <td>0.000000</td>\n",
       "      <td>0.000000</td>\n",
       "      <td>Window Glass</td>\n",
       "    </tr>\n",
       "    <tr>\n",
       "      <th>1</th>\n",
       "      <td>0.417137</td>\n",
       "      <td>13.890000</td>\n",
       "      <td>5.98000</td>\n",
       "      <td>1.360000</td>\n",
       "      <td>72.730000</td>\n",
       "      <td>0.782974</td>\n",
       "      <td>2.057963</td>\n",
       "      <td>0.000000</td>\n",
       "      <td>0.000000</td>\n",
       "      <td>Window Glass</td>\n",
       "    </tr>\n",
       "    <tr>\n",
       "      <th>2</th>\n",
       "      <td>0.416194</td>\n",
       "      <td>13.530000</td>\n",
       "      <td>5.80125</td>\n",
       "      <td>1.540000</td>\n",
       "      <td>72.990000</td>\n",
       "      <td>0.730614</td>\n",
       "      <td>2.051556</td>\n",
       "      <td>0.000000</td>\n",
       "      <td>0.000000</td>\n",
       "      <td>Window Glass</td>\n",
       "    </tr>\n",
       "    <tr>\n",
       "      <th>3</th>\n",
       "      <td>0.417170</td>\n",
       "      <td>13.210000</td>\n",
       "      <td>6.30805</td>\n",
       "      <td>1.290000</td>\n",
       "      <td>72.610000</td>\n",
       "      <td>0.829134</td>\n",
       "      <td>2.106570</td>\n",
       "      <td>0.000000</td>\n",
       "      <td>0.000000</td>\n",
       "      <td>Window Glass</td>\n",
       "    </tr>\n",
       "    <tr>\n",
       "      <th>4</th>\n",
       "      <td>0.417012</td>\n",
       "      <td>13.270000</td>\n",
       "      <td>6.05220</td>\n",
       "      <td>1.240000</td>\n",
       "      <td>73.080000</td>\n",
       "      <td>0.819321</td>\n",
       "      <td>2.088153</td>\n",
       "      <td>0.000000</td>\n",
       "      <td>0.000000</td>\n",
       "      <td>Window Glass</td>\n",
       "    </tr>\n",
       "    <tr>\n",
       "      <th>...</th>\n",
       "      <td>...</td>\n",
       "      <td>...</td>\n",
       "      <td>...</td>\n",
       "      <td>...</td>\n",
       "      <td>...</td>\n",
       "      <td>...</td>\n",
       "      <td>...</td>\n",
       "      <td>...</td>\n",
       "      <td>...</td>\n",
       "      <td>...</td>\n",
       "    </tr>\n",
       "    <tr>\n",
       "      <th>415</th>\n",
       "      <td>0.415731</td>\n",
       "      <td>15.022980</td>\n",
       "      <td>-0.50000</td>\n",
       "      <td>2.305042</td>\n",
       "      <td>73.406852</td>\n",
       "      <td>0.000000</td>\n",
       "      <td>2.141866</td>\n",
       "      <td>0.634234</td>\n",
       "      <td>0.038106</td>\n",
       "      <td>Non Window Glass</td>\n",
       "    </tr>\n",
       "    <tr>\n",
       "      <th>416</th>\n",
       "      <td>0.415713</td>\n",
       "      <td>15.031536</td>\n",
       "      <td>-0.50000</td>\n",
       "      <td>2.301335</td>\n",
       "      <td>73.413126</td>\n",
       "      <td>0.000000</td>\n",
       "      <td>2.140465</td>\n",
       "      <td>0.633949</td>\n",
       "      <td>0.035539</td>\n",
       "      <td>Non Window Glass</td>\n",
       "    </tr>\n",
       "    <tr>\n",
       "      <th>417</th>\n",
       "      <td>0.416700</td>\n",
       "      <td>14.773372</td>\n",
       "      <td>-0.50000</td>\n",
       "      <td>2.319456</td>\n",
       "      <td>73.285870</td>\n",
       "      <td>0.000000</td>\n",
       "      <td>2.183676</td>\n",
       "      <td>0.662935</td>\n",
       "      <td>0.000000</td>\n",
       "      <td>Non Window Glass</td>\n",
       "    </tr>\n",
       "    <tr>\n",
       "      <th>418</th>\n",
       "      <td>0.415477</td>\n",
       "      <td>15.145776</td>\n",
       "      <td>-0.50000</td>\n",
       "      <td>2.251830</td>\n",
       "      <td>73.496902</td>\n",
       "      <td>0.000000</td>\n",
       "      <td>2.121755</td>\n",
       "      <td>0.630141</td>\n",
       "      <td>0.001267</td>\n",
       "      <td>Non Window Glass</td>\n",
       "    </tr>\n",
       "    <tr>\n",
       "      <th>419</th>\n",
       "      <td>0.415638</td>\n",
       "      <td>14.332278</td>\n",
       "      <td>-0.50000</td>\n",
       "      <td>2.663977</td>\n",
       "      <td>73.157664</td>\n",
       "      <td>0.359671</td>\n",
       "      <td>2.205855</td>\n",
       "      <td>0.634035</td>\n",
       "      <td>0.009942</td>\n",
       "      <td>Non Window Glass</td>\n",
       "    </tr>\n",
       "  </tbody>\n",
       "</table>\n",
       "<p>420 rows × 10 columns</p>\n",
       "</div>"
      ],
      "text/plain": [
       "     RI: refractive index  Na: Sodium  Mg: Magnesium  Al: Aluminum  \\\n",
       "0                0.419375   13.640000        9.58005      1.100000   \n",
       "1                0.417137   13.890000        5.98000      1.360000   \n",
       "2                0.416194   13.530000        5.80125      1.540000   \n",
       "3                0.417170   13.210000        6.30805      1.290000   \n",
       "4                0.417012   13.270000        6.05220      1.240000   \n",
       "..                    ...         ...            ...           ...   \n",
       "415              0.415731   15.022980       -0.50000      2.305042   \n",
       "416              0.415713   15.031536       -0.50000      2.301335   \n",
       "417              0.416700   14.773372       -0.50000      2.319456   \n",
       "418              0.415477   15.145776       -0.50000      2.251830   \n",
       "419              0.415638   14.332278       -0.50000      2.663977   \n",
       "\n",
       "     Si: Silicon  K: Potassium  Ca: Calcium  Ba: Barium  Fe: Iron  \\\n",
       "0      71.780000      0.391487     2.169054    0.000000  0.000000   \n",
       "1      72.730000      0.782974     2.057963    0.000000  0.000000   \n",
       "2      72.990000      0.730614     2.051556    0.000000  0.000000   \n",
       "3      72.610000      0.829134     2.106570    0.000000  0.000000   \n",
       "4      73.080000      0.819321     2.088153    0.000000  0.000000   \n",
       "..           ...           ...          ...         ...       ...   \n",
       "415    73.406852      0.000000     2.141866    0.634234  0.038106   \n",
       "416    73.413126      0.000000     2.140465    0.633949  0.035539   \n",
       "417    73.285870      0.000000     2.183676    0.662935  0.000000   \n",
       "418    73.496902      0.000000     2.121755    0.630141  0.001267   \n",
       "419    73.157664      0.359671     2.205855    0.634035  0.009942   \n",
       "\n",
       "        Type of glass  \n",
       "0        Window Glass  \n",
       "1        Window Glass  \n",
       "2        Window Glass  \n",
       "3        Window Glass  \n",
       "4        Window Glass  \n",
       "..                ...  \n",
       "415  Non Window Glass  \n",
       "416  Non Window Glass  \n",
       "417  Non Window Glass  \n",
       "418  Non Window Glass  \n",
       "419  Non Window Glass  \n",
       "\n",
       "[420 rows x 10 columns]"
      ]
     },
     "execution_count": 92,
     "metadata": {},
     "output_type": "execute_result"
    }
   ],
   "source": [
    "gi_resam"
   ]
  },
  {
   "cell_type": "code",
   "execution_count": 93,
   "id": "03792814",
   "metadata": {},
   "outputs": [
    {
     "data": {
      "text/plain": [
       "2"
      ]
     },
     "execution_count": 93,
     "metadata": {},
     "output_type": "execute_result"
    }
   ],
   "source": [
    "gi_resam['Type of glass'].nunique()"
   ]
  },
  {
   "cell_type": "code",
   "execution_count": 94,
   "id": "7839db37",
   "metadata": {},
   "outputs": [
    {
     "data": {
      "text/plain": [
       "Window Glass        210\n",
       "Non Window Glass    210\n",
       "Name: Type of glass, dtype: int64"
      ]
     },
     "execution_count": 94,
     "metadata": {},
     "output_type": "execute_result"
    }
   ],
   "source": [
    "gi_resam['Type of glass'].value_counts()"
   ]
  },
  {
   "cell_type": "code",
   "execution_count": 132,
   "id": "1282953e",
   "metadata": {},
   "outputs": [
    {
     "data": {
      "text/plain": [
       "RI: refractive index    float64\n",
       "Na: Sodium              float64\n",
       "Mg: Magnesium           float64\n",
       "Al: Aluminum            float64\n",
       "Si: Silicon             float64\n",
       "K: Potassium            float64\n",
       "Ca: Calcium             float64\n",
       "Ba: Barium              float64\n",
       "Fe: Iron                float64\n",
       "Type of glass            object\n",
       "dtype: object"
      ]
     },
     "execution_count": 132,
     "metadata": {},
     "output_type": "execute_result"
    }
   ],
   "source": [
    "gi_resam.dtypes"
   ]
  },
  {
   "cell_type": "code",
   "execution_count": 131,
   "id": "60d27884",
   "metadata": {},
   "outputs": [],
   "source": [
    "from sklearn.preprocessing import OrdinalEncoder"
   ]
  },
  {
   "cell_type": "code",
   "execution_count": 134,
   "id": "054b561e",
   "metadata": {},
   "outputs": [],
   "source": [
    "oe = OrdinalEncoder()\n",
    "\n",
    "for i in gi_resam.columns:\n",
    "    if gi_resam[i].dtypes == 'object':\n",
    "        gi_resam[i] = oe.fit_transform(gi_resam[i].values.reshape(-1,1))"
   ]
  },
  {
   "cell_type": "code",
   "execution_count": 135,
   "id": "bbfb0d87",
   "metadata": {},
   "outputs": [],
   "source": [
    "x1 = gi_resam.iloc[:,:-1]\n",
    "y1 = gi_resam.iloc[:,-1]"
   ]
  },
  {
   "cell_type": "code",
   "execution_count": 136,
   "id": "cf249149",
   "metadata": {},
   "outputs": [
    {
     "data": {
      "text/html": [
       "<div>\n",
       "<style scoped>\n",
       "    .dataframe tbody tr th:only-of-type {\n",
       "        vertical-align: middle;\n",
       "    }\n",
       "\n",
       "    .dataframe tbody tr th {\n",
       "        vertical-align: top;\n",
       "    }\n",
       "\n",
       "    .dataframe thead th {\n",
       "        text-align: right;\n",
       "    }\n",
       "</style>\n",
       "<table border=\"1\" class=\"dataframe\">\n",
       "  <thead>\n",
       "    <tr style=\"text-align: right;\">\n",
       "      <th></th>\n",
       "      <th>RI: refractive index</th>\n",
       "      <th>Na: Sodium</th>\n",
       "      <th>Mg: Magnesium</th>\n",
       "      <th>Al: Aluminum</th>\n",
       "      <th>Si: Silicon</th>\n",
       "      <th>K: Potassium</th>\n",
       "      <th>Ca: Calcium</th>\n",
       "      <th>Ba: Barium</th>\n",
       "      <th>Fe: Iron</th>\n",
       "    </tr>\n",
       "  </thead>\n",
       "  <tbody>\n",
       "    <tr>\n",
       "      <th>0</th>\n",
       "      <td>0.419375</td>\n",
       "      <td>13.640000</td>\n",
       "      <td>9.58005</td>\n",
       "      <td>1.100000</td>\n",
       "      <td>71.780000</td>\n",
       "      <td>0.391487</td>\n",
       "      <td>2.169054</td>\n",
       "      <td>0.000000</td>\n",
       "      <td>0.000000</td>\n",
       "    </tr>\n",
       "    <tr>\n",
       "      <th>1</th>\n",
       "      <td>0.417137</td>\n",
       "      <td>13.890000</td>\n",
       "      <td>5.98000</td>\n",
       "      <td>1.360000</td>\n",
       "      <td>72.730000</td>\n",
       "      <td>0.782974</td>\n",
       "      <td>2.057963</td>\n",
       "      <td>0.000000</td>\n",
       "      <td>0.000000</td>\n",
       "    </tr>\n",
       "    <tr>\n",
       "      <th>2</th>\n",
       "      <td>0.416194</td>\n",
       "      <td>13.530000</td>\n",
       "      <td>5.80125</td>\n",
       "      <td>1.540000</td>\n",
       "      <td>72.990000</td>\n",
       "      <td>0.730614</td>\n",
       "      <td>2.051556</td>\n",
       "      <td>0.000000</td>\n",
       "      <td>0.000000</td>\n",
       "    </tr>\n",
       "    <tr>\n",
       "      <th>3</th>\n",
       "      <td>0.417170</td>\n",
       "      <td>13.210000</td>\n",
       "      <td>6.30805</td>\n",
       "      <td>1.290000</td>\n",
       "      <td>72.610000</td>\n",
       "      <td>0.829134</td>\n",
       "      <td>2.106570</td>\n",
       "      <td>0.000000</td>\n",
       "      <td>0.000000</td>\n",
       "    </tr>\n",
       "    <tr>\n",
       "      <th>4</th>\n",
       "      <td>0.417012</td>\n",
       "      <td>13.270000</td>\n",
       "      <td>6.05220</td>\n",
       "      <td>1.240000</td>\n",
       "      <td>73.080000</td>\n",
       "      <td>0.819321</td>\n",
       "      <td>2.088153</td>\n",
       "      <td>0.000000</td>\n",
       "      <td>0.000000</td>\n",
       "    </tr>\n",
       "    <tr>\n",
       "      <th>...</th>\n",
       "      <td>...</td>\n",
       "      <td>...</td>\n",
       "      <td>...</td>\n",
       "      <td>...</td>\n",
       "      <td>...</td>\n",
       "      <td>...</td>\n",
       "      <td>...</td>\n",
       "      <td>...</td>\n",
       "      <td>...</td>\n",
       "    </tr>\n",
       "    <tr>\n",
       "      <th>415</th>\n",
       "      <td>0.415731</td>\n",
       "      <td>15.022980</td>\n",
       "      <td>-0.50000</td>\n",
       "      <td>2.305042</td>\n",
       "      <td>73.406852</td>\n",
       "      <td>0.000000</td>\n",
       "      <td>2.141866</td>\n",
       "      <td>0.634234</td>\n",
       "      <td>0.038106</td>\n",
       "    </tr>\n",
       "    <tr>\n",
       "      <th>416</th>\n",
       "      <td>0.415713</td>\n",
       "      <td>15.031536</td>\n",
       "      <td>-0.50000</td>\n",
       "      <td>2.301335</td>\n",
       "      <td>73.413126</td>\n",
       "      <td>0.000000</td>\n",
       "      <td>2.140465</td>\n",
       "      <td>0.633949</td>\n",
       "      <td>0.035539</td>\n",
       "    </tr>\n",
       "    <tr>\n",
       "      <th>417</th>\n",
       "      <td>0.416700</td>\n",
       "      <td>14.773372</td>\n",
       "      <td>-0.50000</td>\n",
       "      <td>2.319456</td>\n",
       "      <td>73.285870</td>\n",
       "      <td>0.000000</td>\n",
       "      <td>2.183676</td>\n",
       "      <td>0.662935</td>\n",
       "      <td>0.000000</td>\n",
       "    </tr>\n",
       "    <tr>\n",
       "      <th>418</th>\n",
       "      <td>0.415477</td>\n",
       "      <td>15.145776</td>\n",
       "      <td>-0.50000</td>\n",
       "      <td>2.251830</td>\n",
       "      <td>73.496902</td>\n",
       "      <td>0.000000</td>\n",
       "      <td>2.121755</td>\n",
       "      <td>0.630141</td>\n",
       "      <td>0.001267</td>\n",
       "    </tr>\n",
       "    <tr>\n",
       "      <th>419</th>\n",
       "      <td>0.415638</td>\n",
       "      <td>14.332278</td>\n",
       "      <td>-0.50000</td>\n",
       "      <td>2.663977</td>\n",
       "      <td>73.157664</td>\n",
       "      <td>0.359671</td>\n",
       "      <td>2.205855</td>\n",
       "      <td>0.634035</td>\n",
       "      <td>0.009942</td>\n",
       "    </tr>\n",
       "  </tbody>\n",
       "</table>\n",
       "<p>420 rows × 9 columns</p>\n",
       "</div>"
      ],
      "text/plain": [
       "     RI: refractive index  Na: Sodium  Mg: Magnesium  Al: Aluminum  \\\n",
       "0                0.419375   13.640000        9.58005      1.100000   \n",
       "1                0.417137   13.890000        5.98000      1.360000   \n",
       "2                0.416194   13.530000        5.80125      1.540000   \n",
       "3                0.417170   13.210000        6.30805      1.290000   \n",
       "4                0.417012   13.270000        6.05220      1.240000   \n",
       "..                    ...         ...            ...           ...   \n",
       "415              0.415731   15.022980       -0.50000      2.305042   \n",
       "416              0.415713   15.031536       -0.50000      2.301335   \n",
       "417              0.416700   14.773372       -0.50000      2.319456   \n",
       "418              0.415477   15.145776       -0.50000      2.251830   \n",
       "419              0.415638   14.332278       -0.50000      2.663977   \n",
       "\n",
       "     Si: Silicon  K: Potassium  Ca: Calcium  Ba: Barium  Fe: Iron  \n",
       "0      71.780000      0.391487     2.169054    0.000000  0.000000  \n",
       "1      72.730000      0.782974     2.057963    0.000000  0.000000  \n",
       "2      72.990000      0.730614     2.051556    0.000000  0.000000  \n",
       "3      72.610000      0.829134     2.106570    0.000000  0.000000  \n",
       "4      73.080000      0.819321     2.088153    0.000000  0.000000  \n",
       "..           ...           ...          ...         ...       ...  \n",
       "415    73.406852      0.000000     2.141866    0.634234  0.038106  \n",
       "416    73.413126      0.000000     2.140465    0.633949  0.035539  \n",
       "417    73.285870      0.000000     2.183676    0.662935  0.000000  \n",
       "418    73.496902      0.000000     2.121755    0.630141  0.001267  \n",
       "419    73.157664      0.359671     2.205855    0.634035  0.009942  \n",
       "\n",
       "[420 rows x 9 columns]"
      ]
     },
     "execution_count": 136,
     "metadata": {},
     "output_type": "execute_result"
    }
   ],
   "source": [
    "x1"
   ]
  },
  {
   "cell_type": "code",
   "execution_count": 137,
   "id": "73152747",
   "metadata": {},
   "outputs": [
    {
     "data": {
      "text/plain": [
       "0      1.0\n",
       "1      1.0\n",
       "2      1.0\n",
       "3      1.0\n",
       "4      1.0\n",
       "      ... \n",
       "415    0.0\n",
       "416    0.0\n",
       "417    0.0\n",
       "418    0.0\n",
       "419    0.0\n",
       "Name: Type of glass, Length: 420, dtype: float64"
      ]
     },
     "execution_count": 137,
     "metadata": {},
     "output_type": "execute_result"
    }
   ],
   "source": [
    "y1"
   ]
  },
  {
   "cell_type": "markdown",
   "id": "fc7f4ec2",
   "metadata": {},
   "source": [
    "We will now scale our data using the standard scaler."
   ]
  },
  {
   "cell_type": "code",
   "execution_count": 138,
   "id": "6fbcd436",
   "metadata": {},
   "outputs": [
    {
     "data": {
      "text/html": [
       "<div>\n",
       "<style scoped>\n",
       "    .dataframe tbody tr th:only-of-type {\n",
       "        vertical-align: middle;\n",
       "    }\n",
       "\n",
       "    .dataframe tbody tr th {\n",
       "        vertical-align: top;\n",
       "    }\n",
       "\n",
       "    .dataframe thead th {\n",
       "        text-align: right;\n",
       "    }\n",
       "</style>\n",
       "<table border=\"1\" class=\"dataframe\">\n",
       "  <thead>\n",
       "    <tr style=\"text-align: right;\">\n",
       "      <th></th>\n",
       "      <th>RI: refractive index</th>\n",
       "      <th>Na: Sodium</th>\n",
       "      <th>Mg: Magnesium</th>\n",
       "      <th>Al: Aluminum</th>\n",
       "      <th>Si: Silicon</th>\n",
       "      <th>K: Potassium</th>\n",
       "      <th>Ca: Calcium</th>\n",
       "      <th>Ba: Barium</th>\n",
       "      <th>Fe: Iron</th>\n",
       "    </tr>\n",
       "  </thead>\n",
       "  <tbody>\n",
       "    <tr>\n",
       "      <th>0</th>\n",
       "      <td>1.340009</td>\n",
       "      <td>0.079845</td>\n",
       "      <td>2.319231</td>\n",
       "      <td>-0.956372</td>\n",
       "      <td>-1.853863</td>\n",
       "      <td>-0.397983</td>\n",
       "      <td>-0.396303</td>\n",
       "      <td>-0.405973</td>\n",
       "      <td>-0.509035</td>\n",
       "    </tr>\n",
       "    <tr>\n",
       "      <th>1</th>\n",
       "      <td>-0.231311</td>\n",
       "      <td>0.399677</td>\n",
       "      <td>1.065352</td>\n",
       "      <td>-0.400657</td>\n",
       "      <td>-0.178922</td>\n",
       "      <td>0.699102</td>\n",
       "      <td>-1.272484</td>\n",
       "      <td>-0.405973</td>\n",
       "      <td>-0.509035</td>\n",
       "    </tr>\n",
       "    <tr>\n",
       "      <th>2</th>\n",
       "      <td>-0.893241</td>\n",
       "      <td>-0.060881</td>\n",
       "      <td>1.003094</td>\n",
       "      <td>-0.015931</td>\n",
       "      <td>0.279483</td>\n",
       "      <td>0.552373</td>\n",
       "      <td>-1.323010</td>\n",
       "      <td>-0.405973</td>\n",
       "      <td>-0.509035</td>\n",
       "    </tr>\n",
       "    <tr>\n",
       "      <th>3</th>\n",
       "      <td>-0.208178</td>\n",
       "      <td>-0.470267</td>\n",
       "      <td>1.179610</td>\n",
       "      <td>-0.550273</td>\n",
       "      <td>-0.390494</td>\n",
       "      <td>0.828461</td>\n",
       "      <td>-0.889113</td>\n",
       "      <td>-0.405973</td>\n",
       "      <td>-0.509035</td>\n",
       "    </tr>\n",
       "    <tr>\n",
       "      <th>4</th>\n",
       "      <td>-0.319224</td>\n",
       "      <td>-0.393507</td>\n",
       "      <td>1.090499</td>\n",
       "      <td>-0.657141</td>\n",
       "      <td>0.438161</td>\n",
       "      <td>0.800961</td>\n",
       "      <td>-1.034367</td>\n",
       "      <td>-0.405973</td>\n",
       "      <td>-0.509035</td>\n",
       "    </tr>\n",
       "    <tr>\n",
       "      <th>...</th>\n",
       "      <td>...</td>\n",
       "      <td>...</td>\n",
       "      <td>...</td>\n",
       "      <td>...</td>\n",
       "      <td>...</td>\n",
       "      <td>...</td>\n",
       "      <td>...</td>\n",
       "      <td>...</td>\n",
       "      <td>...</td>\n",
       "    </tr>\n",
       "    <tr>\n",
       "      <th>415</th>\n",
       "      <td>-1.218452</td>\n",
       "      <td>1.849131</td>\n",
       "      <td>-1.191598</td>\n",
       "      <td>1.619245</td>\n",
       "      <td>1.014432</td>\n",
       "      <td>-1.495068</td>\n",
       "      <td>-0.610733</td>\n",
       "      <td>1.196144</td>\n",
       "      <td>0.033913</td>\n",
       "    </tr>\n",
       "    <tr>\n",
       "      <th>416</th>\n",
       "      <td>-1.230872</td>\n",
       "      <td>1.860077</td>\n",
       "      <td>-1.191598</td>\n",
       "      <td>1.611321</td>\n",
       "      <td>1.025494</td>\n",
       "      <td>-1.495068</td>\n",
       "      <td>-0.621785</td>\n",
       "      <td>1.195424</td>\n",
       "      <td>-0.002659</td>\n",
       "    </tr>\n",
       "    <tr>\n",
       "      <th>417</th>\n",
       "      <td>-0.538091</td>\n",
       "      <td>1.529801</td>\n",
       "      <td>-1.191598</td>\n",
       "      <td>1.650052</td>\n",
       "      <td>0.801129</td>\n",
       "      <td>-1.495068</td>\n",
       "      <td>-0.280976</td>\n",
       "      <td>1.268645</td>\n",
       "      <td>-0.509035</td>\n",
       "    </tr>\n",
       "    <tr>\n",
       "      <th>418</th>\n",
       "      <td>-1.396712</td>\n",
       "      <td>2.006228</td>\n",
       "      <td>-1.191598</td>\n",
       "      <td>1.505512</td>\n",
       "      <td>1.173200</td>\n",
       "      <td>-1.495068</td>\n",
       "      <td>-0.769350</td>\n",
       "      <td>1.185805</td>\n",
       "      <td>-0.490980</td>\n",
       "    </tr>\n",
       "    <tr>\n",
       "      <th>419</th>\n",
       "      <td>-1.283361</td>\n",
       "      <td>0.965496</td>\n",
       "      <td>-1.191598</td>\n",
       "      <td>2.386420</td>\n",
       "      <td>0.575091</td>\n",
       "      <td>-0.487143</td>\n",
       "      <td>-0.106049</td>\n",
       "      <td>1.195641</td>\n",
       "      <td>-0.367377</td>\n",
       "    </tr>\n",
       "  </tbody>\n",
       "</table>\n",
       "<p>420 rows × 9 columns</p>\n",
       "</div>"
      ],
      "text/plain": [
       "     RI: refractive index  Na: Sodium  Mg: Magnesium  Al: Aluminum  \\\n",
       "0                1.340009    0.079845       2.319231     -0.956372   \n",
       "1               -0.231311    0.399677       1.065352     -0.400657   \n",
       "2               -0.893241   -0.060881       1.003094     -0.015931   \n",
       "3               -0.208178   -0.470267       1.179610     -0.550273   \n",
       "4               -0.319224   -0.393507       1.090499     -0.657141   \n",
       "..                    ...         ...            ...           ...   \n",
       "415             -1.218452    1.849131      -1.191598      1.619245   \n",
       "416             -1.230872    1.860077      -1.191598      1.611321   \n",
       "417             -0.538091    1.529801      -1.191598      1.650052   \n",
       "418             -1.396712    2.006228      -1.191598      1.505512   \n",
       "419             -1.283361    0.965496      -1.191598      2.386420   \n",
       "\n",
       "     Si: Silicon  K: Potassium  Ca: Calcium  Ba: Barium  Fe: Iron  \n",
       "0      -1.853863     -0.397983    -0.396303   -0.405973 -0.509035  \n",
       "1      -0.178922      0.699102    -1.272484   -0.405973 -0.509035  \n",
       "2       0.279483      0.552373    -1.323010   -0.405973 -0.509035  \n",
       "3      -0.390494      0.828461    -0.889113   -0.405973 -0.509035  \n",
       "4       0.438161      0.800961    -1.034367   -0.405973 -0.509035  \n",
       "..           ...           ...          ...         ...       ...  \n",
       "415     1.014432     -1.495068    -0.610733    1.196144  0.033913  \n",
       "416     1.025494     -1.495068    -0.621785    1.195424 -0.002659  \n",
       "417     0.801129     -1.495068    -0.280976    1.268645 -0.509035  \n",
       "418     1.173200     -1.495068    -0.769350    1.185805 -0.490980  \n",
       "419     0.575091     -0.487143    -0.106049    1.195641 -0.367377  \n",
       "\n",
       "[420 rows x 9 columns]"
      ]
     },
     "execution_count": 138,
     "metadata": {},
     "output_type": "execute_result"
    }
   ],
   "source": [
    "from sklearn.preprocessing import StandardScaler\n",
    "scaler = StandardScaler()\n",
    "\n",
    "x2 = pd.DataFrame(scaler.fit_transform(x1), columns = x1.columns )\n",
    "x2"
   ]
  },
  {
   "cell_type": "code",
   "execution_count": 139,
   "id": "3ae7bb00",
   "metadata": {},
   "outputs": [],
   "source": [
    "from statsmodels.stats.outliers_influence import variance_inflation_factor\n",
    "\n",
    "var = variance_inflation_factor\n",
    "\n",
    "vif = pd.DataFrame()\n",
    "\n",
    "vif['Values'] = [var(x2.values,i) for i in range (len(x2.columns))]\n",
    "vif['Features'] = x2.columns"
   ]
  },
  {
   "cell_type": "code",
   "execution_count": 140,
   "id": "34c5c984",
   "metadata": {},
   "outputs": [
    {
     "data": {
      "text/html": [
       "<div>\n",
       "<style scoped>\n",
       "    .dataframe tbody tr th:only-of-type {\n",
       "        vertical-align: middle;\n",
       "    }\n",
       "\n",
       "    .dataframe tbody tr th {\n",
       "        vertical-align: top;\n",
       "    }\n",
       "\n",
       "    .dataframe thead th {\n",
       "        text-align: right;\n",
       "    }\n",
       "</style>\n",
       "<table border=\"1\" class=\"dataframe\">\n",
       "  <thead>\n",
       "    <tr style=\"text-align: right;\">\n",
       "      <th></th>\n",
       "      <th>Values</th>\n",
       "      <th>Features</th>\n",
       "    </tr>\n",
       "  </thead>\n",
       "  <tbody>\n",
       "    <tr>\n",
       "      <th>0</th>\n",
       "      <td>5.945559</td>\n",
       "      <td>RI: refractive index</td>\n",
       "    </tr>\n",
       "    <tr>\n",
       "      <th>1</th>\n",
       "      <td>6.789166</td>\n",
       "      <td>Na: Sodium</td>\n",
       "    </tr>\n",
       "    <tr>\n",
       "      <th>2</th>\n",
       "      <td>19.816189</td>\n",
       "      <td>Mg: Magnesium</td>\n",
       "    </tr>\n",
       "    <tr>\n",
       "      <th>3</th>\n",
       "      <td>4.633370</td>\n",
       "      <td>Al: Aluminum</td>\n",
       "    </tr>\n",
       "    <tr>\n",
       "      <th>4</th>\n",
       "      <td>5.314597</td>\n",
       "      <td>Si: Silicon</td>\n",
       "    </tr>\n",
       "    <tr>\n",
       "      <th>5</th>\n",
       "      <td>4.209709</td>\n",
       "      <td>K: Potassium</td>\n",
       "    </tr>\n",
       "    <tr>\n",
       "      <th>6</th>\n",
       "      <td>13.682027</td>\n",
       "      <td>Ca: Calcium</td>\n",
       "    </tr>\n",
       "    <tr>\n",
       "      <th>7</th>\n",
       "      <td>2.857555</td>\n",
       "      <td>Ba: Barium</td>\n",
       "    </tr>\n",
       "    <tr>\n",
       "      <th>8</th>\n",
       "      <td>1.084480</td>\n",
       "      <td>Fe: Iron</td>\n",
       "    </tr>\n",
       "  </tbody>\n",
       "</table>\n",
       "</div>"
      ],
      "text/plain": [
       "      Values              Features\n",
       "0   5.945559  RI: refractive index\n",
       "1   6.789166            Na: Sodium\n",
       "2  19.816189         Mg: Magnesium\n",
       "3   4.633370          Al: Aluminum\n",
       "4   5.314597           Si: Silicon\n",
       "5   4.209709          K: Potassium\n",
       "6  13.682027           Ca: Calcium\n",
       "7   2.857555            Ba: Barium\n",
       "8   1.084480              Fe: Iron"
      ]
     },
     "execution_count": 140,
     "metadata": {},
     "output_type": "execute_result"
    }
   ],
   "source": [
    "vif"
   ]
  },
  {
   "cell_type": "markdown",
   "id": "5499f1e6",
   "metadata": {},
   "source": [
    "Hence, we can see that the Variance inflation factor for column Magnasium and Calcium are very high. So we will remove or drop the column whose inflation is highest."
   ]
  },
  {
   "cell_type": "code",
   "execution_count": 141,
   "id": "942c78b7",
   "metadata": {},
   "outputs": [],
   "source": [
    "x2.drop(['Mg: Magnesium'], axis =1, inplace = True)"
   ]
  },
  {
   "cell_type": "code",
   "execution_count": 142,
   "id": "da598974",
   "metadata": {},
   "outputs": [
    {
     "data": {
      "text/html": [
       "<div>\n",
       "<style scoped>\n",
       "    .dataframe tbody tr th:only-of-type {\n",
       "        vertical-align: middle;\n",
       "    }\n",
       "\n",
       "    .dataframe tbody tr th {\n",
       "        vertical-align: top;\n",
       "    }\n",
       "\n",
       "    .dataframe thead th {\n",
       "        text-align: right;\n",
       "    }\n",
       "</style>\n",
       "<table border=\"1\" class=\"dataframe\">\n",
       "  <thead>\n",
       "    <tr style=\"text-align: right;\">\n",
       "      <th></th>\n",
       "      <th>RI: refractive index</th>\n",
       "      <th>Na: Sodium</th>\n",
       "      <th>Al: Aluminum</th>\n",
       "      <th>Si: Silicon</th>\n",
       "      <th>K: Potassium</th>\n",
       "      <th>Ca: Calcium</th>\n",
       "      <th>Ba: Barium</th>\n",
       "      <th>Fe: Iron</th>\n",
       "    </tr>\n",
       "  </thead>\n",
       "  <tbody>\n",
       "    <tr>\n",
       "      <th>0</th>\n",
       "      <td>1.340009</td>\n",
       "      <td>0.079845</td>\n",
       "      <td>-0.956372</td>\n",
       "      <td>-1.853863</td>\n",
       "      <td>-0.397983</td>\n",
       "      <td>-0.396303</td>\n",
       "      <td>-0.405973</td>\n",
       "      <td>-0.509035</td>\n",
       "    </tr>\n",
       "    <tr>\n",
       "      <th>1</th>\n",
       "      <td>-0.231311</td>\n",
       "      <td>0.399677</td>\n",
       "      <td>-0.400657</td>\n",
       "      <td>-0.178922</td>\n",
       "      <td>0.699102</td>\n",
       "      <td>-1.272484</td>\n",
       "      <td>-0.405973</td>\n",
       "      <td>-0.509035</td>\n",
       "    </tr>\n",
       "    <tr>\n",
       "      <th>2</th>\n",
       "      <td>-0.893241</td>\n",
       "      <td>-0.060881</td>\n",
       "      <td>-0.015931</td>\n",
       "      <td>0.279483</td>\n",
       "      <td>0.552373</td>\n",
       "      <td>-1.323010</td>\n",
       "      <td>-0.405973</td>\n",
       "      <td>-0.509035</td>\n",
       "    </tr>\n",
       "    <tr>\n",
       "      <th>3</th>\n",
       "      <td>-0.208178</td>\n",
       "      <td>-0.470267</td>\n",
       "      <td>-0.550273</td>\n",
       "      <td>-0.390494</td>\n",
       "      <td>0.828461</td>\n",
       "      <td>-0.889113</td>\n",
       "      <td>-0.405973</td>\n",
       "      <td>-0.509035</td>\n",
       "    </tr>\n",
       "    <tr>\n",
       "      <th>4</th>\n",
       "      <td>-0.319224</td>\n",
       "      <td>-0.393507</td>\n",
       "      <td>-0.657141</td>\n",
       "      <td>0.438161</td>\n",
       "      <td>0.800961</td>\n",
       "      <td>-1.034367</td>\n",
       "      <td>-0.405973</td>\n",
       "      <td>-0.509035</td>\n",
       "    </tr>\n",
       "    <tr>\n",
       "      <th>...</th>\n",
       "      <td>...</td>\n",
       "      <td>...</td>\n",
       "      <td>...</td>\n",
       "      <td>...</td>\n",
       "      <td>...</td>\n",
       "      <td>...</td>\n",
       "      <td>...</td>\n",
       "      <td>...</td>\n",
       "    </tr>\n",
       "    <tr>\n",
       "      <th>415</th>\n",
       "      <td>-1.218452</td>\n",
       "      <td>1.849131</td>\n",
       "      <td>1.619245</td>\n",
       "      <td>1.014432</td>\n",
       "      <td>-1.495068</td>\n",
       "      <td>-0.610733</td>\n",
       "      <td>1.196144</td>\n",
       "      <td>0.033913</td>\n",
       "    </tr>\n",
       "    <tr>\n",
       "      <th>416</th>\n",
       "      <td>-1.230872</td>\n",
       "      <td>1.860077</td>\n",
       "      <td>1.611321</td>\n",
       "      <td>1.025494</td>\n",
       "      <td>-1.495068</td>\n",
       "      <td>-0.621785</td>\n",
       "      <td>1.195424</td>\n",
       "      <td>-0.002659</td>\n",
       "    </tr>\n",
       "    <tr>\n",
       "      <th>417</th>\n",
       "      <td>-0.538091</td>\n",
       "      <td>1.529801</td>\n",
       "      <td>1.650052</td>\n",
       "      <td>0.801129</td>\n",
       "      <td>-1.495068</td>\n",
       "      <td>-0.280976</td>\n",
       "      <td>1.268645</td>\n",
       "      <td>-0.509035</td>\n",
       "    </tr>\n",
       "    <tr>\n",
       "      <th>418</th>\n",
       "      <td>-1.396712</td>\n",
       "      <td>2.006228</td>\n",
       "      <td>1.505512</td>\n",
       "      <td>1.173200</td>\n",
       "      <td>-1.495068</td>\n",
       "      <td>-0.769350</td>\n",
       "      <td>1.185805</td>\n",
       "      <td>-0.490980</td>\n",
       "    </tr>\n",
       "    <tr>\n",
       "      <th>419</th>\n",
       "      <td>-1.283361</td>\n",
       "      <td>0.965496</td>\n",
       "      <td>2.386420</td>\n",
       "      <td>0.575091</td>\n",
       "      <td>-0.487143</td>\n",
       "      <td>-0.106049</td>\n",
       "      <td>1.195641</td>\n",
       "      <td>-0.367377</td>\n",
       "    </tr>\n",
       "  </tbody>\n",
       "</table>\n",
       "<p>420 rows × 8 columns</p>\n",
       "</div>"
      ],
      "text/plain": [
       "     RI: refractive index  Na: Sodium  Al: Aluminum  Si: Silicon  \\\n",
       "0                1.340009    0.079845     -0.956372    -1.853863   \n",
       "1               -0.231311    0.399677     -0.400657    -0.178922   \n",
       "2               -0.893241   -0.060881     -0.015931     0.279483   \n",
       "3               -0.208178   -0.470267     -0.550273    -0.390494   \n",
       "4               -0.319224   -0.393507     -0.657141     0.438161   \n",
       "..                    ...         ...           ...          ...   \n",
       "415             -1.218452    1.849131      1.619245     1.014432   \n",
       "416             -1.230872    1.860077      1.611321     1.025494   \n",
       "417             -0.538091    1.529801      1.650052     0.801129   \n",
       "418             -1.396712    2.006228      1.505512     1.173200   \n",
       "419             -1.283361    0.965496      2.386420     0.575091   \n",
       "\n",
       "     K: Potassium  Ca: Calcium  Ba: Barium  Fe: Iron  \n",
       "0       -0.397983    -0.396303   -0.405973 -0.509035  \n",
       "1        0.699102    -1.272484   -0.405973 -0.509035  \n",
       "2        0.552373    -1.323010   -0.405973 -0.509035  \n",
       "3        0.828461    -0.889113   -0.405973 -0.509035  \n",
       "4        0.800961    -1.034367   -0.405973 -0.509035  \n",
       "..            ...          ...         ...       ...  \n",
       "415     -1.495068    -0.610733    1.196144  0.033913  \n",
       "416     -1.495068    -0.621785    1.195424 -0.002659  \n",
       "417     -1.495068    -0.280976    1.268645 -0.509035  \n",
       "418     -1.495068    -0.769350    1.185805 -0.490980  \n",
       "419     -0.487143    -0.106049    1.195641 -0.367377  \n",
       "\n",
       "[420 rows x 8 columns]"
      ]
     },
     "execution_count": 142,
     "metadata": {},
     "output_type": "execute_result"
    }
   ],
   "source": [
    "x2"
   ]
  },
  {
   "cell_type": "code",
   "execution_count": 143,
   "id": "ec955b95",
   "metadata": {},
   "outputs": [],
   "source": [
    "vif1 = pd.DataFrame()\n",
    "\n",
    "vif1['Values'] = [var(x2.values,i) for i in range(len(x2.columns))]\n",
    "vif1['Features'] = x2.columns"
   ]
  },
  {
   "cell_type": "code",
   "execution_count": 144,
   "id": "acd599cd",
   "metadata": {},
   "outputs": [
    {
     "data": {
      "text/html": [
       "<div>\n",
       "<style scoped>\n",
       "    .dataframe tbody tr th:only-of-type {\n",
       "        vertical-align: middle;\n",
       "    }\n",
       "\n",
       "    .dataframe tbody tr th {\n",
       "        vertical-align: top;\n",
       "    }\n",
       "\n",
       "    .dataframe thead th {\n",
       "        text-align: right;\n",
       "    }\n",
       "</style>\n",
       "<table border=\"1\" class=\"dataframe\">\n",
       "  <thead>\n",
       "    <tr style=\"text-align: right;\">\n",
       "      <th></th>\n",
       "      <th>Values</th>\n",
       "      <th>Features</th>\n",
       "    </tr>\n",
       "  </thead>\n",
       "  <tbody>\n",
       "    <tr>\n",
       "      <th>0</th>\n",
       "      <td>5.943994</td>\n",
       "      <td>RI: refractive index</td>\n",
       "    </tr>\n",
       "    <tr>\n",
       "      <th>1</th>\n",
       "      <td>4.843904</td>\n",
       "      <td>Na: Sodium</td>\n",
       "    </tr>\n",
       "    <tr>\n",
       "      <th>2</th>\n",
       "      <td>2.223043</td>\n",
       "      <td>Al: Aluminum</td>\n",
       "    </tr>\n",
       "    <tr>\n",
       "      <th>3</th>\n",
       "      <td>2.734702</td>\n",
       "      <td>Si: Silicon</td>\n",
       "    </tr>\n",
       "    <tr>\n",
       "      <th>4</th>\n",
       "      <td>4.208781</td>\n",
       "      <td>K: Potassium</td>\n",
       "    </tr>\n",
       "    <tr>\n",
       "      <th>5</th>\n",
       "      <td>3.914457</td>\n",
       "      <td>Ca: Calcium</td>\n",
       "    </tr>\n",
       "    <tr>\n",
       "      <th>6</th>\n",
       "      <td>2.252822</td>\n",
       "      <td>Ba: Barium</td>\n",
       "    </tr>\n",
       "    <tr>\n",
       "      <th>7</th>\n",
       "      <td>1.079338</td>\n",
       "      <td>Fe: Iron</td>\n",
       "    </tr>\n",
       "  </tbody>\n",
       "</table>\n",
       "</div>"
      ],
      "text/plain": [
       "     Values              Features\n",
       "0  5.943994  RI: refractive index\n",
       "1  4.843904            Na: Sodium\n",
       "2  2.223043          Al: Aluminum\n",
       "3  2.734702           Si: Silicon\n",
       "4  4.208781          K: Potassium\n",
       "5  3.914457           Ca: Calcium\n",
       "6  2.252822            Ba: Barium\n",
       "7  1.079338              Fe: Iron"
      ]
     },
     "execution_count": 144,
     "metadata": {},
     "output_type": "execute_result"
    }
   ],
   "source": [
    "vif1"
   ]
  },
  {
   "cell_type": "markdown",
   "id": "f3ac07c5",
   "metadata": {},
   "source": [
    "So here we can see that as the column having the highest inflation was dropped the inflation value of all other columns has come down. Now we can go ahead and impliment the various models on this data."
   ]
  },
  {
   "cell_type": "markdown",
   "id": "c804eb48",
   "metadata": {},
   "source": [
    "Importing various classification models"
   ]
  },
  {
   "cell_type": "code",
   "execution_count": 145,
   "id": "4881d84b",
   "metadata": {},
   "outputs": [],
   "source": [
    "from sklearn.linear_model import LogisticRegression\n",
    "from sklearn.ensemble import RandomForestClassifier, ExtraTreesClassifier\n",
    "from sklearn.svm import SVC\n",
    "from sklearn.ensemble import GradientBoostingClassifier, AdaBoostClassifier, BaggingClassifier\n",
    "from sklearn.model_selection import train_test_split\n",
    "from sklearn.metrics import accuracy_score, confusion_matrix, classification_report\n",
    "from sklearn.model_selection import cross_val_score"
   ]
  },
  {
   "cell_type": "markdown",
   "id": "51809b47",
   "metadata": {},
   "source": [
    "Searching for Best random state"
   ]
  },
  {
   "cell_type": "code",
   "execution_count": 146,
   "id": "7b5d3e7d",
   "metadata": {},
   "outputs": [
    {
     "name": "stdout",
     "output_type": "stream",
     "text": [
      "The highest accuracy score is 1.0 at random state 6\n"
     ]
    }
   ],
   "source": [
    "maxacc = 0\n",
    "maxrs = 0\n",
    "\n",
    "for i in range(0,200):\n",
    "    x_train,x_test, y_train,y_test = train_test_split(x2,y1,test_size = 0.30, random_state =i)\n",
    "    lg = LogisticRegression()\n",
    "    lg.fit(x_train,y_train)\n",
    "    pred = lg.predict(x_test)\n",
    "    acc = accuracy_score(y_test,pred)\n",
    "    if acc > maxacc:\n",
    "        maxacc = acc\n",
    "        maxrs = i\n",
    "        \n",
    "print('The highest accuracy score is', maxacc.round(2), 'at random state', maxrs)"
   ]
  },
  {
   "cell_type": "markdown",
   "id": "894e40da",
   "metadata": {},
   "source": [
    "So as we have found our best random state we will impliment all other model with this."
   ]
  },
  {
   "cell_type": "code",
   "execution_count": 147,
   "id": "bd446385",
   "metadata": {},
   "outputs": [
    {
     "data": {
      "text/plain": [
       "6"
      ]
     },
     "execution_count": 147,
     "metadata": {},
     "output_type": "execute_result"
    }
   ],
   "source": [
    "maxrs"
   ]
  },
  {
   "cell_type": "code",
   "execution_count": 148,
   "id": "426638be",
   "metadata": {},
   "outputs": [],
   "source": [
    "x_train, x_test, y_train,y_test = train_test_split(x2,y1, test_size = 0.30, random_state = maxrs)"
   ]
  },
  {
   "cell_type": "code",
   "execution_count": 149,
   "id": "7d38b49e",
   "metadata": {},
   "outputs": [
    {
     "name": "stdout",
     "output_type": "stream",
     "text": [
      "The accuracy for Logistice Regression is 1.0\n",
      "[[68  0]\n",
      " [ 0 58]]\n",
      "              precision    recall  f1-score   support\n",
      "\n",
      "         0.0       1.00      1.00      1.00        68\n",
      "         1.0       1.00      1.00      1.00        58\n",
      "\n",
      "    accuracy                           1.00       126\n",
      "   macro avg       1.00      1.00      1.00       126\n",
      "weighted avg       1.00      1.00      1.00       126\n",
      "\n"
     ]
    }
   ],
   "source": [
    "lg.fit(x_train,y_train)\n",
    "lgpred = lg.predict(x_test)\n",
    "lgacc = accuracy_score(y_test, lgpred)\n",
    "lgcon = confusion_matrix(y_test, lgpred)\n",
    "lgclass = classification_report(y_test, lgpred)\n",
    "\n",
    "print('The accuracy for Logistice Regression is', lgacc.round(2))\n",
    "print(lgcon)\n",
    "print(lgclass)"
   ]
  },
  {
   "cell_type": "code",
   "execution_count": 150,
   "id": "b97094d8",
   "metadata": {},
   "outputs": [
    {
     "name": "stdout",
     "output_type": "stream",
     "text": [
      "The accuracy for Random Forest Classifier is 1.0\n",
      "[[68  0]\n",
      " [ 0 58]]\n",
      "              precision    recall  f1-score   support\n",
      "\n",
      "         0.0       1.00      1.00      1.00        68\n",
      "         1.0       1.00      1.00      1.00        58\n",
      "\n",
      "    accuracy                           1.00       126\n",
      "   macro avg       1.00      1.00      1.00       126\n",
      "weighted avg       1.00      1.00      1.00       126\n",
      "\n"
     ]
    }
   ],
   "source": [
    "rfc = RandomForestClassifier()\n",
    "rfc.fit(x_train,y_train)\n",
    "rfcpred = rfc.predict(x_test)\n",
    "rfcacc = accuracy_score(y_test, rfcpred)\n",
    "rfccon = confusion_matrix(y_test, rfcpred)\n",
    "rfcclass = classification_report(y_test, rfcpred)\n",
    "\n",
    "print('The accuracy for Random Forest Classifier is', rfcacc.round(2))\n",
    "print(rfccon)\n",
    "print(rfcclass)"
   ]
  },
  {
   "cell_type": "code",
   "execution_count": 151,
   "id": "8cf9e353",
   "metadata": {},
   "outputs": [
    {
     "name": "stdout",
     "output_type": "stream",
     "text": [
      "The accuracy score for Extra Trees Classifier is 1.0\n",
      "[[68  0]\n",
      " [ 0 58]]\n",
      "              precision    recall  f1-score   support\n",
      "\n",
      "         0.0       1.00      1.00      1.00        68\n",
      "         1.0       1.00      1.00      1.00        58\n",
      "\n",
      "    accuracy                           1.00       126\n",
      "   macro avg       1.00      1.00      1.00       126\n",
      "weighted avg       1.00      1.00      1.00       126\n",
      "\n"
     ]
    }
   ],
   "source": [
    "etc = ExtraTreesClassifier()\n",
    "etc.fit(x_train,y_train)\n",
    "etcpred = etc.predict(x_test)\n",
    "etcacc = accuracy_score(y_test, etcpred)\n",
    "etccon = confusion_matrix(y_test, etcpred)\n",
    "etcclass = classification_report(y_test, etcpred)\n",
    "\n",
    "print('The accuracy score for Extra Trees Classifier is', etcacc.round(2))\n",
    "print(etccon)\n",
    "print(etcclass)"
   ]
  },
  {
   "cell_type": "code",
   "execution_count": 152,
   "id": "d72db711",
   "metadata": {},
   "outputs": [
    {
     "name": "stdout",
     "output_type": "stream",
     "text": [
      "The accuracy score for Support Vector Classifier is 1.0\n",
      "[[68  0]\n",
      " [ 0 58]]\n",
      "              precision    recall  f1-score   support\n",
      "\n",
      "         0.0       1.00      1.00      1.00        68\n",
      "         1.0       1.00      1.00      1.00        58\n",
      "\n",
      "    accuracy                           1.00       126\n",
      "   macro avg       1.00      1.00      1.00       126\n",
      "weighted avg       1.00      1.00      1.00       126\n",
      "\n"
     ]
    }
   ],
   "source": [
    "svc = SVC()\n",
    "svc.fit(x_train,y_train)\n",
    "svcpred = svc.predict(x_test)\n",
    "svcacc = accuracy_score(y_test,svcpred)\n",
    "svccon = confusion_matrix(y_test,svcpred)\n",
    "svcclass = classification_report(y_test, svcpred)\n",
    "\n",
    "print('The accuracy score for Support Vector Classifier is', svcacc.round(2))\n",
    "print(svccon)\n",
    "print(svcclass)"
   ]
  },
  {
   "cell_type": "code",
   "execution_count": 153,
   "id": "8191c40f",
   "metadata": {},
   "outputs": [
    {
     "name": "stdout",
     "output_type": "stream",
     "text": [
      "The accuracy score for Gradient Boosting Classifier is 0.99\n",
      "[[67  1]\n",
      " [ 0 58]]\n",
      "              precision    recall  f1-score   support\n",
      "\n",
      "         0.0       1.00      0.99      0.99        68\n",
      "         1.0       0.98      1.00      0.99        58\n",
      "\n",
      "    accuracy                           0.99       126\n",
      "   macro avg       0.99      0.99      0.99       126\n",
      "weighted avg       0.99      0.99      0.99       126\n",
      "\n"
     ]
    }
   ],
   "source": [
    "gbc = GradientBoostingClassifier()\n",
    "gbc.fit(x_train,y_train)\n",
    "gbcpred = gbc.predict(x_test)\n",
    "gbcacc = accuracy_score(y_test, gbcpred)\n",
    "gbccon = confusion_matrix(y_test, gbcpred)\n",
    "gbcclass = classification_report(y_test, gbcpred)\n",
    "\n",
    "print('The accuracy score for Gradient Boosting Classifier is', gbcacc.round(2))\n",
    "print(gbccon)\n",
    "print(gbcclass)"
   ]
  },
  {
   "cell_type": "code",
   "execution_count": 154,
   "id": "baaba93b",
   "metadata": {},
   "outputs": [
    {
     "name": "stdout",
     "output_type": "stream",
     "text": [
      "The accuracy for Ada Boosting classifier is 0.99\n",
      "[[68  0]\n",
      " [ 1 57]]\n",
      "              precision    recall  f1-score   support\n",
      "\n",
      "         0.0       0.99      1.00      0.99        68\n",
      "         1.0       1.00      0.98      0.99        58\n",
      "\n",
      "    accuracy                           0.99       126\n",
      "   macro avg       0.99      0.99      0.99       126\n",
      "weighted avg       0.99      0.99      0.99       126\n",
      "\n"
     ]
    }
   ],
   "source": [
    "adc = AdaBoostClassifier()\n",
    "adc.fit(x_train, y_train)\n",
    "adcpred = adc.predict(x_test)\n",
    "adcacc = accuracy_score(y_test, adcpred)\n",
    "adccon = confusion_matrix(y_test, adcpred)\n",
    "adcclass = classification_report(y_test, adcpred)\n",
    "\n",
    "print('The accuracy for Ada Boosting classifier is', adcacc.round(2))\n",
    "print(adccon)\n",
    "print(adcclass)"
   ]
  },
  {
   "cell_type": "code",
   "execution_count": 155,
   "id": "7f3575c2",
   "metadata": {},
   "outputs": [
    {
     "name": "stdout",
     "output_type": "stream",
     "text": [
      "The accuracy score for Bagging classifier is 0.98\n",
      "[[67  1]\n",
      " [ 1 57]]\n",
      "              precision    recall  f1-score   support\n",
      "\n",
      "         0.0       0.99      0.99      0.99        68\n",
      "         1.0       0.98      0.98      0.98        58\n",
      "\n",
      "    accuracy                           0.98       126\n",
      "   macro avg       0.98      0.98      0.98       126\n",
      "weighted avg       0.98      0.98      0.98       126\n",
      "\n"
     ]
    }
   ],
   "source": [
    "bc = BaggingClassifier()\n",
    "bc.fit(x_train,y_train)\n",
    "bcpred = bc.predict(x_test)\n",
    "bcacc = accuracy_score(y_test, bcpred)\n",
    "bccon = confusion_matrix(y_test, bcpred)\n",
    "bcclass = classification_report(y_test, bcpred)\n",
    "\n",
    "print('The accuracy score for Bagging classifier is', bcacc.round(2))\n",
    "print(bccon)\n",
    "print(bcclass)"
   ]
  },
  {
   "cell_type": "markdown",
   "id": "5de648b9",
   "metadata": {},
   "source": [
    "Hence highest accuracy is in the Extra trees classifier. We will also check with the cross validation score."
   ]
  },
  {
   "cell_type": "code",
   "execution_count": 156,
   "id": "5909190d",
   "metadata": {},
   "outputs": [
    {
     "name": "stdout",
     "output_type": "stream",
     "text": [
      "[0.97619048 1.         0.95238095 0.98809524 1.        ]\n",
      "0.9833333333333334\n",
      "1.0\n",
      "The difference between the accuracy score and cross val score of logistic regression is 0.016666666666666607\n"
     ]
    }
   ],
   "source": [
    "score = cross_val_score(lg,x2,y1)\n",
    "print(score)\n",
    "print(score.mean())\n",
    "print(lgacc)\n",
    "print('The difference between the accuracy score and cross val score of logistic regression is', lgacc - score.mean())"
   ]
  },
  {
   "cell_type": "code",
   "execution_count": 157,
   "id": "e1409e6e",
   "metadata": {},
   "outputs": [
    {
     "name": "stdout",
     "output_type": "stream",
     "text": [
      "[0.97619048 1.         0.94047619 1.         0.96428571]\n",
      "0.9761904761904763\n",
      "1.0\n",
      "The difference between the accuracy score and cross val score of random forest classifier is 0.023809523809523725\n"
     ]
    }
   ],
   "source": [
    "score1 = cross_val_score(rfc,x2,y1)\n",
    "print(score1)\n",
    "print(score1.mean())\n",
    "print(rfcacc)\n",
    "\n",
    "print('The difference between the accuracy score and cross val score of random forest classifier is', rfcacc - score1.mean())"
   ]
  },
  {
   "cell_type": "code",
   "execution_count": 158,
   "id": "01a9c7a1",
   "metadata": {},
   "outputs": [
    {
     "name": "stdout",
     "output_type": "stream",
     "text": [
      "[0.98809524 1.         0.96428571 1.         0.97619048]\n",
      "0.9857142857142858\n",
      "1.0\n",
      "The difference between the accuracy score and cross val score of extra trees classifier is 0.014285714285714235\n"
     ]
    }
   ],
   "source": [
    "sc2 = cross_val_score(etc,x2,y1)\n",
    "print(sc2)\n",
    "print(sc2.mean())\n",
    "print(etcacc)\n",
    "\n",
    "print('The difference between the accuracy score and cross val score of extra trees classifier is', etcacc - sc2.mean())"
   ]
  },
  {
   "cell_type": "markdown",
   "id": "f243125f",
   "metadata": {},
   "source": [
    "So, We have checked the cross val score for our best 3 models and there is not much difference. Hence our best model will be Extra Trees Classifier."
   ]
  },
  {
   "cell_type": "markdown",
   "id": "f17d46d3",
   "metadata": {},
   "source": [
    "We will go ahead with GridSearch CV to hyper parameter boosting and increase the perfomance of our top model."
   ]
  },
  {
   "cell_type": "code",
   "execution_count": 159,
   "id": "2ed2f177",
   "metadata": {},
   "outputs": [],
   "source": [
    "from sklearn.model_selection import GridSearchCV"
   ]
  },
  {
   "cell_type": "code",
   "execution_count": 160,
   "id": "3505159a",
   "metadata": {},
   "outputs": [],
   "source": [
    "param = { 'n_estimators': [100, 200, 300], \n",
    "     'criterion': ['gini', 'entropy'],    \n",
    "    'max_depth': [None, 10, 20],                  \n",
    "    'min_samples_split': [2, 5, 10],              \n",
    "    'min_samples_leaf': [1, 2, 4] }"
   ]
  },
  {
   "cell_type": "code",
   "execution_count": 161,
   "id": "65470102",
   "metadata": {},
   "outputs": [],
   "source": [
    "gcv = GridSearchCV(ExtraTreesClassifier(),param,cv =5)"
   ]
  },
  {
   "cell_type": "code",
   "execution_count": 162,
   "id": "76042491",
   "metadata": {},
   "outputs": [
    {
     "data": {
      "text/plain": [
       "GridSearchCV(cv=5, estimator=ExtraTreesClassifier(),\n",
       "             param_grid={'criterion': ['gini', 'entropy'],\n",
       "                         'max_depth': [None, 10, 20],\n",
       "                         'min_samples_leaf': [1, 2, 4],\n",
       "                         'min_samples_split': [2, 5, 10],\n",
       "                         'n_estimators': [100, 200, 300]})"
      ]
     },
     "execution_count": 162,
     "metadata": {},
     "output_type": "execute_result"
    }
   ],
   "source": [
    "gcv.fit(x_train,y_train)"
   ]
  },
  {
   "cell_type": "code",
   "execution_count": 163,
   "id": "90847197",
   "metadata": {},
   "outputs": [
    {
     "data": {
      "text/plain": [
       "{'criterion': 'gini',\n",
       " 'max_depth': None,\n",
       " 'min_samples_leaf': 1,\n",
       " 'min_samples_split': 10,\n",
       " 'n_estimators': 100}"
      ]
     },
     "execution_count": 163,
     "metadata": {},
     "output_type": "execute_result"
    }
   ],
   "source": [
    "gcv.best_params_"
   ]
  },
  {
   "cell_type": "code",
   "execution_count": 164,
   "id": "72108c3b",
   "metadata": {},
   "outputs": [
    {
     "name": "stdout",
     "output_type": "stream",
     "text": [
      "The Accuracy score for Final Model is 1.0\n",
      "[[68  0]\n",
      " [ 0 58]]\n",
      "              precision    recall  f1-score   support\n",
      "\n",
      "         0.0       1.00      1.00      1.00        68\n",
      "         1.0       1.00      1.00      1.00        58\n",
      "\n",
      "    accuracy                           1.00       126\n",
      "   macro avg       1.00      1.00      1.00       126\n",
      "weighted avg       1.00      1.00      1.00       126\n",
      "\n"
     ]
    }
   ],
   "source": [
    "fm = ExtraTreesClassifier(criterion = 'entropy',max_depth = 20, min_samples_leaf = 1, min_samples_split = 5, n_estimators = 200 )\n",
    "fm.fit(x_train, y_train)\n",
    "fmpred = fm.predict(x_test)\n",
    "fmacc = accuracy_score(y_test,fmpred)\n",
    "fmcon = confusion_matrix(y_test, fmpred)\n",
    "fmclass = classification_report(y_test, fmpred)\n",
    "\n",
    "print('The Accuracy score for Final Model is', fmacc.round(2))\n",
    "print(fmcon)\n",
    "print(fmclass)"
   ]
  },
  {
   "cell_type": "code",
   "execution_count": 165,
   "id": "1f3fcea8",
   "metadata": {},
   "outputs": [],
   "source": [
    "import joblib"
   ]
  },
  {
   "cell_type": "code",
   "execution_count": 166,
   "id": "f52faafd",
   "metadata": {},
   "outputs": [
    {
     "data": {
      "text/plain": [
       "['Glass Prediction']"
      ]
     },
     "execution_count": 166,
     "metadata": {},
     "output_type": "execute_result"
    }
   ],
   "source": [
    "joblib.dump(fm, 'Glass Prediction')"
   ]
  },
  {
   "cell_type": "code",
   "execution_count": 167,
   "id": "d2ba6002",
   "metadata": {},
   "outputs": [],
   "source": [
    "m = joblib.load('Glass Prediction')"
   ]
  },
  {
   "cell_type": "code",
   "execution_count": 168,
   "id": "392ad5de",
   "metadata": {},
   "outputs": [
    {
     "data": {
      "text/plain": [
       "array([0., 0., 0., 0., 1., 1., 0., 1., 1., 1., 0., 1., 1., 0., 0., 0., 0.,\n",
       "       0., 1., 1., 0., 0., 1., 1., 0., 1., 0., 1., 0., 1., 0., 0., 0., 0.,\n",
       "       0., 0., 0., 1., 0., 1., 0., 1., 1., 1., 0., 0., 0., 1., 1., 0., 1.,\n",
       "       0., 1., 0., 1., 1., 1., 1., 1., 0., 1., 1., 0., 1., 0., 1., 0., 1.,\n",
       "       1., 1., 1., 0., 0., 1., 1., 0., 0., 1., 0., 1., 0., 0., 0., 0., 1.,\n",
       "       0., 0., 0., 0., 1., 0., 1., 1., 0., 0., 1., 0., 0., 0., 1., 1., 0.,\n",
       "       1., 1., 1., 0., 0., 1., 1., 1., 0., 1., 0., 0., 1., 0., 0., 0., 1.,\n",
       "       1., 1., 0., 0., 0., 0., 0.])"
      ]
     },
     "execution_count": 168,
     "metadata": {},
     "output_type": "execute_result"
    }
   ],
   "source": [
    "predic = m.predict(x_test)\n",
    "predic"
   ]
  },
  {
   "cell_type": "code",
   "execution_count": 169,
   "id": "055bc85c",
   "metadata": {},
   "outputs": [],
   "source": [
    "A = np.array(y_test)"
   ]
  },
  {
   "cell_type": "code",
   "execution_count": 170,
   "id": "ff745251",
   "metadata": {},
   "outputs": [
    {
     "data": {
      "text/html": [
       "<div>\n",
       "<style scoped>\n",
       "    .dataframe tbody tr th:only-of-type {\n",
       "        vertical-align: middle;\n",
       "    }\n",
       "\n",
       "    .dataframe tbody tr th {\n",
       "        vertical-align: top;\n",
       "    }\n",
       "\n",
       "    .dataframe thead th {\n",
       "        text-align: right;\n",
       "    }\n",
       "</style>\n",
       "<table border=\"1\" class=\"dataframe\">\n",
       "  <thead>\n",
       "    <tr style=\"text-align: right;\">\n",
       "      <th></th>\n",
       "      <th>Predicted</th>\n",
       "      <th>Original</th>\n",
       "    </tr>\n",
       "  </thead>\n",
       "  <tbody>\n",
       "    <tr>\n",
       "      <th>0</th>\n",
       "      <td>0.0</td>\n",
       "      <td>0.0</td>\n",
       "    </tr>\n",
       "    <tr>\n",
       "      <th>1</th>\n",
       "      <td>0.0</td>\n",
       "      <td>0.0</td>\n",
       "    </tr>\n",
       "    <tr>\n",
       "      <th>2</th>\n",
       "      <td>0.0</td>\n",
       "      <td>0.0</td>\n",
       "    </tr>\n",
       "    <tr>\n",
       "      <th>3</th>\n",
       "      <td>0.0</td>\n",
       "      <td>0.0</td>\n",
       "    </tr>\n",
       "    <tr>\n",
       "      <th>4</th>\n",
       "      <td>1.0</td>\n",
       "      <td>1.0</td>\n",
       "    </tr>\n",
       "    <tr>\n",
       "      <th>...</th>\n",
       "      <td>...</td>\n",
       "      <td>...</td>\n",
       "    </tr>\n",
       "    <tr>\n",
       "      <th>121</th>\n",
       "      <td>0.0</td>\n",
       "      <td>0.0</td>\n",
       "    </tr>\n",
       "    <tr>\n",
       "      <th>122</th>\n",
       "      <td>0.0</td>\n",
       "      <td>0.0</td>\n",
       "    </tr>\n",
       "    <tr>\n",
       "      <th>123</th>\n",
       "      <td>0.0</td>\n",
       "      <td>0.0</td>\n",
       "    </tr>\n",
       "    <tr>\n",
       "      <th>124</th>\n",
       "      <td>0.0</td>\n",
       "      <td>0.0</td>\n",
       "    </tr>\n",
       "    <tr>\n",
       "      <th>125</th>\n",
       "      <td>0.0</td>\n",
       "      <td>0.0</td>\n",
       "    </tr>\n",
       "  </tbody>\n",
       "</table>\n",
       "<p>126 rows × 2 columns</p>\n",
       "</div>"
      ],
      "text/plain": [
       "     Predicted  Original\n",
       "0          0.0       0.0\n",
       "1          0.0       0.0\n",
       "2          0.0       0.0\n",
       "3          0.0       0.0\n",
       "4          1.0       1.0\n",
       "..         ...       ...\n",
       "121        0.0       0.0\n",
       "122        0.0       0.0\n",
       "123        0.0       0.0\n",
       "124        0.0       0.0\n",
       "125        0.0       0.0\n",
       "\n",
       "[126 rows x 2 columns]"
      ]
     },
     "execution_count": 170,
     "metadata": {},
     "output_type": "execute_result"
    }
   ],
   "source": [
    "df = pd.DataFrame()\n",
    "df['Predicted'] = predic\n",
    "df['Original'] = A\n",
    "df"
   ]
  },
  {
   "cell_type": "markdown",
   "id": "68e4a1ca",
   "metadata": {},
   "source": [
    "So, Here Zero(0) is Window glass and one(1) is Non Window Glass."
   ]
  },
  {
   "cell_type": "code",
   "execution_count": 173,
   "id": "f89c5b1e",
   "metadata": {},
   "outputs": [],
   "source": [
    "df['Predicted'].replace(0,'Window Glass', inplace = True)\n",
    "df['Predicted'].replace(1,'Non Window Glass', inplace = True)"
   ]
  },
  {
   "cell_type": "code",
   "execution_count": 174,
   "id": "b1b7ab71",
   "metadata": {},
   "outputs": [],
   "source": [
    "df['Original'].replace(0,'Window Glass', inplace = True)\n",
    "df['Original'].replace(1,'Non Window Glass', inplace = True)"
   ]
  },
  {
   "cell_type": "code",
   "execution_count": 175,
   "id": "6e94d059",
   "metadata": {},
   "outputs": [
    {
     "data": {
      "text/html": [
       "<div>\n",
       "<style scoped>\n",
       "    .dataframe tbody tr th:only-of-type {\n",
       "        vertical-align: middle;\n",
       "    }\n",
       "\n",
       "    .dataframe tbody tr th {\n",
       "        vertical-align: top;\n",
       "    }\n",
       "\n",
       "    .dataframe thead th {\n",
       "        text-align: right;\n",
       "    }\n",
       "</style>\n",
       "<table border=\"1\" class=\"dataframe\">\n",
       "  <thead>\n",
       "    <tr style=\"text-align: right;\">\n",
       "      <th></th>\n",
       "      <th>Predicted</th>\n",
       "      <th>Original</th>\n",
       "    </tr>\n",
       "  </thead>\n",
       "  <tbody>\n",
       "    <tr>\n",
       "      <th>0</th>\n",
       "      <td>Window Glass</td>\n",
       "      <td>Window Glass</td>\n",
       "    </tr>\n",
       "    <tr>\n",
       "      <th>1</th>\n",
       "      <td>Window Glass</td>\n",
       "      <td>Window Glass</td>\n",
       "    </tr>\n",
       "    <tr>\n",
       "      <th>2</th>\n",
       "      <td>Window Glass</td>\n",
       "      <td>Window Glass</td>\n",
       "    </tr>\n",
       "    <tr>\n",
       "      <th>3</th>\n",
       "      <td>Window Glass</td>\n",
       "      <td>Window Glass</td>\n",
       "    </tr>\n",
       "    <tr>\n",
       "      <th>4</th>\n",
       "      <td>Non Window Glass</td>\n",
       "      <td>Non Window Glass</td>\n",
       "    </tr>\n",
       "    <tr>\n",
       "      <th>...</th>\n",
       "      <td>...</td>\n",
       "      <td>...</td>\n",
       "    </tr>\n",
       "    <tr>\n",
       "      <th>121</th>\n",
       "      <td>Window Glass</td>\n",
       "      <td>Window Glass</td>\n",
       "    </tr>\n",
       "    <tr>\n",
       "      <th>122</th>\n",
       "      <td>Window Glass</td>\n",
       "      <td>Window Glass</td>\n",
       "    </tr>\n",
       "    <tr>\n",
       "      <th>123</th>\n",
       "      <td>Window Glass</td>\n",
       "      <td>Window Glass</td>\n",
       "    </tr>\n",
       "    <tr>\n",
       "      <th>124</th>\n",
       "      <td>Window Glass</td>\n",
       "      <td>Window Glass</td>\n",
       "    </tr>\n",
       "    <tr>\n",
       "      <th>125</th>\n",
       "      <td>Window Glass</td>\n",
       "      <td>Window Glass</td>\n",
       "    </tr>\n",
       "  </tbody>\n",
       "</table>\n",
       "<p>126 rows × 2 columns</p>\n",
       "</div>"
      ],
      "text/plain": [
       "            Predicted          Original\n",
       "0        Window Glass      Window Glass\n",
       "1        Window Glass      Window Glass\n",
       "2        Window Glass      Window Glass\n",
       "3        Window Glass      Window Glass\n",
       "4    Non Window Glass  Non Window Glass\n",
       "..                ...               ...\n",
       "121      Window Glass      Window Glass\n",
       "122      Window Glass      Window Glass\n",
       "123      Window Glass      Window Glass\n",
       "124      Window Glass      Window Glass\n",
       "125      Window Glass      Window Glass\n",
       "\n",
       "[126 rows x 2 columns]"
      ]
     },
     "execution_count": 175,
     "metadata": {},
     "output_type": "execute_result"
    }
   ],
   "source": [
    "df"
   ]
  },
  {
   "cell_type": "code",
   "execution_count": null,
   "id": "261d4578",
   "metadata": {},
   "outputs": [],
   "source": []
  },
  {
   "cell_type": "code",
   "execution_count": null,
   "id": "af8d7bba",
   "metadata": {},
   "outputs": [],
   "source": []
  },
  {
   "cell_type": "code",
   "execution_count": null,
   "id": "252b5b53",
   "metadata": {},
   "outputs": [],
   "source": []
  },
  {
   "cell_type": "code",
   "execution_count": null,
   "id": "4fc59e90",
   "metadata": {},
   "outputs": [],
   "source": []
  },
  {
   "cell_type": "code",
   "execution_count": null,
   "id": "a646db27",
   "metadata": {},
   "outputs": [],
   "source": []
  },
  {
   "cell_type": "code",
   "execution_count": null,
   "id": "27924f9c",
   "metadata": {},
   "outputs": [],
   "source": []
  },
  {
   "cell_type": "code",
   "execution_count": null,
   "id": "0acd6c59",
   "metadata": {},
   "outputs": [],
   "source": []
  },
  {
   "cell_type": "code",
   "execution_count": null,
   "id": "642861f9",
   "metadata": {},
   "outputs": [],
   "source": []
  },
  {
   "cell_type": "code",
   "execution_count": null,
   "id": "79fb7ecb",
   "metadata": {},
   "outputs": [],
   "source": []
  },
  {
   "cell_type": "code",
   "execution_count": null,
   "id": "6c595fd8",
   "metadata": {},
   "outputs": [],
   "source": []
  },
  {
   "cell_type": "code",
   "execution_count": null,
   "id": "8e879383",
   "metadata": {},
   "outputs": [],
   "source": []
  },
  {
   "cell_type": "code",
   "execution_count": null,
   "id": "4102d524",
   "metadata": {},
   "outputs": [],
   "source": []
  },
  {
   "cell_type": "code",
   "execution_count": null,
   "id": "6a7a933e",
   "metadata": {},
   "outputs": [],
   "source": []
  },
  {
   "cell_type": "code",
   "execution_count": null,
   "id": "87adb3a7",
   "metadata": {},
   "outputs": [],
   "source": []
  },
  {
   "cell_type": "code",
   "execution_count": null,
   "id": "327a6247",
   "metadata": {},
   "outputs": [],
   "source": []
  },
  {
   "cell_type": "code",
   "execution_count": null,
   "id": "b948fc86",
   "metadata": {},
   "outputs": [],
   "source": []
  },
  {
   "cell_type": "code",
   "execution_count": null,
   "id": "1d6f0758",
   "metadata": {},
   "outputs": [],
   "source": []
  },
  {
   "cell_type": "code",
   "execution_count": null,
   "id": "0c055955",
   "metadata": {},
   "outputs": [],
   "source": []
  },
  {
   "cell_type": "code",
   "execution_count": null,
   "id": "a7852370",
   "metadata": {},
   "outputs": [],
   "source": []
  },
  {
   "cell_type": "code",
   "execution_count": null,
   "id": "2b4b4c8c",
   "metadata": {},
   "outputs": [],
   "source": []
  },
  {
   "cell_type": "code",
   "execution_count": null,
   "id": "808b1b56",
   "metadata": {},
   "outputs": [],
   "source": []
  },
  {
   "cell_type": "code",
   "execution_count": null,
   "id": "1670724b",
   "metadata": {},
   "outputs": [],
   "source": []
  },
  {
   "cell_type": "code",
   "execution_count": null,
   "id": "e675f8eb",
   "metadata": {},
   "outputs": [],
   "source": []
  },
  {
   "cell_type": "code",
   "execution_count": null,
   "id": "f420dfc9",
   "metadata": {},
   "outputs": [],
   "source": []
  },
  {
   "cell_type": "code",
   "execution_count": null,
   "id": "04a1a86e",
   "metadata": {},
   "outputs": [],
   "source": []
  },
  {
   "cell_type": "code",
   "execution_count": null,
   "id": "2bede346",
   "metadata": {},
   "outputs": [],
   "source": []
  },
  {
   "cell_type": "code",
   "execution_count": null,
   "id": "d2bf000e",
   "metadata": {},
   "outputs": [],
   "source": []
  },
  {
   "cell_type": "code",
   "execution_count": null,
   "id": "ab923ab0",
   "metadata": {},
   "outputs": [],
   "source": []
  },
  {
   "cell_type": "code",
   "execution_count": null,
   "id": "c0300018",
   "metadata": {},
   "outputs": [],
   "source": []
  },
  {
   "cell_type": "code",
   "execution_count": null,
   "id": "9e191ec4",
   "metadata": {},
   "outputs": [],
   "source": []
  },
  {
   "cell_type": "code",
   "execution_count": null,
   "id": "80cb6081",
   "metadata": {},
   "outputs": [],
   "source": []
  },
  {
   "cell_type": "code",
   "execution_count": null,
   "id": "dad7a0e3",
   "metadata": {},
   "outputs": [],
   "source": []
  },
  {
   "cell_type": "code",
   "execution_count": null,
   "id": "6a4942e4",
   "metadata": {},
   "outputs": [],
   "source": []
  },
  {
   "cell_type": "code",
   "execution_count": null,
   "id": "a28e3247",
   "metadata": {},
   "outputs": [],
   "source": []
  },
  {
   "cell_type": "code",
   "execution_count": null,
   "id": "761f1609",
   "metadata": {},
   "outputs": [],
   "source": []
  },
  {
   "cell_type": "code",
   "execution_count": null,
   "id": "24c1fe6a",
   "metadata": {},
   "outputs": [],
   "source": []
  },
  {
   "cell_type": "code",
   "execution_count": null,
   "id": "0add1fc3",
   "metadata": {},
   "outputs": [],
   "source": []
  },
  {
   "cell_type": "code",
   "execution_count": null,
   "id": "8a395191",
   "metadata": {},
   "outputs": [],
   "source": []
  },
  {
   "cell_type": "code",
   "execution_count": null,
   "id": "80331151",
   "metadata": {},
   "outputs": [],
   "source": []
  },
  {
   "cell_type": "code",
   "execution_count": null,
   "id": "8d1c9399",
   "metadata": {},
   "outputs": [],
   "source": []
  },
  {
   "cell_type": "code",
   "execution_count": null,
   "id": "39ca2aac",
   "metadata": {},
   "outputs": [],
   "source": []
  },
  {
   "cell_type": "code",
   "execution_count": null,
   "id": "4924a194",
   "metadata": {},
   "outputs": [],
   "source": []
  },
  {
   "cell_type": "code",
   "execution_count": null,
   "id": "a83487ba",
   "metadata": {},
   "outputs": [],
   "source": []
  },
  {
   "cell_type": "code",
   "execution_count": null,
   "id": "f5494104",
   "metadata": {},
   "outputs": [],
   "source": []
  },
  {
   "cell_type": "code",
   "execution_count": null,
   "id": "d7ce0a9e",
   "metadata": {},
   "outputs": [],
   "source": []
  }
 ],
 "metadata": {
  "kernelspec": {
   "display_name": "Python 3 (ipykernel)",
   "language": "python",
   "name": "python3"
  },
  "language_info": {
   "codemirror_mode": {
    "name": "ipython",
    "version": 3
   },
   "file_extension": ".py",
   "mimetype": "text/x-python",
   "name": "python",
   "nbconvert_exporter": "python",
   "pygments_lexer": "ipython3",
   "version": "3.9.13"
  }
 },
 "nbformat": 4,
 "nbformat_minor": 5
}
