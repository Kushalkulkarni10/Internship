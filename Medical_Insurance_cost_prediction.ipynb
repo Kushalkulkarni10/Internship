{
 "cells": [
  {
   "cell_type": "markdown",
   "id": "df30c32b",
   "metadata": {},
   "source": [
    "## Medical Insurance Cost Prediction project"
   ]
  },
  {
   "cell_type": "code",
   "execution_count": 2,
   "id": "e2232e47",
   "metadata": {},
   "outputs": [],
   "source": [
    "import pandas as pd\n",
    "import numpy as np\n",
    "import matplotlib.pyplot as plt\n",
    "import seaborn as sns\n",
    "import sklearn\n",
    "from sklearn.metrics import mean_squared_error, mean_absolute_error, r2_score\n",
    "from sklearn.model_selection import train_test_split"
   ]
  },
  {
   "cell_type": "markdown",
   "id": "e291d799",
   "metadata": {},
   "source": [
    "Importing the data"
   ]
  },
  {
   "cell_type": "code",
   "execution_count": 3,
   "id": "81049a3e",
   "metadata": {},
   "outputs": [],
   "source": [
    "medi =pd.read_csv('https://raw.githubusercontent.com/dsrscientist/dataset4/main/medical_cost_insurance.csv')"
   ]
  },
  {
   "cell_type": "code",
   "execution_count": 4,
   "id": "be38cbec",
   "metadata": {},
   "outputs": [
    {
     "data": {
      "text/html": [
       "<div>\n",
       "<style scoped>\n",
       "    .dataframe tbody tr th:only-of-type {\n",
       "        vertical-align: middle;\n",
       "    }\n",
       "\n",
       "    .dataframe tbody tr th {\n",
       "        vertical-align: top;\n",
       "    }\n",
       "\n",
       "    .dataframe thead th {\n",
       "        text-align: right;\n",
       "    }\n",
       "</style>\n",
       "<table border=\"1\" class=\"dataframe\">\n",
       "  <thead>\n",
       "    <tr style=\"text-align: right;\">\n",
       "      <th></th>\n",
       "      <th>age</th>\n",
       "      <th>sex</th>\n",
       "      <th>bmi</th>\n",
       "      <th>children</th>\n",
       "      <th>smoker</th>\n",
       "      <th>region</th>\n",
       "      <th>charges</th>\n",
       "    </tr>\n",
       "  </thead>\n",
       "  <tbody>\n",
       "    <tr>\n",
       "      <th>0</th>\n",
       "      <td>19</td>\n",
       "      <td>female</td>\n",
       "      <td>27.900</td>\n",
       "      <td>0</td>\n",
       "      <td>yes</td>\n",
       "      <td>southwest</td>\n",
       "      <td>16884.92400</td>\n",
       "    </tr>\n",
       "    <tr>\n",
       "      <th>1</th>\n",
       "      <td>18</td>\n",
       "      <td>male</td>\n",
       "      <td>33.770</td>\n",
       "      <td>1</td>\n",
       "      <td>no</td>\n",
       "      <td>southeast</td>\n",
       "      <td>1725.55230</td>\n",
       "    </tr>\n",
       "    <tr>\n",
       "      <th>2</th>\n",
       "      <td>28</td>\n",
       "      <td>male</td>\n",
       "      <td>33.000</td>\n",
       "      <td>3</td>\n",
       "      <td>no</td>\n",
       "      <td>southeast</td>\n",
       "      <td>4449.46200</td>\n",
       "    </tr>\n",
       "    <tr>\n",
       "      <th>3</th>\n",
       "      <td>33</td>\n",
       "      <td>male</td>\n",
       "      <td>22.705</td>\n",
       "      <td>0</td>\n",
       "      <td>no</td>\n",
       "      <td>northwest</td>\n",
       "      <td>21984.47061</td>\n",
       "    </tr>\n",
       "    <tr>\n",
       "      <th>4</th>\n",
       "      <td>32</td>\n",
       "      <td>male</td>\n",
       "      <td>28.880</td>\n",
       "      <td>0</td>\n",
       "      <td>no</td>\n",
       "      <td>northwest</td>\n",
       "      <td>3866.85520</td>\n",
       "    </tr>\n",
       "    <tr>\n",
       "      <th>...</th>\n",
       "      <td>...</td>\n",
       "      <td>...</td>\n",
       "      <td>...</td>\n",
       "      <td>...</td>\n",
       "      <td>...</td>\n",
       "      <td>...</td>\n",
       "      <td>...</td>\n",
       "    </tr>\n",
       "    <tr>\n",
       "      <th>1333</th>\n",
       "      <td>50</td>\n",
       "      <td>male</td>\n",
       "      <td>30.970</td>\n",
       "      <td>3</td>\n",
       "      <td>no</td>\n",
       "      <td>northwest</td>\n",
       "      <td>10600.54830</td>\n",
       "    </tr>\n",
       "    <tr>\n",
       "      <th>1334</th>\n",
       "      <td>18</td>\n",
       "      <td>female</td>\n",
       "      <td>31.920</td>\n",
       "      <td>0</td>\n",
       "      <td>no</td>\n",
       "      <td>northeast</td>\n",
       "      <td>2205.98080</td>\n",
       "    </tr>\n",
       "    <tr>\n",
       "      <th>1335</th>\n",
       "      <td>18</td>\n",
       "      <td>female</td>\n",
       "      <td>36.850</td>\n",
       "      <td>0</td>\n",
       "      <td>no</td>\n",
       "      <td>southeast</td>\n",
       "      <td>1629.83350</td>\n",
       "    </tr>\n",
       "    <tr>\n",
       "      <th>1336</th>\n",
       "      <td>21</td>\n",
       "      <td>female</td>\n",
       "      <td>25.800</td>\n",
       "      <td>0</td>\n",
       "      <td>no</td>\n",
       "      <td>southwest</td>\n",
       "      <td>2007.94500</td>\n",
       "    </tr>\n",
       "    <tr>\n",
       "      <th>1337</th>\n",
       "      <td>61</td>\n",
       "      <td>female</td>\n",
       "      <td>29.070</td>\n",
       "      <td>0</td>\n",
       "      <td>yes</td>\n",
       "      <td>northwest</td>\n",
       "      <td>29141.36030</td>\n",
       "    </tr>\n",
       "  </tbody>\n",
       "</table>\n",
       "<p>1338 rows × 7 columns</p>\n",
       "</div>"
      ],
      "text/plain": [
       "      age     sex     bmi  children smoker     region      charges\n",
       "0      19  female  27.900         0    yes  southwest  16884.92400\n",
       "1      18    male  33.770         1     no  southeast   1725.55230\n",
       "2      28    male  33.000         3     no  southeast   4449.46200\n",
       "3      33    male  22.705         0     no  northwest  21984.47061\n",
       "4      32    male  28.880         0     no  northwest   3866.85520\n",
       "...   ...     ...     ...       ...    ...        ...          ...\n",
       "1333   50    male  30.970         3     no  northwest  10600.54830\n",
       "1334   18  female  31.920         0     no  northeast   2205.98080\n",
       "1335   18  female  36.850         0     no  southeast   1629.83350\n",
       "1336   21  female  25.800         0     no  southwest   2007.94500\n",
       "1337   61  female  29.070         0    yes  northwest  29141.36030\n",
       "\n",
       "[1338 rows x 7 columns]"
      ]
     },
     "execution_count": 4,
     "metadata": {},
     "output_type": "execute_result"
    }
   ],
   "source": [
    "medi"
   ]
  },
  {
   "cell_type": "code",
   "execution_count": 5,
   "id": "55097d8c",
   "metadata": {},
   "outputs": [
    {
     "data": {
      "text/plain": [
       "(1338, 7)"
      ]
     },
     "execution_count": 5,
     "metadata": {},
     "output_type": "execute_result"
    }
   ],
   "source": [
    "medi.shape"
   ]
  },
  {
   "cell_type": "markdown",
   "id": "402a9a84",
   "metadata": {},
   "source": [
    "Observations:\n",
    "1) The data consists of 7 columns in which 6 are the independent variables and one is dependent varaible. Our target(dependent) varaible is charges.\n",
    "\n",
    "2) Columns such as age, bmi, children and charges(target variable) are integer data type. \n",
    "\n",
    "3) Columns Sex, Smoker and religion are string as well as categorical data, which we will be encoding going forward in this project.\n",
    "\n",
    "4) Our target variable is a continous in form so we will be using all the regression models on this data."
   ]
  },
  {
   "cell_type": "code",
   "execution_count": 6,
   "id": "75764e9f",
   "metadata": {},
   "outputs": [
    {
     "name": "stdout",
     "output_type": "stream",
     "text": [
      "<class 'pandas.core.frame.DataFrame'>\n",
      "RangeIndex: 1338 entries, 0 to 1337\n",
      "Data columns (total 7 columns):\n",
      " #   Column    Non-Null Count  Dtype  \n",
      "---  ------    --------------  -----  \n",
      " 0   age       1338 non-null   int64  \n",
      " 1   sex       1338 non-null   object \n",
      " 2   bmi       1338 non-null   float64\n",
      " 3   children  1338 non-null   int64  \n",
      " 4   smoker    1338 non-null   object \n",
      " 5   region    1338 non-null   object \n",
      " 6   charges   1338 non-null   float64\n",
      "dtypes: float64(2), int64(2), object(3)\n",
      "memory usage: 73.3+ KB\n"
     ]
    }
   ],
   "source": [
    "medi.info()"
   ]
  },
  {
   "cell_type": "code",
   "execution_count": 7,
   "id": "5ce3e638",
   "metadata": {},
   "outputs": [
    {
     "data": {
      "text/html": [
       "<div>\n",
       "<style scoped>\n",
       "    .dataframe tbody tr th:only-of-type {\n",
       "        vertical-align: middle;\n",
       "    }\n",
       "\n",
       "    .dataframe tbody tr th {\n",
       "        vertical-align: top;\n",
       "    }\n",
       "\n",
       "    .dataframe thead th {\n",
       "        text-align: right;\n",
       "    }\n",
       "</style>\n",
       "<table border=\"1\" class=\"dataframe\">\n",
       "  <thead>\n",
       "    <tr style=\"text-align: right;\">\n",
       "      <th></th>\n",
       "      <th>age</th>\n",
       "      <th>bmi</th>\n",
       "      <th>children</th>\n",
       "      <th>charges</th>\n",
       "    </tr>\n",
       "  </thead>\n",
       "  <tbody>\n",
       "    <tr>\n",
       "      <th>count</th>\n",
       "      <td>1338.000000</td>\n",
       "      <td>1338.000000</td>\n",
       "      <td>1338.000000</td>\n",
       "      <td>1338.000000</td>\n",
       "    </tr>\n",
       "    <tr>\n",
       "      <th>mean</th>\n",
       "      <td>39.207025</td>\n",
       "      <td>30.663397</td>\n",
       "      <td>1.094918</td>\n",
       "      <td>13270.422265</td>\n",
       "    </tr>\n",
       "    <tr>\n",
       "      <th>std</th>\n",
       "      <td>14.049960</td>\n",
       "      <td>6.098187</td>\n",
       "      <td>1.205493</td>\n",
       "      <td>12110.011237</td>\n",
       "    </tr>\n",
       "    <tr>\n",
       "      <th>min</th>\n",
       "      <td>18.000000</td>\n",
       "      <td>15.960000</td>\n",
       "      <td>0.000000</td>\n",
       "      <td>1121.873900</td>\n",
       "    </tr>\n",
       "    <tr>\n",
       "      <th>25%</th>\n",
       "      <td>27.000000</td>\n",
       "      <td>26.296250</td>\n",
       "      <td>0.000000</td>\n",
       "      <td>4740.287150</td>\n",
       "    </tr>\n",
       "    <tr>\n",
       "      <th>50%</th>\n",
       "      <td>39.000000</td>\n",
       "      <td>30.400000</td>\n",
       "      <td>1.000000</td>\n",
       "      <td>9382.033000</td>\n",
       "    </tr>\n",
       "    <tr>\n",
       "      <th>75%</th>\n",
       "      <td>51.000000</td>\n",
       "      <td>34.693750</td>\n",
       "      <td>2.000000</td>\n",
       "      <td>16639.912515</td>\n",
       "    </tr>\n",
       "    <tr>\n",
       "      <th>max</th>\n",
       "      <td>64.000000</td>\n",
       "      <td>53.130000</td>\n",
       "      <td>5.000000</td>\n",
       "      <td>63770.428010</td>\n",
       "    </tr>\n",
       "  </tbody>\n",
       "</table>\n",
       "</div>"
      ],
      "text/plain": [
       "               age          bmi     children       charges\n",
       "count  1338.000000  1338.000000  1338.000000   1338.000000\n",
       "mean     39.207025    30.663397     1.094918  13270.422265\n",
       "std      14.049960     6.098187     1.205493  12110.011237\n",
       "min      18.000000    15.960000     0.000000   1121.873900\n",
       "25%      27.000000    26.296250     0.000000   4740.287150\n",
       "50%      39.000000    30.400000     1.000000   9382.033000\n",
       "75%      51.000000    34.693750     2.000000  16639.912515\n",
       "max      64.000000    53.130000     5.000000  63770.428010"
      ]
     },
     "execution_count": 7,
     "metadata": {},
     "output_type": "execute_result"
    }
   ],
   "source": [
    "medi.describe()"
   ]
  },
  {
   "cell_type": "markdown",
   "id": "a4280135",
   "metadata": {},
   "source": [
    "Observations:\n",
    "    \n",
    "1) From the above figures it can be seen that there are no negative values in the data so the data is good and will be helpfull in achieving our goal.\n",
    "\n",
    "2) For the column charges the mean is more then the median which suggests the skewness in data. All other columns looks fine.\n",
    "\n",
    "3) There is not much difference in 75th percentile and maximum value of all columns except the charges columns which suggest the outliers in the column.\n",
    "\n",
    "4) We will check for the null values in the data as also the graphical analysis."
   ]
  },
  {
   "cell_type": "code",
   "execution_count": 8,
   "id": "def9344f",
   "metadata": {},
   "outputs": [
    {
     "data": {
      "text/plain": [
       "age         0\n",
       "sex         0\n",
       "bmi         0\n",
       "children    0\n",
       "smoker      0\n",
       "region      0\n",
       "charges     0\n",
       "dtype: int64"
      ]
     },
     "execution_count": 8,
     "metadata": {},
     "output_type": "execute_result"
    }
   ],
   "source": [
    "medi.isnull().sum()"
   ]
  },
  {
   "cell_type": "markdown",
   "id": "8645266a",
   "metadata": {},
   "source": [
    "So there is no null value in whole data which is good and will help us predict our target more precisely."
   ]
  },
  {
   "cell_type": "code",
   "execution_count": 9,
   "id": "09828ada",
   "metadata": {},
   "outputs": [
    {
     "name": "stderr",
     "output_type": "stream",
     "text": [
      "C:\\Users\\Kushal Kulkarni\\AppData\\Local\\Temp\\ipykernel_22148\\3750823170.py:1: FutureWarning: Dropping of nuisance columns in DataFrame reductions (with 'numeric_only=None') is deprecated; in a future version this will raise TypeError.  Select only valid columns before calling the reduction.\n",
      "  medi.skew()\n"
     ]
    },
    {
     "data": {
      "text/plain": [
       "age         0.055673\n",
       "bmi         0.284047\n",
       "children    0.938380\n",
       "charges     1.515880\n",
       "dtype: float64"
      ]
     },
     "execution_count": 9,
     "metadata": {},
     "output_type": "execute_result"
    }
   ],
   "source": [
    "medi.skew()"
   ]
  },
  {
   "cell_type": "markdown",
   "id": "dd2c3c29",
   "metadata": {},
   "source": [
    "Skewness for all the columns exept the charges columns looks in the limit, we will check removing skewness for the column."
   ]
  },
  {
   "cell_type": "code",
   "execution_count": 10,
   "id": "8bdb0d8f",
   "metadata": {},
   "outputs": [
    {
     "data": {
      "text/plain": [
       "<AxesSubplot:ylabel='Frequency'>"
      ]
     },
     "execution_count": 10,
     "metadata": {},
     "output_type": "execute_result"
    },
    {
     "data": {
      "image/png": "[encoded data removed]",
      "text/plain": [
       "<Figure size 640x480 with 1 Axes>"
      ]
     },
     "metadata": {},
     "output_type": "display_data"
    }
   ],
   "source": [
    "medi['charges'].plot.hist()"
   ]
  },
  {
   "cell_type": "code",
   "execution_count": 11,
   "id": "0e6f4a8f",
   "metadata": {},
   "outputs": [],
   "source": [
    "medi['charges'] = np.log(medi['charges'])"
   ]
  },
  {
   "cell_type": "code",
   "execution_count": 12,
   "id": "4e031923",
   "metadata": {},
   "outputs": [
    {
     "data": {
      "text/plain": [
       "-0.09009752473024582"
      ]
     },
     "execution_count": 12,
     "metadata": {},
     "output_type": "execute_result"
    }
   ],
   "source": [
    "medi['charges'].skew()"
   ]
  },
  {
   "cell_type": "code",
   "execution_count": 13,
   "id": "e9e5ce7e",
   "metadata": {},
   "outputs": [
    {
     "data": {
      "text/plain": [
       "<AxesSubplot:ylabel='Frequency'>"
      ]
     },
     "execution_count": 13,
     "metadata": {},
     "output_type": "execute_result"
    },
    {
     "data": {
      "image/png": "[encoded data removed]",
      "text/plain": [
       "<Figure size 640x480 with 1 Axes>"
      ]
     },
     "metadata": {},
     "output_type": "display_data"
    }
   ],
   "source": [
    "medi['charges'].plot.hist()"
   ]
  },
  {
   "cell_type": "markdown",
   "id": "87e2dd04",
   "metadata": {},
   "source": [
    "So the skewness for the charges column has been removed and the data is now distrubuted normally can be seen in graph."
   ]
  },
  {
   "cell_type": "code",
   "execution_count": 14,
   "id": "29061889",
   "metadata": {},
   "outputs": [
    {
     "data": {
      "text/plain": [
       "<AxesSubplot:ylabel='Frequency'>"
      ]
     },
     "execution_count": 14,
     "metadata": {},
     "output_type": "execute_result"
    },
    {
     "data": {
      "image/png": "[encoded data removed]",
      "text/plain": [
       "<Figure size 640x480 with 1 Axes>"
      ]
     },
     "metadata": {},
     "output_type": "display_data"
    }
   ],
   "source": [
    "medi['age'].plot.hist()"
   ]
  },
  {
   "cell_type": "markdown",
   "id": "ee5e6231",
   "metadata": {},
   "source": [
    "In the age column it can bee seen that data is distrubuted pretty well."
   ]
  },
  {
   "cell_type": "code",
   "execution_count": 15,
   "id": "98cc3ffe",
   "metadata": {},
   "outputs": [
    {
     "data": {
      "text/plain": [
       "<AxesSubplot:ylabel='Frequency'>"
      ]
     },
     "execution_count": 15,
     "metadata": {},
     "output_type": "execute_result"
    },
    {
     "data": {
      "image/png": "[encoded data removed]",
      "text/plain": [
       "<Figure size 640x480 with 1 Axes>"
      ]
     },
     "metadata": {},
     "output_type": "display_data"
    }
   ],
   "source": [
    "medi['bmi'].plot.hist()"
   ]
  },
  {
   "cell_type": "markdown",
   "id": "b3451171",
   "metadata": {},
   "source": [
    "In BMI column as well the data is distrubuted normally."
   ]
  },
  {
   "cell_type": "code",
   "execution_count": 16,
   "id": "9a7ca42a",
   "metadata": {},
   "outputs": [
    {
     "data": {
      "text/plain": [
       "<AxesSubplot:ylabel='Frequency'>"
      ]
     },
     "execution_count": 16,
     "metadata": {},
     "output_type": "execute_result"
    },
    {
     "data": {
      "image/png": "[encoded data removed]",
      "text/plain": [
       "<Figure size 640x480 with 1 Axes>"
      ]
     },
     "metadata": {},
     "output_type": "display_data"
    }
   ],
   "source": [
    "medi['children'].plot.hist()"
   ]
  },
  {
   "cell_type": "markdown",
   "id": "a12ef215",
   "metadata": {},
   "source": [
    "In the Children we can see the skewness is there but it can treated as categorical data hence we are not working on the skewness currently. We wil reduce the same if needed."
   ]
  },
  {
   "cell_type": "markdown",
   "id": "a9b9bc13",
   "metadata": {},
   "source": [
    "Checking the correlation of the columns."
   ]
  },
  {
   "cell_type": "code",
   "execution_count": 17,
   "id": "fa68dbcf",
   "metadata": {},
   "outputs": [
    {
     "data": {
      "text/plain": [
       "<function matplotlib.pyplot.show(close=None, block=None)>"
      ]
     },
     "execution_count": 17,
     "metadata": {},
     "output_type": "execute_result"
    },
    {
     "data": {
      "image/png": "[encoded data removed]",
      "text/plain": [
       "<Figure size 800x700 with 2 Axes>"
      ]
     },
     "metadata": {},
     "output_type": "display_data"
    }
   ],
   "source": [
    "plt.figure(figsize = (8,7))\n",
    "sns.heatmap(medi.corr(), annot = True)\n",
    "plt.show"
   ]
  },
  {
   "cell_type": "markdown",
   "id": "8dd2835c",
   "metadata": {},
   "source": [
    "From the above heatmap it can be seen that there is negative correlation between age, children and bmi. We will check the same through pair and scatter plot."
   ]
  },
  {
   "cell_type": "markdown",
   "id": "352317ff",
   "metadata": {},
   "source": [
    "For more details we will be encoding or typecasting the columns in object state and then do the more graphical analysis."
   ]
  },
  {
   "cell_type": "code",
   "execution_count": 18,
   "id": "db78bde5",
   "metadata": {},
   "outputs": [],
   "source": [
    "from sklearn.preprocessing import OrdinalEncoder\n",
    "\n",
    "OE = OrdinalEncoder()\n",
    "\n",
    "for i in medi.columns:\n",
    "    if medi[i].dtypes == 'object':\n",
    "        medi[i] = OE.fit_transform(medi[i].values.reshape(-1,1))"
   ]
  },
  {
   "cell_type": "code",
   "execution_count": 19,
   "id": "21f94dcd",
   "metadata": {},
   "outputs": [
    {
     "data": {
      "text/html": [
       "<div>\n",
       "<style scoped>\n",
       "    .dataframe tbody tr th:only-of-type {\n",
       "        vertical-align: middle;\n",
       "    }\n",
       "\n",
       "    .dataframe tbody tr th {\n",
       "        vertical-align: top;\n",
       "    }\n",
       "\n",
       "    .dataframe thead th {\n",
       "        text-align: right;\n",
       "    }\n",
       "</style>\n",
       "<table border=\"1\" class=\"dataframe\">\n",
       "  <thead>\n",
       "    <tr style=\"text-align: right;\">\n",
       "      <th></th>\n",
       "      <th>age</th>\n",
       "      <th>sex</th>\n",
       "      <th>bmi</th>\n",
       "      <th>children</th>\n",
       "      <th>smoker</th>\n",
       "      <th>region</th>\n",
       "      <th>charges</th>\n",
       "    </tr>\n",
       "  </thead>\n",
       "  <tbody>\n",
       "    <tr>\n",
       "      <th>0</th>\n",
       "      <td>19</td>\n",
       "      <td>0.0</td>\n",
       "      <td>27.900</td>\n",
       "      <td>0</td>\n",
       "      <td>1.0</td>\n",
       "      <td>3.0</td>\n",
       "      <td>9.734176</td>\n",
       "    </tr>\n",
       "    <tr>\n",
       "      <th>1</th>\n",
       "      <td>18</td>\n",
       "      <td>1.0</td>\n",
       "      <td>33.770</td>\n",
       "      <td>1</td>\n",
       "      <td>0.0</td>\n",
       "      <td>2.0</td>\n",
       "      <td>7.453302</td>\n",
       "    </tr>\n",
       "    <tr>\n",
       "      <th>2</th>\n",
       "      <td>28</td>\n",
       "      <td>1.0</td>\n",
       "      <td>33.000</td>\n",
       "      <td>3</td>\n",
       "      <td>0.0</td>\n",
       "      <td>2.0</td>\n",
       "      <td>8.400538</td>\n",
       "    </tr>\n",
       "    <tr>\n",
       "      <th>3</th>\n",
       "      <td>33</td>\n",
       "      <td>1.0</td>\n",
       "      <td>22.705</td>\n",
       "      <td>0</td>\n",
       "      <td>0.0</td>\n",
       "      <td>1.0</td>\n",
       "      <td>9.998092</td>\n",
       "    </tr>\n",
       "    <tr>\n",
       "      <th>4</th>\n",
       "      <td>32</td>\n",
       "      <td>1.0</td>\n",
       "      <td>28.880</td>\n",
       "      <td>0</td>\n",
       "      <td>0.0</td>\n",
       "      <td>1.0</td>\n",
       "      <td>8.260197</td>\n",
       "    </tr>\n",
       "    <tr>\n",
       "      <th>...</th>\n",
       "      <td>...</td>\n",
       "      <td>...</td>\n",
       "      <td>...</td>\n",
       "      <td>...</td>\n",
       "      <td>...</td>\n",
       "      <td>...</td>\n",
       "      <td>...</td>\n",
       "    </tr>\n",
       "    <tr>\n",
       "      <th>1333</th>\n",
       "      <td>50</td>\n",
       "      <td>1.0</td>\n",
       "      <td>30.970</td>\n",
       "      <td>3</td>\n",
       "      <td>0.0</td>\n",
       "      <td>1.0</td>\n",
       "      <td>9.268661</td>\n",
       "    </tr>\n",
       "    <tr>\n",
       "      <th>1334</th>\n",
       "      <td>18</td>\n",
       "      <td>0.0</td>\n",
       "      <td>31.920</td>\n",
       "      <td>0</td>\n",
       "      <td>0.0</td>\n",
       "      <td>0.0</td>\n",
       "      <td>7.698927</td>\n",
       "    </tr>\n",
       "    <tr>\n",
       "      <th>1335</th>\n",
       "      <td>18</td>\n",
       "      <td>0.0</td>\n",
       "      <td>36.850</td>\n",
       "      <td>0</td>\n",
       "      <td>0.0</td>\n",
       "      <td>2.0</td>\n",
       "      <td>7.396233</td>\n",
       "    </tr>\n",
       "    <tr>\n",
       "      <th>1336</th>\n",
       "      <td>21</td>\n",
       "      <td>0.0</td>\n",
       "      <td>25.800</td>\n",
       "      <td>0</td>\n",
       "      <td>0.0</td>\n",
       "      <td>3.0</td>\n",
       "      <td>7.604867</td>\n",
       "    </tr>\n",
       "    <tr>\n",
       "      <th>1337</th>\n",
       "      <td>61</td>\n",
       "      <td>0.0</td>\n",
       "      <td>29.070</td>\n",
       "      <td>0</td>\n",
       "      <td>1.0</td>\n",
       "      <td>1.0</td>\n",
       "      <td>10.279914</td>\n",
       "    </tr>\n",
       "  </tbody>\n",
       "</table>\n",
       "<p>1338 rows × 7 columns</p>\n",
       "</div>"
      ],
      "text/plain": [
       "      age  sex     bmi  children  smoker  region    charges\n",
       "0      19  0.0  27.900         0     1.0     3.0   9.734176\n",
       "1      18  1.0  33.770         1     0.0     2.0   7.453302\n",
       "2      28  1.0  33.000         3     0.0     2.0   8.400538\n",
       "3      33  1.0  22.705         0     0.0     1.0   9.998092\n",
       "4      32  1.0  28.880         0     0.0     1.0   8.260197\n",
       "...   ...  ...     ...       ...     ...     ...        ...\n",
       "1333   50  1.0  30.970         3     0.0     1.0   9.268661\n",
       "1334   18  0.0  31.920         0     0.0     0.0   7.698927\n",
       "1335   18  0.0  36.850         0     0.0     2.0   7.396233\n",
       "1336   21  0.0  25.800         0     0.0     3.0   7.604867\n",
       "1337   61  0.0  29.070         0     1.0     1.0  10.279914\n",
       "\n",
       "[1338 rows x 7 columns]"
      ]
     },
     "execution_count": 19,
     "metadata": {},
     "output_type": "execute_result"
    }
   ],
   "source": [
    "medi"
   ]
  },
  {
   "cell_type": "markdown",
   "id": "36b4b2de",
   "metadata": {},
   "source": [
    "So from our new DataFrame it can seen that all the oject columns are now converted into integer data."
   ]
  },
  {
   "cell_type": "code",
   "execution_count": 20,
   "id": "0dfe4817",
   "metadata": {},
   "outputs": [
    {
     "data": {
      "text/plain": [
       "4"
      ]
     },
     "execution_count": 20,
     "metadata": {},
     "output_type": "execute_result"
    }
   ],
   "source": [
    "medi['region'].nunique()"
   ]
  },
  {
   "cell_type": "code",
   "execution_count": 21,
   "id": "9fe85431",
   "metadata": {},
   "outputs": [
    {
     "data": {
      "text/plain": [
       "2"
      ]
     },
     "execution_count": 21,
     "metadata": {},
     "output_type": "execute_result"
    }
   ],
   "source": [
    "medi['sex'].nunique()"
   ]
  },
  {
   "cell_type": "code",
   "execution_count": 22,
   "id": "fc8ac021",
   "metadata": {},
   "outputs": [
    {
     "data": {
      "text/plain": [
       "2"
      ]
     },
     "execution_count": 22,
     "metadata": {},
     "output_type": "execute_result"
    }
   ],
   "source": [
    "medi['smoker'].nunique()"
   ]
  },
  {
   "cell_type": "markdown",
   "id": "9d68159c",
   "metadata": {},
   "source": [
    "In the new dataset after the Encoding the of the data from object to integer the following are particulars,\n",
    "\n",
    "In the column 'Sex' - There were 2 Values. Male & Female which are now 0 = Female and 1 = Male.\n",
    "\n",
    "Similarly in columns 'Smoker' - There were 2 Values. Yes and No which are now = 0 = No and 1 = Yes.\n",
    "\n",
    "In the column 'Region' there were 4 different values. Southwest, Southeast, Northwest, Northeast which are now.\n",
    "\n",
    "0 - Northeast\n",
    "\n",
    "1 - Northwest\n",
    "\n",
    "2 - Southeast\n",
    "\n",
    "3 - Southwest"
   ]
  },
  {
   "cell_type": "markdown",
   "id": "a4b2f40b",
   "metadata": {},
   "source": [
    "Now again we will be checking the correlation of the columns in the data set."
   ]
  },
  {
   "cell_type": "code",
   "execution_count": 23,
   "id": "c78cb840",
   "metadata": {},
   "outputs": [
    {
     "data": {
      "image/png": "[encoded data removed]",
      "text/plain": [
       "<Figure size 800x700 with 2 Axes>"
      ]
     },
     "metadata": {},
     "output_type": "display_data"
    }
   ],
   "source": [
    "plt.figure(figsize =(8,7))\n",
    "sns.heatmap(medi.corr(), annot = True)\n",
    "plt.show()"
   ]
  },
  {
   "cell_type": "markdown",
   "id": "522836b4",
   "metadata": {},
   "source": [
    "From the above heatmap of the correlation it can be seen that only 2 columns are having positive relation with Charges column which is our target variable.\n",
    "This means that as the age increases the charges increases and if the person is smoker then charges increases.\n",
    "\n",
    "All other columns seems not having positive relation with our target varibale."
   ]
  },
  {
   "cell_type": "markdown",
   "id": "41c388dd",
   "metadata": {},
   "source": [
    "We wil check the relation of age, smoker and charges column further."
   ]
  },
  {
   "cell_type": "code",
   "execution_count": 24,
   "id": "36109b98",
   "metadata": {
    "scrolled": true
   },
   "outputs": [
    {
     "data": {
      "text/plain": [
       "<seaborn.axisgrid.FacetGrid at 0x2705d579af0>"
      ]
     },
     "execution_count": 24,
     "metadata": {},
     "output_type": "execute_result"
    },
    {
     "data": {
      "image/png": "[encoded data removed]",
      "text/plain": [
       "<Figure size 500x500 with 1 Axes>"
      ]
     },
     "metadata": {},
     "output_type": "display_data"
    }
   ],
   "source": [
    "sns.lmplot(x= 'charges', y ='age', data = medi)"
   ]
  },
  {
   "cell_type": "markdown",
   "id": "622ccc00",
   "metadata": {},
   "source": [
    "So the above graph confirms that there is strong positive relation."
   ]
  },
  {
   "cell_type": "code",
   "execution_count": 25,
   "id": "4967ba8d",
   "metadata": {},
   "outputs": [
    {
     "data": {
      "text/plain": [
       "<seaborn.axisgrid.FacetGrid at 0x2705e7685b0>"
      ]
     },
     "execution_count": 25,
     "metadata": {},
     "output_type": "execute_result"
    },
    {
     "data": {
      "image/png": "[encoded data removed]",
      "text/plain": [
       "<Figure size 500x500 with 1 Axes>"
      ]
     },
     "metadata": {},
     "output_type": "display_data"
    }
   ],
   "source": [
    "sns.lmplot(x= 'smoker', y ='charges', data = medi)"
   ]
  },
  {
   "cell_type": "markdown",
   "id": "45661d05",
   "metadata": {},
   "source": [
    "So if the persone is smoker the cost of the insurance is higher."
   ]
  },
  {
   "cell_type": "markdown",
   "id": "914ce5f5",
   "metadata": {},
   "source": [
    "Checking the outliers through boxplot."
   ]
  },
  {
   "cell_type": "code",
   "execution_count": 26,
   "id": "5de5b253",
   "metadata": {},
   "outputs": [
    {
     "data": {
      "text/plain": [
       "age            AxesSubplot(0.125,0.53;0.168478x0.35)\n",
       "sex         AxesSubplot(0.327174,0.53;0.168478x0.35)\n",
       "bmi         AxesSubplot(0.529348,0.53;0.168478x0.35)\n",
       "children    AxesSubplot(0.731522,0.53;0.168478x0.35)\n",
       "smoker         AxesSubplot(0.125,0.11;0.168478x0.35)\n",
       "region      AxesSubplot(0.327174,0.11;0.168478x0.35)\n",
       "charges     AxesSubplot(0.529348,0.11;0.168478x0.35)\n",
       "dtype: object"
      ]
     },
     "execution_count": 26,
     "metadata": {},
     "output_type": "execute_result"
    },
    {
     "data": {
      "image/png": "[encoded data removed]",
      "text/plain": [
       "<Figure size 640x480 with 8 Axes>"
      ]
     },
     "metadata": {},
     "output_type": "display_data"
    }
   ],
   "source": [
    "medi.plot(kind = 'box', subplots = True, layout = (2,4))"
   ]
  },
  {
   "cell_type": "markdown",
   "id": "7f49e9fa",
   "metadata": {},
   "source": [
    "So from the above box plots it can be seen that only 2 columns are present with the outliers which are 'bmi' and 'smoker'. We will be trying to remove outliers through Zscore method."
   ]
  },
  {
   "cell_type": "code",
   "execution_count": 27,
   "id": "f358b8cd",
   "metadata": {},
   "outputs": [],
   "source": [
    "from scipy.stats import zscore"
   ]
  },
  {
   "cell_type": "code",
   "execution_count": 28,
   "id": "62c09138",
   "metadata": {},
   "outputs": [
    {
     "data": {
      "text/html": [
       "<div>\n",
       "<style scoped>\n",
       "    .dataframe tbody tr th:only-of-type {\n",
       "        vertical-align: middle;\n",
       "    }\n",
       "\n",
       "    .dataframe tbody tr th {\n",
       "        vertical-align: top;\n",
       "    }\n",
       "\n",
       "    .dataframe thead th {\n",
       "        text-align: right;\n",
       "    }\n",
       "</style>\n",
       "<table border=\"1\" class=\"dataframe\">\n",
       "  <thead>\n",
       "    <tr style=\"text-align: right;\">\n",
       "      <th></th>\n",
       "      <th>age</th>\n",
       "      <th>sex</th>\n",
       "      <th>bmi</th>\n",
       "      <th>children</th>\n",
       "      <th>smoker</th>\n",
       "      <th>region</th>\n",
       "      <th>charges</th>\n",
       "    </tr>\n",
       "  </thead>\n",
       "  <tbody>\n",
       "    <tr>\n",
       "      <th>0</th>\n",
       "      <td>1.438764</td>\n",
       "      <td>1.010519</td>\n",
       "      <td>0.453320</td>\n",
       "      <td>0.908614</td>\n",
       "      <td>1.970587</td>\n",
       "      <td>1.343905</td>\n",
       "      <td>0.691394</td>\n",
       "    </tr>\n",
       "    <tr>\n",
       "      <th>1</th>\n",
       "      <td>1.509965</td>\n",
       "      <td>0.989591</td>\n",
       "      <td>0.509621</td>\n",
       "      <td>0.078767</td>\n",
       "      <td>0.507463</td>\n",
       "      <td>0.438495</td>\n",
       "      <td>1.790020</td>\n",
       "    </tr>\n",
       "    <tr>\n",
       "      <th>2</th>\n",
       "      <td>0.797954</td>\n",
       "      <td>0.989591</td>\n",
       "      <td>0.383307</td>\n",
       "      <td>1.580926</td>\n",
       "      <td>0.507463</td>\n",
       "      <td>0.438495</td>\n",
       "      <td>0.759500</td>\n",
       "    </tr>\n",
       "    <tr>\n",
       "      <th>3</th>\n",
       "      <td>0.441948</td>\n",
       "      <td>0.989591</td>\n",
       "      <td>1.305531</td>\n",
       "      <td>0.908614</td>\n",
       "      <td>0.507463</td>\n",
       "      <td>0.466915</td>\n",
       "      <td>0.978513</td>\n",
       "    </tr>\n",
       "    <tr>\n",
       "      <th>4</th>\n",
       "      <td>0.513149</td>\n",
       "      <td>0.989591</td>\n",
       "      <td>0.292556</td>\n",
       "      <td>0.908614</td>\n",
       "      <td>0.507463</td>\n",
       "      <td>0.466915</td>\n",
       "      <td>0.912181</td>\n",
       "    </tr>\n",
       "    <tr>\n",
       "      <th>...</th>\n",
       "      <td>...</td>\n",
       "      <td>...</td>\n",
       "      <td>...</td>\n",
       "      <td>...</td>\n",
       "      <td>...</td>\n",
       "      <td>...</td>\n",
       "      <td>...</td>\n",
       "    </tr>\n",
       "    <tr>\n",
       "      <th>1333</th>\n",
       "      <td>0.768473</td>\n",
       "      <td>0.989591</td>\n",
       "      <td>0.050297</td>\n",
       "      <td>1.580926</td>\n",
       "      <td>0.507463</td>\n",
       "      <td>0.466915</td>\n",
       "      <td>0.184949</td>\n",
       "    </tr>\n",
       "    <tr>\n",
       "      <th>1334</th>\n",
       "      <td>1.509965</td>\n",
       "      <td>1.010519</td>\n",
       "      <td>0.206139</td>\n",
       "      <td>0.908614</td>\n",
       "      <td>0.507463</td>\n",
       "      <td>1.372326</td>\n",
       "      <td>1.522799</td>\n",
       "    </tr>\n",
       "    <tr>\n",
       "      <th>1335</th>\n",
       "      <td>1.509965</td>\n",
       "      <td>1.010519</td>\n",
       "      <td>1.014878</td>\n",
       "      <td>0.908614</td>\n",
       "      <td>0.507463</td>\n",
       "      <td>0.438495</td>\n",
       "      <td>1.852106</td>\n",
       "    </tr>\n",
       "    <tr>\n",
       "      <th>1336</th>\n",
       "      <td>1.296362</td>\n",
       "      <td>1.010519</td>\n",
       "      <td>0.797813</td>\n",
       "      <td>0.908614</td>\n",
       "      <td>0.507463</td>\n",
       "      <td>1.343905</td>\n",
       "      <td>1.625129</td>\n",
       "    </tr>\n",
       "    <tr>\n",
       "      <th>1337</th>\n",
       "      <td>1.551686</td>\n",
       "      <td>1.010519</td>\n",
       "      <td>0.261388</td>\n",
       "      <td>0.908614</td>\n",
       "      <td>1.970587</td>\n",
       "      <td>0.466915</td>\n",
       "      <td>1.285113</td>\n",
       "    </tr>\n",
       "  </tbody>\n",
       "</table>\n",
       "<p>1338 rows × 7 columns</p>\n",
       "</div>"
      ],
      "text/plain": [
       "           age       sex       bmi  children    smoker    region   charges\n",
       "0     1.438764  1.010519  0.453320  0.908614  1.970587  1.343905  0.691394\n",
       "1     1.509965  0.989591  0.509621  0.078767  0.507463  0.438495  1.790020\n",
       "2     0.797954  0.989591  0.383307  1.580926  0.507463  0.438495  0.759500\n",
       "3     0.441948  0.989591  1.305531  0.908614  0.507463  0.466915  0.978513\n",
       "4     0.513149  0.989591  0.292556  0.908614  0.507463  0.466915  0.912181\n",
       "...        ...       ...       ...       ...       ...       ...       ...\n",
       "1333  0.768473  0.989591  0.050297  1.580926  0.507463  0.466915  0.184949\n",
       "1334  1.509965  1.010519  0.206139  0.908614  0.507463  1.372326  1.522799\n",
       "1335  1.509965  1.010519  1.014878  0.908614  0.507463  0.438495  1.852106\n",
       "1336  1.296362  1.010519  0.797813  0.908614  0.507463  1.343905  1.625129\n",
       "1337  1.551686  1.010519  0.261388  0.908614  1.970587  0.466915  1.285113\n",
       "\n",
       "[1338 rows x 7 columns]"
      ]
     },
     "execution_count": 28,
     "metadata": {},
     "output_type": "execute_result"
    }
   ],
   "source": [
    "Z = np.abs(zscore(medi))\n",
    "Z"
   ]
  },
  {
   "cell_type": "code",
   "execution_count": 29,
   "id": "b564fa8f",
   "metadata": {},
   "outputs": [
    {
     "name": "stdout",
     "output_type": "stream",
     "text": [
      "(array([  32,   71,  116,  166,  413,  425,  438,  568,  640,  847,  877,\n",
      "        932,  937,  969,  984, 1047, 1085, 1116, 1130, 1245, 1272, 1317],\n",
      "      dtype=int64), array([3, 3, 2, 3, 3, 3, 3, 3, 3, 2, 3, 3, 3, 3, 3, 2, 3, 3, 3, 3, 3, 2],\n",
      "      dtype=int64))\n"
     ]
    }
   ],
   "source": [
    "threshold = 3\n",
    "print(np.where(Z>3))"
   ]
  },
  {
   "cell_type": "markdown",
   "id": "5eaa9083",
   "metadata": {},
   "source": [
    "So the above mentioned columns are having the Zscore value of more then 3 hence we will remove them from our data."
   ]
  },
  {
   "cell_type": "code",
   "execution_count": 30,
   "id": "b400f319",
   "metadata": {},
   "outputs": [
    {
     "data": {
      "text/html": [
       "<div>\n",
       "<style scoped>\n",
       "    .dataframe tbody tr th:only-of-type {\n",
       "        vertical-align: middle;\n",
       "    }\n",
       "\n",
       "    .dataframe tbody tr th {\n",
       "        vertical-align: top;\n",
       "    }\n",
       "\n",
       "    .dataframe thead th {\n",
       "        text-align: right;\n",
       "    }\n",
       "</style>\n",
       "<table border=\"1\" class=\"dataframe\">\n",
       "  <thead>\n",
       "    <tr style=\"text-align: right;\">\n",
       "      <th></th>\n",
       "      <th>age</th>\n",
       "      <th>sex</th>\n",
       "      <th>bmi</th>\n",
       "      <th>children</th>\n",
       "      <th>smoker</th>\n",
       "      <th>region</th>\n",
       "      <th>charges</th>\n",
       "    </tr>\n",
       "  </thead>\n",
       "  <tbody>\n",
       "    <tr>\n",
       "      <th>0</th>\n",
       "      <td>19</td>\n",
       "      <td>0.0</td>\n",
       "      <td>27.900</td>\n",
       "      <td>0</td>\n",
       "      <td>1.0</td>\n",
       "      <td>3.0</td>\n",
       "      <td>9.734176</td>\n",
       "    </tr>\n",
       "    <tr>\n",
       "      <th>1</th>\n",
       "      <td>18</td>\n",
       "      <td>1.0</td>\n",
       "      <td>33.770</td>\n",
       "      <td>1</td>\n",
       "      <td>0.0</td>\n",
       "      <td>2.0</td>\n",
       "      <td>7.453302</td>\n",
       "    </tr>\n",
       "    <tr>\n",
       "      <th>2</th>\n",
       "      <td>28</td>\n",
       "      <td>1.0</td>\n",
       "      <td>33.000</td>\n",
       "      <td>3</td>\n",
       "      <td>0.0</td>\n",
       "      <td>2.0</td>\n",
       "      <td>8.400538</td>\n",
       "    </tr>\n",
       "    <tr>\n",
       "      <th>3</th>\n",
       "      <td>33</td>\n",
       "      <td>1.0</td>\n",
       "      <td>22.705</td>\n",
       "      <td>0</td>\n",
       "      <td>0.0</td>\n",
       "      <td>1.0</td>\n",
       "      <td>9.998092</td>\n",
       "    </tr>\n",
       "    <tr>\n",
       "      <th>4</th>\n",
       "      <td>32</td>\n",
       "      <td>1.0</td>\n",
       "      <td>28.880</td>\n",
       "      <td>0</td>\n",
       "      <td>0.0</td>\n",
       "      <td>1.0</td>\n",
       "      <td>8.260197</td>\n",
       "    </tr>\n",
       "    <tr>\n",
       "      <th>...</th>\n",
       "      <td>...</td>\n",
       "      <td>...</td>\n",
       "      <td>...</td>\n",
       "      <td>...</td>\n",
       "      <td>...</td>\n",
       "      <td>...</td>\n",
       "      <td>...</td>\n",
       "    </tr>\n",
       "    <tr>\n",
       "      <th>1333</th>\n",
       "      <td>50</td>\n",
       "      <td>1.0</td>\n",
       "      <td>30.970</td>\n",
       "      <td>3</td>\n",
       "      <td>0.0</td>\n",
       "      <td>1.0</td>\n",
       "      <td>9.268661</td>\n",
       "    </tr>\n",
       "    <tr>\n",
       "      <th>1334</th>\n",
       "      <td>18</td>\n",
       "      <td>0.0</td>\n",
       "      <td>31.920</td>\n",
       "      <td>0</td>\n",
       "      <td>0.0</td>\n",
       "      <td>0.0</td>\n",
       "      <td>7.698927</td>\n",
       "    </tr>\n",
       "    <tr>\n",
       "      <th>1335</th>\n",
       "      <td>18</td>\n",
       "      <td>0.0</td>\n",
       "      <td>36.850</td>\n",
       "      <td>0</td>\n",
       "      <td>0.0</td>\n",
       "      <td>2.0</td>\n",
       "      <td>7.396233</td>\n",
       "    </tr>\n",
       "    <tr>\n",
       "      <th>1336</th>\n",
       "      <td>21</td>\n",
       "      <td>0.0</td>\n",
       "      <td>25.800</td>\n",
       "      <td>0</td>\n",
       "      <td>0.0</td>\n",
       "      <td>3.0</td>\n",
       "      <td>7.604867</td>\n",
       "    </tr>\n",
       "    <tr>\n",
       "      <th>1337</th>\n",
       "      <td>61</td>\n",
       "      <td>0.0</td>\n",
       "      <td>29.070</td>\n",
       "      <td>0</td>\n",
       "      <td>1.0</td>\n",
       "      <td>1.0</td>\n",
       "      <td>10.279914</td>\n",
       "    </tr>\n",
       "  </tbody>\n",
       "</table>\n",
       "<p>1316 rows × 7 columns</p>\n",
       "</div>"
      ],
      "text/plain": [
       "      age  sex     bmi  children  smoker  region    charges\n",
       "0      19  0.0  27.900         0     1.0     3.0   9.734176\n",
       "1      18  1.0  33.770         1     0.0     2.0   7.453302\n",
       "2      28  1.0  33.000         3     0.0     2.0   8.400538\n",
       "3      33  1.0  22.705         0     0.0     1.0   9.998092\n",
       "4      32  1.0  28.880         0     0.0     1.0   8.260197\n",
       "...   ...  ...     ...       ...     ...     ...        ...\n",
       "1333   50  1.0  30.970         3     0.0     1.0   9.268661\n",
       "1334   18  0.0  31.920         0     0.0     0.0   7.698927\n",
       "1335   18  0.0  36.850         0     0.0     2.0   7.396233\n",
       "1336   21  0.0  25.800         0     0.0     3.0   7.604867\n",
       "1337   61  0.0  29.070         0     1.0     1.0  10.279914\n",
       "\n",
       "[1316 rows x 7 columns]"
      ]
     },
     "execution_count": 30,
     "metadata": {},
     "output_type": "execute_result"
    }
   ],
   "source": [
    "medi1 = medi[(Z<3).all(axis =1)]\n",
    "medi1"
   ]
  },
  {
   "cell_type": "code",
   "execution_count": 31,
   "id": "14257c84",
   "metadata": {},
   "outputs": [
    {
     "name": "stdout",
     "output_type": "stream",
     "text": [
      "So after removing the ouliers our new Data shape is (1316, 7)\n"
     ]
    }
   ],
   "source": [
    "print('So after removing the ouliers our new Data shape is', medi1.shape)"
   ]
  },
  {
   "cell_type": "markdown",
   "id": "fa322789",
   "metadata": {},
   "source": [
    "It can be seen data we have lost we few amount of rows after the removing the outliers which a good sign for our data."
   ]
  },
  {
   "cell_type": "markdown",
   "id": "ab969bbe",
   "metadata": {},
   "source": [
    "We have splitted our independent varaibles and our target variable."
   ]
  },
  {
   "cell_type": "code",
   "execution_count": 32,
   "id": "832f7319",
   "metadata": {},
   "outputs": [
    {
     "name": "stdout",
     "output_type": "stream",
     "text": [
      "<class 'pandas.core.frame.DataFrame'>\n",
      "RangeIndex: 1338 entries, 0 to 1337\n",
      "Data columns (total 7 columns):\n",
      " #   Column    Non-Null Count  Dtype  \n",
      "---  ------    --------------  -----  \n",
      " 0   age       1338 non-null   int64  \n",
      " 1   sex       1338 non-null   float64\n",
      " 2   bmi       1338 non-null   float64\n",
      " 3   children  1338 non-null   int64  \n",
      " 4   smoker    1338 non-null   float64\n",
      " 5   region    1338 non-null   float64\n",
      " 6   charges   1338 non-null   float64\n",
      "dtypes: float64(5), int64(2)\n",
      "memory usage: 73.3 KB\n"
     ]
    }
   ],
   "source": [
    "medi.info()"
   ]
  },
  {
   "cell_type": "code",
   "execution_count": 33,
   "id": "d27637cb",
   "metadata": {},
   "outputs": [
    {
     "name": "stdout",
     "output_type": "stream",
     "text": [
      "<class 'pandas.core.frame.DataFrame'>\n",
      "Int64Index: 1316 entries, 0 to 1337\n",
      "Data columns (total 7 columns):\n",
      " #   Column    Non-Null Count  Dtype  \n",
      "---  ------    --------------  -----  \n",
      " 0   age       1316 non-null   int64  \n",
      " 1   sex       1316 non-null   float64\n",
      " 2   bmi       1316 non-null   float64\n",
      " 3   children  1316 non-null   int64  \n",
      " 4   smoker    1316 non-null   float64\n",
      " 5   region    1316 non-null   float64\n",
      " 6   charges   1316 non-null   float64\n",
      "dtypes: float64(5), int64(2)\n",
      "memory usage: 82.2 KB\n"
     ]
    }
   ],
   "source": [
    "medi1.info()"
   ]
  },
  {
   "cell_type": "code",
   "execution_count": 34,
   "id": "9caad921",
   "metadata": {},
   "outputs": [],
   "source": [
    "x = medi1.iloc[:,:-1]\n",
    "y = medi1.iloc[:,-1]"
   ]
  },
  {
   "cell_type": "code",
   "execution_count": 35,
   "id": "a4039f9b",
   "metadata": {},
   "outputs": [
    {
     "data": {
      "text/plain": [
       "(1316, 6)"
      ]
     },
     "execution_count": 35,
     "metadata": {},
     "output_type": "execute_result"
    }
   ],
   "source": [
    "x.shape"
   ]
  },
  {
   "cell_type": "code",
   "execution_count": 36,
   "id": "4700d227",
   "metadata": {},
   "outputs": [
    {
     "data": {
      "text/plain": [
       "(1316,)"
      ]
     },
     "execution_count": 36,
     "metadata": {},
     "output_type": "execute_result"
    }
   ],
   "source": [
    "y.shape"
   ]
  },
  {
   "cell_type": "code",
   "execution_count": 37,
   "id": "e8bf9c86",
   "metadata": {},
   "outputs": [
    {
     "data": {
      "text/html": [
       "<div>\n",
       "<style scoped>\n",
       "    .dataframe tbody tr th:only-of-type {\n",
       "        vertical-align: middle;\n",
       "    }\n",
       "\n",
       "    .dataframe tbody tr th {\n",
       "        vertical-align: top;\n",
       "    }\n",
       "\n",
       "    .dataframe thead th {\n",
       "        text-align: right;\n",
       "    }\n",
       "</style>\n",
       "<table border=\"1\" class=\"dataframe\">\n",
       "  <thead>\n",
       "    <tr style=\"text-align: right;\">\n",
       "      <th></th>\n",
       "      <th>age</th>\n",
       "      <th>sex</th>\n",
       "      <th>bmi</th>\n",
       "      <th>children</th>\n",
       "      <th>smoker</th>\n",
       "      <th>region</th>\n",
       "    </tr>\n",
       "  </thead>\n",
       "  <tbody>\n",
       "    <tr>\n",
       "      <th>0</th>\n",
       "      <td>19</td>\n",
       "      <td>0.0</td>\n",
       "      <td>27.900</td>\n",
       "      <td>0</td>\n",
       "      <td>1.0</td>\n",
       "      <td>3.0</td>\n",
       "    </tr>\n",
       "    <tr>\n",
       "      <th>1</th>\n",
       "      <td>18</td>\n",
       "      <td>1.0</td>\n",
       "      <td>33.770</td>\n",
       "      <td>1</td>\n",
       "      <td>0.0</td>\n",
       "      <td>2.0</td>\n",
       "    </tr>\n",
       "    <tr>\n",
       "      <th>2</th>\n",
       "      <td>28</td>\n",
       "      <td>1.0</td>\n",
       "      <td>33.000</td>\n",
       "      <td>3</td>\n",
       "      <td>0.0</td>\n",
       "      <td>2.0</td>\n",
       "    </tr>\n",
       "    <tr>\n",
       "      <th>3</th>\n",
       "      <td>33</td>\n",
       "      <td>1.0</td>\n",
       "      <td>22.705</td>\n",
       "      <td>0</td>\n",
       "      <td>0.0</td>\n",
       "      <td>1.0</td>\n",
       "    </tr>\n",
       "    <tr>\n",
       "      <th>4</th>\n",
       "      <td>32</td>\n",
       "      <td>1.0</td>\n",
       "      <td>28.880</td>\n",
       "      <td>0</td>\n",
       "      <td>0.0</td>\n",
       "      <td>1.0</td>\n",
       "    </tr>\n",
       "    <tr>\n",
       "      <th>...</th>\n",
       "      <td>...</td>\n",
       "      <td>...</td>\n",
       "      <td>...</td>\n",
       "      <td>...</td>\n",
       "      <td>...</td>\n",
       "      <td>...</td>\n",
       "    </tr>\n",
       "    <tr>\n",
       "      <th>1333</th>\n",
       "      <td>50</td>\n",
       "      <td>1.0</td>\n",
       "      <td>30.970</td>\n",
       "      <td>3</td>\n",
       "      <td>0.0</td>\n",
       "      <td>1.0</td>\n",
       "    </tr>\n",
       "    <tr>\n",
       "      <th>1334</th>\n",
       "      <td>18</td>\n",
       "      <td>0.0</td>\n",
       "      <td>31.920</td>\n",
       "      <td>0</td>\n",
       "      <td>0.0</td>\n",
       "      <td>0.0</td>\n",
       "    </tr>\n",
       "    <tr>\n",
       "      <th>1335</th>\n",
       "      <td>18</td>\n",
       "      <td>0.0</td>\n",
       "      <td>36.850</td>\n",
       "      <td>0</td>\n",
       "      <td>0.0</td>\n",
       "      <td>2.0</td>\n",
       "    </tr>\n",
       "    <tr>\n",
       "      <th>1336</th>\n",
       "      <td>21</td>\n",
       "      <td>0.0</td>\n",
       "      <td>25.800</td>\n",
       "      <td>0</td>\n",
       "      <td>0.0</td>\n",
       "      <td>3.0</td>\n",
       "    </tr>\n",
       "    <tr>\n",
       "      <th>1337</th>\n",
       "      <td>61</td>\n",
       "      <td>0.0</td>\n",
       "      <td>29.070</td>\n",
       "      <td>0</td>\n",
       "      <td>1.0</td>\n",
       "      <td>1.0</td>\n",
       "    </tr>\n",
       "  </tbody>\n",
       "</table>\n",
       "<p>1316 rows × 6 columns</p>\n",
       "</div>"
      ],
      "text/plain": [
       "      age  sex     bmi  children  smoker  region\n",
       "0      19  0.0  27.900         0     1.0     3.0\n",
       "1      18  1.0  33.770         1     0.0     2.0\n",
       "2      28  1.0  33.000         3     0.0     2.0\n",
       "3      33  1.0  22.705         0     0.0     1.0\n",
       "4      32  1.0  28.880         0     0.0     1.0\n",
       "...   ...  ...     ...       ...     ...     ...\n",
       "1333   50  1.0  30.970         3     0.0     1.0\n",
       "1334   18  0.0  31.920         0     0.0     0.0\n",
       "1335   18  0.0  36.850         0     0.0     2.0\n",
       "1336   21  0.0  25.800         0     0.0     3.0\n",
       "1337   61  0.0  29.070         0     1.0     1.0\n",
       "\n",
       "[1316 rows x 6 columns]"
      ]
     },
     "execution_count": 37,
     "metadata": {},
     "output_type": "execute_result"
    }
   ],
   "source": [
    "x"
   ]
  },
  {
   "cell_type": "code",
   "execution_count": 38,
   "id": "becbb8a6",
   "metadata": {},
   "outputs": [
    {
     "data": {
      "text/plain": [
       "0        9.734176\n",
       "1        7.453302\n",
       "2        8.400538\n",
       "3        9.998092\n",
       "4        8.260197\n",
       "          ...    \n",
       "1333     9.268661\n",
       "1334     7.698927\n",
       "1335     7.396233\n",
       "1336     7.604867\n",
       "1337    10.279914\n",
       "Name: charges, Length: 1316, dtype: float64"
      ]
     },
     "execution_count": 38,
     "metadata": {},
     "output_type": "execute_result"
    }
   ],
   "source": [
    "y"
   ]
  },
  {
   "cell_type": "code",
   "execution_count": 39,
   "id": "51489818",
   "metadata": {},
   "outputs": [
    {
     "data": {
      "text/html": [
       "<div>\n",
       "<style scoped>\n",
       "    .dataframe tbody tr th:only-of-type {\n",
       "        vertical-align: middle;\n",
       "    }\n",
       "\n",
       "    .dataframe tbody tr th {\n",
       "        vertical-align: top;\n",
       "    }\n",
       "\n",
       "    .dataframe thead th {\n",
       "        text-align: right;\n",
       "    }\n",
       "</style>\n",
       "<table border=\"1\" class=\"dataframe\">\n",
       "  <thead>\n",
       "    <tr style=\"text-align: right;\">\n",
       "      <th></th>\n",
       "      <th>age</th>\n",
       "      <th>sex</th>\n",
       "      <th>bmi</th>\n",
       "      <th>children</th>\n",
       "      <th>smoker</th>\n",
       "      <th>region</th>\n",
       "    </tr>\n",
       "  </thead>\n",
       "  <tbody>\n",
       "    <tr>\n",
       "      <th>0</th>\n",
       "      <td>-1.441444</td>\n",
       "      <td>-1.006098</td>\n",
       "      <td>-0.453768</td>\n",
       "      <td>-0.928234</td>\n",
       "      <td>1.959141</td>\n",
       "      <td>1.352089</td>\n",
       "    </tr>\n",
       "    <tr>\n",
       "      <th>1</th>\n",
       "      <td>-1.512509</td>\n",
       "      <td>0.993939</td>\n",
       "      <td>0.527239</td>\n",
       "      <td>-0.038536</td>\n",
       "      <td>-0.510428</td>\n",
       "      <td>0.446568</td>\n",
       "    </tr>\n",
       "    <tr>\n",
       "      <th>2</th>\n",
       "      <td>-0.801858</td>\n",
       "      <td>0.993939</td>\n",
       "      <td>0.398555</td>\n",
       "      <td>1.740862</td>\n",
       "      <td>-0.510428</td>\n",
       "      <td>0.446568</td>\n",
       "    </tr>\n",
       "    <tr>\n",
       "      <th>3</th>\n",
       "      <td>-0.446533</td>\n",
       "      <td>0.993939</td>\n",
       "      <td>-1.321967</td>\n",
       "      <td>-0.928234</td>\n",
       "      <td>-0.510428</td>\n",
       "      <td>-0.458954</td>\n",
       "    </tr>\n",
       "    <tr>\n",
       "      <th>4</th>\n",
       "      <td>-0.517598</td>\n",
       "      <td>0.993939</td>\n",
       "      <td>-0.289988</td>\n",
       "      <td>-0.928234</td>\n",
       "      <td>-0.510428</td>\n",
       "      <td>-0.458954</td>\n",
       "    </tr>\n",
       "    <tr>\n",
       "      <th>...</th>\n",
       "      <td>...</td>\n",
       "      <td>...</td>\n",
       "      <td>...</td>\n",
       "      <td>...</td>\n",
       "      <td>...</td>\n",
       "      <td>...</td>\n",
       "    </tr>\n",
       "    <tr>\n",
       "      <th>1311</th>\n",
       "      <td>0.761574</td>\n",
       "      <td>0.993939</td>\n",
       "      <td>0.059297</td>\n",
       "      <td>1.740862</td>\n",
       "      <td>-0.510428</td>\n",
       "      <td>-0.458954</td>\n",
       "    </tr>\n",
       "    <tr>\n",
       "      <th>1312</th>\n",
       "      <td>-1.512509</td>\n",
       "      <td>-1.006098</td>\n",
       "      <td>0.218063</td>\n",
       "      <td>-0.928234</td>\n",
       "      <td>-0.510428</td>\n",
       "      <td>-1.364475</td>\n",
       "    </tr>\n",
       "    <tr>\n",
       "      <th>1313</th>\n",
       "      <td>-1.512509</td>\n",
       "      <td>-1.006098</td>\n",
       "      <td>1.041975</td>\n",
       "      <td>-0.928234</td>\n",
       "      <td>-0.510428</td>\n",
       "      <td>0.446568</td>\n",
       "    </tr>\n",
       "    <tr>\n",
       "      <th>1314</th>\n",
       "      <td>-1.299314</td>\n",
       "      <td>-1.006098</td>\n",
       "      <td>-0.804724</td>\n",
       "      <td>-0.928234</td>\n",
       "      <td>-0.510428</td>\n",
       "      <td>1.352089</td>\n",
       "    </tr>\n",
       "    <tr>\n",
       "      <th>1315</th>\n",
       "      <td>1.543290</td>\n",
       "      <td>-1.006098</td>\n",
       "      <td>-0.258235</td>\n",
       "      <td>-0.928234</td>\n",
       "      <td>1.959141</td>\n",
       "      <td>-0.458954</td>\n",
       "    </tr>\n",
       "  </tbody>\n",
       "</table>\n",
       "<p>1316 rows × 6 columns</p>\n",
       "</div>"
      ],
      "text/plain": [
       "           age       sex       bmi  children    smoker    region\n",
       "0    -1.441444 -1.006098 -0.453768 -0.928234  1.959141  1.352089\n",
       "1    -1.512509  0.993939  0.527239 -0.038536 -0.510428  0.446568\n",
       "2    -0.801858  0.993939  0.398555  1.740862 -0.510428  0.446568\n",
       "3    -0.446533  0.993939 -1.321967 -0.928234 -0.510428 -0.458954\n",
       "4    -0.517598  0.993939 -0.289988 -0.928234 -0.510428 -0.458954\n",
       "...        ...       ...       ...       ...       ...       ...\n",
       "1311  0.761574  0.993939  0.059297  1.740862 -0.510428 -0.458954\n",
       "1312 -1.512509 -1.006098  0.218063 -0.928234 -0.510428 -1.364475\n",
       "1313 -1.512509 -1.006098  1.041975 -0.928234 -0.510428  0.446568\n",
       "1314 -1.299314 -1.006098 -0.804724 -0.928234 -0.510428  1.352089\n",
       "1315  1.543290 -1.006098 -0.258235 -0.928234  1.959141 -0.458954\n",
       "\n",
       "[1316 rows x 6 columns]"
      ]
     },
     "execution_count": 39,
     "metadata": {},
     "output_type": "execute_result"
    }
   ],
   "source": [
    "from sklearn.preprocessing import StandardScaler\n",
    "\n",
    "sc = StandardScaler()\n",
    "\n",
    "x1 = pd.DataFrame(sc.fit_transform(x),columns = x.columns)\n",
    "x1"
   ]
  },
  {
   "cell_type": "code",
   "execution_count": 40,
   "id": "289cbdb6",
   "metadata": {},
   "outputs": [
    {
     "data": {
      "text/plain": [
       "dtype('float64')"
      ]
     },
     "execution_count": 40,
     "metadata": {},
     "output_type": "execute_result"
    }
   ],
   "source": [
    "y.dtypes"
   ]
  },
  {
   "cell_type": "code",
   "execution_count": 41,
   "id": "fe011cb1",
   "metadata": {},
   "outputs": [],
   "source": [
    "y1 = pd.DataFrame(y.astype('int64'))"
   ]
  },
  {
   "cell_type": "code",
   "execution_count": 42,
   "id": "a1254787",
   "metadata": {},
   "outputs": [
    {
     "data": {
      "text/html": [
       "<div>\n",
       "<style scoped>\n",
       "    .dataframe tbody tr th:only-of-type {\n",
       "        vertical-align: middle;\n",
       "    }\n",
       "\n",
       "    .dataframe tbody tr th {\n",
       "        vertical-align: top;\n",
       "    }\n",
       "\n",
       "    .dataframe thead th {\n",
       "        text-align: right;\n",
       "    }\n",
       "</style>\n",
       "<table border=\"1\" class=\"dataframe\">\n",
       "  <thead>\n",
       "    <tr style=\"text-align: right;\">\n",
       "      <th></th>\n",
       "      <th>charges</th>\n",
       "    </tr>\n",
       "  </thead>\n",
       "  <tbody>\n",
       "    <tr>\n",
       "      <th>0</th>\n",
       "      <td>9</td>\n",
       "    </tr>\n",
       "    <tr>\n",
       "      <th>1</th>\n",
       "      <td>7</td>\n",
       "    </tr>\n",
       "    <tr>\n",
       "      <th>2</th>\n",
       "      <td>8</td>\n",
       "    </tr>\n",
       "    <tr>\n",
       "      <th>3</th>\n",
       "      <td>9</td>\n",
       "    </tr>\n",
       "    <tr>\n",
       "      <th>4</th>\n",
       "      <td>8</td>\n",
       "    </tr>\n",
       "    <tr>\n",
       "      <th>...</th>\n",
       "      <td>...</td>\n",
       "    </tr>\n",
       "    <tr>\n",
       "      <th>1333</th>\n",
       "      <td>9</td>\n",
       "    </tr>\n",
       "    <tr>\n",
       "      <th>1334</th>\n",
       "      <td>7</td>\n",
       "    </tr>\n",
       "    <tr>\n",
       "      <th>1335</th>\n",
       "      <td>7</td>\n",
       "    </tr>\n",
       "    <tr>\n",
       "      <th>1336</th>\n",
       "      <td>7</td>\n",
       "    </tr>\n",
       "    <tr>\n",
       "      <th>1337</th>\n",
       "      <td>10</td>\n",
       "    </tr>\n",
       "  </tbody>\n",
       "</table>\n",
       "<p>1316 rows × 1 columns</p>\n",
       "</div>"
      ],
      "text/plain": [
       "      charges\n",
       "0           9\n",
       "1           7\n",
       "2           8\n",
       "3           9\n",
       "4           8\n",
       "...       ...\n",
       "1333        9\n",
       "1334        7\n",
       "1335        7\n",
       "1336        7\n",
       "1337       10\n",
       "\n",
       "[1316 rows x 1 columns]"
      ]
     },
     "execution_count": 42,
     "metadata": {},
     "output_type": "execute_result"
    }
   ],
   "source": [
    "y1"
   ]
  },
  {
   "cell_type": "code",
   "execution_count": 43,
   "id": "6fdc6ea3",
   "metadata": {},
   "outputs": [
    {
     "data": {
      "text/plain": [
       "charges    5\n",
       "dtype: int64"
      ]
     },
     "execution_count": 43,
     "metadata": {},
     "output_type": "execute_result"
    }
   ],
   "source": [
    "y1.nunique()"
   ]
  },
  {
   "cell_type": "code",
   "execution_count": 44,
   "id": "a0e362f7",
   "metadata": {},
   "outputs": [
    {
     "data": {
      "text/plain": [
       "0        9.734176\n",
       "1        7.453302\n",
       "2        8.400538\n",
       "3        9.998092\n",
       "4        8.260197\n",
       "          ...    \n",
       "1333     9.268661\n",
       "1334     7.698927\n",
       "1335     7.396233\n",
       "1336     7.604867\n",
       "1337    10.279914\n",
       "Name: charges, Length: 1316, dtype: float64"
      ]
     },
     "execution_count": 44,
     "metadata": {},
     "output_type": "execute_result"
    }
   ],
   "source": [
    "y"
   ]
  },
  {
   "cell_type": "code",
   "execution_count": 45,
   "id": "974ac0ce",
   "metadata": {},
   "outputs": [
    {
     "name": "stdout",
     "output_type": "stream",
     "text": [
      "The maximum r2 score is  0.8206456149557433 at random state 11\n"
     ]
    }
   ],
   "source": [
    "from sklearn.linear_model import LinearRegression\n",
    "maxacc = 0\n",
    "maxrs = 0\n",
    "\n",
    "for i in range (1,200):\n",
    "    x_train,x_test,y_train,y_test =train_test_split(x1,y,test_size = .30, random_state = i)\n",
    "    lr = LinearRegression()\n",
    "    lr.fit(x_train, y_train)\n",
    "    pred = lr.predict(x_test)\n",
    "    r2 = r2_score(y_test,pred)\n",
    "    if r2 > maxacc:\n",
    "        maxacc = r2\n",
    "        maxrs = i\n",
    "    \n",
    "print('The maximum r2 score is ', maxacc , 'at random state', maxrs)"
   ]
  },
  {
   "cell_type": "markdown",
   "id": "f863ec27",
   "metadata": {},
   "source": [
    "Importing Various types of Rgression Algorithms"
   ]
  },
  {
   "cell_type": "code",
   "execution_count": 46,
   "id": "cd233d13",
   "metadata": {},
   "outputs": [],
   "source": [
    "from sklearn.tree import DecisionTreeRegressor\n",
    "from sklearn.ensemble import RandomForestRegressor\n",
    "from sklearn.svm import SVR\n",
    "from sklearn.neighbors import KNeighborsRegressor\n",
    "from sklearn.ensemble import GradientBoostingRegressor"
   ]
  },
  {
   "cell_type": "markdown",
   "id": "5bb3bc04",
   "metadata": {},
   "source": [
    "Now we will pass the data through all the Algorithms and check the Model with highest r2_score and minimum error rate."
   ]
  },
  {
   "cell_type": "code",
   "execution_count": 47,
   "id": "0c272b37",
   "metadata": {},
   "outputs": [],
   "source": [
    "from sklearn.metrics import r2_score"
   ]
  },
  {
   "cell_type": "code",
   "execution_count": 48,
   "id": "74592c88",
   "metadata": {},
   "outputs": [],
   "source": [
    "x_train,x_test,y_train,y_test = train_test_split(x1,y,test_size = 0.30, random_state = maxrs)"
   ]
  },
  {
   "cell_type": "code",
   "execution_count": 49,
   "id": "cfee671a",
   "metadata": {},
   "outputs": [
    {
     "data": {
      "text/plain": [
       "(1316, 6)"
      ]
     },
     "execution_count": 49,
     "metadata": {},
     "output_type": "execute_result"
    }
   ],
   "source": [
    "x1.shape"
   ]
  },
  {
   "cell_type": "code",
   "execution_count": 50,
   "id": "e7b8a133",
   "metadata": {},
   "outputs": [
    {
     "data": {
      "text/plain": [
       "(1316,)"
      ]
     },
     "execution_count": 50,
     "metadata": {},
     "output_type": "execute_result"
    }
   ],
   "source": [
    "y.shape"
   ]
  },
  {
   "cell_type": "code",
   "execution_count": 51,
   "id": "a3db696b",
   "metadata": {},
   "outputs": [
    {
     "data": {
      "text/plain": [
       "(921, 6)"
      ]
     },
     "execution_count": 51,
     "metadata": {},
     "output_type": "execute_result"
    }
   ],
   "source": [
    "x_train.shape"
   ]
  },
  {
   "cell_type": "code",
   "execution_count": 52,
   "id": "6026fe97",
   "metadata": {},
   "outputs": [
    {
     "data": {
      "text/plain": [
       "(921,)"
      ]
     },
     "execution_count": 52,
     "metadata": {},
     "output_type": "execute_result"
    }
   ],
   "source": [
    "y_train.shape"
   ]
  },
  {
   "cell_type": "code",
   "execution_count": 53,
   "id": "8e9c3f9d",
   "metadata": {},
   "outputs": [
    {
     "name": "stdout",
     "output_type": "stream",
     "text": [
      "The r2 score for Linear Regression is 0.8206456149557433\n",
      "The Mean Squared Error for Linear Regression is 0.15812270089407549\n",
      "The Mean Absolute Error for Linear Regression is 0.27094456157566504\n"
     ]
    }
   ],
   "source": [
    "lr = LinearRegression()\n",
    "lr.fit(x_train, y_train)\n",
    "predlr = lr.predict(x_test)\n",
    "r2_score1 = r2_score(y_test, predlr)\n",
    "MSE = mean_squared_error(y_test, predlr)\n",
    "MAE = mean_absolute_error(y_test,predlr)\n",
    "\n",
    "print('The r2 score for Linear Regression is', r2_score1)\n",
    "print('The Mean Squared Error for Linear Regression is', MSE)\n",
    "print('The Mean Absolute Error for Linear Regression is', MAE)"
   ]
  },
  {
   "cell_type": "code",
   "execution_count": 54,
   "id": "76c76296",
   "metadata": {},
   "outputs": [
    {
     "name": "stdout",
     "output_type": "stream",
     "text": [
      "The r2 score for Random Forest Regression is 0.848754998239257\n",
      "The Mean Squared Error for Random Forest Regression is 0.13334086127437944\n",
      "The Mean Absolute Error for Random Forest Regression is 0.22022457717381094\n"
     ]
    }
   ],
   "source": [
    "rfr = RandomForestRegressor()\n",
    "rfr.fit(x_train, y_train)\n",
    "predrfr = rfr.predict(x_test)\n",
    "rfrscore = r2_score(y_test, predrfr)\n",
    "rfr_MSE = mean_squared_error(y_test,predrfr)\n",
    "rfr_MAE = mean_absolute_error(y_test,predrfr)\n",
    "\n",
    "print('The r2 score for Random Forest Regression is',rfrscore)\n",
    "print('The Mean Squared Error for Random Forest Regression is', rfr_MSE)\n",
    "print('The Mean Absolute Error for Random Forest Regression is', rfr_MAE)"
   ]
  },
  {
   "cell_type": "code",
   "execution_count": 55,
   "id": "bb1411fa",
   "metadata": {},
   "outputs": [
    {
     "name": "stdout",
     "output_type": "stream",
     "text": [
      "The score of KNeighbors Regressor is 0.8519323080008534\n",
      "The Mean Squared Error of KNeighbors Regressor is 0.13053967634122748\n",
      "The Mean Absolute Error if KNeighbors Regressor is 0.2391804792259176\n"
     ]
    }
   ],
   "source": [
    "knr = KNeighborsRegressor()\n",
    "\n",
    "knr.fit(x_train,y_train)\n",
    "predknr = knr.predict(x_test)\n",
    "knr_score = r2_score(y_test, predknr)\n",
    "knr_MSE = mean_squared_error(y_test, predknr)\n",
    "knr_MAE = mean_absolute_error(y_test, predknr)\n",
    "\n",
    "print('The score of KNeighbors Regressor is', knr_score)\n",
    "print('The Mean Squared Error of KNeighbors Regressor is', knr_MSE)\n",
    "print('The Mean Absolute Error if KNeighbors Regressor is', knr_MAE)"
   ]
  },
  {
   "cell_type": "code",
   "execution_count": 56,
   "id": "89926054",
   "metadata": {},
   "outputs": [
    {
     "name": "stdout",
     "output_type": "stream",
     "text": [
      "The Score of Gradient Bosst Regressor is 0.8895050486971335\n",
      "The Mean Squared Error of Gradient Boost Regressor is 0.09741473636597917\n",
      "The Mean Absolute Error of Gradient Boost Regressor is 0.2024462182310774\n"
     ]
    }
   ],
   "source": [
    "gbr = GradientBoostingRegressor()\n",
    "\n",
    "gbr.fit(x_train,y_train)\n",
    "predgbr = gbr.predict(x_test)\n",
    "gbr_score = r2_score(y_test, predgbr)\n",
    "gbr_MSE = mean_squared_error(y_test, predgbr)\n",
    "gbr_MAE = mean_absolute_error(y_test, predgbr)\n",
    "\n",
    "print('The Score of Gradient Bosst Regressor is', gbr_score)\n",
    "print('The Mean Squared Error of Gradient Boost Regressor is', gbr_MSE)\n",
    "print('The Mean Absolute Error of Gradient Boost Regressor is', gbr_MAE)"
   ]
  },
  {
   "cell_type": "code",
   "execution_count": 57,
   "id": "48f2732f",
   "metadata": {},
   "outputs": [
    {
     "name": "stdout",
     "output_type": "stream",
     "text": [
      "The Score of Support Vector Regressor is 0.9182313345158112\n",
      "The Mean Squared Error of Support Vector Regressor is 0.07208902214280222\n",
      "The Mean Absolute Error of Support Vector Regressor is 0.13963253077510418\n"
     ]
    }
   ],
   "source": [
    "svr = SVR()\n",
    "\n",
    "svr.fit(x_train,y_train)\n",
    "predsvr = svr.predict(x_test)\n",
    "svr_score = r2_score(y_test, predsvr)\n",
    "svr_MSE = mean_squared_error(y_test, predsvr)\n",
    "svr_MAE = mean_absolute_error(y_test, predsvr)\n",
    "\n",
    "print('The Score of Support Vector Regressor is', svr_score)\n",
    "print('The Mean Squared Error of Support Vector Regressor is', svr_MSE)\n",
    "print('The Mean Absolute Error of Support Vector Regressor is', svr_MAE)"
   ]
  },
  {
   "cell_type": "code",
   "execution_count": 58,
   "id": "2f61e90b",
   "metadata": {},
   "outputs": [],
   "source": [
    "from sklearn.linear_model import Lasso,Ridge"
   ]
  },
  {
   "cell_type": "code",
   "execution_count": 59,
   "id": "ed15f0a6",
   "metadata": {},
   "outputs": [
    {
     "name": "stdout",
     "output_type": "stream",
     "text": [
      "The Score for Lasso is -0.0023529280691318988\n",
      "The Mean Squared Error for Lasso is 0.8836959977101569\n",
      "The Mean Absolute Error for Ridge is, 0.7634890643564338\n"
     ]
    }
   ],
   "source": [
    "lasso = Lasso()\n",
    "\n",
    "lasso.fit(x_train, y_train)\n",
    "predlasso = lasso.predict(x_test)\n",
    "lasso_score = r2_score(y_test, predlasso)\n",
    "lasso_MSE = mean_squared_error(y_test, predlasso)\n",
    "lasso_MAE = mean_absolute_error(y_test, predlasso)\n",
    "\n",
    "print('The Score for Lasso is', lasso_score)\n",
    "print('The Mean Squared Error for Lasso is', lasso_MSE)\n",
    "print('The Mean Absolute Error for Ridge is,', lasso_MAE)"
   ]
  },
  {
   "cell_type": "code",
   "execution_count": 60,
   "id": "0f504c71",
   "metadata": {},
   "outputs": [
    {
     "name": "stdout",
     "output_type": "stream",
     "text": [
      "The Score for Ridge is 0.8204980666228483\n",
      "The Mean Squared Error for Ridge is 0.15825278269220944\n",
      "The Mean Absolute Error for Ridge is 0.2711506300697972\n"
     ]
    }
   ],
   "source": [
    "ridge = Ridge()\n",
    "\n",
    "ridge.fit(x_train,y_train)\n",
    "predridge = ridge.predict(x_test)\n",
    "ridge_score = r2_score(y_test, predridge)\n",
    "ridge_MSE = mean_squared_error(y_test, predridge)\n",
    "ridge_MAE = mean_absolute_error(y_test, predridge)\n",
    "\n",
    "print('The Score for Ridge is', ridge_score)\n",
    "print('The Mean Squared Error for Ridge is', ridge_MSE)\n",
    "print('The Mean Absolute Error for Ridge is', ridge_MAE)"
   ]
  },
  {
   "cell_type": "code",
   "execution_count": 61,
   "id": "952b82e2",
   "metadata": {},
   "outputs": [],
   "source": [
    "from sklearn.ensemble import ExtraTreesRegressor"
   ]
  },
  {
   "cell_type": "code",
   "execution_count": 62,
   "id": "1c91f00f",
   "metadata": {},
   "outputs": [
    {
     "name": "stdout",
     "output_type": "stream",
     "text": [
      "The Score for Extra Trees Regressor is 0.8181804135054028\n",
      "The Mean Squared Error for Extra Trees Regressor is 0.1602960757545766\n",
      "The Mean Absolute Error ofr Extra Trees Regressot is 0.20786709781181806\n"
     ]
    }
   ],
   "source": [
    "etr = ExtraTreesRegressor()\n",
    "\n",
    "etr.fit(x_train,y_train)\n",
    "predetr = etr.predict(x_test)\n",
    "etr_score = r2_score(y_test, predetr)\n",
    "etr_MSE = mean_squared_error(y_test, predetr)\n",
    "etr_MAE = mean_absolute_error(y_test,predetr)\n",
    "\n",
    "print('The Score for Extra Trees Regressor is', etr_score)\n",
    "print('The Mean Squared Error for Extra Trees Regressor is', etr_MSE)\n",
    "print('The Mean Absolute Error ofr Extra Trees Regressot is', etr_MAE)"
   ]
  },
  {
   "cell_type": "code",
   "execution_count": 63,
   "id": "5f0539f2",
   "metadata": {},
   "outputs": [
    {
     "name": "stdout",
     "output_type": "stream",
     "text": [
      "So our best model for the given data is Support Vector Regressor with 91.8 accuracy and least error rate with 0.072 & 0.14\n"
     ]
    }
   ],
   "source": [
    "print('So our best model for the given data is Support Vector Regressor with', svr_score.round(3)*100 ,'accuracy and least error rate with', svr_MSE.round(3), '&', svr_MAE.round(3))"
   ]
  },
  {
   "cell_type": "markdown",
   "id": "624cd95f",
   "metadata": {},
   "source": [
    "As our best model for this data is Suppor Vector  Regressor we will check the Score towards the Training Data as well and compare the same with test Score."
   ]
  },
  {
   "cell_type": "code",
   "execution_count": 64,
   "id": "f3d16175",
   "metadata": {},
   "outputs": [
    {
     "name": "stdout",
     "output_type": "stream",
     "text": [
      "SVR score on test data is 91.8\n",
      "SVR score on training data is 81.0\n"
     ]
    }
   ],
   "source": [
    "pred_train = svr.predict(x_train)\n",
    "svr_score_train = r2_score(y_train, pred_train)\n",
    "\n",
    "print('SVR score on test data is', svr_score.round(3)*100)\n",
    "print('SVR score on training data is', svr_score_train.round(2)*100)"
   ]
  },
  {
   "cell_type": "markdown",
   "id": "54993d38",
   "metadata": {},
   "source": [
    "So the SVR score for the test data for Unseen data is more as compared to seen data and SVR is also having the least error score so we can final SVR as out best model."
   ]
  },
  {
   "cell_type": "markdown",
   "id": "421577ac",
   "metadata": {},
   "source": [
    "We will check the Regression line through the graph."
   ]
  },
  {
   "cell_type": "code",
   "execution_count": 65,
   "id": "00675f27",
   "metadata": {},
   "outputs": [
    {
     "data": {
      "image/png": "[encoded data removed]",
      "text/plain": [
       "<Figure size 800x700 with 1 Axes>"
      ]
     },
     "metadata": {},
     "output_type": "display_data"
    }
   ],
   "source": [
    "plt.figure(figsize = (8,7))\n",
    "plt.scatter(x = predsvr, y = y_test, color = 'r')\n",
    "plt.xlabel('Actual')\n",
    "plt.ylabel('Predicted')\n",
    "plt.title('Linear Regression')\n",
    "plt.show()"
   ]
  },
  {
   "cell_type": "code",
   "execution_count": 66,
   "id": "7c857e3e",
   "metadata": {},
   "outputs": [],
   "source": [
    "from sklearn.model_selection import cross_val_score"
   ]
  },
  {
   "cell_type": "code",
   "execution_count": 67,
   "id": "14c22a66",
   "metadata": {},
   "outputs": [
    {
     "name": "stdout",
     "output_type": "stream",
     "text": [
      "[0.89416266 0.71562252 0.90971074 0.83379707 0.80514061]\n",
      "0.83168671834718\n",
      "0.9182313345158112\n",
      "The difference between the r2 score and the cross validation score of SVR is  8.654461616863118\n"
     ]
    }
   ],
   "source": [
    "score1 = cross_val_score(svr,x1,y)\n",
    "print(score1)\n",
    "print(score1.mean())\n",
    "print(svr_score)\n",
    "print('The difference between the r2 score and the cross validation score of SVR is ', (svr_score - score1.mean())*100)"
   ]
  },
  {
   "cell_type": "code",
   "execution_count": 68,
   "id": "cd3fb07b",
   "metadata": {},
   "outputs": [
    {
     "name": "stdout",
     "output_type": "stream",
     "text": [
      "[0.79695725 0.6879537  0.83213472 0.76538498 0.735755  ]\n",
      "0.7636371302746745\n",
      "0.8206456149557433\n",
      "The difference between the r2 score and the cross validation score of Linear Regression is  5.700848468106878\n"
     ]
    }
   ],
   "source": [
    "score2 = cross_val_score(lr,x1,y)\n",
    "print(score2)\n",
    "print(score2.mean())\n",
    "print(r2_score1)\n",
    "print('The difference between the r2 score and the cross validation score of Linear Regression is ', (r2_score1 - score2.mean())*100)"
   ]
  },
  {
   "cell_type": "code",
   "execution_count": 69,
   "id": "33251124",
   "metadata": {},
   "outputs": [
    {
     "name": "stdout",
     "output_type": "stream",
     "text": [
      "[0.85298699 0.70125394 0.85463079 0.81776728 0.78911621]\n",
      "0.8031510413673661\n",
      "0.848754998239257\n",
      "The difference between the r2 score and the cross validation score of Random Forest Regressor is  4.560395687189089\n"
     ]
    }
   ],
   "source": [
    "score3 = cross_val_score(rfr,x1,y)\n",
    "print(score3)\n",
    "print(score3.mean())\n",
    "print(rfrscore)\n",
    "print('The difference between the r2 score and the cross validation score of Random Forest Regressor is ', (rfrscore - score3.mean())*100)"
   ]
  },
  {
   "cell_type": "code",
   "execution_count": 70,
   "id": "1fd42d02",
   "metadata": {},
   "outputs": [
    {
     "name": "stdout",
     "output_type": "stream",
     "text": [
      "[0.84907092 0.69748156 0.84709273 0.81207989 0.79081853]\n",
      "0.7993087271341052\n",
      "0.8519323080008534\n",
      "The difference between the r2 score and the cross validation score of Kneighbors Regressor is  5.262358086674823\n"
     ]
    }
   ],
   "source": [
    "score4 = cross_val_score(knr,x1,y)\n",
    "print(score4)\n",
    "print(score4.mean())\n",
    "print(knr_score)\n",
    "print('The difference between the r2 score and the cross validation score of Kneighbors Regressor is ', (knr_score - score4.mean())*100)"
   ]
  },
  {
   "cell_type": "code",
   "execution_count": 71,
   "id": "03e72b29",
   "metadata": {},
   "outputs": [
    {
     "name": "stdout",
     "output_type": "stream",
     "text": [
      "[0.87217968 0.73272596 0.90194987 0.83969986 0.80455707]\n",
      "0.8302224858442775\n",
      "0.8895050486971335\n",
      "The difference between the r2 score and the cross validation score of Gradient Boost Regressor is  5.928256285285604\n"
     ]
    }
   ],
   "source": [
    "score5 = cross_val_score(gbr,x1,y)\n",
    "print(score5)\n",
    "print(score5.mean())\n",
    "print(gbr_score)\n",
    "print('The difference between the r2 score and the cross validation score of Gradient Boost Regressor is ', (gbr_score - score5.mean())*100)"
   ]
  },
  {
   "cell_type": "code",
   "execution_count": 72,
   "id": "6e4411ec",
   "metadata": {},
   "outputs": [
    {
     "name": "stdout",
     "output_type": "stream",
     "text": [
      "[0.79691437 0.68807639 0.83198991 0.76542599 0.73579464]\n",
      "0.7636402616416333\n",
      "0.8204980666228483\n",
      "The difference between the r2 score and the cross validation score of Ridge is  5.685780498121495\n"
     ]
    }
   ],
   "source": [
    "score6 = cross_val_score(ridge,x1,y)\n",
    "print(score6)\n",
    "print(score6.mean())\n",
    "print(ridge_score)\n",
    "print('The difference between the r2 score and the cross validation score of Ridge is ', (ridge_score - score6.mean())*100)"
   ]
  },
  {
   "cell_type": "code",
   "execution_count": 73,
   "id": "a17e072a",
   "metadata": {},
   "outputs": [
    {
     "name": "stdout",
     "output_type": "stream",
     "text": [
      "[0.816221   0.674567   0.84290728 0.79525586 0.7675122 ]\n",
      "0.7792926694721339\n",
      "0.8181804135054028\n",
      "The difference between the r2 score and the cross validation score of Kneighbors Regressor is  3.888774403326889\n"
     ]
    }
   ],
   "source": [
    "score7 = cross_val_score(etr,x1,y)\n",
    "print(score7)\n",
    "print(score7.mean())\n",
    "print(etr_score)\n",
    "print('The difference between the r2 score and the cross validation score of Kneighbors Regressor is ', (etr_score - score7.mean())*100)"
   ]
  },
  {
   "cell_type": "code",
   "execution_count": 75,
   "id": "d4cb0852",
   "metadata": {},
   "outputs": [],
   "source": [
    "from sklearn.model_selection import GridSearchCV"
   ]
  },
  {
   "cell_type": "code",
   "execution_count": 76,
   "id": "3c4ad613",
   "metadata": {},
   "outputs": [],
   "source": [
    "param = {'alpha': [1.0,.05,.4,2],'fit_intercept': [True, False],\n",
    "         'solver': ['auto','svd','cholesky','lsqr','sag','saga','lbfgs'], \n",
    "         'positive':[False, True],\n",
    "         'random_state': [1,4,10,20]}\n",
    "\n",
    "\n",
    "gscv = GridSearchCV(Ridge(),param, cv =5)"
   ]
  },
  {
   "cell_type": "code",
   "execution_count": 77,
   "id": "dcec559b",
   "metadata": {},
   "outputs": [
    {
     "name": "stderr",
     "output_type": "stream",
     "text": [
      "C:\\Users\\Kushal Kulkarni\\anaconda3new\\lib\\site-packages\\sklearn\\model_selection\\_validation.py:372: FitFailedWarning: \n",
      "960 fits failed out of a total of 2240.\n",
      "The score on these train-test partitions for these parameters will be set to nan.\n",
      "If these failures are not expected, you can try to debug them by setting error_score='raise'.\n",
      "\n",
      "Below are more details about the failures:\n",
      "--------------------------------------------------------------------------------\n",
      "160 fits failed with the following error:\n",
      "Traceback (most recent call last):\n",
      "  File \"C:\\Users\\Kushal Kulkarni\\anaconda3new\\lib\\site-packages\\sklearn\\model_selection\\_validation.py\", line 680, in _fit_and_score\n",
      "    estimator.fit(X_train, y_train, **fit_params)\n",
      "  File \"C:\\Users\\Kushal Kulkarni\\anaconda3new\\lib\\site-packages\\sklearn\\linear_model\\_ridge.py\", line 1011, in fit\n",
      "    return super().fit(X, y, sample_weight=sample_weight)\n",
      "  File \"C:\\Users\\Kushal Kulkarni\\anaconda3new\\lib\\site-packages\\sklearn\\linear_model\\_ridge.py\", line 705, in fit\n",
      "    raise ValueError(\n",
      "ValueError: 'lbfgs' solver can be used only when positive=True. Please use another solver.\n",
      "\n",
      "--------------------------------------------------------------------------------\n",
      "160 fits failed with the following error:\n",
      "Traceback (most recent call last):\n",
      "  File \"C:\\Users\\Kushal Kulkarni\\anaconda3new\\lib\\site-packages\\sklearn\\model_selection\\_validation.py\", line 680, in _fit_and_score\n",
      "    estimator.fit(X_train, y_train, **fit_params)\n",
      "  File \"C:\\Users\\Kushal Kulkarni\\anaconda3new\\lib\\site-packages\\sklearn\\linear_model\\_ridge.py\", line 1011, in fit\n",
      "    return super().fit(X, y, sample_weight=sample_weight)\n",
      "  File \"C:\\Users\\Kushal Kulkarni\\anaconda3new\\lib\\site-packages\\sklearn\\linear_model\\_ridge.py\", line 712, in fit\n",
      "    raise ValueError(\n",
      "ValueError: solver='svd' does not support positive fitting. Please set the solver to 'auto' or 'lbfgs', or set `positive=False`\n",
      "\n",
      "--------------------------------------------------------------------------------\n",
      "160 fits failed with the following error:\n",
      "Traceback (most recent call last):\n",
      "  File \"C:\\Users\\Kushal Kulkarni\\anaconda3new\\lib\\site-packages\\sklearn\\model_selection\\_validation.py\", line 680, in _fit_and_score\n",
      "    estimator.fit(X_train, y_train, **fit_params)\n",
      "  File \"C:\\Users\\Kushal Kulkarni\\anaconda3new\\lib\\site-packages\\sklearn\\linear_model\\_ridge.py\", line 1011, in fit\n",
      "    return super().fit(X, y, sample_weight=sample_weight)\n",
      "  File \"C:\\Users\\Kushal Kulkarni\\anaconda3new\\lib\\site-packages\\sklearn\\linear_model\\_ridge.py\", line 712, in fit\n",
      "    raise ValueError(\n",
      "ValueError: solver='cholesky' does not support positive fitting. Please set the solver to 'auto' or 'lbfgs', or set `positive=False`\n",
      "\n",
      "--------------------------------------------------------------------------------\n",
      "160 fits failed with the following error:\n",
      "Traceback (most recent call last):\n",
      "  File \"C:\\Users\\Kushal Kulkarni\\anaconda3new\\lib\\site-packages\\sklearn\\model_selection\\_validation.py\", line 680, in _fit_and_score\n",
      "    estimator.fit(X_train, y_train, **fit_params)\n",
      "  File \"C:\\Users\\Kushal Kulkarni\\anaconda3new\\lib\\site-packages\\sklearn\\linear_model\\_ridge.py\", line 1011, in fit\n",
      "    return super().fit(X, y, sample_weight=sample_weight)\n",
      "  File \"C:\\Users\\Kushal Kulkarni\\anaconda3new\\lib\\site-packages\\sklearn\\linear_model\\_ridge.py\", line 712, in fit\n",
      "    raise ValueError(\n",
      "ValueError: solver='lsqr' does not support positive fitting. Please set the solver to 'auto' or 'lbfgs', or set `positive=False`\n",
      "\n",
      "--------------------------------------------------------------------------------\n",
      "160 fits failed with the following error:\n",
      "Traceback (most recent call last):\n",
      "  File \"C:\\Users\\Kushal Kulkarni\\anaconda3new\\lib\\site-packages\\sklearn\\model_selection\\_validation.py\", line 680, in _fit_and_score\n",
      "    estimator.fit(X_train, y_train, **fit_params)\n",
      "  File \"C:\\Users\\Kushal Kulkarni\\anaconda3new\\lib\\site-packages\\sklearn\\linear_model\\_ridge.py\", line 1011, in fit\n",
      "    return super().fit(X, y, sample_weight=sample_weight)\n",
      "  File \"C:\\Users\\Kushal Kulkarni\\anaconda3new\\lib\\site-packages\\sklearn\\linear_model\\_ridge.py\", line 712, in fit\n",
      "    raise ValueError(\n",
      "ValueError: solver='sag' does not support positive fitting. Please set the solver to 'auto' or 'lbfgs', or set `positive=False`\n",
      "\n",
      "--------------------------------------------------------------------------------\n",
      "160 fits failed with the following error:\n",
      "Traceback (most recent call last):\n",
      "  File \"C:\\Users\\Kushal Kulkarni\\anaconda3new\\lib\\site-packages\\sklearn\\model_selection\\_validation.py\", line 680, in _fit_and_score\n",
      "    estimator.fit(X_train, y_train, **fit_params)\n",
      "  File \"C:\\Users\\Kushal Kulkarni\\anaconda3new\\lib\\site-packages\\sklearn\\linear_model\\_ridge.py\", line 1011, in fit\n",
      "    return super().fit(X, y, sample_weight=sample_weight)\n",
      "  File \"C:\\Users\\Kushal Kulkarni\\anaconda3new\\lib\\site-packages\\sklearn\\linear_model\\_ridge.py\", line 712, in fit\n",
      "    raise ValueError(\n",
      "ValueError: solver='saga' does not support positive fitting. Please set the solver to 'auto' or 'lbfgs', or set `positive=False`\n",
      "\n",
      "  warnings.warn(some_fits_failed_message, FitFailedWarning)\n",
      "C:\\Users\\Kushal Kulkarni\\anaconda3new\\lib\\site-packages\\sklearn\\model_selection\\_search.py:969: UserWarning: One or more of the test scores are non-finite: [   0.73616784    0.73616784    0.73616784    0.73617946    0.73618443\n",
      "    0.73617549           nan    0.73616784    0.73616784    0.73616784\n",
      "    0.73617946    0.73618601    0.73618446           nan    0.73616784\n",
      "    0.73616784    0.73616784    0.73617946    0.7361122     0.73616259\n",
      "           nan    0.73616784    0.73616784    0.73616784    0.73617946\n",
      "    0.73614148    0.73616564           nan    0.73112277           nan\n",
      "           nan           nan           nan           nan    0.73112277\n",
      "    0.73112277           nan           nan           nan           nan\n",
      "           nan    0.73112277    0.73112277           nan           nan\n",
      "           nan           nan           nan    0.73112277    0.73112277\n",
      "           nan           nan           nan           nan           nan\n",
      "    0.73112277 -103.05538057 -103.05538057 -103.05538057 -103.05143668\n",
      " -103.05545028 -103.05589308           nan -103.05538057 -103.05538057\n",
      " -103.05538057 -103.05143668 -103.0555419  -103.05522142           nan\n",
      " -103.05538057 -103.05538057 -103.05538057 -103.05143668 -103.05485261\n",
      " -103.05541502           nan -103.05538057 -103.05538057 -103.05538057\n",
      " -103.05143668 -103.05663851 -103.0555319            nan -102.09981659\n",
      "           nan           nan           nan           nan           nan\n",
      " -102.09981659 -102.09981659           nan           nan           nan\n",
      "           nan           nan -102.09981659 -102.09981659           nan\n",
      "           nan           nan           nan           nan -102.09981659\n",
      " -102.09981659           nan           nan           nan           nan\n",
      "           nan -102.09981659    0.73616312    0.73616312    0.73616312\n",
      "    0.73616371    0.73614038    0.73617594           nan    0.73616312\n",
      "    0.73616312    0.73616312    0.73616371    0.73617367    0.736171\n",
      "           nan    0.73616312    0.73616312    0.73616312    0.73616371\n",
      "    0.73609505    0.73614248           nan    0.73616312    0.73616312\n",
      "    0.73616312    0.73616371    0.73613302    0.73615945           nan\n",
      "    0.73112078           nan           nan           nan           nan\n",
      "           nan    0.73112078    0.73112078           nan           nan\n",
      "           nan           nan           nan    0.73112078    0.73112078\n",
      "           nan           nan           nan           nan           nan\n",
      "    0.73112078    0.73112078           nan           nan           nan\n",
      "           nan           nan    0.73112078 -103.05925713 -103.05925713\n",
      " -103.05925713 -103.05529298 -103.05902302 -103.05969978           nan\n",
      " -103.05925713 -103.05925713 -103.05925713 -103.05529298 -103.05833992\n",
      " -103.05904194           nan -103.05925713 -103.05925713 -103.05925713\n",
      " -103.05529298 -103.05806462 -103.05914489           nan -103.05925713\n",
      " -103.05925713 -103.05925713 -103.05529298 -103.0603679  -103.05942456\n",
      "           nan -102.10227123           nan           nan           nan\n",
      "           nan           nan -102.10227123 -102.10227123           nan\n",
      "           nan           nan           nan           nan -102.10227123\n",
      " -102.10227123           nan           nan           nan           nan\n",
      "           nan -102.10227123 -102.10227123           nan           nan\n",
      "           nan           nan           nan -102.10227123    0.73616516\n",
      "    0.73616516    0.73616516    0.73616575    0.73617684    0.73617233\n",
      "           nan    0.73616516    0.73616516    0.73616516    0.73616575\n",
      "    0.73618561    0.73617348           nan    0.73616516    0.73616516\n",
      "    0.73616516    0.73616575    0.73610813    0.73615883           nan\n",
      "    0.73616516    0.73616516    0.73616516    0.73616575    0.73613065\n",
      "    0.73616091           nan    0.7311218            nan           nan\n",
      "           nan           nan           nan    0.7311218     0.7311218\n",
      "           nan           nan           nan           nan           nan\n",
      "    0.7311218     0.7311218            nan           nan           nan\n",
      "           nan           nan    0.7311218     0.7311218            nan\n",
      "           nan           nan           nan           nan    0.7311218\n",
      " -103.05782722 -103.05782722 -103.05782722 -103.05387056 -103.05771173\n",
      " -103.05830426           nan -103.05782722 -103.05782722 -103.05782722\n",
      " -103.05387056 -103.05705332 -103.0576347            nan -103.05782722\n",
      " -103.05782722 -103.05782722 -103.05387056 -103.05701587 -103.05791825\n",
      "           nan -103.05782722 -103.05782722 -103.05782722 -103.05387056\n",
      " -103.05946236 -103.05798794           nan -102.10136587           nan\n",
      "           nan           nan           nan           nan -102.10136587\n",
      " -102.10136587           nan           nan           nan           nan\n",
      "           nan -102.10136587 -102.10136587           nan           nan\n",
      "           nan           nan           nan -102.10136587 -102.10136587\n",
      "           nan           nan           nan           nan           nan\n",
      " -102.10136587    0.73617003    0.73617003    0.73617003    0.73618163\n",
      "    0.73619219    0.73616694           nan    0.73617003    0.73617003\n",
      "    0.73617003    0.73618163    0.73618794    0.73618902           nan\n",
      "    0.73617003    0.73617003    0.73617003    0.73618163    0.73611752\n",
      "    0.73616454           nan    0.73617003    0.73617003    0.73617003\n",
      "    0.73618163    0.73620177    0.7361667            nan    0.7311222\n",
      "           nan           nan           nan           nan           nan\n",
      "    0.7311222     0.7311222            nan           nan           nan\n",
      "           nan           nan    0.7311222     0.7311222            nan\n",
      "           nan           nan           nan           nan    0.7311222\n",
      "    0.7311222            nan           nan           nan           nan\n",
      "           nan    0.7311222  -103.05131568 -103.05131568 -103.05131568\n",
      " -103.047393   -103.05163074 -103.05208595           nan -103.05131568\n",
      " -103.05131568 -103.05131568 -103.047393   -103.05176329 -103.05124494\n",
      "           nan -103.05131568 -103.05131568 -103.05131568 -103.047393\n",
      " -103.05077964 -103.05167657           nan -103.05131568 -103.05131568\n",
      " -103.05131568 -103.047393   -103.05319424 -103.05145479           nan\n",
      " -102.09724217           nan           nan           nan           nan\n",
      "           nan -102.09724217 -102.09724217           nan           nan\n",
      "           nan           nan           nan -102.09724217 -102.09724217\n",
      "           nan           nan           nan           nan           nan\n",
      " -102.09724217 -102.09724217           nan           nan           nan\n",
      "           nan           nan -102.09724217]\n",
      "  warnings.warn(\n"
     ]
    },
    {
     "data": {
      "text/plain": [
       "GridSearchCV(cv=5, estimator=Ridge(),\n",
       "             param_grid={'alpha': [1.0, 0.05, 0.4, 2],\n",
       "                         'fit_intercept': [True, False],\n",
       "                         'positive': [False, True],\n",
       "                         'random_state': [1, 4, 10, 20],\n",
       "                         'solver': ['auto', 'svd', 'cholesky', 'lsqr', 'sag',\n",
       "                                    'saga', 'lbfgs']})"
      ]
     },
     "execution_count": 77,
     "metadata": {},
     "output_type": "execute_result"
    }
   ],
   "source": [
    "gscv.fit(x_train,y_train)"
   ]
  },
  {
   "cell_type": "code",
   "execution_count": 78,
   "id": "45827aad",
   "metadata": {},
   "outputs": [
    {
     "data": {
      "text/plain": [
       "{'alpha': 2,\n",
       " 'fit_intercept': True,\n",
       " 'positive': False,\n",
       " 'random_state': 20,\n",
       " 'solver': 'sag'}"
      ]
     },
     "execution_count": 78,
     "metadata": {},
     "output_type": "execute_result"
    }
   ],
   "source": [
    "gscv.best_params_"
   ]
  },
  {
   "cell_type": "code",
   "execution_count": 79,
   "id": "dc3e5514",
   "metadata": {},
   "outputs": [],
   "source": [
    "Model = Ridge(alpha = 2, fit_intercept = True,positive = False, random_state = 20, solver = 'sag' )"
   ]
  },
  {
   "cell_type": "code",
   "execution_count": 80,
   "id": "15e631f4",
   "metadata": {},
   "outputs": [
    {
     "name": "stdout",
     "output_type": "stream",
     "text": [
      "0.8202833926692679\n",
      "0.15844204388782154\n",
      "0.2714035010389292\n"
     ]
    }
   ],
   "source": [
    "Model.fit(x_train,y_train)\n",
    "Mpred = Model.predict(x_test)\n",
    "Mscore = r2_score(y_test, Mpred)\n",
    "Mmse = mean_squared_error(y_test, Mpred)\n",
    "Mmae = mean_absolute_error(y_test,Mpred)\n",
    "\n",
    "print(Mscore)\n",
    "print(Mmse)\n",
    "print(Mmae)"
   ]
  },
  {
   "cell_type": "code",
   "execution_count": 82,
   "id": "28847b44",
   "metadata": {},
   "outputs": [],
   "source": [
    "param_grid = {\n",
    "    'n_estimators': [100, 200, 300],\n",
    "    'learning_rate': [0.05, 0.1, 0.2],\n",
    "    'max_depth': [3, 4, 5],\n",
    "    'min_samples_split': [2, 5, 10],\n",
    "    'min_samples_leaf': [1, 2, 4],}\n",
    "\n"
   ]
  },
  {
   "cell_type": "code",
   "execution_count": 83,
   "id": "47e1275b",
   "metadata": {},
   "outputs": [],
   "source": [
    "gscv1 = GridSearchCV(GradientBoostingRegressor(), param_grid, cv = 5)"
   ]
  },
  {
   "cell_type": "code",
   "execution_count": 84,
   "id": "30d85558",
   "metadata": {},
   "outputs": [
    {
     "data": {
      "text/plain": [
       "GridSearchCV(cv=5, estimator=GradientBoostingRegressor(),\n",
       "             param_grid={'learning_rate': [0.05, 0.1, 0.2],\n",
       "                         'max_depth': [3, 4, 5], 'min_samples_leaf': [1, 2, 4],\n",
       "                         'min_samples_split': [2, 5, 10],\n",
       "                         'n_estimators': [100, 200, 300]})"
      ]
     },
     "execution_count": 84,
     "metadata": {},
     "output_type": "execute_result"
    }
   ],
   "source": [
    "gscv1.fit(x_train, y_train)"
   ]
  },
  {
   "cell_type": "code",
   "execution_count": 86,
   "id": "c5ad396c",
   "metadata": {},
   "outputs": [
    {
     "data": {
      "text/plain": [
       "{'learning_rate': 0.05,\n",
       " 'max_depth': 3,\n",
       " 'min_samples_leaf': 1,\n",
       " 'min_samples_split': 2,\n",
       " 'n_estimators': 100}"
      ]
     },
     "execution_count": 86,
     "metadata": {},
     "output_type": "execute_result"
    }
   ],
   "source": [
    "gscv1.best_params_"
   ]
  },
  {
   "cell_type": "code",
   "execution_count": 87,
   "id": "e40a9965",
   "metadata": {},
   "outputs": [],
   "source": [
    "Model1 = GradientBoostingRegressor(learning_rate= 0.05, max_depth = 3, min_samples_leaf = 1, min_samples_split = 2, n_estimators = 100)"
   ]
  },
  {
   "cell_type": "code",
   "execution_count": 89,
   "id": "cdb2b247",
   "metadata": {},
   "outputs": [
    {
     "name": "stdout",
     "output_type": "stream",
     "text": [
      "The score for Our Model 1 is 0.895463897653044\n",
      "The Mean Squared Error for Mode1 is 0.09216128638260737\n",
      "The Mean Absolute Error for Model1 is 0.19925199229327095\n"
     ]
    }
   ],
   "source": [
    "Model1.fit(x_train, y_train)\n",
    "M1pred = Model1.predict(x_test)\n",
    "\n",
    "M1_score = r2_score(y_test, M1pred)\n",
    "M1_MSE = mean_squared_error(y_test, M1pred)\n",
    "M1_MAE = mean_absolute_error(y_test, M1pred)\n",
    "\n",
    "print('The score for Our Model 1 is', M1_score)\n",
    "print('The Mean Squared Error for Mode1 is', M1_MSE)\n",
    "print('The Mean Absolute Error for Model1 is', M1_MAE)"
   ]
  },
  {
   "cell_type": "markdown",
   "id": "70f0fc40",
   "metadata": {},
   "source": [
    "So after validating Cross Validition Score and Hyper paramater boosting our final model will be Gradient Boosting Regressor and we converted it in Model1. Hence we will go ahead and Save it."
   ]
  },
  {
   "cell_type": "code",
   "execution_count": 91,
   "id": "0ee82cba",
   "metadata": {},
   "outputs": [],
   "source": [
    "import pickle \n",
    "filename = 'Medical_insurance_cost.pkl'\n",
    "\n",
    "pickle.dump(Model1, open(filename, 'wb'))"
   ]
  },
  {
   "cell_type": "code",
   "execution_count": 94,
   "id": "a1cd392a",
   "metadata": {},
   "outputs": [
    {
     "name": "stdout",
     "output_type": "stream",
     "text": [
      "90.0\n"
     ]
    }
   ],
   "source": [
    "loaded_model = pickle.load(open('Medical_insurance_cost.pkl','rb'))\n",
    "\n",
    "result = loaded_model.score(x_test,y_test)\n",
    "\n",
    "print(result.round(2)*100)"
   ]
  },
  {
   "cell_type": "code",
   "execution_count": 96,
   "id": "b033ab46",
   "metadata": {},
   "outputs": [
    {
     "data": {
      "text/plain": [
       "['Medical Insurance cost']"
      ]
     },
     "execution_count": 96,
     "metadata": {},
     "output_type": "execute_result"
    }
   ],
   "source": [
    "joblib.dump(Model1, 'Medical Insurance cost')"
   ]
  },
  {
   "cell_type": "code",
   "execution_count": 97,
   "id": "1361b42b",
   "metadata": {},
   "outputs": [],
   "source": [
    "m1 = joblib.load('Medical Insurance cost')"
   ]
  },
  {
   "cell_type": "code",
   "execution_count": 98,
   "id": "a98580c2",
   "metadata": {},
   "outputs": [
    {
     "data": {
      "text/plain": [
       "array([ 9.56935811, 10.62569581,  8.89544188,  8.75996012,  7.84909469,\n",
       "        7.63262007,  7.96122861,  8.80769114,  8.85728029, 10.73267372,\n",
       "       10.61352423,  8.93733416,  7.80748105, 10.51285189,  8.20329963,\n",
       "        8.70034658,  9.58766938,  8.60887423, 10.5502619 ,  9.19570605,\n",
       "        9.20265241,  8.75185878,  8.36373452,  9.33011084,  8.88608131,\n",
       "        9.53691097,  8.97138131,  7.63262007,  8.3653835 ,  9.54005932,\n",
       "        8.70940341,  8.72849417,  8.54812466,  9.49651653, 10.0228901 ,\n",
       "        8.73550524,  9.83475168,  9.42578333,  8.85469875,  9.32916751,\n",
       "        9.09026357,  9.38273811, 10.07586244,  9.52432402, 10.79311164,\n",
       "        7.46969923,  9.29859568,  8.06662296,  9.54005932,  8.59086723,\n",
       "       10.07508421,  7.79282232,  8.09642642,  9.10660647,  8.88346364,\n",
       "        9.43794585,  8.48861224, 10.21292261, 10.00730471,  8.69392683,\n",
       "        9.26530558,  8.62565317,  8.45334557,  9.18407874,  8.765679  ,\n",
       "        9.54795519,  9.23766834,  8.36365326,  9.39344524,  8.78605376,\n",
       "       10.56228689, 10.74511578,  9.05351556,  9.40087355,  7.90925519,\n",
       "        9.29859568,  8.79011027,  9.48568901,  8.87626219,  8.67099682,\n",
       "        9.20878208,  8.69699917,  7.57667322,  9.06768959, 10.46670863,\n",
       "       10.42989793,  9.54064032,  8.89482896,  9.36012414,  9.93396442,\n",
       "        8.76471232,  8.71646439,  9.00339106,  7.61899056,  8.18881602,\n",
       "        9.43308162,  9.49738662, 10.39656681,  9.23695184,  8.70498179,\n",
       "        8.94353014,  7.95822598,  7.85209732,  9.47171159,  9.47477379,\n",
       "        9.52432402,  8.96785213,  8.27328439,  9.02958174, 10.79330102,\n",
       "        9.387815  ,  9.13980777,  7.60984513,  8.73422132,  9.21709809,\n",
       "        9.39199368, 10.53407435,  9.76788939,  8.70610764,  9.17591151,\n",
       "        9.32815242,  8.52833243,  9.58193506,  8.16767901,  8.98093285,\n",
       "        8.92099398,  8.70940341, 10.43227108,  8.73911992,  9.79826204,\n",
       "       10.69942   , 10.73882644,  9.86010542,  8.84797927, 10.50021404,\n",
       "        9.40135041,  9.34659313,  8.72013796,  9.17291839,  9.97292366,\n",
       "        8.73497001,  7.78844115,  7.81156538,  7.95822598, 10.36699712,\n",
       "        9.78800368, 10.7100881 ,  8.45181896,  9.36100079,  8.7275066 ,\n",
       "        9.31156052,  8.28045066,  7.7786322 ,  9.37133636,  9.42318713,\n",
       "        7.75518262,  8.78178413,  8.2746121 ,  7.92122398,  9.93551998,\n",
       "        9.38812543, 10.56788387,  9.59053442, 10.08203113,  9.4266585 ,\n",
       "        9.53691097,  9.48719757,  9.32011503,  9.4897337 ,  8.39032286,\n",
       "        8.79768227,  9.75264892,  8.8807669 , 10.43779439,  9.20235144,\n",
       "        7.75513787,  9.61505204,  8.21861864,  8.91835527,  9.12778074,\n",
       "        8.6763034 ,  8.66061699, 10.46726634,  7.76496946,  8.78161391,\n",
       "        9.39556921, 10.56875909,  7.46969923,  9.10669464,  7.7786322 ,\n",
       "        8.09661664, 10.56216717,  9.36012414,  9.31456315, 10.02531464,\n",
       "        7.78847224,  9.26355536,  7.70772458, 10.39683074,  9.32916751,\n",
       "        9.68578166,  9.93617257,  9.34511965,  8.83785851,  9.82308044,\n",
       "        9.25291973, 10.77562292, 10.01605009,  9.42116447,  9.51007077,\n",
       "        8.59086723,  8.85696262,  7.84909469,  9.09090822,  7.7514873 ,\n",
       "        9.23279694, 10.56186935,  7.97873025,  9.57325745,  8.60887423,\n",
       "       10.5415105 ,  9.31156052,  8.7173986 ,  7.61327122, 10.68886936,\n",
       "        8.8546476 ,  8.66203393,  9.74975789,  9.57189339, 10.38833821,\n",
       "        8.68449267, 10.07843673,  8.11330435, 10.71094982,  8.8105468 ,\n",
       "       10.54670455,  9.60115419,  8.76846266,  8.7275066 ,  7.92122398,\n",
       "        8.3058441 , 10.76305451,  9.92260479,  9.39199368,  9.42440187,\n",
       "        8.84155369,  9.24101956,  9.6128125 ,  9.01207251, 10.48169859,\n",
       "        8.32792647,  9.44832287,  9.62260052,  8.87601946,  8.3653835 ,\n",
       "        8.51176484,  8.28802545,  8.61865267,  8.85728029,  8.79693357,\n",
       "        8.47656305,  9.49203433,  9.14635477,  9.03774428,  9.48719757,\n",
       "        9.38069309, 10.48523353,  8.71406943,  7.74872743,  7.71191604,\n",
       "        9.1230177 , 10.05717703,  9.18169413,  8.60667834, 10.69139015,\n",
       "        8.71117932,  9.17050698,  9.34985859,  8.35356007,  7.69803787,\n",
       "        8.80754417,  7.72141728,  9.96369805,  9.54244457,  7.63210147,\n",
       "       10.54697301,  9.44793035,  9.56075782,  8.88738968,  8.57281087,\n",
       "        8.59033544,  8.50971807,  9.32610239,  9.83668308,  9.78156477,\n",
       "       10.58763235,  9.29859568,  8.8827722 ,  8.67338372,  9.1428104 ,\n",
       "       10.67427748,  9.2987167 ,  8.7218659 ,  9.27766296,  8.70498179,\n",
       "        8.79276299,  7.79282232,  8.72630668,  9.01987189,  7.57916103,\n",
       "        8.49115887,  9.93546641,  8.66760959,  8.19300748,  9.66599821,\n",
       "        9.36927185,  8.8262118 ,  8.75216874,  9.37666762, 10.72485515,\n",
       "        7.70510569,  9.54064032,  9.25207317,  8.8312976 , 10.1526773 ,\n",
       "        8.76690076,  9.0135809 ,  9.52457758,  9.211276  ,  9.42836166,\n",
       "        9.27118052,  9.31156052,  8.72013796,  9.26530558, 10.50797328,\n",
       "        8.99013945,  7.63262007,  9.48498929,  8.81445135,  8.62550728,\n",
       "        8.72013796,  9.65161418,  8.37002955, 10.3894539 ,  7.96122861,\n",
       "        8.81650705,  9.48268606,  9.14357531,  9.43075136,  8.03685642,\n",
       "        9.17645622,  9.56701206,  9.02698282,  9.86254258,  9.52755877,\n",
       "        9.38197239, 10.40824022,  9.51873521,  7.80748105,  9.12639442,\n",
       "        9.44718166, 10.51779686, 10.08251167,  8.94730036, 10.03753334,\n",
       "        9.05014254,  7.94334876,  9.22030984,  8.74660912,  8.08640395,\n",
       "        8.58751205,  8.73756614,  8.65831748, 10.70245589,  9.310599  ,\n",
       "       10.69394665,  9.44793035,  9.6757287 , 10.59798601,  8.83909149,\n",
       "        9.25230879,  8.73050923,  9.49198209,  7.55809456,  9.32846026,\n",
       "        9.43308162,  9.35371504,  8.69508296,  8.60843863,  9.02149425,\n",
       "        7.77033256,  9.50910269,  8.98734595,  8.58369541,  8.40551404])"
      ]
     },
     "execution_count": 98,
     "metadata": {},
     "output_type": "execute_result"
    }
   ],
   "source": [
    "predic = m1.predict(x_test)\n",
    "predic"
   ]
  },
  {
   "cell_type": "code",
   "execution_count": 100,
   "id": "a3b67fe0",
   "metadata": {},
   "outputs": [
    {
     "data": {
      "text/html": [
       "<div>\n",
       "<style scoped>\n",
       "    .dataframe tbody tr th:only-of-type {\n",
       "        vertical-align: middle;\n",
       "    }\n",
       "\n",
       "    .dataframe tbody tr th {\n",
       "        vertical-align: top;\n",
       "    }\n",
       "\n",
       "    .dataframe thead th {\n",
       "        text-align: right;\n",
       "    }\n",
       "</style>\n",
       "<table border=\"1\" class=\"dataframe\">\n",
       "  <thead>\n",
       "    <tr style=\"text-align: right;\">\n",
       "      <th></th>\n",
       "      <th>predicted</th>\n",
       "      <th>orignal</th>\n",
       "    </tr>\n",
       "  </thead>\n",
       "  <tbody>\n",
       "    <tr>\n",
       "      <th>0</th>\n",
       "      <td>9.569358</td>\n",
       "      <td>9.615034</td>\n",
       "    </tr>\n",
       "    <tr>\n",
       "      <th>1</th>\n",
       "      <td>10.625696</td>\n",
       "      <td>10.658680</td>\n",
       "    </tr>\n",
       "    <tr>\n",
       "      <th>2</th>\n",
       "      <td>8.895442</td>\n",
       "      <td>8.816815</td>\n",
       "    </tr>\n",
       "    <tr>\n",
       "      <th>3</th>\n",
       "      <td>8.759960</td>\n",
       "      <td>8.597050</td>\n",
       "    </tr>\n",
       "    <tr>\n",
       "      <th>4</th>\n",
       "      <td>7.849095</td>\n",
       "      <td>7.666176</td>\n",
       "    </tr>\n",
       "    <tr>\n",
       "      <th>...</th>\n",
       "      <td>...</td>\n",
       "      <td>...</td>\n",
       "    </tr>\n",
       "    <tr>\n",
       "      <th>390</th>\n",
       "      <td>7.770333</td>\n",
       "      <td>7.583136</td>\n",
       "    </tr>\n",
       "    <tr>\n",
       "      <th>391</th>\n",
       "      <td>9.509103</td>\n",
       "      <td>9.468857</td>\n",
       "    </tr>\n",
       "    <tr>\n",
       "      <th>392</th>\n",
       "      <td>8.987346</td>\n",
       "      <td>8.878129</td>\n",
       "    </tr>\n",
       "    <tr>\n",
       "      <th>393</th>\n",
       "      <td>8.583695</td>\n",
       "      <td>8.484170</td>\n",
       "    </tr>\n",
       "    <tr>\n",
       "      <th>394</th>\n",
       "      <td>8.405514</td>\n",
       "      <td>8.104641</td>\n",
       "    </tr>\n",
       "  </tbody>\n",
       "</table>\n",
       "<p>395 rows × 2 columns</p>\n",
       "</div>"
      ],
      "text/plain": [
       "     predicted    orignal\n",
       "0     9.569358   9.615034\n",
       "1    10.625696  10.658680\n",
       "2     8.895442   8.816815\n",
       "3     8.759960   8.597050\n",
       "4     7.849095   7.666176\n",
       "..         ...        ...\n",
       "390   7.770333   7.583136\n",
       "391   9.509103   9.468857\n",
       "392   8.987346   8.878129\n",
       "393   8.583695   8.484170\n",
       "394   8.405514   8.104641\n",
       "\n",
       "[395 rows x 2 columns]"
      ]
     },
     "execution_count": 100,
     "metadata": {},
     "output_type": "execute_result"
    }
   ],
   "source": [
    "A = np.array(y_test)\n",
    "df =pd.DataFrame()\n",
    "\n",
    "df['predicted'] = predic\n",
    "\n",
    "df['orignal'] = A\n",
    "\n",
    "df"
   ]
  },
  {
   "cell_type": "code",
   "execution_count": null,
   "id": "ccd9de7a",
   "metadata": {},
   "outputs": [],
   "source": []
  },
  {
   "cell_type": "code",
   "execution_count": null,
   "id": "bbb8ae56",
   "metadata": {},
   "outputs": [],
   "source": [
    "    "
   ]
  },
  {
   "cell_type": "code",
   "execution_count": null,
   "id": "abacedd6",
   "metadata": {},
   "outputs": [],
   "source": []
  },
  {
   "cell_type": "code",
   "execution_count": null,
   "id": "e5291c34",
   "metadata": {},
   "outputs": [],
   "source": []
  },
  {
   "cell_type": "code",
   "execution_count": null,
   "id": "534f5aee",
   "metadata": {},
   "outputs": [],
   "source": []
  },
  {
   "cell_type": "code",
   "execution_count": null,
   "id": "9dea586f",
   "metadata": {},
   "outputs": [],
   "source": []
  },
  {
   "cell_type": "code",
   "execution_count": null,
   "id": "b3a72eda",
   "metadata": {},
   "outputs": [],
   "source": []
  },
  {
   "cell_type": "code",
   "execution_count": null,
   "id": "60730ddd",
   "metadata": {},
   "outputs": [],
   "source": []
  },
  {
   "cell_type": "code",
   "execution_count": null,
   "id": "26c90595",
   "metadata": {},
   "outputs": [],
   "source": []
  },
  {
   "cell_type": "code",
   "execution_count": null,
   "id": "4e6735ad",
   "metadata": {},
   "outputs": [],
   "source": []
  },
  {
   "cell_type": "code",
   "execution_count": null,
   "id": "94e70f85",
   "metadata": {},
   "outputs": [],
   "source": []
  },
  {
   "cell_type": "code",
   "execution_count": null,
   "id": "06933789",
   "metadata": {},
   "outputs": [],
   "source": []
  },
  {
   "cell_type": "code",
   "execution_count": null,
   "id": "d62edd71",
   "metadata": {},
   "outputs": [],
   "source": []
  },
  {
   "cell_type": "code",
   "execution_count": null,
   "id": "55654963",
   "metadata": {},
   "outputs": [],
   "source": []
  },
  {
   "cell_type": "code",
   "execution_count": null,
   "id": "f5e0e9fb",
   "metadata": {},
   "outputs": [],
   "source": [
    "    "
   ]
  },
  {
   "cell_type": "code",
   "execution_count": null,
   "id": "b941fcf8",
   "metadata": {},
   "outputs": [],
   "source": []
  },
  {
   "cell_type": "code",
   "execution_count": null,
   "id": "7cc7c5ea",
   "metadata": {},
   "outputs": [],
   "source": []
  },
  {
   "cell_type": "code",
   "execution_count": null,
   "id": "6844d09e",
   "metadata": {},
   "outputs": [],
   "source": []
  },
  {
   "cell_type": "code",
   "execution_count": null,
   "id": "92eb4010",
   "metadata": {},
   "outputs": [],
   "source": []
  },
  {
   "cell_type": "code",
   "execution_count": null,
   "id": "afb4b28a",
   "metadata": {},
   "outputs": [],
   "source": []
  },
  {
   "cell_type": "code",
   "execution_count": null,
   "id": "5865e263",
   "metadata": {},
   "outputs": [],
   "source": []
  },
  {
   "cell_type": "code",
   "execution_count": null,
   "id": "4725555a",
   "metadata": {},
   "outputs": [],
   "source": []
  },
  {
   "cell_type": "code",
   "execution_count": null,
   "id": "0d942a25",
   "metadata": {},
   "outputs": [],
   "source": []
  },
  {
   "cell_type": "code",
   "execution_count": null,
   "id": "2baa2b60",
   "metadata": {},
   "outputs": [],
   "source": []
  },
  {
   "cell_type": "code",
   "execution_count": null,
   "id": "9280480f",
   "metadata": {},
   "outputs": [],
   "source": []
  },
  {
   "cell_type": "code",
   "execution_count": null,
   "id": "92470cd1",
   "metadata": {},
   "outputs": [],
   "source": []
  },
  {
   "cell_type": "code",
   "execution_count": null,
   "id": "03827a38",
   "metadata": {},
   "outputs": [],
   "source": [
    "    "
   ]
  },
  {
   "cell_type": "code",
   "execution_count": null,
   "id": "b8e01484",
   "metadata": {},
   "outputs": [],
   "source": []
  },
  {
   "cell_type": "code",
   "execution_count": null,
   "id": "e27ad25f",
   "metadata": {},
   "outputs": [],
   "source": []
  },
  {
   "cell_type": "code",
   "execution_count": null,
   "id": "e9be8d95",
   "metadata": {},
   "outputs": [],
   "source": []
  },
  {
   "cell_type": "code",
   "execution_count": null,
   "id": "2516a340",
   "metadata": {},
   "outputs": [],
   "source": []
  },
  {
   "cell_type": "code",
   "execution_count": null,
   "id": "bebec347",
   "metadata": {},
   "outputs": [],
   "source": []
  },
  {
   "cell_type": "code",
   "execution_count": null,
   "id": "106676b4",
   "metadata": {},
   "outputs": [],
   "source": []
  },
  {
   "cell_type": "code",
   "execution_count": null,
   "id": "1169c913",
   "metadata": {},
   "outputs": [],
   "source": []
  },
  {
   "cell_type": "code",
   "execution_count": null,
   "id": "9736b12a",
   "metadata": {},
   "outputs": [],
   "source": []
  },
  {
   "cell_type": "code",
   "execution_count": null,
   "id": "af0ad5f5",
   "metadata": {},
   "outputs": [],
   "source": []
  },
  {
   "cell_type": "code",
   "execution_count": null,
   "id": "7aec9e7c",
   "metadata": {},
   "outputs": [],
   "source": []
  },
  {
   "cell_type": "code",
   "execution_count": null,
   "id": "5a35427f",
   "metadata": {},
   "outputs": [],
   "source": []
  },
  {
   "cell_type": "code",
   "execution_count": null,
   "id": "6c9b5bc5",
   "metadata": {},
   "outputs": [],
   "source": []
  },
  {
   "cell_type": "code",
   "execution_count": null,
   "id": "4dae3ec9",
   "metadata": {},
   "outputs": [],
   "source": []
  },
  {
   "cell_type": "code",
   "execution_count": null,
   "id": "623c6a34",
   "metadata": {},
   "outputs": [],
   "source": []
  },
  {
   "cell_type": "code",
   "execution_count": null,
   "id": "750ad241",
   "metadata": {},
   "outputs": [],
   "source": []
  },
  {
   "cell_type": "code",
   "execution_count": null,
   "id": "b373a322",
   "metadata": {},
   "outputs": [],
   "source": []
  },
  {
   "cell_type": "code",
   "execution_count": null,
   "id": "b7acf7d5",
   "metadata": {},
   "outputs": [],
   "source": []
  },
  {
   "cell_type": "code",
   "execution_count": null,
   "id": "25f68a3f",
   "metadata": {},
   "outputs": [],
   "source": []
  },
  {
   "cell_type": "code",
   "execution_count": null,
   "id": "bf020458",
   "metadata": {},
   "outputs": [],
   "source": []
  },
  {
   "cell_type": "code",
   "execution_count": null,
   "id": "b3350d8f",
   "metadata": {},
   "outputs": [],
   "source": []
  },
  {
   "cell_type": "code",
   "execution_count": null,
   "id": "f00de889",
   "metadata": {},
   "outputs": [],
   "source": []
  },
  {
   "cell_type": "code",
   "execution_count": null,
   "id": "a9561534",
   "metadata": {},
   "outputs": [],
   "source": []
  },
  {
   "cell_type": "code",
   "execution_count": null,
   "id": "0c64a398",
   "metadata": {},
   "outputs": [],
   "source": []
  },
  {
   "cell_type": "code",
   "execution_count": null,
   "id": "ab9214bc",
   "metadata": {},
   "outputs": [],
   "source": []
  },
  {
   "cell_type": "code",
   "execution_count": null,
   "id": "9b10c1e2",
   "metadata": {},
   "outputs": [],
   "source": []
  },
  {
   "cell_type": "code",
   "execution_count": null,
   "id": "44d70188",
   "metadata": {},
   "outputs": [],
   "source": []
  },
  {
   "cell_type": "code",
   "execution_count": null,
   "id": "fc911d0b",
   "metadata": {},
   "outputs": [],
   "source": []
  },
  {
   "cell_type": "code",
   "execution_count": null,
   "id": "a543ae49",
   "metadata": {},
   "outputs": [],
   "source": []
  },
  {
   "cell_type": "code",
   "execution_count": null,
   "id": "c4f7b2e3",
   "metadata": {},
   "outputs": [],
   "source": []
  },
  {
   "cell_type": "code",
   "execution_count": null,
   "id": "4c3ece2a",
   "metadata": {},
   "outputs": [],
   "source": []
  },
  {
   "cell_type": "code",
   "execution_count": null,
   "id": "f97b227f",
   "metadata": {},
   "outputs": [],
   "source": []
  },
  {
   "cell_type": "code",
   "execution_count": null,
   "id": "2050944b",
   "metadata": {},
   "outputs": [],
   "source": []
  },
  {
   "cell_type": "code",
   "execution_count": null,
   "id": "9844706d",
   "metadata": {},
   "outputs": [],
   "source": []
  },
  {
   "cell_type": "code",
   "execution_count": null,
   "id": "2c837be0",
   "metadata": {},
   "outputs": [],
   "source": []
  },
  {
   "cell_type": "code",
   "execution_count": null,
   "id": "11a272c6",
   "metadata": {},
   "outputs": [],
   "source": []
  },
  {
   "cell_type": "code",
   "execution_count": null,
   "id": "3bf3735b",
   "metadata": {},
   "outputs": [],
   "source": []
  },
  {
   "cell_type": "code",
   "execution_count": null,
   "id": "4bc16b76",
   "metadata": {},
   "outputs": [],
   "source": []
  },
  {
   "cell_type": "code",
   "execution_count": null,
   "id": "707b992d",
   "metadata": {},
   "outputs": [],
   "source": []
  },
  {
   "cell_type": "code",
   "execution_count": null,
   "id": "b09f9864",
   "metadata": {},
   "outputs": [],
   "source": []
  },
  {
   "cell_type": "code",
   "execution_count": null,
   "id": "e2974526",
   "metadata": {},
   "outputs": [],
   "source": []
  },
  {
   "cell_type": "code",
   "execution_count": null,
   "id": "7fa540d8",
   "metadata": {},
   "outputs": [],
   "source": []
  },
  {
   "cell_type": "code",
   "execution_count": null,
   "id": "bca1d541",
   "metadata": {},
   "outputs": [],
   "source": []
  },
  {
   "cell_type": "code",
   "execution_count": null,
   "id": "f9323210",
   "metadata": {},
   "outputs": [],
   "source": []
  },
  {
   "cell_type": "code",
   "execution_count": null,
   "id": "4aacded4",
   "metadata": {},
   "outputs": [],
   "source": []
  },
  {
   "cell_type": "code",
   "execution_count": null,
   "id": "80c14eca",
   "metadata": {},
   "outputs": [],
   "source": []
  },
  {
   "cell_type": "code",
   "execution_count": null,
   "id": "aa286c16",
   "metadata": {},
   "outputs": [],
   "source": []
  },
  {
   "cell_type": "code",
   "execution_count": null,
   "id": "e05634bd",
   "metadata": {},
   "outputs": [],
   "source": []
  },
  {
   "cell_type": "code",
   "execution_count": null,
   "id": "c386e7b0",
   "metadata": {},
   "outputs": [],
   "source": []
  },
  {
   "cell_type": "code",
   "execution_count": null,
   "id": "72b75bb5",
   "metadata": {},
   "outputs": [],
   "source": []
  },
  {
   "cell_type": "code",
   "execution_count": null,
   "id": "0c990185",
   "metadata": {},
   "outputs": [],
   "source": []
  },
  {
   "cell_type": "code",
   "execution_count": null,
   "id": "b0058d16",
   "metadata": {},
   "outputs": [],
   "source": []
  },
  {
   "cell_type": "code",
   "execution_count": null,
   "id": "b4fa7f20",
   "metadata": {},
   "outputs": [],
   "source": []
  },
  {
   "cell_type": "code",
   "execution_count": null,
   "id": "014fbd91",
   "metadata": {},
   "outputs": [],
   "source": []
  },
  {
   "cell_type": "code",
   "execution_count": null,
   "id": "bd3e4df2",
   "metadata": {},
   "outputs": [],
   "source": []
  },
  {
   "cell_type": "code",
   "execution_count": null,
   "id": "ab7230d1",
   "metadata": {},
   "outputs": [],
   "source": []
  },
  {
   "cell_type": "code",
   "execution_count": null,
   "id": "617a7d20",
   "metadata": {},
   "outputs": [],
   "source": []
  },
  {
   "cell_type": "code",
   "execution_count": null,
   "id": "70615f5d",
   "metadata": {},
   "outputs": [],
   "source": []
  },
  {
   "cell_type": "code",
   "execution_count": null,
   "id": "9f52411a",
   "metadata": {},
   "outputs": [],
   "source": []
  },
  {
   "cell_type": "code",
   "execution_count": null,
   "id": "34785c40",
   "metadata": {},
   "outputs": [],
   "source": []
  },
  {
   "cell_type": "code",
   "execution_count": null,
   "id": "eef95d72",
   "metadata": {},
   "outputs": [],
   "source": []
  },
  {
   "cell_type": "code",
   "execution_count": null,
   "id": "7bae16cb",
   "metadata": {},
   "outputs": [],
   "source": []
  },
  {
   "cell_type": "code",
   "execution_count": null,
   "id": "9867167b",
   "metadata": {},
   "outputs": [],
   "source": []
  },
  {
   "cell_type": "code",
   "execution_count": null,
   "id": "a4d5ea5b",
   "metadata": {},
   "outputs": [],
   "source": []
  },
  {
   "cell_type": "code",
   "execution_count": null,
   "id": "23d665aa",
   "metadata": {},
   "outputs": [],
   "source": []
  }
 ],
 "metadata": {
  "kernelspec": {
   "display_name": "Python 3 (ipykernel)",
   "language": "python",
   "name": "python3"
  },
  "language_info": {
   "codemirror_mode": {
    "name": "ipython",
    "version": 3
   },
   "file_extension": ".py",
   "mimetype": "text/x-python",
   "name": "python",
   "nbconvert_exporter": "python",
   "pygments_lexer": "ipython3",
   "version": "3.9.13"
  }
 },
 "nbformat": 4,
 "nbformat_minor": 5
}
