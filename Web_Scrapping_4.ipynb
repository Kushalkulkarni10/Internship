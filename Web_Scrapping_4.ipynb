{
 "cells": [
  {
   "cell_type": "markdown",
   "id": "04620cf8",
   "metadata": {},
   "source": [
    "## Web-scrapping Assignment 4"
   ]
  },
  {
   "cell_type": "markdown",
   "id": "0e5addd6",
   "metadata": {},
   "source": [
    "Q1)Scrape the details of most viewed videos on YouTube from Wikipedia.\n",
    "Url = https://en.wikipedia.org/wiki/List_of_most-viewed_YouTube_videos\n",
    "You need to find following details:\n",
    "A) Rank\n",
    "B) Name\n",
    "C) Artist\n",
    "D) Upload date\n",
    "E) Views"
   ]
  },
  {
   "cell_type": "code",
   "execution_count": 1,
   "id": "6d9df040",
   "metadata": {},
   "outputs": [],
   "source": [
    "from bs4 import BeautifulSoup\n",
    "import selenium\n",
    "from selenium import webdriver\n",
    "import pandas as pd\n",
    "import warnings\n",
    "warnings.filterwarnings('ignore')\n",
    "from selenium.webdriver.common.by import By\n",
    "import time\n",
    "from selenium.common.exceptions import NoSuchElementException"
   ]
  },
  {
   "cell_type": "code",
   "execution_count": 2,
   "id": "694496ec",
   "metadata": {},
   "outputs": [],
   "source": [
    "driver = webdriver.Chrome(r'C:\\Users\\Kushal Kulkarni\\Downloads\\chromedriver.exe')"
   ]
  },
  {
   "cell_type": "code",
   "execution_count": 3,
   "id": "ff2e106e",
   "metadata": {},
   "outputs": [],
   "source": [
    "driver.get('https://en.wikipedia.org/wiki/List_of_most-viewed_YouTube_videos')"
   ]
  },
  {
   "cell_type": "code",
   "execution_count": 4,
   "id": "0ef2a6f3",
   "metadata": {},
   "outputs": [],
   "source": [
    "Rank = []\n",
    "\n",
    "r = driver.find_elements(By.XPATH,'/html/body/div[2]/div/div[3]/main/div[3]/div[3]/div[1]/table[2]/tbody/tr/td[1]')\n",
    "for i in r:\n",
    "    Rank.append(i.text)"
   ]
  },
  {
   "cell_type": "code",
   "execution_count": 5,
   "id": "b5541bed",
   "metadata": {},
   "outputs": [
    {
     "data": {
      "text/plain": [
       "['1.',\n",
       " '2.',\n",
       " '3.',\n",
       " '4.',\n",
       " '5.',\n",
       " '6.',\n",
       " '7.',\n",
       " '8.',\n",
       " '9.',\n",
       " '10.',\n",
       " '11.',\n",
       " '12.',\n",
       " '13.',\n",
       " '14.',\n",
       " '15.',\n",
       " '16.',\n",
       " '17.',\n",
       " '18.',\n",
       " '19.',\n",
       " '20.',\n",
       " '21.',\n",
       " '22.',\n",
       " '23.',\n",
       " '24.',\n",
       " '25.',\n",
       " '26.',\n",
       " '27.',\n",
       " '28.',\n",
       " '29.',\n",
       " '30.']"
      ]
     },
     "execution_count": 5,
     "metadata": {},
     "output_type": "execute_result"
    }
   ],
   "source": [
    "Rank"
   ]
  },
  {
   "cell_type": "code",
   "execution_count": 10,
   "id": "7de1db88",
   "metadata": {},
   "outputs": [],
   "source": [
    "Name = []\n",
    "\n",
    "N = driver.find_elements(By.XPATH,'/html/body/div[2]/div/div[3]/main/div[3]/div[3]/div[1]/table[2]/tbody/tr/td[2]')\n",
    "for i in N:\n",
    "    Name.append(i.text)"
   ]
  },
  {
   "cell_type": "code",
   "execution_count": 11,
   "id": "98a27db4",
   "metadata": {},
   "outputs": [
    {
     "data": {
      "text/plain": [
       "30"
      ]
     },
     "execution_count": 11,
     "metadata": {},
     "output_type": "execute_result"
    }
   ],
   "source": [
    "len(Name)"
   ]
  },
  {
   "cell_type": "code",
   "execution_count": 12,
   "id": "7effa803",
   "metadata": {},
   "outputs": [
    {
     "data": {
      "text/plain": [
       "['\"Baby Shark Dance\"[4]',\n",
       " '\"Despacito\"[7]',\n",
       " '\"Johny Johny Yes Papa\"[14]',\n",
       " '\"Bath Song\"[15]',\n",
       " '\"Shape of You\"[16]',\n",
       " '\"See You Again\"[19]',\n",
       " '\"Phonics Song with Two Words\"[24]',\n",
       " '\"Wheels on the Bus\"[25]',\n",
       " '\"Uptown Funk\"[26]',\n",
       " '\"Learning Colors – Colorful Eggs on a Farm\"[27]',\n",
       " '\"Gangnam Style\"[28]',\n",
       " '\"Masha and the Bear – Recipe for Disaster\"[33]',\n",
       " '\"Dame Tu Cosita\"[34]',\n",
       " '\"Axel F\"[35]',\n",
       " '\"Sugar\"[36]',\n",
       " '\"Roar\"[37]',\n",
       " '\"Counting Stars\"[38]',\n",
       " '\"Sorry\"[39]',\n",
       " '\"Baa Baa Black Sheep\"[40]',\n",
       " '\"Thinking Out Loud\"[41]',\n",
       " '\"Waka Waka (This Time for Africa)\"[42]',\n",
       " '\"Dark Horse\"[43]',\n",
       " '\"Lakdi Ki Kathi\"[44]',\n",
       " '\"Faded\"[45]',\n",
       " '\"Perfect\"[46]',\n",
       " '\"Let Her Go\"[47]',\n",
       " '\"Girls Like You\"[48]',\n",
       " '\"Humpty the train on a fruits ride\"[49]',\n",
       " '\"Lean On\"[50]',\n",
       " '\"Bailando\"[51]']"
      ]
     },
     "execution_count": 12,
     "metadata": {},
     "output_type": "execute_result"
    }
   ],
   "source": [
    "Name"
   ]
  },
  {
   "cell_type": "code",
   "execution_count": 13,
   "id": "0779eaa6",
   "metadata": {},
   "outputs": [],
   "source": [
    "Artist = []\n",
    "\n",
    "A = driver.find_elements(By.XPATH,'/html/body/div[2]/div/div[3]/main/div[3]/div[3]/div[1]/table[2]/tbody/tr/td[3]')\n",
    "for i in A:\n",
    "    Artist.append(i.text)"
   ]
  },
  {
   "cell_type": "code",
   "execution_count": 14,
   "id": "344da3f4",
   "metadata": {},
   "outputs": [
    {
     "data": {
      "text/plain": [
       "[\"Pinkfong Baby Shark - Kids' Songs & Stories\",\n",
       " 'Luis Fonsi',\n",
       " 'LooLoo Kids',\n",
       " 'Cocomelon – Nursery Rhymes',\n",
       " 'Ed Sheeran',\n",
       " 'Wiz Khalifa',\n",
       " 'ChuChu TV',\n",
       " 'Cocomelon – Nursery Rhymes',\n",
       " 'Mark Ronson',\n",
       " 'Miroshka TV',\n",
       " 'Psy',\n",
       " 'Get Movies',\n",
       " 'El Chombo',\n",
       " 'Crazy Frog',\n",
       " 'Maroon 5',\n",
       " 'Katy Perry',\n",
       " 'OneRepublic',\n",
       " 'Justin Bieber',\n",
       " 'Cocomelon – Nursery Rhymes',\n",
       " 'Ed Sheeran',\n",
       " 'Shakira',\n",
       " 'Katy Perry',\n",
       " 'Jingle Toons',\n",
       " 'Alan Walker',\n",
       " 'Ed Sheeran',\n",
       " 'Passenger',\n",
       " 'Maroon 5',\n",
       " 'Kiddiestv Hindi – Nursery Rhymes & Kids Songs',\n",
       " 'Major Lazer',\n",
       " 'Enrique Iglesias']"
      ]
     },
     "execution_count": 14,
     "metadata": {},
     "output_type": "execute_result"
    }
   ],
   "source": [
    "Artist"
   ]
  },
  {
   "cell_type": "code",
   "execution_count": 15,
   "id": "59f8af16",
   "metadata": {},
   "outputs": [],
   "source": [
    "Upload_Date = []\n",
    "\n",
    "U = driver.find_elements(By.XPATH,'/html/body/div[2]/div/div[3]/main/div[3]/div[3]/div[1]/table[2]/tbody/tr/td[5]')\n",
    "for i in U:\n",
    "    Upload_Date.append(i.text)"
   ]
  },
  {
   "cell_type": "code",
   "execution_count": 16,
   "id": "ed278ddd",
   "metadata": {},
   "outputs": [
    {
     "data": {
      "text/plain": [
       "['June 17, 2016',\n",
       " 'January 12, 2017',\n",
       " 'October 8, 2016',\n",
       " 'May 2, 2018',\n",
       " 'January 30, 2017',\n",
       " 'April 6, 2015',\n",
       " 'March 6, 2014',\n",
       " 'May 24, 2018',\n",
       " 'November 19, 2014',\n",
       " 'February 27, 2018',\n",
       " 'July 15, 2012',\n",
       " 'January 31, 2012',\n",
       " 'April 5, 2018',\n",
       " 'June 16, 2009',\n",
       " 'January 14, 2015',\n",
       " 'September 5, 2013',\n",
       " 'May 31, 2013',\n",
       " 'October 22, 2015',\n",
       " 'June 25, 2018',\n",
       " 'October 7, 2014',\n",
       " 'June 4, 2010',\n",
       " 'February 20, 2014',\n",
       " 'June 14, 2018',\n",
       " 'December 3, 2015',\n",
       " 'November 9, 2017',\n",
       " 'July 25, 2012',\n",
       " 'May 31, 2018',\n",
       " 'January 26, 2018',\n",
       " 'March 22, 2015',\n",
       " 'April 11, 2014']"
      ]
     },
     "execution_count": 16,
     "metadata": {},
     "output_type": "execute_result"
    }
   ],
   "source": [
    "Upload_Date"
   ]
  },
  {
   "cell_type": "code",
   "execution_count": 20,
   "id": "252cfe3b",
   "metadata": {},
   "outputs": [],
   "source": [
    "Views_In_Billions= []\n",
    "\n",
    "V = driver.find_elements(By.XPATH,'/html/body/div[2]/div/div[3]/main/div[3]/div[3]/div[1]/table[2]/tbody/tr/td[4]')\n",
    "\n",
    "for i in V :\n",
    "    Views_In_Billions.append(i.text)"
   ]
  },
  {
   "cell_type": "code",
   "execution_count": 21,
   "id": "c3511e7c",
   "metadata": {},
   "outputs": [
    {
     "data": {
      "text/plain": [
       "['12.85',\n",
       " '8.16',\n",
       " '6.70',\n",
       " '6.20',\n",
       " '6.00',\n",
       " '5.89',\n",
       " '5.30',\n",
       " '5.24',\n",
       " '4.92',\n",
       " '4.89',\n",
       " '4.80',\n",
       " '4.55',\n",
       " '4.35',\n",
       " '3.91',\n",
       " '3.87',\n",
       " '3.80',\n",
       " '3.79',\n",
       " '3.66',\n",
       " '3.64',\n",
       " '3.60',\n",
       " '3.59',\n",
       " '3.52',\n",
       " '3.48',\n",
       " '3.45',\n",
       " '3.45',\n",
       " '3.44',\n",
       " '3.42',\n",
       " '3.41',\n",
       " '3.38',\n",
       " '3.38']"
      ]
     },
     "execution_count": 21,
     "metadata": {},
     "output_type": "execute_result"
    }
   ],
   "source": [
    "Views_In_Billions"
   ]
  },
  {
   "cell_type": "code",
   "execution_count": 23,
   "id": "5ab55bc1",
   "metadata": {},
   "outputs": [],
   "source": [
    "Most_Viewed_Videos = pd.DataFrame({'Rank': Rank,'Name': Name, 'Artist': Artist,'Upload_Date': Upload_Date,'Views_In_Billions':Views_In_Billions })"
   ]
  },
  {
   "cell_type": "code",
   "execution_count": 24,
   "id": "f6775ab0",
   "metadata": {},
   "outputs": [
    {
     "data": {
      "text/html": [
       "<div>\n",
       "<style scoped>\n",
       "    .dataframe tbody tr th:only-of-type {\n",
       "        vertical-align: middle;\n",
       "    }\n",
       "\n",
       "    .dataframe tbody tr th {\n",
       "        vertical-align: top;\n",
       "    }\n",
       "\n",
       "    .dataframe thead th {\n",
       "        text-align: right;\n",
       "    }\n",
       "</style>\n",
       "<table border=\"1\" class=\"dataframe\">\n",
       "  <thead>\n",
       "    <tr style=\"text-align: right;\">\n",
       "      <th></th>\n",
       "      <th>Rank</th>\n",
       "      <th>Name</th>\n",
       "      <th>Artist</th>\n",
       "      <th>Upload_Date</th>\n",
       "      <th>Views_In_Billions</th>\n",
       "    </tr>\n",
       "  </thead>\n",
       "  <tbody>\n",
       "    <tr>\n",
       "      <th>0</th>\n",
       "      <td>1.</td>\n",
       "      <td>\"Baby Shark Dance\"[4]</td>\n",
       "      <td>Pinkfong Baby Shark - Kids' Songs &amp; Stories</td>\n",
       "      <td>June 17, 2016</td>\n",
       "      <td>12.85</td>\n",
       "    </tr>\n",
       "    <tr>\n",
       "      <th>1</th>\n",
       "      <td>2.</td>\n",
       "      <td>\"Despacito\"[7]</td>\n",
       "      <td>Luis Fonsi</td>\n",
       "      <td>January 12, 2017</td>\n",
       "      <td>8.16</td>\n",
       "    </tr>\n",
       "    <tr>\n",
       "      <th>2</th>\n",
       "      <td>3.</td>\n",
       "      <td>\"Johny Johny Yes Papa\"[14]</td>\n",
       "      <td>LooLoo Kids</td>\n",
       "      <td>October 8, 2016</td>\n",
       "      <td>6.70</td>\n",
       "    </tr>\n",
       "    <tr>\n",
       "      <th>3</th>\n",
       "      <td>4.</td>\n",
       "      <td>\"Bath Song\"[15]</td>\n",
       "      <td>Cocomelon – Nursery Rhymes</td>\n",
       "      <td>May 2, 2018</td>\n",
       "      <td>6.20</td>\n",
       "    </tr>\n",
       "    <tr>\n",
       "      <th>4</th>\n",
       "      <td>5.</td>\n",
       "      <td>\"Shape of You\"[16]</td>\n",
       "      <td>Ed Sheeran</td>\n",
       "      <td>January 30, 2017</td>\n",
       "      <td>6.00</td>\n",
       "    </tr>\n",
       "    <tr>\n",
       "      <th>5</th>\n",
       "      <td>6.</td>\n",
       "      <td>\"See You Again\"[19]</td>\n",
       "      <td>Wiz Khalifa</td>\n",
       "      <td>April 6, 2015</td>\n",
       "      <td>5.89</td>\n",
       "    </tr>\n",
       "    <tr>\n",
       "      <th>6</th>\n",
       "      <td>7.</td>\n",
       "      <td>\"Phonics Song with Two Words\"[24]</td>\n",
       "      <td>ChuChu TV</td>\n",
       "      <td>March 6, 2014</td>\n",
       "      <td>5.30</td>\n",
       "    </tr>\n",
       "    <tr>\n",
       "      <th>7</th>\n",
       "      <td>8.</td>\n",
       "      <td>\"Wheels on the Bus\"[25]</td>\n",
       "      <td>Cocomelon – Nursery Rhymes</td>\n",
       "      <td>May 24, 2018</td>\n",
       "      <td>5.24</td>\n",
       "    </tr>\n",
       "    <tr>\n",
       "      <th>8</th>\n",
       "      <td>9.</td>\n",
       "      <td>\"Uptown Funk\"[26]</td>\n",
       "      <td>Mark Ronson</td>\n",
       "      <td>November 19, 2014</td>\n",
       "      <td>4.92</td>\n",
       "    </tr>\n",
       "    <tr>\n",
       "      <th>9</th>\n",
       "      <td>10.</td>\n",
       "      <td>\"Learning Colors – Colorful Eggs on a Farm\"[27]</td>\n",
       "      <td>Miroshka TV</td>\n",
       "      <td>February 27, 2018</td>\n",
       "      <td>4.89</td>\n",
       "    </tr>\n",
       "    <tr>\n",
       "      <th>10</th>\n",
       "      <td>11.</td>\n",
       "      <td>\"Gangnam Style\"[28]</td>\n",
       "      <td>Psy</td>\n",
       "      <td>July 15, 2012</td>\n",
       "      <td>4.80</td>\n",
       "    </tr>\n",
       "    <tr>\n",
       "      <th>11</th>\n",
       "      <td>12.</td>\n",
       "      <td>\"Masha and the Bear – Recipe for Disaster\"[33]</td>\n",
       "      <td>Get Movies</td>\n",
       "      <td>January 31, 2012</td>\n",
       "      <td>4.55</td>\n",
       "    </tr>\n",
       "    <tr>\n",
       "      <th>12</th>\n",
       "      <td>13.</td>\n",
       "      <td>\"Dame Tu Cosita\"[34]</td>\n",
       "      <td>El Chombo</td>\n",
       "      <td>April 5, 2018</td>\n",
       "      <td>4.35</td>\n",
       "    </tr>\n",
       "    <tr>\n",
       "      <th>13</th>\n",
       "      <td>14.</td>\n",
       "      <td>\"Axel F\"[35]</td>\n",
       "      <td>Crazy Frog</td>\n",
       "      <td>June 16, 2009</td>\n",
       "      <td>3.91</td>\n",
       "    </tr>\n",
       "    <tr>\n",
       "      <th>14</th>\n",
       "      <td>15.</td>\n",
       "      <td>\"Sugar\"[36]</td>\n",
       "      <td>Maroon 5</td>\n",
       "      <td>January 14, 2015</td>\n",
       "      <td>3.87</td>\n",
       "    </tr>\n",
       "    <tr>\n",
       "      <th>15</th>\n",
       "      <td>16.</td>\n",
       "      <td>\"Roar\"[37]</td>\n",
       "      <td>Katy Perry</td>\n",
       "      <td>September 5, 2013</td>\n",
       "      <td>3.80</td>\n",
       "    </tr>\n",
       "    <tr>\n",
       "      <th>16</th>\n",
       "      <td>17.</td>\n",
       "      <td>\"Counting Stars\"[38]</td>\n",
       "      <td>OneRepublic</td>\n",
       "      <td>May 31, 2013</td>\n",
       "      <td>3.79</td>\n",
       "    </tr>\n",
       "    <tr>\n",
       "      <th>17</th>\n",
       "      <td>18.</td>\n",
       "      <td>\"Sorry\"[39]</td>\n",
       "      <td>Justin Bieber</td>\n",
       "      <td>October 22, 2015</td>\n",
       "      <td>3.66</td>\n",
       "    </tr>\n",
       "    <tr>\n",
       "      <th>18</th>\n",
       "      <td>19.</td>\n",
       "      <td>\"Baa Baa Black Sheep\"[40]</td>\n",
       "      <td>Cocomelon – Nursery Rhymes</td>\n",
       "      <td>June 25, 2018</td>\n",
       "      <td>3.64</td>\n",
       "    </tr>\n",
       "    <tr>\n",
       "      <th>19</th>\n",
       "      <td>20.</td>\n",
       "      <td>\"Thinking Out Loud\"[41]</td>\n",
       "      <td>Ed Sheeran</td>\n",
       "      <td>October 7, 2014</td>\n",
       "      <td>3.60</td>\n",
       "    </tr>\n",
       "    <tr>\n",
       "      <th>20</th>\n",
       "      <td>21.</td>\n",
       "      <td>\"Waka Waka (This Time for Africa)\"[42]</td>\n",
       "      <td>Shakira</td>\n",
       "      <td>June 4, 2010</td>\n",
       "      <td>3.59</td>\n",
       "    </tr>\n",
       "    <tr>\n",
       "      <th>21</th>\n",
       "      <td>22.</td>\n",
       "      <td>\"Dark Horse\"[43]</td>\n",
       "      <td>Katy Perry</td>\n",
       "      <td>February 20, 2014</td>\n",
       "      <td>3.52</td>\n",
       "    </tr>\n",
       "    <tr>\n",
       "      <th>22</th>\n",
       "      <td>23.</td>\n",
       "      <td>\"Lakdi Ki Kathi\"[44]</td>\n",
       "      <td>Jingle Toons</td>\n",
       "      <td>June 14, 2018</td>\n",
       "      <td>3.48</td>\n",
       "    </tr>\n",
       "    <tr>\n",
       "      <th>23</th>\n",
       "      <td>24.</td>\n",
       "      <td>\"Faded\"[45]</td>\n",
       "      <td>Alan Walker</td>\n",
       "      <td>December 3, 2015</td>\n",
       "      <td>3.45</td>\n",
       "    </tr>\n",
       "    <tr>\n",
       "      <th>24</th>\n",
       "      <td>25.</td>\n",
       "      <td>\"Perfect\"[46]</td>\n",
       "      <td>Ed Sheeran</td>\n",
       "      <td>November 9, 2017</td>\n",
       "      <td>3.45</td>\n",
       "    </tr>\n",
       "    <tr>\n",
       "      <th>25</th>\n",
       "      <td>26.</td>\n",
       "      <td>\"Let Her Go\"[47]</td>\n",
       "      <td>Passenger</td>\n",
       "      <td>July 25, 2012</td>\n",
       "      <td>3.44</td>\n",
       "    </tr>\n",
       "    <tr>\n",
       "      <th>26</th>\n",
       "      <td>27.</td>\n",
       "      <td>\"Girls Like You\"[48]</td>\n",
       "      <td>Maroon 5</td>\n",
       "      <td>May 31, 2018</td>\n",
       "      <td>3.42</td>\n",
       "    </tr>\n",
       "    <tr>\n",
       "      <th>27</th>\n",
       "      <td>28.</td>\n",
       "      <td>\"Humpty the train on a fruits ride\"[49]</td>\n",
       "      <td>Kiddiestv Hindi – Nursery Rhymes &amp; Kids Songs</td>\n",
       "      <td>January 26, 2018</td>\n",
       "      <td>3.41</td>\n",
       "    </tr>\n",
       "    <tr>\n",
       "      <th>28</th>\n",
       "      <td>29.</td>\n",
       "      <td>\"Lean On\"[50]</td>\n",
       "      <td>Major Lazer</td>\n",
       "      <td>March 22, 2015</td>\n",
       "      <td>3.38</td>\n",
       "    </tr>\n",
       "    <tr>\n",
       "      <th>29</th>\n",
       "      <td>30.</td>\n",
       "      <td>\"Bailando\"[51]</td>\n",
       "      <td>Enrique Iglesias</td>\n",
       "      <td>April 11, 2014</td>\n",
       "      <td>3.38</td>\n",
       "    </tr>\n",
       "  </tbody>\n",
       "</table>\n",
       "</div>"
      ],
      "text/plain": [
       "   Rank                                             Name  \\\n",
       "0    1.                            \"Baby Shark Dance\"[4]   \n",
       "1    2.                                   \"Despacito\"[7]   \n",
       "2    3.                       \"Johny Johny Yes Papa\"[14]   \n",
       "3    4.                                  \"Bath Song\"[15]   \n",
       "4    5.                               \"Shape of You\"[16]   \n",
       "5    6.                              \"See You Again\"[19]   \n",
       "6    7.                \"Phonics Song with Two Words\"[24]   \n",
       "7    8.                          \"Wheels on the Bus\"[25]   \n",
       "8    9.                                \"Uptown Funk\"[26]   \n",
       "9   10.  \"Learning Colors – Colorful Eggs on a Farm\"[27]   \n",
       "10  11.                              \"Gangnam Style\"[28]   \n",
       "11  12.   \"Masha and the Bear – Recipe for Disaster\"[33]   \n",
       "12  13.                             \"Dame Tu Cosita\"[34]   \n",
       "13  14.                                     \"Axel F\"[35]   \n",
       "14  15.                                      \"Sugar\"[36]   \n",
       "15  16.                                       \"Roar\"[37]   \n",
       "16  17.                             \"Counting Stars\"[38]   \n",
       "17  18.                                      \"Sorry\"[39]   \n",
       "18  19.                        \"Baa Baa Black Sheep\"[40]   \n",
       "19  20.                          \"Thinking Out Loud\"[41]   \n",
       "20  21.           \"Waka Waka (This Time for Africa)\"[42]   \n",
       "21  22.                                 \"Dark Horse\"[43]   \n",
       "22  23.                             \"Lakdi Ki Kathi\"[44]   \n",
       "23  24.                                      \"Faded\"[45]   \n",
       "24  25.                                    \"Perfect\"[46]   \n",
       "25  26.                                 \"Let Her Go\"[47]   \n",
       "26  27.                             \"Girls Like You\"[48]   \n",
       "27  28.          \"Humpty the train on a fruits ride\"[49]   \n",
       "28  29.                                    \"Lean On\"[50]   \n",
       "29  30.                                   \"Bailando\"[51]   \n",
       "\n",
       "                                           Artist        Upload_Date  \\\n",
       "0     Pinkfong Baby Shark - Kids' Songs & Stories      June 17, 2016   \n",
       "1                                      Luis Fonsi   January 12, 2017   \n",
       "2                                     LooLoo Kids    October 8, 2016   \n",
       "3                      Cocomelon – Nursery Rhymes        May 2, 2018   \n",
       "4                                      Ed Sheeran   January 30, 2017   \n",
       "5                                     Wiz Khalifa      April 6, 2015   \n",
       "6                                       ChuChu TV      March 6, 2014   \n",
       "7                      Cocomelon – Nursery Rhymes       May 24, 2018   \n",
       "8                                     Mark Ronson  November 19, 2014   \n",
       "9                                     Miroshka TV  February 27, 2018   \n",
       "10                                            Psy      July 15, 2012   \n",
       "11                                     Get Movies   January 31, 2012   \n",
       "12                                      El Chombo      April 5, 2018   \n",
       "13                                     Crazy Frog      June 16, 2009   \n",
       "14                                       Maroon 5   January 14, 2015   \n",
       "15                                     Katy Perry  September 5, 2013   \n",
       "16                                    OneRepublic       May 31, 2013   \n",
       "17                                  Justin Bieber   October 22, 2015   \n",
       "18                     Cocomelon – Nursery Rhymes      June 25, 2018   \n",
       "19                                     Ed Sheeran    October 7, 2014   \n",
       "20                                        Shakira       June 4, 2010   \n",
       "21                                     Katy Perry  February 20, 2014   \n",
       "22                                   Jingle Toons      June 14, 2018   \n",
       "23                                    Alan Walker   December 3, 2015   \n",
       "24                                     Ed Sheeran   November 9, 2017   \n",
       "25                                      Passenger      July 25, 2012   \n",
       "26                                       Maroon 5       May 31, 2018   \n",
       "27  Kiddiestv Hindi – Nursery Rhymes & Kids Songs   January 26, 2018   \n",
       "28                                    Major Lazer     March 22, 2015   \n",
       "29                               Enrique Iglesias     April 11, 2014   \n",
       "\n",
       "   Views_In_Billions  \n",
       "0              12.85  \n",
       "1               8.16  \n",
       "2               6.70  \n",
       "3               6.20  \n",
       "4               6.00  \n",
       "5               5.89  \n",
       "6               5.30  \n",
       "7               5.24  \n",
       "8               4.92  \n",
       "9               4.89  \n",
       "10              4.80  \n",
       "11              4.55  \n",
       "12              4.35  \n",
       "13              3.91  \n",
       "14              3.87  \n",
       "15              3.80  \n",
       "16              3.79  \n",
       "17              3.66  \n",
       "18              3.64  \n",
       "19              3.60  \n",
       "20              3.59  \n",
       "21              3.52  \n",
       "22              3.48  \n",
       "23              3.45  \n",
       "24              3.45  \n",
       "25              3.44  \n",
       "26              3.42  \n",
       "27              3.41  \n",
       "28              3.38  \n",
       "29              3.38  "
      ]
     },
     "execution_count": 24,
     "metadata": {},
     "output_type": "execute_result"
    }
   ],
   "source": [
    "Most_Viewed_Videos"
   ]
  },
  {
   "cell_type": "markdown",
   "id": "33414193",
   "metadata": {},
   "source": [
    "Q2) Scrape the details teamIndia’sinternationalfixtures from bcci.tv.\n",
    "Url = https://www.bcci.tv/.\n",
    "You need to find following details:\n",
    "A) Match title (I.e. 1stODI)\n",
    "B) Series\n",
    "C) Place\n",
    "D) Date\n",
    "E) Time\n",
    "Note: - From bcci.tv home page you have reach to the international fixture page through code."
   ]
  },
  {
   "cell_type": "code",
   "execution_count": 25,
   "id": "29d77d5f",
   "metadata": {},
   "outputs": [],
   "source": [
    "driver = webdriver.Chrome(r'C:\\Users\\Kushal Kulkarni\\Downloads\\chromedriver.exe')"
   ]
  },
  {
   "cell_type": "code",
   "execution_count": 26,
   "id": "e65be060",
   "metadata": {},
   "outputs": [],
   "source": [
    "driver.get('https://www.bcci.tv/')"
   ]
  },
  {
   "cell_type": "code",
   "execution_count": 27,
   "id": "80899d32",
   "metadata": {},
   "outputs": [],
   "source": [
    "s = driver.find_element(By.XPATH,'/html/body/nav/div[1]/button/span[2]')\n",
    "s.click()"
   ]
  },
  {
   "cell_type": "code",
   "execution_count": 28,
   "id": "1d057c65",
   "metadata": {},
   "outputs": [],
   "source": [
    "s1 = driver.find_element(By.XPATH,'/html/body/nav/div[1]/div[2]/ul[1]/li[2]/a')\n",
    "s1.click()"
   ]
  },
  {
   "cell_type": "code",
   "execution_count": 29,
   "id": "1e72a002",
   "metadata": {},
   "outputs": [],
   "source": [
    "Mt = []\n",
    "\n",
    "m = driver.find_elements(By.XPATH,'//span[@class=\"matchOrderText ng-binding ng-scope\"]')\n",
    "\n",
    "for i in m:\n",
    "    Mt.append(i.text)"
   ]
  },
  {
   "cell_type": "code",
   "execution_count": 30,
   "id": "504a028a",
   "metadata": {},
   "outputs": [
    {
     "data": {
      "text/plain": [
       "['1st Test -',\n",
       " '2nd Test -',\n",
       " '1st ODI -',\n",
       " '2nd ODI -',\n",
       " '3rd ODI -',\n",
       " '1st T20I -',\n",
       " '2nd T20I -',\n",
       " '3rd T20I -',\n",
       " '4th T20I -',\n",
       " '5th T20I -']"
      ]
     },
     "execution_count": 30,
     "metadata": {},
     "output_type": "execute_result"
    }
   ],
   "source": [
    "Mt"
   ]
  },
  {
   "cell_type": "code",
   "execution_count": 32,
   "id": "81ce165a",
   "metadata": {},
   "outputs": [],
   "source": [
    "Series = []\n",
    "\n",
    "s = driver.find_elements(By.XPATH,'//h5[@class=\"match-tournament-name ng-binding\"]')\n",
    "\n",
    "for i in s:\n",
    "    Series.append(i.text)"
   ]
  },
  {
   "cell_type": "code",
   "execution_count": 33,
   "id": "e9f2c4c8",
   "metadata": {},
   "outputs": [
    {
     "data": {
      "text/plain": [
       "['INDIA TOUR OF WEST INDIES 2023',\n",
       " 'INDIA TOUR OF WEST INDIES 2023',\n",
       " 'INDIA TOUR OF WEST INDIES 2023',\n",
       " 'INDIA TOUR OF WEST INDIES 2023',\n",
       " 'INDIA TOUR OF WEST INDIES 2023',\n",
       " 'INDIA TOUR OF WEST INDIES 2023',\n",
       " 'INDIA TOUR OF WEST INDIES 2023',\n",
       " 'INDIA TOUR OF WEST INDIES 2023',\n",
       " 'INDIA TOUR OF WEST INDIES 2023',\n",
       " 'INDIA TOUR OF WEST INDIES 2023']"
      ]
     },
     "execution_count": 33,
     "metadata": {},
     "output_type": "execute_result"
    }
   ],
   "source": [
    "Series"
   ]
  },
  {
   "cell_type": "code",
   "execution_count": 34,
   "id": "713fd961",
   "metadata": {},
   "outputs": [],
   "source": [
    "Place = []\n",
    "\n",
    "p = driver.find_elements(By.XPATH,'//span[@class=\"ng-binding ng-scope\"]')\n",
    "\n",
    "for i in p:\n",
    "    Place.append(i.text)"
   ]
  },
  {
   "cell_type": "code",
   "execution_count": 35,
   "id": "3bd91018",
   "metadata": {},
   "outputs": [
    {
     "data": {
      "text/plain": [
       "['Windsor Park,',\n",
       " \"Queen's Park Oval,\",\n",
       " 'Kensington Oval,',\n",
       " 'Kensington Oval,',\n",
       " 'Brian Lara Stadium,',\n",
       " 'Brian Lara Stadium,',\n",
       " 'National Stadium,',\n",
       " 'National Stadium,',\n",
       " 'Central Broward Regional Park Stadium Turf Ground,',\n",
       " 'Central Broward Regional Park Stadium Turf Ground,']"
      ]
     },
     "execution_count": 35,
     "metadata": {},
     "output_type": "execute_result"
    }
   ],
   "source": [
    "Place"
   ]
  },
  {
   "cell_type": "code",
   "execution_count": 36,
   "id": "3eee9e39",
   "metadata": {},
   "outputs": [],
   "source": [
    "Dates = []\n",
    "\n",
    "d = driver.find_elements(By.XPATH,'//div[@class=\"match-dates ng-binding\"]')\n",
    "\n",
    "for i in d:\n",
    "    Dates.append(i.text)"
   ]
  },
  {
   "cell_type": "code",
   "execution_count": 37,
   "id": "905c6cce",
   "metadata": {},
   "outputs": [
    {
     "data": {
      "text/plain": [
       "['12 JUL 2023',\n",
       " '20 JUL 2023',\n",
       " '27 JUL 2023',\n",
       " '29 JUL 2023',\n",
       " '1 AUG 2023',\n",
       " '3 AUG 2023',\n",
       " '6 AUG 2023',\n",
       " '8 AUG 2023',\n",
       " '12 AUG 2023',\n",
       " '13 AUG 2023']"
      ]
     },
     "execution_count": 37,
     "metadata": {},
     "output_type": "execute_result"
    }
   ],
   "source": [
    "Dates"
   ]
  },
  {
   "cell_type": "code",
   "execution_count": 38,
   "id": "339e0135",
   "metadata": {},
   "outputs": [],
   "source": [
    "Time = []\n",
    "\n",
    "t = driver.find_elements(By.XPATH,'//div[@class=\"match-time no-margin ng-binding\"]')\n",
    "\n",
    "for i in t:\n",
    "    Time.append(i.text)"
   ]
  },
  {
   "cell_type": "code",
   "execution_count": 39,
   "id": "385c61fb",
   "metadata": {},
   "outputs": [
    {
     "data": {
      "text/plain": [
       "['7:30 PM IST',\n",
       " '7:30 PM IST',\n",
       " '7:00 PM IST',\n",
       " '7:00 PM IST',\n",
       " '7:00 PM IST',\n",
       " '8:00 PM IST',\n",
       " '8:00 PM IST',\n",
       " '8:00 PM IST',\n",
       " '8:00 PM IST',\n",
       " '8:00 PM IST']"
      ]
     },
     "execution_count": 39,
     "metadata": {},
     "output_type": "execute_result"
    }
   ],
   "source": [
    "Time"
   ]
  },
  {
   "cell_type": "code",
   "execution_count": 40,
   "id": "c229a884",
   "metadata": {},
   "outputs": [],
   "source": [
    "India_Fixtures = pd.DataFrame({'Match': Mt, 'Series':Series, 'Place':Place, 'Dates': Dates, 'Timings':Time})"
   ]
  },
  {
   "cell_type": "code",
   "execution_count": 41,
   "id": "bceb1300",
   "metadata": {},
   "outputs": [
    {
     "data": {
      "text/html": [
       "<div>\n",
       "<style scoped>\n",
       "    .dataframe tbody tr th:only-of-type {\n",
       "        vertical-align: middle;\n",
       "    }\n",
       "\n",
       "    .dataframe tbody tr th {\n",
       "        vertical-align: top;\n",
       "    }\n",
       "\n",
       "    .dataframe thead th {\n",
       "        text-align: right;\n",
       "    }\n",
       "</style>\n",
       "<table border=\"1\" class=\"dataframe\">\n",
       "  <thead>\n",
       "    <tr style=\"text-align: right;\">\n",
       "      <th></th>\n",
       "      <th>Match</th>\n",
       "      <th>Series</th>\n",
       "      <th>Place</th>\n",
       "      <th>Dates</th>\n",
       "      <th>Timings</th>\n",
       "    </tr>\n",
       "  </thead>\n",
       "  <tbody>\n",
       "    <tr>\n",
       "      <th>0</th>\n",
       "      <td>1st Test -</td>\n",
       "      <td>INDIA TOUR OF WEST INDIES 2023</td>\n",
       "      <td>Windsor Park,</td>\n",
       "      <td>12 JUL 2023</td>\n",
       "      <td>7:30 PM IST</td>\n",
       "    </tr>\n",
       "    <tr>\n",
       "      <th>1</th>\n",
       "      <td>2nd Test -</td>\n",
       "      <td>INDIA TOUR OF WEST INDIES 2023</td>\n",
       "      <td>Queen's Park Oval,</td>\n",
       "      <td>20 JUL 2023</td>\n",
       "      <td>7:30 PM IST</td>\n",
       "    </tr>\n",
       "    <tr>\n",
       "      <th>2</th>\n",
       "      <td>1st ODI -</td>\n",
       "      <td>INDIA TOUR OF WEST INDIES 2023</td>\n",
       "      <td>Kensington Oval,</td>\n",
       "      <td>27 JUL 2023</td>\n",
       "      <td>7:00 PM IST</td>\n",
       "    </tr>\n",
       "    <tr>\n",
       "      <th>3</th>\n",
       "      <td>2nd ODI -</td>\n",
       "      <td>INDIA TOUR OF WEST INDIES 2023</td>\n",
       "      <td>Kensington Oval,</td>\n",
       "      <td>29 JUL 2023</td>\n",
       "      <td>7:00 PM IST</td>\n",
       "    </tr>\n",
       "    <tr>\n",
       "      <th>4</th>\n",
       "      <td>3rd ODI -</td>\n",
       "      <td>INDIA TOUR OF WEST INDIES 2023</td>\n",
       "      <td>Brian Lara Stadium,</td>\n",
       "      <td>1 AUG 2023</td>\n",
       "      <td>7:00 PM IST</td>\n",
       "    </tr>\n",
       "    <tr>\n",
       "      <th>5</th>\n",
       "      <td>1st T20I -</td>\n",
       "      <td>INDIA TOUR OF WEST INDIES 2023</td>\n",
       "      <td>Brian Lara Stadium,</td>\n",
       "      <td>3 AUG 2023</td>\n",
       "      <td>8:00 PM IST</td>\n",
       "    </tr>\n",
       "    <tr>\n",
       "      <th>6</th>\n",
       "      <td>2nd T20I -</td>\n",
       "      <td>INDIA TOUR OF WEST INDIES 2023</td>\n",
       "      <td>National Stadium,</td>\n",
       "      <td>6 AUG 2023</td>\n",
       "      <td>8:00 PM IST</td>\n",
       "    </tr>\n",
       "    <tr>\n",
       "      <th>7</th>\n",
       "      <td>3rd T20I -</td>\n",
       "      <td>INDIA TOUR OF WEST INDIES 2023</td>\n",
       "      <td>National Stadium,</td>\n",
       "      <td>8 AUG 2023</td>\n",
       "      <td>8:00 PM IST</td>\n",
       "    </tr>\n",
       "    <tr>\n",
       "      <th>8</th>\n",
       "      <td>4th T20I -</td>\n",
       "      <td>INDIA TOUR OF WEST INDIES 2023</td>\n",
       "      <td>Central Broward Regional Park Stadium Turf Gro...</td>\n",
       "      <td>12 AUG 2023</td>\n",
       "      <td>8:00 PM IST</td>\n",
       "    </tr>\n",
       "    <tr>\n",
       "      <th>9</th>\n",
       "      <td>5th T20I -</td>\n",
       "      <td>INDIA TOUR OF WEST INDIES 2023</td>\n",
       "      <td>Central Broward Regional Park Stadium Turf Gro...</td>\n",
       "      <td>13 AUG 2023</td>\n",
       "      <td>8:00 PM IST</td>\n",
       "    </tr>\n",
       "  </tbody>\n",
       "</table>\n",
       "</div>"
      ],
      "text/plain": [
       "        Match                          Series  \\\n",
       "0  1st Test -  INDIA TOUR OF WEST INDIES 2023   \n",
       "1  2nd Test -  INDIA TOUR OF WEST INDIES 2023   \n",
       "2   1st ODI -  INDIA TOUR OF WEST INDIES 2023   \n",
       "3   2nd ODI -  INDIA TOUR OF WEST INDIES 2023   \n",
       "4   3rd ODI -  INDIA TOUR OF WEST INDIES 2023   \n",
       "5  1st T20I -  INDIA TOUR OF WEST INDIES 2023   \n",
       "6  2nd T20I -  INDIA TOUR OF WEST INDIES 2023   \n",
       "7  3rd T20I -  INDIA TOUR OF WEST INDIES 2023   \n",
       "8  4th T20I -  INDIA TOUR OF WEST INDIES 2023   \n",
       "9  5th T20I -  INDIA TOUR OF WEST INDIES 2023   \n",
       "\n",
       "                                               Place        Dates      Timings  \n",
       "0                                      Windsor Park,  12 JUL 2023  7:30 PM IST  \n",
       "1                                 Queen's Park Oval,  20 JUL 2023  7:30 PM IST  \n",
       "2                                   Kensington Oval,  27 JUL 2023  7:00 PM IST  \n",
       "3                                   Kensington Oval,  29 JUL 2023  7:00 PM IST  \n",
       "4                                Brian Lara Stadium,   1 AUG 2023  7:00 PM IST  \n",
       "5                                Brian Lara Stadium,   3 AUG 2023  8:00 PM IST  \n",
       "6                                  National Stadium,   6 AUG 2023  8:00 PM IST  \n",
       "7                                  National Stadium,   8 AUG 2023  8:00 PM IST  \n",
       "8  Central Broward Regional Park Stadium Turf Gro...  12 AUG 2023  8:00 PM IST  \n",
       "9  Central Broward Regional Park Stadium Turf Gro...  13 AUG 2023  8:00 PM IST  "
      ]
     },
     "execution_count": 41,
     "metadata": {},
     "output_type": "execute_result"
    }
   ],
   "source": [
    "India_Fixtures"
   ]
  },
  {
   "cell_type": "code",
   "execution_count": 1,
   "id": "80d5c172",
   "metadata": {},
   "outputs": [],
   "source": [
    "from bs4 import BeautifulSoup\n",
    "import selenium\n",
    "from selenium import webdriver\n",
    "import pandas as pd\n",
    "import warnings\n",
    "warnings.filterwarnings('ignore')\n",
    "from selenium.webdriver.common.by import By\n",
    "import time\n",
    "from selenium.common.exceptions import NoSuchElementException"
   ]
  },
  {
   "cell_type": "markdown",
   "id": "73405c4b",
   "metadata": {},
   "source": [
    "Q3) Scrape the details of State-wise GDP ofIndia fromstatisticstime.com. \n",
    "Url = http://statisticstimes.com/\n",
    "You have to find following details:\n",
    "A) Rank\n",
    "B) State\n",
    "C) GSDP(18-19)- at current prices\n",
    "D) GSDP(19-20)- at current prices\n",
    "E) Share(18-19)\n",
    "F) GDP($ billion)\n",
    "Note: - From statisticstimes home page you have to reach to economy page through code."
   ]
  },
  {
   "cell_type": "code",
   "execution_count": 2,
   "id": "5517963f",
   "metadata": {},
   "outputs": [],
   "source": [
    "driver = webdriver.Chrome(r'C:\\Users\\Kushal Kulkarni\\Downloads\\chromedriver.exe')"
   ]
  },
  {
   "cell_type": "code",
   "execution_count": 3,
   "id": "47a557b9",
   "metadata": {},
   "outputs": [],
   "source": [
    "driver.get('http://statisticstimes.com/')"
   ]
  },
  {
   "cell_type": "code",
   "execution_count": 4,
   "id": "666a1920",
   "metadata": {},
   "outputs": [],
   "source": [
    "s = driver.find_element(By.XPATH,'/html/body/div[2]/div[1]/div[2]/div[2]/button')"
   ]
  },
  {
   "cell_type": "code",
   "execution_count": 5,
   "id": "1b4053e8",
   "metadata": {},
   "outputs": [],
   "source": [
    "s.click()"
   ]
  },
  {
   "cell_type": "code",
   "execution_count": 10,
   "id": "50d2a50f",
   "metadata": {},
   "outputs": [],
   "source": [
    "s1 = driver.find_element(By.XPATH,'/html/body/div[2]/div[2]/div[2]/ul/li[1]/a')\n",
    "s1.click()"
   ]
  },
  {
   "cell_type": "code",
   "execution_count": 11,
   "id": "a0b4624a",
   "metadata": {},
   "outputs": [],
   "source": [
    "Rank = []\n",
    "\n",
    "r = driver.find_elements(By.XPATH,'/html/body/div[2]/div[2]/div[5]/div[1]/div/table/tbody/tr/td[1]')\n",
    "for i in r:\n",
    "    Rank.append(i.text)"
   ]
  },
  {
   "cell_type": "code",
   "execution_count": 12,
   "id": "6392f461",
   "metadata": {},
   "outputs": [
    {
     "data": {
      "text/plain": [
       "['1',\n",
       " '2',\n",
       " '3',\n",
       " '4',\n",
       " '5',\n",
       " '6',\n",
       " '7',\n",
       " '8',\n",
       " '9',\n",
       " '10',\n",
       " '11',\n",
       " '12',\n",
       " '13',\n",
       " '14',\n",
       " '15',\n",
       " '16',\n",
       " '17',\n",
       " '18',\n",
       " '19',\n",
       " '20',\n",
       " '21',\n",
       " '22',\n",
       " '23',\n",
       " '24',\n",
       " '25',\n",
       " '26',\n",
       " '27',\n",
       " '28',\n",
       " '29',\n",
       " '30',\n",
       " '31',\n",
       " '32',\n",
       " '33']"
      ]
     },
     "execution_count": 12,
     "metadata": {},
     "output_type": "execute_result"
    }
   ],
   "source": [
    "Rank"
   ]
  },
  {
   "cell_type": "code",
   "execution_count": 13,
   "id": "88bb9738",
   "metadata": {},
   "outputs": [],
   "source": [
    "State = []\n",
    "\n",
    "s = driver.find_elements(By.XPATH,'/html/body/div[2]/div[2]/div[5]/div[1]/div/table/tbody/tr/td[2]')\n",
    "for i in s:\n",
    "    State.append(i.text)"
   ]
  },
  {
   "cell_type": "code",
   "execution_count": 14,
   "id": "89d08fe8",
   "metadata": {},
   "outputs": [
    {
     "data": {
      "text/plain": [
       "['Maharashtra',\n",
       " 'Tamil Nadu',\n",
       " 'Uttar Pradesh',\n",
       " 'Gujarat',\n",
       " 'Karnataka',\n",
       " 'West Bengal',\n",
       " 'Rajasthan',\n",
       " 'Andhra Pradesh',\n",
       " 'Telangana',\n",
       " 'Madhya Pradesh',\n",
       " 'Kerala',\n",
       " 'Delhi',\n",
       " 'Haryana',\n",
       " 'Bihar',\n",
       " 'Punjab',\n",
       " 'Odisha',\n",
       " 'Assam',\n",
       " 'Chhattisgarh',\n",
       " 'Jharkhand',\n",
       " 'Uttarakhand',\n",
       " 'Jammu & Kashmir',\n",
       " 'Himachal Pradesh',\n",
       " 'Goa',\n",
       " 'Tripura',\n",
       " 'Chandigarh',\n",
       " 'Puducherry',\n",
       " 'Meghalaya',\n",
       " 'Sikkim',\n",
       " 'Manipur',\n",
       " 'Nagaland',\n",
       " 'Arunachal Pradesh',\n",
       " 'Mizoram',\n",
       " 'Andaman & Nicobar Islands']"
      ]
     },
     "execution_count": 14,
     "metadata": {},
     "output_type": "execute_result"
    }
   ],
   "source": [
    "State"
   ]
  },
  {
   "cell_type": "code",
   "execution_count": 15,
   "id": "bda2c48a",
   "metadata": {},
   "outputs": [],
   "source": [
    "GSDP_18_19 = []\n",
    "\n",
    "gs = driver.find_elements(By.XPATH,'/html/body/div[2]/div[2]/div[5]/div[1]/div/table/tbody/tr/td[4]')\n",
    "\n",
    "for i in gs:\n",
    "    GSDP_18_19.append(i.text)"
   ]
  },
  {
   "cell_type": "code",
   "execution_count": 16,
   "id": "e4f54635",
   "metadata": {},
   "outputs": [
    {
     "data": {
      "text/plain": [
       "['2,632,792',\n",
       " '1,630,208',\n",
       " '1,584,764',\n",
       " '1,502,899',\n",
       " '1,493,127',\n",
       " '1,089,898',\n",
       " '942,586',\n",
       " '862,957',\n",
       " '861,031',\n",
       " '809,592',\n",
       " '781,653',\n",
       " '774,870',\n",
       " '734,163',\n",
       " '530,363',\n",
       " '526,376',\n",
       " '487,805',\n",
       " '315,881',\n",
       " '304,063',\n",
       " '297,204',\n",
       " '245,895',\n",
       " '155,956',\n",
       " '153,845',\n",
       " '73,170',\n",
       " '49,845',\n",
       " '42,114',\n",
       " '34,433',\n",
       " '33,481',\n",
       " '28,723',\n",
       " '27,870',\n",
       " '27,283',\n",
       " '24,603',\n",
       " '22,287',\n",
       " '-']"
      ]
     },
     "execution_count": 16,
     "metadata": {},
     "output_type": "execute_result"
    }
   ],
   "source": [
    "GSDP_18_19"
   ]
  },
  {
   "cell_type": "code",
   "execution_count": 17,
   "id": "05101cd6",
   "metadata": {},
   "outputs": [],
   "source": [
    "GSDP_19_20 = []\n",
    "\n",
    "gs1 = driver.find_elements(By.XPATH,'/html/body/div[2]/div[2]/div[5]/div[1]/div/table/tbody/tr/td[3]')\n",
    "\n",
    "for i in gs1:\n",
    "    GSDP_19_20.append(i.text)"
   ]
  },
  {
   "cell_type": "code",
   "execution_count": 18,
   "id": "17b087ef",
   "metadata": {},
   "outputs": [
    {
     "data": {
      "text/plain": [
       "['-',\n",
       " '1,845,853',\n",
       " '1,687,818',\n",
       " '-',\n",
       " '1,631,977',\n",
       " '1,253,832',\n",
       " '1,020,989',\n",
       " '972,782',\n",
       " '969,604',\n",
       " '906,672',\n",
       " '-',\n",
       " '856,112',\n",
       " '831,610',\n",
       " '611,804',\n",
       " '574,760',\n",
       " '521,275',\n",
       " '-',\n",
       " '329,180',\n",
       " '328,598',\n",
       " '-',\n",
       " '-',\n",
       " '165,472',\n",
       " '80,449',\n",
       " '55,984',\n",
       " '-',\n",
       " '38,253',\n",
       " '36,572',\n",
       " '32,496',\n",
       " '31,790',\n",
       " '-',\n",
       " '-',\n",
       " '26,503',\n",
       " '-']"
      ]
     },
     "execution_count": 18,
     "metadata": {},
     "output_type": "execute_result"
    }
   ],
   "source": [
    "GSDP_19_20"
   ]
  },
  {
   "cell_type": "code",
   "execution_count": 19,
   "id": "c1412092",
   "metadata": {},
   "outputs": [],
   "source": [
    "Share_18_19 = []\n",
    "\n",
    "sh = driver.find_elements(By.XPATH,'/html/body/div[2]/div[2]/div[5]/div[1]/div/table/tbody/tr/td[5]')\n",
    "\n",
    "for i in sh:\n",
    "    Share_18_19.append(i.text)"
   ]
  },
  {
   "cell_type": "code",
   "execution_count": 20,
   "id": "4d9be966",
   "metadata": {},
   "outputs": [
    {
     "data": {
      "text/plain": [
       "['13.94%',\n",
       " '8.63%',\n",
       " '8.39%',\n",
       " '7.96%',\n",
       " '7.91%',\n",
       " '5.77%',\n",
       " '4.99%',\n",
       " '4.57%',\n",
       " '4.56%',\n",
       " '4.29%',\n",
       " '4.14%',\n",
       " '4.10%',\n",
       " '3.89%',\n",
       " '2.81%',\n",
       " '2.79%',\n",
       " '2.58%',\n",
       " '1.67%',\n",
       " '1.61%',\n",
       " '1.57%',\n",
       " '1.30%',\n",
       " '0.83%',\n",
       " '0.81%',\n",
       " '0.39%',\n",
       " '0.26%',\n",
       " '0.22%',\n",
       " '0.18%',\n",
       " '0.18%',\n",
       " '0.15%',\n",
       " '0.15%',\n",
       " '0.14%',\n",
       " '0.13%',\n",
       " '0.12%',\n",
       " '-']"
      ]
     },
     "execution_count": 20,
     "metadata": {},
     "output_type": "execute_result"
    }
   ],
   "source": [
    "Share_18_19"
   ]
  },
  {
   "cell_type": "code",
   "execution_count": 22,
   "id": "625044ba",
   "metadata": {},
   "outputs": [],
   "source": [
    "GDP_billion = []\n",
    "\n",
    "gdp = driver.find_elements(By.XPATH,'/html/body/div[2]/div[2]/div[5]/div[1]/div/table/tbody/tr/td[6]')\n",
    "\n",
    "for i in gdp:\n",
    "    GDP_billion.append(i.text)"
   ]
  },
  {
   "cell_type": "code",
   "execution_count": 23,
   "id": "9d7cc50e",
   "metadata": {},
   "outputs": [
    {
     "data": {
      "text/plain": [
       "['399.921',\n",
       " '247.629',\n",
       " '240.726',\n",
       " '228.290',\n",
       " '226.806',\n",
       " '165.556',\n",
       " '143.179',\n",
       " '131.083',\n",
       " '130.791',\n",
       " '122.977',\n",
       " '118.733',\n",
       " '117.703',\n",
       " '111.519',\n",
       " '80.562',\n",
       " '79.957',\n",
       " '74.098',\n",
       " '47.982',\n",
       " '46.187',\n",
       " '45.145',\n",
       " '37.351',\n",
       " '23.690',\n",
       " '23.369',\n",
       " '11.115',\n",
       " '7.571',\n",
       " '6.397',\n",
       " '5.230',\n",
       " '5.086',\n",
       " '4.363',\n",
       " '4.233',\n",
       " '4.144',\n",
       " '3.737',\n",
       " '3.385',\n",
       " '-']"
      ]
     },
     "execution_count": 23,
     "metadata": {},
     "output_type": "execute_result"
    }
   ],
   "source": [
    "GDP_billion"
   ]
  },
  {
   "cell_type": "code",
   "execution_count": 24,
   "id": "3ae00ac0",
   "metadata": {},
   "outputs": [
    {
     "data": {
      "text/html": [
       "<div>\n",
       "<style scoped>\n",
       "    .dataframe tbody tr th:only-of-type {\n",
       "        vertical-align: middle;\n",
       "    }\n",
       "\n",
       "    .dataframe tbody tr th {\n",
       "        vertical-align: top;\n",
       "    }\n",
       "\n",
       "    .dataframe thead th {\n",
       "        text-align: right;\n",
       "    }\n",
       "</style>\n",
       "<table border=\"1\" class=\"dataframe\">\n",
       "  <thead>\n",
       "    <tr style=\"text-align: right;\">\n",
       "      <th></th>\n",
       "      <th>Rank</th>\n",
       "      <th>State</th>\n",
       "      <th>GSDP_18_19</th>\n",
       "      <th>GSDP_19_20</th>\n",
       "      <th>Share_18_19</th>\n",
       "      <th>GDP_billion</th>\n",
       "    </tr>\n",
       "  </thead>\n",
       "  <tbody>\n",
       "    <tr>\n",
       "      <th>0</th>\n",
       "      <td>1</td>\n",
       "      <td>Maharashtra</td>\n",
       "      <td>2,632,792</td>\n",
       "      <td>-</td>\n",
       "      <td>13.94%</td>\n",
       "      <td>399.921</td>\n",
       "    </tr>\n",
       "    <tr>\n",
       "      <th>1</th>\n",
       "      <td>2</td>\n",
       "      <td>Tamil Nadu</td>\n",
       "      <td>1,630,208</td>\n",
       "      <td>1,845,853</td>\n",
       "      <td>8.63%</td>\n",
       "      <td>247.629</td>\n",
       "    </tr>\n",
       "    <tr>\n",
       "      <th>2</th>\n",
       "      <td>3</td>\n",
       "      <td>Uttar Pradesh</td>\n",
       "      <td>1,584,764</td>\n",
       "      <td>1,687,818</td>\n",
       "      <td>8.39%</td>\n",
       "      <td>240.726</td>\n",
       "    </tr>\n",
       "    <tr>\n",
       "      <th>3</th>\n",
       "      <td>4</td>\n",
       "      <td>Gujarat</td>\n",
       "      <td>1,502,899</td>\n",
       "      <td>-</td>\n",
       "      <td>7.96%</td>\n",
       "      <td>228.290</td>\n",
       "    </tr>\n",
       "    <tr>\n",
       "      <th>4</th>\n",
       "      <td>5</td>\n",
       "      <td>Karnataka</td>\n",
       "      <td>1,493,127</td>\n",
       "      <td>1,631,977</td>\n",
       "      <td>7.91%</td>\n",
       "      <td>226.806</td>\n",
       "    </tr>\n",
       "    <tr>\n",
       "      <th>5</th>\n",
       "      <td>6</td>\n",
       "      <td>West Bengal</td>\n",
       "      <td>1,089,898</td>\n",
       "      <td>1,253,832</td>\n",
       "      <td>5.77%</td>\n",
       "      <td>165.556</td>\n",
       "    </tr>\n",
       "    <tr>\n",
       "      <th>6</th>\n",
       "      <td>7</td>\n",
       "      <td>Rajasthan</td>\n",
       "      <td>942,586</td>\n",
       "      <td>1,020,989</td>\n",
       "      <td>4.99%</td>\n",
       "      <td>143.179</td>\n",
       "    </tr>\n",
       "    <tr>\n",
       "      <th>7</th>\n",
       "      <td>8</td>\n",
       "      <td>Andhra Pradesh</td>\n",
       "      <td>862,957</td>\n",
       "      <td>972,782</td>\n",
       "      <td>4.57%</td>\n",
       "      <td>131.083</td>\n",
       "    </tr>\n",
       "    <tr>\n",
       "      <th>8</th>\n",
       "      <td>9</td>\n",
       "      <td>Telangana</td>\n",
       "      <td>861,031</td>\n",
       "      <td>969,604</td>\n",
       "      <td>4.56%</td>\n",
       "      <td>130.791</td>\n",
       "    </tr>\n",
       "    <tr>\n",
       "      <th>9</th>\n",
       "      <td>10</td>\n",
       "      <td>Madhya Pradesh</td>\n",
       "      <td>809,592</td>\n",
       "      <td>906,672</td>\n",
       "      <td>4.29%</td>\n",
       "      <td>122.977</td>\n",
       "    </tr>\n",
       "    <tr>\n",
       "      <th>10</th>\n",
       "      <td>11</td>\n",
       "      <td>Kerala</td>\n",
       "      <td>781,653</td>\n",
       "      <td>-</td>\n",
       "      <td>4.14%</td>\n",
       "      <td>118.733</td>\n",
       "    </tr>\n",
       "    <tr>\n",
       "      <th>11</th>\n",
       "      <td>12</td>\n",
       "      <td>Delhi</td>\n",
       "      <td>774,870</td>\n",
       "      <td>856,112</td>\n",
       "      <td>4.10%</td>\n",
       "      <td>117.703</td>\n",
       "    </tr>\n",
       "    <tr>\n",
       "      <th>12</th>\n",
       "      <td>13</td>\n",
       "      <td>Haryana</td>\n",
       "      <td>734,163</td>\n",
       "      <td>831,610</td>\n",
       "      <td>3.89%</td>\n",
       "      <td>111.519</td>\n",
       "    </tr>\n",
       "    <tr>\n",
       "      <th>13</th>\n",
       "      <td>14</td>\n",
       "      <td>Bihar</td>\n",
       "      <td>530,363</td>\n",
       "      <td>611,804</td>\n",
       "      <td>2.81%</td>\n",
       "      <td>80.562</td>\n",
       "    </tr>\n",
       "    <tr>\n",
       "      <th>14</th>\n",
       "      <td>15</td>\n",
       "      <td>Punjab</td>\n",
       "      <td>526,376</td>\n",
       "      <td>574,760</td>\n",
       "      <td>2.79%</td>\n",
       "      <td>79.957</td>\n",
       "    </tr>\n",
       "    <tr>\n",
       "      <th>15</th>\n",
       "      <td>16</td>\n",
       "      <td>Odisha</td>\n",
       "      <td>487,805</td>\n",
       "      <td>521,275</td>\n",
       "      <td>2.58%</td>\n",
       "      <td>74.098</td>\n",
       "    </tr>\n",
       "    <tr>\n",
       "      <th>16</th>\n",
       "      <td>17</td>\n",
       "      <td>Assam</td>\n",
       "      <td>315,881</td>\n",
       "      <td>-</td>\n",
       "      <td>1.67%</td>\n",
       "      <td>47.982</td>\n",
       "    </tr>\n",
       "    <tr>\n",
       "      <th>17</th>\n",
       "      <td>18</td>\n",
       "      <td>Chhattisgarh</td>\n",
       "      <td>304,063</td>\n",
       "      <td>329,180</td>\n",
       "      <td>1.61%</td>\n",
       "      <td>46.187</td>\n",
       "    </tr>\n",
       "    <tr>\n",
       "      <th>18</th>\n",
       "      <td>19</td>\n",
       "      <td>Jharkhand</td>\n",
       "      <td>297,204</td>\n",
       "      <td>328,598</td>\n",
       "      <td>1.57%</td>\n",
       "      <td>45.145</td>\n",
       "    </tr>\n",
       "    <tr>\n",
       "      <th>19</th>\n",
       "      <td>20</td>\n",
       "      <td>Uttarakhand</td>\n",
       "      <td>245,895</td>\n",
       "      <td>-</td>\n",
       "      <td>1.30%</td>\n",
       "      <td>37.351</td>\n",
       "    </tr>\n",
       "    <tr>\n",
       "      <th>20</th>\n",
       "      <td>21</td>\n",
       "      <td>Jammu &amp; Kashmir</td>\n",
       "      <td>155,956</td>\n",
       "      <td>-</td>\n",
       "      <td>0.83%</td>\n",
       "      <td>23.690</td>\n",
       "    </tr>\n",
       "    <tr>\n",
       "      <th>21</th>\n",
       "      <td>22</td>\n",
       "      <td>Himachal Pradesh</td>\n",
       "      <td>153,845</td>\n",
       "      <td>165,472</td>\n",
       "      <td>0.81%</td>\n",
       "      <td>23.369</td>\n",
       "    </tr>\n",
       "    <tr>\n",
       "      <th>22</th>\n",
       "      <td>23</td>\n",
       "      <td>Goa</td>\n",
       "      <td>73,170</td>\n",
       "      <td>80,449</td>\n",
       "      <td>0.39%</td>\n",
       "      <td>11.115</td>\n",
       "    </tr>\n",
       "    <tr>\n",
       "      <th>23</th>\n",
       "      <td>24</td>\n",
       "      <td>Tripura</td>\n",
       "      <td>49,845</td>\n",
       "      <td>55,984</td>\n",
       "      <td>0.26%</td>\n",
       "      <td>7.571</td>\n",
       "    </tr>\n",
       "    <tr>\n",
       "      <th>24</th>\n",
       "      <td>25</td>\n",
       "      <td>Chandigarh</td>\n",
       "      <td>42,114</td>\n",
       "      <td>-</td>\n",
       "      <td>0.22%</td>\n",
       "      <td>6.397</td>\n",
       "    </tr>\n",
       "    <tr>\n",
       "      <th>25</th>\n",
       "      <td>26</td>\n",
       "      <td>Puducherry</td>\n",
       "      <td>34,433</td>\n",
       "      <td>38,253</td>\n",
       "      <td>0.18%</td>\n",
       "      <td>5.230</td>\n",
       "    </tr>\n",
       "    <tr>\n",
       "      <th>26</th>\n",
       "      <td>27</td>\n",
       "      <td>Meghalaya</td>\n",
       "      <td>33,481</td>\n",
       "      <td>36,572</td>\n",
       "      <td>0.18%</td>\n",
       "      <td>5.086</td>\n",
       "    </tr>\n",
       "    <tr>\n",
       "      <th>27</th>\n",
       "      <td>28</td>\n",
       "      <td>Sikkim</td>\n",
       "      <td>28,723</td>\n",
       "      <td>32,496</td>\n",
       "      <td>0.15%</td>\n",
       "      <td>4.363</td>\n",
       "    </tr>\n",
       "    <tr>\n",
       "      <th>28</th>\n",
       "      <td>29</td>\n",
       "      <td>Manipur</td>\n",
       "      <td>27,870</td>\n",
       "      <td>31,790</td>\n",
       "      <td>0.15%</td>\n",
       "      <td>4.233</td>\n",
       "    </tr>\n",
       "    <tr>\n",
       "      <th>29</th>\n",
       "      <td>30</td>\n",
       "      <td>Nagaland</td>\n",
       "      <td>27,283</td>\n",
       "      <td>-</td>\n",
       "      <td>0.14%</td>\n",
       "      <td>4.144</td>\n",
       "    </tr>\n",
       "    <tr>\n",
       "      <th>30</th>\n",
       "      <td>31</td>\n",
       "      <td>Arunachal Pradesh</td>\n",
       "      <td>24,603</td>\n",
       "      <td>-</td>\n",
       "      <td>0.13%</td>\n",
       "      <td>3.737</td>\n",
       "    </tr>\n",
       "    <tr>\n",
       "      <th>31</th>\n",
       "      <td>32</td>\n",
       "      <td>Mizoram</td>\n",
       "      <td>22,287</td>\n",
       "      <td>26,503</td>\n",
       "      <td>0.12%</td>\n",
       "      <td>3.385</td>\n",
       "    </tr>\n",
       "    <tr>\n",
       "      <th>32</th>\n",
       "      <td>33</td>\n",
       "      <td>Andaman &amp; Nicobar Islands</td>\n",
       "      <td>-</td>\n",
       "      <td>-</td>\n",
       "      <td>-</td>\n",
       "      <td>-</td>\n",
       "    </tr>\n",
       "  </tbody>\n",
       "</table>\n",
       "</div>"
      ],
      "text/plain": [
       "   Rank                      State GSDP_18_19 GSDP_19_20 Share_18_19  \\\n",
       "0     1                Maharashtra  2,632,792          -      13.94%   \n",
       "1     2                 Tamil Nadu  1,630,208  1,845,853       8.63%   \n",
       "2     3              Uttar Pradesh  1,584,764  1,687,818       8.39%   \n",
       "3     4                    Gujarat  1,502,899          -       7.96%   \n",
       "4     5                  Karnataka  1,493,127  1,631,977       7.91%   \n",
       "5     6                West Bengal  1,089,898  1,253,832       5.77%   \n",
       "6     7                  Rajasthan    942,586  1,020,989       4.99%   \n",
       "7     8             Andhra Pradesh    862,957    972,782       4.57%   \n",
       "8     9                  Telangana    861,031    969,604       4.56%   \n",
       "9    10             Madhya Pradesh    809,592    906,672       4.29%   \n",
       "10   11                     Kerala    781,653          -       4.14%   \n",
       "11   12                      Delhi    774,870    856,112       4.10%   \n",
       "12   13                    Haryana    734,163    831,610       3.89%   \n",
       "13   14                      Bihar    530,363    611,804       2.81%   \n",
       "14   15                     Punjab    526,376    574,760       2.79%   \n",
       "15   16                     Odisha    487,805    521,275       2.58%   \n",
       "16   17                      Assam    315,881          -       1.67%   \n",
       "17   18               Chhattisgarh    304,063    329,180       1.61%   \n",
       "18   19                  Jharkhand    297,204    328,598       1.57%   \n",
       "19   20                Uttarakhand    245,895          -       1.30%   \n",
       "20   21            Jammu & Kashmir    155,956          -       0.83%   \n",
       "21   22           Himachal Pradesh    153,845    165,472       0.81%   \n",
       "22   23                        Goa     73,170     80,449       0.39%   \n",
       "23   24                    Tripura     49,845     55,984       0.26%   \n",
       "24   25                 Chandigarh     42,114          -       0.22%   \n",
       "25   26                 Puducherry     34,433     38,253       0.18%   \n",
       "26   27                  Meghalaya     33,481     36,572       0.18%   \n",
       "27   28                     Sikkim     28,723     32,496       0.15%   \n",
       "28   29                    Manipur     27,870     31,790       0.15%   \n",
       "29   30                   Nagaland     27,283          -       0.14%   \n",
       "30   31          Arunachal Pradesh     24,603          -       0.13%   \n",
       "31   32                    Mizoram     22,287     26,503       0.12%   \n",
       "32   33  Andaman & Nicobar Islands          -          -           -   \n",
       "\n",
       "   GDP_billion  \n",
       "0      399.921  \n",
       "1      247.629  \n",
       "2      240.726  \n",
       "3      228.290  \n",
       "4      226.806  \n",
       "5      165.556  \n",
       "6      143.179  \n",
       "7      131.083  \n",
       "8      130.791  \n",
       "9      122.977  \n",
       "10     118.733  \n",
       "11     117.703  \n",
       "12     111.519  \n",
       "13      80.562  \n",
       "14      79.957  \n",
       "15      74.098  \n",
       "16      47.982  \n",
       "17      46.187  \n",
       "18      45.145  \n",
       "19      37.351  \n",
       "20      23.690  \n",
       "21      23.369  \n",
       "22      11.115  \n",
       "23       7.571  \n",
       "24       6.397  \n",
       "25       5.230  \n",
       "26       5.086  \n",
       "27       4.363  \n",
       "28       4.233  \n",
       "29       4.144  \n",
       "30       3.737  \n",
       "31       3.385  \n",
       "32           -  "
      ]
     },
     "execution_count": 24,
     "metadata": {},
     "output_type": "execute_result"
    }
   ],
   "source": [
    "State_Wise_GDP = pd.DataFrame({'Rank' : Rank, 'State': State, 'GSDP_18_19': GSDP_18_19, 'GSDP_19_20': GSDP_19_20, 'Share_18_19': Share_18_19, 'GDP_billion': GDP_billion})\n",
    "State_Wise_GDP"
   ]
  },
  {
   "cell_type": "markdown",
   "id": "44f1c8b1",
   "metadata": {},
   "source": [
    "Q4) Scrape the details of trending repositories on Github.com. \n",
    "Url = https://github.com/\n",
    "You have to find the following details:\n",
    "A) Repository title\n",
    "B) Repository description\n",
    "C) Contributors count\n",
    "D) Language used"
   ]
  },
  {
   "cell_type": "code",
   "execution_count": 1,
   "id": "96bbb4c3",
   "metadata": {},
   "outputs": [],
   "source": [
    "from bs4 import BeautifulSoup\n",
    "import selenium\n",
    "from selenium import webdriver\n",
    "import pandas as pd\n",
    "import warnings\n",
    "warnings.filterwarnings('ignore')\n",
    "from selenium.webdriver.common.by import By\n",
    "import time\n",
    "from selenium.common.exceptions import NoSuchElementException"
   ]
  },
  {
   "cell_type": "code",
   "execution_count": 2,
   "id": "f2d49a07",
   "metadata": {},
   "outputs": [],
   "source": [
    "driver = webdriver.Chrome(r'C:\\Users\\Kushal Kulkarni\\Downloads\\chromedriver.exe')"
   ]
  },
  {
   "cell_type": "code",
   "execution_count": 3,
   "id": "15f49a16",
   "metadata": {},
   "outputs": [],
   "source": [
    "driver.get('https://github.com/')"
   ]
  },
  {
   "cell_type": "code",
   "execution_count": 5,
   "id": "244452eb",
   "metadata": {},
   "outputs": [],
   "source": [
    "s = driver.find_element(By.XPATH,'/html/body/div[1]/div[1]/header/div/div[1]/div[2]/button/span/span/div[2]')\n",
    "s.click()"
   ]
  },
  {
   "cell_type": "code",
   "execution_count": 6,
   "id": "6595151e",
   "metadata": {},
   "outputs": [],
   "source": [
    "s1 = driver.find_element(By.XPATH,'/html/body/div[1]/div[1]/header/div/div[2]/div/nav/ul/li[3]/button')\n",
    "s1.click()"
   ]
  },
  {
   "cell_type": "code",
   "execution_count": 7,
   "id": "4cff020b",
   "metadata": {},
   "outputs": [],
   "source": [
    "Repository_tittle = []\n",
    "\n",
    "rt = driver.find_elements(By.XPATH,'/html/body/div[1]/div[4]/main/div[3]/div/div[2]/article/h2/a/span')\n",
    "for i in rt: \n",
    "    Repository_tittle.append(i.text.split('/')[0])"
   ]
  },
  {
   "cell_type": "code",
   "execution_count": 8,
   "id": "6ee6d436",
   "metadata": {},
   "outputs": [
    {
     "data": {
      "text/plain": [
       "['XingangPan ',\n",
       " 'THUDM ',\n",
       " 'CASIA-IVA-Lab ',\n",
       " 'ramonvc ',\n",
       " 'embedchain ',\n",
       " 'spacedriveapp ',\n",
       " 'xitanggg ',\n",
       " 'papers-we-love ',\n",
       " 'sadmann7 ',\n",
       " 'microsoft ',\n",
       " 'sb-ocr ',\n",
       " 'THUDM ',\n",
       " 'SizheAn ',\n",
       " 'PlexPt ',\n",
       " 'firstcontributions ',\n",
       " 'actualbudget ',\n",
       " 'xtekky ',\n",
       " 'sveltejs ',\n",
       " 'Zeqiang-Lai ',\n",
       " 'OpenDriveLab ',\n",
       " 'qgis ',\n",
       " 'chat2db ',\n",
       " 'Kanaries ',\n",
       " 'ggerganov ',\n",
       " 'StanGirard ']"
      ]
     },
     "execution_count": 8,
     "metadata": {},
     "output_type": "execute_result"
    }
   ],
   "source": [
    "Repository_tittle"
   ]
  },
  {
   "cell_type": "code",
   "execution_count": 9,
   "id": "04f77283",
   "metadata": {},
   "outputs": [
    {
     "data": {
      "text/plain": [
       "25"
      ]
     },
     "execution_count": 9,
     "metadata": {},
     "output_type": "execute_result"
    }
   ],
   "source": [
    "len(Repository_tittle)"
   ]
  },
  {
   "cell_type": "code",
   "execution_count": 11,
   "id": "7c67a619",
   "metadata": {},
   "outputs": [],
   "source": [
    "Description = []\n",
    "\n",
    "D = driver.find_elements(By.XPATH,'/html/body/div[1]/div[4]/main/div[3]/div/div[2]/article/p')\n",
    "\n",
    "for i in D:\n",
    "    Description.append(i.text)"
   ]
  },
  {
   "cell_type": "code",
   "execution_count": 12,
   "id": "9e409e7c",
   "metadata": {},
   "outputs": [
    {
     "data": {
      "text/plain": [
       "['Official Code for DragGAN (SIGGRAPH 2023)',\n",
       " 'ChatGLM2-6B: An Open Bilingual Chat LLM | 开源双语对话语言模型',\n",
       " 'Fast Segment Anything',\n",
       " 'GPT 3.5/4 with a Chat Web UI. No API key required.',\n",
       " 'Framework to easily create LLM powered bots over any dataset.',\n",
       " 'Spacedrive is an open source cross-platform file explorer, powered by a virtual distributed filesystem written in Rust.',\n",
       " 'OpenResume is a powerful open-source resume builder and resume parser. https://open-resume.com/',\n",
       " 'Papers from the computer science community to read and discuss.',\n",
       " 'An open source e-commerce skateshop build with everything new in Next.js 13.',\n",
       " '24 Lessons, 12 Weeks, Get Started as a Web Developer',\n",
       " 'A DIY navigation device for Fusion360',\n",
       " 'ChatGLM-6B: An Open Bilingual Dialogue Language Model | 开源双语对话语言模型',\n",
       " 'Code Repository for CVPR 2023 Paper \"PanoHead: Geometry-Aware 3D Full-Head Synthesis in 360 degree\"',\n",
       " 'ChatGPT 中文调教指南。各种场景使用指南。学习怎么让它听你的话。',\n",
       " '🚀✨ Help beginners to contribute to open source projects',\n",
       " 'A local-first personal finance system',\n",
       " 'The official gpt4free repository | various collection of powerful language models',\n",
       " 'Cybernetically enhanced web apps',\n",
       " 'Unofficial Implementation of DragGAN - \"Drag Your GAN: Interactive Point-based Manipulation on the Generative Image Manifold\" （DragGAN 全功能实现，在线Demo，本地部署试用，代码、模型已全部开源，支持Windows, macOS, Linux）',\n",
       " '[CVPR 2023 Best Paper] Planning-oriented Autonomous Driving',\n",
       " 'QGIS is a free, open source, cross platform (lin/win/mac) geographical information system (GIS)',\n",
       " '🔥 🔥 🔥 An intelligent and versatile general-purpose SQL client and reporting tool for databases which integrates ChatGPT capabilities.(智能的通用数据库SQL客户端和报表工具)',\n",
       " 'PyGWalker: Turn your pandas dataframe into a Tableau-style User Interface for visual analysis',\n",
       " 'Tensor library for machine learning',\n",
       " '🧠 Dump all your files and thoughts into your private GenerativeAI Second Brain and chat with it 🧠']"
      ]
     },
     "execution_count": 12,
     "metadata": {},
     "output_type": "execute_result"
    }
   ],
   "source": [
    "Description"
   ]
  },
  {
   "cell_type": "code",
   "execution_count": 13,
   "id": "d797c664",
   "metadata": {},
   "outputs": [
    {
     "data": {
      "text/plain": [
       "25"
      ]
     },
     "execution_count": 13,
     "metadata": {},
     "output_type": "execute_result"
    }
   ],
   "source": [
    "len(Description)"
   ]
  },
  {
   "cell_type": "code",
   "execution_count": 15,
   "id": "0f67a2cb",
   "metadata": {},
   "outputs": [],
   "source": [
    "url = []\n",
    "\n",
    "u = driver.find_elements(By.XPATH,'/html/body/div[1]/div[4]/main/div[3]/div/div[2]/article/h2/a')\n",
    "\n",
    "for i in u:\n",
    "    url.append(i.get_attribute('href'))"
   ]
  },
  {
   "cell_type": "code",
   "execution_count": 16,
   "id": "5f06a72b",
   "metadata": {},
   "outputs": [
    {
     "data": {
      "text/plain": [
       "25"
      ]
     },
     "execution_count": 16,
     "metadata": {},
     "output_type": "execute_result"
    }
   ],
   "source": [
    "len(url)"
   ]
  },
  {
   "cell_type": "code",
   "execution_count": 17,
   "id": "d1040247",
   "metadata": {},
   "outputs": [],
   "source": [
    "from selenium.common.exceptions import NoSuchElementException"
   ]
  },
  {
   "cell_type": "code",
   "execution_count": 26,
   "id": "27525df3",
   "metadata": {},
   "outputs": [],
   "source": [
    "contri = []\n",
    "\n",
    "for i in url:\n",
    "    driver.get(i)\n",
    "    time.sleep(3)\n",
    "    try:\n",
    "        co = driver.find_element(By.XPATH,'/html/body/div[1]/div[4]/div/main/turbo-frame/div/div/div/div[2]/div[2]/div/div[5]/div/h2/a/span')\n",
    "        contri.append(co.text)\n",
    "    except NoSuchElementException:\n",
    "        contri.append('-')"
   ]
  },
  {
   "cell_type": "code",
   "execution_count": 27,
   "id": "3ce8e755",
   "metadata": {},
   "outputs": [
    {
     "data": {
      "text/plain": [
       "['-',\n",
       " '-',\n",
       " '10',\n",
       " '-',\n",
       " '5',\n",
       " '-',\n",
       " '-',\n",
       " '247',\n",
       " '-',\n",
       " '205',\n",
       " '-',\n",
       " '44',\n",
       " '-',\n",
       " '19',\n",
       " '-',\n",
       " '52',\n",
       " '82',\n",
       " '-',\n",
       " '-',\n",
       " '-',\n",
       " '-',\n",
       " '7',\n",
       " '-',\n",
       " '-',\n",
       " '26']"
      ]
     },
     "execution_count": 27,
     "metadata": {},
     "output_type": "execute_result"
    }
   ],
   "source": [
    "contri"
   ]
  },
  {
   "cell_type": "code",
   "execution_count": 34,
   "id": "4c119b55",
   "metadata": {},
   "outputs": [],
   "source": [
    "lang = []\n",
    "\n",
    "for i in url:\n",
    "    driver.get(i)\n",
    "    time.sleep(5)\n",
    "    try:\n",
    "        la = driver.find_element(By.XPATH,'/html/body/div[1]/div[4]/div/main/turbo-frame/div/div/div/div[2]/div[2]/div/div[5]/div/ul/li[1]/a/span[1]')\n",
    "        lang.append(la.text)\n",
    "    except NoSuchElementException:\n",
    "        lang.append('-')"
   ]
  },
  {
   "cell_type": "code",
   "execution_count": 35,
   "id": "c882edf0",
   "metadata": {},
   "outputs": [
    {
     "data": {
      "text/plain": [
       "['Python',\n",
       " 'Python',\n",
       " 'Python',\n",
       " '-',\n",
       " '-',\n",
       " 'Rust',\n",
       " 'TypeScript',\n",
       " '-',\n",
       " '-',\n",
       " 'JavaScript',\n",
       " 'C++',\n",
       " '-',\n",
       " '-',\n",
       " '-',\n",
       " '-',\n",
       " '-',\n",
       " '-',\n",
       " '-',\n",
       " '-',\n",
       " '-',\n",
       " '-',\n",
       " 'Java',\n",
       " 'Python',\n",
       " '-',\n",
       " '-']"
      ]
     },
     "execution_count": 35,
     "metadata": {},
     "output_type": "execute_result"
    }
   ],
   "source": [
    "lang"
   ]
  },
  {
   "cell_type": "code",
   "execution_count": 36,
   "id": "cd46baa9",
   "metadata": {},
   "outputs": [],
   "source": [
    "Trending_repositories = pd.DataFrame({'Repository_tittle': Repository_tittle, 'Description': Description, 'contributors' : contri, 'Language used': lang })"
   ]
  },
  {
   "cell_type": "code",
   "execution_count": 37,
   "id": "53a2fddb",
   "metadata": {},
   "outputs": [
    {
     "data": {
      "text/html": [
       "<div>\n",
       "<style scoped>\n",
       "    .dataframe tbody tr th:only-of-type {\n",
       "        vertical-align: middle;\n",
       "    }\n",
       "\n",
       "    .dataframe tbody tr th {\n",
       "        vertical-align: top;\n",
       "    }\n",
       "\n",
       "    .dataframe thead th {\n",
       "        text-align: right;\n",
       "    }\n",
       "</style>\n",
       "<table border=\"1\" class=\"dataframe\">\n",
       "  <thead>\n",
       "    <tr style=\"text-align: right;\">\n",
       "      <th></th>\n",
       "      <th>Repository_tittle</th>\n",
       "      <th>Description</th>\n",
       "      <th>contributors</th>\n",
       "      <th>Language used</th>\n",
       "    </tr>\n",
       "  </thead>\n",
       "  <tbody>\n",
       "    <tr>\n",
       "      <th>0</th>\n",
       "      <td>XingangPan</td>\n",
       "      <td>Official Code for DragGAN (SIGGRAPH 2023)</td>\n",
       "      <td>-</td>\n",
       "      <td>Python</td>\n",
       "    </tr>\n",
       "    <tr>\n",
       "      <th>1</th>\n",
       "      <td>THUDM</td>\n",
       "      <td>ChatGLM2-6B: An Open Bilingual Chat LLM | 开源双语...</td>\n",
       "      <td>-</td>\n",
       "      <td>Python</td>\n",
       "    </tr>\n",
       "    <tr>\n",
       "      <th>2</th>\n",
       "      <td>CASIA-IVA-Lab</td>\n",
       "      <td>Fast Segment Anything</td>\n",
       "      <td>10</td>\n",
       "      <td>Python</td>\n",
       "    </tr>\n",
       "    <tr>\n",
       "      <th>3</th>\n",
       "      <td>ramonvc</td>\n",
       "      <td>GPT 3.5/4 with a Chat Web UI. No API key requi...</td>\n",
       "      <td>-</td>\n",
       "      <td>-</td>\n",
       "    </tr>\n",
       "    <tr>\n",
       "      <th>4</th>\n",
       "      <td>embedchain</td>\n",
       "      <td>Framework to easily create LLM powered bots ov...</td>\n",
       "      <td>5</td>\n",
       "      <td>-</td>\n",
       "    </tr>\n",
       "    <tr>\n",
       "      <th>5</th>\n",
       "      <td>spacedriveapp</td>\n",
       "      <td>Spacedrive is an open source cross-platform fi...</td>\n",
       "      <td>-</td>\n",
       "      <td>Rust</td>\n",
       "    </tr>\n",
       "    <tr>\n",
       "      <th>6</th>\n",
       "      <td>xitanggg</td>\n",
       "      <td>OpenResume is a powerful open-source resume bu...</td>\n",
       "      <td>-</td>\n",
       "      <td>TypeScript</td>\n",
       "    </tr>\n",
       "    <tr>\n",
       "      <th>7</th>\n",
       "      <td>papers-we-love</td>\n",
       "      <td>Papers from the computer science community to ...</td>\n",
       "      <td>247</td>\n",
       "      <td>-</td>\n",
       "    </tr>\n",
       "    <tr>\n",
       "      <th>8</th>\n",
       "      <td>sadmann7</td>\n",
       "      <td>An open source e-commerce skateshop build with...</td>\n",
       "      <td>-</td>\n",
       "      <td>-</td>\n",
       "    </tr>\n",
       "    <tr>\n",
       "      <th>9</th>\n",
       "      <td>microsoft</td>\n",
       "      <td>24 Lessons, 12 Weeks, Get Started as a Web Dev...</td>\n",
       "      <td>205</td>\n",
       "      <td>JavaScript</td>\n",
       "    </tr>\n",
       "    <tr>\n",
       "      <th>10</th>\n",
       "      <td>sb-ocr</td>\n",
       "      <td>A DIY navigation device for Fusion360</td>\n",
       "      <td>-</td>\n",
       "      <td>C++</td>\n",
       "    </tr>\n",
       "    <tr>\n",
       "      <th>11</th>\n",
       "      <td>THUDM</td>\n",
       "      <td>ChatGLM-6B: An Open Bilingual Dialogue Languag...</td>\n",
       "      <td>44</td>\n",
       "      <td>-</td>\n",
       "    </tr>\n",
       "    <tr>\n",
       "      <th>12</th>\n",
       "      <td>SizheAn</td>\n",
       "      <td>Code Repository for CVPR 2023 Paper \"PanoHead:...</td>\n",
       "      <td>-</td>\n",
       "      <td>-</td>\n",
       "    </tr>\n",
       "    <tr>\n",
       "      <th>13</th>\n",
       "      <td>PlexPt</td>\n",
       "      <td>ChatGPT 中文调教指南。各种场景使用指南。学习怎么让它听你的话。</td>\n",
       "      <td>19</td>\n",
       "      <td>-</td>\n",
       "    </tr>\n",
       "    <tr>\n",
       "      <th>14</th>\n",
       "      <td>firstcontributions</td>\n",
       "      <td>🚀✨ Help beginners to contribute to open source...</td>\n",
       "      <td>-</td>\n",
       "      <td>-</td>\n",
       "    </tr>\n",
       "    <tr>\n",
       "      <th>15</th>\n",
       "      <td>actualbudget</td>\n",
       "      <td>A local-first personal finance system</td>\n",
       "      <td>52</td>\n",
       "      <td>-</td>\n",
       "    </tr>\n",
       "    <tr>\n",
       "      <th>16</th>\n",
       "      <td>xtekky</td>\n",
       "      <td>The official gpt4free repository | various col...</td>\n",
       "      <td>82</td>\n",
       "      <td>-</td>\n",
       "    </tr>\n",
       "    <tr>\n",
       "      <th>17</th>\n",
       "      <td>sveltejs</td>\n",
       "      <td>Cybernetically enhanced web apps</td>\n",
       "      <td>-</td>\n",
       "      <td>-</td>\n",
       "    </tr>\n",
       "    <tr>\n",
       "      <th>18</th>\n",
       "      <td>Zeqiang-Lai</td>\n",
       "      <td>Unofficial Implementation of DragGAN - \"Drag Y...</td>\n",
       "      <td>-</td>\n",
       "      <td>-</td>\n",
       "    </tr>\n",
       "    <tr>\n",
       "      <th>19</th>\n",
       "      <td>OpenDriveLab</td>\n",
       "      <td>[CVPR 2023 Best Paper] Planning-oriented Auton...</td>\n",
       "      <td>-</td>\n",
       "      <td>-</td>\n",
       "    </tr>\n",
       "    <tr>\n",
       "      <th>20</th>\n",
       "      <td>qgis</td>\n",
       "      <td>QGIS is a free, open source, cross platform (l...</td>\n",
       "      <td>-</td>\n",
       "      <td>-</td>\n",
       "    </tr>\n",
       "    <tr>\n",
       "      <th>21</th>\n",
       "      <td>chat2db</td>\n",
       "      <td>🔥 🔥 🔥 An intelligent and versatile general-pur...</td>\n",
       "      <td>7</td>\n",
       "      <td>Java</td>\n",
       "    </tr>\n",
       "    <tr>\n",
       "      <th>22</th>\n",
       "      <td>Kanaries</td>\n",
       "      <td>PyGWalker: Turn your pandas dataframe into a T...</td>\n",
       "      <td>-</td>\n",
       "      <td>Python</td>\n",
       "    </tr>\n",
       "    <tr>\n",
       "      <th>23</th>\n",
       "      <td>ggerganov</td>\n",
       "      <td>Tensor library for machine learning</td>\n",
       "      <td>-</td>\n",
       "      <td>-</td>\n",
       "    </tr>\n",
       "    <tr>\n",
       "      <th>24</th>\n",
       "      <td>StanGirard</td>\n",
       "      <td>🧠 Dump all your files and thoughts into your p...</td>\n",
       "      <td>26</td>\n",
       "      <td>-</td>\n",
       "    </tr>\n",
       "  </tbody>\n",
       "</table>\n",
       "</div>"
      ],
      "text/plain": [
       "      Repository_tittle                                        Description  \\\n",
       "0           XingangPan           Official Code for DragGAN (SIGGRAPH 2023)   \n",
       "1                THUDM   ChatGLM2-6B: An Open Bilingual Chat LLM | 开源双语...   \n",
       "2        CASIA-IVA-Lab                               Fast Segment Anything   \n",
       "3              ramonvc   GPT 3.5/4 with a Chat Web UI. No API key requi...   \n",
       "4           embedchain   Framework to easily create LLM powered bots ov...   \n",
       "5        spacedriveapp   Spacedrive is an open source cross-platform fi...   \n",
       "6             xitanggg   OpenResume is a powerful open-source resume bu...   \n",
       "7       papers-we-love   Papers from the computer science community to ...   \n",
       "8             sadmann7   An open source e-commerce skateshop build with...   \n",
       "9            microsoft   24 Lessons, 12 Weeks, Get Started as a Web Dev...   \n",
       "10              sb-ocr               A DIY navigation device for Fusion360   \n",
       "11               THUDM   ChatGLM-6B: An Open Bilingual Dialogue Languag...   \n",
       "12             SizheAn   Code Repository for CVPR 2023 Paper \"PanoHead:...   \n",
       "13              PlexPt                 ChatGPT 中文调教指南。各种场景使用指南。学习怎么让它听你的话。   \n",
       "14  firstcontributions   🚀✨ Help beginners to contribute to open source...   \n",
       "15        actualbudget               A local-first personal finance system   \n",
       "16              xtekky   The official gpt4free repository | various col...   \n",
       "17            sveltejs                    Cybernetically enhanced web apps   \n",
       "18         Zeqiang-Lai   Unofficial Implementation of DragGAN - \"Drag Y...   \n",
       "19        OpenDriveLab   [CVPR 2023 Best Paper] Planning-oriented Auton...   \n",
       "20                qgis   QGIS is a free, open source, cross platform (l...   \n",
       "21             chat2db   🔥 🔥 🔥 An intelligent and versatile general-pur...   \n",
       "22            Kanaries   PyGWalker: Turn your pandas dataframe into a T...   \n",
       "23           ggerganov                 Tensor library for machine learning   \n",
       "24          StanGirard   🧠 Dump all your files and thoughts into your p...   \n",
       "\n",
       "   contributors Language used  \n",
       "0             -        Python  \n",
       "1             -        Python  \n",
       "2            10        Python  \n",
       "3             -             -  \n",
       "4             5             -  \n",
       "5             -          Rust  \n",
       "6             -    TypeScript  \n",
       "7           247             -  \n",
       "8             -             -  \n",
       "9           205    JavaScript  \n",
       "10            -           C++  \n",
       "11           44             -  \n",
       "12            -             -  \n",
       "13           19             -  \n",
       "14            -             -  \n",
       "15           52             -  \n",
       "16           82             -  \n",
       "17            -             -  \n",
       "18            -             -  \n",
       "19            -             -  \n",
       "20            -             -  \n",
       "21            7          Java  \n",
       "22            -        Python  \n",
       "23            -             -  \n",
       "24           26             -  "
      ]
     },
     "execution_count": 37,
     "metadata": {},
     "output_type": "execute_result"
    }
   ],
   "source": [
    "Trending_repositories"
   ]
  },
  {
   "cell_type": "markdown",
   "id": "d646afc4",
   "metadata": {},
   "source": [
    "Q5) Scrape the details of top 100 songs on billiboard.com. \n",
    "Url = https:/www.billboard.com/\n",
    "You have to find the following details:\n",
    "A) Song name\n",
    "B) Artist name\n",
    "C) Last week rank\n",
    "D) Peak rank\n",
    "E) Weeks on board\n",
    "Note: - From the home page you have to click on the charts option then hot 100-page link through code."
   ]
  },
  {
   "cell_type": "code",
   "execution_count": 1,
   "id": "8766102a",
   "metadata": {},
   "outputs": [],
   "source": [
    "from bs4 import BeautifulSoup\n",
    "import selenium\n",
    "from selenium import webdriver\n",
    "import pandas as pd\n",
    "import warnings\n",
    "warnings.filterwarnings('ignore')\n",
    "from selenium.webdriver.common.by import By\n",
    "import time\n",
    "from selenium.common.exceptions import NoSuchElementException"
   ]
  },
  {
   "cell_type": "code",
   "execution_count": 2,
   "id": "a64aec3a",
   "metadata": {},
   "outputs": [],
   "source": [
    "driver = webdriver.Chrome(r'C:\\Users\\Kushal Kulkarni\\Downloads\\chromedriver.exe')"
   ]
  },
  {
   "cell_type": "code",
   "execution_count": 4,
   "id": "9e977180",
   "metadata": {},
   "outputs": [],
   "source": [
    "driver.get('https:/www.billboard.com/')"
   ]
  },
  {
   "cell_type": "code",
   "execution_count": 7,
   "id": "192a1db7",
   "metadata": {},
   "outputs": [],
   "source": [
    "s = driver.find_element(By.XPATH,'/html/body/div[3]/header/div/div[4]/div/div[1]/div[1]/button')\n",
    "s.click()"
   ]
  },
  {
   "cell_type": "code",
   "execution_count": 8,
   "id": "4da5615e",
   "metadata": {},
   "outputs": [],
   "source": [
    "s1 = driver.find_element(By.XPATH,'/html/body/div[3]/div[9]/div/div/div/ul/li[1]/h3/button')\n",
    "s1.click()"
   ]
  },
  {
   "cell_type": "code",
   "execution_count": 9,
   "id": "f79528ac",
   "metadata": {},
   "outputs": [],
   "source": [
    "s2 = driver.find_element(By.XPATH,'/html/body/div[3]/div[9]/div/div/div/ul/li[1]/ul/li[2]')\n",
    "s2.click()"
   ]
  },
  {
   "cell_type": "code",
   "execution_count": 10,
   "id": "9ccc14f9",
   "metadata": {},
   "outputs": [],
   "source": [
    "Song = []\n",
    "\n",
    "s = driver.find_elements(By.XPATH,'/html/body/div[3]/main/div[2]/div[3]/div/div/div/div[2]/div/ul/li[4]/ul/li[1]/h3')\n",
    "\n",
    "for i in s:\n",
    "    Song.append(i.text)"
   ]
  },
  {
   "cell_type": "code",
   "execution_count": 11,
   "id": "6d94ca68",
   "metadata": {},
   "outputs": [
    {
     "data": {
      "text/plain": [
       "100"
      ]
     },
     "execution_count": 11,
     "metadata": {},
     "output_type": "execute_result"
    }
   ],
   "source": [
    "len(Song)"
   ]
  },
  {
   "cell_type": "code",
   "execution_count": 12,
   "id": "561a2e8a",
   "metadata": {},
   "outputs": [],
   "source": [
    "Artist = []\n",
    "\n",
    "a = driver.find_elements(By.XPATH,'/html/body/div[3]/main/div[2]/div[3]/div/div/div/div[2]/div/ul/li[4]/ul/li[1]/span')\n",
    "\n",
    "for i in a:\n",
    "    Artist.append(i.text)"
   ]
  },
  {
   "cell_type": "code",
   "execution_count": 13,
   "id": "b166b6c6",
   "metadata": {},
   "outputs": [
    {
     "data": {
      "text/plain": [
       "100"
      ]
     },
     "execution_count": 13,
     "metadata": {},
     "output_type": "execute_result"
    }
   ],
   "source": [
    "len(Artist)"
   ]
  },
  {
   "cell_type": "code",
   "execution_count": 14,
   "id": "f54a6d47",
   "metadata": {},
   "outputs": [],
   "source": [
    "last_week_rank = []\n",
    "\n",
    "lwr = driver.find_elements(By.XPATH,'/html/body/div[3]/main/div[2]/div[3]/div/div/div/div[2]/div/ul/li[4]/ul/li[4]/span')\n",
    "\n",
    "for i in lwr:\n",
    "    last_week_rank.append(i.text)"
   ]
  },
  {
   "cell_type": "code",
   "execution_count": 15,
   "id": "a0b46dfc",
   "metadata": {},
   "outputs": [
    {
     "data": {
      "text/plain": [
       "100"
      ]
     },
     "execution_count": 15,
     "metadata": {},
     "output_type": "execute_result"
    }
   ],
   "source": [
    "len(last_week_rank)"
   ]
  },
  {
   "cell_type": "code",
   "execution_count": 16,
   "id": "ae3aa533",
   "metadata": {},
   "outputs": [],
   "source": [
    "Peak_rank = []\n",
    "\n",
    "pr = driver.find_elements(By.XPATH,'/html/body/div[3]/main/div[2]/div[3]/div/div/div/div[2]/div/ul/li[4]/ul/li[5]/span')\n",
    "\n",
    "for i in pr:\n",
    "    Peak_rank.append(i.text)"
   ]
  },
  {
   "cell_type": "code",
   "execution_count": 17,
   "id": "67a7daff",
   "metadata": {},
   "outputs": [
    {
     "data": {
      "text/plain": [
       "100"
      ]
     },
     "execution_count": 17,
     "metadata": {},
     "output_type": "execute_result"
    }
   ],
   "source": [
    "len(Peak_rank)"
   ]
  },
  {
   "cell_type": "code",
   "execution_count": 18,
   "id": "4e690e0c",
   "metadata": {},
   "outputs": [],
   "source": [
    "Weeks_on_board = []\n",
    "\n",
    "wob = driver.find_elements(By.XPATH,'/html/body/div[3]/main/div[2]/div[3]/div/div/div/div[2]/div/ul/li[4]/ul/li[6]/span')\n",
    "\n",
    "for i in wob:\n",
    "    Weeks_on_board.append(i.text)"
   ]
  },
  {
   "cell_type": "code",
   "execution_count": 19,
   "id": "cb6aaad0",
   "metadata": {},
   "outputs": [
    {
     "data": {
      "text/plain": [
       "100"
      ]
     },
     "execution_count": 19,
     "metadata": {},
     "output_type": "execute_result"
    }
   ],
   "source": [
    "len(Weeks_on_board)"
   ]
  },
  {
   "cell_type": "code",
   "execution_count": 20,
   "id": "500f628c",
   "metadata": {},
   "outputs": [],
   "source": [
    "Top_100_songs = pd.DataFrame({'Song': Song, 'Artist': Artist, 'last_week_rank': last_week_rank, 'Peak_rank': Peak_rank, 'Weeks_on_board':Weeks_on_board })"
   ]
  },
  {
   "cell_type": "code",
   "execution_count": 21,
   "id": "423d35e5",
   "metadata": {},
   "outputs": [
    {
     "data": {
      "text/html": [
       "<div>\n",
       "<style scoped>\n",
       "    .dataframe tbody tr th:only-of-type {\n",
       "        vertical-align: middle;\n",
       "    }\n",
       "\n",
       "    .dataframe tbody tr th {\n",
       "        vertical-align: top;\n",
       "    }\n",
       "\n",
       "    .dataframe thead th {\n",
       "        text-align: right;\n",
       "    }\n",
       "</style>\n",
       "<table border=\"1\" class=\"dataframe\">\n",
       "  <thead>\n",
       "    <tr style=\"text-align: right;\">\n",
       "      <th></th>\n",
       "      <th>Song</th>\n",
       "      <th>Artist</th>\n",
       "      <th>last_week_rank</th>\n",
       "      <th>Peak_rank</th>\n",
       "      <th>Weeks_on_board</th>\n",
       "    </tr>\n",
       "  </thead>\n",
       "  <tbody>\n",
       "    <tr>\n",
       "      <th>0</th>\n",
       "      <td>Last Night</td>\n",
       "      <td>Morgan Wallen</td>\n",
       "      <td>1</td>\n",
       "      <td>1</td>\n",
       "      <td>21</td>\n",
       "    </tr>\n",
       "    <tr>\n",
       "      <th>1</th>\n",
       "      <td>Fast Car</td>\n",
       "      <td>Luke Combs</td>\n",
       "      <td>3</td>\n",
       "      <td>2</td>\n",
       "      <td>13</td>\n",
       "    </tr>\n",
       "    <tr>\n",
       "      <th>2</th>\n",
       "      <td>Calm Down</td>\n",
       "      <td>Rema &amp; Selena Gomez</td>\n",
       "      <td>4</td>\n",
       "      <td>3</td>\n",
       "      <td>42</td>\n",
       "    </tr>\n",
       "    <tr>\n",
       "      <th>3</th>\n",
       "      <td>Flowers</td>\n",
       "      <td>Miley Cyrus</td>\n",
       "      <td>2</td>\n",
       "      <td>1</td>\n",
       "      <td>23</td>\n",
       "    </tr>\n",
       "    <tr>\n",
       "      <th>4</th>\n",
       "      <td>All My Life</td>\n",
       "      <td>Lil Durk Featuring J. Cole</td>\n",
       "      <td>5</td>\n",
       "      <td>2</td>\n",
       "      <td>6</td>\n",
       "    </tr>\n",
       "    <tr>\n",
       "      <th>...</th>\n",
       "      <td>...</td>\n",
       "      <td>...</td>\n",
       "      <td>...</td>\n",
       "      <td>...</td>\n",
       "      <td>...</td>\n",
       "    </tr>\n",
       "    <tr>\n",
       "      <th>95</th>\n",
       "      <td>Angel, Pt. 1</td>\n",
       "      <td>Kodak Black, NLE Choppa, Jimin, JVKE &amp; Muni Long</td>\n",
       "      <td>-</td>\n",
       "      <td>65</td>\n",
       "      <td>2</td>\n",
       "    </tr>\n",
       "    <tr>\n",
       "      <th>96</th>\n",
       "      <td>Girl In Mine</td>\n",
       "      <td>Parmalee</td>\n",
       "      <td>-</td>\n",
       "      <td>97</td>\n",
       "      <td>1</td>\n",
       "    </tr>\n",
       "    <tr>\n",
       "      <th>97</th>\n",
       "      <td>Moonlight</td>\n",
       "      <td>Kali Uchis</td>\n",
       "      <td>90</td>\n",
       "      <td>80</td>\n",
       "      <td>11</td>\n",
       "    </tr>\n",
       "    <tr>\n",
       "      <th>98</th>\n",
       "      <td>Classy 101</td>\n",
       "      <td>Feid x Young Miko</td>\n",
       "      <td>-</td>\n",
       "      <td>99</td>\n",
       "      <td>1</td>\n",
       "    </tr>\n",
       "    <tr>\n",
       "      <th>99</th>\n",
       "      <td>Bluffin</td>\n",
       "      <td>Gucci Mane &amp; Lil Baby</td>\n",
       "      <td>-</td>\n",
       "      <td>100</td>\n",
       "      <td>1</td>\n",
       "    </tr>\n",
       "  </tbody>\n",
       "</table>\n",
       "<p>100 rows × 5 columns</p>\n",
       "</div>"
      ],
      "text/plain": [
       "            Song                                            Artist  \\\n",
       "0     Last Night                                     Morgan Wallen   \n",
       "1       Fast Car                                        Luke Combs   \n",
       "2      Calm Down                               Rema & Selena Gomez   \n",
       "3        Flowers                                       Miley Cyrus   \n",
       "4    All My Life                        Lil Durk Featuring J. Cole   \n",
       "..           ...                                               ...   \n",
       "95  Angel, Pt. 1  Kodak Black, NLE Choppa, Jimin, JVKE & Muni Long   \n",
       "96  Girl In Mine                                          Parmalee   \n",
       "97     Moonlight                                        Kali Uchis   \n",
       "98    Classy 101                                 Feid x Young Miko   \n",
       "99       Bluffin                             Gucci Mane & Lil Baby   \n",
       "\n",
       "   last_week_rank Peak_rank Weeks_on_board  \n",
       "0               1         1             21  \n",
       "1               3         2             13  \n",
       "2               4         3             42  \n",
       "3               2         1             23  \n",
       "4               5         2              6  \n",
       "..            ...       ...            ...  \n",
       "95              -        65              2  \n",
       "96              -        97              1  \n",
       "97             90        80             11  \n",
       "98              -        99              1  \n",
       "99              -       100              1  \n",
       "\n",
       "[100 rows x 5 columns]"
      ]
     },
     "execution_count": 21,
     "metadata": {},
     "output_type": "execute_result"
    }
   ],
   "source": [
    "Top_100_songs"
   ]
  },
  {
   "cell_type": "markdown",
   "id": "51dfc1c3",
   "metadata": {},
   "source": [
    "Q6) Scrape the details of Highest sellingnovels.\n",
    "Url = https://www.theguardian.com/news/datablog/2012/aug/09/best-selling-books-all-time-fifty-shades-grey\u0002compare\n",
    "You have to find the following details:\n",
    "A) Book name\n",
    "B) Author name\n",
    "C) Volumes sold\n",
    "D) Publisher\n",
    "E) Genre"
   ]
  },
  {
   "cell_type": "code",
   "execution_count": 2,
   "id": "8c015fd5",
   "metadata": {},
   "outputs": [],
   "source": [
    "driver = webdriver.Chrome(r'C:\\Users\\Kushal Kulkarni\\Downloads\\chromedriver.exe')"
   ]
  },
  {
   "cell_type": "code",
   "execution_count": 6,
   "id": "ae2eeb01",
   "metadata": {},
   "outputs": [],
   "source": [
    "driver.get('https://www.theguardian.com/news/datablog/2012/aug/09/best-selling-books-all-time-fifty-shades-grey-compare')"
   ]
  },
  {
   "cell_type": "code",
   "execution_count": 7,
   "id": "b3032381",
   "metadata": {},
   "outputs": [],
   "source": [
    "Book_name = []\n",
    "\n",
    "b = driver.find_elements(By.XPATH,'/html/body/div/div[2]/div[2]/div/div[2]/div/table/tbody/tr/td[2]')\n",
    "\n",
    "for i in b:\n",
    "    Book_name.append(i.text)"
   ]
  },
  {
   "cell_type": "code",
   "execution_count": 8,
   "id": "f979dfa5",
   "metadata": {},
   "outputs": [
    {
     "data": {
      "text/plain": [
       "['Da Vinci Code,The',\n",
       " 'Harry Potter and the Deathly Hallows',\n",
       " \"Harry Potter and the Philosopher's Stone\",\n",
       " 'Harry Potter and the Order of the Phoenix',\n",
       " 'Fifty Shades of Grey',\n",
       " 'Harry Potter and the Goblet of Fire',\n",
       " 'Harry Potter and the Chamber of Secrets',\n",
       " 'Harry Potter and the Prisoner of Azkaban',\n",
       " 'Angels and Demons',\n",
       " \"Harry Potter and the Half-blood Prince:Children's Edition\",\n",
       " 'Fifty Shades Darker',\n",
       " 'Twilight',\n",
       " 'Girl with the Dragon Tattoo,The:Millennium Trilogy',\n",
       " 'Fifty Shades Freed',\n",
       " 'Lost Symbol,The',\n",
       " 'New Moon',\n",
       " 'Deception Point',\n",
       " 'Eclipse',\n",
       " 'Lovely Bones,The',\n",
       " 'Curious Incident of the Dog in the Night-time,The',\n",
       " 'Digital Fortress',\n",
       " 'Short History of Nearly Everything,A',\n",
       " 'Girl Who Played with Fire,The:Millennium Trilogy',\n",
       " 'Breaking Dawn',\n",
       " 'Very Hungry Caterpillar,The:The Very Hungry Caterpillar',\n",
       " 'Gruffalo,The',\n",
       " \"Jamie's 30-Minute Meals\",\n",
       " 'Kite Runner,The',\n",
       " 'One Day',\n",
       " 'Thousand Splendid Suns,A',\n",
       " \"Girl Who Kicked the Hornets' Nest,The:Millennium Trilogy\",\n",
       " \"Time Traveler's Wife,The\",\n",
       " 'Atonement',\n",
       " \"Bridget Jones's Diary:A Novel\",\n",
       " 'World According to Clarkson,The',\n",
       " \"Captain Corelli's Mandolin\",\n",
       " 'Sound of Laughter,The',\n",
       " 'Life of Pi',\n",
       " 'Billy Connolly',\n",
       " 'Child Called It,A',\n",
       " \"Gruffalo's Child,The\",\n",
       " \"Angela's Ashes:A Memoir of a Childhood\",\n",
       " 'Birdsong',\n",
       " 'Northern Lights:His Dark Materials S.',\n",
       " 'Labyrinth',\n",
       " 'Harry Potter and the Half-blood Prince',\n",
       " 'Help,The',\n",
       " 'Man and Boy',\n",
       " 'Memoirs of a Geisha',\n",
       " \"No.1 Ladies' Detective Agency,The:No.1 Ladies' Detective Agency S.\",\n",
       " 'Island,The',\n",
       " 'PS, I Love You',\n",
       " 'You are What You Eat:The Plan That Will Change Your Life',\n",
       " 'Shadow of the Wind,The',\n",
       " 'Tales of Beedle the Bard,The',\n",
       " 'Broker,The',\n",
       " \"Dr. Atkins' New Diet Revolution:The No-hunger, Luxurious Weight Loss P\",\n",
       " 'Subtle Knife,The:His Dark Materials S.',\n",
       " 'Eats, Shoots and Leaves:The Zero Tolerance Approach to Punctuation',\n",
       " \"Delia's How to Cook:(Bk.1)\",\n",
       " 'Chocolat',\n",
       " 'Boy in the Striped Pyjamas,The',\n",
       " \"My Sister's Keeper\",\n",
       " 'Amber Spyglass,The:His Dark Materials S.',\n",
       " 'To Kill a Mockingbird',\n",
       " 'Men are from Mars, Women are from Venus:A Practical Guide for Improvin',\n",
       " 'Dear Fatty',\n",
       " 'Short History of Tractors in Ukrainian,A',\n",
       " 'Hannibal',\n",
       " 'Lord of the Rings,The',\n",
       " 'Stupid White Men:...and Other Sorry Excuses for the State of the Natio',\n",
       " 'Interpretation of Murder,The',\n",
       " 'Sharon Osbourne Extreme:My Autobiography',\n",
       " 'Alchemist,The:A Fable About Following Your Dream',\n",
       " \"At My Mother's Knee ...:and Other Low Joints\",\n",
       " 'Notes from a Small Island',\n",
       " 'Return of the Naked Chef,The',\n",
       " 'Bridget Jones: The Edge of Reason',\n",
       " \"Jamie's Italy\",\n",
       " 'I Can Make You Thin',\n",
       " 'Down Under',\n",
       " 'Summons,The',\n",
       " 'Small Island',\n",
       " 'Nigella Express',\n",
       " 'Brick Lane',\n",
       " \"Memory Keeper's Daughter,The\",\n",
       " 'Room on the Broom',\n",
       " 'About a Boy',\n",
       " 'My Booky Wook',\n",
       " 'God Delusion,The',\n",
       " '\"Beano\" Annual,The',\n",
       " 'White Teeth',\n",
       " 'House at Riverton,The',\n",
       " 'Book Thief,The',\n",
       " 'Nights of Rain and Stars',\n",
       " 'Ghost,The',\n",
       " 'Happy Days with the Naked Chef',\n",
       " 'Hunger Games,The:Hunger Games Trilogy',\n",
       " \"Lost Boy,The:A Foster Child's Search for the Love of a Family\",\n",
       " \"Jamie's Ministry of Food:Anyone Can Learn to Cook in 24 Hours\"]"
      ]
     },
     "execution_count": 8,
     "metadata": {},
     "output_type": "execute_result"
    }
   ],
   "source": [
    "Book_name"
   ]
  },
  {
   "cell_type": "code",
   "execution_count": 9,
   "id": "ab8ab21e",
   "metadata": {},
   "outputs": [],
   "source": [
    "Author_name = []\n",
    "\n",
    "a = driver.find_elements(By.XPATH,'/html/body/div/div[2]/div[2]/div/div[2]/div/table/tbody/tr/td[3]')\n",
    "\n",
    "for i in a:\n",
    "    Author_name.append(i.text)"
   ]
  },
  {
   "cell_type": "code",
   "execution_count": 10,
   "id": "c8f87848",
   "metadata": {},
   "outputs": [
    {
     "data": {
      "text/plain": [
       "100"
      ]
     },
     "execution_count": 10,
     "metadata": {},
     "output_type": "execute_result"
    }
   ],
   "source": [
    "len(Author_name)"
   ]
  },
  {
   "cell_type": "code",
   "execution_count": 11,
   "id": "581c6cde",
   "metadata": {},
   "outputs": [
    {
     "data": {
      "text/plain": [
       "100"
      ]
     },
     "execution_count": 11,
     "metadata": {},
     "output_type": "execute_result"
    }
   ],
   "source": [
    "len(Book_name)"
   ]
  },
  {
   "cell_type": "code",
   "execution_count": 12,
   "id": "25847c22",
   "metadata": {},
   "outputs": [],
   "source": [
    "Volumes_sold = []\n",
    "\n",
    "v = driver.find_elements(By.XPATH,'/html/body/div/div[2]/div[2]/div/div[2]/div/table/tbody/tr/td[4]')\n",
    "\n",
    "for i in v:\n",
    "    Volumes_sold.append(i.text)"
   ]
  },
  {
   "cell_type": "code",
   "execution_count": 13,
   "id": "6c612599",
   "metadata": {},
   "outputs": [
    {
     "data": {
      "text/plain": [
       "100"
      ]
     },
     "execution_count": 13,
     "metadata": {},
     "output_type": "execute_result"
    }
   ],
   "source": [
    "len(Volumes_sold)"
   ]
  },
  {
   "cell_type": "code",
   "execution_count": 14,
   "id": "3374918d",
   "metadata": {},
   "outputs": [],
   "source": [
    "Publisher = []\n",
    "\n",
    "p = driver.find_elements(By.XPATH,'/html/body/div/div[2]/div[2]/div/div[2]/div/table/tbody/tr/td[5]')\n",
    "\n",
    "for i in p:\n",
    "    Publisher.append(i.text)"
   ]
  },
  {
   "cell_type": "code",
   "execution_count": 15,
   "id": "adb8380e",
   "metadata": {},
   "outputs": [
    {
     "data": {
      "text/plain": [
       "100"
      ]
     },
     "execution_count": 15,
     "metadata": {},
     "output_type": "execute_result"
    }
   ],
   "source": [
    "len(Publisher)"
   ]
  },
  {
   "cell_type": "code",
   "execution_count": 16,
   "id": "4cbaba06",
   "metadata": {},
   "outputs": [],
   "source": [
    "Genre = []\n",
    "\n",
    "g = driver.find_elements(By.XPATH,'/html/body/div/div[2]/div[2]/div/div[2]/div/table/tbody/tr/td[6]')\n",
    "\n",
    "for i in g:\n",
    "    Genre.append(i.text)"
   ]
  },
  {
   "cell_type": "code",
   "execution_count": 17,
   "id": "56660ba6",
   "metadata": {},
   "outputs": [
    {
     "data": {
      "text/plain": [
       "100"
      ]
     },
     "execution_count": 17,
     "metadata": {},
     "output_type": "execute_result"
    }
   ],
   "source": [
    "len(Genre)"
   ]
  },
  {
   "cell_type": "code",
   "execution_count": 18,
   "id": "bff33c70",
   "metadata": {},
   "outputs": [],
   "source": [
    "Highest_selling_novels = pd.DataFrame({'Book_name':Book_name, 'Author_name': Author_name, 'Volumes_sold' : Volumes_sold, 'Publisher' : Publisher, 'Genre' : Genre })"
   ]
  },
  {
   "cell_type": "code",
   "execution_count": 19,
   "id": "63be40ff",
   "metadata": {},
   "outputs": [
    {
     "data": {
      "text/html": [
       "<div>\n",
       "<style scoped>\n",
       "    .dataframe tbody tr th:only-of-type {\n",
       "        vertical-align: middle;\n",
       "    }\n",
       "\n",
       "    .dataframe tbody tr th {\n",
       "        vertical-align: top;\n",
       "    }\n",
       "\n",
       "    .dataframe thead th {\n",
       "        text-align: right;\n",
       "    }\n",
       "</style>\n",
       "<table border=\"1\" class=\"dataframe\">\n",
       "  <thead>\n",
       "    <tr style=\"text-align: right;\">\n",
       "      <th></th>\n",
       "      <th>Book_name</th>\n",
       "      <th>Author_name</th>\n",
       "      <th>Volumes_sold</th>\n",
       "      <th>Publisher</th>\n",
       "      <th>Genre</th>\n",
       "    </tr>\n",
       "  </thead>\n",
       "  <tbody>\n",
       "    <tr>\n",
       "      <th>0</th>\n",
       "      <td>Da Vinci Code,The</td>\n",
       "      <td>Brown, Dan</td>\n",
       "      <td>5,094,805</td>\n",
       "      <td>Transworld</td>\n",
       "      <td>Crime, Thriller &amp; Adventure</td>\n",
       "    </tr>\n",
       "    <tr>\n",
       "      <th>1</th>\n",
       "      <td>Harry Potter and the Deathly Hallows</td>\n",
       "      <td>Rowling, J.K.</td>\n",
       "      <td>4,475,152</td>\n",
       "      <td>Bloomsbury</td>\n",
       "      <td>Children's Fiction</td>\n",
       "    </tr>\n",
       "    <tr>\n",
       "      <th>2</th>\n",
       "      <td>Harry Potter and the Philosopher's Stone</td>\n",
       "      <td>Rowling, J.K.</td>\n",
       "      <td>4,200,654</td>\n",
       "      <td>Bloomsbury</td>\n",
       "      <td>Children's Fiction</td>\n",
       "    </tr>\n",
       "    <tr>\n",
       "      <th>3</th>\n",
       "      <td>Harry Potter and the Order of the Phoenix</td>\n",
       "      <td>Rowling, J.K.</td>\n",
       "      <td>4,179,479</td>\n",
       "      <td>Bloomsbury</td>\n",
       "      <td>Children's Fiction</td>\n",
       "    </tr>\n",
       "    <tr>\n",
       "      <th>4</th>\n",
       "      <td>Fifty Shades of Grey</td>\n",
       "      <td>James, E. L.</td>\n",
       "      <td>3,758,936</td>\n",
       "      <td>Random House</td>\n",
       "      <td>Romance &amp; Sagas</td>\n",
       "    </tr>\n",
       "    <tr>\n",
       "      <th>...</th>\n",
       "      <td>...</td>\n",
       "      <td>...</td>\n",
       "      <td>...</td>\n",
       "      <td>...</td>\n",
       "      <td>...</td>\n",
       "    </tr>\n",
       "    <tr>\n",
       "      <th>95</th>\n",
       "      <td>Ghost,The</td>\n",
       "      <td>Harris, Robert</td>\n",
       "      <td>807,311</td>\n",
       "      <td>Random House</td>\n",
       "      <td>General &amp; Literary Fiction</td>\n",
       "    </tr>\n",
       "    <tr>\n",
       "      <th>96</th>\n",
       "      <td>Happy Days with the Naked Chef</td>\n",
       "      <td>Oliver, Jamie</td>\n",
       "      <td>794,201</td>\n",
       "      <td>Penguin</td>\n",
       "      <td>Food &amp; Drink: General</td>\n",
       "    </tr>\n",
       "    <tr>\n",
       "      <th>97</th>\n",
       "      <td>Hunger Games,The:Hunger Games Trilogy</td>\n",
       "      <td>Collins, Suzanne</td>\n",
       "      <td>792,187</td>\n",
       "      <td>Scholastic Ltd.</td>\n",
       "      <td>Young Adult Fiction</td>\n",
       "    </tr>\n",
       "    <tr>\n",
       "      <th>98</th>\n",
       "      <td>Lost Boy,The:A Foster Child's Search for the L...</td>\n",
       "      <td>Pelzer, Dave</td>\n",
       "      <td>791,507</td>\n",
       "      <td>Orion</td>\n",
       "      <td>Biography: General</td>\n",
       "    </tr>\n",
       "    <tr>\n",
       "      <th>99</th>\n",
       "      <td>Jamie's Ministry of Food:Anyone Can Learn to C...</td>\n",
       "      <td>Oliver, Jamie</td>\n",
       "      <td>791,095</td>\n",
       "      <td>Penguin</td>\n",
       "      <td>Food &amp; Drink: General</td>\n",
       "    </tr>\n",
       "  </tbody>\n",
       "</table>\n",
       "<p>100 rows × 5 columns</p>\n",
       "</div>"
      ],
      "text/plain": [
       "                                            Book_name       Author_name  \\\n",
       "0                                   Da Vinci Code,The        Brown, Dan   \n",
       "1                Harry Potter and the Deathly Hallows     Rowling, J.K.   \n",
       "2            Harry Potter and the Philosopher's Stone     Rowling, J.K.   \n",
       "3           Harry Potter and the Order of the Phoenix     Rowling, J.K.   \n",
       "4                                Fifty Shades of Grey      James, E. L.   \n",
       "..                                                ...               ...   \n",
       "95                                          Ghost,The    Harris, Robert   \n",
       "96                     Happy Days with the Naked Chef     Oliver, Jamie   \n",
       "97              Hunger Games,The:Hunger Games Trilogy  Collins, Suzanne   \n",
       "98  Lost Boy,The:A Foster Child's Search for the L...      Pelzer, Dave   \n",
       "99  Jamie's Ministry of Food:Anyone Can Learn to C...     Oliver, Jamie   \n",
       "\n",
       "   Volumes_sold        Publisher                        Genre  \n",
       "0     5,094,805       Transworld  Crime, Thriller & Adventure  \n",
       "1     4,475,152       Bloomsbury           Children's Fiction  \n",
       "2     4,200,654       Bloomsbury           Children's Fiction  \n",
       "3     4,179,479       Bloomsbury           Children's Fiction  \n",
       "4     3,758,936     Random House              Romance & Sagas  \n",
       "..          ...              ...                          ...  \n",
       "95      807,311     Random House   General & Literary Fiction  \n",
       "96      794,201          Penguin        Food & Drink: General  \n",
       "97      792,187  Scholastic Ltd.          Young Adult Fiction  \n",
       "98      791,507            Orion           Biography: General  \n",
       "99      791,095          Penguin        Food & Drink: General  \n",
       "\n",
       "[100 rows x 5 columns]"
      ]
     },
     "execution_count": 19,
     "metadata": {},
     "output_type": "execute_result"
    }
   ],
   "source": [
    "Highest_selling_novels"
   ]
  },
  {
   "cell_type": "markdown",
   "id": "f7eae053",
   "metadata": {},
   "source": [
    "Q7)  Scrape the details most watched tv series of all time from imdb.com. \n",
    "Url = https://www.imdb.com/list/ls095964455/\n",
    "You have to find the following details:\n",
    "A) Name\n",
    "B) Year span\n",
    "C) Genre\n",
    "D) Run time\n",
    "E) Ratings\n",
    "F) Votes"
   ]
  },
  {
   "cell_type": "code",
   "execution_count": 20,
   "id": "db78797f",
   "metadata": {},
   "outputs": [],
   "source": [
    "driver.get('https://www.imdb.com/list/ls095964455/')"
   ]
  },
  {
   "cell_type": "code",
   "execution_count": 21,
   "id": "4aa1b283",
   "metadata": {},
   "outputs": [],
   "source": [
    "Name  = []\n",
    "\n",
    "N = driver.find_elements(By.XPATH,'/html/body/div[2]/div/div[2]/div[3]/div[1]/div/div[3]/div[3]/div/div[2]/h3/a')\n",
    "\n",
    "for i in N:\n",
    "    Name.append(i.text)"
   ]
  },
  {
   "cell_type": "code",
   "execution_count": 22,
   "id": "2410d316",
   "metadata": {},
   "outputs": [
    {
     "data": {
      "text/plain": [
       "100"
      ]
     },
     "execution_count": 22,
     "metadata": {},
     "output_type": "execute_result"
    }
   ],
   "source": [
    "len(Name)"
   ]
  },
  {
   "cell_type": "code",
   "execution_count": 23,
   "id": "3d0e6064",
   "metadata": {},
   "outputs": [],
   "source": [
    "Year_span = []\n",
    "\n",
    "y = driver.find_elements(By.XPATH,'/html/body/div[2]/div/div[2]/div[3]/div[1]/div/div[3]/div[3]/div/div[2]/h3/span[2]')\n",
    "\n",
    "for i in y:\n",
    "    Year_span.append(i.text)"
   ]
  },
  {
   "cell_type": "code",
   "execution_count": 24,
   "id": "33490785",
   "metadata": {},
   "outputs": [
    {
     "data": {
      "text/plain": [
       "100"
      ]
     },
     "execution_count": 24,
     "metadata": {},
     "output_type": "execute_result"
    }
   ],
   "source": [
    "len(Year_span)"
   ]
  },
  {
   "cell_type": "code",
   "execution_count": 25,
   "id": "bf835f60",
   "metadata": {},
   "outputs": [],
   "source": [
    "Genre1 = []\n",
    "\n",
    "ge = driver.find_elements(By.XPATH,'/html/body/div[2]/div/div[2]/div[3]/div[1]/div/div[3]/div[3]/div/div[2]/p[1]/span[5]')\n",
    "\n",
    "for i in ge:\n",
    "    Genre1.append(i.text)"
   ]
  },
  {
   "cell_type": "code",
   "execution_count": 26,
   "id": "ca3219ca",
   "metadata": {},
   "outputs": [
    {
     "data": {
      "text/plain": [
       "100"
      ]
     },
     "execution_count": 26,
     "metadata": {},
     "output_type": "execute_result"
    }
   ],
   "source": [
    "len(Genre1)"
   ]
  },
  {
   "cell_type": "code",
   "execution_count": 27,
   "id": "2ad35f75",
   "metadata": {},
   "outputs": [],
   "source": [
    "Run_time = []\n",
    "\n",
    "rt = driver.find_elements(By.XPATH,'/html/body/div[2]/div/div[2]/div[3]/div[1]/div/div[3]/div[3]/div/div[2]/p[1]/span[3]')\n",
    "\n",
    "for i in rt:\n",
    "    Run_time.append(i.text)"
   ]
  },
  {
   "cell_type": "code",
   "execution_count": 28,
   "id": "49c7c619",
   "metadata": {},
   "outputs": [
    {
     "data": {
      "text/plain": [
       "100"
      ]
     },
     "execution_count": 28,
     "metadata": {},
     "output_type": "execute_result"
    }
   ],
   "source": [
    "len(Run_time)"
   ]
  },
  {
   "cell_type": "code",
   "execution_count": 29,
   "id": "cb5b0381",
   "metadata": {},
   "outputs": [],
   "source": [
    "Ratings = []\n",
    "\n",
    "Ra = driver.find_elements(By.XPATH,'/html/body/div[2]/div/div[2]/div[3]/div[1]/div/div[3]/div[3]/div/div[2]/div[1]/div[1]/span[2]')\n",
    "\n",
    "for i in Ra:\n",
    "    Ratings.append(i.text)"
   ]
  },
  {
   "cell_type": "code",
   "execution_count": 30,
   "id": "47ef3c02",
   "metadata": {},
   "outputs": [
    {
     "data": {
      "text/plain": [
       "100"
      ]
     },
     "execution_count": 30,
     "metadata": {},
     "output_type": "execute_result"
    }
   ],
   "source": [
    "len(Ratings)"
   ]
  },
  {
   "cell_type": "code",
   "execution_count": 32,
   "id": "c24963fe",
   "metadata": {},
   "outputs": [],
   "source": [
    "Votes = []\n",
    "\n",
    "vo = driver.find_elements(By.XPATH,'/html/body/div[2]/div/div[2]/div[3]/div[1]/div/div[3]/div[3]/div/div[2]/p[4]/span[2]')\n",
    "\n",
    "for i in vo:\n",
    "    Votes.append(i.text)"
   ]
  },
  {
   "cell_type": "code",
   "execution_count": 33,
   "id": "7f01dcb3",
   "metadata": {},
   "outputs": [
    {
     "data": {
      "text/plain": [
       "100"
      ]
     },
     "execution_count": 33,
     "metadata": {},
     "output_type": "execute_result"
    }
   ],
   "source": [
    "len(Votes)"
   ]
  },
  {
   "cell_type": "code",
   "execution_count": 34,
   "id": "cfd78f28",
   "metadata": {},
   "outputs": [],
   "source": [
    "Most_Watched_TV_Series = pd.DataFrame({'Name':Name, 'Year_span':Year_span, 'Genre1': Genre1, 'Run_time': Run_time,'Ratings': Ratings, 'Votes': Votes})"
   ]
  },
  {
   "cell_type": "code",
   "execution_count": 35,
   "id": "d3ac10b0",
   "metadata": {},
   "outputs": [
    {
     "data": {
      "text/html": [
       "<div>\n",
       "<style scoped>\n",
       "    .dataframe tbody tr th:only-of-type {\n",
       "        vertical-align: middle;\n",
       "    }\n",
       "\n",
       "    .dataframe tbody tr th {\n",
       "        vertical-align: top;\n",
       "    }\n",
       "\n",
       "    .dataframe thead th {\n",
       "        text-align: right;\n",
       "    }\n",
       "</style>\n",
       "<table border=\"1\" class=\"dataframe\">\n",
       "  <thead>\n",
       "    <tr style=\"text-align: right;\">\n",
       "      <th></th>\n",
       "      <th>Name</th>\n",
       "      <th>Year_span</th>\n",
       "      <th>Genre1</th>\n",
       "      <th>Run_time</th>\n",
       "      <th>Ratings</th>\n",
       "      <th>Votes</th>\n",
       "    </tr>\n",
       "  </thead>\n",
       "  <tbody>\n",
       "    <tr>\n",
       "      <th>0</th>\n",
       "      <td>Game of Thrones</td>\n",
       "      <td>(2011–2019)</td>\n",
       "      <td>Action, Adventure, Drama</td>\n",
       "      <td>57 min</td>\n",
       "      <td>9.2</td>\n",
       "      <td>2,173,886</td>\n",
       "    </tr>\n",
       "    <tr>\n",
       "      <th>1</th>\n",
       "      <td>Stranger Things</td>\n",
       "      <td>(2016–2024)</td>\n",
       "      <td>Drama, Fantasy, Horror</td>\n",
       "      <td>51 min</td>\n",
       "      <td>8.7</td>\n",
       "      <td>1,251,712</td>\n",
       "    </tr>\n",
       "    <tr>\n",
       "      <th>2</th>\n",
       "      <td>The Walking Dead</td>\n",
       "      <td>(2010–2022)</td>\n",
       "      <td>Drama, Horror, Thriller</td>\n",
       "      <td>44 min</td>\n",
       "      <td>8.1</td>\n",
       "      <td>1,032,578</td>\n",
       "    </tr>\n",
       "    <tr>\n",
       "      <th>3</th>\n",
       "      <td>13 Reasons Why</td>\n",
       "      <td>(2017–2020)</td>\n",
       "      <td>Drama, Mystery, Thriller</td>\n",
       "      <td>60 min</td>\n",
       "      <td>7.5</td>\n",
       "      <td>303,582</td>\n",
       "    </tr>\n",
       "    <tr>\n",
       "      <th>4</th>\n",
       "      <td>The 100</td>\n",
       "      <td>(2014–2020)</td>\n",
       "      <td>Drama, Mystery, Sci-Fi</td>\n",
       "      <td>43 min</td>\n",
       "      <td>7.6</td>\n",
       "      <td>262,752</td>\n",
       "    </tr>\n",
       "    <tr>\n",
       "      <th>...</th>\n",
       "      <td>...</td>\n",
       "      <td>...</td>\n",
       "      <td>...</td>\n",
       "      <td>...</td>\n",
       "      <td>...</td>\n",
       "      <td>...</td>\n",
       "    </tr>\n",
       "    <tr>\n",
       "      <th>95</th>\n",
       "      <td>Reign</td>\n",
       "      <td>(2013–2017)</td>\n",
       "      <td>Drama</td>\n",
       "      <td>42 min</td>\n",
       "      <td>7.4</td>\n",
       "      <td>51,965</td>\n",
       "    </tr>\n",
       "    <tr>\n",
       "      <th>96</th>\n",
       "      <td>A Series of Unfortunate Events</td>\n",
       "      <td>(2017–2019)</td>\n",
       "      <td>Adventure, Comedy, Drama</td>\n",
       "      <td>50 min</td>\n",
       "      <td>7.8</td>\n",
       "      <td>63,997</td>\n",
       "    </tr>\n",
       "    <tr>\n",
       "      <th>97</th>\n",
       "      <td>Criminal Minds</td>\n",
       "      <td>(2005– )</td>\n",
       "      <td>Crime, Drama, Mystery</td>\n",
       "      <td>42 min</td>\n",
       "      <td>8.1</td>\n",
       "      <td>208,555</td>\n",
       "    </tr>\n",
       "    <tr>\n",
       "      <th>98</th>\n",
       "      <td>Scream: The TV Series</td>\n",
       "      <td>(2015–2019)</td>\n",
       "      <td>Comedy, Crime, Drama</td>\n",
       "      <td>45 min</td>\n",
       "      <td>7.1</td>\n",
       "      <td>43,403</td>\n",
       "    </tr>\n",
       "    <tr>\n",
       "      <th>99</th>\n",
       "      <td>The Haunting of Hill House</td>\n",
       "      <td>(2018)</td>\n",
       "      <td>Drama, Horror, Mystery</td>\n",
       "      <td>572 min</td>\n",
       "      <td>8.6</td>\n",
       "      <td>260,236</td>\n",
       "    </tr>\n",
       "  </tbody>\n",
       "</table>\n",
       "<p>100 rows × 6 columns</p>\n",
       "</div>"
      ],
      "text/plain": [
       "                              Name    Year_span                    Genre1  \\\n",
       "0                  Game of Thrones  (2011–2019)  Action, Adventure, Drama   \n",
       "1                  Stranger Things  (2016–2024)    Drama, Fantasy, Horror   \n",
       "2                 The Walking Dead  (2010–2022)   Drama, Horror, Thriller   \n",
       "3                   13 Reasons Why  (2017–2020)  Drama, Mystery, Thriller   \n",
       "4                          The 100  (2014–2020)    Drama, Mystery, Sci-Fi   \n",
       "..                             ...          ...                       ...   \n",
       "95                           Reign  (2013–2017)                     Drama   \n",
       "96  A Series of Unfortunate Events  (2017–2019)  Adventure, Comedy, Drama   \n",
       "97                  Criminal Minds     (2005– )     Crime, Drama, Mystery   \n",
       "98           Scream: The TV Series  (2015–2019)      Comedy, Crime, Drama   \n",
       "99      The Haunting of Hill House       (2018)    Drama, Horror, Mystery   \n",
       "\n",
       "   Run_time Ratings      Votes  \n",
       "0    57 min     9.2  2,173,886  \n",
       "1    51 min     8.7  1,251,712  \n",
       "2    44 min     8.1  1,032,578  \n",
       "3    60 min     7.5    303,582  \n",
       "4    43 min     7.6    262,752  \n",
       "..      ...     ...        ...  \n",
       "95   42 min     7.4     51,965  \n",
       "96   50 min     7.8     63,997  \n",
       "97   42 min     8.1    208,555  \n",
       "98   45 min     7.1     43,403  \n",
       "99  572 min     8.6    260,236  \n",
       "\n",
       "[100 rows x 6 columns]"
      ]
     },
     "execution_count": 35,
     "metadata": {},
     "output_type": "execute_result"
    }
   ],
   "source": [
    "Most_Watched_TV_Series"
   ]
  },
  {
   "cell_type": "markdown",
   "id": "cd691e6e",
   "metadata": {},
   "source": [
    "Q8) Details of Datasetsfrom UCI machine learning repositories. \n",
    "Url = https://archive.ics.uci.edu/\n",
    "You have to find the following details:\n",
    "A) Dataset name\n",
    "B) Data type\n",
    "C) Task\n",
    "D) Attribute type\n",
    "E) No of instances\n",
    "F) No of attribute\n",
    "G) Year\n",
    "Note: - from the home page you have to go to the ShowAllDataset page through code."
   ]
  },
  {
   "cell_type": "code",
   "execution_count": 59,
   "id": "2dc25392",
   "metadata": {},
   "outputs": [],
   "source": [
    "from bs4 import BeautifulSoup\n",
    "import selenium\n",
    "from selenium import webdriver\n",
    "import pandas as pd\n",
    "import warnings\n",
    "warnings.filterwarnings('ignore')\n",
    "from selenium.webdriver.common.by import By\n",
    "import time\n",
    "from selenium.common.exceptions import NoSuchElementException"
   ]
  },
  {
   "cell_type": "code",
   "execution_count": 60,
   "id": "3a0901da",
   "metadata": {},
   "outputs": [],
   "source": [
    "driver = webdriver.Chrome(r'C:\\Users\\Kushal Kulkarni\\Downloads\\chromedriver.exe')"
   ]
  },
  {
   "cell_type": "code",
   "execution_count": 4,
   "id": "a558c12a",
   "metadata": {},
   "outputs": [],
   "source": [
    "driver.get('https://archive.ics.uci.edu/')"
   ]
  },
  {
   "cell_type": "code",
   "execution_count": 5,
   "id": "c79e74d9",
   "metadata": {},
   "outputs": [],
   "source": [
    "s = driver.find_element(By.XPATH,'/html/body/div/div[1]/div[1]/main/div/div[1]/div/div/div/a[1]')\n",
    "s.click()"
   ]
  },
  {
   "cell_type": "code",
   "execution_count": 6,
   "id": "8856a6db",
   "metadata": {},
   "outputs": [],
   "source": [
    "Dataset_name = []\n",
    "\n",
    "dt = driver.find_elements(By.XPATH,'/html/body/div/div[1]/div[1]/main/div/div[2]/div[2]/div/div/div[2]/h2/a')\n",
    "\n",
    "for i in dt:\n",
    "    Dataset_name.append(i.text)"
   ]
  },
  {
   "cell_type": "code",
   "execution_count": 7,
   "id": "f7e3ff65",
   "metadata": {},
   "outputs": [
    {
     "data": {
      "text/plain": [
       "10"
      ]
     },
     "execution_count": 7,
     "metadata": {},
     "output_type": "execute_result"
    }
   ],
   "source": [
    "len(Dataset_name)"
   ]
  },
  {
   "cell_type": "code",
   "execution_count": 8,
   "id": "a21597df",
   "metadata": {},
   "outputs": [],
   "source": [
    "Data_Type = []\n",
    "\n",
    "dt1 = driver.find_elements(By.XPATH,'/html/body/div/div[1]/div[1]/main/div/div[2]/div[2]/div/div/div[2]/div/div[1]/span')\n",
    "\n",
    "for i in dt1:\n",
    "    Data_Type.append(i.text)"
   ]
  },
  {
   "cell_type": "code",
   "execution_count": 9,
   "id": "5c9fe17e",
   "metadata": {},
   "outputs": [
    {
     "data": {
      "text/plain": [
       "10"
      ]
     },
     "execution_count": 9,
     "metadata": {},
     "output_type": "execute_result"
    }
   ],
   "source": [
    "len(Data_Type)"
   ]
  },
  {
   "cell_type": "code",
   "execution_count": 10,
   "id": "f8884179",
   "metadata": {},
   "outputs": [],
   "source": [
    "Task = []\n",
    "\n",
    "task = driver.find_elements(By.XPATH,'/html/body/div/div[1]/div[1]/main/div/div[2]/div[2]/div/div/div[2]/div/div[2]/span')\n",
    "\n",
    "for i in task:\n",
    "    Task.append(i.text)"
   ]
  },
  {
   "cell_type": "code",
   "execution_count": 11,
   "id": "d47e623c",
   "metadata": {},
   "outputs": [
    {
     "data": {
      "text/plain": [
       "10"
      ]
     },
     "execution_count": 11,
     "metadata": {},
     "output_type": "execute_result"
    }
   ],
   "source": [
    "len(Task)"
   ]
  },
  {
   "cell_type": "code",
   "execution_count": 12,
   "id": "4a853492",
   "metadata": {},
   "outputs": [],
   "source": [
    "url = []\n",
    "\n",
    "ur = driver.find_elements(By.XPATH,'//a[@class=\"link-hover link text-xl font-semibold\"]')\n",
    "\n",
    "for i in ur:\n",
    "    url.append(i.get_attribute('href'))"
   ]
  },
  {
   "cell_type": "code",
   "execution_count": 13,
   "id": "ec6febfd",
   "metadata": {},
   "outputs": [
    {
     "data": {
      "text/plain": [
       "10"
      ]
     },
     "execution_count": 13,
     "metadata": {},
     "output_type": "execute_result"
    }
   ],
   "source": [
    "len(url)"
   ]
  },
  {
   "cell_type": "code",
   "execution_count": 18,
   "id": "1aa6e9d6",
   "metadata": {},
   "outputs": [],
   "source": [
    "Attribute_type = []\n",
    "\n",
    "for i in url:\n",
    "    driver.get(i)\n",
    "    time.sleep(3)\n",
    "    try:\n",
    "        att = driver.find_element(By.XPATH,'/html/body/div/div[1]/div[1]/main/div/div[1]/div[1]/div[2]/div[2]/div[4]/p')\n",
    "        Attribute_type.append(att.text)\n",
    "    except NoSuchElementException:             \n",
    "        Attribute_type.append('-')"
   ]
  },
  {
   "cell_type": "code",
   "execution_count": 19,
   "id": "b0a3a2ea",
   "metadata": {},
   "outputs": [
    {
     "data": {
      "text/plain": [
       "10"
      ]
     },
     "execution_count": 19,
     "metadata": {},
     "output_type": "execute_result"
    }
   ],
   "source": [
    "len(Attribute_type)"
   ]
  },
  {
   "cell_type": "code",
   "execution_count": 20,
   "id": "2f819f61",
   "metadata": {},
   "outputs": [
    {
     "data": {
      "text/plain": [
       "['Real',\n",
       " 'Categorical, Integer, Real',\n",
       " 'Categorical, Integer',\n",
       " 'Integer, Real',\n",
       " 'Categorical, Integer',\n",
       " 'Real',\n",
       " 'Integer, Real',\n",
       " 'Categorical',\n",
       " 'Real',\n",
       " 'Categorical']"
      ]
     },
     "execution_count": 20,
     "metadata": {},
     "output_type": "execute_result"
    }
   ],
   "source": [
    "Attribute_type"
   ]
  },
  {
   "cell_type": "code",
   "execution_count": 23,
   "id": "85bc826b",
   "metadata": {},
   "outputs": [],
   "source": [
    "No_of_instances = []\n",
    "\n",
    "for i in url:\n",
    "    driver.get(i)\n",
    "    time.sleep(3)\n",
    "    try:\n",
    "        no = driver.find_element(By.XPATH,'/html/body/div/div[1]/div[1]/main/div/div[1]/div[1]/div[2]/div[2]/div[5]/p')\n",
    "        No_of_instances.append(no.text)\n",
    "    except NoSuchElementException:\n",
    "        No_of_instances.append(no.text)"
   ]
  },
  {
   "cell_type": "code",
   "execution_count": 24,
   "id": "899cc248",
   "metadata": {},
   "outputs": [
    {
     "data": {
      "text/plain": [
       "10"
      ]
     },
     "execution_count": 24,
     "metadata": {},
     "output_type": "execute_result"
    }
   ],
   "source": [
    "len(No_of_instances)"
   ]
  },
  {
   "cell_type": "code",
   "execution_count": 25,
   "id": "74632ac5",
   "metadata": {},
   "outputs": [
    {
     "data": {
      "text/plain": [
       "['150', '303', '48842', '13611', '-', '3810', '178', '1728', '569', '8124']"
      ]
     },
     "execution_count": 25,
     "metadata": {},
     "output_type": "execute_result"
    }
   ],
   "source": [
    "No_of_instances"
   ]
  },
  {
   "cell_type": "code",
   "execution_count": 26,
   "id": "8ac1a431",
   "metadata": {},
   "outputs": [],
   "source": [
    "No_of_attribute = []\n",
    "\n",
    "for i in url:\n",
    "    driver.get(i)\n",
    "    time.sleep(3)\n",
    "    try:\n",
    "        noo = driver.find_element(By.XPATH,'/html/body/div/div[1]/div[1]/main/div/div[1]/div[1]/div[2]/div[2]/div[6]/p')\n",
    "        No_of_attribute.append(noo.text)\n",
    "    except NoSuchElementException:\n",
    "        No_of_attribute.append(noo.text)"
   ]
  },
  {
   "cell_type": "code",
   "execution_count": 27,
   "id": "042dae15",
   "metadata": {},
   "outputs": [
    {
     "data": {
      "text/plain": [
       "10"
      ]
     },
     "execution_count": 27,
     "metadata": {},
     "output_type": "execute_result"
    }
   ],
   "source": [
    "len(No_of_attribute)"
   ]
  },
  {
   "cell_type": "code",
   "execution_count": 28,
   "id": "31d62e8d",
   "metadata": {},
   "outputs": [
    {
     "data": {
      "text/plain": [
       "['4', '13', '14', '17', '20', '8', '13', '6', '30', '22']"
      ]
     },
     "execution_count": 28,
     "metadata": {},
     "output_type": "execute_result"
    }
   ],
   "source": [
    "No_of_attribute"
   ]
  },
  {
   "cell_type": "code",
   "execution_count": 30,
   "id": "113a0676",
   "metadata": {},
   "outputs": [],
   "source": [
    "Year_note = []\n",
    "\n",
    "for i in url:\n",
    "    driver.get(i)\n",
    "    time.sleep(3)\n",
    "    try:\n",
    "        ye = driver.find_element(By.XPATH,'/html/body/div/div[1]/div[1]/main/div/div[1]/div[1]/div[1]/div[2]/h2')\n",
    "        Year_note.append(ye.text)\n",
    "    except NoSuchElementException:\n",
    "        Year_note.append('-')"
   ]
  },
  {
   "cell_type": "code",
   "execution_count": 31,
   "id": "48d59021",
   "metadata": {},
   "outputs": [
    {
     "data": {
      "text/plain": [
       "10"
      ]
     },
     "execution_count": 31,
     "metadata": {},
     "output_type": "execute_result"
    }
   ],
   "source": [
    "len(Year_note)"
   ]
  },
  {
   "cell_type": "code",
   "execution_count": 32,
   "id": "50628d97",
   "metadata": {},
   "outputs": [
    {
     "data": {
      "text/plain": [
       "['Donated on 6/30/1988',\n",
       " 'Donated on 6/30/1988',\n",
       " 'Donated on 4/30/1996',\n",
       " 'Donated on 9/13/2020',\n",
       " '-',\n",
       " 'Donated on 10/5/2019',\n",
       " 'Donated on 6/30/1991',\n",
       " 'Donated on 5/31/1997',\n",
       " 'Donated on 10/31/1995',\n",
       " 'Donated on 4/26/1987']"
      ]
     },
     "execution_count": 32,
     "metadata": {},
     "output_type": "execute_result"
    }
   ],
   "source": [
    "Year_note"
   ]
  },
  {
   "cell_type": "code",
   "execution_count": 33,
   "id": "1f249903",
   "metadata": {},
   "outputs": [],
   "source": [
    "UCI_Datasets = pd.DataFrame({'Dataset_name': Dataset_name, 'Data_Type': Data_Type, 'Task': Task, 'Attribute_type': Attribute_type, 'No_of_instances': No_of_instances, 'No_of_attribute': No_of_attribute, 'Year_note': Year_note})"
   ]
  },
  {
   "cell_type": "code",
   "execution_count": 34,
   "id": "e6278638",
   "metadata": {},
   "outputs": [
    {
     "data": {
      "text/html": [
       "<div>\n",
       "<style scoped>\n",
       "    .dataframe tbody tr th:only-of-type {\n",
       "        vertical-align: middle;\n",
       "    }\n",
       "\n",
       "    .dataframe tbody tr th {\n",
       "        vertical-align: top;\n",
       "    }\n",
       "\n",
       "    .dataframe thead th {\n",
       "        text-align: right;\n",
       "    }\n",
       "</style>\n",
       "<table border=\"1\" class=\"dataframe\">\n",
       "  <thead>\n",
       "    <tr style=\"text-align: right;\">\n",
       "      <th></th>\n",
       "      <th>Dataset_name</th>\n",
       "      <th>Data_Type</th>\n",
       "      <th>Task</th>\n",
       "      <th>Attribute_type</th>\n",
       "      <th>No_of_instances</th>\n",
       "      <th>No_of_attribute</th>\n",
       "      <th>Year_note</th>\n",
       "    </tr>\n",
       "  </thead>\n",
       "  <tbody>\n",
       "    <tr>\n",
       "      <th>0</th>\n",
       "      <td>Iris</td>\n",
       "      <td>Classification</td>\n",
       "      <td>Multivariate</td>\n",
       "      <td>Real</td>\n",
       "      <td>150</td>\n",
       "      <td>4</td>\n",
       "      <td>Donated on 6/30/1988</td>\n",
       "    </tr>\n",
       "    <tr>\n",
       "      <th>1</th>\n",
       "      <td>Heart Disease</td>\n",
       "      <td>Classification</td>\n",
       "      <td>Multivariate</td>\n",
       "      <td>Categorical, Integer, Real</td>\n",
       "      <td>303</td>\n",
       "      <td>13</td>\n",
       "      <td>Donated on 6/30/1988</td>\n",
       "    </tr>\n",
       "    <tr>\n",
       "      <th>2</th>\n",
       "      <td>Adult</td>\n",
       "      <td>Classification</td>\n",
       "      <td>Multivariate</td>\n",
       "      <td>Categorical, Integer</td>\n",
       "      <td>48842</td>\n",
       "      <td>14</td>\n",
       "      <td>Donated on 4/30/1996</td>\n",
       "    </tr>\n",
       "    <tr>\n",
       "      <th>3</th>\n",
       "      <td>Dry Bean Dataset</td>\n",
       "      <td>Classification</td>\n",
       "      <td>Multivariate</td>\n",
       "      <td>Integer, Real</td>\n",
       "      <td>13611</td>\n",
       "      <td>17</td>\n",
       "      <td>Donated on 9/13/2020</td>\n",
       "    </tr>\n",
       "    <tr>\n",
       "      <th>4</th>\n",
       "      <td>Diabetes</td>\n",
       "      <td></td>\n",
       "      <td></td>\n",
       "      <td>Categorical, Integer</td>\n",
       "      <td>-</td>\n",
       "      <td>20</td>\n",
       "      <td>-</td>\n",
       "    </tr>\n",
       "    <tr>\n",
       "      <th>5</th>\n",
       "      <td>Rice (Cammeo and Osmancik)</td>\n",
       "      <td>Classification</td>\n",
       "      <td>Multivariate</td>\n",
       "      <td>Real</td>\n",
       "      <td>3810</td>\n",
       "      <td>8</td>\n",
       "      <td>Donated on 10/5/2019</td>\n",
       "    </tr>\n",
       "    <tr>\n",
       "      <th>6</th>\n",
       "      <td>Wine</td>\n",
       "      <td>Classification</td>\n",
       "      <td>Multivariate</td>\n",
       "      <td>Integer, Real</td>\n",
       "      <td>178</td>\n",
       "      <td>13</td>\n",
       "      <td>Donated on 6/30/1991</td>\n",
       "    </tr>\n",
       "    <tr>\n",
       "      <th>7</th>\n",
       "      <td>Car Evaluation</td>\n",
       "      <td>Classification</td>\n",
       "      <td>Multivariate</td>\n",
       "      <td>Categorical</td>\n",
       "      <td>1728</td>\n",
       "      <td>6</td>\n",
       "      <td>Donated on 5/31/1997</td>\n",
       "    </tr>\n",
       "    <tr>\n",
       "      <th>8</th>\n",
       "      <td>Breast Cancer Wisconsin (Diagnostic)</td>\n",
       "      <td>Classification</td>\n",
       "      <td>Multivariate</td>\n",
       "      <td>Real</td>\n",
       "      <td>569</td>\n",
       "      <td>30</td>\n",
       "      <td>Donated on 10/31/1995</td>\n",
       "    </tr>\n",
       "    <tr>\n",
       "      <th>9</th>\n",
       "      <td>Mushroom</td>\n",
       "      <td>Classification</td>\n",
       "      <td>Multivariate</td>\n",
       "      <td>Categorical</td>\n",
       "      <td>8124</td>\n",
       "      <td>22</td>\n",
       "      <td>Donated on 4/26/1987</td>\n",
       "    </tr>\n",
       "  </tbody>\n",
       "</table>\n",
       "</div>"
      ],
      "text/plain": [
       "                           Dataset_name       Data_Type          Task  \\\n",
       "0                                  Iris  Classification  Multivariate   \n",
       "1                         Heart Disease  Classification  Multivariate   \n",
       "2                                 Adult  Classification  Multivariate   \n",
       "3                      Dry Bean Dataset  Classification  Multivariate   \n",
       "4                              Diabetes                                 \n",
       "5            Rice (Cammeo and Osmancik)  Classification  Multivariate   \n",
       "6                                  Wine  Classification  Multivariate   \n",
       "7                        Car Evaluation  Classification  Multivariate   \n",
       "8  Breast Cancer Wisconsin (Diagnostic)  Classification  Multivariate   \n",
       "9                              Mushroom  Classification  Multivariate   \n",
       "\n",
       "               Attribute_type No_of_instances No_of_attribute  \\\n",
       "0                        Real             150               4   \n",
       "1  Categorical, Integer, Real             303              13   \n",
       "2        Categorical, Integer           48842              14   \n",
       "3               Integer, Real           13611              17   \n",
       "4        Categorical, Integer               -              20   \n",
       "5                        Real            3810               8   \n",
       "6               Integer, Real             178              13   \n",
       "7                 Categorical            1728               6   \n",
       "8                        Real             569              30   \n",
       "9                 Categorical            8124              22   \n",
       "\n",
       "               Year_note  \n",
       "0   Donated on 6/30/1988  \n",
       "1   Donated on 6/30/1988  \n",
       "2   Donated on 4/30/1996  \n",
       "3   Donated on 9/13/2020  \n",
       "4                      -  \n",
       "5   Donated on 10/5/2019  \n",
       "6   Donated on 6/30/1991  \n",
       "7   Donated on 5/31/1997  \n",
       "8  Donated on 10/31/1995  \n",
       "9   Donated on 4/26/1987  "
      ]
     },
     "execution_count": 34,
     "metadata": {},
     "output_type": "execute_result"
    }
   ],
   "source": [
    "UCI_Datasets"
   ]
  },
  {
   "cell_type": "markdown",
   "id": "79dd0675",
   "metadata": {},
   "source": [
    "Q9)Scrape the details of Data science recruiters Url = https://www.naukri.com/hr-recruiters-consultants\n",
    "You have to find the following details: \n",
    "A) Name\n",
    "B) Designation\n",
    "C)Company \n",
    "D)Skills they hire for \n",
    "E) Location\n",
    "Note: - From naukri.com homepage click on the recruiters option and the on the search pane type Data science and \n",
    "click on search. All this should be done through code"
   ]
  },
  {
   "cell_type": "code",
   "execution_count": 61,
   "id": "0f229ef1",
   "metadata": {},
   "outputs": [],
   "source": [
    "driver.get('https://www.naukri.com/')"
   ]
  },
  {
   "cell_type": "code",
   "execution_count": 78,
   "id": "2ff3b699",
   "metadata": {},
   "outputs": [],
   "source": [
    "s = driver.find_element(By.XPATH,'/html/body/div[1]/div[6]/div/div/div[1]/div/div/div/div[1]/div/input')\n",
    "s.send_keys('Data Science')"
   ]
  },
  {
   "cell_type": "code",
   "execution_count": 80,
   "id": "26ba5f18",
   "metadata": {},
   "outputs": [],
   "source": [
    "s1 = driver.find_element(By.XPATH,'/html/body/div[1]/div[6]/div/div/div[6]')\n",
    "s1.click()"
   ]
  },
  {
   "cell_type": "code",
   "execution_count": 40,
   "id": "94d2d856",
   "metadata": {},
   "outputs": [],
   "source": [
    "Job_name = []\n",
    "\n",
    "jo = driver.find_elements(By.XPATH,'/html/body/div[1]/div[4]/div/div/section[2]/div[2]/article/div[1]/div/a')\n",
    "\n",
    "for i in jo:\n",
    "    Job_name.append(i.text)"
   ]
  },
  {
   "cell_type": "code",
   "execution_count": 69,
   "id": "afb98863",
   "metadata": {},
   "outputs": [
    {
     "data": {
      "text/plain": [
       "['L&D Trainer - Python & Data Science/Data Analytics',\n",
       " 'Data Science Engineer',\n",
       " 'Engineer II- Data Science & Analytics',\n",
       " 'Senior Analyst, Data Science',\n",
       " 'Manager/Sr. Manager - GPS Safety Data Sciences',\n",
       " 'Data Science Senior Analyst',\n",
       " 'Data Science Engineer',\n",
       " 'Software Engineer, Data Science',\n",
       " 'Senior Analyst, Data Science',\n",
       " 'Data Science Manager',\n",
       " 'Data Science Engineer',\n",
       " 'Data Science Analyst',\n",
       " 'Sr Associate Data Science & Analytics',\n",
       " 'Senior Software Engineer, Data Science',\n",
       " 'Data Science Manager - Machine Learning/Predictive Modeling',\n",
       " 'Senior Manager Data Science Global',\n",
       " 'Senior Manager-Data Science',\n",
       " 'Data Science Analytics Sr Analyst - Data Science',\n",
       " 'Cluster Manager - PL - Data Science',\n",
       " 'Manager, Identity Data Science']"
      ]
     },
     "execution_count": 69,
     "metadata": {},
     "output_type": "execute_result"
    }
   ],
   "source": [
    "Job_name"
   ]
  },
  {
   "cell_type": "code",
   "execution_count": 70,
   "id": "8f2ce08c",
   "metadata": {},
   "outputs": [
    {
     "data": {
      "text/plain": [
       "20"
      ]
     },
     "execution_count": 70,
     "metadata": {},
     "output_type": "execute_result"
    }
   ],
   "source": [
    "len(Job_name)"
   ]
  },
  {
   "cell_type": "code",
   "execution_count": 53,
   "id": "0cb0e076",
   "metadata": {},
   "outputs": [],
   "source": [
    "url = []\n",
    "\n",
    "ur = driver.find_elements(By.XPATH,'//a[@class=\"title ellipsis\"]')\n",
    "\n",
    "for i in ur:\n",
    "    url.append(i.get_attribute('href'))"
   ]
  },
  {
   "cell_type": "code",
   "execution_count": 54,
   "id": "d2249717",
   "metadata": {},
   "outputs": [
    {
     "data": {
      "text/plain": [
       "20"
      ]
     },
     "execution_count": 54,
     "metadata": {},
     "output_type": "execute_result"
    }
   ],
   "source": [
    "len(url)"
   ]
  },
  {
   "cell_type": "code",
   "execution_count": 74,
   "id": "8732a4db",
   "metadata": {},
   "outputs": [],
   "source": [
    "Company_name = []\n",
    "\n",
    "for i in url:\n",
    "    driver.get(i)\n",
    "    time.sleep(3)\n",
    "    try:\n",
    "        com = driver.find_element(By.XPATH,'/html/body/div[1]/main/div[2]/div[1]/section[1]/div[1]/div[1]/div[1]')\n",
    "        Company_name.append(com.text)\n",
    "    except NoSuchElementException:\n",
    "        Company_name.append('-')"
   ]
  },
  {
   "cell_type": "code",
   "execution_count": 81,
   "id": "a5ae2665",
   "metadata": {},
   "outputs": [],
   "source": [
    "com1 = driver.find_elements(By.XPATH,'/html/body/div[1]/div[4]/div/div/section[2]/div[2]/article/div[1]/div[1]/div/a[1]')\n",
    "\n",
    "for i in com1:\n",
    "    Company_name.append(i.text)"
   ]
  },
  {
   "cell_type": "code",
   "execution_count": 82,
   "id": "2cbed504",
   "metadata": {},
   "outputs": [
    {
     "data": {
      "text/plain": [
       "['AVE-Promagne Business Solutions',\n",
       " 'Bizongo',\n",
       " 'Raytheon Technologies',\n",
       " 'DUN BRADSTREET INFORMATION SERVICES INDIA PRIVATE LIMITED',\n",
       " 'Eli Lilly And Company',\n",
       " 'Accenture',\n",
       " 'Augusta Infotech',\n",
       " 'Epiq Systems',\n",
       " 'Venator Holdings',\n",
       " 'Tredence',\n",
       " 'Conneqt Digital',\n",
       " 'Accenture',\n",
       " 'Carrier',\n",
       " 'Epiq Global',\n",
       " 'HyrEzy Talent Solution',\n",
       " 'Red Hat',\n",
       " 'Ola',\n",
       " 'Accenture',\n",
       " 'Bajaj Finserv Ltd.',\n",
       " 'Xoom']"
      ]
     },
     "execution_count": 82,
     "metadata": {},
     "output_type": "execute_result"
    }
   ],
   "source": [
    "Company_name"
   ]
  },
  {
   "cell_type": "code",
   "execution_count": 83,
   "id": "f3ea3cc9",
   "metadata": {},
   "outputs": [
    {
     "data": {
      "text/plain": [
       "20"
      ]
     },
     "execution_count": 83,
     "metadata": {},
     "output_type": "execute_result"
    }
   ],
   "source": [
    "len(Company_name)"
   ]
  },
  {
   "cell_type": "code",
   "execution_count": 84,
   "id": "035c0c31",
   "metadata": {},
   "outputs": [],
   "source": [
    "Skills = []\n",
    "\n",
    "for i in url:\n",
    "    driver.get(i)\n",
    "    time.sleep(5)\n",
    "    try:\n",
    "        sk =driver.find_element(By.XPATH,'/html/body/div[1]/main/div[2]/div[1]/section[2]/div[4]/div[2]')\n",
    "        Skills.append(sk.text)\n",
    "    except NoSuchElementException :\n",
    "        Skills.append('-')"
   ]
  },
  {
   "cell_type": "code",
   "execution_count": 85,
   "id": "6c6e5604",
   "metadata": {},
   "outputs": [
    {
     "data": {
      "text/plain": [
       "['Skills highlighted with ‘‘ are preferred keyskills',\n",
       " 'algorithmspythonnatural language processingneural networksbusiness analyticsmachine learningresearchartificial intelligencetext analyticsanalyticsdeep learningtensorflowjavadata sciencecomputer visiondesignkerastext miningopencvmlpattern recognition',\n",
       " 'Skills highlighted with ‘‘ are preferred keyskills',\n",
       " 'Data analysisStatistical modelingdata scienceAnalyticalMachine learningHTMLMonitoringSQLPythonRecruitment',\n",
       " 'Data analysisBusiness objectsData validationOperational excellenceHealthcareSystem developmentAnalyticsPython',\n",
       " '-',\n",
       " '-',\n",
       " 'Skills highlighted with ‘‘ are preferred keyskills',\n",
       " 'Data analysisStatistical modelingdata scienceAnalyticalMachine learningHTMLMonitoringSQLPythonRecruitment',\n",
       " 'Career developmentdata scienceAnalyticalConsultingMachine learningNatural language processingManagementNew business developmentPythontext analytics',\n",
       " 'Skills highlighted with ‘‘ are preferred keyskills',\n",
       " '-',\n",
       " 'Performance tuningSystem testingDTPTesting toolsTechnical ExpertFunctional AnalystSAP BWDesign developmentSQL scriptingAnalytics',\n",
       " 'Product managementUI developmentC++DjangoAnalyticalMachine learningData processingNatural language processingdata visualizationPython',\n",
       " 'Skills highlighted with ‘‘ are preferred keyskills',\n",
       " 'Skills highlighted with ‘‘ are preferred keyskills',\n",
       " 'Skills highlighted with ‘‘ are preferred keyskills',\n",
       " '-',\n",
       " 'Analytical skillsData analysisPrototypedata scienceTechnical designProduct portfolioConceptualizationMathematicsStatisticsPersonal loans',\n",
       " 'Computer scienceStatistical programmingData analysisAnalyticalInstrumentationTeradataAnalyticsFinancial servicesSQLPython']"
      ]
     },
     "execution_count": 85,
     "metadata": {},
     "output_type": "execute_result"
    }
   ],
   "source": [
    "Skills"
   ]
  },
  {
   "cell_type": "code",
   "execution_count": 86,
   "id": "cf093ed8",
   "metadata": {},
   "outputs": [
    {
     "data": {
      "text/plain": [
       "20"
      ]
     },
     "execution_count": 86,
     "metadata": {},
     "output_type": "execute_result"
    }
   ],
   "source": [
    "len(Skills)"
   ]
  },
  {
   "cell_type": "code",
   "execution_count": 87,
   "id": "a2894917",
   "metadata": {},
   "outputs": [],
   "source": [
    "Location = []\n",
    "\n",
    "for i in url:\n",
    "    driver.get(i)\n",
    "    time.sleep(3)\n",
    "    try:\n",
    "        loc = driver.find_element(By.XPATH,'/html/body/div[1]/main/div[2]/div[1]/section[1]/div[1]/div[2]/div[2]/span')\n",
    "        Location.append(loc.text)\n",
    "    except NoSuchElementException:\n",
    "        Location.append('-')"
   ]
  },
  {
   "cell_type": "code",
   "execution_count": 88,
   "id": "30ca23ff",
   "metadata": {},
   "outputs": [
    {
     "data": {
      "text/plain": [
       "['Kolkata, Mumbai, Hyderabad/Secunderabad, Pune, Chennai, Ahmedabad, Delhi / NCR, Bangalore/Bengaluru',\n",
       " 'Bangalore/Bengaluru',\n",
       " 'Hybrid',\n",
       " 'Hyderabad/Secunderabad',\n",
       " 'Bangalore/Bengaluru',\n",
       " '-',\n",
       " 'Bangalore/ Bengaluru,Karnataka( Electronic City )',\n",
       " 'Hybrid',\n",
       " 'Hyderabad/Secunderabad',\n",
       " 'Kolkata, Mumbai, New Delhi, Hyderabad/Secunderabad, Pune, Chennai, Bangalore/Bengaluru',\n",
       " 'Hybrid',\n",
       " '-',\n",
       " 'Hyderabad/Secunderabad',\n",
       " 'Hyderabad/Secunderabad, Pune',\n",
       " 'Bangalore/Bengaluru',\n",
       " 'Bangalore/Bengaluru',\n",
       " 'Bangalore/Bengaluru',\n",
       " '-',\n",
       " 'Pune',\n",
       " 'Chennai']"
      ]
     },
     "execution_count": 88,
     "metadata": {},
     "output_type": "execute_result"
    }
   ],
   "source": [
    "Location"
   ]
  },
  {
   "cell_type": "code",
   "execution_count": 89,
   "id": "8d2b36f3",
   "metadata": {},
   "outputs": [
    {
     "data": {
      "text/plain": [
       "20"
      ]
     },
     "execution_count": 89,
     "metadata": {},
     "output_type": "execute_result"
    }
   ],
   "source": [
    "len(Location)"
   ]
  },
  {
   "cell_type": "code",
   "execution_count": 90,
   "id": "dc150031",
   "metadata": {},
   "outputs": [],
   "source": [
    "Data_science_jobs = pd.DataFrame({'Job_name': Job_name, 'Company_name': Company_name, 'Skills': Skills, 'Location': Location})"
   ]
  },
  {
   "cell_type": "code",
   "execution_count": 91,
   "id": "8ba758ce",
   "metadata": {},
   "outputs": [
    {
     "data": {
      "text/html": [
       "<div>\n",
       "<style scoped>\n",
       "    .dataframe tbody tr th:only-of-type {\n",
       "        vertical-align: middle;\n",
       "    }\n",
       "\n",
       "    .dataframe tbody tr th {\n",
       "        vertical-align: top;\n",
       "    }\n",
       "\n",
       "    .dataframe thead th {\n",
       "        text-align: right;\n",
       "    }\n",
       "</style>\n",
       "<table border=\"1\" class=\"dataframe\">\n",
       "  <thead>\n",
       "    <tr style=\"text-align: right;\">\n",
       "      <th></th>\n",
       "      <th>Job_name</th>\n",
       "      <th>Company_name</th>\n",
       "      <th>Skills</th>\n",
       "      <th>Location</th>\n",
       "    </tr>\n",
       "  </thead>\n",
       "  <tbody>\n",
       "    <tr>\n",
       "      <th>0</th>\n",
       "      <td>L&amp;D Trainer - Python &amp; Data Science/Data Analy...</td>\n",
       "      <td>AVE-Promagne Business Solutions</td>\n",
       "      <td>Skills highlighted with ‘‘ are preferred keysk...</td>\n",
       "      <td>Kolkata, Mumbai, Hyderabad/Secunderabad, Pune,...</td>\n",
       "    </tr>\n",
       "    <tr>\n",
       "      <th>1</th>\n",
       "      <td>Data Science Engineer</td>\n",
       "      <td>Bizongo</td>\n",
       "      <td>algorithmspythonnatural language processingneu...</td>\n",
       "      <td>Bangalore/Bengaluru</td>\n",
       "    </tr>\n",
       "    <tr>\n",
       "      <th>2</th>\n",
       "      <td>Engineer II- Data Science &amp; Analytics</td>\n",
       "      <td>Raytheon Technologies</td>\n",
       "      <td>Skills highlighted with ‘‘ are preferred keysk...</td>\n",
       "      <td>Hybrid</td>\n",
       "    </tr>\n",
       "    <tr>\n",
       "      <th>3</th>\n",
       "      <td>Senior Analyst, Data Science</td>\n",
       "      <td>DUN BRADSTREET INFORMATION SERVICES INDIA PRIV...</td>\n",
       "      <td>Data analysisStatistical modelingdata scienceA...</td>\n",
       "      <td>Hyderabad/Secunderabad</td>\n",
       "    </tr>\n",
       "    <tr>\n",
       "      <th>4</th>\n",
       "      <td>Manager/Sr. Manager - GPS Safety Data Sciences</td>\n",
       "      <td>Eli Lilly And Company</td>\n",
       "      <td>Data analysisBusiness objectsData validationOp...</td>\n",
       "      <td>Bangalore/Bengaluru</td>\n",
       "    </tr>\n",
       "    <tr>\n",
       "      <th>5</th>\n",
       "      <td>Data Science Senior Analyst</td>\n",
       "      <td>Accenture</td>\n",
       "      <td>-</td>\n",
       "      <td>-</td>\n",
       "    </tr>\n",
       "    <tr>\n",
       "      <th>6</th>\n",
       "      <td>Data Science Engineer</td>\n",
       "      <td>Augusta Infotech</td>\n",
       "      <td>-</td>\n",
       "      <td>Bangalore/ Bengaluru,Karnataka( Electronic City )</td>\n",
       "    </tr>\n",
       "    <tr>\n",
       "      <th>7</th>\n",
       "      <td>Software Engineer, Data Science</td>\n",
       "      <td>Epiq Systems</td>\n",
       "      <td>Skills highlighted with ‘‘ are preferred keysk...</td>\n",
       "      <td>Hybrid</td>\n",
       "    </tr>\n",
       "    <tr>\n",
       "      <th>8</th>\n",
       "      <td>Senior Analyst, Data Science</td>\n",
       "      <td>Venator Holdings</td>\n",
       "      <td>Data analysisStatistical modelingdata scienceA...</td>\n",
       "      <td>Hyderabad/Secunderabad</td>\n",
       "    </tr>\n",
       "    <tr>\n",
       "      <th>9</th>\n",
       "      <td>Data Science Manager</td>\n",
       "      <td>Tredence</td>\n",
       "      <td>Career developmentdata scienceAnalyticalConsul...</td>\n",
       "      <td>Kolkata, Mumbai, New Delhi, Hyderabad/Secunder...</td>\n",
       "    </tr>\n",
       "    <tr>\n",
       "      <th>10</th>\n",
       "      <td>Data Science Engineer</td>\n",
       "      <td>Conneqt Digital</td>\n",
       "      <td>Skills highlighted with ‘‘ are preferred keysk...</td>\n",
       "      <td>Hybrid</td>\n",
       "    </tr>\n",
       "    <tr>\n",
       "      <th>11</th>\n",
       "      <td>Data Science Analyst</td>\n",
       "      <td>Accenture</td>\n",
       "      <td>-</td>\n",
       "      <td>-</td>\n",
       "    </tr>\n",
       "    <tr>\n",
       "      <th>12</th>\n",
       "      <td>Sr Associate Data Science &amp; Analytics</td>\n",
       "      <td>Carrier</td>\n",
       "      <td>Performance tuningSystem testingDTPTesting too...</td>\n",
       "      <td>Hyderabad/Secunderabad</td>\n",
       "    </tr>\n",
       "    <tr>\n",
       "      <th>13</th>\n",
       "      <td>Senior Software Engineer, Data Science</td>\n",
       "      <td>Epiq Global</td>\n",
       "      <td>Product managementUI developmentC++DjangoAnaly...</td>\n",
       "      <td>Hyderabad/Secunderabad, Pune</td>\n",
       "    </tr>\n",
       "    <tr>\n",
       "      <th>14</th>\n",
       "      <td>Data Science Manager - Machine Learning/Predic...</td>\n",
       "      <td>HyrEzy Talent Solution</td>\n",
       "      <td>Skills highlighted with ‘‘ are preferred keysk...</td>\n",
       "      <td>Bangalore/Bengaluru</td>\n",
       "    </tr>\n",
       "    <tr>\n",
       "      <th>15</th>\n",
       "      <td>Senior Manager Data Science Global</td>\n",
       "      <td>Red Hat</td>\n",
       "      <td>Skills highlighted with ‘‘ are preferred keysk...</td>\n",
       "      <td>Bangalore/Bengaluru</td>\n",
       "    </tr>\n",
       "    <tr>\n",
       "      <th>16</th>\n",
       "      <td>Senior Manager-Data Science</td>\n",
       "      <td>Ola</td>\n",
       "      <td>Skills highlighted with ‘‘ are preferred keysk...</td>\n",
       "      <td>Bangalore/Bengaluru</td>\n",
       "    </tr>\n",
       "    <tr>\n",
       "      <th>17</th>\n",
       "      <td>Data Science Analytics Sr Analyst - Data Science</td>\n",
       "      <td>Accenture</td>\n",
       "      <td>-</td>\n",
       "      <td>-</td>\n",
       "    </tr>\n",
       "    <tr>\n",
       "      <th>18</th>\n",
       "      <td>Cluster Manager - PL - Data Science</td>\n",
       "      <td>Bajaj Finserv Ltd.</td>\n",
       "      <td>Analytical skillsData analysisPrototypedata sc...</td>\n",
       "      <td>Pune</td>\n",
       "    </tr>\n",
       "    <tr>\n",
       "      <th>19</th>\n",
       "      <td>Manager, Identity Data Science</td>\n",
       "      <td>Xoom</td>\n",
       "      <td>Computer scienceStatistical programmingData an...</td>\n",
       "      <td>Chennai</td>\n",
       "    </tr>\n",
       "  </tbody>\n",
       "</table>\n",
       "</div>"
      ],
      "text/plain": [
       "                                             Job_name  \\\n",
       "0   L&D Trainer - Python & Data Science/Data Analy...   \n",
       "1                               Data Science Engineer   \n",
       "2               Engineer II- Data Science & Analytics   \n",
       "3                        Senior Analyst, Data Science   \n",
       "4      Manager/Sr. Manager - GPS Safety Data Sciences   \n",
       "5                         Data Science Senior Analyst   \n",
       "6                               Data Science Engineer   \n",
       "7                     Software Engineer, Data Science   \n",
       "8                        Senior Analyst, Data Science   \n",
       "9                                Data Science Manager   \n",
       "10                              Data Science Engineer   \n",
       "11                               Data Science Analyst   \n",
       "12              Sr Associate Data Science & Analytics   \n",
       "13             Senior Software Engineer, Data Science   \n",
       "14  Data Science Manager - Machine Learning/Predic...   \n",
       "15                 Senior Manager Data Science Global   \n",
       "16                        Senior Manager-Data Science   \n",
       "17   Data Science Analytics Sr Analyst - Data Science   \n",
       "18                Cluster Manager - PL - Data Science   \n",
       "19                     Manager, Identity Data Science   \n",
       "\n",
       "                                         Company_name  \\\n",
       "0                     AVE-Promagne Business Solutions   \n",
       "1                                             Bizongo   \n",
       "2                               Raytheon Technologies   \n",
       "3   DUN BRADSTREET INFORMATION SERVICES INDIA PRIV...   \n",
       "4                               Eli Lilly And Company   \n",
       "5                                           Accenture   \n",
       "6                                    Augusta Infotech   \n",
       "7                                        Epiq Systems   \n",
       "8                                    Venator Holdings   \n",
       "9                                            Tredence   \n",
       "10                                    Conneqt Digital   \n",
       "11                                          Accenture   \n",
       "12                                            Carrier   \n",
       "13                                        Epiq Global   \n",
       "14                             HyrEzy Talent Solution   \n",
       "15                                            Red Hat   \n",
       "16                                                Ola   \n",
       "17                                          Accenture   \n",
       "18                                 Bajaj Finserv Ltd.   \n",
       "19                                               Xoom   \n",
       "\n",
       "                                               Skills  \\\n",
       "0   Skills highlighted with ‘‘ are preferred keysk...   \n",
       "1   algorithmspythonnatural language processingneu...   \n",
       "2   Skills highlighted with ‘‘ are preferred keysk...   \n",
       "3   Data analysisStatistical modelingdata scienceA...   \n",
       "4   Data analysisBusiness objectsData validationOp...   \n",
       "5                                                   -   \n",
       "6                                                   -   \n",
       "7   Skills highlighted with ‘‘ are preferred keysk...   \n",
       "8   Data analysisStatistical modelingdata scienceA...   \n",
       "9   Career developmentdata scienceAnalyticalConsul...   \n",
       "10  Skills highlighted with ‘‘ are preferred keysk...   \n",
       "11                                                  -   \n",
       "12  Performance tuningSystem testingDTPTesting too...   \n",
       "13  Product managementUI developmentC++DjangoAnaly...   \n",
       "14  Skills highlighted with ‘‘ are preferred keysk...   \n",
       "15  Skills highlighted with ‘‘ are preferred keysk...   \n",
       "16  Skills highlighted with ‘‘ are preferred keysk...   \n",
       "17                                                  -   \n",
       "18  Analytical skillsData analysisPrototypedata sc...   \n",
       "19  Computer scienceStatistical programmingData an...   \n",
       "\n",
       "                                             Location  \n",
       "0   Kolkata, Mumbai, Hyderabad/Secunderabad, Pune,...  \n",
       "1                                 Bangalore/Bengaluru  \n",
       "2                                              Hybrid  \n",
       "3                              Hyderabad/Secunderabad  \n",
       "4                                 Bangalore/Bengaluru  \n",
       "5                                                   -  \n",
       "6   Bangalore/ Bengaluru,Karnataka( Electronic City )  \n",
       "7                                              Hybrid  \n",
       "8                              Hyderabad/Secunderabad  \n",
       "9   Kolkata, Mumbai, New Delhi, Hyderabad/Secunder...  \n",
       "10                                             Hybrid  \n",
       "11                                                  -  \n",
       "12                             Hyderabad/Secunderabad  \n",
       "13                       Hyderabad/Secunderabad, Pune  \n",
       "14                                Bangalore/Bengaluru  \n",
       "15                                Bangalore/Bengaluru  \n",
       "16                                Bangalore/Bengaluru  \n",
       "17                                                  -  \n",
       "18                                               Pune  \n",
       "19                                            Chennai  "
      ]
     },
     "execution_count": 91,
     "metadata": {},
     "output_type": "execute_result"
    }
   ],
   "source": [
    "Data_science_jobs"
   ]
  },
  {
   "cell_type": "code",
   "execution_count": null,
   "id": "cc815c06",
   "metadata": {},
   "outputs": [],
   "source": []
  },
  {
   "cell_type": "code",
   "execution_count": null,
   "id": "0a503c88",
   "metadata": {},
   "outputs": [],
   "source": []
  },
  {
   "cell_type": "code",
   "execution_count": null,
   "id": "c80e9815",
   "metadata": {},
   "outputs": [],
   "source": []
  },
  {
   "cell_type": "code",
   "execution_count": null,
   "id": "db4e2e44",
   "metadata": {},
   "outputs": [],
   "source": []
  },
  {
   "cell_type": "code",
   "execution_count": null,
   "id": "aab8581c",
   "metadata": {},
   "outputs": [],
   "source": []
  },
  {
   "cell_type": "code",
   "execution_count": null,
   "id": "e17bb0f0",
   "metadata": {},
   "outputs": [],
   "source": []
  },
  {
   "cell_type": "code",
   "execution_count": null,
   "id": "342f44a3",
   "metadata": {},
   "outputs": [],
   "source": []
  },
  {
   "cell_type": "code",
   "execution_count": null,
   "id": "e965ed09",
   "metadata": {},
   "outputs": [],
   "source": []
  },
  {
   "cell_type": "code",
   "execution_count": null,
   "id": "d02155ea",
   "metadata": {},
   "outputs": [],
   "source": []
  },
  {
   "cell_type": "code",
   "execution_count": null,
   "id": "c3156d41",
   "metadata": {},
   "outputs": [],
   "source": []
  },
  {
   "cell_type": "code",
   "execution_count": null,
   "id": "327e1326",
   "metadata": {},
   "outputs": [],
   "source": []
  },
  {
   "cell_type": "code",
   "execution_count": null,
   "id": "3707d4fc",
   "metadata": {},
   "outputs": [],
   "source": []
  },
  {
   "cell_type": "code",
   "execution_count": null,
   "id": "5fe60ab2",
   "metadata": {},
   "outputs": [],
   "source": []
  },
  {
   "cell_type": "code",
   "execution_count": null,
   "id": "0a56fa0a",
   "metadata": {},
   "outputs": [],
   "source": []
  },
  {
   "cell_type": "code",
   "execution_count": null,
   "id": "f1a4eda7",
   "metadata": {},
   "outputs": [],
   "source": []
  },
  {
   "cell_type": "code",
   "execution_count": null,
   "id": "df802563",
   "metadata": {},
   "outputs": [],
   "source": []
  },
  {
   "cell_type": "code",
   "execution_count": null,
   "id": "0e084232",
   "metadata": {},
   "outputs": [],
   "source": []
  },
  {
   "cell_type": "code",
   "execution_count": null,
   "id": "63064586",
   "metadata": {},
   "outputs": [],
   "source": []
  },
  {
   "cell_type": "code",
   "execution_count": null,
   "id": "e451c3bf",
   "metadata": {},
   "outputs": [],
   "source": []
  },
  {
   "cell_type": "code",
   "execution_count": null,
   "id": "7d691373",
   "metadata": {},
   "outputs": [],
   "source": []
  },
  {
   "cell_type": "code",
   "execution_count": null,
   "id": "f870fa3c",
   "metadata": {},
   "outputs": [],
   "source": []
  },
  {
   "cell_type": "code",
   "execution_count": null,
   "id": "7fbf5a2a",
   "metadata": {},
   "outputs": [],
   "source": []
  },
  {
   "cell_type": "code",
   "execution_count": null,
   "id": "c318c339",
   "metadata": {},
   "outputs": [],
   "source": []
  },
  {
   "cell_type": "code",
   "execution_count": null,
   "id": "2e966ebc",
   "metadata": {},
   "outputs": [],
   "source": []
  },
  {
   "cell_type": "code",
   "execution_count": null,
   "id": "f45961b5",
   "metadata": {},
   "outputs": [],
   "source": []
  },
  {
   "cell_type": "code",
   "execution_count": null,
   "id": "2978d081",
   "metadata": {},
   "outputs": [],
   "source": []
  },
  {
   "cell_type": "code",
   "execution_count": null,
   "id": "6fc7a167",
   "metadata": {},
   "outputs": [],
   "source": []
  },
  {
   "cell_type": "code",
   "execution_count": null,
   "id": "cf535def",
   "metadata": {},
   "outputs": [],
   "source": []
  },
  {
   "cell_type": "code",
   "execution_count": null,
   "id": "2fb0be99",
   "metadata": {},
   "outputs": [],
   "source": []
  },
  {
   "cell_type": "code",
   "execution_count": null,
   "id": "0fd6d154",
   "metadata": {},
   "outputs": [],
   "source": []
  },
  {
   "cell_type": "code",
   "execution_count": null,
   "id": "ae2df811",
   "metadata": {},
   "outputs": [],
   "source": []
  },
  {
   "cell_type": "code",
   "execution_count": null,
   "id": "a8c8966a",
   "metadata": {},
   "outputs": [],
   "source": [
    "    "
   ]
  },
  {
   "cell_type": "code",
   "execution_count": null,
   "id": "e22845eb",
   "metadata": {},
   "outputs": [],
   "source": []
  },
  {
   "cell_type": "code",
   "execution_count": null,
   "id": "54f82af7",
   "metadata": {},
   "outputs": [],
   "source": []
  },
  {
   "cell_type": "code",
   "execution_count": null,
   "id": "98350934",
   "metadata": {},
   "outputs": [],
   "source": []
  },
  {
   "cell_type": "code",
   "execution_count": null,
   "id": "a962b55b",
   "metadata": {},
   "outputs": [],
   "source": []
  },
  {
   "cell_type": "code",
   "execution_count": null,
   "id": "5b2742e0",
   "metadata": {},
   "outputs": [],
   "source": []
  },
  {
   "cell_type": "code",
   "execution_count": null,
   "id": "e9567d89",
   "metadata": {},
   "outputs": [],
   "source": []
  },
  {
   "cell_type": "code",
   "execution_count": null,
   "id": "c29a5a3c",
   "metadata": {},
   "outputs": [],
   "source": []
  }
 ],
 "metadata": {
  "kernelspec": {
   "display_name": "Python 3 (ipykernel)",
   "language": "python",
   "name": "python3"
  },
  "language_info": {
   "codemirror_mode": {
    "name": "ipython",
    "version": 3
   },
   "file_extension": ".py",
   "mimetype": "text/x-python",
   "name": "python",
   "nbconvert_exporter": "python",
   "pygments_lexer": "ipython3",
   "version": "3.9.13"
  }
 },
 "nbformat": 4,
 "nbformat_minor": 5
}
